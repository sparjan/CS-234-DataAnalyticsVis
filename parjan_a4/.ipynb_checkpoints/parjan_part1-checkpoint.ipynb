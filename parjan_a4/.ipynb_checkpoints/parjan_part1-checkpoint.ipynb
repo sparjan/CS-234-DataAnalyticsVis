{
 "cells": [
  {
   "cell_type": "markdown",
   "metadata": {},
   "source": [
    "# Part 1: Analytic Distributions for Modeling\n",
    "\n",
    "\n",
    "Author: Shreya Parjan\n",
    "\n",
    "7 Oct 2019\n",
    "\n",
    "This notebook focuses on part 1 of assignment 4, where we will create a notebook (as well as a folder that will contain the packages used by the book) and in this notebook will document learning that combines both summarizing the concepts and trying out the various code snippets and interpreting their results. "
   ]
  },
  {
   "cell_type": "markdown",
   "metadata": {},
   "source": [
    "Collaboration: I discussed the assignment with Liz and got help from Sophie in help room.\n",
    "\n",
    "## Table of contents\n",
    "1. [0.1: \"analytic.py from the Text](#s0)\n",
    "2. [Ch5: Modeling Distributions](#s1)\n",
    "    - [The Exponential Distribution](#s2)\n",
    "    - [The Normal Distribution](#s3)\n",
    "    - [Normal Probability Plot](#s4)\n",
    "    - [The lognormal Distribution](#s5)\n",
    "2. [0.2: \"density.py\" from the Text](#s6)\n",
    "3. [Ch6: Probability Density Functions](#s7)\n",
    "    - [PDFs](#s8)\n",
    "    - [KDE](#s9)\n",
    "    - [The Distribution Framework](#s10)"
   ]
  },
  {
   "cell_type": "markdown",
   "metadata": {},
   "source": [
    "## 0.1) \"analytic.py\" from the Text\n",
    "<a id=\"s0\"></a>\n",
    "This section contains the code from \"analytic.py,\" the program referenced in the relevant examples from the text. I chose to place it here to centralize everything in Part 1."
   ]
  },
  {
   "cell_type": "code",
   "execution_count": 9,
   "metadata": {},
   "outputs": [
    {
     "name": "stdout",
     "output_type": "stream",
     "text": [
      "Writing analytic_normal_prob_example.pdf\n",
      "Writing analytic_normal_prob_example.png\n",
      "Writing analytic_expo_cdf.pdf\n",
      "Writing analytic_expo_cdf.png\n",
      "Writing analytic_interarrivals.pdf\n",
      "Writing analytic_interarrivals.png\n",
      "Writing analytic_pareto_cdf.pdf\n",
      "Writing analytic_pareto_cdf.png\n",
      "Writing analytic_pareto_height.pdf\n",
      "Writing analytic_pareto_height.png\n",
      "Writing analytic_normal_cdf.pdf\n",
      "Writing analytic_normal_cdf.png\n",
      "Mean, Var 7.280883100022579 1.5452125703544901\n",
      "Sigma 1.2430657948614345\n",
      "Writing analytic_birthwgt_model.pdf\n",
      "Writing analytic_birthwgt_model.png\n",
      "Writing analytic_birthwgt_normal.pdf\n",
      "Writing analytic_birthwgt_normal.png\n"
     ]
    },
    {
     "data": {
      "text/plain": [
       "<Figure size 576x432 with 0 Axes>"
      ]
     },
     "metadata": {},
     "output_type": "display_data"
    }
   ],
   "source": [
    "\"\"\"This file contains code used in \"Think Stats\",\n",
    "by Allen B. Downey, available from greenteapress.com\n",
    "Copyright 2010 Allen B. Downey\n",
    "License: GNU GPLv3 http://www.gnu.org/licenses/gpl.html\n",
    "\"\"\"\n",
    "\n",
    "from __future__ import print_function, division\n",
    "\n",
    "import math\n",
    "\n",
    "import numpy as np\n",
    "import pandas\n",
    "\n",
    "import nsfg\n",
    "import thinkplot\n",
    "import thinkstats2\n",
    "\n",
    "\n",
    "def ParetoMedian(xmin, alpha):\n",
    "    \"\"\"Computes the median of a Pareto distribution.\"\"\"\n",
    "    return xmin * pow(2, 1/alpha)\n",
    "\n",
    "\n",
    "def MakeExpoCdf():\n",
    "    \"\"\"Generates a plot of the exponential CDF.\"\"\"\n",
    "\n",
    "    thinkplot.PrePlot(3)\n",
    "    for lam in [2.0, 1, 0.5]:\n",
    "        xs, ps = thinkstats2.RenderExpoCdf(lam, 0, 3.0, 50)\n",
    "        label = r'$\\lambda=%g$' % lam\n",
    "        thinkplot.Plot(xs, ps, label=label)\n",
    "    \n",
    "    thinkplot.Save(root='analytic_expo_cdf',\n",
    "                   title='Exponential CDF',\n",
    "                   xlabel='x',\n",
    "                   ylabel='CDF')\n",
    "\n",
    "    \n",
    "def ReadBabyBoom(filename='babyboom.dat'):\n",
    "    \"\"\"Reads the babyboom data.\n",
    "    filename: string\n",
    "    returns: DataFrame\n",
    "    \"\"\"\n",
    "    var_info = [\n",
    "        ('time', 1, 8, int),\n",
    "        ('sex', 9, 16, int),\n",
    "        ('weight_g', 17, 24, int),\n",
    "        ('minutes', 25, 32, int),\n",
    "        ]\n",
    "    columns = ['name', 'start', 'end', 'type']\n",
    "    variables = pandas.DataFrame(var_info, columns=columns)\n",
    "    variables.end += 1\n",
    "    dct = thinkstats2.FixedWidthVariables(variables, index_base=1)\n",
    "\n",
    "    df = dct.ReadFixedWidth(filename, skiprows=59)\n",
    "    return df\n",
    "\n",
    "\n",
    "def MakeBabyBoom():\n",
    "    \"\"\"Plot CDF of interarrival time on log and linear scales.\n",
    "    \"\"\"\n",
    "    # compute the interarrival times\n",
    "    df = ReadBabyBoom()\n",
    "    diffs = df.minutes.diff()\n",
    "    cdf = thinkstats2.Cdf(diffs, label='actual')\n",
    "\n",
    "    thinkplot.PrePlot(cols=2)\n",
    "    thinkplot.Cdf(cdf)\n",
    "    thinkplot.Config(xlabel='minutes',\n",
    "                     ylabel='CDF',\n",
    "                     legend=False)\n",
    "\n",
    "    thinkplot.SubPlot(2)\n",
    "    thinkplot.Cdf(cdf, complement=True)\n",
    "    thinkplot.Config(xlabel='minutes',\n",
    "                     ylabel='CCDF',\n",
    "                     yscale='log',\n",
    "                     legend=False)\n",
    "\n",
    "    thinkplot.Save(root='analytic_interarrivals',\n",
    "                   legend=False)\n",
    "\n",
    "\n",
    "def MakeParetoCdf():\n",
    "    \"\"\"Generates a plot of the Pareto CDF.\"\"\"\n",
    "    xmin = 0.5\n",
    "\n",
    "    thinkplot.PrePlot(3)\n",
    "    for alpha in [2.0, 1.0, 0.5]:\n",
    "        xs, ps = thinkstats2.RenderParetoCdf(xmin, alpha, 0, 10.0, n=100) \n",
    "        thinkplot.Plot(xs, ps, label=r'$\\alpha=%g$' % alpha)\n",
    "    \n",
    "    thinkplot.Save(root='analytic_pareto_cdf',\n",
    "                   title='Pareto CDF',\n",
    "                   xlabel='x',\n",
    "                   ylabel='CDF')\n",
    "    \n",
    "\n",
    "def MakeParetoCdf2():\n",
    "    \"\"\"Generates a plot of the CDF of height in Pareto World.\"\"\"\n",
    "    xmin = 100\n",
    "    alpha = 1.7    \n",
    "    xs, ps = thinkstats2.RenderParetoCdf(xmin, alpha, 0, 1000.0, n=100) \n",
    "    thinkplot.Plot(xs, ps)\n",
    "\n",
    "    thinkplot.Save(root='analytic_pareto_height',\n",
    "                   title='Pareto CDF',\n",
    "                   xlabel='height (cm)',\n",
    "                   ylabel='CDF',\n",
    "                   legend=False)\n",
    "    \n",
    "\n",
    "def MakeNormalCdf():\n",
    "    \"\"\"Generates a plot of the normal CDF.\"\"\"\n",
    "    \n",
    "    thinkplot.PrePlot(3)\n",
    "\n",
    "    mus = [1.0, 2.0, 3.0]\n",
    "    sigmas = [0.5, 0.4, 0.3]\n",
    "    for mu, sigma in zip(mus, sigmas):\n",
    "        xs, ps = thinkstats2.RenderNormalCdf(mu=mu, sigma=sigma, \n",
    "                                               low=-1.0, high=4.0)\n",
    "        label = r'$\\mu=%g$, $\\sigma=%g$' % (mu, sigma)\n",
    "        thinkplot.Plot(xs, ps, label=label)\n",
    "\n",
    "    thinkplot.Save(root='analytic_normal_cdf',\n",
    "                   title='Normal CDF',\n",
    "                   xlabel='x',\n",
    "                   ylabel='CDF',\n",
    "                   loc=2)\n",
    "    \n",
    "    \n",
    "def MakeNormalModel(weights):\n",
    "    \"\"\"Plot the CDF of birthweights with a normal model.\"\"\"\n",
    "    \n",
    "    # estimate parameters: trimming outliers yields a better fit\n",
    "    mu, var = thinkstats2.TrimmedMeanVar(weights, p=0.01)\n",
    "    print('Mean, Var', mu, var)\n",
    "    \n",
    "    # plot the model\n",
    "    sigma = math.sqrt(var)\n",
    "    print('Sigma', sigma)\n",
    "    xs, ps = thinkstats2.RenderNormalCdf(mu, sigma, low=0, high=12.5)\n",
    "\n",
    "    thinkplot.Plot(xs, ps, label='model', color='0.8')\n",
    "\n",
    "    # plot the data\n",
    "    cdf = thinkstats2.Cdf(weights, label='data')\n",
    "\n",
    "    thinkplot.PrePlot(1)\n",
    "    thinkplot.Cdf(cdf) \n",
    "    thinkplot.Save(root='analytic_birthwgt_model',\n",
    "                   title='Birth weights',\n",
    "                   xlabel='birth weight (lbs)',\n",
    "                   ylabel='CDF')\n",
    "\n",
    "\n",
    "def MakeExampleNormalPlot():\n",
    "    \"\"\"Generates a sample normal probability plot.\n",
    "    \"\"\"\n",
    "    n = 1000\n",
    "    thinkplot.PrePlot(3) \n",
    "\n",
    "    mus = [0, 1, 5]\n",
    "    sigmas = [1, 1, 2]\n",
    "    for mu, sigma in zip(mus, sigmas):\n",
    "        sample = np.random.normal(mu, sigma, n)\n",
    "        xs, ys = thinkstats2.NormalProbability(sample)\n",
    "        label = '$\\mu=%d$, $\\sigma=%d$' % (mu, sigma)\n",
    "        thinkplot.Plot(xs, ys, label=label)\n",
    "\n",
    "    thinkplot.Save(root='analytic_normal_prob_example',\n",
    "                   title='Normal probability plot',\n",
    "                   xlabel='standard normal sample',\n",
    "                   ylabel='sample values')\n",
    "\n",
    "\n",
    "def MakeNormalPlot(weights, term_weights):\n",
    "    \"\"\"Generates a normal probability plot of birth weights.\"\"\"\n",
    "\n",
    "    mean, var = thinkstats2.TrimmedMeanVar(weights, p=0.01)\n",
    "    std = math.sqrt(var)\n",
    "\n",
    "    xs = [-4, 4]\n",
    "    fxs, fys = thinkstats2.FitLine(xs, mean, std)\n",
    "    thinkplot.Plot(fxs, fys, linewidth=4, color='0.8')\n",
    "\n",
    "    thinkplot.PrePlot(2) \n",
    "    xs, ys = thinkstats2.NormalProbability(weights)\n",
    "    thinkplot.Plot(xs, ys, label='all live')\n",
    "\n",
    "    xs, ys = thinkstats2.NormalProbability(term_weights)\n",
    "    thinkplot.Plot(xs, ys, label='full term')\n",
    "    thinkplot.Save(root='analytic_birthwgt_normal',\n",
    "                   title='Normal probability plot',\n",
    "                   xlabel='Standard deviations from mean',\n",
    "                   ylabel='Birth weight (lbs)')\n",
    "\n",
    "\n",
    "def main():\n",
    "    thinkstats2.RandomSeed(18)\n",
    "    MakeExampleNormalPlot()\n",
    "\n",
    "    # make the analytic CDFs\n",
    "    MakeExpoCdf()\n",
    "    MakeBabyBoom()\n",
    "\n",
    "    MakeParetoCdf()\n",
    "    MakeParetoCdf2()\n",
    "    MakeNormalCdf()\n",
    "\n",
    "    # test the distribution of birth weights for normality\n",
    "    preg = nsfg.ReadFemPreg()\n",
    "    full_term = preg[preg.prglngth >= 37]\n",
    "\n",
    "    weights = preg.totalwgt_lb.dropna()\n",
    "    term_weights = full_term.totalwgt_lb.dropna()\n",
    "\n",
    "    MakeNormalModel(weights)\n",
    "    MakeNormalPlot(weights, term_weights)\n",
    "\n",
    "    \n",
    "if __name__ == \"__main__\":\n",
    "    main()"
   ]
  },
  {
   "cell_type": "markdown",
   "metadata": {},
   "source": [
    "# Ch5: Modeling Distributions\n",
    "<a id=\"s1\"></a>"
   ]
  },
  {
   "cell_type": "markdown",
   "metadata": {},
   "source": [
    "- **empirical distribution:** based on empirical observations (finite number of samples\n",
    "- **analytic distribution:** characterized by CDF (function) and can model empirical distributions\n",
    "- **model:** a simplification that leaves out unneeded details\n",
    "\n",
    "### The Exponential Distribution\n",
    "<a id=\"s2\"></a>\n",
    "- CDF for **exponential distribution** (x): 1 - e^(-lambda*x)\n",
    "- **interarrival times:** times between events"
   ]
  },
  {
   "cell_type": "code",
   "execution_count": 23,
   "metadata": {},
   "outputs": [
    {
     "data": {
      "image/png": "[encoded data removed]",
      "text/plain": [
       "<Figure size 432x288 with 1 Axes>"
      ]
     },
     "metadata": {},
     "output_type": "display_data"
    },
    {
     "data": {
      "text/plain": [
       "<Figure size 576x432 with 0 Axes>"
      ]
     },
     "metadata": {},
     "output_type": "display_data"
    }
   ],
   "source": [
    "df = ReadBabyBoom()\n",
    "diffs = df.minutes.diff()\n",
    "cdf = thinkstats2.Cdf(diffs, label='actual')\n",
    "thinkplot.Cdf(cdf)\n",
    "thinkplot.Show(xlabel='minutes', ylabel='CDF',title='CDF of Interarrival Times')"
   ]
  },
  {
   "cell_type": "markdown",
   "metadata": {},
   "source": [
    "** *Figure 1: CDF of Interarrival Times* **\n",
    "Given that diffs is the difference between consecutive birth times and cdf is the distribution of these interarrival times, Figure 1 shows that the CDF of interarrival times. Even though it seems to have an approximately exponential distribution, this may not actually hold since that would assume that birth is equally likely at any time of day."
   ]
  },
  {
   "cell_type": "code",
   "execution_count": 11,
   "metadata": {},
   "outputs": [
    {
     "data": {
      "text/html": [
       "<div>\n",
       "<style scoped>\n",
       "    .dataframe tbody tr th:only-of-type {\n",
       "        vertical-align: middle;\n",
       "    }\n",
       "\n",
       "    .dataframe tbody tr th {\n",
       "        vertical-align: top;\n",
       "    }\n",
       "\n",
       "    .dataframe thead th {\n",
       "        text-align: right;\n",
       "    }\n",
       "</style>\n",
       "<table border=\"1\" class=\"dataframe\">\n",
       "  <thead>\n",
       "    <tr style=\"text-align: right;\">\n",
       "      <th></th>\n",
       "      <th>time</th>\n",
       "      <th>sex</th>\n",
       "      <th>weight_g</th>\n",
       "      <th>minutes</th>\n",
       "    </tr>\n",
       "  </thead>\n",
       "  <tbody>\n",
       "    <tr>\n",
       "      <th>0</th>\n",
       "      <td>5</td>\n",
       "      <td>1</td>\n",
       "      <td>3837</td>\n",
       "      <td>5</td>\n",
       "    </tr>\n",
       "    <tr>\n",
       "      <th>1</th>\n",
       "      <td>104</td>\n",
       "      <td>1</td>\n",
       "      <td>3334</td>\n",
       "      <td>64</td>\n",
       "    </tr>\n",
       "    <tr>\n",
       "      <th>2</th>\n",
       "      <td>118</td>\n",
       "      <td>2</td>\n",
       "      <td>3554</td>\n",
       "      <td>78</td>\n",
       "    </tr>\n",
       "    <tr>\n",
       "      <th>3</th>\n",
       "      <td>155</td>\n",
       "      <td>2</td>\n",
       "      <td>3838</td>\n",
       "      <td>115</td>\n",
       "    </tr>\n",
       "    <tr>\n",
       "      <th>4</th>\n",
       "      <td>257</td>\n",
       "      <td>2</td>\n",
       "      <td>3625</td>\n",
       "      <td>177</td>\n",
       "    </tr>\n",
       "  </tbody>\n",
       "</table>\n",
       "</div>"
      ],
      "text/plain": [
       "   time  sex  weight_g  minutes\n",
       "0     5    1      3837        5\n",
       "1   104    1      3334       64\n",
       "2   118    2      3554       78\n",
       "3   155    2      3838      115\n",
       "4   257    2      3625      177"
      ]
     },
     "execution_count": 11,
     "metadata": {},
     "output_type": "execute_result"
    }
   ],
   "source": [
    "df.head()"
   ]
  },
  {
   "cell_type": "code",
   "execution_count": 22,
   "metadata": {},
   "outputs": [
    {
     "data": {
      "image/png": "[encoded data removed]",
      "text/plain": [
       "<Figure size 432x288 with 1 Axes>"
      ]
     },
     "metadata": {},
     "output_type": "display_data"
    },
    {
     "data": {
      "text/plain": [
       "<Figure size 576x432 with 0 Axes>"
      ]
     },
     "metadata": {},
     "output_type": "display_data"
    }
   ],
   "source": [
    "thinkplot.Cdf(cdf, complement=True)\n",
    "thinkplot.Show(xlabel='minutes',\n",
    "ylabel='CCDF',\n",
    "yscale='log',title=\"Complementary CDF of Interarrival Times\")"
   ]
  },
  {
   "cell_type": "markdown",
   "metadata": {},
   "source": [
    "** *Figure 2: Complementary CDF of Interarrival Times* **\n",
    "This plot shows 1-CDF(x) on a log-y scale. Note that if the data was from an exponential distrubution, as we hypothesized, the CCDF would be a straight line. Since that isn't the case here, we know that an expnoential distrubution isn't a perfect model for the data."
   ]
  },
  {
   "cell_type": "markdown",
   "metadata": {},
   "source": [
    "### The Normal Distribution\n",
    "<a id=\"s3\"></a>\n",
    "- **normal distribution** (Gaussian): characterized by 2 parameters (the mean, mu, and the standard deviation, sigma)\n",
    "- **standard normal distribution:** the normal distribution with mu = 0 and sigma = 1\n",
    "\n",
    "We import scipy.stats.norm to represent normal distributions."
   ]
  },
  {
   "cell_type": "code",
   "execution_count": 13,
   "metadata": {},
   "outputs": [
    {
     "data": {
      "text/plain": [
       "0.5"
      ]
     },
     "execution_count": 13,
     "metadata": {},
     "output_type": "execute_result"
    }
   ],
   "source": [
    "import scipy.stats\n",
    "scipy.stats.norm.cdf(0)"
   ]
  },
  {
   "cell_type": "markdown",
   "metadata": {},
   "source": [
    "Our call to the cdf method above tells us that half (50% or 0.5) of the values in the standard normal distribution fall below the medial of 0.\n",
    "\n",
    "Below, we use the parameters mu and sigma in the EvalNormalCdf function to evaluate the CDF for a certain x."
   ]
  },
  {
   "cell_type": "code",
   "execution_count": 17,
   "metadata": {},
   "outputs": [],
   "source": [
    "def EvalNormalCdf(x, mu=0, sigma=1):\n",
    "    return scipy.stats.norm.cdf(x, loc=mu, scale=sigma)"
   ]
  },
  {
   "cell_type": "markdown",
   "metadata": {},
   "source": [
    "### Normal Probability Plot\n",
    "<a id=\"s4\"></a>\n",
    "- **generating a normal probability plot:**\n",
    "    - (1) Sort the values in a sample\n",
    "    - (2) From a standard normal distrib, generate and sort a random sample with the same size as the sample\n",
    "    - (3) Plot the sorted values from the sample vs. the random values"
   ]
  },
  {
   "cell_type": "code",
   "execution_count": 43,
   "metadata": {},
   "outputs": [
    {
     "data": {
      "image/png": "[encoded data removed]",
      "text/plain": [
       "<Figure size 432x288 with 1 Axes>"
      ]
     },
     "metadata": {},
     "output_type": "display_data"
    },
    {
     "data": {
      "text/plain": [
       "<Figure size 576x432 with 0 Axes>"
      ]
     },
     "metadata": {},
     "output_type": "display_data"
    }
   ],
   "source": [
    "n = 1000\n",
    "thinkplot.PrePlot(3) \n",
    "mus = [0, 1, 5]\n",
    "sigmas = [1, 1, 2]\n",
    "for mu, sigma in zip(mus, sigmas):\n",
    "    sample = np.random.normal(mu, sigma, n)\n",
    "    xs, ys = thinkstats2.NormalProbability(sample)\n",
    "    thinkplot.Plot(xs, ys, label=\"mu: \"+str(mu)+\", \"+\"sigma: \"+str(sigma))\n",
    "thinkplot.Show(xlabel='standard normal sample',ylabel='sample values', title = 'Normal Probability Plot')\n"
   ]
  },
  {
   "cell_type": "markdown",
   "metadata": {},
   "source": [
    "** *Figure 3: Normal probability plot for random samples from normal distributions* **\n",
    "This plot shows the outcome of testing the NormalProbability function using fake samples drawn from normal distributions with different parameters. Note that there is more deviation in the lines at either end than towards the average."
   ]
  },
  {
   "cell_type": "code",
   "execution_count": 24,
   "metadata": {},
   "outputs": [
    {
     "data": {
      "image/png": "[encoded data removed]",
      "text/plain": [
       "<Figure size 432x288 with 1 Axes>"
      ]
     },
     "metadata": {},
     "output_type": "display_data"
    },
    {
     "data": {
      "text/plain": [
       "<Figure size 576x432 with 0 Axes>"
      ]
     },
     "metadata": {},
     "output_type": "display_data"
    }
   ],
   "source": [
    "def MakeNormalPlot(weights):\n",
    "    mean = weights.mean()\n",
    "    std = weights.std()\n",
    "    xs = [-4, 4]\n",
    "    fxs, fys = thinkstats2.FitLine(xs, inter=mean, slope=std)\n",
    "    thinkplot.Plot(fxs, fys, color='gray', label='model')\n",
    "    xs, ys = thinkstats2.NormalProbability(weights)\n",
    "    thinkplot.Plot(xs, ys, label='birth weights')\n",
    "    thinkplot.Show(xlabel='standard deviations from mean',ylabel='birth weight (g)', title = 'Normal Probability Plot')\n",
    "MakeNormalPlot(df['weight_g'])"
   ]
  },
  {
   "cell_type": "markdown",
   "metadata": {},
   "source": [
    "** *Figure 4: Normal probability plot of birth weights* **\n",
    "This plot shows our model using the data on all birth weights. If the distribution of weights were normal, it would perfectly match the linear model. Note that there is more deviation here than in our fake data but still the pattern of more deviation in the tails. At the tails, babies are typically lighter than what the model expects."
   ]
  },
  {
   "cell_type": "markdown",
   "metadata": {},
   "source": [
    "### The lognormal Distribution\n",
    "<a id=\"s5\"></a>\n",
    "- **log-normal distrubution:** Values such that their logarithms have a normal distribution. CDF matches that of normal distribution."
   ]
  },
  {
   "cell_type": "markdown",
   "metadata": {},
   "source": [
    "## 0.2) \"density.py\" from the Text\n",
    "<a id=\"s6\"></a>\n",
    "This section contains the code from \"density.py,\" the program referenced in the relevant examples from the text. I chose to place it here to centralize everything in Part 1."
   ]
  },
  {
   "cell_type": "code",
   "execution_count": 25,
   "metadata": {},
   "outputs": [
    {
     "name": "stdout",
     "output_type": "stream",
     "text": [
      "0.033300124989618714\n",
      "Writing pdf_example.pdf\n",
      "Writing pdf_example.png\n",
      "Birth weight\n",
      "mean 7.265628457623368\n",
      "std 1.4082934455690168\n",
      "median 7.375\n",
      "skewness -0.5895062687577989\n",
      "pearson skewness -0.23300028954731833\n",
      "Writing density_totalwgt_kde.pdf\n",
      "Writing density_totalwgt_kde.png\n",
      "Adult weight\n",
      "mean 78.99245299687198\n",
      "std 19.546156913066667\n",
      "median 77.27\n",
      "skewness 1.054840012109306\n",
      "pearson skewness 0.2643673381618039\n",
      "Writing density_wtkg2_kde.pdf\n",
      "Writing density_wtkg2_kde.png\n"
     ]
    },
    {
     "data": {
      "text/plain": [
       "<Figure size 576x432 with 0 Axes>"
      ]
     },
     "metadata": {},
     "output_type": "display_data"
    }
   ],
   "source": [
    "from __future__ import print_function\n",
    "\n",
    "import math\n",
    "import random\n",
    "\n",
    "import brfss\n",
    "import first\n",
    "import thinkstats2\n",
    "import thinkplot\n",
    "\n",
    "\n",
    "def Summarize(data):\n",
    "    \"\"\"Prints summary statistics.\n",
    "\n",
    "    data: pandas Series\n",
    "    \"\"\"\n",
    "    mean = data.mean()\n",
    "    std = data.std()\n",
    "    median = thinkstats2.Median(data)\n",
    "    print('mean', mean)\n",
    "    print('std', std)\n",
    "    print('median', median)\n",
    "    print('skewness', thinkstats2.Skewness(data))\n",
    "    print('pearson skewness', \n",
    "          thinkstats2.PearsonMedianSkewness(data))\n",
    "\n",
    "    return mean, median\n",
    "\n",
    "\n",
    "def ComputeSkewnesses():\n",
    "    \"\"\"Plots KDE of birthweight and adult weight.\n",
    "    \"\"\"\n",
    "    def VertLine(x, y):\n",
    "        thinkplot.Plot([x, x], [0, y], color='0.6', linewidth=1)\n",
    "\n",
    "    live, firsts, others = first.MakeFrames()\n",
    "    data = live.totalwgt_lb.dropna()\n",
    "    print('Birth weight')\n",
    "    mean, median = Summarize(data)\n",
    "\n",
    "    y = 0.35\n",
    "    VertLine(mean, y)\n",
    "    thinkplot.Text(mean-0.15, 0.1*y, 'mean', horizontalalignment='right')\n",
    "    VertLine(median, y)\n",
    "    thinkplot.Text(median+0.1, 0.1*y, 'median', horizontalalignment='left')\n",
    "\n",
    "    pdf = thinkstats2.EstimatedPdf(data)\n",
    "    thinkplot.Pdf(pdf, label='birth weight')\n",
    "    thinkplot.Save(root='density_totalwgt_kde',\n",
    "                   xlabel='lbs',\n",
    "                   ylabel='PDF')\n",
    "\n",
    "    df = brfss.ReadBrfss(nrows=None)\n",
    "    data = df.wtkg2.dropna()\n",
    "    print('Adult weight')\n",
    "    mean, median = Summarize(data)\n",
    "\n",
    "    y = 0.02499\n",
    "    VertLine(mean, y)\n",
    "    thinkplot.Text(mean+1, 0.1*y, 'mean', horizontalalignment='left')\n",
    "    VertLine(median, y)\n",
    "    thinkplot.Text(median-1.5, 0.1*y, 'median', horizontalalignment='right')\n",
    "\n",
    "    pdf = thinkstats2.EstimatedPdf(data)\n",
    "    thinkplot.Pdf(pdf, label='adult weight')\n",
    "    thinkplot.Save(root='density_wtkg2_kde',\n",
    "                   xlabel='kg',\n",
    "                   ylabel='PDF',\n",
    "                   xlim=[0, 200])\n",
    "\n",
    "\n",
    "def MakePdfExample(n=500):\n",
    "    \"\"\"Plots a normal density function and a KDE estimate.\n",
    "\n",
    "    n: sample size\n",
    "    \"\"\"\n",
    "    # mean and var of women's heights in cm, from the BRFSS\n",
    "    mean, var = 163, 52.8\n",
    "    std = math.sqrt(var)\n",
    "\n",
    "    # make a PDF and compute a density, FWIW\n",
    "    pdf = thinkstats2.NormalPdf(mean, std)\n",
    "    print(pdf.Density(mean + std))\n",
    "\n",
    "    # make a PMF and plot it\n",
    "    thinkplot.PrePlot(2)\n",
    "    thinkplot.Pdf(pdf, label='normal')\n",
    "\n",
    "    # make a sample, make an estimated PDF, and plot it\n",
    "    sample = [random.gauss(mean, std) for _ in range(n)]\n",
    "    sample_pdf = thinkstats2.EstimatedPdf(sample)\n",
    "    thinkplot.Pdf(sample_pdf, label='sample KDE')\n",
    "\n",
    "    thinkplot.Save(root='pdf_example',\n",
    "                   xlabel='Height (cm)',\n",
    "                   ylabel='Density')\n",
    "\n",
    "\n",
    "def main():\n",
    "    thinkstats2.RandomSeed(17)\n",
    "\n",
    "    MakePdfExample()\n",
    "    ComputeSkewnesses()\n",
    "\n",
    "\n",
    "if __name__ == '__main__':\n",
    "    main()"
   ]
  },
  {
   "cell_type": "markdown",
   "metadata": {},
   "source": [
    "# Ch6: Probability Density Functions\n",
    "<a id=\"s7\"></a>"
   ]
  },
  {
   "cell_type": "markdown",
   "metadata": {},
   "source": [
    "### PDFs\n",
    "<a id=\"s8\"></a>\n",
    "- **probability density function:** The derivative of a CDF\n",
    "- **probability density:** a measure of probability per unit of x\n",
    "\n",
    "- thinkstats2 has a Pdf class with Density, Render, MakePmf, and GetLinspace methods"
   ]
  },
  {
   "cell_type": "markdown",
   "metadata": {},
   "source": [
    "Here, we compute the density of a distribution at a location one standard deviation from the mean. Our result is about 0.03 probability mass per cm."
   ]
  },
  {
   "cell_type": "code",
   "execution_count": 26,
   "metadata": {},
   "outputs": [
    {
     "data": {
      "text/plain": [
       "0.033300124989618714"
      ]
     },
     "execution_count": 26,
     "metadata": {},
     "output_type": "execute_result"
    }
   ],
   "source": [
    "mean, var = 163, 52.8\n",
    "std = math.sqrt(var)\n",
    "pdf = thinkstats2.NormalPdf(mean,std)\n",
    "pdf.Density(mean+std)"
   ]
  },
  {
   "cell_type": "markdown",
   "metadata": {},
   "source": [
    "Plotting the PDF yields a more interpretable result about the normal shape of the distribution:"
   ]
  },
  {
   "cell_type": "code",
   "execution_count": 51,
   "metadata": {},
   "outputs": [
    {
     "data": {
      "image/png": "[encoded data removed]",
      "text/plain": [
       "<Figure size 432x288 with 1 Axes>"
      ]
     },
     "metadata": {},
     "output_type": "display_data"
    },
    {
     "data": {
      "text/plain": [
       "<Figure size 576x432 with 0 Axes>"
      ]
     },
     "metadata": {},
     "output_type": "display_data"
    }
   ],
   "source": [
    "thinkplot.Pdf(pdf, label='normal')\n",
    "thinkplot.Config(legend=\"normal\")\n",
    "sample = [random.gauss(mean,std) for i in range(500)]\n",
    "sample_pdf = thinkstats2.EstimatedPdf(sample)\n",
    "thinkplot.Pdf(sample_pdf,label='sample KDE')\n",
    "thinkplot.Show(xlabel='Height (cm)',ylabel='Density')"
   ]
  },
  {
   "cell_type": "markdown",
   "metadata": {},
   "source": [
    "### Kernel Density Estimation\n",
    "<a id=\"s9\"></a>\n",
    "- **KDE:** An algorithm that takes a sample and finds an appropriately smooth PDF that fits the data\n",
    "\n",
    "See above for the addition of an estimated KDE. It seems like the estimate matches the original distribution fairly well.\n",
    "\n",
    "Why estimate a density function with a KDE?\n",
    "\n",
    "- Visualization of a distribution in the exploration phase of a project\n",
    "- Interpolation of the density for values that don't appear in the sample\n",
    "- Simulation to explore more possible outcomes from observed data"
   ]
  },
  {
   "cell_type": "markdown",
   "metadata": {},
   "source": [
    "### The Distribution Framework\n",
    "<a id=\"s10\"></a>\n",
    "How do PMFs, CDFs, and PDFs relate to each other?"
   ]
  },
  {
   "cell_type": "code",
   "execution_count": 53,
   "metadata": {},
   "outputs": [
    {
     "data": {
      "image/png": "[encoded data removed]",
      "text/plain": [
       "<IPython.core.display.Image object>"
      ]
     },
     "metadata": {},
     "output_type": "display_data"
    }
   ],
   "source": [
    "from IPython.display import Image, display; display(Image(filename='chart.png'))"
   ]
  }
 ],
 "metadata": {
  "kernelspec": {
   "display_name": "Python 3",
   "language": "python",
   "name": "python3"
  },
  "language_info": {
   "codemirror_mode": {
    "name": "ipython",
    "version": 3
   },
   "file_extension": ".py",
   "mimetype": "text/x-python",
   "name": "python",
   "nbconvert_exporter": "python",
   "pygments_lexer": "ipython3",
   "version": "3.6.5"
  }
 },
 "nbformat": 4,
 "nbformat_minor": 2
}
