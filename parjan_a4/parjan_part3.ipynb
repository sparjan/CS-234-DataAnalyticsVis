{
 "cells": [
  {
   "cell_type": "markdown",
   "metadata": {},
   "source": [
    "# Part 3: Design your own classification problem\n",
    "\n",
    "Author: Shreya Parjan\n",
    "\n",
    "7 Oct 2019\n",
    "\n",
    "This notebook focuses on part 3 of assignment 4, where I use the tutorial from part 2 to create a new dataset on applicants to Wellesley that were accepted or rejected on the basis of GPA and test scores. I write a classifier using Naive Bayes to classify a new student."
   ]
  },
  {
   "cell_type": "markdown",
   "metadata": {},
   "source": [
    "## Table of contents\n",
    "1. [Preliminaries](#s0)\n",
    "2. [Create Data](#s1)\n",
    "3. [Calculate Priors](#s2)\n",
    "4. [Calculate Likelihood](#s3)\n",
    "5. [Apply Bayes Classifier To New Data Point](#s4)"
   ]
  },
  {
   "cell_type": "markdown",
   "metadata": {},
   "source": [
    "## Preliminaries\n",
    "<a id=\"s0\"></a>"
   ]
  },
  {
   "cell_type": "code",
   "execution_count": 18,
   "metadata": {},
   "outputs": [],
   "source": [
    "import pandas as pd\n",
    "import numpy as np"
   ]
  },
  {
   "cell_type": "markdown",
   "metadata": {},
   "source": [
    "## Create Data\n",
    "<a id=\"s1\"></a>\n",
    "Our dataset is contains data on eight individuals. We will use the dataset to construct a classifier that takes in the GPA, SAT Math, and SAT Writing of an individual and outputs a prediction for their gender.\n"
   ]
  },
  {
   "cell_type": "code",
   "execution_count": 19,
   "metadata": {},
   "outputs": [
    {
     "data": {
      "text/html": [
       "<div>\n",
       "<style scoped>\n",
       "    .dataframe tbody tr th:only-of-type {\n",
       "        vertical-align: middle;\n",
       "    }\n",
       "\n",
       "    .dataframe tbody tr th {\n",
       "        vertical-align: top;\n",
       "    }\n",
       "\n",
       "    .dataframe thead th {\n",
       "        text-align: right;\n",
       "    }\n",
       "</style>\n",
       "<table border=\"1\" class=\"dataframe\">\n",
       "  <thead>\n",
       "    <tr style=\"text-align: right;\">\n",
       "      <th></th>\n",
       "      <th>Decision</th>\n",
       "      <th>GPA</th>\n",
       "      <th>SAT Math</th>\n",
       "      <th>SAT Writing</th>\n",
       "    </tr>\n",
       "  </thead>\n",
       "  <tbody>\n",
       "    <tr>\n",
       "      <th>0</th>\n",
       "      <td>admit</td>\n",
       "      <td>3.9</td>\n",
       "      <td>740</td>\n",
       "      <td>750</td>\n",
       "    </tr>\n",
       "    <tr>\n",
       "      <th>1</th>\n",
       "      <td>reject</td>\n",
       "      <td>3.2</td>\n",
       "      <td>570</td>\n",
       "      <td>600</td>\n",
       "    </tr>\n",
       "    <tr>\n",
       "      <th>2</th>\n",
       "      <td>reject</td>\n",
       "      <td>2.9</td>\n",
       "      <td>700</td>\n",
       "      <td>690</td>\n",
       "    </tr>\n",
       "    <tr>\n",
       "      <th>3</th>\n",
       "      <td>admit</td>\n",
       "      <td>4.0</td>\n",
       "      <td>800</td>\n",
       "      <td>780</td>\n",
       "    </tr>\n",
       "    <tr>\n",
       "      <th>4</th>\n",
       "      <td>reject</td>\n",
       "      <td>3.6</td>\n",
       "      <td>690</td>\n",
       "      <td>690</td>\n",
       "    </tr>\n",
       "    <tr>\n",
       "      <th>5</th>\n",
       "      <td>admit</td>\n",
       "      <td>3.8</td>\n",
       "      <td>700</td>\n",
       "      <td>720</td>\n",
       "    </tr>\n",
       "    <tr>\n",
       "      <th>6</th>\n",
       "      <td>reject</td>\n",
       "      <td>3.7</td>\n",
       "      <td>610</td>\n",
       "      <td>630</td>\n",
       "    </tr>\n",
       "    <tr>\n",
       "      <th>7</th>\n",
       "      <td>admit</td>\n",
       "      <td>3.8</td>\n",
       "      <td>780</td>\n",
       "      <td>800</td>\n",
       "    </tr>\n",
       "  </tbody>\n",
       "</table>\n",
       "</div>"
      ],
      "text/plain": [
       "  Decision  GPA  SAT Math  SAT Writing\n",
       "0    admit  3.9       740          750\n",
       "1   reject  3.2       570          600\n",
       "2   reject  2.9       700          690\n",
       "3    admit  4.0       800          780\n",
       "4   reject  3.6       690          690\n",
       "5    admit  3.8       700          720\n",
       "6   reject  3.7       610          630\n",
       "7    admit  3.8       780          800"
      ]
     },
     "execution_count": 19,
     "metadata": {},
     "output_type": "execute_result"
    }
   ],
   "source": [
    "# Create an empty dataframe\n",
    "data = pd.DataFrame()\n",
    "\n",
    "# Create our target variable\n",
    "data['Decision'] = ['admit','reject','reject','admit','reject','admit','reject','admit']\n",
    "\n",
    "# Create our feature variables\n",
    "data['GPA'] = [3.9,3.2,2.9,4.0,3.6,3.8,3.7,3.8]\n",
    "data['SAT Math'] = [740,570,700,800,690,700,610,780]\n",
    "data['SAT Writing'] = [750,600,690,780,690,720,630,800]\n",
    "\n",
    "# View the data\n",
    "data\n"
   ]
  },
  {
   "cell_type": "code",
   "execution_count": 20,
   "metadata": {},
   "outputs": [
    {
     "data": {
      "text/html": [
       "<div>\n",
       "<style scoped>\n",
       "    .dataframe tbody tr th:only-of-type {\n",
       "        vertical-align: middle;\n",
       "    }\n",
       "\n",
       "    .dataframe tbody tr th {\n",
       "        vertical-align: top;\n",
       "    }\n",
       "\n",
       "    .dataframe thead th {\n",
       "        text-align: right;\n",
       "    }\n",
       "</style>\n",
       "<table border=\"1\" class=\"dataframe\">\n",
       "  <thead>\n",
       "    <tr style=\"text-align: right;\">\n",
       "      <th></th>\n",
       "      <th>GPA</th>\n",
       "      <th>SAT Math</th>\n",
       "      <th>SAT Writing</th>\n",
       "    </tr>\n",
       "  </thead>\n",
       "  <tbody>\n",
       "    <tr>\n",
       "      <th>0</th>\n",
       "      <td>3.7</td>\n",
       "      <td>740</td>\n",
       "      <td>770</td>\n",
       "    </tr>\n",
       "  </tbody>\n",
       "</table>\n",
       "</div>"
      ],
      "text/plain": [
       "   GPA  SAT Math  SAT Writing\n",
       "0  3.7       740          770"
      ]
     },
     "execution_count": 20,
     "metadata": {},
     "output_type": "execute_result"
    }
   ],
   "source": [
    "# Create an empty dataframe\n",
    "person = pd.DataFrame()\n",
    "\n",
    "# Create some feature values for this single row\n",
    "person['GPA'] = [3.7]\n",
    "person['SAT Math'] = [740]\n",
    "person['SAT Writing'] = [770]\n",
    "\n",
    "# View the data \n",
    "person"
   ]
  },
  {
   "cell_type": "markdown",
   "metadata": {},
   "source": [
    "## Calculate Priors\n",
    "<a id=\"s2\"></a>\n",
    "Priors can be either constants or probability distributions. In our example, this is simply the probability of being admitted/rejected. Calculating this is simple:"
   ]
  },
  {
   "cell_type": "code",
   "execution_count": 28,
   "metadata": {},
   "outputs": [],
   "source": [
    "# Number of admits\n",
    "n_admit = data['Decision'][data['Decision'] == 'admit'].count()\n",
    "\n",
    "# Number of rejects\n",
    "n_reject = data['Decision'][data['Decision'] == 'reject'].count()\n",
    "\n",
    "# Total rows\n",
    "total_ppl = data['Decision'].count()\n",
    "# Number of admits divided by the total rows\n",
    "P_admit = n_admit/total_ppl\n",
    "\n",
    "# Number of rejects divided by the total rows\n",
    "P_reject = n_reject/total_ppl"
   ]
  },
  {
   "cell_type": "markdown",
   "metadata": {},
   "source": [
    "## Calculate Likelihood\n",
    "<a id=\"s3\"></a>\n",
    "For each class (e.g. admit) and feature (e.g. GPA) combination we need to calculate the variance and mean value from the data. Pandas makes this easy:"
   ]
  },
  {
   "cell_type": "code",
   "execution_count": 22,
   "metadata": {},
   "outputs": [
    {
     "data": {
      "text/html": [
       "<div>\n",
       "<style scoped>\n",
       "    .dataframe tbody tr th:only-of-type {\n",
       "        vertical-align: middle;\n",
       "    }\n",
       "\n",
       "    .dataframe tbody tr th {\n",
       "        vertical-align: top;\n",
       "    }\n",
       "\n",
       "    .dataframe thead th {\n",
       "        text-align: right;\n",
       "    }\n",
       "</style>\n",
       "<table border=\"1\" class=\"dataframe\">\n",
       "  <thead>\n",
       "    <tr style=\"text-align: right;\">\n",
       "      <th></th>\n",
       "      <th>GPA</th>\n",
       "      <th>SAT Math</th>\n",
       "      <th>SAT Writing</th>\n",
       "    </tr>\n",
       "    <tr>\n",
       "      <th>Decision</th>\n",
       "      <th></th>\n",
       "      <th></th>\n",
       "      <th></th>\n",
       "    </tr>\n",
       "  </thead>\n",
       "  <tbody>\n",
       "    <tr>\n",
       "      <th>admit</th>\n",
       "      <td>3.875</td>\n",
       "      <td>755.0</td>\n",
       "      <td>762.5</td>\n",
       "    </tr>\n",
       "    <tr>\n",
       "      <th>reject</th>\n",
       "      <td>3.350</td>\n",
       "      <td>642.5</td>\n",
       "      <td>652.5</td>\n",
       "    </tr>\n",
       "  </tbody>\n",
       "</table>\n",
       "</div>"
      ],
      "text/plain": [
       "            GPA  SAT Math  SAT Writing\n",
       "Decision                              \n",
       "admit     3.875     755.0        762.5\n",
       "reject    3.350     642.5        652.5"
      ]
     },
     "execution_count": 22,
     "metadata": {},
     "output_type": "execute_result"
    }
   ],
   "source": [
    "# Group the data by decision and calculate the means of each feature\n",
    "data_means = data.groupby('Decision').mean()\n",
    "\n",
    "# View the values\n",
    "data_means"
   ]
  },
  {
   "cell_type": "code",
   "execution_count": 23,
   "metadata": {},
   "outputs": [
    {
     "data": {
      "text/html": [
       "<div>\n",
       "<style scoped>\n",
       "    .dataframe tbody tr th:only-of-type {\n",
       "        vertical-align: middle;\n",
       "    }\n",
       "\n",
       "    .dataframe tbody tr th {\n",
       "        vertical-align: top;\n",
       "    }\n",
       "\n",
       "    .dataframe thead th {\n",
       "        text-align: right;\n",
       "    }\n",
       "</style>\n",
       "<table border=\"1\" class=\"dataframe\">\n",
       "  <thead>\n",
       "    <tr style=\"text-align: right;\">\n",
       "      <th></th>\n",
       "      <th>GPA</th>\n",
       "      <th>SAT Math</th>\n",
       "      <th>SAT Writing</th>\n",
       "    </tr>\n",
       "    <tr>\n",
       "      <th>Decision</th>\n",
       "      <th></th>\n",
       "      <th></th>\n",
       "      <th></th>\n",
       "    </tr>\n",
       "  </thead>\n",
       "  <tbody>\n",
       "    <tr>\n",
       "      <th>admit</th>\n",
       "      <td>0.009167</td>\n",
       "      <td>1966.666667</td>\n",
       "      <td>1225.0</td>\n",
       "    </tr>\n",
       "    <tr>\n",
       "      <th>reject</th>\n",
       "      <td>0.136667</td>\n",
       "      <td>3958.333333</td>\n",
       "      <td>2025.0</td>\n",
       "    </tr>\n",
       "  </tbody>\n",
       "</table>\n",
       "</div>"
      ],
      "text/plain": [
       "               GPA     SAT Math  SAT Writing\n",
       "Decision                                    \n",
       "admit     0.009167  1966.666667       1225.0\n",
       "reject    0.136667  3958.333333       2025.0"
      ]
     },
     "execution_count": 23,
     "metadata": {},
     "output_type": "execute_result"
    }
   ],
   "source": [
    "# Group the data by decision and calculate the variance of each feature\n",
    "data_variance = data.groupby('Decision').var()\n",
    "\n",
    "# View the values\n",
    "data_variance"
   ]
  },
  {
   "cell_type": "code",
   "execution_count": 24,
   "metadata": {},
   "outputs": [],
   "source": [
    "def getMeans(decision):\n",
    "    gMean = data_means['GPA'][data_variance.index==decision].values[0]\n",
    "    mMean = data_means['SAT Math'][data_variance.index==decision].values[0]\n",
    "    wMean = data_means['SAT Writing'][data_variance.index==decision].values[0]\n",
    "    return gMean, mMean, wMean\n",
    "def getVars(decision):\n",
    "    gVar = data_variance['GPA'][data_variance.index==decision].values[0]\n",
    "    mVar = data_variance['SAT Math'][data_variance.index==decision].values[0]\n",
    "    wVar = data_variance['SAT Writing'][data_variance.index==decision].values[0] \n",
    "    return gVar, mVar, wVar\n",
    "\n",
    "admit_gpa_mean, admit_math_mean, admit_writ_mean = getMeans('admit')\n",
    "admit_gpa_variance, admit_math_variance, admit_writ_variance = getVars('admit')\n",
    "reject_gpa_mean, reject_math_mean, reject_writ_mean = getMeans('reject')\n",
    "reject_gpa_variance, reject_math_variance, reject_writ_variance = getVars('reject')"
   ]
  },
  {
   "cell_type": "code",
   "execution_count": 25,
   "metadata": {},
   "outputs": [],
   "source": [
    "# Create a function that calculates p(x | y):\n",
    "def p_x_given_y(x, mean_y, variance_y):\n",
    "\n",
    "    # Input the arguments into a probability density function\n",
    "    p = 1/(np.sqrt(2*np.pi*variance_y)) * np.exp((-(x-mean_y)**2)/(2*variance_y))\n",
    "    \n",
    "    # return p\n",
    "    return p"
   ]
  },
  {
   "cell_type": "markdown",
   "metadata": {},
   "source": [
    "## Apply Bayes Classifier To New Data Point\n",
    "<a id=\"s4\"></a>"
   ]
  },
  {
   "cell_type": "code",
   "execution_count": 26,
   "metadata": {},
   "outputs": [
    {
     "data": {
      "text/plain": [
       "3.710032420366205e-05"
      ]
     },
     "execution_count": 26,
     "metadata": {},
     "output_type": "execute_result"
    }
   ],
   "source": [
    "# Numerator of the posterior if the unclassified observation is an accept\n",
    "P_admit * \\\n",
    "p_x_given_y(person['GPA'][0], admit_gpa_mean, admit_gpa_variance) * \\\n",
    "p_x_given_y(person['SAT Math'][0], admit_math_mean, admit_math_variance) * \\\n",
    "p_x_given_y(person['SAT Writing'][0], admit_writ_mean, admit_writ_variance)"
   ]
  },
  {
   "cell_type": "code",
   "execution_count": 27,
   "metadata": {},
   "outputs": [
    {
     "data": {
      "text/plain": [
       "1.928756687955893e-07"
      ]
     },
     "execution_count": 27,
     "metadata": {},
     "output_type": "execute_result"
    }
   ],
   "source": [
    "# Numerator of the posterior if the unclassified observation is a reject\n",
    "P_admit * \\\n",
    "p_x_given_y(person['GPA'][0], reject_gpa_mean, reject_gpa_variance) * \\\n",
    "p_x_given_y(person['SAT Math'][0], reject_math_mean, reject_math_variance) * \\\n",
    "p_x_given_y(person['SAT Writing'][0], reject_writ_mean, reject_writ_variance)"
   ]
  },
  {
   "cell_type": "markdown",
   "metadata": {},
   "source": [
    "Because the numerator of the posterior for admit is greater than reject, then we predict that the person is admitted."
   ]
  },
  {
   "cell_type": "code",
   "execution_count": null,
   "metadata": {},
   "outputs": [],
   "source": []
  }
 ],
 "metadata": {
  "kernelspec": {
   "display_name": "Python 3",
   "language": "python",
   "name": "python3"
  },
  "language_info": {
   "codemirror_mode": {
    "name": "ipython",
    "version": 3
   },
   "file_extension": ".py",
   "mimetype": "text/x-python",
   "name": "python",
   "nbconvert_exporter": "python",
   "pygments_lexer": "ipython3",
   "version": "3.6.5"
  }
 },
 "nbformat": 4,
 "nbformat_minor": 2
}
