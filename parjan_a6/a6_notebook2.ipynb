{
 "cells": [
  {
   "cell_type": "markdown",
   "metadata": {},
   "source": [
    "# Assignment 6 - Part 2: Explore Chrome History\n",
    "\n",
    "Completed by student: Shreya Parjan\n",
    "\n",
    "**Summary:** In this notebook, I explore the table keyword_search_term  to  find out:\n",
    "- The top 5 websites in which I perform  searches\n",
    "- The distribution of the length size in words of my search phrases. (Create a boxplot for this)\n",
    "- Explore the table visits in order to:\n",
    "    - Create a timeseries that eventually shows the number of web visits for every day in the history period. (use daily resampling). Display it as a line plot.\n",
    "- Use seaborn or plotly to create a heatmap that has a x values the days for the week (Monday, etc.), as y values the weeks of my dataset (Aug 3 - Aug 10, etc.), and the value of each cell is the count of visits that day.\n",
    " \n",
    "\n",
    "**Table of Contents**\n",
    "0. [Part 0: Set up SQL Environment](#sec0)\n",
    "1. [Part 1: Top 5 Searches](#sec1)\n",
    "2. [Part 2: Search Term Length`](#sec2)\n",
    "3. [Part 3: Explore \"Visits\"](#sec3)\n",
    "4. [Part 4: Searches Heatmap](#sec4)"
   ]
  },
  {
   "cell_type": "markdown",
   "metadata": {},
   "source": [
    "## Part 0: Set up SQL Environment\n",
    "<a id=\"sec0\"></a>"
   ]
  },
  {
   "cell_type": "code",
   "execution_count": 1,
   "metadata": {},
   "outputs": [],
   "source": [
    "import sqlite3"
   ]
  },
  {
   "cell_type": "code",
   "execution_count": 2,
   "metadata": {},
   "outputs": [],
   "source": [
    "path = \"History\"\n",
    "conn = sqlite3.connect(path)"
   ]
  },
  {
   "cell_type": "code",
   "execution_count": 3,
   "metadata": {},
   "outputs": [
    {
     "name": "stdout",
     "output_type": "stream",
     "text": [
      "('meta',)\n",
      "('urls',)\n",
      "('sqlite_sequence',)\n",
      "('visits',)\n",
      "('visit_source',)\n",
      "('keyword_search_terms',)\n",
      "('downloads',)\n",
      "('downloads_url_chains',)\n",
      "('downloads_slices',)\n",
      "('segments',)\n",
      "('segment_usage',)\n",
      "('typed_url_sync_metadata',)\n"
     ]
    }
   ],
   "source": [
    "\"\"\"identify tables in cursor from History\"\"\"\n",
    "cursor = conn.cursor()\n",
    "cursor.execute(\"SELECT name FROM sqlite_master WHERE type='table';\")\n",
    "for data in cursor.fetchall():\n",
    "    print(data)"
   ]
  },
  {
   "cell_type": "code",
   "execution_count": 4,
   "metadata": {},
   "outputs": [
    {
     "data": {
      "text/plain": [
       "(('keyword_id', None, None, None, None, None, None),\n",
       " ('url_id', None, None, None, None, None, None),\n",
       " ('lower_term', None, None, None, None, None, None),\n",
       " ('term', None, None, None, None, None, None))"
      ]
     },
     "execution_count": 4,
     "metadata": {},
     "output_type": "execute_result"
    }
   ],
   "source": [
    "# This means: select everything from the table urls\n",
    "cursor = conn.execute('SELECT * FROM keyword_search_terms')\n",
    "\n",
    "# This asks to show a description of the columns of the table\n",
    "cursor.description"
   ]
  },
  {
   "cell_type": "code",
   "execution_count": 5,
   "metadata": {},
   "outputs": [],
   "source": [
    "\"\"\"extract search terms from keyword_search_terms\"\"\"\n",
    "cursor = conn.execute('SELECT keyword_id, url_id, term FROM keyword_search_terms')\n",
    "rows = cursor.fetchall()\n",
    "terms = []\n",
    "for i in range(len(rows)):\n",
    "    terms.append(rows[i][2])"
   ]
  },
  {
   "cell_type": "markdown",
   "metadata": {},
   "source": [
    "## Part 1: Top 5 Searches\n",
    "Explore the table keyword_search_term  to  find out:\n",
    "The top 5 websites in which I perform  searches\n",
    "<a id=\"sec1\"></a>"
   ]
  },
  {
   "cell_type": "code",
   "execution_count": 6,
   "metadata": {},
   "outputs": [],
   "source": [
    "\"\"\"set up a counter dictionary to find frequency of each search\"\"\"\n",
    "import collections as c\n",
    "cnt = c.Counter()\n",
    "for word in terms:\n",
    "    cnt[word] += 1"
   ]
  },
  {
   "cell_type": "code",
   "execution_count": 7,
   "metadata": {},
   "outputs": [],
   "source": [
    "import pandas as pd\n",
    "import matplotlib.pyplot as plt"
   ]
  },
  {
   "cell_type": "code",
   "execution_count": 8,
   "metadata": {},
   "outputs": [],
   "source": [
    "searches = cnt.most_common()"
   ]
  },
  {
   "cell_type": "code",
   "execution_count": 9,
   "metadata": {},
   "outputs": [],
   "source": [
    "\"\"\"separate terms from counts to plot\"\"\"\n",
    "xvals = []\n",
    "yvals = []\n",
    "for i in range(len(searches)):\n",
    "    xvals.append(searches[i][0])\n",
    "    yvals.append(searches[i][1])"
   ]
  },
  {
   "cell_type": "code",
   "execution_count": 10,
   "metadata": {},
   "outputs": [
    {
     "data": {
      "text/plain": [
       "Text(0.5,1,'Most popular search terms')"
      ]
     },
     "execution_count": 10,
     "metadata": {},
     "output_type": "execute_result"
    },
    {
     "data": {
      "image/png": "[encoded data removed]",
      "text/plain": [
       "<Figure size 432x288 with 1 Axes>"
      ]
     },
     "metadata": {},
     "output_type": "display_data"
    }
   ],
   "source": [
    "\"\"\"plot top five search terms\"\"\"\n",
    "import seaborn as sns\n",
    "sns.set(style=\"whitegrid\")\n",
    "tips = sns.load_dataset(\"tips\")\n",
    "ax = sns.barplot(x=xvals[0:5], y=yvals[0:5])\n",
    "plt.xticks(rotation=90)\n",
    "plt.ylabel('Frequency')\n",
    "plt.xlabel('Term')\n",
    "plt.title('Most popular search terms')"
   ]
  },
  {
   "cell_type": "markdown",
   "metadata": {},
   "source": [
    "**Figure 1: Most Popular Search Terms** This plot shows how often I searched for the top 5 most commonly searched terms in my browser history from Fall 2019. My search terms would suggest that I'm a young professional in computer science who lives in the 02481 zip code and in interested in the outdoors and frozen custard from the midwest! Pretty close, pretty cool."
   ]
  },
  {
   "cell_type": "markdown",
   "metadata": {},
   "source": [
    "## Part 2: Search Term Length\n",
    "The distribution of the length size in words of your search phrases. (Create a boxplot for this)\n",
    "<a id=\"sec2\"></a>"
   ]
  },
  {
   "cell_type": "code",
   "execution_count": 12,
   "metadata": {},
   "outputs": [],
   "source": [
    "\"\"\"store length of each search (by number of words)\"\"\"\n",
    "lengths = []\n",
    "for i in xvals:\n",
    "    lengths.append(len(i.split()))"
   ]
  },
  {
   "cell_type": "code",
   "execution_count": 15,
   "metadata": {},
   "outputs": [
    {
     "data": {
      "text/plain": [
       "Text(0.5,1,'Length of search terms')"
      ]
     },
     "execution_count": 15,
     "metadata": {},
     "output_type": "execute_result"
    },
    {
     "data": {
      "image/png": "[encoded data removed]",
      "text/plain": [
       "<Figure size 432x288 with 1 Axes>"
      ]
     },
     "metadata": {},
     "output_type": "display_data"
    }
   ],
   "source": [
    "\"\"\"create boxplot based on search term length distribution\"\"\"\n",
    "sns.set(style=\"whitegrid\")\n",
    "ax = sns.boxplot(x=lengths)\n",
    "plt.xlabel('# of Words')\n",
    "plt.title('Length of search terms')"
   ]
  },
  {
   "cell_type": "markdown",
   "metadata": {},
   "source": [
    "**Figure 2: Length of search terms** This plot shows the distribution of the length of my search terms. There are quite a few outliers, as one day I searched for something over 40 words long, suggesting that I might have been trying to find a document based on a section from another source (I often do this with articles I'm interested in). However, most of my searches are around 3 words long which seems like a reasonable search."
   ]
  },
  {
   "cell_type": "markdown",
   "metadata": {},
   "source": [
    "## Part 3: Explore 'Visits'\n",
    "Create a timeseries that eventually shows the number of web visits for every day in the history period.  Display it as a line plot.\n",
    "<a id=\"sec3\"></a>"
   ]
  },
  {
   "cell_type": "code",
   "execution_count": 16,
   "metadata": {},
   "outputs": [
    {
     "data": {
      "text/plain": [
       "(('id', None, None, None, None, None, None),\n",
       " ('url', None, None, None, None, None, None),\n",
       " ('visit_time', None, None, None, None, None, None),\n",
       " ('from_visit', None, None, None, None, None, None),\n",
       " ('transition', None, None, None, None, None, None),\n",
       " ('segment_id', None, None, None, None, None, None),\n",
       " ('visit_duration', None, None, None, None, None, None),\n",
       " ('incremented_omnibox_typed_score', None, None, None, None, None, None))"
      ]
     },
     "execution_count": 16,
     "metadata": {},
     "output_type": "execute_result"
    }
   ],
   "source": [
    "cursor = conn.execute('SELECT * FROM visits')\n",
    "cursor.description"
   ]
  },
  {
   "cell_type": "code",
   "execution_count": 34,
   "metadata": {},
   "outputs": [],
   "source": [
    "cursor = conn.execute('SELECT visit_time term FROM visits')\n",
    "rows = cursor.fetchall()\n",
    "times = []\n",
    "for i in range(len(rows)):\n",
    "    times.append(rows[i][0])"
   ]
  },
  {
   "cell_type": "code",
   "execution_count": 56,
   "metadata": {},
   "outputs": [],
   "source": [
    "import datetime\n",
    "\n",
    "def convertChromeTime(ms):\n",
    "    \"\"\"Convert the amount of microsends into a datetime object. \n",
    "    Google chrome doesn't use Unix epoch.\n",
    "    \"\"\"\n",
    "    return datetime.datetime(1601, 1, 1) + datetime.timedelta(microseconds=ms)"
   ]
  },
  {
   "cell_type": "code",
   "execution_count": 57,
   "metadata": {},
   "outputs": [],
   "source": [
    "\"\"\"convert datetime objects to only year, month, and day\n",
    "to eliminate unnecessary time information\"\"\"\n",
    "ct = []\n",
    "for i in times:\n",
    "    j = convertChromeTime(i)\n",
    "    short = datetime.date(j.year, j.month, j.day)\n",
    "    ct.append(short)"
   ]
  },
  {
   "cell_type": "code",
   "execution_count": 58,
   "metadata": {},
   "outputs": [],
   "source": [
    "\"\"\"create counter dictionary to find number of searches per day\"\"\"\n",
    "datefreq = c.Counter()\n",
    "for word in ct:\n",
    "    datefreq[word] += 1"
   ]
  },
  {
   "cell_type": "code",
   "execution_count": 59,
   "metadata": {},
   "outputs": [
    {
     "data": {
      "text/plain": [
       "Text(0.5,1,'Searches Over Time (8/31/19-11/29/19)')"
      ]
     },
     "execution_count": 59,
     "metadata": {},
     "output_type": "execute_result"
    },
    {
     "data": {
      "image/png": "[encoded data removed]",
      "text/plain": [
       "<Figure size 432x288 with 1 Axes>"
      ]
     },
     "metadata": {},
     "output_type": "display_data"
    }
   ],
   "source": [
    "\"\"\"plot searches over time\"\"\"\n",
    "plt.plot(datefreq.keys(),datefreq.values())\n",
    "plt.xticks(rotation=45)\n",
    "plt.ylabel('# of searches')\n",
    "plt.xlabel('Date')\n",
    "plt.title('Searches Over Time (8/31/19-11/29/19)')"
   ]
  },
  {
   "cell_type": "markdown",
   "metadata": {},
   "source": [
    "**Figure 3: Searches over time** This plot shows how many searches I made daily over Fall 2019. The periods of few searches (like in early October) line up with breaks like fall break of this year. I'm curious about what I was searching for in November where I have a lot of queries. Perhaps I was working on a CS project and looking up a lot of ways to debug something?"
   ]
  },
  {
   "cell_type": "markdown",
   "metadata": {},
   "source": [
    "## Part 4: Searches Heatmap\n",
    "Use seaborn or plotly to create a heatmap that has a x values the days for the week (Monday, etc.), as y values the weeks of my dataset (Aug 3 - Aug 10, etc.), and the value of each cell is the count of visits that day.\n",
    "<a id=\"sec4\"></a>"
   ]
  },
  {
   "cell_type": "code",
   "execution_count": 146,
   "metadata": {},
   "outputs": [],
   "source": [
    "\"\"\"create a new list of the day for each datetime object\"\"\"\n",
    "d = []\n",
    "for key in datefreq.keys():\n",
    "    d.append(key.weekday())\n",
    "wds = [None]*len(d)\n",
    "for i in range(len(d)):\n",
    "    if d[i] == 0: wds[i]='Monday'\n",
    "    if d[i] == 1: wds[i]='Tuesday'\n",
    "    if d[i] == 2: wds[i]='Wednesday'\n",
    "    if d[i] == 3: wds[i]='Thursday'\n",
    "    if d[i] == 4: wds[i]='Friday'\n",
    "    if d[i] == 5: wds[i]='Saturday'\n",
    "    if d[i] == 6: wds[i]='Sunday'"
   ]
  },
  {
   "cell_type": "code",
   "execution_count": 123,
   "metadata": {},
   "outputs": [],
   "source": [
    "\"\"\"create a new list of the week for each datetime object\"\"\"\n",
    "dates = list(datefreq.keys())\n",
    "n_searches = list(datefreq.values())\n",
    "days = wds\n",
    "wk = []\n",
    "for i in range(len(d)):\n",
    "    wk.append(dates[i].isocalendar()[1])"
   ]
  },
  {
   "cell_type": "code",
   "execution_count": 125,
   "metadata": {},
   "outputs": [],
   "source": [
    "\"\"\"compile all lists into a single dataframe\"\"\"\n",
    "lst = []\n",
    "for i in range(len(dates)):\n",
    "    lst.append([dates[i],days[i],d[i],wk[i],n_searches[i]])\n",
    "df = pd.DataFrame(lst,columns = ['date','day','day_number','week','searches'])"
   ]
  },
  {
   "cell_type": "code",
   "execution_count": 126,
   "metadata": {},
   "outputs": [
    {
     "data": {
      "text/html": [
       "<div>\n",
       "<style scoped>\n",
       "    .dataframe tbody tr th:only-of-type {\n",
       "        vertical-align: middle;\n",
       "    }\n",
       "\n",
       "    .dataframe tbody tr th {\n",
       "        vertical-align: top;\n",
       "    }\n",
       "\n",
       "    .dataframe thead th {\n",
       "        text-align: right;\n",
       "    }\n",
       "</style>\n",
       "<table border=\"1\" class=\"dataframe\">\n",
       "  <thead>\n",
       "    <tr style=\"text-align: right;\">\n",
       "      <th></th>\n",
       "      <th>date</th>\n",
       "      <th>day</th>\n",
       "      <th>day_number</th>\n",
       "      <th>week</th>\n",
       "      <th>searches</th>\n",
       "    </tr>\n",
       "  </thead>\n",
       "  <tbody>\n",
       "    <tr>\n",
       "      <th>0</th>\n",
       "      <td>2019-08-31</td>\n",
       "      <td>Saturday</td>\n",
       "      <td>5</td>\n",
       "      <td>35</td>\n",
       "      <td>14</td>\n",
       "    </tr>\n",
       "    <tr>\n",
       "      <th>1</th>\n",
       "      <td>2019-09-01</td>\n",
       "      <td>Sunday</td>\n",
       "      <td>6</td>\n",
       "      <td>35</td>\n",
       "      <td>10</td>\n",
       "    </tr>\n",
       "    <tr>\n",
       "      <th>2</th>\n",
       "      <td>2019-09-02</td>\n",
       "      <td>Monday</td>\n",
       "      <td>0</td>\n",
       "      <td>36</td>\n",
       "      <td>10</td>\n",
       "    </tr>\n",
       "    <tr>\n",
       "      <th>3</th>\n",
       "      <td>2019-09-03</td>\n",
       "      <td>Tuesday</td>\n",
       "      <td>1</td>\n",
       "      <td>36</td>\n",
       "      <td>1</td>\n",
       "    </tr>\n",
       "    <tr>\n",
       "      <th>4</th>\n",
       "      <td>2019-09-04</td>\n",
       "      <td>Wednesday</td>\n",
       "      <td>2</td>\n",
       "      <td>36</td>\n",
       "      <td>471</td>\n",
       "    </tr>\n",
       "  </tbody>\n",
       "</table>\n",
       "</div>"
      ],
      "text/plain": [
       "         date        day  day_number  week  searches\n",
       "0  2019-08-31   Saturday           5    35        14\n",
       "1  2019-09-01     Sunday           6    35        10\n",
       "2  2019-09-02     Monday           0    36        10\n",
       "3  2019-09-03    Tuesday           1    36         1\n",
       "4  2019-09-04  Wednesday           2    36       471"
      ]
     },
     "execution_count": 126,
     "metadata": {},
     "output_type": "execute_result"
    }
   ],
   "source": [
    "df.head()"
   ]
  },
  {
   "cell_type": "code",
   "execution_count": 145,
   "metadata": {},
   "outputs": [
    {
     "data": {
      "image/png": "[encoded data removed]",
      "text/plain": [
       "<Figure size 432x288 with 2 Axes>"
      ]
     },
     "metadata": {},
     "output_type": "display_data"
    }
   ],
   "source": [
    "\"\"\"create a heatmap of searches over fall 2019\"\"\"\n",
    "result = df.pivot(index='week', columns='day', values='searches')\n",
    "sns.heatmap(result, fmt=\"g\", cmap='Blues').invert_yaxis()\n",
    "plt.title(\"Number of Daily Searches (Fall 2019)\")\n",
    "plt.ylabel('Week Number')\n",
    "plt.xlabel('Day')\n",
    "plt.show()"
   ]
  },
  {
   "cell_type": "markdown",
   "metadata": {},
   "source": [
    "**Figure 4: Number of daily searches (Fall 2019)*** This plot shows how many searches I made both weekly and on each day over Fall 2019. I expected there to be a clearer boundary between, say, the number of searches I make during weekdays vs. weekends over the course of a week. However, except for that day in November where I made almost 4000 searches, my searches over the semester seem relatively uncorrelated with time."
   ]
  }
 ],
 "metadata": {
  "kernelspec": {
   "display_name": "Python 3",
   "language": "python",
   "name": "python3"
  },
  "language_info": {
   "codemirror_mode": {
    "name": "ipython",
    "version": 3
   },
   "file_extension": ".py",
   "mimetype": "text/x-python",
   "name": "python",
   "nbconvert_exporter": "python",
   "pygments_lexer": "ipython3",
   "version": "3.6.5"
  }
 },
 "nbformat": 4,
 "nbformat_minor": 2
}
