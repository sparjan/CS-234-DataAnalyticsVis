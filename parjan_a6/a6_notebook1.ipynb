{
 "cells": [
  {
   "cell_type": "markdown",
   "metadata": {},
   "source": [
    "# Assignment 6 - Part 1: Tutorial on SQL and Pandas\n",
    "\n",
    "Tutorial Author: Eni Mustafaraj  \n",
    "Completed by student: Shreya Parjan\n",
    "\n",
    "**Summary:** In this notebook, you will perform two steps in the data science cycle, getting data and exploring data. These are iterative steps, as we know. We might need to be in this loop for a while, until we get to know better what questions we can answer with this data. \n",
    "\n",
    "**Table of Contents**\n",
    "1. [Overview - What is the history database](#sec1)\n",
    "2. [The `sqlite3` module](#sec2)\n",
    "3. [Explore the table `visits`](#sec3)\n",
    "4. [Find most visited websites](#sec4)\n",
    "5. [Connecting with pandas](#sec5)\n",
    "6. [Joining two tables](#sec6)"
   ]
  },
  {
   "cell_type": "markdown",
   "metadata": {},
   "source": [
    "<a id=\"sec1\"></a>"
   ]
  },
  {
   "cell_type": "markdown",
   "metadata": {},
   "source": [
    "## 1. Overview - What is the History database?\n",
    "\n",
    "The Chrome browser keeps track of interactions you perform while using it:\n",
    "\n",
    "+ searches you perform on the \"location\" bar  \n",
    "+ urls you open either by navigating directly or by clicking on links on a web page\n",
    "\n",
    "All this information is stored in a file named 'History', which is a database file using the **SQLite format 3** \n",
    "\n",
    "\n",
    "If you open the file with a text editor (or do \"more History\" on a console), at the very top of the file you'll notice: **SQLite format 3**, which is how we know its format. Then, we can either explore the file with the SQLite browser (see Assignment 6 notes), or via Python's module, sqlite3."
   ]
  },
  {
   "cell_type": "markdown",
   "metadata": {},
   "source": [
    "<a id=\"sec2\"></a>"
   ]
  },
  {
   "cell_type": "markdown",
   "metadata": {},
   "source": [
    "## 2. The `sqlite3` module\n",
    "\n",
    "The most common way to store data is as tables in databases. There are many database systems out there, with the most used ones being **relational database management systems**, which make use of SQL (structured query language). However, NoSQL databases systems like MongoDB or Redis are also very popular. \n",
    "\n",
    "SQLite is a database management system that doesn't require a server, which makes it different from more traditional systems like MySQL or Oracle. \n",
    "\n",
    "To learn more about SQLite, I recommend [their tutorial](http://www.sqlitetutorial.net/). However, the CS 304 lecture notes we discussed in class have given you sufficient knowledge to understand this tutorial.\n",
    "\n",
    "We will use Python's interface `sqlite3` to connect to the History file, in order to read its content and submit different queries. \n",
    "\n",
    "There is a [very short (one page) tutorial](http://www.sqlitetutorial.net/sqlite-python/sqlite-python-select/) in their website that shows how to talk to SQLite only to query data."
   ]
  },
  {
   "cell_type": "code",
   "execution_count": 1,
   "metadata": {},
   "outputs": [],
   "source": [
    "import sqlite3"
   ]
  },
  {
   "cell_type": "markdown",
   "metadata": {},
   "source": [
    "To talk to a database, we need to establish a connection to it. It's a bit similar to opening files, we have to provide the path to the database."
   ]
  },
  {
   "cell_type": "code",
   "execution_count": 2,
   "metadata": {},
   "outputs": [],
   "source": [
    "path = \"History\" # if you stored the file in the folder\n",
    "conn = sqlite3.connect(path)"
   ]
  },
  {
   "cell_type": "markdown",
   "metadata": {},
   "source": [
    "To talk to the database now that we have a connection, we need to create a \"cursor\" object. Through the cursor we will execute queries in the database, for example, find the tables of a database:"
   ]
  },
  {
   "cell_type": "code",
   "execution_count": 3,
   "metadata": {},
   "outputs": [
    {
     "name": "stdout",
     "output_type": "stream",
     "text": [
      "('meta',)\n",
      "('urls',)\n",
      "('sqlite_sequence',)\n",
      "('visits',)\n",
      "('visit_source',)\n",
      "('keyword_search_terms',)\n",
      "('downloads',)\n",
      "('downloads_url_chains',)\n",
      "('downloads_slices',)\n",
      "('segments',)\n",
      "('segment_usage',)\n",
      "('typed_url_sync_metadata',)\n"
     ]
    }
   ],
   "source": [
    "cursor = conn.cursor()\n",
    "cursor.execute(\"SELECT name FROM sqlite_master WHERE type='table';\")\n",
    "for data in cursor.fetchall():\n",
    "    print(data)"
   ]
  },
  {
   "cell_type": "markdown",
   "metadata": {},
   "source": [
    "We saw above an example of a query: `\"SELECT name FROM sqlite_master WHERE type='table';\"`. This is a bit more complicated that the queries we will be usually running, because we didn't know what tables are in the database. \n",
    "\n",
    "\n",
    "Now that we know the names of the tables, we can write queries to read rows from these tables."
   ]
  },
  {
   "cell_type": "code",
   "execution_count": 4,
   "metadata": {},
   "outputs": [
    {
     "data": {
      "text/plain": [
       "(('id', None, None, None, None, None, None),\n",
       " ('url', None, None, None, None, None, None),\n",
       " ('title', None, None, None, None, None, None),\n",
       " ('visit_count', None, None, None, None, None, None),\n",
       " ('typed_count', None, None, None, None, None, None),\n",
       " ('last_visit_time', None, None, None, None, None, None),\n",
       " ('hidden', None, None, None, None, None, None))"
      ]
     },
     "execution_count": 4,
     "metadata": {},
     "output_type": "execute_result"
    }
   ],
   "source": [
    "# This means: select everything from the table urls\n",
    "cursor = conn.execute('SELECT * FROM urls')\n",
    "\n",
    "# This asks to show a description of the columns of the table\n",
    "cursor.description"
   ]
  },
  {
   "cell_type": "markdown",
   "metadata": {},
   "source": [
    "It seems that the only useful information is the name of the columns, so we'll focus on them:"
   ]
  },
  {
   "cell_type": "code",
   "execution_count": 5,
   "metadata": {},
   "outputs": [
    {
     "data": {
      "text/plain": [
       "['id',\n",
       " 'url',\n",
       " 'title',\n",
       " 'visit_count',\n",
       " 'typed_count',\n",
       " 'last_visit_time',\n",
       " 'hidden']"
      ]
     },
     "execution_count": 5,
     "metadata": {},
     "output_type": "execute_result"
    }
   ],
   "source": [
    "def colnames(crs):\n",
    "    \"\"\"helper function to get column names\"\"\"\n",
    "    return [description[0] for description in crs.description]\n",
    "\n",
    "colnames(cursor)"
   ]
  },
  {
   "cell_type": "markdown",
   "metadata": {},
   "source": [
    "The purpose of knowing the column names is to use them in queries. For example, the query below asks to extract the values of only three columns:"
   ]
  },
  {
   "cell_type": "code",
   "execution_count": 6,
   "metadata": {},
   "outputs": [
    {
     "name": "stdout",
     "output_type": "stream",
     "text": [
      "('https://sakai.wellesley.edu/portal', 'Sakai : Home : Overview', 44)\n",
      "('https://machinelearningmastery.com/', 'Machine Learning Mastery', 0)\n",
      "('https://docs.google.com/document/d/1pYzPRXHfbT1FfqJzYmRwnZujkKDFnNISc0XWVmoInEk/edit?fbclid=IwAR1MMR5v3JKEPw4eiPbC5_QZhdz2Q3HQd-3AnBG_-H9s3lADXvNKRZTlPcE', 'Things to do in Boston (and surrounding areas) by a local - Google Docs', 0)\n",
      "('https://www.wellesley.edu/', 'Wellesley College', 9)\n",
      "('https://courses.wellesley.edu/', 'Course Browser', 72)\n",
      "('https://www.linkedin.com/in/shreya-parjan/', 'Shreya Parjan | LinkedIn', 103)\n",
      "('https://www.primevideo.com/', 'Prime Video', 1)\n",
      "('https://www.amazon.com/aiv/ref=atv_prm_rb_ret_web_b', 'Amazon.com: Prime Video: Prime Video', 1)\n",
      "('https://www.amazon.com/video', 'Amazon.com: Prime Video: Prime Video', 1)\n",
      "('https://www.amazon.com/Amazon-Video/b/?&node=2858778011', 'Amazon.com: Prime Video: Prime Video', 2)\n"
     ]
    }
   ],
   "source": [
    "cursor = conn.execute('SELECT url, title, visit_count FROM urls')\n",
    "rows = cursor.fetchall()\n",
    "for i in range(10):\n",
    "    print(rows[i])"
   ]
  },
  {
   "cell_type": "markdown",
   "metadata": {},
   "source": [
    "If we want the values from all columns to be displayed, we will use again * to select everything:"
   ]
  },
  {
   "cell_type": "code",
   "execution_count": 7,
   "metadata": {},
   "outputs": [
    {
     "name": "stdout",
     "output_type": "stream",
     "text": [
      "(53911, 'https://sakai.wellesley.edu/portal', 'Sakai : Home : Overview', 44, 17, 13218496141744308, 0)\n",
      "(58294, 'https://machinelearningmastery.com/', 'Machine Learning Mastery', 0, 0, 0, 0)\n",
      "(83474, 'https://docs.google.com/document/d/1pYzPRXHfbT1FfqJzYmRwnZujkKDFnNISc0XWVmoInEk/edit?fbclid=IwAR1MMR5v3JKEPw4eiPbC5_QZhdz2Q3HQd-3AnBG_-H9s3lADXvNKRZTlPcE', 'Things to do in Boston (and surrounding areas) by a local - Google Docs', 0, 0, 0, 0)\n",
      "(103291, 'https://www.wellesley.edu/', 'Wellesley College', 9, 4, 13219176009839124, 0)\n",
      "(103295, 'https://courses.wellesley.edu/', 'Course Browser', 72, 61, 13219441646221600, 0)\n",
      "(103297, 'https://www.linkedin.com/in/shreya-parjan/', 'Shreya Parjan | LinkedIn', 103, 80, 13219429780327366, 0)\n",
      "(103299, 'https://www.primevideo.com/', 'Prime Video', 1, 1, 13213501369059691, 0)\n",
      "(103300, 'https://www.amazon.com/aiv/ref=atv_prm_rb_ret_web_b', 'Amazon.com: Prime Video: Prime Video', 1, 0, 13213501372221443, 0)\n",
      "(103301, 'https://www.amazon.com/video', 'Amazon.com: Prime Video: Prime Video', 1, 0, 13213501372221443, 0)\n",
      "(103302, 'https://www.amazon.com/Amazon-Video/b/?&node=2858778011', 'Amazon.com: Prime Video: Prime Video', 2, 0, 13213501377629736, 0)\n"
     ]
    }
   ],
   "source": [
    "cursor = conn.execute('SELECT * FROM urls')\n",
    "rows = cursor.fetchall()\n",
    "for i in range(10):\n",
    "    print(rows[i])"
   ]
  },
  {
   "cell_type": "markdown",
   "metadata": {},
   "source": [
    "An interesting column of this table is `last_visit_time`, which doesn't seem to be in a datetime format we know. We'll investigate that format in the next section."
   ]
  },
  {
   "cell_type": "markdown",
   "metadata": {},
   "source": [
    "<a id=\"sec3\"></a>"
   ]
  },
  {
   "cell_type": "markdown",
   "metadata": {},
   "source": [
    "## 3. Explore the table `visits`\n",
    "\n",
    "One promising table in the database is the one named `visits`, let's look more into it:"
   ]
  },
  {
   "cell_type": "code",
   "execution_count": 8,
   "metadata": {},
   "outputs": [
    {
     "data": {
      "text/plain": [
       "(('id', None, None, None, None, None, None),\n",
       " ('url', None, None, None, None, None, None),\n",
       " ('visit_time', None, None, None, None, None, None),\n",
       " ('from_visit', None, None, None, None, None, None),\n",
       " ('transition', None, None, None, None, None, None),\n",
       " ('segment_id', None, None, None, None, None, None),\n",
       " ('visit_duration', None, None, None, None, None, None),\n",
       " ('incremented_omnibox_typed_score', None, None, None, None, None, None))"
      ]
     },
     "execution_count": 8,
     "metadata": {},
     "output_type": "execute_result"
    }
   ],
   "source": [
    "cursor = conn.execute('SELECT * FROM visits')\n",
    "cursor.description"
   ]
  },
  {
   "cell_type": "markdown",
   "metadata": {},
   "source": [
    "Let's check what a row looks like, by looking at a few of them:"
   ]
  },
  {
   "cell_type": "code",
   "execution_count": 9,
   "metadata": {},
   "outputs": [
    {
     "data": {
      "text/plain": [
       "[(7488, 103937, 13211749242018170, 0, 838860801, 0, 0, 1),\n",
       " (7489, 103937, 13211749243027380, 0, 805306368, 0, 0, 0),\n",
       " (7490, 103937, 13211783739941323, 0, 838860801, 0, 0, 1),\n",
       " (7491, 106000, 13211779542201204, 0, 2684354561, 0, 0, 0),\n",
       " (7492, 106001, 13211779542201204, 0, 268435457, 0, 0, 1)]"
      ]
     },
     "execution_count": 9,
     "metadata": {},
     "output_type": "execute_result"
    }
   ],
   "source": [
    "cursor.fetchall()[:5]"
   ]
  },
  {
   "cell_type": "markdown",
   "metadata": {},
   "source": [
    "While the column names sound interesting, it looks like the values are not that useful immediately, we'll need to look up the url in the urls table, and need to figure out whether some of the fields have values different from 0."
   ]
  },
  {
   "cell_type": "code",
   "execution_count": 10,
   "metadata": {},
   "outputs": [
    {
     "name": "stdout",
     "output_type": "stream",
     "text": [
      "['id', 'url', 'visit_time', 'from_visit', 'transition', 'segment_id', 'visit_duration', 'incremented_omnibox_typed_score']\n",
      "(7540, 105570, 13212039010108657, 7539, 2684354561, 0, 0, 0)\n",
      "(7573, 106030, 13212051431605855, 7572, 268435463, 0, 0, 0)\n",
      "(7574, 106031, 13212051431605855, 7573, 2684354567, 0, 0, 0)\n",
      "(7575, 106028, 13212051433816368, 7572, 805306368, 0, 0, 0)\n",
      "(7576, 106032, 13212051487098172, 7575, 1073741824, 0, 0, 0)\n"
     ]
    }
   ],
   "source": [
    "cursor = conn.execute('SELECT * FROM visits WHERE from_visit != 0 ORDER BY segment_id')\n",
    "print(colnames(cursor))\n",
    "rows = cursor.fetchall()\n",
    "for i in range(5):\n",
    "    print(rows[i])"
   ]
  },
  {
   "cell_type": "markdown",
   "metadata": {},
   "source": [
    "There are a few interesting observations to make here:\n",
    "\n",
    "1. The `segment_id` seems like the value that links together several consequtive visits. \n",
    "2. Apparently Chrome calculates the visit duration, and stores it in `visit_duration`. We need to learn what unit they are using, most likely microseconds.\n",
    "3. The `visit_time` is also in a strange format: number of microseconds since January, 1601. [See this SO stack](https://stackoverflow.com/questions/2193820/convert-chrome-history-date-time-stamp-to-readable-format)."
   ]
  },
  {
   "cell_type": "markdown",
   "metadata": {},
   "source": [
    "To make sense of these data, let's do two things:\n",
    "\n",
    "- create meaningful timestamps\n",
    "- connect to the URLs"
   ]
  },
  {
   "cell_type": "markdown",
   "metadata": {},
   "source": [
    "### Figuring out the time stamps\n",
    "\n",
    "This [SO thread](https://stackoverflow.com/questions/2193820/convert-chrome-history-date-time-stamp-to-readable-format) explains how to convert Chrome timestamps into datetime:"
   ]
  },
  {
   "cell_type": "code",
   "execution_count": 11,
   "metadata": {},
   "outputs": [],
   "source": [
    "import datetime\n",
    "\n",
    "def convertChromeTime(ms):\n",
    "    \"\"\"Convert the amount of microsends into a datetime object. \n",
    "    Google chrome doesn't use Unix epoch.\n",
    "    \"\"\"\n",
    "    return datetime.datetime(1601, 1, 1) + datetime.timedelta(microseconds=ms)"
   ]
  },
  {
   "cell_type": "markdown",
   "metadata": {},
   "source": [
    "Let's test the function:"
   ]
  },
  {
   "cell_type": "code",
   "execution_count": 12,
   "metadata": {},
   "outputs": [
    {
     "data": {
      "text/plain": [
       "'2019-08-03 14:12:36.230740'"
      ]
     },
     "execution_count": 12,
     "metadata": {},
     "output_type": "execute_result"
    }
   ],
   "source": [
    "str(convertChromeTime(13209315156230740))"
   ]
  },
  {
   "cell_type": "markdown",
   "metadata": {},
   "source": [
    "Let's print now both the datetime and the URL of each visit:\n",
    "\n",
    "**ATTENTION:** If you don't have a segment_id with value 2, try another value (look up your data)."
   ]
  },
  {
   "cell_type": "code",
   "execution_count": 27,
   "metadata": {},
   "outputs": [],
   "source": [
    "cursor = conn.execute('SELECT * FROM visits WHERE segment_id == 2')\n",
    "\n",
    "for row in cursor.fetchall()[:10]:\n",
    "    date = convertChromeTime(row[0]) # index of date\n",
    "    url = conn.execute('SELECT url FROM urls WHERE id = ?', (row[1],)).fetchall()[0]\n",
    "    print(str(date)[:19], url)"
   ]
  },
  {
   "cell_type": "markdown",
   "metadata": {},
   "source": [
    "**Two notes about the code:**\n",
    "1. Notice the syntax for finding the URL value, there is a question mark in the SQL string, and a tuple as a parameter for the string that provides the value for the question mark.\n",
    "2. The date string has the milliseconds in it, so we slice at [:19], to get rid of those digits.\n",
    "\n",
    "\n",
    "Let us now look more into `segment_id`, let's find some other values."
   ]
  },
  {
   "cell_type": "code",
   "execution_count": 14,
   "metadata": {},
   "outputs": [
    {
     "name": "stdout",
     "output_type": "stream",
     "text": [
      "156 unique segment_id's\n",
      "(0,)\n",
      "(630,)\n",
      "(617,)\n",
      "(613,)\n",
      "(610,)\n",
      "(634,)\n",
      "(621,)\n",
      "(604,)\n",
      "(606,)\n",
      "(635,)\n"
     ]
    }
   ],
   "source": [
    "cursor = conn.execute('SELECT DISTINCT segment_id FROM visits;')\n",
    "rows = cursor.fetchall()\n",
    "print(len(rows), \"unique segment_id's\")\n",
    "for i in range(10):\n",
    "    print(rows[i])"
   ]
  },
  {
   "cell_type": "markdown",
   "metadata": {},
   "source": [
    "So, there are plenty of `segment_id`s, which then occur many times. Let's check another `segment_id`. **Make sure you have this number. I'm trying 42, which is in the list.**"
   ]
  },
  {
   "cell_type": "code",
   "execution_count": 15,
   "metadata": {},
   "outputs": [],
   "source": [
    "cursor = conn.execute('SELECT * FROM visits WHERE segment_id == 42')\n",
    "\n",
    "for row in cursor.fetchall()[:10]:\n",
    "    date = convertChromeTime(row[2]) # index of date\n",
    "    url = conn.execute('SELECT url FROM urls WHERE id = ?', (row[1],)).fetchall()[0]\n",
    "    print(str(date)[:19], url)"
   ]
  },
  {
   "cell_type": "markdown",
   "metadata": {},
   "source": [
    "Look up the last ten rows:"
   ]
  },
  {
   "cell_type": "code",
   "execution_count": 17,
   "metadata": {},
   "outputs": [],
   "source": [
    "cursor = conn.execute('SELECT * FROM visits WHERE segment_id == 42')\n",
    "\n",
    "for row in cursor.fetchall()[-10:]: # the last ten rows\n",
    "    date = convertChromeTime(row[2]) # index of date\n",
    "    url = conn.execute('SELECT url FROM urls WHERE id = ?', (row[1],)).fetchall()[0]\n",
    "    print(str(date)[:19], url)"
   ]
  },
  {
   "cell_type": "markdown",
   "metadata": {},
   "source": [
    "Thus, it certainly looks like segment_id is associated with visits on the same website, but such visit cna happen across multiple days."
   ]
  },
  {
   "cell_type": "markdown",
   "metadata": {},
   "source": [
    "<a id=\"sec4\"></a>"
   ]
  },
  {
   "cell_type": "markdown",
   "metadata": {},
   "source": [
    "## 4. Find most visited website\n",
    "\n",
    "In the beginning of the notebook we saw that the table url contains counts for visits on particular URLs:"
   ]
  },
  {
   "cell_type": "code",
   "execution_count": 18,
   "metadata": {},
   "outputs": [
    {
     "data": {
      "text/plain": [
       "[('https://sakai.wellesley.edu/portal', 'Sakai : Home : Overview', 44),\n",
       " ('https://machinelearningmastery.com/', 'Machine Learning Mastery', 0),\n",
       " ('https://docs.google.com/document/d/1pYzPRXHfbT1FfqJzYmRwnZujkKDFnNISc0XWVmoInEk/edit?fbclid=IwAR1MMR5v3JKEPw4eiPbC5_QZhdz2Q3HQd-3AnBG_-H9s3lADXvNKRZTlPcE',\n",
       "  'Things to do in Boston (and surrounding areas) by a local - Google Docs',\n",
       "  0),\n",
       " ('https://www.wellesley.edu/', 'Wellesley College', 9),\n",
       " ('https://courses.wellesley.edu/', 'Course Browser', 72),\n",
       " ('https://www.linkedin.com/in/shreya-parjan/',\n",
       "  'Shreya Parjan | LinkedIn',\n",
       "  103),\n",
       " ('https://www.primevideo.com/', 'Prime Video', 1),\n",
       " ('https://www.amazon.com/aiv/ref=atv_prm_rb_ret_web_b',\n",
       "  'Amazon.com: Prime Video: Prime Video',\n",
       "  1),\n",
       " ('https://www.amazon.com/video', 'Amazon.com: Prime Video: Prime Video', 1),\n",
       " ('https://www.amazon.com/Amazon-Video/b/?&node=2858778011',\n",
       "  'Amazon.com: Prime Video: Prime Video',\n",
       "  2)]"
      ]
     },
     "execution_count": 18,
     "metadata": {},
     "output_type": "execute_result"
    }
   ],
   "source": [
    "cursor = conn.execute('SELECT url, title, visit_count FROM urls')\n",
    "cursor.fetchall()[:10]"
   ]
  },
  {
   "cell_type": "markdown",
   "metadata": {},
   "source": [
    "But this data contains a lot of repetitions, because it's looking at unique URLs, instead of domain names. Thus, it makes sense to only look for domain names."
   ]
  },
  {
   "cell_type": "markdown",
   "metadata": {},
   "source": [
    "### Extracting domain names from URLs\n",
    "\n",
    "We don't need to do anything special, we simply use one of Python's libraries for parsing URLs:"
   ]
  },
  {
   "cell_type": "code",
   "execution_count": 19,
   "metadata": {},
   "outputs": [],
   "source": [
    "from urllib import parse"
   ]
  },
  {
   "cell_type": "code",
   "execution_count": 20,
   "metadata": {},
   "outputs": [
    {
     "data": {
      "text/plain": [
       "ParseResult(scheme='https', netloc='portal.wellesley.edu', path='/frontpage', params='', query='destination=frontpage', fragment='')"
      ]
     },
     "execution_count": 20,
     "metadata": {},
     "output_type": "execute_result"
    }
   ],
   "source": [
    "parse.urlparse('https://portal.wellesley.edu/frontpage?destination=frontpage')"
   ]
  },
  {
   "cell_type": "markdown",
   "metadata": {},
   "source": [
    "There are multiple parts here, we are interested in \"netloc\":"
   ]
  },
  {
   "cell_type": "code",
   "execution_count": 21,
   "metadata": {},
   "outputs": [
    {
     "data": {
      "text/plain": [
       "'portal.wellesley.edu'"
      ]
     },
     "execution_count": 21,
     "metadata": {},
     "output_type": "execute_result"
    }
   ],
   "source": [
    "parse.urlparse('https://portal.wellesley.edu/frontpage?destination=frontpage').netloc"
   ]
  },
  {
   "cell_type": "markdown",
   "metadata": {},
   "source": [
    "### Counting domain names\n",
    "\n",
    "The algorithm:\n",
    "- get every URL and its count as it is shown in the urls table\n",
    "- extract the domain name (that leaves out specific parts of the URL)\n",
    "- update count of domain names"
   ]
  },
  {
   "cell_type": "code",
   "execution_count": 22,
   "metadata": {},
   "outputs": [
    {
     "data": {
      "text/plain": [
       "[('docs.google.com', 28673),\n",
       " ('www.google.com', 6605),\n",
       " ('mail.google.com', 4048),\n",
       " ('oemmndcbldboiebfnladdacbdfmadadm', 3882),\n",
       " ('www.messenger.com', 2301),\n",
       " ('drive.google.com', 2227),\n",
       " ('calendar.google.com', 1335),\n",
       " ('www.linkedin.com', 1182),\n",
       " ('www.facebook.com', 1081),\n",
       " ('translate.google.com', 990)]"
      ]
     },
     "execution_count": 22,
     "metadata": {},
     "output_type": "execute_result"
    }
   ],
   "source": [
    "from collections import Counter\n",
    "\n",
    "domainCounter = Counter()\n",
    "cursor = conn.execute('SELECT url, visit_count FROM urls')\n",
    "\n",
    "for row in cursor.fetchall():\n",
    "    url, count = row # grab the exisiting count for that URL\n",
    "    domain = parse.urlparse(url).netloc\n",
    "    domainCounter[domain] += count # accumulate URL counts\n",
    "    \n",
    "domainCounter.most_common(10)"
   ]
  },
  {
   "cell_type": "markdown",
   "metadata": {},
   "source": [
    "My results look like this:\n",
    "\n",
    "```\n",
    "[('docs.google.com', 70933),\n",
    " ('mail.google.com', 16455),\n",
    " ('www.google.com', 4068),\n",
    " ('calendar.google.com', 3644),\n",
    " ('cs.wellesley.edu', 2740),\n",
    " ('slides.com', 1785),\n",
    " ('', 1543),\n",
    " ('webapps.wellesley.edu', 1425),\n",
    " ('drive.google.com', 1364),\n",
    " ('classroom.google.com', 1334)]\n",
    "```\n",
    "\n",
    "They clearly indicate how much my work relies on Google docs and email and that I work at Wellesley CS, and that I'm using Google Classrooom this semester. \n",
    "\n",
    "What does your top 10 look like? Describe them below. What do they say about you?\n",
    "\n",
    "Most of my top sites are associated with Google productivity tools. They would confirm that I'm a student or young professional. However, I'm unsure what my fourth most popular site is referring to. Upon further investigation, 'oemmndcbldboiebfnladdacbdfmadadm' seems to refer to extension I downloaded to open pdfs in my browser."
   ]
  },
  {
   "cell_type": "markdown",
   "metadata": {},
   "source": [
    "<a id=\"sec5\"></a>"
   ]
  },
  {
   "cell_type": "markdown",
   "metadata": {},
   "source": [
    "## 5. Connecting with pandas\n",
    "\n",
    "It turns out, the almighty `pandas` can talk the `sqlite3` and convert tables into dataframes."
   ]
  },
  {
   "cell_type": "code",
   "execution_count": 28,
   "metadata": {},
   "outputs": [],
   "source": [
    "import pandas as pd"
   ]
  },
  {
   "cell_type": "code",
   "execution_count": 29,
   "metadata": {},
   "outputs": [
    {
     "data": {
      "text/html": [
       "<div>\n",
       "<style scoped>\n",
       "    .dataframe tbody tr th:only-of-type {\n",
       "        vertical-align: middle;\n",
       "    }\n",
       "\n",
       "    .dataframe tbody tr th {\n",
       "        vertical-align: top;\n",
       "    }\n",
       "\n",
       "    .dataframe thead th {\n",
       "        text-align: right;\n",
       "    }\n",
       "</style>\n",
       "<table border=\"1\" class=\"dataframe\">\n",
       "  <thead>\n",
       "    <tr style=\"text-align: right;\">\n",
       "      <th></th>\n",
       "      <th>id</th>\n",
       "      <th>url</th>\n",
       "      <th>title</th>\n",
       "      <th>visit_count</th>\n",
       "      <th>typed_count</th>\n",
       "      <th>last_visit_time</th>\n",
       "      <th>hidden</th>\n",
       "    </tr>\n",
       "  </thead>\n",
       "  <tbody>\n",
       "    <tr>\n",
       "      <th>0</th>\n",
       "      <td>53911</td>\n",
       "      <td>https://sakai.wellesley.edu/portal</td>\n",
       "      <td>Sakai : Home : Overview</td>\n",
       "      <td>44</td>\n",
       "      <td>17</td>\n",
       "      <td>13218496141744308</td>\n",
       "      <td>0</td>\n",
       "    </tr>\n",
       "    <tr>\n",
       "      <th>1</th>\n",
       "      <td>58294</td>\n",
       "      <td>https://machinelearningmastery.com/</td>\n",
       "      <td>Machine Learning Mastery</td>\n",
       "      <td>0</td>\n",
       "      <td>0</td>\n",
       "      <td>0</td>\n",
       "      <td>0</td>\n",
       "    </tr>\n",
       "    <tr>\n",
       "      <th>2</th>\n",
       "      <td>83474</td>\n",
       "      <td>https://docs.google.com/document/d/1pYzPRXHfbT...</td>\n",
       "      <td>Things to do in Boston (and surrounding areas)...</td>\n",
       "      <td>0</td>\n",
       "      <td>0</td>\n",
       "      <td>0</td>\n",
       "      <td>0</td>\n",
       "    </tr>\n",
       "    <tr>\n",
       "      <th>3</th>\n",
       "      <td>103291</td>\n",
       "      <td>https://www.wellesley.edu/</td>\n",
       "      <td>Wellesley College</td>\n",
       "      <td>9</td>\n",
       "      <td>4</td>\n",
       "      <td>13219176009839124</td>\n",
       "      <td>0</td>\n",
       "    </tr>\n",
       "    <tr>\n",
       "      <th>4</th>\n",
       "      <td>103295</td>\n",
       "      <td>https://courses.wellesley.edu/</td>\n",
       "      <td>Course Browser</td>\n",
       "      <td>72</td>\n",
       "      <td>61</td>\n",
       "      <td>13219441646221600</td>\n",
       "      <td>0</td>\n",
       "    </tr>\n",
       "  </tbody>\n",
       "</table>\n",
       "</div>"
      ],
      "text/plain": [
       "       id                                                url  \\\n",
       "0   53911                 https://sakai.wellesley.edu/portal   \n",
       "1   58294                https://machinelearningmastery.com/   \n",
       "2   83474  https://docs.google.com/document/d/1pYzPRXHfbT...   \n",
       "3  103291                         https://www.wellesley.edu/   \n",
       "4  103295                     https://courses.wellesley.edu/   \n",
       "\n",
       "                                               title  visit_count  \\\n",
       "0                            Sakai : Home : Overview           44   \n",
       "1                           Machine Learning Mastery            0   \n",
       "2  Things to do in Boston (and surrounding areas)...            0   \n",
       "3                                  Wellesley College            9   \n",
       "4                                     Course Browser           72   \n",
       "\n",
       "   typed_count    last_visit_time  hidden  \n",
       "0           17  13218496141744308       0  \n",
       "1            0                  0       0  \n",
       "2            0                  0       0  \n",
       "3            4  13219176009839124       0  \n",
       "4           61  13219441646221600       0  "
      ]
     },
     "execution_count": 29,
     "metadata": {},
     "output_type": "execute_result"
    }
   ],
   "source": [
    "# notice the second argument, the variable that stores the connection\n",
    "df = pd.read_sql_query(\"SELECT * FROM urls\", conn)\n",
    "df.head()"
   ]
  },
  {
   "cell_type": "markdown",
   "metadata": {},
   "source": [
    "Remember vectorized operations? That is, operations that through the method `apply` can be applied to the whole column. We can apply the helper function `convertChromeTime` to the column `last_visit_time` to get the datetime:"
   ]
  },
  {
   "cell_type": "code",
   "execution_count": 30,
   "metadata": {},
   "outputs": [],
   "source": [
    "# I'm creating a new column in the dataframe\n",
    "df['datetime'] = df['last_visit_time'].apply(convertChromeTime)"
   ]
  },
  {
   "cell_type": "code",
   "execution_count": 31,
   "metadata": {},
   "outputs": [
    {
     "data": {
      "text/html": [
       "<div>\n",
       "<style scoped>\n",
       "    .dataframe tbody tr th:only-of-type {\n",
       "        vertical-align: middle;\n",
       "    }\n",
       "\n",
       "    .dataframe tbody tr th {\n",
       "        vertical-align: top;\n",
       "    }\n",
       "\n",
       "    .dataframe thead th {\n",
       "        text-align: right;\n",
       "    }\n",
       "</style>\n",
       "<table border=\"1\" class=\"dataframe\">\n",
       "  <thead>\n",
       "    <tr style=\"text-align: right;\">\n",
       "      <th></th>\n",
       "      <th>id</th>\n",
       "      <th>url</th>\n",
       "      <th>title</th>\n",
       "      <th>visit_count</th>\n",
       "      <th>typed_count</th>\n",
       "      <th>last_visit_time</th>\n",
       "      <th>hidden</th>\n",
       "      <th>datetime</th>\n",
       "    </tr>\n",
       "  </thead>\n",
       "  <tbody>\n",
       "    <tr>\n",
       "      <th>0</th>\n",
       "      <td>53911</td>\n",
       "      <td>https://sakai.wellesley.edu/portal</td>\n",
       "      <td>Sakai : Home : Overview</td>\n",
       "      <td>44</td>\n",
       "      <td>17</td>\n",
       "      <td>13218496141744308</td>\n",
       "      <td>0</td>\n",
       "      <td>2019-11-17 20:29:01.744308</td>\n",
       "    </tr>\n",
       "    <tr>\n",
       "      <th>1</th>\n",
       "      <td>58294</td>\n",
       "      <td>https://machinelearningmastery.com/</td>\n",
       "      <td>Machine Learning Mastery</td>\n",
       "      <td>0</td>\n",
       "      <td>0</td>\n",
       "      <td>0</td>\n",
       "      <td>0</td>\n",
       "      <td>1601-01-01 00:00:00</td>\n",
       "    </tr>\n",
       "    <tr>\n",
       "      <th>2</th>\n",
       "      <td>83474</td>\n",
       "      <td>https://docs.google.com/document/d/1pYzPRXHfbT...</td>\n",
       "      <td>Things to do in Boston (and surrounding areas)...</td>\n",
       "      <td>0</td>\n",
       "      <td>0</td>\n",
       "      <td>0</td>\n",
       "      <td>0</td>\n",
       "      <td>1601-01-01 00:00:00</td>\n",
       "    </tr>\n",
       "    <tr>\n",
       "      <th>3</th>\n",
       "      <td>103291</td>\n",
       "      <td>https://www.wellesley.edu/</td>\n",
       "      <td>Wellesley College</td>\n",
       "      <td>9</td>\n",
       "      <td>4</td>\n",
       "      <td>13219176009839124</td>\n",
       "      <td>0</td>\n",
       "      <td>2019-11-25 17:20:09.839124</td>\n",
       "    </tr>\n",
       "    <tr>\n",
       "      <th>4</th>\n",
       "      <td>103295</td>\n",
       "      <td>https://courses.wellesley.edu/</td>\n",
       "      <td>Course Browser</td>\n",
       "      <td>72</td>\n",
       "      <td>61</td>\n",
       "      <td>13219441646221600</td>\n",
       "      <td>0</td>\n",
       "      <td>2019-11-28 19:07:26.221600</td>\n",
       "    </tr>\n",
       "  </tbody>\n",
       "</table>\n",
       "</div>"
      ],
      "text/plain": [
       "       id                                                url  \\\n",
       "0   53911                 https://sakai.wellesley.edu/portal   \n",
       "1   58294                https://machinelearningmastery.com/   \n",
       "2   83474  https://docs.google.com/document/d/1pYzPRXHfbT...   \n",
       "3  103291                         https://www.wellesley.edu/   \n",
       "4  103295                     https://courses.wellesley.edu/   \n",
       "\n",
       "                                               title  visit_count  \\\n",
       "0                            Sakai : Home : Overview           44   \n",
       "1                           Machine Learning Mastery            0   \n",
       "2  Things to do in Boston (and surrounding areas)...            0   \n",
       "3                                  Wellesley College            9   \n",
       "4                                     Course Browser           72   \n",
       "\n",
       "   typed_count    last_visit_time  hidden                    datetime  \n",
       "0           17  13218496141744308       0  2019-11-17 20:29:01.744308  \n",
       "1            0                  0       0         1601-01-01 00:00:00  \n",
       "2            0                  0       0         1601-01-01 00:00:00  \n",
       "3            4  13219176009839124       0  2019-11-25 17:20:09.839124  \n",
       "4           61  13219441646221600       0  2019-11-28 19:07:26.221600  "
      ]
     },
     "execution_count": 31,
     "metadata": {},
     "output_type": "execute_result"
    }
   ],
   "source": [
    "df.head()"
   ]
  },
  {
   "cell_type": "markdown",
   "metadata": {},
   "source": [
    "Find how many URLs:"
   ]
  },
  {
   "cell_type": "code",
   "execution_count": 32,
   "metadata": {},
   "outputs": [
    {
     "data": {
      "text/plain": [
       "(15688, 8)"
      ]
     },
     "execution_count": 32,
     "metadata": {},
     "output_type": "execute_result"
    }
   ],
   "source": [
    "df.shape"
   ]
  },
  {
   "cell_type": "markdown",
   "metadata": {},
   "source": [
    "<a href=\"sec6\"></a>"
   ]
  },
  {
   "cell_type": "markdown",
   "metadata": {},
   "source": [
    "## 6. Joining two tables\n",
    "\n",
    "When we expored the `visits` table, we saw that most of the table contained ID values that point to other tables. For example, the URL value is in the URLS table. We showed an example where we used two different SQL queries: 1) first get rows from `visit`, 2) then look up the url value in the urls tablee. A better way is to combine the two tables together, that is, to join them. \n",
    "\n",
    "Joining is a topic in database theory (briefly mentioned in other slides too), you can read more in this website: [SQLite inner join](http://www.sqlitetutorial.net/sqlite-inner-join/). \n",
    "\n",
    "For our two tables `visits` and `urls`, we'll do the following\n",
    "\n",
    "```\n",
    "SELECT urls.url, visit_time, visit_duration \n",
    "FROM visits\n",
    "INNER JOIN urls on urls.id = visits.url\n",
    "```\n",
    "\n",
    "let's try it out:"
   ]
  },
  {
   "cell_type": "code",
   "execution_count": 33,
   "metadata": {},
   "outputs": [
    {
     "data": {
      "text/plain": [
       "[('https://wellesley.bncollege.com/shop/wellesley/BNCBMyCoursesView?storeId=67736&catalogId=10001&langId=-1&section_1=91659120&campusId=&section_1=91659120&campusId=',\n",
       "  13211749242018170,\n",
       "  0),\n",
       " ('https://wellesley.bncollege.com/shop/wellesley/BNCBMyCoursesView?storeId=67736&catalogId=10001&langId=-1&section_1=91659120&campusId=&section_1=91659120&campusId=',\n",
       "  13211749243027380,\n",
       "  0),\n",
       " ('https://wellesley.bncollege.com/shop/wellesley/BNCBMyCoursesView?storeId=67736&catalogId=10001&langId=-1&section_1=91659120&campusId=&section_1=91659120&campusId=',\n",
       "  13211783739941323,\n",
       "  0)]"
      ]
     },
     "execution_count": 33,
     "metadata": {},
     "output_type": "execute_result"
    }
   ],
   "source": [
    "cursor = conn.execute(\"SELECT urls.url, visit_time, visit_duration FROM visits INNER JOIN urls on urls.id = visits.url\")\n",
    "cursor.fetchall()[:3]"
   ]
  },
  {
   "cell_type": "markdown",
   "metadata": {},
   "source": [
    "Now that we know that the query works, we can create the dataframe of the join:"
   ]
  },
  {
   "cell_type": "code",
   "execution_count": 34,
   "metadata": {},
   "outputs": [
    {
     "data": {
      "text/html": [
       "<div>\n",
       "<style scoped>\n",
       "    .dataframe tbody tr th:only-of-type {\n",
       "        vertical-align: middle;\n",
       "    }\n",
       "\n",
       "    .dataframe tbody tr th {\n",
       "        vertical-align: top;\n",
       "    }\n",
       "\n",
       "    .dataframe thead th {\n",
       "        text-align: right;\n",
       "    }\n",
       "</style>\n",
       "<table border=\"1\" class=\"dataframe\">\n",
       "  <thead>\n",
       "    <tr style=\"text-align: right;\">\n",
       "      <th></th>\n",
       "      <th>url</th>\n",
       "      <th>visit_time</th>\n",
       "      <th>visit_duration</th>\n",
       "    </tr>\n",
       "  </thead>\n",
       "  <tbody>\n",
       "    <tr>\n",
       "      <th>0</th>\n",
       "      <td>https://wellesley.bncollege.com/shop/wellesley...</td>\n",
       "      <td>13211749242018170</td>\n",
       "      <td>0</td>\n",
       "    </tr>\n",
       "    <tr>\n",
       "      <th>1</th>\n",
       "      <td>https://wellesley.bncollege.com/shop/wellesley...</td>\n",
       "      <td>13211749243027380</td>\n",
       "      <td>0</td>\n",
       "    </tr>\n",
       "    <tr>\n",
       "      <th>2</th>\n",
       "      <td>https://wellesley.bncollege.com/shop/wellesley...</td>\n",
       "      <td>13211783739941323</td>\n",
       "      <td>0</td>\n",
       "    </tr>\n",
       "    <tr>\n",
       "      <th>3</th>\n",
       "      <td>https://thecarlylesupremium.com/</td>\n",
       "      <td>13211779542201204</td>\n",
       "      <td>0</td>\n",
       "    </tr>\n",
       "    <tr>\n",
       "      <th>4</th>\n",
       "      <td>http://thecarlylesupremium.com/</td>\n",
       "      <td>13211779542201204</td>\n",
       "      <td>0</td>\n",
       "    </tr>\n",
       "  </tbody>\n",
       "</table>\n",
       "</div>"
      ],
      "text/plain": [
       "                                                 url         visit_time  \\\n",
       "0  https://wellesley.bncollege.com/shop/wellesley...  13211749242018170   \n",
       "1  https://wellesley.bncollege.com/shop/wellesley...  13211749243027380   \n",
       "2  https://wellesley.bncollege.com/shop/wellesley...  13211783739941323   \n",
       "3                   https://thecarlylesupremium.com/  13211779542201204   \n",
       "4                    http://thecarlylesupremium.com/  13211779542201204   \n",
       "\n",
       "   visit_duration  \n",
       "0               0  \n",
       "1               0  \n",
       "2               0  \n",
       "3               0  \n",
       "4               0  "
      ]
     },
     "execution_count": 34,
     "metadata": {},
     "output_type": "execute_result"
    }
   ],
   "source": [
    "query = \"SELECT urls.url, visit_time, visit_duration FROM visits INNER JOIN urls on urls.id = visits.url\"\n",
    "visitAndURLs = pd.read_sql_query(query, conn)\n",
    "visitAndURLs.head()"
   ]
  },
  {
   "cell_type": "markdown",
   "metadata": {},
   "source": [
    "Let's change the times and duration:"
   ]
  },
  {
   "cell_type": "code",
   "execution_count": 35,
   "metadata": {},
   "outputs": [
    {
     "data": {
      "text/html": [
       "<div>\n",
       "<style scoped>\n",
       "    .dataframe tbody tr th:only-of-type {\n",
       "        vertical-align: middle;\n",
       "    }\n",
       "\n",
       "    .dataframe tbody tr th {\n",
       "        vertical-align: top;\n",
       "    }\n",
       "\n",
       "    .dataframe thead th {\n",
       "        text-align: right;\n",
       "    }\n",
       "</style>\n",
       "<table border=\"1\" class=\"dataframe\">\n",
       "  <thead>\n",
       "    <tr style=\"text-align: right;\">\n",
       "      <th></th>\n",
       "      <th>url</th>\n",
       "      <th>visit_time</th>\n",
       "      <th>visit_duration</th>\n",
       "    </tr>\n",
       "  </thead>\n",
       "  <tbody>\n",
       "    <tr>\n",
       "      <th>0</th>\n",
       "      <td>https://wellesley.bncollege.com/shop/wellesley...</td>\n",
       "      <td>2019-08-31 18:20:42.018170</td>\n",
       "      <td>0.0</td>\n",
       "    </tr>\n",
       "    <tr>\n",
       "      <th>1</th>\n",
       "      <td>https://wellesley.bncollege.com/shop/wellesley...</td>\n",
       "      <td>2019-08-31 18:20:43.027380</td>\n",
       "      <td>0.0</td>\n",
       "    </tr>\n",
       "    <tr>\n",
       "      <th>2</th>\n",
       "      <td>https://wellesley.bncollege.com/shop/wellesley...</td>\n",
       "      <td>2019-09-01 03:55:39.941323</td>\n",
       "      <td>0.0</td>\n",
       "    </tr>\n",
       "    <tr>\n",
       "      <th>3</th>\n",
       "      <td>https://thecarlylesupremium.com/</td>\n",
       "      <td>2019-09-01 02:45:42.201204</td>\n",
       "      <td>0.0</td>\n",
       "    </tr>\n",
       "    <tr>\n",
       "      <th>4</th>\n",
       "      <td>http://thecarlylesupremium.com/</td>\n",
       "      <td>2019-09-01 02:45:42.201204</td>\n",
       "      <td>0.0</td>\n",
       "    </tr>\n",
       "  </tbody>\n",
       "</table>\n",
       "</div>"
      ],
      "text/plain": [
       "                                                 url  \\\n",
       "0  https://wellesley.bncollege.com/shop/wellesley...   \n",
       "1  https://wellesley.bncollege.com/shop/wellesley...   \n",
       "2  https://wellesley.bncollege.com/shop/wellesley...   \n",
       "3                   https://thecarlylesupremium.com/   \n",
       "4                    http://thecarlylesupremium.com/   \n",
       "\n",
       "                  visit_time  visit_duration  \n",
       "0 2019-08-31 18:20:42.018170             0.0  \n",
       "1 2019-08-31 18:20:43.027380             0.0  \n",
       "2 2019-09-01 03:55:39.941323             0.0  \n",
       "3 2019-09-01 02:45:42.201204             0.0  \n",
       "4 2019-09-01 02:45:42.201204             0.0  "
      ]
     },
     "execution_count": 35,
     "metadata": {},
     "output_type": "execute_result"
    }
   ],
   "source": [
    "df = visitAndURLs\n",
    "df['visit_duration'] = df['visit_duration'].apply(lambda x: x/1000000.) # convert into seconds\n",
    "df['visit_time'] = df['visit_time'].apply(convertChromeTime)\n",
    "df.head()"
   ]
  },
  {
   "cell_type": "code",
   "execution_count": 36,
   "metadata": {},
   "outputs": [
    {
     "data": {
      "text/html": [
       "<div>\n",
       "<style scoped>\n",
       "    .dataframe tbody tr th:only-of-type {\n",
       "        vertical-align: middle;\n",
       "    }\n",
       "\n",
       "    .dataframe tbody tr th {\n",
       "        vertical-align: top;\n",
       "    }\n",
       "\n",
       "    .dataframe thead th {\n",
       "        text-align: right;\n",
       "    }\n",
       "</style>\n",
       "<table border=\"1\" class=\"dataframe\">\n",
       "  <thead>\n",
       "    <tr style=\"text-align: right;\">\n",
       "      <th></th>\n",
       "      <th>url</th>\n",
       "      <th>visit_time</th>\n",
       "      <th>visit_duration</th>\n",
       "    </tr>\n",
       "  </thead>\n",
       "  <tbody>\n",
       "    <tr>\n",
       "      <th>66765</th>\n",
       "      <td>https://www.google.com/search?q=download+chrom...</td>\n",
       "      <td>2019-11-29 17:15:53.298529</td>\n",
       "      <td>0.0</td>\n",
       "    </tr>\n",
       "    <tr>\n",
       "      <th>66766</th>\n",
       "      <td>https://www.google.com/search?q=download+chrom...</td>\n",
       "      <td>2019-11-29 17:15:54.046805</td>\n",
       "      <td>0.0</td>\n",
       "    </tr>\n",
       "    <tr>\n",
       "      <th>66767</th>\n",
       "      <td>https://superuser.com/questions/359996/export-...</td>\n",
       "      <td>2019-11-29 17:15:55.482710</td>\n",
       "      <td>0.0</td>\n",
       "    </tr>\n",
       "    <tr>\n",
       "      <th>66768</th>\n",
       "      <td>https://chrome.google.com/webstore/detail/expo...</td>\n",
       "      <td>2019-11-29 17:16:06.840659</td>\n",
       "      <td>0.0</td>\n",
       "    </tr>\n",
       "    <tr>\n",
       "      <th>66769</th>\n",
       "      <td>https://superuser.com/questions/359996/export-...</td>\n",
       "      <td>2019-11-29 17:16:12.911349</td>\n",
       "      <td>0.0</td>\n",
       "    </tr>\n",
       "  </tbody>\n",
       "</table>\n",
       "</div>"
      ],
      "text/plain": [
       "                                                     url  \\\n",
       "66765  https://www.google.com/search?q=download+chrom...   \n",
       "66766  https://www.google.com/search?q=download+chrom...   \n",
       "66767  https://superuser.com/questions/359996/export-...   \n",
       "66768  https://chrome.google.com/webstore/detail/expo...   \n",
       "66769  https://superuser.com/questions/359996/export-...   \n",
       "\n",
       "                      visit_time  visit_duration  \n",
       "66765 2019-11-29 17:15:53.298529             0.0  \n",
       "66766 2019-11-29 17:15:54.046805             0.0  \n",
       "66767 2019-11-29 17:15:55.482710             0.0  \n",
       "66768 2019-11-29 17:16:06.840659             0.0  \n",
       "66769 2019-11-29 17:16:12.911349             0.0  "
      ]
     },
     "execution_count": 36,
     "metadata": {},
     "output_type": "execute_result"
    }
   ],
   "source": [
    "df.tail()"
   ]
  },
  {
   "cell_type": "markdown",
   "metadata": {},
   "source": [
    "What we can see here (and I was able to confirm on the Web) is that the history is kept only for the past 3 months. If we need history before that, one would have to store the database in a different file, so that it's not rewritten by Google."
   ]
  },
  {
   "cell_type": "markdown",
   "metadata": {},
   "source": [
    "We can look up how long the visits are, by asking for the description statistics:"
   ]
  },
  {
   "cell_type": "code",
   "execution_count": 37,
   "metadata": {},
   "outputs": [
    {
     "data": {
      "text/plain": [
       "count     66770.000000\n",
       "mean        283.942406\n",
       "std        3652.141063\n",
       "min           0.000000\n",
       "25%           0.000000\n",
       "50%           0.000000\n",
       "75%           0.000000\n",
       "max      275148.596458\n",
       "Name: visit_duration, dtype: float64"
      ]
     },
     "execution_count": 37,
     "metadata": {},
     "output_type": "execute_result"
    }
   ],
   "source": [
    "df['visit_duration'].describe()"
   ]
  },
  {
   "cell_type": "markdown",
   "metadata": {},
   "source": [
    "It looks like the majority is 0.0 sec, maybe because the browser has a hard time calculating visits. This would be a very skewed distribution."
   ]
  },
  {
   "cell_type": "code",
   "execution_count": 38,
   "metadata": {},
   "outputs": [
    {
     "data": {
      "text/plain": [
       "<matplotlib.axes._subplots.AxesSubplot at 0x111b60668>"
      ]
     },
     "execution_count": 38,
     "metadata": {},
     "output_type": "execute_result"
    },
    {
     "data": {
      "image/png": "[encoded data removed]",
      "text/plain": [
       "<Figure size 432x288 with 1 Axes>"
      ]
     },
     "metadata": {},
     "output_type": "display_data"
    }
   ],
   "source": [
    "%matplotlib inline \n",
    "df['visit_duration'].hist()"
   ]
  },
  {
   "cell_type": "code",
   "execution_count": 39,
   "metadata": {},
   "outputs": [
    {
     "data": {
      "text/plain": [
       "<matplotlib.axes._subplots.AxesSubplot at 0x11dc3ad68>"
      ]
     },
     "execution_count": 39,
     "metadata": {},
     "output_type": "execute_result"
    },
    {
     "data": {
      "image/png": "[encoded data removed]",
      "text/plain": [
       "<Figure size 432x288 with 1 Axes>"
      ]
     },
     "metadata": {},
     "output_type": "display_data"
    }
   ],
   "source": [
    "nonZero = df.visit_duration[df.visit_duration>1]\n",
    "nonZero.hist()"
   ]
  },
  {
   "cell_type": "markdown",
   "metadata": {},
   "source": [
    "Now that you got a sense of how to work with SQL and Pandas, go to Part 2 to do your solo explorations."
   ]
  },
  {
   "cell_type": "markdown",
   "metadata": {},
   "source": [
    "<a id=\"sec7\"></a>"
   ]
  }
 ],
 "metadata": {
  "kernelspec": {
   "display_name": "Python 3",
   "language": "python",
   "name": "python3"
  },
  "language_info": {
   "codemirror_mode": {
    "name": "ipython",
    "version": 3
   },
   "file_extension": ".py",
   "mimetype": "text/x-python",
   "name": "python",
   "nbconvert_exporter": "python",
   "pygments_lexer": "ipython3",
   "version": "3.6.5"
  }
 },
 "nbformat": 4,
 "nbformat_minor": 2
}
