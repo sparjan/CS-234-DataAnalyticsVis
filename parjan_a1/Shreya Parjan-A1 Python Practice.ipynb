{
 "cells": [
  {
   "cell_type": "markdown",
   "metadata": {},
   "source": [
    "# Assignment 1: Python Practice\n",
    "\n",
    "Author: Shreya Parjan\n",
    "\n",
    "Sep 12, 2019"
   ]
  },
  {
   "cell_type": "markdown",
   "metadata": {},
   "source": [
    "## PART 1: Python problems to implement simple data science tasks"
   ]
  },
  {
   "cell_type": "markdown",
   "metadata": {},
   "source": [
    "### #1) Descriptive stats for a list of numbers"
   ]
  },
  {
   "cell_type": "code",
   "execution_count": 198,
   "metadata": {},
   "outputs": [
    {
     "name": "stdout",
     "output_type": "stream",
     "text": [
      "N:  9\n",
      "Mean:  10.11111111111111\n",
      "Standard Deviation:  1.9116278371205837\n",
      "Min:  7\n",
      "25%:  9\n",
      "50%:  10\n",
      "75%:  11\n",
      "Max:  14\n"
     ]
    }
   ],
   "source": [
    "import pandas as pd\n",
    "import numpy as np\n",
    "import math\n",
    "\n",
    "numbers = [10,14,11,11,9,8,7,10,11]\n",
    "\n",
    "count = len(numbers)\n",
    "print(\"N: \", count)\n",
    "\n",
    "mean = sum(numbers)/count\n",
    "print(\"Mean: \",mean)\n",
    "\n",
    "in_sigma = 0\n",
    "for i in numbers:\n",
    "    in_sigma += (i-mean)**2\n",
    "std = math.sqrt(in_sigma/count)\n",
    "print(\"Standard Deviation: \",std)\n",
    "\n",
    "numbers_sorted = sorted(numbers)\n",
    "index25 = int(25/100 * count)\n",
    "\n",
    "print(\"Min: \",numbers_sorted[0])\n",
    "\n",
    "print(\"25%: \",numbers_sorted[index25])\n",
    "\n",
    "index50 = int(50/100 * count)\n",
    "print(\"50%: \",numbers_sorted[index50])\n",
    "\n",
    "index75 = int(75/100 * count)\n",
    "print(\"75%: \",numbers_sorted[index75])\n",
    "\n",
    "print(\"Max: \",numbers_sorted[len(numbers_sorted)-1])"
   ]
  },
  {
   "cell_type": "markdown",
   "metadata": {},
   "source": [
    "### #2) Reading groups from lists of names"
   ]
  },
  {
   "cell_type": "code",
   "execution_count": 199,
   "metadata": {},
   "outputs": [],
   "source": [
    "import string\n",
    "twentyLetters = string.ascii_uppercase[:20]"
   ]
  },
  {
   "cell_type": "code",
   "execution_count": 200,
   "metadata": {},
   "outputs": [],
   "source": [
    "def split(twentyLetters): \n",
    "    return [char for char in twentyLetters]\n",
    "twentyLetters = split(twentyLetters)"
   ]
  },
  {
   "cell_type": "markdown",
   "metadata": {},
   "source": [
    "#### Algorithm 1: Assigning random indices"
   ]
  },
  {
   "cell_type": "code",
   "execution_count": 201,
   "metadata": {},
   "outputs": [
    {
     "name": "stdout",
     "output_type": "stream",
     "text": [
      "['Q', 'B', 'F', 'L', 'A']\n",
      "['E', 'K', 'D', 'I', 'R']\n",
      "['M', 'H', 'S', 'N', 'J']\n",
      "['P', 'C', 'O', 'T', 'G']\n"
     ]
    }
   ],
   "source": [
    "import random\n",
    "randList = random.sample(range(len(twentyLetters)), len(twentyLetters))\n",
    "groupList = []\n",
    "\n",
    "for i in randList:\n",
    "    index = randList[i]\n",
    "    groupList.append(twentyLetters[index])\n",
    "\n",
    "j = 0\n",
    "while j<20:\n",
    "    grouper = groupList[j:j+5]\n",
    "    j+=5\n",
    "    print(grouper)"
   ]
  },
  {
   "cell_type": "markdown",
   "metadata": {},
   "source": [
    "#### Algorithm 2: Shuffle() to rearrange letters in list"
   ]
  },
  {
   "cell_type": "code",
   "execution_count": 202,
   "metadata": {},
   "outputs": [
    {
     "name": "stdout",
     "output_type": "stream",
     "text": [
      "['C', 'F', 'E', 'I', 'N']\n",
      "['D', 'H', 'B', 'R', 'J']\n",
      "['P', 'K', 'L', 'T', 'A']\n",
      "['M', 'Q', 'G', 'S', 'O']\n"
     ]
    }
   ],
   "source": [
    "from random import shuffle\n",
    "shuffled_list = [twentyLetters[i] for i in range(len(twentyLetters))]\n",
    "shuffle(shuffled_list)\n",
    "\n",
    "for i in range(0,len(shuffled_list),5):\n",
    "    print(shuffled_list[i:i+5])"
   ]
  },
  {
   "cell_type": "markdown",
   "metadata": {},
   "source": [
    "## PART 2: JSON, Lists, & Dictionaries"
   ]
  },
  {
   "cell_type": "markdown",
   "metadata": {},
   "source": [
    "#### 1. Read file"
   ]
  },
  {
   "cell_type": "code",
   "execution_count": 203,
   "metadata": {},
   "outputs": [
    {
     "name": "stdout",
     "output_type": "stream",
     "text": [
      "The file has  32571  entries\n"
     ]
    }
   ],
   "source": [
    "import json\n",
    "\n",
    "with open('women2020.json', 'r') as fr:\n",
    "    women = json.load(fr)\n",
    "    #result_big = [(i['query'],i['source'],i['moment']) for i in women]\n",
    "print(\"The file has \",len(women), \" entries\")"
   ]
  },
  {
   "cell_type": "markdown",
   "metadata": {},
   "source": [
    "#### 2. First 10 lines"
   ]
  },
  {
   "cell_type": "code",
   "execution_count": 204,
   "metadata": {},
   "outputs": [
    {
     "name": "stdout",
     "output_type": "stream",
     "text": [
      "[('Elizabeth Warren', 'Yahoo Finance'), ('Kirsten Gillibrand', 'AOL.com'), ('Kamala Harris', 'Washington Post'), ('Kamala Harris', 'KTVN.com'), ('Elizabeth Warren', 'Fox News'), ('Kamala Harris', 'Vox'), ('Kirsten Gillibrand', 'CBS News'), ('Amy Klobuchar', 'Washington Examiner'), ('Amy Klobuchar', 'Columbia Journalism Review'), ('Elizabeth Warren', 'MSNBC.com')]\n"
     ]
    }
   ],
   "source": [
    "with open('women2020.json', 'r') as fr1:\n",
    "    women10 = json.load(fr1)[0:10]\n",
    "    result = [(i['query'],i['source']) for i in women10]\n",
    "print(result)"
   ]
  },
  {
   "cell_type": "markdown",
   "metadata": {},
   "source": [
    "#### 3. defaultdict intro"
   ]
  },
  {
   "cell_type": "code",
   "execution_count": 205,
   "metadata": {},
   "outputs": [
    {
     "name": "stdout",
     "output_type": "stream",
     "text": [
      "Amy Klobuchar has 8116 stories.\n",
      "Elizabeth Warren has 8207 stories.\n",
      "Kamala Harris has 8169 stories.\n",
      "Kirsten Gillibrand has 8079 stories.\n"
     ]
    }
   ],
   "source": [
    "from collections import defaultdict\n",
    "women2020Dict = defaultdict(list)\n",
    "\n",
    "for i in women:\n",
    "    women2020Dict[i['query']].append(i)\n",
    "\n",
    "for name in sorted(women2020Dict):\n",
    "    print(\"{} has {} stories.\".format(name, len(women2020Dict[name])))"
   ]
  },
  {
   "cell_type": "markdown",
   "metadata": {},
   "source": [
    "#### 4. Sorting with lambda"
   ]
  },
  {
   "cell_type": "code",
   "execution_count": 206,
   "metadata": {},
   "outputs": [
    {
     "name": "stdout",
     "output_type": "stream",
     "text": [
      "Amy Klobuchar        --> 2019-05-16 00:00:00\n",
      "Elizabeth Warren     --> 2019-02-09 00:00:00\n",
      "Kamala Harris        --> 2019-02-22 06:00:00\n",
      "Kirsten Gillibrand   --> 2019-01-16 00:00:00\n"
     ]
    }
   ],
   "source": [
    "for name in sorted(women2020Dict):\n",
    "    print(\"{:<20} --> {}\".format(name, women2020Dict[name][0]['moment'] ))"
   ]
  },
  {
   "cell_type": "code",
   "execution_count": 207,
   "metadata": {},
   "outputs": [
    {
     "name": "stdout",
     "output_type": "stream",
     "text": [
      "Elizabeth Warren     --> 2018-12-15 18:00:00\n",
      "Kirsten Gillibrand   --> 2018-12-15 18:00:00\n",
      "Kamala Harris        --> 2018-12-15 18:00:00\n",
      "Amy Klobuchar        --> 2018-12-15 18:00:00\n"
     ]
    }
   ],
   "source": [
    "for name in women2020Dict:\n",
    "    women2020Dict[name].sort(key=lambda moment:moment['moment'])\n",
    "    print(\"{:<20} --> {}\".format(name, women2020Dict[name][0]['moment']))"
   ]
  },
  {
   "cell_type": "markdown",
   "metadata": {},
   "source": [
    "#### 5. Identifying unique stories with Counter"
   ]
  },
  {
   "cell_type": "code",
   "execution_count": 208,
   "metadata": {},
   "outputs": [
    {
     "name": "stdout",
     "output_type": "stream",
     "text": [
      "Amy Klobuchar--->1306\n",
      "Elizabeth Warren--->2825\n",
      "Kamala Harris--->2458\n",
      "Kirsten Gillibrand--->1436\n"
     ]
    }
   ],
   "source": [
    "from collections import Counter\n",
    "\n",
    "uniqueArticlesDict = defaultdict(Counter)\n",
    "\n",
    "for name in women2020Dict:\n",
    "    uniqueArticlesDict[name] = Counter([i[\"url\"] for i in women2020Dict[name]])\n",
    "\n",
    "for name in sorted(uniqueArticlesDict):\n",
    "    print(name+'--->'+str(len(uniqueArticlesDict[name])))"
   ]
  },
  {
   "cell_type": "markdown",
   "metadata": {},
   "source": [
    "#### 6. Top 5 articles"
   ]
  },
  {
   "cell_type": "code",
   "execution_count": 209,
   "metadata": {},
   "outputs": [
    {
     "name": "stdout",
     "output_type": "stream",
     "text": [
      "{'Elizabeth Warren': {'https://www.nytimes.com/2018/12/20/opinion/elizabeth-warren-trump.html': 35, 'https://www.bostonglobe.com/news/nation/2018/12/22/elizabeth-warren-bernie-sanders-could-fight-for-same-left-lane-primary/qYfvtm70F4sf02lDkrM5VJ/story.html': 30, 'https://www.vox.com/policy-and-politics/2018/12/20/18146993/elizabeth-warren-2020-election-drug-prices-bill': 26, 'https://www.washingtonpost.com/opinions/2018/12/21/elizabeth-warrens-generic-drugs-plan-more-placebo-than-cure/': 25, 'https://theintercept.com/2018/12/18/elizabeth-warren-generic-drugs-bill/': 21}, 'Kirsten Gillibrand': {'https://www.newsweek.com/senator-kirsten-gillibrand-says-its-worrying-top-three-2020-frontrunners-are-1260500': 82, 'https://www.theatlantic.com/ideas/archive/2018/12/kirsten-gillibrand-tweets-about-intersectional-feminism/578776/': 77, 'https://www.cnn.com/2018/12/15/politics/gillibrand-2020-van-jones-cnntv/index.html': 73, 'https://www.huffingtonpost.com/entry/kirsten-gillibrand-is-worried-that-top-2020-dem-candidates-are-all-white-men_us_5c17ac75e4b009b8aea9807a': 68, 'https://www.theatlantic.com/politics/archive/2018/12/gillibrand-still-faces-questions-about-al-franken/578281/': 57}, 'Kamala Harris': {'https://www.cnn.com/2018/12/23/politics/kamala-harris-2020-early-primary-signs/index.html': 27, 'https://www.mcclatchydc.com/news/politics-government/election/campaigns/article223272545.html': 25, 'https://www.newsweek.com/ann-coulter-predicts-kamala-harris-will-be-next-president-1267074': 22, 'https://www.sfchronicle.com/bayarea/williesworld/article/Everything-Kamala-Harris-is-doing-says-she-s-13485640.php': 20, 'https://www.nytimes.com/2018/12/29/opinion/sunday/kamala-harris-affordable-care-act-medicare.html': 20}, 'Amy Klobuchar': {'https://www.newyorker.com/news/the-new-yorker-interview/senator-amy-klobuchar-trump-2020-kavanaugh-presidential-run': 94, 'https://www.cnn.com/2019/01/02/politics/democrats-2020-electability-elizabeth-warren-amy-klobuchar-sherrod-brown/index.html': 74, 'https://www.politico.com/story/2018/12/17/poll-klobuchar-rising-in-iowa-1067256': 64, 'https://www.politico.com/story/2018/12/14/klobuchar-dem-nominee-2020-left-behind-voters-1065225': 63, 'https://www.nytimes.com/2018/11/26/us/politics/amy-klobuchar-2020-election.html': 62}}\n"
     ]
    }
   ],
   "source": [
    "top5Articles = {}\n",
    "for name in uniqueArticlesDict:\n",
    "    tempDct = uniqueArticlesDict[name]\n",
    "    top5Articles[name] = {url: cnt for url, cnt in tempDct.most_common(5)}\n",
    "print(top5Articles)"
   ]
  },
  {
   "cell_type": "markdown",
   "metadata": {},
   "source": [
    "#### 7. Creating unique-articles.json file"
   ]
  },
  {
   "cell_type": "code",
   "execution_count": 210,
   "metadata": {},
   "outputs": [],
   "source": [
    "with open('unique-articles.json','w') as openFile:\n",
    "    json.dump(uniqueArticlesDict,openFile)"
   ]
  },
  {
   "cell_type": "markdown",
   "metadata": {},
   "source": [
    "## PART 3: The CSV Package"
   ]
  },
  {
   "cell_type": "markdown",
   "metadata": {},
   "source": [
    "### CSV Example"
   ]
  },
  {
   "cell_type": "code",
   "execution_count": 211,
   "metadata": {},
   "outputs": [
    {
     "name": "stdout",
     "output_type": "stream",
     "text": [
      "18\n"
     ]
    }
   ],
   "source": [
    "import csv\n",
    "with open('survey-responses.csv') as csvFile:\n",
    "    reader = csv.reader(csvFile)\n",
    "    rows = [row for row in reader]\n",
    "    \n",
    "print(len(rows))"
   ]
  },
  {
   "cell_type": "code",
   "execution_count": 212,
   "metadata": {},
   "outputs": [
    {
     "data": {
      "text/plain": [
       "['2020', '16', '167', '59', 'Tea', 'Otter', 'The Arrival', 'Margaret Atwood']"
      ]
     },
     "execution_count": 212,
     "metadata": {},
     "output_type": "execute_result"
    }
   ],
   "source": [
    "rows[1]"
   ]
  },
  {
   "cell_type": "code",
   "execution_count": 213,
   "metadata": {},
   "outputs": [
    {
     "data": {
      "text/plain": [
       "17"
      ]
     },
     "execution_count": 213,
     "metadata": {},
     "output_type": "execute_result"
    }
   ],
   "source": [
    "with open('survey-responses.csv') as csvFile:\n",
    "    reader = csv.DictReader(csvFile)\n",
    "    rows = [row for row in reader]\n",
    "    \n",
    "len(rows)"
   ]
  },
  {
   "cell_type": "code",
   "execution_count": 214,
   "metadata": {},
   "outputs": [
    {
     "data": {
      "text/plain": [
       "OrderedDict([('Your class year:', '2020'),\n",
       "             ('Your favorite number:', '17'),\n",
       "             ('Your height in centimeters:', '152'),\n",
       "             ('Your weight in kilogram:', '66'),\n",
       "             ('Your favorite drink:', 'Water'),\n",
       "             ('What is your favorite animal?', 'Cat'),\n",
       "             ('What is your favorite movie?', 'North by Northwest'),\n",
       "             ('Who is your favorite woman author?', 'Tamora Pierce')])"
      ]
     },
     "execution_count": 214,
     "metadata": {},
     "output_type": "execute_result"
    }
   ],
   "source": [
    "rows[1]"
   ]
  },
  {
   "cell_type": "markdown",
   "metadata": {},
   "source": [
    "### Creating Candidate CSVs"
   ]
  },
  {
   "cell_type": "code",
   "execution_count": 215,
   "metadata": {},
   "outputs": [],
   "source": [
    "import csv\n",
    "\n",
    "for name in women2020Dict:\n",
    "    with open(str(name)+'.csv', 'w') as csvfile:\n",
    "        fieldnames = women2020Dict[name][0].keys()\n",
    "        writer = csv.DictWriter(csvfile, fieldnames=fieldnames)\n",
    "        writer.writeheader()\n",
    "        for i in range(len(women2020Dict[name])):\n",
    "            writer.writerow(women2020Dict[name][i])"
   ]
  },
  {
   "cell_type": "code",
   "execution_count": null,
   "metadata": {},
   "outputs": [],
   "source": []
  }
 ],
 "metadata": {
  "kernelspec": {
   "display_name": "Python 3",
   "language": "python",
   "name": "python3"
  },
  "language_info": {
   "codemirror_mode": {
    "name": "ipython",
    "version": 3
   },
   "file_extension": ".py",
   "mimetype": "text/x-python",
   "name": "python",
   "nbconvert_exporter": "python",
   "pygments_lexer": "ipython3",
   "version": "3.6.5"
  }
 },
 "nbformat": 4,
 "nbformat_minor": 2
}
