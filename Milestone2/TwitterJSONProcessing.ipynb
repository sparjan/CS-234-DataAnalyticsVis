{
 "cells": [
  {
   "cell_type": "code",
   "execution_count": 1,
   "metadata": {},
   "outputs": [],
   "source": [
    "import json\n",
    "import pandas as pd"
   ]
  },
  {
   "cell_type": "code",
   "execution_count": 2,
   "metadata": {},
   "outputs": [],
   "source": [
    "acctList = ['ClaudiaDides','Pa__tty','ValdebenitoNata','tv_monica','KarolCariola','gabrielboric','BeaSanchezYTu','LorenaPizarroS','GiorgioJackson',\n",
    "           'camila_vallejo','Claudia_Mix','JorgeSharp','carmen_hertz','redolesoficial',\n",
    "           'manugarpez','nanostern','jcoulon','labeasanchez','FelipeParadaM',\n",
    "           'AlbertoMayol','PamJiles','DMatamala','CristobalYessen','danieljadue',\n",
    "           'sarmiento510','IraciHassler','nataliacuevasg','mriesco','MauroMura11',\n",
    "           'juan_urra','tomashirsch','monlaferte','emiliatijoux','MarianaLaActriz',\n",
    "           'Jaime_Bassa','KenaLorenziniL','mirnaschindler','ale_injoque','mauricio_weibel','JParadaHoyl']\n",
    "acctContent = []\n",
    "for i in acctList:\n",
    "    with open(i+\"-timeline.json\") as json_file:\n",
    "        data = json.load(json_file)\n",
    "        acctContent.append(data)"
   ]
  },
  {
   "cell_type": "code",
   "execution_count": 3,
   "metadata": {},
   "outputs": [],
   "source": [
    "i = 0\n",
    "acctTag= {}\n",
    "while i < len(acctContent):\n",
    "    hashtags = {}\n",
    "    j = 0\n",
    "    while j < len(acctContent[i]):\n",
    "        if acctContent[i][j]['entities']['hashtags'] != []:\n",
    "            k = 0\n",
    "            while k< len(acctContent[0][0]['entities']['hashtags']):\n",
    "                if acctContent[i][j]['entities']['hashtags'][k]['text'] not in hashtags:\n",
    "                    newTag = acctContent[i][j]['entities']['hashtags'][k]['text'].lower()\n",
    "                    hashtags[newTag] = 1\n",
    "                else:\n",
    "                    hashtags[acctContent[i][j]['entities']['hashtags'][k]['text'].lower()] +=1\n",
    "                k+=1  \n",
    "        j+=1\n",
    "    acctTag[acctList[i]] = hashtags\n",
    "    i+=1"
   ]
  },
  {
   "cell_type": "code",
   "execution_count": 4,
   "metadata": {},
   "outputs": [],
   "source": [
    "df = pd.DataFrame(acctTag)\n",
    "df = df.fillna(0)"
   ]
  },
  {
   "cell_type": "code",
   "execution_count": 5,
   "metadata": {},
   "outputs": [],
   "source": [
    "df.to_csv ('hashtags.csv', header=True)"
   ]
  },
  {
   "cell_type": "code",
   "execution_count": null,
   "metadata": {},
   "outputs": [],
   "source": [
    "acctContent[0][0]['entities']['hashtags'][0]['text']"
   ]
  },
  {
   "cell_type": "code",
   "execution_count": null,
   "metadata": {},
   "outputs": [],
   "source": []
  }
 ],
 "metadata": {
  "kernelspec": {
   "display_name": "Python 3",
   "language": "python",
   "name": "python3"
  },
  "language_info": {
   "codemirror_mode": {
    "name": "ipython",
    "version": 3
   },
   "file_extension": ".py",
   "mimetype": "text/x-python",
   "name": "python",
   "nbconvert_exporter": "python",
   "pygments_lexer": "ipython3",
   "version": "3.6.5"
  }
 },
 "nbformat": 4,
 "nbformat_minor": 2
}
