{
 "cells": [
  {
   "cell_type": "markdown",
   "metadata": {},
   "source": [
    "# Assignment 2, Part 2\n",
    "\n",
    "This notebook shows the output that you should expect as you go through the process of writing code to complete certain steps in cleaning up the data.\n",
    "\n",
    "**Steps to clean up the data**\n",
    "\n",
    "* Load file from Excel\n",
    "* Drop some columns we don't need\n",
    "* Rename the remaining columns\n",
    "* Create a new column for the department name\n",
    "* Save data as a CSV"
   ]
  },
  {
   "cell_type": "code",
   "execution_count": 2,
   "metadata": {},
   "outputs": [],
   "source": [
    "import pandas as pd\n",
    "import numpy as np"
   ]
  },
  {
   "cell_type": "markdown",
   "metadata": {},
   "source": [
    "### Step 1: Load the data from Excel"
   ]
  },
  {
   "cell_type": "code",
   "execution_count": 3,
   "metadata": {},
   "outputs": [],
   "source": [
    "# write solution here\n",
    "data = pd.read_excel(\"courses-2019.xlsx\")"
   ]
  },
  {
   "cell_type": "markdown",
   "metadata": {},
   "source": [
    "### Step 3: Drop some columns\n",
    "\n",
    "The table has many more columns that we need. Let's practice dropping some of them. First, let's get all their names:"
   ]
  },
  {
   "cell_type": "code",
   "execution_count": 8,
   "metadata": {},
   "outputs": [
    {
     "name": "stdout",
     "output_type": "stream",
     "text": [
      "Index(['CRN', 'Course', 'Title', 'CurrentEnrollment', 'SeatsAvailable',\n",
      "       'Location(s)', 'Meeting Time(s)', 'Day(s)', 'Instructor',\n",
      "       'Additional Instructor(s)', 'Distribution(s)', 'More'],\n",
      "      dtype='object')\n"
     ]
    }
   ],
   "source": [
    "# your code\n",
    "columns = data.columns\n",
    "print(columns)"
   ]
  },
  {
   "cell_type": "markdown",
   "metadata": {},
   "source": [
    "Now we can use the method `drop` to drop multiple columns at once, changing the existing dataframe. Look at the output to see which columns we are keeping. Then, copy and paste the column names that we will be dropping from the previous output cell."
   ]
  },
  {
   "cell_type": "code",
   "execution_count": 12,
   "metadata": {},
   "outputs": [
    {
     "data": {
      "text/html": [
       "<div>\n",
       "<style scoped>\n",
       "    .dataframe tbody tr th:only-of-type {\n",
       "        vertical-align: middle;\n",
       "    }\n",
       "\n",
       "    .dataframe tbody tr th {\n",
       "        vertical-align: top;\n",
       "    }\n",
       "\n",
       "    .dataframe thead th {\n",
       "        text-align: right;\n",
       "    }\n",
       "</style>\n",
       "<table border=\"1\" class=\"dataframe\">\n",
       "  <thead>\n",
       "    <tr style=\"text-align: right;\">\n",
       "      <th></th>\n",
       "      <th>CRN</th>\n",
       "      <th>Course</th>\n",
       "      <th>CurrentEnrollment</th>\n",
       "      <th>Meeting Time(s)</th>\n",
       "      <th>Day(s)</th>\n",
       "    </tr>\n",
       "  </thead>\n",
       "  <tbody>\n",
       "    <tr>\n",
       "      <th>0</th>\n",
       "      <td>13587</td>\n",
       "      <td>AFR 105 - 01</td>\n",
       "      <td>24</td>\n",
       "      <td>12:45 PM - 3:25 PM</td>\n",
       "      <td>T</td>\n",
       "    </tr>\n",
       "    <tr>\n",
       "      <th>1</th>\n",
       "      <td>15568</td>\n",
       "      <td>AFR 201 - 01</td>\n",
       "      <td>8</td>\n",
       "      <td>6:30 PM - 9:10 PM</td>\n",
       "      <td>M</td>\n",
       "    </tr>\n",
       "    <tr>\n",
       "      <th>2</th>\n",
       "      <td>15753</td>\n",
       "      <td>AFR 215 - 01</td>\n",
       "      <td>16</td>\n",
       "      <td>9:55 AM - 11:10 AM</td>\n",
       "      <td>MR</td>\n",
       "    </tr>\n",
       "    <tr>\n",
       "      <th>3</th>\n",
       "      <td>15071-15207</td>\n",
       "      <td>AFR 242 - 01</td>\n",
       "      <td>30</td>\n",
       "      <td>9:55 AM - 11:10 AM</td>\n",
       "      <td>TF</td>\n",
       "    </tr>\n",
       "    <tr>\n",
       "      <th>4</th>\n",
       "      <td>15570-15571</td>\n",
       "      <td>AFR 264 - 01</td>\n",
       "      <td>19</td>\n",
       "      <td>9:55 AM - 11:10 AM</td>\n",
       "      <td>TF</td>\n",
       "    </tr>\n",
       "  </tbody>\n",
       "</table>\n",
       "</div>"
      ],
      "text/plain": [
       "           CRN        Course  CurrentEnrollment     Meeting Time(s) Day(s)\n",
       "0        13587  AFR 105 - 01                 24  12:45 PM - 3:25 PM      T\n",
       "1        15568  AFR 201 - 01                  8   6:30 PM - 9:10 PM      M\n",
       "2        15753  AFR 215 - 01                 16  9:55 AM - 11:10 AM     MR\n",
       "3  15071-15207  AFR 242 - 01                 30  9:55 AM - 11:10 AM     TF\n",
       "4  15570-15571  AFR 264 - 01                 19  9:55 AM - 11:10 AM     TF"
      ]
     },
     "execution_count": 12,
     "metadata": {},
     "output_type": "execute_result"
    }
   ],
   "source": [
    "# your code\n",
    "df = data.drop(columns=['Title','SeatsAvailable','Location(s)','Instructor','Additional Instructor(s)','Distribution(s)','More'])\n",
    "df.head()"
   ]
  },
  {
   "cell_type": "markdown",
   "metadata": {},
   "source": [
    "### 3. Rename columns\n",
    "\n",
    "Create a dictionary to map the old names to the new names. Then call the method `rename`, inplace. The new dataframe is shown below."
   ]
  },
  {
   "cell_type": "code",
   "execution_count": 14,
   "metadata": {},
   "outputs": [
    {
     "data": {
      "text/html": [
       "<div>\n",
       "<style scoped>\n",
       "    .dataframe tbody tr th:only-of-type {\n",
       "        vertical-align: middle;\n",
       "    }\n",
       "\n",
       "    .dataframe tbody tr th {\n",
       "        vertical-align: top;\n",
       "    }\n",
       "\n",
       "    .dataframe thead th {\n",
       "        text-align: right;\n",
       "    }\n",
       "</style>\n",
       "<table border=\"1\" class=\"dataframe\">\n",
       "  <thead>\n",
       "    <tr style=\"text-align: right;\">\n",
       "      <th></th>\n",
       "      <th>crn</th>\n",
       "      <th>course</th>\n",
       "      <th>enrollment</th>\n",
       "      <th>meeting</th>\n",
       "      <th>days</th>\n",
       "    </tr>\n",
       "  </thead>\n",
       "  <tbody>\n",
       "    <tr>\n",
       "      <th>0</th>\n",
       "      <td>13587</td>\n",
       "      <td>AFR 105 - 01</td>\n",
       "      <td>24</td>\n",
       "      <td>12:45 PM - 3:25 PM</td>\n",
       "      <td>T</td>\n",
       "    </tr>\n",
       "    <tr>\n",
       "      <th>1</th>\n",
       "      <td>15568</td>\n",
       "      <td>AFR 201 - 01</td>\n",
       "      <td>8</td>\n",
       "      <td>6:30 PM - 9:10 PM</td>\n",
       "      <td>M</td>\n",
       "    </tr>\n",
       "    <tr>\n",
       "      <th>2</th>\n",
       "      <td>15753</td>\n",
       "      <td>AFR 215 - 01</td>\n",
       "      <td>16</td>\n",
       "      <td>9:55 AM - 11:10 AM</td>\n",
       "      <td>MR</td>\n",
       "    </tr>\n",
       "    <tr>\n",
       "      <th>3</th>\n",
       "      <td>15071-15207</td>\n",
       "      <td>AFR 242 - 01</td>\n",
       "      <td>30</td>\n",
       "      <td>9:55 AM - 11:10 AM</td>\n",
       "      <td>TF</td>\n",
       "    </tr>\n",
       "    <tr>\n",
       "      <th>4</th>\n",
       "      <td>15570-15571</td>\n",
       "      <td>AFR 264 - 01</td>\n",
       "      <td>19</td>\n",
       "      <td>9:55 AM - 11:10 AM</td>\n",
       "      <td>TF</td>\n",
       "    </tr>\n",
       "  </tbody>\n",
       "</table>\n",
       "</div>"
      ],
      "text/plain": [
       "           crn        course  enrollment             meeting days\n",
       "0        13587  AFR 105 - 01          24  12:45 PM - 3:25 PM    T\n",
       "1        15568  AFR 201 - 01           8   6:30 PM - 9:10 PM    M\n",
       "2        15753  AFR 215 - 01          16  9:55 AM - 11:10 AM   MR\n",
       "3  15071-15207  AFR 242 - 01          30  9:55 AM - 11:10 AM   TF\n",
       "4  15570-15571  AFR 264 - 01          19  9:55 AM - 11:10 AM   TF"
      ]
     },
     "execution_count": 14,
     "metadata": {},
     "output_type": "execute_result"
    }
   ],
   "source": [
    "# your code\n",
    "df_new = df.rename(columns={\"CRN\": \"crn\", \"Course\": \"course\", \"CurrentEnrollment\": \"enrollment\", \"Meeting Time(s)\":\"meeting\", \"Day(s)\":\"days\"})\n",
    "df_new.head()"
   ]
  },
  {
   "cell_type": "markdown",
   "metadata": {},
   "source": [
    "### 4. Create a new column for the department name\n",
    "\n",
    "This is an opportunity to use the method `apply` to create the department name from the course name, by splitting the string. You then can create a new column to store the result of the operation."
   ]
  },
  {
   "cell_type": "code",
   "execution_count": 16,
   "metadata": {},
   "outputs": [
    {
     "data": {
      "text/html": [
       "<div>\n",
       "<style scoped>\n",
       "    .dataframe tbody tr th:only-of-type {\n",
       "        vertical-align: middle;\n",
       "    }\n",
       "\n",
       "    .dataframe tbody tr th {\n",
       "        vertical-align: top;\n",
       "    }\n",
       "\n",
       "    .dataframe thead th {\n",
       "        text-align: right;\n",
       "    }\n",
       "</style>\n",
       "<table border=\"1\" class=\"dataframe\">\n",
       "  <thead>\n",
       "    <tr style=\"text-align: right;\">\n",
       "      <th></th>\n",
       "      <th>crn</th>\n",
       "      <th>course</th>\n",
       "      <th>enrollment</th>\n",
       "      <th>meeting</th>\n",
       "      <th>days</th>\n",
       "      <th>dept</th>\n",
       "    </tr>\n",
       "  </thead>\n",
       "  <tbody>\n",
       "    <tr>\n",
       "      <th>0</th>\n",
       "      <td>13587</td>\n",
       "      <td>AFR 105 - 01</td>\n",
       "      <td>24</td>\n",
       "      <td>12:45 PM - 3:25 PM</td>\n",
       "      <td>T</td>\n",
       "      <td>AFR</td>\n",
       "    </tr>\n",
       "    <tr>\n",
       "      <th>1</th>\n",
       "      <td>15568</td>\n",
       "      <td>AFR 201 - 01</td>\n",
       "      <td>8</td>\n",
       "      <td>6:30 PM - 9:10 PM</td>\n",
       "      <td>M</td>\n",
       "      <td>AFR</td>\n",
       "    </tr>\n",
       "    <tr>\n",
       "      <th>2</th>\n",
       "      <td>15753</td>\n",
       "      <td>AFR 215 - 01</td>\n",
       "      <td>16</td>\n",
       "      <td>9:55 AM - 11:10 AM</td>\n",
       "      <td>MR</td>\n",
       "      <td>AFR</td>\n",
       "    </tr>\n",
       "    <tr>\n",
       "      <th>3</th>\n",
       "      <td>15071-15207</td>\n",
       "      <td>AFR 242 - 01</td>\n",
       "      <td>30</td>\n",
       "      <td>9:55 AM - 11:10 AM</td>\n",
       "      <td>TF</td>\n",
       "      <td>AFR</td>\n",
       "    </tr>\n",
       "    <tr>\n",
       "      <th>4</th>\n",
       "      <td>15570-15571</td>\n",
       "      <td>AFR 264 - 01</td>\n",
       "      <td>19</td>\n",
       "      <td>9:55 AM - 11:10 AM</td>\n",
       "      <td>TF</td>\n",
       "      <td>AFR</td>\n",
       "    </tr>\n",
       "  </tbody>\n",
       "</table>\n",
       "</div>"
      ],
      "text/plain": [
       "           crn        course  enrollment             meeting days dept\n",
       "0        13587  AFR 105 - 01          24  12:45 PM - 3:25 PM    T  AFR\n",
       "1        15568  AFR 201 - 01           8   6:30 PM - 9:10 PM    M  AFR\n",
       "2        15753  AFR 215 - 01          16  9:55 AM - 11:10 AM   MR  AFR\n",
       "3  15071-15207  AFR 242 - 01          30  9:55 AM - 11:10 AM   TF  AFR\n",
       "4  15570-15571  AFR 264 - 01          19  9:55 AM - 11:10 AM   TF  AFR"
      ]
     },
     "execution_count": 16,
     "metadata": {},
     "output_type": "execute_result"
    }
   ],
   "source": [
    "# your code\n",
    "splitter = lambda x: x.split(\" \")[0]\n",
    "df_new['dept'] = df_new['course'].apply(splitter)\n",
    "df_new.head()"
   ]
  },
  {
   "cell_type": "code",
   "execution_count": 19,
   "metadata": {},
   "outputs": [
    {
     "data": {
      "text/plain": [
       "(757, 6)"
      ]
     },
     "execution_count": 19,
     "metadata": {},
     "output_type": "execute_result"
    }
   ],
   "source": [
    "df_new.shape # total number of courses"
   ]
  },
  {
   "cell_type": "markdown",
   "metadata": {},
   "source": [
    "### 5. Save the daframe in a CSV file\n",
    "\n",
    "Writing into a file is done through the method `to_csv` and other similar methods (e.g., to_json, to_excel, etc.). Read the documentation for this method, to find out what parameters you need to supply. Notice that most of them have default valus that you can preserve."
   ]
  },
  {
   "cell_type": "code",
   "execution_count": 20,
   "metadata": {},
   "outputs": [],
   "source": [
    "# your code\n",
    "df_new.to_csv('courses')"
   ]
  },
  {
   "cell_type": "code",
   "execution_count": null,
   "metadata": {},
   "outputs": [],
   "source": []
  }
 ],
 "metadata": {
  "kernelspec": {
   "display_name": "Python 3",
   "language": "python",
   "name": "python3"
  },
  "language_info": {
   "codemirror_mode": {
    "name": "ipython",
    "version": 3
   },
   "file_extension": ".py",
   "mimetype": "text/x-python",
   "name": "python",
   "nbconvert_exporter": "python",
   "pygments_lexer": "ipython3",
   "version": "3.6.5"
  }
 },
 "nbformat": 4,
 "nbformat_minor": 2
}
