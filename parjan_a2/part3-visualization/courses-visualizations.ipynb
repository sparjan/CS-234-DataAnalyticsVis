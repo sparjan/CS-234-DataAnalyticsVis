{
 "cells": [
  {
   "cell_type": "markdown",
   "metadata": {},
   "source": [
    "# Assignment 2: Pandas & Simple Visualizations\n",
    "\n",
    "Author: Shreya Parjan\n",
    "\n",
    "Sep 19, 2019"
   ]
  },
  {
   "cell_type": "markdown",
   "metadata": {},
   "source": [
    "## Relevant Imports & Preliminary Data Processing"
   ]
  },
  {
   "cell_type": "code",
   "execution_count": 79,
   "metadata": {},
   "outputs": [],
   "source": [
    "import numpy as np\n",
    "import pandas as pd\n",
    "import plotly.express as px\n",
    "import seaborn as sns\n",
    "import matplotlib.pyplot as plt"
   ]
  },
  {
   "cell_type": "code",
   "execution_count": 86,
   "metadata": {},
   "outputs": [
    {
     "data": {
      "text/html": [
       "<div>\n",
       "<style scoped>\n",
       "    .dataframe tbody tr th:only-of-type {\n",
       "        vertical-align: middle;\n",
       "    }\n",
       "\n",
       "    .dataframe tbody tr th {\n",
       "        vertical-align: top;\n",
       "    }\n",
       "\n",
       "    .dataframe thead th {\n",
       "        text-align: right;\n",
       "    }\n",
       "</style>\n",
       "<table border=\"1\" class=\"dataframe\">\n",
       "  <thead>\n",
       "    <tr style=\"text-align: right;\">\n",
       "      <th></th>\n",
       "      <th>Unnamed: 0</th>\n",
       "      <th>crn</th>\n",
       "      <th>course</th>\n",
       "      <th>enrollment</th>\n",
       "      <th>meeting</th>\n",
       "      <th>days</th>\n",
       "      <th>dept</th>\n",
       "    </tr>\n",
       "  </thead>\n",
       "  <tbody>\n",
       "    <tr>\n",
       "      <th>0</th>\n",
       "      <td>0</td>\n",
       "      <td>13587</td>\n",
       "      <td>AFR 105 - 01</td>\n",
       "      <td>24</td>\n",
       "      <td>12:45 PM - 3:25 PM</td>\n",
       "      <td>T</td>\n",
       "      <td>AFR</td>\n",
       "    </tr>\n",
       "    <tr>\n",
       "      <th>1</th>\n",
       "      <td>1</td>\n",
       "      <td>15568</td>\n",
       "      <td>AFR 201 - 01</td>\n",
       "      <td>8</td>\n",
       "      <td>6:30 PM - 9:10 PM</td>\n",
       "      <td>M</td>\n",
       "      <td>AFR</td>\n",
       "    </tr>\n",
       "    <tr>\n",
       "      <th>2</th>\n",
       "      <td>2</td>\n",
       "      <td>15753</td>\n",
       "      <td>AFR 215 - 01</td>\n",
       "      <td>16</td>\n",
       "      <td>9:55 AM - 11:10 AM</td>\n",
       "      <td>MR</td>\n",
       "      <td>AFR</td>\n",
       "    </tr>\n",
       "    <tr>\n",
       "      <th>3</th>\n",
       "      <td>3</td>\n",
       "      <td>15071-15207</td>\n",
       "      <td>AFR 242 - 01</td>\n",
       "      <td>30</td>\n",
       "      <td>9:55 AM - 11:10 AM</td>\n",
       "      <td>TF</td>\n",
       "      <td>AFR</td>\n",
       "    </tr>\n",
       "    <tr>\n",
       "      <th>4</th>\n",
       "      <td>4</td>\n",
       "      <td>15570-15571</td>\n",
       "      <td>AFR 264 - 01</td>\n",
       "      <td>19</td>\n",
       "      <td>9:55 AM - 11:10 AM</td>\n",
       "      <td>TF</td>\n",
       "      <td>AFR</td>\n",
       "    </tr>\n",
       "  </tbody>\n",
       "</table>\n",
       "</div>"
      ],
      "text/plain": [
       "   Unnamed: 0          crn        course  enrollment             meeting days  \\\n",
       "0           0        13587  AFR 105 - 01          24  12:45 PM - 3:25 PM    T   \n",
       "1           1        15568  AFR 201 - 01           8   6:30 PM - 9:10 PM    M   \n",
       "2           2        15753  AFR 215 - 01          16  9:55 AM - 11:10 AM   MR   \n",
       "3           3  15071-15207  AFR 242 - 01          30  9:55 AM - 11:10 AM   TF   \n",
       "4           4  15570-15571  AFR 264 - 01          19  9:55 AM - 11:10 AM   TF   \n",
       "\n",
       "  dept  \n",
       "0  AFR  \n",
       "1  AFR  \n",
       "2  AFR  \n",
       "3  AFR  \n",
       "4  AFR  "
      ]
     },
     "execution_count": 86,
     "metadata": {},
     "output_type": "execute_result"
    }
   ],
   "source": [
    "df = pd.read_csv(\"courses-fall2019-clean.csv\")\n",
    "df.head()"
   ]
  },
  {
   "cell_type": "code",
   "execution_count": 95,
   "metadata": {},
   "outputs": [
    {
     "data": {
      "text/html": [
       "<div>\n",
       "<style scoped>\n",
       "    .dataframe tbody tr th:only-of-type {\n",
       "        vertical-align: middle;\n",
       "    }\n",
       "\n",
       "    .dataframe tbody tr th {\n",
       "        vertical-align: top;\n",
       "    }\n",
       "\n",
       "    .dataframe thead th {\n",
       "        text-align: right;\n",
       "    }\n",
       "</style>\n",
       "<table border=\"1\" class=\"dataframe\">\n",
       "  <thead>\n",
       "    <tr style=\"text-align: right;\">\n",
       "      <th></th>\n",
       "      <th>dept</th>\n",
       "      <th>nr_courses</th>\n",
       "      <th>nr_students</th>\n",
       "    </tr>\n",
       "  </thead>\n",
       "  <tbody>\n",
       "    <tr>\n",
       "      <th>0</th>\n",
       "      <td>AFR</td>\n",
       "      <td>7</td>\n",
       "      <td>140</td>\n",
       "    </tr>\n",
       "    <tr>\n",
       "      <th>1</th>\n",
       "      <td>AMST</td>\n",
       "      <td>12</td>\n",
       "      <td>266</td>\n",
       "    </tr>\n",
       "    <tr>\n",
       "      <th>2</th>\n",
       "      <td>ANTH</td>\n",
       "      <td>10</td>\n",
       "      <td>161</td>\n",
       "    </tr>\n",
       "    <tr>\n",
       "      <th>3</th>\n",
       "      <td>ARAB</td>\n",
       "      <td>5</td>\n",
       "      <td>65</td>\n",
       "    </tr>\n",
       "    <tr>\n",
       "      <th>4</th>\n",
       "      <td>ARTH</td>\n",
       "      <td>17</td>\n",
       "      <td>251</td>\n",
       "    </tr>\n",
       "  </tbody>\n",
       "</table>\n",
       "</div>"
      ],
      "text/plain": [
       "   dept  nr_courses  nr_students\n",
       "0   AFR           7          140\n",
       "1  AMST          12          266\n",
       "2  ANTH          10          161\n",
       "3  ARAB           5           65\n",
       "4  ARTH          17          251"
      ]
     },
     "execution_count": 95,
     "metadata": {},
     "output_type": "execute_result"
    }
   ],
   "source": [
    "dfDept = df.groupby('dept')['enrollment']  \\\n",
    "   \t      .agg(['count', 'sum']) \\\n",
    "           .reset_index() \\\n",
    "           .rename(columns={'count':'nr_courses','sum' : 'nr_students'})\n",
    "dfDept.head()"
   ]
  },
  {
   "cell_type": "code",
   "execution_count": 92,
   "metadata": {},
   "outputs": [],
   "source": [
    "dfNew = dfDept.sort_values(by='nr_courses', ascending=False)"
   ]
  },
  {
   "cell_type": "code",
   "execution_count": 94,
   "metadata": {},
   "outputs": [
    {
     "data": {
      "text/html": [
       "<div>\n",
       "<style scoped>\n",
       "    .dataframe tbody tr th:only-of-type {\n",
       "        vertical-align: middle;\n",
       "    }\n",
       "\n",
       "    .dataframe tbody tr th {\n",
       "        vertical-align: top;\n",
       "    }\n",
       "\n",
       "    .dataframe thead th {\n",
       "        text-align: right;\n",
       "    }\n",
       "</style>\n",
       "<table border=\"1\" class=\"dataframe\">\n",
       "  <thead>\n",
       "    <tr style=\"text-align: right;\">\n",
       "      <th></th>\n",
       "      <th>dept</th>\n",
       "      <th>nr_courses</th>\n",
       "      <th>nr_students</th>\n",
       "    </tr>\n",
       "  </thead>\n",
       "  <tbody>\n",
       "    <tr>\n",
       "      <th>8</th>\n",
       "      <td>BISC</td>\n",
       "      <td>60</td>\n",
       "      <td>871</td>\n",
       "    </tr>\n",
       "    <tr>\n",
       "      <th>41</th>\n",
       "      <td>PE</td>\n",
       "      <td>49</td>\n",
       "      <td>588</td>\n",
       "    </tr>\n",
       "    <tr>\n",
       "      <th>10</th>\n",
       "      <td>CHEM</td>\n",
       "      <td>46</td>\n",
       "      <td>691</td>\n",
       "    </tr>\n",
       "    <tr>\n",
       "      <th>15</th>\n",
       "      <td>CS</td>\n",
       "      <td>39</td>\n",
       "      <td>707</td>\n",
       "    </tr>\n",
       "    <tr>\n",
       "      <th>17</th>\n",
       "      <td>ECON</td>\n",
       "      <td>32</td>\n",
       "      <td>695</td>\n",
       "    </tr>\n",
       "    <tr>\n",
       "      <th>37</th>\n",
       "      <td>MATH</td>\n",
       "      <td>29</td>\n",
       "      <td>631</td>\n",
       "    </tr>\n",
       "    <tr>\n",
       "      <th>51</th>\n",
       "      <td>PSYC</td>\n",
       "      <td>28</td>\n",
       "      <td>570</td>\n",
       "    </tr>\n",
       "    <tr>\n",
       "      <th>63</th>\n",
       "      <td>WRIT</td>\n",
       "      <td>26</td>\n",
       "      <td>351</td>\n",
       "    </tr>\n",
       "    <tr>\n",
       "      <th>19</th>\n",
       "      <td>ENG</td>\n",
       "      <td>25</td>\n",
       "      <td>426</td>\n",
       "    </tr>\n",
       "    <tr>\n",
       "      <th>28</th>\n",
       "      <td>HIST</td>\n",
       "      <td>19</td>\n",
       "      <td>303</td>\n",
       "    </tr>\n",
       "    <tr>\n",
       "      <th>57</th>\n",
       "      <td>SPAN</td>\n",
       "      <td>19</td>\n",
       "      <td>298</td>\n",
       "    </tr>\n",
       "    <tr>\n",
       "      <th>44</th>\n",
       "      <td>PHYS</td>\n",
       "      <td>19</td>\n",
       "      <td>310</td>\n",
       "    </tr>\n",
       "    <tr>\n",
       "      <th>4</th>\n",
       "      <td>ARTH</td>\n",
       "      <td>17</td>\n",
       "      <td>251</td>\n",
       "    </tr>\n",
       "    <tr>\n",
       "      <th>21</th>\n",
       "      <td>ES</td>\n",
       "      <td>17</td>\n",
       "      <td>263</td>\n",
       "    </tr>\n",
       "    <tr>\n",
       "      <th>56</th>\n",
       "      <td>SOC</td>\n",
       "      <td>16</td>\n",
       "      <td>344</td>\n",
       "    </tr>\n",
       "  </tbody>\n",
       "</table>\n",
       "</div>"
      ],
      "text/plain": [
       "    dept  nr_courses  nr_students\n",
       "8   BISC          60          871\n",
       "41    PE          49          588\n",
       "10  CHEM          46          691\n",
       "15    CS          39          707\n",
       "17  ECON          32          695\n",
       "37  MATH          29          631\n",
       "51  PSYC          28          570\n",
       "63  WRIT          26          351\n",
       "19   ENG          25          426\n",
       "28  HIST          19          303\n",
       "57  SPAN          19          298\n",
       "44  PHYS          19          310\n",
       "4   ARTH          17          251\n",
       "21    ES          17          263\n",
       "56   SOC          16          344"
      ]
     },
     "execution_count": 94,
     "metadata": {},
     "output_type": "execute_result"
    }
   ],
   "source": [
    "dfbar = dfNew.iloc[:15]\n",
    "dfbar"
   ]
  },
  {
   "cell_type": "markdown",
   "metadata": {},
   "source": [
    "## Total Courses vs. Top 15 Academic Departments"
   ]
  },
  {
   "cell_type": "code",
   "execution_count": 87,
   "metadata": {},
   "outputs": [
    {
     "data": {
      "application/vnd.plotly.v1+json": {
       "config": {
        "plotlyServerURL": "https://plot.ly"
       },
       "data": [
        {
         "alignmentgroup": "True",
         "customdata": [
          [
           "BISC",
           60,
           871
          ],
          [
           "PE",
           49,
           588
          ],
          [
           "CHEM",
           46,
           691
          ],
          [
           "CS",
           39,
           707
          ],
          [
           "ECON",
           32,
           695
          ],
          [
           "MATH",
           29,
           631
          ],
          [
           "PSYC",
           28,
           570
          ],
          [
           "WRIT",
           26,
           351
          ],
          [
           "ENG",
           25,
           426
          ],
          [
           "HIST",
           19,
           303
          ],
          [
           "SPAN",
           19,
           298
          ],
          [
           "PHYS",
           19,
           310
          ],
          [
           "ARTH",
           17,
           251
          ],
          [
           "ES",
           17,
           263
          ],
          [
           "SOC",
           16,
           344
          ]
         ],
         "hoverlabel": {
          "namelength": 0
         },
         "hovertemplate": "Academic Department=%{customdata[0]}<br>Total courses=%{customdata[1]}<br>Total students=%{marker.color}",
         "legendgroup": "",
         "marker": {
          "color": [
           871,
           588,
           691,
           707,
           695,
           631,
           570,
           351,
           426,
           303,
           298,
           310,
           251,
           263,
           344
          ],
          "coloraxis": "coloraxis"
         },
         "name": "",
         "offsetgroup": "",
         "orientation": "v",
         "showlegend": false,
         "textposition": "auto",
         "type": "bar",
         "x": [
          "BISC",
          "PE",
          "CHEM",
          "CS",
          "ECON",
          "MATH",
          "PSYC",
          "WRIT",
          "ENG",
          "HIST",
          "SPAN",
          "PHYS",
          "ARTH",
          "ES",
          "SOC"
         ],
         "xaxis": "x",
         "y": [
          60,
          49,
          46,
          39,
          32,
          29,
          28,
          26,
          25,
          19,
          19,
          19,
          17,
          17,
          16
         ],
         "yaxis": "y"
        }
       ],
       "layout": {
        "barmode": "relative",
        "coloraxis": {
         "colorbar": {
          "title": {
           "text": "Total students"
          }
         },
         "colorscale": [
          [
           0,
           "#0d0887"
          ],
          [
           0.1111111111111111,
           "#46039f"
          ],
          [
           0.2222222222222222,
           "#7201a8"
          ],
          [
           0.3333333333333333,
           "#9c179e"
          ],
          [
           0.4444444444444444,
           "#bd3786"
          ],
          [
           0.5555555555555556,
           "#d8576b"
          ],
          [
           0.6666666666666666,
           "#ed7953"
          ],
          [
           0.7777777777777778,
           "#fb9f3a"
          ],
          [
           0.8888888888888888,
           "#fdca26"
          ],
          [
           1,
           "#f0f921"
          ]
         ]
        },
        "height": 400,
        "legend": {
         "tracegroupgap": 0
        },
        "margin": {
         "t": 60
        },
        "template": {
         "data": {
          "bar": [
           {
            "error_x": {
             "color": "#2a3f5f"
            },
            "error_y": {
             "color": "#2a3f5f"
            },
            "marker": {
             "line": {
              "color": "#E5ECF6",
              "width": 0.5
             }
            },
            "type": "bar"
           }
          ],
          "barpolar": [
           {
            "marker": {
             "line": {
              "color": "#E5ECF6",
              "width": 0.5
             }
            },
            "type": "barpolar"
           }
          ],
          "carpet": [
           {
            "aaxis": {
             "endlinecolor": "#2a3f5f",
             "gridcolor": "white",
             "linecolor": "white",
             "minorgridcolor": "white",
             "startlinecolor": "#2a3f5f"
            },
            "baxis": {
             "endlinecolor": "#2a3f5f",
             "gridcolor": "white",
             "linecolor": "white",
             "minorgridcolor": "white",
             "startlinecolor": "#2a3f5f"
            },
            "type": "carpet"
           }
          ],
          "choropleth": [
           {
            "colorbar": {
             "outlinewidth": 0,
             "ticks": ""
            },
            "type": "choropleth"
           }
          ],
          "contour": [
           {
            "colorbar": {
             "outlinewidth": 0,
             "ticks": ""
            },
            "colorscale": [
             [
              0,
              "#0d0887"
             ],
             [
              0.1111111111111111,
              "#46039f"
             ],
             [
              0.2222222222222222,
              "#7201a8"
             ],
             [
              0.3333333333333333,
              "#9c179e"
             ],
             [
              0.4444444444444444,
              "#bd3786"
             ],
             [
              0.5555555555555556,
              "#d8576b"
             ],
             [
              0.6666666666666666,
              "#ed7953"
             ],
             [
              0.7777777777777778,
              "#fb9f3a"
             ],
             [
              0.8888888888888888,
              "#fdca26"
             ],
             [
              1,
              "#f0f921"
             ]
            ],
            "type": "contour"
           }
          ],
          "contourcarpet": [
           {
            "colorbar": {
             "outlinewidth": 0,
             "ticks": ""
            },
            "type": "contourcarpet"
           }
          ],
          "heatmap": [
           {
            "colorbar": {
             "outlinewidth": 0,
             "ticks": ""
            },
            "colorscale": [
             [
              0,
              "#0d0887"
             ],
             [
              0.1111111111111111,
              "#46039f"
             ],
             [
              0.2222222222222222,
              "#7201a8"
             ],
             [
              0.3333333333333333,
              "#9c179e"
             ],
             [
              0.4444444444444444,
              "#bd3786"
             ],
             [
              0.5555555555555556,
              "#d8576b"
             ],
             [
              0.6666666666666666,
              "#ed7953"
             ],
             [
              0.7777777777777778,
              "#fb9f3a"
             ],
             [
              0.8888888888888888,
              "#fdca26"
             ],
             [
              1,
              "#f0f921"
             ]
            ],
            "type": "heatmap"
           }
          ],
          "heatmapgl": [
           {
            "colorbar": {
             "outlinewidth": 0,
             "ticks": ""
            },
            "colorscale": [
             [
              0,
              "#0d0887"
             ],
             [
              0.1111111111111111,
              "#46039f"
             ],
             [
              0.2222222222222222,
              "#7201a8"
             ],
             [
              0.3333333333333333,
              "#9c179e"
             ],
             [
              0.4444444444444444,
              "#bd3786"
             ],
             [
              0.5555555555555556,
              "#d8576b"
             ],
             [
              0.6666666666666666,
              "#ed7953"
             ],
             [
              0.7777777777777778,
              "#fb9f3a"
             ],
             [
              0.8888888888888888,
              "#fdca26"
             ],
             [
              1,
              "#f0f921"
             ]
            ],
            "type": "heatmapgl"
           }
          ],
          "histogram": [
           {
            "marker": {
             "colorbar": {
              "outlinewidth": 0,
              "ticks": ""
             }
            },
            "type": "histogram"
           }
          ],
          "histogram2d": [
           {
            "colorbar": {
             "outlinewidth": 0,
             "ticks": ""
            },
            "colorscale": [
             [
              0,
              "#0d0887"
             ],
             [
              0.1111111111111111,
              "#46039f"
             ],
             [
              0.2222222222222222,
              "#7201a8"
             ],
             [
              0.3333333333333333,
              "#9c179e"
             ],
             [
              0.4444444444444444,
              "#bd3786"
             ],
             [
              0.5555555555555556,
              "#d8576b"
             ],
             [
              0.6666666666666666,
              "#ed7953"
             ],
             [
              0.7777777777777778,
              "#fb9f3a"
             ],
             [
              0.8888888888888888,
              "#fdca26"
             ],
             [
              1,
              "#f0f921"
             ]
            ],
            "type": "histogram2d"
           }
          ],
          "histogram2dcontour": [
           {
            "colorbar": {
             "outlinewidth": 0,
             "ticks": ""
            },
            "colorscale": [
             [
              0,
              "#0d0887"
             ],
             [
              0.1111111111111111,
              "#46039f"
             ],
             [
              0.2222222222222222,
              "#7201a8"
             ],
             [
              0.3333333333333333,
              "#9c179e"
             ],
             [
              0.4444444444444444,
              "#bd3786"
             ],
             [
              0.5555555555555556,
              "#d8576b"
             ],
             [
              0.6666666666666666,
              "#ed7953"
             ],
             [
              0.7777777777777778,
              "#fb9f3a"
             ],
             [
              0.8888888888888888,
              "#fdca26"
             ],
             [
              1,
              "#f0f921"
             ]
            ],
            "type": "histogram2dcontour"
           }
          ],
          "mesh3d": [
           {
            "colorbar": {
             "outlinewidth": 0,
             "ticks": ""
            },
            "type": "mesh3d"
           }
          ],
          "parcoords": [
           {
            "line": {
             "colorbar": {
              "outlinewidth": 0,
              "ticks": ""
             }
            },
            "type": "parcoords"
           }
          ],
          "scatter": [
           {
            "marker": {
             "colorbar": {
              "outlinewidth": 0,
              "ticks": ""
             }
            },
            "type": "scatter"
           }
          ],
          "scatter3d": [
           {
            "line": {
             "colorbar": {
              "outlinewidth": 0,
              "ticks": ""
             }
            },
            "marker": {
             "colorbar": {
              "outlinewidth": 0,
              "ticks": ""
             }
            },
            "type": "scatter3d"
           }
          ],
          "scattercarpet": [
           {
            "marker": {
             "colorbar": {
              "outlinewidth": 0,
              "ticks": ""
             }
            },
            "type": "scattercarpet"
           }
          ],
          "scattergeo": [
           {
            "marker": {
             "colorbar": {
              "outlinewidth": 0,
              "ticks": ""
             }
            },
            "type": "scattergeo"
           }
          ],
          "scattergl": [
           {
            "marker": {
             "colorbar": {
              "outlinewidth": 0,
              "ticks": ""
             }
            },
            "type": "scattergl"
           }
          ],
          "scattermapbox": [
           {
            "marker": {
             "colorbar": {
              "outlinewidth": 0,
              "ticks": ""
             }
            },
            "type": "scattermapbox"
           }
          ],
          "scatterpolar": [
           {
            "marker": {
             "colorbar": {
              "outlinewidth": 0,
              "ticks": ""
             }
            },
            "type": "scatterpolar"
           }
          ],
          "scatterpolargl": [
           {
            "marker": {
             "colorbar": {
              "outlinewidth": 0,
              "ticks": ""
             }
            },
            "type": "scatterpolargl"
           }
          ],
          "scatterternary": [
           {
            "marker": {
             "colorbar": {
              "outlinewidth": 0,
              "ticks": ""
             }
            },
            "type": "scatterternary"
           }
          ],
          "surface": [
           {
            "colorbar": {
             "outlinewidth": 0,
             "ticks": ""
            },
            "colorscale": [
             [
              0,
              "#0d0887"
             ],
             [
              0.1111111111111111,
              "#46039f"
             ],
             [
              0.2222222222222222,
              "#7201a8"
             ],
             [
              0.3333333333333333,
              "#9c179e"
             ],
             [
              0.4444444444444444,
              "#bd3786"
             ],
             [
              0.5555555555555556,
              "#d8576b"
             ],
             [
              0.6666666666666666,
              "#ed7953"
             ],
             [
              0.7777777777777778,
              "#fb9f3a"
             ],
             [
              0.8888888888888888,
              "#fdca26"
             ],
             [
              1,
              "#f0f921"
             ]
            ],
            "type": "surface"
           }
          ],
          "table": [
           {
            "cells": {
             "fill": {
              "color": "#EBF0F8"
             },
             "line": {
              "color": "white"
             }
            },
            "header": {
             "fill": {
              "color": "#C8D4E3"
             },
             "line": {
              "color": "white"
             }
            },
            "type": "table"
           }
          ]
         },
         "layout": {
          "annotationdefaults": {
           "arrowcolor": "#2a3f5f",
           "arrowhead": 0,
           "arrowwidth": 1
          },
          "colorscale": {
           "diverging": [
            [
             0,
             "#8e0152"
            ],
            [
             0.1,
             "#c51b7d"
            ],
            [
             0.2,
             "#de77ae"
            ],
            [
             0.3,
             "#f1b6da"
            ],
            [
             0.4,
             "#fde0ef"
            ],
            [
             0.5,
             "#f7f7f7"
            ],
            [
             0.6,
             "#e6f5d0"
            ],
            [
             0.7,
             "#b8e186"
            ],
            [
             0.8,
             "#7fbc41"
            ],
            [
             0.9,
             "#4d9221"
            ],
            [
             1,
             "#276419"
            ]
           ],
           "sequential": [
            [
             0,
             "#0d0887"
            ],
            [
             0.1111111111111111,
             "#46039f"
            ],
            [
             0.2222222222222222,
             "#7201a8"
            ],
            [
             0.3333333333333333,
             "#9c179e"
            ],
            [
             0.4444444444444444,
             "#bd3786"
            ],
            [
             0.5555555555555556,
             "#d8576b"
            ],
            [
             0.6666666666666666,
             "#ed7953"
            ],
            [
             0.7777777777777778,
             "#fb9f3a"
            ],
            [
             0.8888888888888888,
             "#fdca26"
            ],
            [
             1,
             "#f0f921"
            ]
           ],
           "sequentialminus": [
            [
             0,
             "#0d0887"
            ],
            [
             0.1111111111111111,
             "#46039f"
            ],
            [
             0.2222222222222222,
             "#7201a8"
            ],
            [
             0.3333333333333333,
             "#9c179e"
            ],
            [
             0.4444444444444444,
             "#bd3786"
            ],
            [
             0.5555555555555556,
             "#d8576b"
            ],
            [
             0.6666666666666666,
             "#ed7953"
            ],
            [
             0.7777777777777778,
             "#fb9f3a"
            ],
            [
             0.8888888888888888,
             "#fdca26"
            ],
            [
             1,
             "#f0f921"
            ]
           ]
          },
          "colorway": [
           "#636efa",
           "#EF553B",
           "#00cc96",
           "#ab63fa",
           "#FFA15A",
           "#19d3f3",
           "#FF6692",
           "#B6E880",
           "#FF97FF",
           "#FECB52"
          ],
          "font": {
           "color": "#2a3f5f"
          },
          "geo": {
           "bgcolor": "white",
           "lakecolor": "white",
           "landcolor": "#E5ECF6",
           "showlakes": true,
           "showland": true,
           "subunitcolor": "white"
          },
          "hoverlabel": {
           "align": "left"
          },
          "hovermode": "closest",
          "mapbox": {
           "style": "light"
          },
          "paper_bgcolor": "white",
          "plot_bgcolor": "#E5ECF6",
          "polar": {
           "angularaxis": {
            "gridcolor": "white",
            "linecolor": "white",
            "ticks": ""
           },
           "bgcolor": "#E5ECF6",
           "radialaxis": {
            "gridcolor": "white",
            "linecolor": "white",
            "ticks": ""
           }
          },
          "scene": {
           "xaxis": {
            "backgroundcolor": "#E5ECF6",
            "gridcolor": "white",
            "gridwidth": 2,
            "linecolor": "white",
            "showbackground": true,
            "ticks": "",
            "zerolinecolor": "white"
           },
           "yaxis": {
            "backgroundcolor": "#E5ECF6",
            "gridcolor": "white",
            "gridwidth": 2,
            "linecolor": "white",
            "showbackground": true,
            "ticks": "",
            "zerolinecolor": "white"
           },
           "zaxis": {
            "backgroundcolor": "#E5ECF6",
            "gridcolor": "white",
            "gridwidth": 2,
            "linecolor": "white",
            "showbackground": true,
            "ticks": "",
            "zerolinecolor": "white"
           }
          },
          "shapedefaults": {
           "line": {
            "color": "#2a3f5f"
           }
          },
          "ternary": {
           "aaxis": {
            "gridcolor": "white",
            "linecolor": "white",
            "ticks": ""
           },
           "baxis": {
            "gridcolor": "white",
            "linecolor": "white",
            "ticks": ""
           },
           "bgcolor": "#E5ECF6",
           "caxis": {
            "gridcolor": "white",
            "linecolor": "white",
            "ticks": ""
           }
          },
          "title": {
           "x": 0.05
          },
          "xaxis": {
           "automargin": true,
           "gridcolor": "white",
           "linecolor": "white",
           "ticks": "",
           "zerolinecolor": "white",
           "zerolinewidth": 2
          },
          "yaxis": {
           "automargin": true,
           "gridcolor": "white",
           "linecolor": "white",
           "ticks": "",
           "zerolinecolor": "white",
           "zerolinewidth": 2
          }
         }
        },
        "xaxis": {
         "anchor": "y",
         "domain": [
          0,
          0.98
         ],
         "title": {
          "text": "Academic Department"
         }
        },
        "yaxis": {
         "anchor": "x",
         "domain": [
          0,
          1
         ],
         "title": {
          "text": "Total courses"
         }
        }
       }
      },
      "text/html": [
       "<div>\n",
       "        \n",
       "        \n",
       "            <div id=\"5f4f038d-d0e1-46b4-9fe0-1bc53b78add7\" class=\"plotly-graph-div\" style=\"height:400px; width:100%;\"></div>\n",
       "            <script type=\"text/javascript\">\n",
       "                require([\"plotly\"], function(Plotly) {\n",
       "                    window.PLOTLYENV=window.PLOTLYENV || {};\n",
       "                    \n",
       "                if (document.getElementById(\"5f4f038d-d0e1-46b4-9fe0-1bc53b78add7\")) {\n",
       "                    Plotly.newPlot(\n",
       "                        '5f4f038d-d0e1-46b4-9fe0-1bc53b78add7',\n",
       "                        [{\"alignmentgroup\": \"True\", \"customdata\": [[\"BISC\", 60, 871], [\"PE\", 49, 588], [\"CHEM\", 46, 691], [\"CS\", 39, 707], [\"ECON\", 32, 695], [\"MATH\", 29, 631], [\"PSYC\", 28, 570], [\"WRIT\", 26, 351], [\"ENG\", 25, 426], [\"HIST\", 19, 303], [\"SPAN\", 19, 298], [\"PHYS\", 19, 310], [\"ARTH\", 17, 251], [\"ES\", 17, 263], [\"SOC\", 16, 344]], \"hoverlabel\": {\"namelength\": 0}, \"hovertemplate\": \"Academic Department=%{customdata[0]}<br>Total courses=%{customdata[1]}<br>Total students=%{marker.color}\", \"legendgroup\": \"\", \"marker\": {\"color\": [871, 588, 691, 707, 695, 631, 570, 351, 426, 303, 298, 310, 251, 263, 344], \"coloraxis\": \"coloraxis\"}, \"name\": \"\", \"offsetgroup\": \"\", \"orientation\": \"v\", \"showlegend\": false, \"textposition\": \"auto\", \"type\": \"bar\", \"x\": [\"BISC\", \"PE\", \"CHEM\", \"CS\", \"ECON\", \"MATH\", \"PSYC\", \"WRIT\", \"ENG\", \"HIST\", \"SPAN\", \"PHYS\", \"ARTH\", \"ES\", \"SOC\"], \"xaxis\": \"x\", \"y\": [60, 49, 46, 39, 32, 29, 28, 26, 25, 19, 19, 19, 17, 17, 16], \"yaxis\": \"y\"}],\n",
       "                        {\"barmode\": \"relative\", \"coloraxis\": {\"colorbar\": {\"title\": {\"text\": \"Total students\"}}, \"colorscale\": [[0.0, \"#0d0887\"], [0.1111111111111111, \"#46039f\"], [0.2222222222222222, \"#7201a8\"], [0.3333333333333333, \"#9c179e\"], [0.4444444444444444, \"#bd3786\"], [0.5555555555555556, \"#d8576b\"], [0.6666666666666666, \"#ed7953\"], [0.7777777777777778, \"#fb9f3a\"], [0.8888888888888888, \"#fdca26\"], [1.0, \"#f0f921\"]]}, \"height\": 400, \"legend\": {\"tracegroupgap\": 0}, \"margin\": {\"t\": 60}, \"template\": {\"data\": {\"bar\": [{\"error_x\": {\"color\": \"#2a3f5f\"}, \"error_y\": {\"color\": \"#2a3f5f\"}, \"marker\": {\"line\": {\"color\": \"#E5ECF6\", \"width\": 0.5}}, \"type\": \"bar\"}], \"barpolar\": [{\"marker\": {\"line\": {\"color\": \"#E5ECF6\", \"width\": 0.5}}, \"type\": \"barpolar\"}], \"carpet\": [{\"aaxis\": {\"endlinecolor\": \"#2a3f5f\", \"gridcolor\": \"white\", \"linecolor\": \"white\", \"minorgridcolor\": \"white\", \"startlinecolor\": \"#2a3f5f\"}, \"baxis\": {\"endlinecolor\": \"#2a3f5f\", \"gridcolor\": \"white\", \"linecolor\": \"white\", \"minorgridcolor\": \"white\", \"startlinecolor\": \"#2a3f5f\"}, \"type\": \"carpet\"}], \"choropleth\": [{\"colorbar\": {\"outlinewidth\": 0, \"ticks\": \"\"}, \"type\": \"choropleth\"}], \"contour\": [{\"colorbar\": {\"outlinewidth\": 0, \"ticks\": \"\"}, \"colorscale\": [[0.0, \"#0d0887\"], [0.1111111111111111, \"#46039f\"], [0.2222222222222222, \"#7201a8\"], [0.3333333333333333, \"#9c179e\"], [0.4444444444444444, \"#bd3786\"], [0.5555555555555556, \"#d8576b\"], [0.6666666666666666, \"#ed7953\"], [0.7777777777777778, \"#fb9f3a\"], [0.8888888888888888, \"#fdca26\"], [1.0, \"#f0f921\"]], \"type\": \"contour\"}], \"contourcarpet\": [{\"colorbar\": {\"outlinewidth\": 0, \"ticks\": \"\"}, \"type\": \"contourcarpet\"}], \"heatmap\": [{\"colorbar\": {\"outlinewidth\": 0, \"ticks\": \"\"}, \"colorscale\": [[0.0, \"#0d0887\"], [0.1111111111111111, \"#46039f\"], [0.2222222222222222, \"#7201a8\"], [0.3333333333333333, \"#9c179e\"], [0.4444444444444444, \"#bd3786\"], [0.5555555555555556, \"#d8576b\"], [0.6666666666666666, \"#ed7953\"], [0.7777777777777778, \"#fb9f3a\"], [0.8888888888888888, \"#fdca26\"], [1.0, \"#f0f921\"]], \"type\": \"heatmap\"}], \"heatmapgl\": [{\"colorbar\": {\"outlinewidth\": 0, \"ticks\": \"\"}, \"colorscale\": [[0.0, \"#0d0887\"], [0.1111111111111111, \"#46039f\"], [0.2222222222222222, \"#7201a8\"], [0.3333333333333333, \"#9c179e\"], [0.4444444444444444, \"#bd3786\"], [0.5555555555555556, \"#d8576b\"], [0.6666666666666666, \"#ed7953\"], [0.7777777777777778, \"#fb9f3a\"], [0.8888888888888888, \"#fdca26\"], [1.0, \"#f0f921\"]], \"type\": \"heatmapgl\"}], \"histogram\": [{\"marker\": {\"colorbar\": {\"outlinewidth\": 0, \"ticks\": \"\"}}, \"type\": \"histogram\"}], \"histogram2d\": [{\"colorbar\": {\"outlinewidth\": 0, \"ticks\": \"\"}, \"colorscale\": [[0.0, \"#0d0887\"], [0.1111111111111111, \"#46039f\"], [0.2222222222222222, \"#7201a8\"], [0.3333333333333333, \"#9c179e\"], [0.4444444444444444, \"#bd3786\"], [0.5555555555555556, \"#d8576b\"], [0.6666666666666666, \"#ed7953\"], [0.7777777777777778, \"#fb9f3a\"], [0.8888888888888888, \"#fdca26\"], [1.0, \"#f0f921\"]], \"type\": \"histogram2d\"}], \"histogram2dcontour\": [{\"colorbar\": {\"outlinewidth\": 0, \"ticks\": \"\"}, \"colorscale\": [[0.0, \"#0d0887\"], [0.1111111111111111, \"#46039f\"], [0.2222222222222222, \"#7201a8\"], [0.3333333333333333, \"#9c179e\"], [0.4444444444444444, \"#bd3786\"], [0.5555555555555556, \"#d8576b\"], [0.6666666666666666, \"#ed7953\"], [0.7777777777777778, \"#fb9f3a\"], [0.8888888888888888, \"#fdca26\"], [1.0, \"#f0f921\"]], \"type\": \"histogram2dcontour\"}], \"mesh3d\": [{\"colorbar\": {\"outlinewidth\": 0, \"ticks\": \"\"}, \"type\": \"mesh3d\"}], \"parcoords\": [{\"line\": {\"colorbar\": {\"outlinewidth\": 0, \"ticks\": \"\"}}, \"type\": \"parcoords\"}], \"scatter\": [{\"marker\": {\"colorbar\": {\"outlinewidth\": 0, \"ticks\": \"\"}}, \"type\": \"scatter\"}], \"scatter3d\": [{\"line\": {\"colorbar\": {\"outlinewidth\": 0, \"ticks\": \"\"}}, \"marker\": {\"colorbar\": {\"outlinewidth\": 0, \"ticks\": \"\"}}, \"type\": \"scatter3d\"}], \"scattercarpet\": [{\"marker\": {\"colorbar\": {\"outlinewidth\": 0, \"ticks\": \"\"}}, \"type\": \"scattercarpet\"}], \"scattergeo\": [{\"marker\": {\"colorbar\": {\"outlinewidth\": 0, \"ticks\": \"\"}}, \"type\": \"scattergeo\"}], \"scattergl\": [{\"marker\": {\"colorbar\": {\"outlinewidth\": 0, \"ticks\": \"\"}}, \"type\": \"scattergl\"}], \"scattermapbox\": [{\"marker\": {\"colorbar\": {\"outlinewidth\": 0, \"ticks\": \"\"}}, \"type\": \"scattermapbox\"}], \"scatterpolar\": [{\"marker\": {\"colorbar\": {\"outlinewidth\": 0, \"ticks\": \"\"}}, \"type\": \"scatterpolar\"}], \"scatterpolargl\": [{\"marker\": {\"colorbar\": {\"outlinewidth\": 0, \"ticks\": \"\"}}, \"type\": \"scatterpolargl\"}], \"scatterternary\": [{\"marker\": {\"colorbar\": {\"outlinewidth\": 0, \"ticks\": \"\"}}, \"type\": \"scatterternary\"}], \"surface\": [{\"colorbar\": {\"outlinewidth\": 0, \"ticks\": \"\"}, \"colorscale\": [[0.0, \"#0d0887\"], [0.1111111111111111, \"#46039f\"], [0.2222222222222222, \"#7201a8\"], [0.3333333333333333, \"#9c179e\"], [0.4444444444444444, \"#bd3786\"], [0.5555555555555556, \"#d8576b\"], [0.6666666666666666, \"#ed7953\"], [0.7777777777777778, \"#fb9f3a\"], [0.8888888888888888, \"#fdca26\"], [1.0, \"#f0f921\"]], \"type\": \"surface\"}], \"table\": [{\"cells\": {\"fill\": {\"color\": \"#EBF0F8\"}, \"line\": {\"color\": \"white\"}}, \"header\": {\"fill\": {\"color\": \"#C8D4E3\"}, \"line\": {\"color\": \"white\"}}, \"type\": \"table\"}]}, \"layout\": {\"annotationdefaults\": {\"arrowcolor\": \"#2a3f5f\", \"arrowhead\": 0, \"arrowwidth\": 1}, \"colorscale\": {\"diverging\": [[0, \"#8e0152\"], [0.1, \"#c51b7d\"], [0.2, \"#de77ae\"], [0.3, \"#f1b6da\"], [0.4, \"#fde0ef\"], [0.5, \"#f7f7f7\"], [0.6, \"#e6f5d0\"], [0.7, \"#b8e186\"], [0.8, \"#7fbc41\"], [0.9, \"#4d9221\"], [1, \"#276419\"]], \"sequential\": [[0.0, \"#0d0887\"], [0.1111111111111111, \"#46039f\"], [0.2222222222222222, \"#7201a8\"], [0.3333333333333333, \"#9c179e\"], [0.4444444444444444, \"#bd3786\"], [0.5555555555555556, \"#d8576b\"], [0.6666666666666666, \"#ed7953\"], [0.7777777777777778, \"#fb9f3a\"], [0.8888888888888888, \"#fdca26\"], [1.0, \"#f0f921\"]], \"sequentialminus\": [[0.0, \"#0d0887\"], [0.1111111111111111, \"#46039f\"], [0.2222222222222222, \"#7201a8\"], [0.3333333333333333, \"#9c179e\"], [0.4444444444444444, \"#bd3786\"], [0.5555555555555556, \"#d8576b\"], [0.6666666666666666, \"#ed7953\"], [0.7777777777777778, \"#fb9f3a\"], [0.8888888888888888, \"#fdca26\"], [1.0, \"#f0f921\"]]}, \"colorway\": [\"#636efa\", \"#EF553B\", \"#00cc96\", \"#ab63fa\", \"#FFA15A\", \"#19d3f3\", \"#FF6692\", \"#B6E880\", \"#FF97FF\", \"#FECB52\"], \"font\": {\"color\": \"#2a3f5f\"}, \"geo\": {\"bgcolor\": \"white\", \"lakecolor\": \"white\", \"landcolor\": \"#E5ECF6\", \"showlakes\": true, \"showland\": true, \"subunitcolor\": \"white\"}, \"hoverlabel\": {\"align\": \"left\"}, \"hovermode\": \"closest\", \"mapbox\": {\"style\": \"light\"}, \"paper_bgcolor\": \"white\", \"plot_bgcolor\": \"#E5ECF6\", \"polar\": {\"angularaxis\": {\"gridcolor\": \"white\", \"linecolor\": \"white\", \"ticks\": \"\"}, \"bgcolor\": \"#E5ECF6\", \"radialaxis\": {\"gridcolor\": \"white\", \"linecolor\": \"white\", \"ticks\": \"\"}}, \"scene\": {\"xaxis\": {\"backgroundcolor\": \"#E5ECF6\", \"gridcolor\": \"white\", \"gridwidth\": 2, \"linecolor\": \"white\", \"showbackground\": true, \"ticks\": \"\", \"zerolinecolor\": \"white\"}, \"yaxis\": {\"backgroundcolor\": \"#E5ECF6\", \"gridcolor\": \"white\", \"gridwidth\": 2, \"linecolor\": \"white\", \"showbackground\": true, \"ticks\": \"\", \"zerolinecolor\": \"white\"}, \"zaxis\": {\"backgroundcolor\": \"#E5ECF6\", \"gridcolor\": \"white\", \"gridwidth\": 2, \"linecolor\": \"white\", \"showbackground\": true, \"ticks\": \"\", \"zerolinecolor\": \"white\"}}, \"shapedefaults\": {\"line\": {\"color\": \"#2a3f5f\"}}, \"ternary\": {\"aaxis\": {\"gridcolor\": \"white\", \"linecolor\": \"white\", \"ticks\": \"\"}, \"baxis\": {\"gridcolor\": \"white\", \"linecolor\": \"white\", \"ticks\": \"\"}, \"bgcolor\": \"#E5ECF6\", \"caxis\": {\"gridcolor\": \"white\", \"linecolor\": \"white\", \"ticks\": \"\"}}, \"title\": {\"x\": 0.05}, \"xaxis\": {\"automargin\": true, \"gridcolor\": \"white\", \"linecolor\": \"white\", \"ticks\": \"\", \"zerolinecolor\": \"white\", \"zerolinewidth\": 2}, \"yaxis\": {\"automargin\": true, \"gridcolor\": \"white\", \"linecolor\": \"white\", \"ticks\": \"\", \"zerolinecolor\": \"white\", \"zerolinewidth\": 2}}}, \"xaxis\": {\"anchor\": \"y\", \"domain\": [0.0, 0.98], \"title\": {\"text\": \"Academic Department\"}}, \"yaxis\": {\"anchor\": \"x\", \"domain\": [0.0, 1.0], \"title\": {\"text\": \"Total courses\"}}},\n",
       "                        {\"responsive\": true}\n",
       "                    ).then(function(){\n",
       "                            \n",
       "var gd = document.getElementById('5f4f038d-d0e1-46b4-9fe0-1bc53b78add7');\n",
       "var x = new MutationObserver(function (mutations, observer) {{\n",
       "        var display = window.getComputedStyle(gd).display;\n",
       "        if (!display || display === 'none') {{\n",
       "            console.log([gd, 'removed!']);\n",
       "            Plotly.purge(gd);\n",
       "            observer.disconnect();\n",
       "        }}\n",
       "}});\n",
       "\n",
       "// Listen for the removal of the full notebook cells\n",
       "var notebookContainer = gd.closest('#notebook-container');\n",
       "if (notebookContainer) {{\n",
       "    x.observe(notebookContainer, {childList: true});\n",
       "}}\n",
       "\n",
       "// Listen for the clearing of the current output cell\n",
       "var outputEl = gd.closest('.output');\n",
       "if (outputEl) {{\n",
       "    x.observe(outputEl, {childList: true});\n",
       "}}\n",
       "\n",
       "                        })\n",
       "                };\n",
       "                });\n",
       "            </script>\n",
       "        </div>"
      ]
     },
     "metadata": {},
     "output_type": "display_data"
    }
   ],
   "source": [
    "fig = px.bar(dfbar, x='dept', y='nr_courses',hover_data=['dept', 'nr_courses','nr_students'], color='nr_students',\n",
    "             labels={'dept':'Academic Department','nr_courses':'Total courses','nr_students':'Total students'}, height=400)\n",
    "fig.show()"
   ]
  },
  {
   "cell_type": "markdown",
   "metadata": {},
   "source": [
    "## Total Students vs. Total Courses"
   ]
  },
  {
   "cell_type": "code",
   "execution_count": 84,
   "metadata": {},
   "outputs": [
    {
     "data": {
      "application/vnd.plotly.v1+json": {
       "config": {
        "plotlyServerURL": "https://plot.ly"
       },
       "data": [
        {
         "hoverlabel": {
          "namelength": 0
         },
         "hovertemplate": "<b>%{hovertext}</b><br><br>Academic Department=BISC<br>Total courses=%{x}<br>Total students=%{marker.size}",
         "hovertext": [
          "BISC"
         ],
         "legendgroup": "Academic Department=BISC",
         "marker": {
          "color": "#636efa",
          "size": [
           871
          ],
          "sizemode": "area",
          "sizeref": 0.9677777777777777,
          "symbol": "circle"
         },
         "mode": "markers",
         "name": "Academic Department=BISC",
         "showlegend": true,
         "type": "scatter",
         "x": [
          60
         ],
         "xaxis": "x",
         "y": [
          871
         ],
         "yaxis": "y"
        },
        {
         "hoverlabel": {
          "namelength": 0
         },
         "hovertemplate": "<b>%{hovertext}</b><br><br>Academic Department=PE<br>Total courses=%{x}<br>Total students=%{marker.size}",
         "hovertext": [
          "PE"
         ],
         "legendgroup": "Academic Department=PE",
         "marker": {
          "color": "#EF553B",
          "size": [
           588
          ],
          "sizemode": "area",
          "sizeref": 0.9677777777777777,
          "symbol": "circle"
         },
         "mode": "markers",
         "name": "Academic Department=PE",
         "showlegend": true,
         "type": "scatter",
         "x": [
          49
         ],
         "xaxis": "x",
         "y": [
          588
         ],
         "yaxis": "y"
        },
        {
         "hoverlabel": {
          "namelength": 0
         },
         "hovertemplate": "<b>%{hovertext}</b><br><br>Academic Department=CHEM<br>Total courses=%{x}<br>Total students=%{marker.size}",
         "hovertext": [
          "CHEM"
         ],
         "legendgroup": "Academic Department=CHEM",
         "marker": {
          "color": "#00cc96",
          "size": [
           691
          ],
          "sizemode": "area",
          "sizeref": 0.9677777777777777,
          "symbol": "circle"
         },
         "mode": "markers",
         "name": "Academic Department=CHEM",
         "showlegend": true,
         "type": "scatter",
         "x": [
          46
         ],
         "xaxis": "x",
         "y": [
          691
         ],
         "yaxis": "y"
        },
        {
         "hoverlabel": {
          "namelength": 0
         },
         "hovertemplate": "<b>%{hovertext}</b><br><br>Academic Department=CS<br>Total courses=%{x}<br>Total students=%{marker.size}",
         "hovertext": [
          "CS"
         ],
         "legendgroup": "Academic Department=CS",
         "marker": {
          "color": "#ab63fa",
          "size": [
           707
          ],
          "sizemode": "area",
          "sizeref": 0.9677777777777777,
          "symbol": "circle"
         },
         "mode": "markers",
         "name": "Academic Department=CS",
         "showlegend": true,
         "type": "scatter",
         "x": [
          39
         ],
         "xaxis": "x",
         "y": [
          707
         ],
         "yaxis": "y"
        },
        {
         "hoverlabel": {
          "namelength": 0
         },
         "hovertemplate": "<b>%{hovertext}</b><br><br>Academic Department=ECON<br>Total courses=%{x}<br>Total students=%{marker.size}",
         "hovertext": [
          "ECON"
         ],
         "legendgroup": "Academic Department=ECON",
         "marker": {
          "color": "#FFA15A",
          "size": [
           695
          ],
          "sizemode": "area",
          "sizeref": 0.9677777777777777,
          "symbol": "circle"
         },
         "mode": "markers",
         "name": "Academic Department=ECON",
         "showlegend": true,
         "type": "scatter",
         "x": [
          32
         ],
         "xaxis": "x",
         "y": [
          695
         ],
         "yaxis": "y"
        },
        {
         "hoverlabel": {
          "namelength": 0
         },
         "hovertemplate": "<b>%{hovertext}</b><br><br>Academic Department=MATH<br>Total courses=%{x}<br>Total students=%{marker.size}",
         "hovertext": [
          "MATH"
         ],
         "legendgroup": "Academic Department=MATH",
         "marker": {
          "color": "#19d3f3",
          "size": [
           631
          ],
          "sizemode": "area",
          "sizeref": 0.9677777777777777,
          "symbol": "circle"
         },
         "mode": "markers",
         "name": "Academic Department=MATH",
         "showlegend": true,
         "type": "scatter",
         "x": [
          29
         ],
         "xaxis": "x",
         "y": [
          631
         ],
         "yaxis": "y"
        },
        {
         "hoverlabel": {
          "namelength": 0
         },
         "hovertemplate": "<b>%{hovertext}</b><br><br>Academic Department=PSYC<br>Total courses=%{x}<br>Total students=%{marker.size}",
         "hovertext": [
          "PSYC"
         ],
         "legendgroup": "Academic Department=PSYC",
         "marker": {
          "color": "#FF6692",
          "size": [
           570
          ],
          "sizemode": "area",
          "sizeref": 0.9677777777777777,
          "symbol": "circle"
         },
         "mode": "markers",
         "name": "Academic Department=PSYC",
         "showlegend": true,
         "type": "scatter",
         "x": [
          28
         ],
         "xaxis": "x",
         "y": [
          570
         ],
         "yaxis": "y"
        },
        {
         "hoverlabel": {
          "namelength": 0
         },
         "hovertemplate": "<b>%{hovertext}</b><br><br>Academic Department=WRIT<br>Total courses=%{x}<br>Total students=%{marker.size}",
         "hovertext": [
          "WRIT"
         ],
         "legendgroup": "Academic Department=WRIT",
         "marker": {
          "color": "#B6E880",
          "size": [
           351
          ],
          "sizemode": "area",
          "sizeref": 0.9677777777777777,
          "symbol": "circle"
         },
         "mode": "markers",
         "name": "Academic Department=WRIT",
         "showlegend": true,
         "type": "scatter",
         "x": [
          26
         ],
         "xaxis": "x",
         "y": [
          351
         ],
         "yaxis": "y"
        },
        {
         "hoverlabel": {
          "namelength": 0
         },
         "hovertemplate": "<b>%{hovertext}</b><br><br>Academic Department=ENG<br>Total courses=%{x}<br>Total students=%{marker.size}",
         "hovertext": [
          "ENG"
         ],
         "legendgroup": "Academic Department=ENG",
         "marker": {
          "color": "#FF97FF",
          "size": [
           426
          ],
          "sizemode": "area",
          "sizeref": 0.9677777777777777,
          "symbol": "circle"
         },
         "mode": "markers",
         "name": "Academic Department=ENG",
         "showlegend": true,
         "type": "scatter",
         "x": [
          25
         ],
         "xaxis": "x",
         "y": [
          426
         ],
         "yaxis": "y"
        },
        {
         "hoverlabel": {
          "namelength": 0
         },
         "hovertemplate": "<b>%{hovertext}</b><br><br>Academic Department=HIST<br>Total courses=%{x}<br>Total students=%{marker.size}",
         "hovertext": [
          "HIST"
         ],
         "legendgroup": "Academic Department=HIST",
         "marker": {
          "color": "#FECB52",
          "size": [
           303
          ],
          "sizemode": "area",
          "sizeref": 0.9677777777777777,
          "symbol": "circle"
         },
         "mode": "markers",
         "name": "Academic Department=HIST",
         "showlegend": true,
         "type": "scatter",
         "x": [
          19
         ],
         "xaxis": "x",
         "y": [
          303
         ],
         "yaxis": "y"
        },
        {
         "hoverlabel": {
          "namelength": 0
         },
         "hovertemplate": "<b>%{hovertext}</b><br><br>Academic Department=SPAN<br>Total courses=%{x}<br>Total students=%{marker.size}",
         "hovertext": [
          "SPAN"
         ],
         "legendgroup": "Academic Department=SPAN",
         "marker": {
          "color": "#636efa",
          "size": [
           298
          ],
          "sizemode": "area",
          "sizeref": 0.9677777777777777,
          "symbol": "circle"
         },
         "mode": "markers",
         "name": "Academic Department=SPAN",
         "showlegend": true,
         "type": "scatter",
         "x": [
          19
         ],
         "xaxis": "x",
         "y": [
          298
         ],
         "yaxis": "y"
        },
        {
         "hoverlabel": {
          "namelength": 0
         },
         "hovertemplate": "<b>%{hovertext}</b><br><br>Academic Department=PHYS<br>Total courses=%{x}<br>Total students=%{marker.size}",
         "hovertext": [
          "PHYS"
         ],
         "legendgroup": "Academic Department=PHYS",
         "marker": {
          "color": "#EF553B",
          "size": [
           310
          ],
          "sizemode": "area",
          "sizeref": 0.9677777777777777,
          "symbol": "circle"
         },
         "mode": "markers",
         "name": "Academic Department=PHYS",
         "showlegend": true,
         "type": "scatter",
         "x": [
          19
         ],
         "xaxis": "x",
         "y": [
          310
         ],
         "yaxis": "y"
        },
        {
         "hoverlabel": {
          "namelength": 0
         },
         "hovertemplate": "<b>%{hovertext}</b><br><br>Academic Department=ARTH<br>Total courses=%{x}<br>Total students=%{marker.size}",
         "hovertext": [
          "ARTH"
         ],
         "legendgroup": "Academic Department=ARTH",
         "marker": {
          "color": "#00cc96",
          "size": [
           251
          ],
          "sizemode": "area",
          "sizeref": 0.9677777777777777,
          "symbol": "circle"
         },
         "mode": "markers",
         "name": "Academic Department=ARTH",
         "showlegend": true,
         "type": "scatter",
         "x": [
          17
         ],
         "xaxis": "x",
         "y": [
          251
         ],
         "yaxis": "y"
        },
        {
         "hoverlabel": {
          "namelength": 0
         },
         "hovertemplate": "<b>%{hovertext}</b><br><br>Academic Department=ES<br>Total courses=%{x}<br>Total students=%{marker.size}",
         "hovertext": [
          "ES"
         ],
         "legendgroup": "Academic Department=ES",
         "marker": {
          "color": "#ab63fa",
          "size": [
           263
          ],
          "sizemode": "area",
          "sizeref": 0.9677777777777777,
          "symbol": "circle"
         },
         "mode": "markers",
         "name": "Academic Department=ES",
         "showlegend": true,
         "type": "scatter",
         "x": [
          17
         ],
         "xaxis": "x",
         "y": [
          263
         ],
         "yaxis": "y"
        },
        {
         "hoverlabel": {
          "namelength": 0
         },
         "hovertemplate": "<b>%{hovertext}</b><br><br>Academic Department=SOC<br>Total courses=%{x}<br>Total students=%{marker.size}",
         "hovertext": [
          "SOC"
         ],
         "legendgroup": "Academic Department=SOC",
         "marker": {
          "color": "#FFA15A",
          "size": [
           344
          ],
          "sizemode": "area",
          "sizeref": 0.9677777777777777,
          "symbol": "circle"
         },
         "mode": "markers",
         "name": "Academic Department=SOC",
         "showlegend": true,
         "type": "scatter",
         "x": [
          16
         ],
         "xaxis": "x",
         "y": [
          344
         ],
         "yaxis": "y"
        },
        {
         "hoverlabel": {
          "namelength": 0
         },
         "hovertemplate": "<b>%{hovertext}</b><br><br>Academic Department=FREN<br>Total courses=%{x}<br>Total students=%{marker.size}",
         "hovertext": [
          "FREN"
         ],
         "legendgroup": "Academic Department=FREN",
         "marker": {
          "color": "#19d3f3",
          "size": [
           193
          ],
          "sizemode": "area",
          "sizeref": 0.9677777777777777,
          "symbol": "circle"
         },
         "mode": "markers",
         "name": "Academic Department=FREN",
         "showlegend": true,
         "type": "scatter",
         "x": [
          16
         ],
         "xaxis": "x",
         "y": [
          193
         ],
         "yaxis": "y"
        },
        {
         "hoverlabel": {
          "namelength": 0
         },
         "hovertemplate": "<b>%{hovertext}</b><br><br>Academic Department=ARTS<br>Total courses=%{x}<br>Total students=%{marker.size}",
         "hovertext": [
          "ARTS"
         ],
         "legendgroup": "Academic Department=ARTS",
         "marker": {
          "color": "#FF6692",
          "size": [
           222
          ],
          "sizemode": "area",
          "sizeref": 0.9677777777777777,
          "symbol": "circle"
         },
         "mode": "markers",
         "name": "Academic Department=ARTS",
         "showlegend": true,
         "type": "scatter",
         "x": [
          15
         ],
         "xaxis": "x",
         "y": [
          222
         ],
         "yaxis": "y"
        },
        {
         "hoverlabel": {
          "namelength": 0
         },
         "hovertemplate": "<b>%{hovertext}</b><br><br>Academic Department=CAMS<br>Total courses=%{x}<br>Total students=%{marker.size}",
         "hovertext": [
          "CAMS"
         ],
         "legendgroup": "Academic Department=CAMS",
         "marker": {
          "color": "#B6E880",
          "size": [
           222
          ],
          "sizemode": "area",
          "sizeref": 0.9677777777777777,
          "symbol": "circle"
         },
         "mode": "markers",
         "name": "Academic Department=CAMS",
         "showlegend": true,
         "type": "scatter",
         "x": [
          15
         ],
         "xaxis": "x",
         "y": [
          222
         ],
         "yaxis": "y"
        },
        {
         "hoverlabel": {
          "namelength": 0
         },
         "hovertemplate": "<b>%{hovertext}</b><br><br>Academic Department=GEOS<br>Total courses=%{x}<br>Total students=%{marker.size}",
         "hovertext": [
          "GEOS"
         ],
         "legendgroup": "Academic Department=GEOS",
         "marker": {
          "color": "#FF97FF",
          "size": [
           170
          ],
          "sizemode": "area",
          "sizeref": 0.9677777777777777,
          "symbol": "circle"
         },
         "mode": "markers",
         "name": "Academic Department=GEOS",
         "showlegend": true,
         "type": "scatter",
         "x": [
          13
         ],
         "xaxis": "x",
         "y": [
          170
         ],
         "yaxis": "y"
        },
        {
         "hoverlabel": {
          "namelength": 0
         },
         "hovertemplate": "<b>%{hovertext}</b><br><br>Academic Department=WGST<br>Total courses=%{x}<br>Total students=%{marker.size}",
         "hovertext": [
          "WGST"
         ],
         "legendgroup": "Academic Department=WGST",
         "marker": {
          "color": "#FECB52",
          "size": [
           263
          ],
          "sizemode": "area",
          "sizeref": 0.9677777777777777,
          "symbol": "circle"
         },
         "mode": "markers",
         "name": "Academic Department=WGST",
         "showlegend": true,
         "type": "scatter",
         "x": [
          13
         ],
         "xaxis": "x",
         "y": [
          263
         ],
         "yaxis": "y"
        },
        {
         "hoverlabel": {
          "namelength": 0
         },
         "hovertemplate": "<b>%{hovertext}</b><br><br>Academic Department=EDUC<br>Total courses=%{x}<br>Total students=%{marker.size}",
         "hovertext": [
          "EDUC"
         ],
         "legendgroup": "Academic Department=EDUC",
         "marker": {
          "color": "#636efa",
          "size": [
           188
          ],
          "sizemode": "area",
          "sizeref": 0.9677777777777777,
          "symbol": "circle"
         },
         "mode": "markers",
         "name": "Academic Department=EDUC",
         "showlegend": true,
         "type": "scatter",
         "x": [
          13
         ],
         "xaxis": "x",
         "y": [
          188
         ],
         "yaxis": "y"
        },
        {
         "hoverlabel": {
          "namelength": 0
         },
         "hovertemplate": "<b>%{hovertext}</b><br><br>Academic Department=AMST<br>Total courses=%{x}<br>Total students=%{marker.size}",
         "hovertext": [
          "AMST"
         ],
         "legendgroup": "Academic Department=AMST",
         "marker": {
          "color": "#EF553B",
          "size": [
           266
          ],
          "sizemode": "area",
          "sizeref": 0.9677777777777777,
          "symbol": "circle"
         },
         "mode": "markers",
         "name": "Academic Department=AMST",
         "showlegend": true,
         "type": "scatter",
         "x": [
          12
         ],
         "xaxis": "x",
         "y": [
          266
         ],
         "yaxis": "y"
        },
        {
         "hoverlabel": {
          "namelength": 0
         },
         "hovertemplate": "<b>%{hovertext}</b><br><br>Academic Department=PHIL<br>Total courses=%{x}<br>Total students=%{marker.size}",
         "hovertext": [
          "PHIL"
         ],
         "legendgroup": "Academic Department=PHIL",
         "marker": {
          "color": "#00cc96",
          "size": [
           293
          ],
          "sizemode": "area",
          "sizeref": 0.9677777777777777,
          "symbol": "circle"
         },
         "mode": "markers",
         "name": "Academic Department=PHIL",
         "showlegend": true,
         "type": "scatter",
         "x": [
          12
         ],
         "xaxis": "x",
         "y": [
          293
         ],
         "yaxis": "y"
        },
        {
         "hoverlabel": {
          "namelength": 0
         },
         "hovertemplate": "<b>%{hovertext}</b><br><br>Academic Department=NEUR<br>Total courses=%{x}<br>Total students=%{marker.size}",
         "hovertext": [
          "NEUR"
         ],
         "legendgroup": "Academic Department=NEUR",
         "marker": {
          "color": "#ab63fa",
          "size": [
           150
          ],
          "sizemode": "area",
          "sizeref": 0.9677777777777777,
          "symbol": "circle"
         },
         "mode": "markers",
         "name": "Academic Department=NEUR",
         "showlegend": true,
         "type": "scatter",
         "x": [
          11
         ],
         "xaxis": "x",
         "y": [
          150
         ],
         "yaxis": "y"
        },
        {
         "hoverlabel": {
          "namelength": 0
         },
         "hovertemplate": "<b>%{hovertext}</b><br><br>Academic Department=BIOC<br>Total courses=%{x}<br>Total students=%{marker.size}",
         "hovertext": [
          "BIOC"
         ],
         "legendgroup": "Academic Department=BIOC",
         "marker": {
          "color": "#FFA15A",
          "size": [
           191
          ],
          "sizemode": "area",
          "sizeref": 0.9677777777777777,
          "symbol": "circle"
         },
         "mode": "markers",
         "name": "Academic Department=BIOC",
         "showlegend": true,
         "type": "scatter",
         "x": [
          11
         ],
         "xaxis": "x",
         "y": [
          191
         ],
         "yaxis": "y"
        },
        {
         "hoverlabel": {
          "namelength": 0
         },
         "hovertemplate": "<b>%{hovertext}</b><br><br>Academic Department=REL<br>Total courses=%{x}<br>Total students=%{marker.size}",
         "hovertext": [
          "REL"
         ],
         "legendgroup": "Academic Department=REL",
         "marker": {
          "color": "#19d3f3",
          "size": [
           173
          ],
          "sizemode": "area",
          "sizeref": 0.9677777777777777,
          "symbol": "circle"
         },
         "mode": "markers",
         "name": "Academic Department=REL",
         "showlegend": true,
         "type": "scatter",
         "x": [
          11
         ],
         "xaxis": "x",
         "y": [
          173
         ],
         "yaxis": "y"
        },
        {
         "hoverlabel": {
          "namelength": 0
         },
         "hovertemplate": "<b>%{hovertext}</b><br><br>Academic Department=CHIN<br>Total courses=%{x}<br>Total students=%{marker.size}",
         "hovertext": [
          "CHIN"
         ],
         "legendgroup": "Academic Department=CHIN",
         "marker": {
          "color": "#FF6692",
          "size": [
           116
          ],
          "sizemode": "area",
          "sizeref": 0.9677777777777777,
          "symbol": "circle"
         },
         "mode": "markers",
         "name": "Academic Department=CHIN",
         "showlegend": true,
         "type": "scatter",
         "x": [
          11
         ],
         "xaxis": "x",
         "y": [
          116
         ],
         "yaxis": "y"
        },
        {
         "hoverlabel": {
          "namelength": 0
         },
         "hovertemplate": "<b>%{hovertext}</b><br><br>Academic Department=MUS<br>Total courses=%{x}<br>Total students=%{marker.size}",
         "hovertext": [
          "MUS"
         ],
         "legendgroup": "Academic Department=MUS",
         "marker": {
          "color": "#B6E880",
          "size": [
           156
          ],
          "sizemode": "area",
          "sizeref": 0.9677777777777777,
          "symbol": "circle"
         },
         "mode": "markers",
         "name": "Academic Department=MUS",
         "showlegend": true,
         "type": "scatter",
         "x": [
          10
         ],
         "xaxis": "x",
         "y": [
          156
         ],
         "yaxis": "y"
        },
        {
         "hoverlabel": {
          "namelength": 0
         },
         "hovertemplate": "<b>%{hovertext}</b><br><br>Academic Department=THST<br>Total courses=%{x}<br>Total students=%{marker.size}",
         "hovertext": [
          "THST"
         ],
         "legendgroup": "Academic Department=THST",
         "marker": {
          "color": "#FF97FF",
          "size": [
           98
          ],
          "sizemode": "area",
          "sizeref": 0.9677777777777777,
          "symbol": "circle"
         },
         "mode": "markers",
         "name": "Academic Department=THST",
         "showlegend": true,
         "type": "scatter",
         "x": [
          10
         ],
         "xaxis": "x",
         "y": [
          98
         ],
         "yaxis": "y"
        },
        {
         "hoverlabel": {
          "namelength": 0
         },
         "hovertemplate": "<b>%{hovertext}</b><br><br>Academic Department=ANTH<br>Total courses=%{x}<br>Total students=%{marker.size}",
         "hovertext": [
          "ANTH"
         ],
         "legendgroup": "Academic Department=ANTH",
         "marker": {
          "color": "#FECB52",
          "size": [
           161
          ],
          "sizemode": "area",
          "sizeref": 0.9677777777777777,
          "symbol": "circle"
         },
         "mode": "markers",
         "name": "Academic Department=ANTH",
         "showlegend": true,
         "type": "scatter",
         "x": [
          10
         ],
         "xaxis": "x",
         "y": [
          161
         ],
         "yaxis": "y"
        },
        {
         "hoverlabel": {
          "namelength": 0
         },
         "hovertemplate": "<b>%{hovertext}</b><br><br>Academic Department=ITAS<br>Total courses=%{x}<br>Total students=%{marker.size}",
         "hovertext": [
          "ITAS"
         ],
         "legendgroup": "Academic Department=ITAS",
         "marker": {
          "color": "#636efa",
          "size": [
           62
          ],
          "sizemode": "area",
          "sizeref": 0.9677777777777777,
          "symbol": "circle"
         },
         "mode": "markers",
         "name": "Academic Department=ITAS",
         "showlegend": true,
         "type": "scatter",
         "x": [
          8
         ],
         "xaxis": "x",
         "y": [
          62
         ],
         "yaxis": "y"
        },
        {
         "hoverlabel": {
          "namelength": 0
         },
         "hovertemplate": "<b>%{hovertext}</b><br><br>Academic Department=AFR<br>Total courses=%{x}<br>Total students=%{marker.size}",
         "hovertext": [
          "AFR"
         ],
         "legendgroup": "Academic Department=AFR",
         "marker": {
          "color": "#EF553B",
          "size": [
           140
          ],
          "sizemode": "area",
          "sizeref": 0.9677777777777777,
          "symbol": "circle"
         },
         "mode": "markers",
         "name": "Academic Department=AFR",
         "showlegend": true,
         "type": "scatter",
         "x": [
          7
         ],
         "xaxis": "x",
         "y": [
          140
         ],
         "yaxis": "y"
        },
        {
         "hoverlabel": {
          "namelength": 0
         },
         "hovertemplate": "<b>%{hovertext}</b><br><br>Academic Department=JPN<br>Total courses=%{x}<br>Total students=%{marker.size}",
         "hovertext": [
          "JPN"
         ],
         "legendgroup": "Academic Department=JPN",
         "marker": {
          "color": "#00cc96",
          "size": [
           70
          ],
          "sizemode": "area",
          "sizeref": 0.9677777777777777,
          "symbol": "circle"
         },
         "mode": "markers",
         "name": "Academic Department=JPN",
         "showlegend": true,
         "type": "scatter",
         "x": [
          7
         ],
         "xaxis": "x",
         "y": [
          70
         ],
         "yaxis": "y"
        },
        {
         "hoverlabel": {
          "namelength": 0
         },
         "hovertemplate": "<b>%{hovertext}</b><br><br>Academic Department=GER<br>Total courses=%{x}<br>Total students=%{marker.size}",
         "hovertext": [
          "GER"
         ],
         "legendgroup": "Academic Department=GER",
         "marker": {
          "color": "#ab63fa",
          "size": [
           61
          ],
          "sizemode": "area",
          "sizeref": 0.9677777777777777,
          "symbol": "circle"
         },
         "mode": "markers",
         "name": "Academic Department=GER",
         "showlegend": true,
         "type": "scatter",
         "x": [
          6
         ],
         "xaxis": "x",
         "y": [
          61
         ],
         "yaxis": "y"
        },
        {
         "hoverlabel": {
          "namelength": 0
         },
         "hovertemplate": "<b>%{hovertext}</b><br><br>Academic Department=ASTR<br>Total courses=%{x}<br>Total students=%{marker.size}",
         "hovertext": [
          "ASTR"
         ],
         "legendgroup": "Academic Department=ASTR",
         "marker": {
          "color": "#FFA15A",
          "size": [
           102
          ],
          "sizemode": "area",
          "sizeref": 0.9677777777777777,
          "symbol": "circle"
         },
         "mode": "markers",
         "name": "Academic Department=ASTR",
         "showlegend": true,
         "type": "scatter",
         "x": [
          6
         ],
         "xaxis": "x",
         "y": [
          102
         ],
         "yaxis": "y"
        },
        {
         "hoverlabel": {
          "namelength": 0
         },
         "hovertemplate": "<b>%{hovertext}</b><br><br>Academic Department=MAS<br>Total courses=%{x}<br>Total students=%{marker.size}",
         "hovertext": [
          "MAS"
         ],
         "legendgroup": "Academic Department=MAS",
         "marker": {
          "color": "#19d3f3",
          "size": [
           116
          ],
          "sizemode": "area",
          "sizeref": 0.9677777777777777,
          "symbol": "circle"
         },
         "mode": "markers",
         "name": "Academic Department=MAS",
         "showlegend": true,
         "type": "scatter",
         "x": [
          6
         ],
         "xaxis": "x",
         "y": [
          116
         ],
         "yaxis": "y"
        },
        {
         "hoverlabel": {
          "namelength": 0
         },
         "hovertemplate": "<b>%{hovertext}</b><br><br>Academic Department=RUSS<br>Total courses=%{x}<br>Total students=%{marker.size}",
         "hovertext": [
          "RUSS"
         ],
         "legendgroup": "Academic Department=RUSS",
         "marker": {
          "color": "#FF6692",
          "size": [
           48
          ],
          "sizemode": "area",
          "sizeref": 0.9677777777777777,
          "symbol": "circle"
         },
         "mode": "markers",
         "name": "Academic Department=RUSS",
         "showlegend": true,
         "type": "scatter",
         "x": [
          6
         ],
         "xaxis": "x",
         "y": [
          48
         ],
         "yaxis": "y"
        },
        {
         "hoverlabel": {
          "namelength": 0
         },
         "hovertemplate": "<b>%{hovertext}</b><br><br>Academic Department=POL2<br>Total courses=%{x}<br>Total students=%{marker.size}",
         "hovertext": [
          "POL2"
         ],
         "legendgroup": "Academic Department=POL2",
         "marker": {
          "color": "#B6E880",
          "size": [
           122
          ],
          "sizemode": "area",
          "sizeref": 0.9677777777777777,
          "symbol": "circle"
         },
         "mode": "markers",
         "name": "Academic Department=POL2",
         "showlegend": true,
         "type": "scatter",
         "x": [
          6
         ],
         "xaxis": "x",
         "y": [
          122
         ],
         "yaxis": "y"
        },
        {
         "hoverlabel": {
          "namelength": 0
         },
         "hovertemplate": "<b>%{hovertext}</b><br><br>Academic Department=PEAC<br>Total courses=%{x}<br>Total students=%{marker.size}",
         "hovertext": [
          "PEAC"
         ],
         "legendgroup": "Academic Department=PEAC",
         "marker": {
          "color": "#FF97FF",
          "size": [
           118
          ],
          "sizemode": "area",
          "sizeref": 0.9677777777777777,
          "symbol": "circle"
         },
         "mode": "markers",
         "name": "Academic Department=PEAC",
         "showlegend": true,
         "type": "scatter",
         "x": [
          6
         ],
         "xaxis": "x",
         "y": [
          118
         ],
         "yaxis": "y"
        },
        {
         "hoverlabel": {
          "namelength": 0
         },
         "hovertemplate": "<b>%{hovertext}</b><br><br>Academic Department=ARAB<br>Total courses=%{x}<br>Total students=%{marker.size}",
         "hovertext": [
          "ARAB"
         ],
         "legendgroup": "Academic Department=ARAB",
         "marker": {
          "color": "#FECB52",
          "size": [
           65
          ],
          "sizemode": "area",
          "sizeref": 0.9677777777777777,
          "symbol": "circle"
         },
         "mode": "markers",
         "name": "Academic Department=ARAB",
         "showlegend": true,
         "type": "scatter",
         "x": [
          5
         ],
         "xaxis": "x",
         "y": [
          65
         ],
         "yaxis": "y"
        },
        {
         "hoverlabel": {
          "namelength": 0
         },
         "hovertemplate": "<b>%{hovertext}</b><br><br>Academic Department=POL1<br>Total courses=%{x}<br>Total students=%{marker.size}",
         "hovertext": [
          "POL1"
         ],
         "legendgroup": "Academic Department=POL1",
         "marker": {
          "color": "#636efa",
          "size": [
           88
          ],
          "sizemode": "area",
          "sizeref": 0.9677777777777777,
          "symbol": "circle"
         },
         "mode": "markers",
         "name": "Academic Department=POL1",
         "showlegend": true,
         "type": "scatter",
         "x": [
          5
         ],
         "xaxis": "x",
         "y": [
          88
         ],
         "yaxis": "y"
        },
        {
         "hoverlabel": {
          "namelength": 0
         },
         "hovertemplate": "<b>%{hovertext}</b><br><br>Academic Department=POL3<br>Total courses=%{x}<br>Total students=%{marker.size}",
         "hovertext": [
          "POL3"
         ],
         "legendgroup": "Academic Department=POL3",
         "marker": {
          "color": "#EF553B",
          "size": [
           118
          ],
          "sizemode": "area",
          "sizeref": 0.9677777777777777,
          "symbol": "circle"
         },
         "mode": "markers",
         "name": "Academic Department=POL3",
         "showlegend": true,
         "type": "scatter",
         "x": [
          5
         ],
         "xaxis": "x",
         "y": [
          118
         ],
         "yaxis": "y"
        },
        {
         "hoverlabel": {
          "namelength": 0
         },
         "hovertemplate": "<b>%{hovertext}</b><br><br>Academic Department=KOR<br>Total courses=%{x}<br>Total students=%{marker.size}",
         "hovertext": [
          "KOR"
         ],
         "legendgroup": "Academic Department=KOR",
         "marker": {
          "color": "#00cc96",
          "size": [
           61
          ],
          "sizemode": "area",
          "sizeref": 0.9677777777777777,
          "symbol": "circle"
         },
         "mode": "markers",
         "name": "Academic Department=KOR",
         "showlegend": true,
         "type": "scatter",
         "x": [
          5
         ],
         "xaxis": "x",
         "y": [
          61
         ],
         "yaxis": "y"
        },
        {
         "hoverlabel": {
          "namelength": 0
         },
         "hovertemplate": "<b>%{hovertext}</b><br><br>Academic Department=MES<br>Total courses=%{x}<br>Total students=%{marker.size}",
         "hovertext": [
          "MES"
         ],
         "legendgroup": "Academic Department=MES",
         "marker": {
          "color": "#ab63fa",
          "size": [
           76
          ],
          "sizemode": "area",
          "sizeref": 0.9677777777777777,
          "symbol": "circle"
         },
         "mode": "markers",
         "name": "Academic Department=MES",
         "showlegend": true,
         "type": "scatter",
         "x": [
          5
         ],
         "xaxis": "x",
         "y": [
          76
         ],
         "yaxis": "y"
        },
        {
         "hoverlabel": {
          "namelength": 0
         },
         "hovertemplate": "<b>%{hovertext}</b><br><br>Academic Department=POL4<br>Total courses=%{x}<br>Total students=%{marker.size}",
         "hovertext": [
          "POL4"
         ],
         "legendgroup": "Academic Department=POL4",
         "marker": {
          "color": "#FFA15A",
          "size": [
           64
          ],
          "sizemode": "area",
          "sizeref": 0.9677777777777777,
          "symbol": "circle"
         },
         "mode": "markers",
         "name": "Academic Department=POL4",
         "showlegend": true,
         "type": "scatter",
         "x": [
          4
         ],
         "xaxis": "x",
         "y": [
          64
         ],
         "yaxis": "y"
        },
        {
         "hoverlabel": {
          "namelength": 0
         },
         "hovertemplate": "<b>%{hovertext}</b><br><br>Academic Department=STAT<br>Total courses=%{x}<br>Total students=%{marker.size}",
         "hovertext": [
          "STAT"
         ],
         "legendgroup": "Academic Department=STAT",
         "marker": {
          "color": "#19d3f3",
          "size": [
           125
          ],
          "sizemode": "area",
          "sizeref": 0.9677777777777777,
          "symbol": "circle"
         },
         "mode": "markers",
         "name": "Academic Department=STAT",
         "showlegend": true,
         "type": "scatter",
         "x": [
          4
         ],
         "xaxis": "x",
         "y": [
          125
         ],
         "yaxis": "y"
        },
        {
         "hoverlabel": {
          "namelength": 0
         },
         "hovertemplate": "<b>%{hovertext}</b><br><br>Academic Department=CLCV<br>Total courses=%{x}<br>Total students=%{marker.size}",
         "hovertext": [
          "CLCV"
         ],
         "legendgroup": "Academic Department=CLCV",
         "marker": {
          "color": "#FF6692",
          "size": [
           73
          ],
          "sizemode": "area",
          "sizeref": 0.9677777777777777,
          "symbol": "circle"
         },
         "mode": "markers",
         "name": "Academic Department=CLCV",
         "showlegend": true,
         "type": "scatter",
         "x": [
          4
         ],
         "xaxis": "x",
         "y": [
          73
         ],
         "yaxis": "y"
        },
        {
         "hoverlabel": {
          "namelength": 0
         },
         "hovertemplate": "<b>%{hovertext}</b><br><br>Academic Department=QR<br>Total courses=%{x}<br>Total students=%{marker.size}",
         "hovertext": [
          "QR"
         ],
         "legendgroup": "Academic Department=QR",
         "marker": {
          "color": "#B6E880",
          "size": [
           103
          ],
          "sizemode": "area",
          "sizeref": 0.9677777777777777,
          "symbol": "circle"
         },
         "mode": "markers",
         "name": "Academic Department=QR",
         "showlegend": true,
         "type": "scatter",
         "x": [
          4
         ],
         "xaxis": "x",
         "y": [
          103
         ],
         "yaxis": "y"
        },
        {
         "hoverlabel": {
          "namelength": 0
         },
         "hovertemplate": "<b>%{hovertext}</b><br><br>Academic Department=CPLT<br>Total courses=%{x}<br>Total students=%{marker.size}",
         "hovertext": [
          "CPLT"
         ],
         "legendgroup": "Academic Department=CPLT",
         "marker": {
          "color": "#FF97FF",
          "size": [
           56
          ],
          "sizemode": "area",
          "sizeref": 0.9677777777777777,
          "symbol": "circle"
         },
         "mode": "markers",
         "name": "Academic Department=CPLT",
         "showlegend": true,
         "type": "scatter",
         "x": [
          4
         ],
         "xaxis": "x",
         "y": [
          56
         ],
         "yaxis": "y"
        },
        {
         "hoverlabel": {
          "namelength": 0
         },
         "hovertemplate": "<b>%{hovertext}</b><br><br>Academic Department=HEBR<br>Total courses=%{x}<br>Total students=%{marker.size}",
         "hovertext": [
          "HEBR"
         ],
         "legendgroup": "Academic Department=HEBR",
         "marker": {
          "color": "#FECB52",
          "size": [
           10
          ],
          "sizemode": "area",
          "sizeref": 0.9677777777777777,
          "symbol": "circle"
         },
         "mode": "markers",
         "name": "Academic Department=HEBR",
         "showlegend": true,
         "type": "scatter",
         "x": [
          3
         ],
         "xaxis": "x",
         "y": [
          10
         ],
         "yaxis": "y"
        },
        {
         "hoverlabel": {
          "namelength": 0
         },
         "hovertemplate": "<b>%{hovertext}</b><br><br>Academic Department=LING<br>Total courses=%{x}<br>Total students=%{marker.size}",
         "hovertext": [
          "LING"
         ],
         "legendgroup": "Academic Department=LING",
         "marker": {
          "color": "#636efa",
          "size": [
           54
          ],
          "sizemode": "area",
          "sizeref": 0.9677777777777777,
          "symbol": "circle"
         },
         "mode": "markers",
         "name": "Academic Department=LING",
         "showlegend": true,
         "type": "scatter",
         "x": [
          3
         ],
         "xaxis": "x",
         "y": [
          54
         ],
         "yaxis": "y"
        },
        {
         "hoverlabel": {
          "namelength": 0
         },
         "hovertemplate": "<b>%{hovertext}</b><br><br>Academic Department=LAT<br>Total courses=%{x}<br>Total students=%{marker.size}",
         "hovertext": [
          "LAT"
         ],
         "legendgroup": "Academic Department=LAT",
         "marker": {
          "color": "#EF553B",
          "size": [
           33
          ],
          "sizemode": "area",
          "sizeref": 0.9677777777777777,
          "symbol": "circle"
         },
         "mode": "markers",
         "name": "Academic Department=LAT",
         "showlegend": true,
         "type": "scatter",
         "x": [
          3
         ],
         "xaxis": "x",
         "y": [
          33
         ],
         "yaxis": "y"
        },
        {
         "hoverlabel": {
          "namelength": 0
         },
         "hovertemplate": "<b>%{hovertext}</b><br><br>Academic Department=GRK<br>Total courses=%{x}<br>Total students=%{marker.size}",
         "hovertext": [
          "GRK"
         ],
         "legendgroup": "Academic Department=GRK",
         "marker": {
          "color": "#00cc96",
          "size": [
           16
          ],
          "sizemode": "area",
          "sizeref": 0.9677777777777777,
          "symbol": "circle"
         },
         "mode": "markers",
         "name": "Academic Department=GRK",
         "showlegend": true,
         "type": "scatter",
         "x": [
          3
         ],
         "xaxis": "x",
         "y": [
          16
         ],
         "yaxis": "y"
        },
        {
         "hoverlabel": {
          "namelength": 0
         },
         "hovertemplate": "<b>%{hovertext}</b><br><br>Academic Department=LAST<br>Total courses=%{x}<br>Total students=%{marker.size}",
         "hovertext": [
          "LAST"
         ],
         "legendgroup": "Academic Department=LAST",
         "marker": {
          "color": "#ab63fa",
          "size": [
           38
          ],
          "sizemode": "area",
          "sizeref": 0.9677777777777777,
          "symbol": "circle"
         },
         "mode": "markers",
         "name": "Academic Department=LAST",
         "showlegend": true,
         "type": "scatter",
         "x": [
          2
         ],
         "xaxis": "x",
         "y": [
          38
         ],
         "yaxis": "y"
        },
        {
         "hoverlabel": {
          "namelength": 0
         },
         "hovertemplate": "<b>%{hovertext}</b><br><br>Academic Department=PORT<br>Total courses=%{x}<br>Total students=%{marker.size}",
         "hovertext": [
          "PORT"
         ],
         "legendgroup": "Academic Department=PORT",
         "marker": {
          "color": "#FFA15A",
          "size": [
           21
          ],
          "sizemode": "area",
          "sizeref": 0.9677777777777777,
          "symbol": "circle"
         },
         "mode": "markers",
         "name": "Academic Department=PORT",
         "showlegend": true,
         "type": "scatter",
         "x": [
          2
         ],
         "xaxis": "x",
         "y": [
          21
         ],
         "yaxis": "y"
        },
        {
         "hoverlabel": {
          "namelength": 0
         },
         "hovertemplate": "<b>%{hovertext}</b><br><br>Academic Department=EALC<br>Total courses=%{x}<br>Total students=%{marker.size}",
         "hovertext": [
          "EALC"
         ],
         "legendgroup": "Academic Department=EALC",
         "marker": {
          "color": "#19d3f3",
          "size": [
           11
          ],
          "sizemode": "area",
          "sizeref": 0.9677777777777777,
          "symbol": "circle"
         },
         "mode": "markers",
         "name": "Academic Department=EALC",
         "showlegend": true,
         "type": "scatter",
         "x": [
          2
         ],
         "xaxis": "x",
         "y": [
          11
         ],
         "yaxis": "y"
        },
        {
         "hoverlabel": {
          "namelength": 0
         },
         "hovertemplate": "<b>%{hovertext}</b><br><br>Academic Department=HNUR<br>Total courses=%{x}<br>Total students=%{marker.size}",
         "hovertext": [
          "HNUR"
         ],
         "legendgroup": "Academic Department=HNUR",
         "marker": {
          "color": "#FF6692",
          "size": [
           12
          ],
          "sizemode": "area",
          "sizeref": 0.9677777777777777,
          "symbol": "circle"
         },
         "mode": "markers",
         "name": "Academic Department=HNUR",
         "showlegend": true,
         "type": "scatter",
         "x": [
          2
         ],
         "xaxis": "x",
         "y": [
          12
         ],
         "yaxis": "y"
        },
        {
         "hoverlabel": {
          "namelength": 0
         },
         "hovertemplate": "<b>%{hovertext}</b><br><br>Academic Department=POL<br>Total courses=%{x}<br>Total students=%{marker.size}",
         "hovertext": [
          "POL"
         ],
         "legendgroup": "Academic Department=POL",
         "marker": {
          "color": "#B6E880",
          "size": [
           25
          ],
          "sizemode": "area",
          "sizeref": 0.9677777777777777,
          "symbol": "circle"
         },
         "mode": "markers",
         "name": "Academic Department=POL",
         "showlegend": true,
         "type": "scatter",
         "x": [
          2
         ],
         "xaxis": "x",
         "y": [
          25
         ],
         "yaxis": "y"
        },
        {
         "hoverlabel": {
          "namelength": 0
         },
         "hovertemplate": "<b>%{hovertext}</b><br><br>Academic Department=ENGR<br>Total courses=%{x}<br>Total students=%{marker.size}",
         "hovertext": [
          "ENGR"
         ],
         "legendgroup": "Academic Department=ENGR",
         "marker": {
          "color": "#FF97FF",
          "size": [
           29
          ],
          "sizemode": "area",
          "sizeref": 0.9677777777777777,
          "symbol": "circle"
         },
         "mode": "markers",
         "name": "Academic Department=ENGR",
         "showlegend": true,
         "type": "scatter",
         "x": [
          2
         ],
         "xaxis": "x",
         "y": [
          29
         ],
         "yaxis": "y"
        },
        {
         "hoverlabel": {
          "namelength": 0
         },
         "hovertemplate": "<b>%{hovertext}</b><br><br>Academic Department=SWA<br>Total courses=%{x}<br>Total students=%{marker.size}",
         "hovertext": [
          "SWA"
         ],
         "legendgroup": "Academic Department=SWA",
         "marker": {
          "color": "#FECB52",
          "size": [
           11
          ],
          "sizemode": "area",
          "sizeref": 0.9677777777777777,
          "symbol": "circle"
         },
         "mode": "markers",
         "name": "Academic Department=SWA",
         "showlegend": true,
         "type": "scatter",
         "x": [
          2
         ],
         "xaxis": "x",
         "y": [
          11
         ],
         "yaxis": "y"
        },
        {
         "hoverlabel": {
          "namelength": 0
         },
         "hovertemplate": "<b>%{hovertext}</b><br><br>Academic Department=EXTD<br>Total courses=%{x}<br>Total students=%{marker.size}",
         "hovertext": [
          "EXTD"
         ],
         "legendgroup": "Academic Department=EXTD",
         "marker": {
          "color": "#636efa",
          "size": [
           2
          ],
          "sizemode": "area",
          "sizeref": 0.9677777777777777,
          "symbol": "circle"
         },
         "mode": "markers",
         "name": "Academic Department=EXTD",
         "showlegend": true,
         "type": "scatter",
         "x": [
          1
         ],
         "xaxis": "x",
         "y": [
          2
         ],
         "yaxis": "y"
        },
        {
         "hoverlabel": {
          "namelength": 0
         },
         "hovertemplate": "<b>%{hovertext}</b><br><br>Academic Department=SAS<br>Total courses=%{x}<br>Total students=%{marker.size}",
         "hovertext": [
          "SAS"
         ],
         "legendgroup": "Academic Department=SAS",
         "marker": {
          "color": "#EF553B",
          "size": [
           11
          ],
          "sizemode": "area",
          "sizeref": 0.9677777777777777,
          "symbol": "circle"
         },
         "mode": "markers",
         "name": "Academic Department=SAS",
         "showlegend": true,
         "type": "scatter",
         "x": [
          1
         ],
         "xaxis": "x",
         "y": [
          11
         ],
         "yaxis": "y"
        },
        {
         "hoverlabel": {
          "namelength": 0
         },
         "hovertemplate": "<b>%{hovertext}</b><br><br>Academic Department=CLSC<br>Total courses=%{x}<br>Total students=%{marker.size}",
         "hovertext": [
          "CLSC"
         ],
         "legendgroup": "Academic Department=CLSC",
         "marker": {
          "color": "#00cc96",
          "size": [
           16
          ],
          "sizemode": "area",
          "sizeref": 0.9677777777777777,
          "symbol": "circle"
         },
         "mode": "markers",
         "name": "Academic Department=CLSC",
         "showlegend": true,
         "type": "scatter",
         "x": [
          1
         ],
         "xaxis": "x",
         "y": [
          16
         ],
         "yaxis": "y"
        },
        {
         "hoverlabel": {
          "namelength": 0
         },
         "hovertemplate": "<b>%{hovertext}</b><br><br>Academic Department=SUST<br>Total courses=%{x}<br>Total students=%{marker.size}",
         "hovertext": [
          "SUST"
         ],
         "legendgroup": "Academic Department=SUST",
         "marker": {
          "color": "#ab63fa",
          "size": [
           14
          ],
          "sizemode": "area",
          "sizeref": 0.9677777777777777,
          "symbol": "circle"
         },
         "mode": "markers",
         "name": "Academic Department=SUST",
         "showlegend": true,
         "type": "scatter",
         "x": [
          1
         ],
         "xaxis": "x",
         "y": [
          14
         ],
         "yaxis": "y"
        }
       ],
       "layout": {
        "height": 600,
        "legend": {
         "itemsizing": "constant",
         "tracegroupgap": 0
        },
        "margin": {
         "t": 60
        },
        "template": {
         "data": {
          "bar": [
           {
            "error_x": {
             "color": "#2a3f5f"
            },
            "error_y": {
             "color": "#2a3f5f"
            },
            "marker": {
             "line": {
              "color": "#E5ECF6",
              "width": 0.5
             }
            },
            "type": "bar"
           }
          ],
          "barpolar": [
           {
            "marker": {
             "line": {
              "color": "#E5ECF6",
              "width": 0.5
             }
            },
            "type": "barpolar"
           }
          ],
          "carpet": [
           {
            "aaxis": {
             "endlinecolor": "#2a3f5f",
             "gridcolor": "white",
             "linecolor": "white",
             "minorgridcolor": "white",
             "startlinecolor": "#2a3f5f"
            },
            "baxis": {
             "endlinecolor": "#2a3f5f",
             "gridcolor": "white",
             "linecolor": "white",
             "minorgridcolor": "white",
             "startlinecolor": "#2a3f5f"
            },
            "type": "carpet"
           }
          ],
          "choropleth": [
           {
            "colorbar": {
             "outlinewidth": 0,
             "ticks": ""
            },
            "type": "choropleth"
           }
          ],
          "contour": [
           {
            "colorbar": {
             "outlinewidth": 0,
             "ticks": ""
            },
            "colorscale": [
             [
              0,
              "#0d0887"
             ],
             [
              0.1111111111111111,
              "#46039f"
             ],
             [
              0.2222222222222222,
              "#7201a8"
             ],
             [
              0.3333333333333333,
              "#9c179e"
             ],
             [
              0.4444444444444444,
              "#bd3786"
             ],
             [
              0.5555555555555556,
              "#d8576b"
             ],
             [
              0.6666666666666666,
              "#ed7953"
             ],
             [
              0.7777777777777778,
              "#fb9f3a"
             ],
             [
              0.8888888888888888,
              "#fdca26"
             ],
             [
              1,
              "#f0f921"
             ]
            ],
            "type": "contour"
           }
          ],
          "contourcarpet": [
           {
            "colorbar": {
             "outlinewidth": 0,
             "ticks": ""
            },
            "type": "contourcarpet"
           }
          ],
          "heatmap": [
           {
            "colorbar": {
             "outlinewidth": 0,
             "ticks": ""
            },
            "colorscale": [
             [
              0,
              "#0d0887"
             ],
             [
              0.1111111111111111,
              "#46039f"
             ],
             [
              0.2222222222222222,
              "#7201a8"
             ],
             [
              0.3333333333333333,
              "#9c179e"
             ],
             [
              0.4444444444444444,
              "#bd3786"
             ],
             [
              0.5555555555555556,
              "#d8576b"
             ],
             [
              0.6666666666666666,
              "#ed7953"
             ],
             [
              0.7777777777777778,
              "#fb9f3a"
             ],
             [
              0.8888888888888888,
              "#fdca26"
             ],
             [
              1,
              "#f0f921"
             ]
            ],
            "type": "heatmap"
           }
          ],
          "heatmapgl": [
           {
            "colorbar": {
             "outlinewidth": 0,
             "ticks": ""
            },
            "colorscale": [
             [
              0,
              "#0d0887"
             ],
             [
              0.1111111111111111,
              "#46039f"
             ],
             [
              0.2222222222222222,
              "#7201a8"
             ],
             [
              0.3333333333333333,
              "#9c179e"
             ],
             [
              0.4444444444444444,
              "#bd3786"
             ],
             [
              0.5555555555555556,
              "#d8576b"
             ],
             [
              0.6666666666666666,
              "#ed7953"
             ],
             [
              0.7777777777777778,
              "#fb9f3a"
             ],
             [
              0.8888888888888888,
              "#fdca26"
             ],
             [
              1,
              "#f0f921"
             ]
            ],
            "type": "heatmapgl"
           }
          ],
          "histogram": [
           {
            "marker": {
             "colorbar": {
              "outlinewidth": 0,
              "ticks": ""
             }
            },
            "type": "histogram"
           }
          ],
          "histogram2d": [
           {
            "colorbar": {
             "outlinewidth": 0,
             "ticks": ""
            },
            "colorscale": [
             [
              0,
              "#0d0887"
             ],
             [
              0.1111111111111111,
              "#46039f"
             ],
             [
              0.2222222222222222,
              "#7201a8"
             ],
             [
              0.3333333333333333,
              "#9c179e"
             ],
             [
              0.4444444444444444,
              "#bd3786"
             ],
             [
              0.5555555555555556,
              "#d8576b"
             ],
             [
              0.6666666666666666,
              "#ed7953"
             ],
             [
              0.7777777777777778,
              "#fb9f3a"
             ],
             [
              0.8888888888888888,
              "#fdca26"
             ],
             [
              1,
              "#f0f921"
             ]
            ],
            "type": "histogram2d"
           }
          ],
          "histogram2dcontour": [
           {
            "colorbar": {
             "outlinewidth": 0,
             "ticks": ""
            },
            "colorscale": [
             [
              0,
              "#0d0887"
             ],
             [
              0.1111111111111111,
              "#46039f"
             ],
             [
              0.2222222222222222,
              "#7201a8"
             ],
             [
              0.3333333333333333,
              "#9c179e"
             ],
             [
              0.4444444444444444,
              "#bd3786"
             ],
             [
              0.5555555555555556,
              "#d8576b"
             ],
             [
              0.6666666666666666,
              "#ed7953"
             ],
             [
              0.7777777777777778,
              "#fb9f3a"
             ],
             [
              0.8888888888888888,
              "#fdca26"
             ],
             [
              1,
              "#f0f921"
             ]
            ],
            "type": "histogram2dcontour"
           }
          ],
          "mesh3d": [
           {
            "colorbar": {
             "outlinewidth": 0,
             "ticks": ""
            },
            "type": "mesh3d"
           }
          ],
          "parcoords": [
           {
            "line": {
             "colorbar": {
              "outlinewidth": 0,
              "ticks": ""
             }
            },
            "type": "parcoords"
           }
          ],
          "scatter": [
           {
            "marker": {
             "colorbar": {
              "outlinewidth": 0,
              "ticks": ""
             }
            },
            "type": "scatter"
           }
          ],
          "scatter3d": [
           {
            "line": {
             "colorbar": {
              "outlinewidth": 0,
              "ticks": ""
             }
            },
            "marker": {
             "colorbar": {
              "outlinewidth": 0,
              "ticks": ""
             }
            },
            "type": "scatter3d"
           }
          ],
          "scattercarpet": [
           {
            "marker": {
             "colorbar": {
              "outlinewidth": 0,
              "ticks": ""
             }
            },
            "type": "scattercarpet"
           }
          ],
          "scattergeo": [
           {
            "marker": {
             "colorbar": {
              "outlinewidth": 0,
              "ticks": ""
             }
            },
            "type": "scattergeo"
           }
          ],
          "scattergl": [
           {
            "marker": {
             "colorbar": {
              "outlinewidth": 0,
              "ticks": ""
             }
            },
            "type": "scattergl"
           }
          ],
          "scattermapbox": [
           {
            "marker": {
             "colorbar": {
              "outlinewidth": 0,
              "ticks": ""
             }
            },
            "type": "scattermapbox"
           }
          ],
          "scatterpolar": [
           {
            "marker": {
             "colorbar": {
              "outlinewidth": 0,
              "ticks": ""
             }
            },
            "type": "scatterpolar"
           }
          ],
          "scatterpolargl": [
           {
            "marker": {
             "colorbar": {
              "outlinewidth": 0,
              "ticks": ""
             }
            },
            "type": "scatterpolargl"
           }
          ],
          "scatterternary": [
           {
            "marker": {
             "colorbar": {
              "outlinewidth": 0,
              "ticks": ""
             }
            },
            "type": "scatterternary"
           }
          ],
          "surface": [
           {
            "colorbar": {
             "outlinewidth": 0,
             "ticks": ""
            },
            "colorscale": [
             [
              0,
              "#0d0887"
             ],
             [
              0.1111111111111111,
              "#46039f"
             ],
             [
              0.2222222222222222,
              "#7201a8"
             ],
             [
              0.3333333333333333,
              "#9c179e"
             ],
             [
              0.4444444444444444,
              "#bd3786"
             ],
             [
              0.5555555555555556,
              "#d8576b"
             ],
             [
              0.6666666666666666,
              "#ed7953"
             ],
             [
              0.7777777777777778,
              "#fb9f3a"
             ],
             [
              0.8888888888888888,
              "#fdca26"
             ],
             [
              1,
              "#f0f921"
             ]
            ],
            "type": "surface"
           }
          ],
          "table": [
           {
            "cells": {
             "fill": {
              "color": "#EBF0F8"
             },
             "line": {
              "color": "white"
             }
            },
            "header": {
             "fill": {
              "color": "#C8D4E3"
             },
             "line": {
              "color": "white"
             }
            },
            "type": "table"
           }
          ]
         },
         "layout": {
          "annotationdefaults": {
           "arrowcolor": "#2a3f5f",
           "arrowhead": 0,
           "arrowwidth": 1
          },
          "colorscale": {
           "diverging": [
            [
             0,
             "#8e0152"
            ],
            [
             0.1,
             "#c51b7d"
            ],
            [
             0.2,
             "#de77ae"
            ],
            [
             0.3,
             "#f1b6da"
            ],
            [
             0.4,
             "#fde0ef"
            ],
            [
             0.5,
             "#f7f7f7"
            ],
            [
             0.6,
             "#e6f5d0"
            ],
            [
             0.7,
             "#b8e186"
            ],
            [
             0.8,
             "#7fbc41"
            ],
            [
             0.9,
             "#4d9221"
            ],
            [
             1,
             "#276419"
            ]
           ],
           "sequential": [
            [
             0,
             "#0d0887"
            ],
            [
             0.1111111111111111,
             "#46039f"
            ],
            [
             0.2222222222222222,
             "#7201a8"
            ],
            [
             0.3333333333333333,
             "#9c179e"
            ],
            [
             0.4444444444444444,
             "#bd3786"
            ],
            [
             0.5555555555555556,
             "#d8576b"
            ],
            [
             0.6666666666666666,
             "#ed7953"
            ],
            [
             0.7777777777777778,
             "#fb9f3a"
            ],
            [
             0.8888888888888888,
             "#fdca26"
            ],
            [
             1,
             "#f0f921"
            ]
           ],
           "sequentialminus": [
            [
             0,
             "#0d0887"
            ],
            [
             0.1111111111111111,
             "#46039f"
            ],
            [
             0.2222222222222222,
             "#7201a8"
            ],
            [
             0.3333333333333333,
             "#9c179e"
            ],
            [
             0.4444444444444444,
             "#bd3786"
            ],
            [
             0.5555555555555556,
             "#d8576b"
            ],
            [
             0.6666666666666666,
             "#ed7953"
            ],
            [
             0.7777777777777778,
             "#fb9f3a"
            ],
            [
             0.8888888888888888,
             "#fdca26"
            ],
            [
             1,
             "#f0f921"
            ]
           ]
          },
          "colorway": [
           "#636efa",
           "#EF553B",
           "#00cc96",
           "#ab63fa",
           "#FFA15A",
           "#19d3f3",
           "#FF6692",
           "#B6E880",
           "#FF97FF",
           "#FECB52"
          ],
          "font": {
           "color": "#2a3f5f"
          },
          "geo": {
           "bgcolor": "white",
           "lakecolor": "white",
           "landcolor": "#E5ECF6",
           "showlakes": true,
           "showland": true,
           "subunitcolor": "white"
          },
          "hoverlabel": {
           "align": "left"
          },
          "hovermode": "closest",
          "mapbox": {
           "style": "light"
          },
          "paper_bgcolor": "white",
          "plot_bgcolor": "#E5ECF6",
          "polar": {
           "angularaxis": {
            "gridcolor": "white",
            "linecolor": "white",
            "ticks": ""
           },
           "bgcolor": "#E5ECF6",
           "radialaxis": {
            "gridcolor": "white",
            "linecolor": "white",
            "ticks": ""
           }
          },
          "scene": {
           "xaxis": {
            "backgroundcolor": "#E5ECF6",
            "gridcolor": "white",
            "gridwidth": 2,
            "linecolor": "white",
            "showbackground": true,
            "ticks": "",
            "zerolinecolor": "white"
           },
           "yaxis": {
            "backgroundcolor": "#E5ECF6",
            "gridcolor": "white",
            "gridwidth": 2,
            "linecolor": "white",
            "showbackground": true,
            "ticks": "",
            "zerolinecolor": "white"
           },
           "zaxis": {
            "backgroundcolor": "#E5ECF6",
            "gridcolor": "white",
            "gridwidth": 2,
            "linecolor": "white",
            "showbackground": true,
            "ticks": "",
            "zerolinecolor": "white"
           }
          },
          "shapedefaults": {
           "line": {
            "color": "#2a3f5f"
           }
          },
          "ternary": {
           "aaxis": {
            "gridcolor": "white",
            "linecolor": "white",
            "ticks": ""
           },
           "baxis": {
            "gridcolor": "white",
            "linecolor": "white",
            "ticks": ""
           },
           "bgcolor": "#E5ECF6",
           "caxis": {
            "gridcolor": "white",
            "linecolor": "white",
            "ticks": ""
           }
          },
          "title": {
           "x": 0.05
          },
          "xaxis": {
           "automargin": true,
           "gridcolor": "white",
           "linecolor": "white",
           "ticks": "",
           "zerolinecolor": "white",
           "zerolinewidth": 2
          },
          "yaxis": {
           "automargin": true,
           "gridcolor": "white",
           "linecolor": "white",
           "ticks": "",
           "zerolinecolor": "white",
           "zerolinewidth": 2
          }
         }
        },
        "xaxis": {
         "anchor": "y",
         "domain": [
          0,
          0.98
         ],
         "title": {
          "text": "Total courses"
         }
        },
        "yaxis": {
         "anchor": "x",
         "domain": [
          0,
          1
         ],
         "title": {
          "text": "Total students"
         }
        }
       }
      },
      "text/html": [
       "<div>\n",
       "        \n",
       "        \n",
       "            <div id=\"8f344378-0dc4-48c2-be76-e7d633ef5df3\" class=\"plotly-graph-div\" style=\"height:600px; width:100%;\"></div>\n",
       "            <script type=\"text/javascript\">\n",
       "                require([\"plotly\"], function(Plotly) {\n",
       "                    window.PLOTLYENV=window.PLOTLYENV || {};\n",
       "                    \n",
       "                if (document.getElementById(\"8f344378-0dc4-48c2-be76-e7d633ef5df3\")) {\n",
       "                    Plotly.newPlot(\n",
       "                        '8f344378-0dc4-48c2-be76-e7d633ef5df3',\n",
       "                        [{\"hoverlabel\": {\"namelength\": 0}, \"hovertemplate\": \"<b>%{hovertext}</b><br><br>Academic Department=BISC<br>Total courses=%{x}<br>Total students=%{marker.size}\", \"hovertext\": [\"BISC\"], \"legendgroup\": \"Academic Department=BISC\", \"marker\": {\"color\": \"#636efa\", \"size\": [871], \"sizemode\": \"area\", \"sizeref\": 0.9677777777777777, \"symbol\": \"circle\"}, \"mode\": \"markers\", \"name\": \"Academic Department=BISC\", \"showlegend\": true, \"type\": \"scatter\", \"x\": [60], \"xaxis\": \"x\", \"y\": [871], \"yaxis\": \"y\"}, {\"hoverlabel\": {\"namelength\": 0}, \"hovertemplate\": \"<b>%{hovertext}</b><br><br>Academic Department=PE<br>Total courses=%{x}<br>Total students=%{marker.size}\", \"hovertext\": [\"PE\"], \"legendgroup\": \"Academic Department=PE\", \"marker\": {\"color\": \"#EF553B\", \"size\": [588], \"sizemode\": \"area\", \"sizeref\": 0.9677777777777777, \"symbol\": \"circle\"}, \"mode\": \"markers\", \"name\": \"Academic Department=PE\", \"showlegend\": true, \"type\": \"scatter\", \"x\": [49], \"xaxis\": \"x\", \"y\": [588], \"yaxis\": \"y\"}, {\"hoverlabel\": {\"namelength\": 0}, \"hovertemplate\": \"<b>%{hovertext}</b><br><br>Academic Department=CHEM<br>Total courses=%{x}<br>Total students=%{marker.size}\", \"hovertext\": [\"CHEM\"], \"legendgroup\": \"Academic Department=CHEM\", \"marker\": {\"color\": \"#00cc96\", \"size\": [691], \"sizemode\": \"area\", \"sizeref\": 0.9677777777777777, \"symbol\": \"circle\"}, \"mode\": \"markers\", \"name\": \"Academic Department=CHEM\", \"showlegend\": true, \"type\": \"scatter\", \"x\": [46], \"xaxis\": \"x\", \"y\": [691], \"yaxis\": \"y\"}, {\"hoverlabel\": {\"namelength\": 0}, \"hovertemplate\": \"<b>%{hovertext}</b><br><br>Academic Department=CS<br>Total courses=%{x}<br>Total students=%{marker.size}\", \"hovertext\": [\"CS\"], \"legendgroup\": \"Academic Department=CS\", \"marker\": {\"color\": \"#ab63fa\", \"size\": [707], \"sizemode\": \"area\", \"sizeref\": 0.9677777777777777, \"symbol\": \"circle\"}, \"mode\": \"markers\", \"name\": \"Academic Department=CS\", \"showlegend\": true, \"type\": \"scatter\", \"x\": [39], \"xaxis\": \"x\", \"y\": [707], \"yaxis\": \"y\"}, {\"hoverlabel\": {\"namelength\": 0}, \"hovertemplate\": \"<b>%{hovertext}</b><br><br>Academic Department=ECON<br>Total courses=%{x}<br>Total students=%{marker.size}\", \"hovertext\": [\"ECON\"], \"legendgroup\": \"Academic Department=ECON\", \"marker\": {\"color\": \"#FFA15A\", \"size\": [695], \"sizemode\": \"area\", \"sizeref\": 0.9677777777777777, \"symbol\": \"circle\"}, \"mode\": \"markers\", \"name\": \"Academic Department=ECON\", \"showlegend\": true, \"type\": \"scatter\", \"x\": [32], \"xaxis\": \"x\", \"y\": [695], \"yaxis\": \"y\"}, {\"hoverlabel\": {\"namelength\": 0}, \"hovertemplate\": \"<b>%{hovertext}</b><br><br>Academic Department=MATH<br>Total courses=%{x}<br>Total students=%{marker.size}\", \"hovertext\": [\"MATH\"], \"legendgroup\": \"Academic Department=MATH\", \"marker\": {\"color\": \"#19d3f3\", \"size\": [631], \"sizemode\": \"area\", \"sizeref\": 0.9677777777777777, \"symbol\": \"circle\"}, \"mode\": \"markers\", \"name\": \"Academic Department=MATH\", \"showlegend\": true, \"type\": \"scatter\", \"x\": [29], \"xaxis\": \"x\", \"y\": [631], \"yaxis\": \"y\"}, {\"hoverlabel\": {\"namelength\": 0}, \"hovertemplate\": \"<b>%{hovertext}</b><br><br>Academic Department=PSYC<br>Total courses=%{x}<br>Total students=%{marker.size}\", \"hovertext\": [\"PSYC\"], \"legendgroup\": \"Academic Department=PSYC\", \"marker\": {\"color\": \"#FF6692\", \"size\": [570], \"sizemode\": \"area\", \"sizeref\": 0.9677777777777777, \"symbol\": \"circle\"}, \"mode\": \"markers\", \"name\": \"Academic Department=PSYC\", \"showlegend\": true, \"type\": \"scatter\", \"x\": [28], \"xaxis\": \"x\", \"y\": [570], \"yaxis\": \"y\"}, {\"hoverlabel\": {\"namelength\": 0}, \"hovertemplate\": \"<b>%{hovertext}</b><br><br>Academic Department=WRIT<br>Total courses=%{x}<br>Total students=%{marker.size}\", \"hovertext\": [\"WRIT\"], \"legendgroup\": \"Academic Department=WRIT\", \"marker\": {\"color\": \"#B6E880\", \"size\": [351], \"sizemode\": \"area\", \"sizeref\": 0.9677777777777777, \"symbol\": \"circle\"}, \"mode\": \"markers\", \"name\": \"Academic Department=WRIT\", \"showlegend\": true, \"type\": \"scatter\", \"x\": [26], \"xaxis\": \"x\", \"y\": [351], \"yaxis\": \"y\"}, {\"hoverlabel\": {\"namelength\": 0}, \"hovertemplate\": \"<b>%{hovertext}</b><br><br>Academic Department=ENG<br>Total courses=%{x}<br>Total students=%{marker.size}\", \"hovertext\": [\"ENG\"], \"legendgroup\": \"Academic Department=ENG\", \"marker\": {\"color\": \"#FF97FF\", \"size\": [426], \"sizemode\": \"area\", \"sizeref\": 0.9677777777777777, \"symbol\": \"circle\"}, \"mode\": \"markers\", \"name\": \"Academic Department=ENG\", \"showlegend\": true, \"type\": \"scatter\", \"x\": [25], \"xaxis\": \"x\", \"y\": [426], \"yaxis\": \"y\"}, {\"hoverlabel\": {\"namelength\": 0}, \"hovertemplate\": \"<b>%{hovertext}</b><br><br>Academic Department=HIST<br>Total courses=%{x}<br>Total students=%{marker.size}\", \"hovertext\": [\"HIST\"], \"legendgroup\": \"Academic Department=HIST\", \"marker\": {\"color\": \"#FECB52\", \"size\": [303], \"sizemode\": \"area\", \"sizeref\": 0.9677777777777777, \"symbol\": \"circle\"}, \"mode\": \"markers\", \"name\": \"Academic Department=HIST\", \"showlegend\": true, \"type\": \"scatter\", \"x\": [19], \"xaxis\": \"x\", \"y\": [303], \"yaxis\": \"y\"}, {\"hoverlabel\": {\"namelength\": 0}, \"hovertemplate\": \"<b>%{hovertext}</b><br><br>Academic Department=SPAN<br>Total courses=%{x}<br>Total students=%{marker.size}\", \"hovertext\": [\"SPAN\"], \"legendgroup\": \"Academic Department=SPAN\", \"marker\": {\"color\": \"#636efa\", \"size\": [298], \"sizemode\": \"area\", \"sizeref\": 0.9677777777777777, \"symbol\": \"circle\"}, \"mode\": \"markers\", \"name\": \"Academic Department=SPAN\", \"showlegend\": true, \"type\": \"scatter\", \"x\": [19], \"xaxis\": \"x\", \"y\": [298], \"yaxis\": \"y\"}, {\"hoverlabel\": {\"namelength\": 0}, \"hovertemplate\": \"<b>%{hovertext}</b><br><br>Academic Department=PHYS<br>Total courses=%{x}<br>Total students=%{marker.size}\", \"hovertext\": [\"PHYS\"], \"legendgroup\": \"Academic Department=PHYS\", \"marker\": {\"color\": \"#EF553B\", \"size\": [310], \"sizemode\": \"area\", \"sizeref\": 0.9677777777777777, \"symbol\": \"circle\"}, \"mode\": \"markers\", \"name\": \"Academic Department=PHYS\", \"showlegend\": true, \"type\": \"scatter\", \"x\": [19], \"xaxis\": \"x\", \"y\": [310], \"yaxis\": \"y\"}, {\"hoverlabel\": {\"namelength\": 0}, \"hovertemplate\": \"<b>%{hovertext}</b><br><br>Academic Department=ARTH<br>Total courses=%{x}<br>Total students=%{marker.size}\", \"hovertext\": [\"ARTH\"], \"legendgroup\": \"Academic Department=ARTH\", \"marker\": {\"color\": \"#00cc96\", \"size\": [251], \"sizemode\": \"area\", \"sizeref\": 0.9677777777777777, \"symbol\": \"circle\"}, \"mode\": \"markers\", \"name\": \"Academic Department=ARTH\", \"showlegend\": true, \"type\": \"scatter\", \"x\": [17], \"xaxis\": \"x\", \"y\": [251], \"yaxis\": \"y\"}, {\"hoverlabel\": {\"namelength\": 0}, \"hovertemplate\": \"<b>%{hovertext}</b><br><br>Academic Department=ES<br>Total courses=%{x}<br>Total students=%{marker.size}\", \"hovertext\": [\"ES\"], \"legendgroup\": \"Academic Department=ES\", \"marker\": {\"color\": \"#ab63fa\", \"size\": [263], \"sizemode\": \"area\", \"sizeref\": 0.9677777777777777, \"symbol\": \"circle\"}, \"mode\": \"markers\", \"name\": \"Academic Department=ES\", \"showlegend\": true, \"type\": \"scatter\", \"x\": [17], \"xaxis\": \"x\", \"y\": [263], \"yaxis\": \"y\"}, {\"hoverlabel\": {\"namelength\": 0}, \"hovertemplate\": \"<b>%{hovertext}</b><br><br>Academic Department=SOC<br>Total courses=%{x}<br>Total students=%{marker.size}\", \"hovertext\": [\"SOC\"], \"legendgroup\": \"Academic Department=SOC\", \"marker\": {\"color\": \"#FFA15A\", \"size\": [344], \"sizemode\": \"area\", \"sizeref\": 0.9677777777777777, \"symbol\": \"circle\"}, \"mode\": \"markers\", \"name\": \"Academic Department=SOC\", \"showlegend\": true, \"type\": \"scatter\", \"x\": [16], \"xaxis\": \"x\", \"y\": [344], \"yaxis\": \"y\"}, {\"hoverlabel\": {\"namelength\": 0}, \"hovertemplate\": \"<b>%{hovertext}</b><br><br>Academic Department=FREN<br>Total courses=%{x}<br>Total students=%{marker.size}\", \"hovertext\": [\"FREN\"], \"legendgroup\": \"Academic Department=FREN\", \"marker\": {\"color\": \"#19d3f3\", \"size\": [193], \"sizemode\": \"area\", \"sizeref\": 0.9677777777777777, \"symbol\": \"circle\"}, \"mode\": \"markers\", \"name\": \"Academic Department=FREN\", \"showlegend\": true, \"type\": \"scatter\", \"x\": [16], \"xaxis\": \"x\", \"y\": [193], \"yaxis\": \"y\"}, {\"hoverlabel\": {\"namelength\": 0}, \"hovertemplate\": \"<b>%{hovertext}</b><br><br>Academic Department=ARTS<br>Total courses=%{x}<br>Total students=%{marker.size}\", \"hovertext\": [\"ARTS\"], \"legendgroup\": \"Academic Department=ARTS\", \"marker\": {\"color\": \"#FF6692\", \"size\": [222], \"sizemode\": \"area\", \"sizeref\": 0.9677777777777777, \"symbol\": \"circle\"}, \"mode\": \"markers\", \"name\": \"Academic Department=ARTS\", \"showlegend\": true, \"type\": \"scatter\", \"x\": [15], \"xaxis\": \"x\", \"y\": [222], \"yaxis\": \"y\"}, {\"hoverlabel\": {\"namelength\": 0}, \"hovertemplate\": \"<b>%{hovertext}</b><br><br>Academic Department=CAMS<br>Total courses=%{x}<br>Total students=%{marker.size}\", \"hovertext\": [\"CAMS\"], \"legendgroup\": \"Academic Department=CAMS\", \"marker\": {\"color\": \"#B6E880\", \"size\": [222], \"sizemode\": \"area\", \"sizeref\": 0.9677777777777777, \"symbol\": \"circle\"}, \"mode\": \"markers\", \"name\": \"Academic Department=CAMS\", \"showlegend\": true, \"type\": \"scatter\", \"x\": [15], \"xaxis\": \"x\", \"y\": [222], \"yaxis\": \"y\"}, {\"hoverlabel\": {\"namelength\": 0}, \"hovertemplate\": \"<b>%{hovertext}</b><br><br>Academic Department=GEOS<br>Total courses=%{x}<br>Total students=%{marker.size}\", \"hovertext\": [\"GEOS\"], \"legendgroup\": \"Academic Department=GEOS\", \"marker\": {\"color\": \"#FF97FF\", \"size\": [170], \"sizemode\": \"area\", \"sizeref\": 0.9677777777777777, \"symbol\": \"circle\"}, \"mode\": \"markers\", \"name\": \"Academic Department=GEOS\", \"showlegend\": true, \"type\": \"scatter\", \"x\": [13], \"xaxis\": \"x\", \"y\": [170], \"yaxis\": \"y\"}, {\"hoverlabel\": {\"namelength\": 0}, \"hovertemplate\": \"<b>%{hovertext}</b><br><br>Academic Department=WGST<br>Total courses=%{x}<br>Total students=%{marker.size}\", \"hovertext\": [\"WGST\"], \"legendgroup\": \"Academic Department=WGST\", \"marker\": {\"color\": \"#FECB52\", \"size\": [263], \"sizemode\": \"area\", \"sizeref\": 0.9677777777777777, \"symbol\": \"circle\"}, \"mode\": \"markers\", \"name\": \"Academic Department=WGST\", \"showlegend\": true, \"type\": \"scatter\", \"x\": [13], \"xaxis\": \"x\", \"y\": [263], \"yaxis\": \"y\"}, {\"hoverlabel\": {\"namelength\": 0}, \"hovertemplate\": \"<b>%{hovertext}</b><br><br>Academic Department=EDUC<br>Total courses=%{x}<br>Total students=%{marker.size}\", \"hovertext\": [\"EDUC\"], \"legendgroup\": \"Academic Department=EDUC\", \"marker\": {\"color\": \"#636efa\", \"size\": [188], \"sizemode\": \"area\", \"sizeref\": 0.9677777777777777, \"symbol\": \"circle\"}, \"mode\": \"markers\", \"name\": \"Academic Department=EDUC\", \"showlegend\": true, \"type\": \"scatter\", \"x\": [13], \"xaxis\": \"x\", \"y\": [188], \"yaxis\": \"y\"}, {\"hoverlabel\": {\"namelength\": 0}, \"hovertemplate\": \"<b>%{hovertext}</b><br><br>Academic Department=AMST<br>Total courses=%{x}<br>Total students=%{marker.size}\", \"hovertext\": [\"AMST\"], \"legendgroup\": \"Academic Department=AMST\", \"marker\": {\"color\": \"#EF553B\", \"size\": [266], \"sizemode\": \"area\", \"sizeref\": 0.9677777777777777, \"symbol\": \"circle\"}, \"mode\": \"markers\", \"name\": \"Academic Department=AMST\", \"showlegend\": true, \"type\": \"scatter\", \"x\": [12], \"xaxis\": \"x\", \"y\": [266], \"yaxis\": \"y\"}, {\"hoverlabel\": {\"namelength\": 0}, \"hovertemplate\": \"<b>%{hovertext}</b><br><br>Academic Department=PHIL<br>Total courses=%{x}<br>Total students=%{marker.size}\", \"hovertext\": [\"PHIL\"], \"legendgroup\": \"Academic Department=PHIL\", \"marker\": {\"color\": \"#00cc96\", \"size\": [293], \"sizemode\": \"area\", \"sizeref\": 0.9677777777777777, \"symbol\": \"circle\"}, \"mode\": \"markers\", \"name\": \"Academic Department=PHIL\", \"showlegend\": true, \"type\": \"scatter\", \"x\": [12], \"xaxis\": \"x\", \"y\": [293], \"yaxis\": \"y\"}, {\"hoverlabel\": {\"namelength\": 0}, \"hovertemplate\": \"<b>%{hovertext}</b><br><br>Academic Department=NEUR<br>Total courses=%{x}<br>Total students=%{marker.size}\", \"hovertext\": [\"NEUR\"], \"legendgroup\": \"Academic Department=NEUR\", \"marker\": {\"color\": \"#ab63fa\", \"size\": [150], \"sizemode\": \"area\", \"sizeref\": 0.9677777777777777, \"symbol\": \"circle\"}, \"mode\": \"markers\", \"name\": \"Academic Department=NEUR\", \"showlegend\": true, \"type\": \"scatter\", \"x\": [11], \"xaxis\": \"x\", \"y\": [150], \"yaxis\": \"y\"}, {\"hoverlabel\": {\"namelength\": 0}, \"hovertemplate\": \"<b>%{hovertext}</b><br><br>Academic Department=BIOC<br>Total courses=%{x}<br>Total students=%{marker.size}\", \"hovertext\": [\"BIOC\"], \"legendgroup\": \"Academic Department=BIOC\", \"marker\": {\"color\": \"#FFA15A\", \"size\": [191], \"sizemode\": \"area\", \"sizeref\": 0.9677777777777777, \"symbol\": \"circle\"}, \"mode\": \"markers\", \"name\": \"Academic Department=BIOC\", \"showlegend\": true, \"type\": \"scatter\", \"x\": [11], \"xaxis\": \"x\", \"y\": [191], \"yaxis\": \"y\"}, {\"hoverlabel\": {\"namelength\": 0}, \"hovertemplate\": \"<b>%{hovertext}</b><br><br>Academic Department=REL<br>Total courses=%{x}<br>Total students=%{marker.size}\", \"hovertext\": [\"REL\"], \"legendgroup\": \"Academic Department=REL\", \"marker\": {\"color\": \"#19d3f3\", \"size\": [173], \"sizemode\": \"area\", \"sizeref\": 0.9677777777777777, \"symbol\": \"circle\"}, \"mode\": \"markers\", \"name\": \"Academic Department=REL\", \"showlegend\": true, \"type\": \"scatter\", \"x\": [11], \"xaxis\": \"x\", \"y\": [173], \"yaxis\": \"y\"}, {\"hoverlabel\": {\"namelength\": 0}, \"hovertemplate\": \"<b>%{hovertext}</b><br><br>Academic Department=CHIN<br>Total courses=%{x}<br>Total students=%{marker.size}\", \"hovertext\": [\"CHIN\"], \"legendgroup\": \"Academic Department=CHIN\", \"marker\": {\"color\": \"#FF6692\", \"size\": [116], \"sizemode\": \"area\", \"sizeref\": 0.9677777777777777, \"symbol\": \"circle\"}, \"mode\": \"markers\", \"name\": \"Academic Department=CHIN\", \"showlegend\": true, \"type\": \"scatter\", \"x\": [11], \"xaxis\": \"x\", \"y\": [116], \"yaxis\": \"y\"}, {\"hoverlabel\": {\"namelength\": 0}, \"hovertemplate\": \"<b>%{hovertext}</b><br><br>Academic Department=MUS<br>Total courses=%{x}<br>Total students=%{marker.size}\", \"hovertext\": [\"MUS\"], \"legendgroup\": \"Academic Department=MUS\", \"marker\": {\"color\": \"#B6E880\", \"size\": [156], \"sizemode\": \"area\", \"sizeref\": 0.9677777777777777, \"symbol\": \"circle\"}, \"mode\": \"markers\", \"name\": \"Academic Department=MUS\", \"showlegend\": true, \"type\": \"scatter\", \"x\": [10], \"xaxis\": \"x\", \"y\": [156], \"yaxis\": \"y\"}, {\"hoverlabel\": {\"namelength\": 0}, \"hovertemplate\": \"<b>%{hovertext}</b><br><br>Academic Department=THST<br>Total courses=%{x}<br>Total students=%{marker.size}\", \"hovertext\": [\"THST\"], \"legendgroup\": \"Academic Department=THST\", \"marker\": {\"color\": \"#FF97FF\", \"size\": [98], \"sizemode\": \"area\", \"sizeref\": 0.9677777777777777, \"symbol\": \"circle\"}, \"mode\": \"markers\", \"name\": \"Academic Department=THST\", \"showlegend\": true, \"type\": \"scatter\", \"x\": [10], \"xaxis\": \"x\", \"y\": [98], \"yaxis\": \"y\"}, {\"hoverlabel\": {\"namelength\": 0}, \"hovertemplate\": \"<b>%{hovertext}</b><br><br>Academic Department=ANTH<br>Total courses=%{x}<br>Total students=%{marker.size}\", \"hovertext\": [\"ANTH\"], \"legendgroup\": \"Academic Department=ANTH\", \"marker\": {\"color\": \"#FECB52\", \"size\": [161], \"sizemode\": \"area\", \"sizeref\": 0.9677777777777777, \"symbol\": \"circle\"}, \"mode\": \"markers\", \"name\": \"Academic Department=ANTH\", \"showlegend\": true, \"type\": \"scatter\", \"x\": [10], \"xaxis\": \"x\", \"y\": [161], \"yaxis\": \"y\"}, {\"hoverlabel\": {\"namelength\": 0}, \"hovertemplate\": \"<b>%{hovertext}</b><br><br>Academic Department=ITAS<br>Total courses=%{x}<br>Total students=%{marker.size}\", \"hovertext\": [\"ITAS\"], \"legendgroup\": \"Academic Department=ITAS\", \"marker\": {\"color\": \"#636efa\", \"size\": [62], \"sizemode\": \"area\", \"sizeref\": 0.9677777777777777, \"symbol\": \"circle\"}, \"mode\": \"markers\", \"name\": \"Academic Department=ITAS\", \"showlegend\": true, \"type\": \"scatter\", \"x\": [8], \"xaxis\": \"x\", \"y\": [62], \"yaxis\": \"y\"}, {\"hoverlabel\": {\"namelength\": 0}, \"hovertemplate\": \"<b>%{hovertext}</b><br><br>Academic Department=AFR<br>Total courses=%{x}<br>Total students=%{marker.size}\", \"hovertext\": [\"AFR\"], \"legendgroup\": \"Academic Department=AFR\", \"marker\": {\"color\": \"#EF553B\", \"size\": [140], \"sizemode\": \"area\", \"sizeref\": 0.9677777777777777, \"symbol\": \"circle\"}, \"mode\": \"markers\", \"name\": \"Academic Department=AFR\", \"showlegend\": true, \"type\": \"scatter\", \"x\": [7], \"xaxis\": \"x\", \"y\": [140], \"yaxis\": \"y\"}, {\"hoverlabel\": {\"namelength\": 0}, \"hovertemplate\": \"<b>%{hovertext}</b><br><br>Academic Department=JPN<br>Total courses=%{x}<br>Total students=%{marker.size}\", \"hovertext\": [\"JPN\"], \"legendgroup\": \"Academic Department=JPN\", \"marker\": {\"color\": \"#00cc96\", \"size\": [70], \"sizemode\": \"area\", \"sizeref\": 0.9677777777777777, \"symbol\": \"circle\"}, \"mode\": \"markers\", \"name\": \"Academic Department=JPN\", \"showlegend\": true, \"type\": \"scatter\", \"x\": [7], \"xaxis\": \"x\", \"y\": [70], \"yaxis\": \"y\"}, {\"hoverlabel\": {\"namelength\": 0}, \"hovertemplate\": \"<b>%{hovertext}</b><br><br>Academic Department=GER<br>Total courses=%{x}<br>Total students=%{marker.size}\", \"hovertext\": [\"GER\"], \"legendgroup\": \"Academic Department=GER\", \"marker\": {\"color\": \"#ab63fa\", \"size\": [61], \"sizemode\": \"area\", \"sizeref\": 0.9677777777777777, \"symbol\": \"circle\"}, \"mode\": \"markers\", \"name\": \"Academic Department=GER\", \"showlegend\": true, \"type\": \"scatter\", \"x\": [6], \"xaxis\": \"x\", \"y\": [61], \"yaxis\": \"y\"}, {\"hoverlabel\": {\"namelength\": 0}, \"hovertemplate\": \"<b>%{hovertext}</b><br><br>Academic Department=ASTR<br>Total courses=%{x}<br>Total students=%{marker.size}\", \"hovertext\": [\"ASTR\"], \"legendgroup\": \"Academic Department=ASTR\", \"marker\": {\"color\": \"#FFA15A\", \"size\": [102], \"sizemode\": \"area\", \"sizeref\": 0.9677777777777777, \"symbol\": \"circle\"}, \"mode\": \"markers\", \"name\": \"Academic Department=ASTR\", \"showlegend\": true, \"type\": \"scatter\", \"x\": [6], \"xaxis\": \"x\", \"y\": [102], \"yaxis\": \"y\"}, {\"hoverlabel\": {\"namelength\": 0}, \"hovertemplate\": \"<b>%{hovertext}</b><br><br>Academic Department=MAS<br>Total courses=%{x}<br>Total students=%{marker.size}\", \"hovertext\": [\"MAS\"], \"legendgroup\": \"Academic Department=MAS\", \"marker\": {\"color\": \"#19d3f3\", \"size\": [116], \"sizemode\": \"area\", \"sizeref\": 0.9677777777777777, \"symbol\": \"circle\"}, \"mode\": \"markers\", \"name\": \"Academic Department=MAS\", \"showlegend\": true, \"type\": \"scatter\", \"x\": [6], \"xaxis\": \"x\", \"y\": [116], \"yaxis\": \"y\"}, {\"hoverlabel\": {\"namelength\": 0}, \"hovertemplate\": \"<b>%{hovertext}</b><br><br>Academic Department=RUSS<br>Total courses=%{x}<br>Total students=%{marker.size}\", \"hovertext\": [\"RUSS\"], \"legendgroup\": \"Academic Department=RUSS\", \"marker\": {\"color\": \"#FF6692\", \"size\": [48], \"sizemode\": \"area\", \"sizeref\": 0.9677777777777777, \"symbol\": \"circle\"}, \"mode\": \"markers\", \"name\": \"Academic Department=RUSS\", \"showlegend\": true, \"type\": \"scatter\", \"x\": [6], \"xaxis\": \"x\", \"y\": [48], \"yaxis\": \"y\"}, {\"hoverlabel\": {\"namelength\": 0}, \"hovertemplate\": \"<b>%{hovertext}</b><br><br>Academic Department=POL2<br>Total courses=%{x}<br>Total students=%{marker.size}\", \"hovertext\": [\"POL2\"], \"legendgroup\": \"Academic Department=POL2\", \"marker\": {\"color\": \"#B6E880\", \"size\": [122], \"sizemode\": \"area\", \"sizeref\": 0.9677777777777777, \"symbol\": \"circle\"}, \"mode\": \"markers\", \"name\": \"Academic Department=POL2\", \"showlegend\": true, \"type\": \"scatter\", \"x\": [6], \"xaxis\": \"x\", \"y\": [122], \"yaxis\": \"y\"}, {\"hoverlabel\": {\"namelength\": 0}, \"hovertemplate\": \"<b>%{hovertext}</b><br><br>Academic Department=PEAC<br>Total courses=%{x}<br>Total students=%{marker.size}\", \"hovertext\": [\"PEAC\"], \"legendgroup\": \"Academic Department=PEAC\", \"marker\": {\"color\": \"#FF97FF\", \"size\": [118], \"sizemode\": \"area\", \"sizeref\": 0.9677777777777777, \"symbol\": \"circle\"}, \"mode\": \"markers\", \"name\": \"Academic Department=PEAC\", \"showlegend\": true, \"type\": \"scatter\", \"x\": [6], \"xaxis\": \"x\", \"y\": [118], \"yaxis\": \"y\"}, {\"hoverlabel\": {\"namelength\": 0}, \"hovertemplate\": \"<b>%{hovertext}</b><br><br>Academic Department=ARAB<br>Total courses=%{x}<br>Total students=%{marker.size}\", \"hovertext\": [\"ARAB\"], \"legendgroup\": \"Academic Department=ARAB\", \"marker\": {\"color\": \"#FECB52\", \"size\": [65], \"sizemode\": \"area\", \"sizeref\": 0.9677777777777777, \"symbol\": \"circle\"}, \"mode\": \"markers\", \"name\": \"Academic Department=ARAB\", \"showlegend\": true, \"type\": \"scatter\", \"x\": [5], \"xaxis\": \"x\", \"y\": [65], \"yaxis\": \"y\"}, {\"hoverlabel\": {\"namelength\": 0}, \"hovertemplate\": \"<b>%{hovertext}</b><br><br>Academic Department=POL1<br>Total courses=%{x}<br>Total students=%{marker.size}\", \"hovertext\": [\"POL1\"], \"legendgroup\": \"Academic Department=POL1\", \"marker\": {\"color\": \"#636efa\", \"size\": [88], \"sizemode\": \"area\", \"sizeref\": 0.9677777777777777, \"symbol\": \"circle\"}, \"mode\": \"markers\", \"name\": \"Academic Department=POL1\", \"showlegend\": true, \"type\": \"scatter\", \"x\": [5], \"xaxis\": \"x\", \"y\": [88], \"yaxis\": \"y\"}, {\"hoverlabel\": {\"namelength\": 0}, \"hovertemplate\": \"<b>%{hovertext}</b><br><br>Academic Department=POL3<br>Total courses=%{x}<br>Total students=%{marker.size}\", \"hovertext\": [\"POL3\"], \"legendgroup\": \"Academic Department=POL3\", \"marker\": {\"color\": \"#EF553B\", \"size\": [118], \"sizemode\": \"area\", \"sizeref\": 0.9677777777777777, \"symbol\": \"circle\"}, \"mode\": \"markers\", \"name\": \"Academic Department=POL3\", \"showlegend\": true, \"type\": \"scatter\", \"x\": [5], \"xaxis\": \"x\", \"y\": [118], \"yaxis\": \"y\"}, {\"hoverlabel\": {\"namelength\": 0}, \"hovertemplate\": \"<b>%{hovertext}</b><br><br>Academic Department=KOR<br>Total courses=%{x}<br>Total students=%{marker.size}\", \"hovertext\": [\"KOR\"], \"legendgroup\": \"Academic Department=KOR\", \"marker\": {\"color\": \"#00cc96\", \"size\": [61], \"sizemode\": \"area\", \"sizeref\": 0.9677777777777777, \"symbol\": \"circle\"}, \"mode\": \"markers\", \"name\": \"Academic Department=KOR\", \"showlegend\": true, \"type\": \"scatter\", \"x\": [5], \"xaxis\": \"x\", \"y\": [61], \"yaxis\": \"y\"}, {\"hoverlabel\": {\"namelength\": 0}, \"hovertemplate\": \"<b>%{hovertext}</b><br><br>Academic Department=MES<br>Total courses=%{x}<br>Total students=%{marker.size}\", \"hovertext\": [\"MES\"], \"legendgroup\": \"Academic Department=MES\", \"marker\": {\"color\": \"#ab63fa\", \"size\": [76], \"sizemode\": \"area\", \"sizeref\": 0.9677777777777777, \"symbol\": \"circle\"}, \"mode\": \"markers\", \"name\": \"Academic Department=MES\", \"showlegend\": true, \"type\": \"scatter\", \"x\": [5], \"xaxis\": \"x\", \"y\": [76], \"yaxis\": \"y\"}, {\"hoverlabel\": {\"namelength\": 0}, \"hovertemplate\": \"<b>%{hovertext}</b><br><br>Academic Department=POL4<br>Total courses=%{x}<br>Total students=%{marker.size}\", \"hovertext\": [\"POL4\"], \"legendgroup\": \"Academic Department=POL4\", \"marker\": {\"color\": \"#FFA15A\", \"size\": [64], \"sizemode\": \"area\", \"sizeref\": 0.9677777777777777, \"symbol\": \"circle\"}, \"mode\": \"markers\", \"name\": \"Academic Department=POL4\", \"showlegend\": true, \"type\": \"scatter\", \"x\": [4], \"xaxis\": \"x\", \"y\": [64], \"yaxis\": \"y\"}, {\"hoverlabel\": {\"namelength\": 0}, \"hovertemplate\": \"<b>%{hovertext}</b><br><br>Academic Department=STAT<br>Total courses=%{x}<br>Total students=%{marker.size}\", \"hovertext\": [\"STAT\"], \"legendgroup\": \"Academic Department=STAT\", \"marker\": {\"color\": \"#19d3f3\", \"size\": [125], \"sizemode\": \"area\", \"sizeref\": 0.9677777777777777, \"symbol\": \"circle\"}, \"mode\": \"markers\", \"name\": \"Academic Department=STAT\", \"showlegend\": true, \"type\": \"scatter\", \"x\": [4], \"xaxis\": \"x\", \"y\": [125], \"yaxis\": \"y\"}, {\"hoverlabel\": {\"namelength\": 0}, \"hovertemplate\": \"<b>%{hovertext}</b><br><br>Academic Department=CLCV<br>Total courses=%{x}<br>Total students=%{marker.size}\", \"hovertext\": [\"CLCV\"], \"legendgroup\": \"Academic Department=CLCV\", \"marker\": {\"color\": \"#FF6692\", \"size\": [73], \"sizemode\": \"area\", \"sizeref\": 0.9677777777777777, \"symbol\": \"circle\"}, \"mode\": \"markers\", \"name\": \"Academic Department=CLCV\", \"showlegend\": true, \"type\": \"scatter\", \"x\": [4], \"xaxis\": \"x\", \"y\": [73], \"yaxis\": \"y\"}, {\"hoverlabel\": {\"namelength\": 0}, \"hovertemplate\": \"<b>%{hovertext}</b><br><br>Academic Department=QR<br>Total courses=%{x}<br>Total students=%{marker.size}\", \"hovertext\": [\"QR\"], \"legendgroup\": \"Academic Department=QR\", \"marker\": {\"color\": \"#B6E880\", \"size\": [103], \"sizemode\": \"area\", \"sizeref\": 0.9677777777777777, \"symbol\": \"circle\"}, \"mode\": \"markers\", \"name\": \"Academic Department=QR\", \"showlegend\": true, \"type\": \"scatter\", \"x\": [4], \"xaxis\": \"x\", \"y\": [103], \"yaxis\": \"y\"}, {\"hoverlabel\": {\"namelength\": 0}, \"hovertemplate\": \"<b>%{hovertext}</b><br><br>Academic Department=CPLT<br>Total courses=%{x}<br>Total students=%{marker.size}\", \"hovertext\": [\"CPLT\"], \"legendgroup\": \"Academic Department=CPLT\", \"marker\": {\"color\": \"#FF97FF\", \"size\": [56], \"sizemode\": \"area\", \"sizeref\": 0.9677777777777777, \"symbol\": \"circle\"}, \"mode\": \"markers\", \"name\": \"Academic Department=CPLT\", \"showlegend\": true, \"type\": \"scatter\", \"x\": [4], \"xaxis\": \"x\", \"y\": [56], \"yaxis\": \"y\"}, {\"hoverlabel\": {\"namelength\": 0}, \"hovertemplate\": \"<b>%{hovertext}</b><br><br>Academic Department=HEBR<br>Total courses=%{x}<br>Total students=%{marker.size}\", \"hovertext\": [\"HEBR\"], \"legendgroup\": \"Academic Department=HEBR\", \"marker\": {\"color\": \"#FECB52\", \"size\": [10], \"sizemode\": \"area\", \"sizeref\": 0.9677777777777777, \"symbol\": \"circle\"}, \"mode\": \"markers\", \"name\": \"Academic Department=HEBR\", \"showlegend\": true, \"type\": \"scatter\", \"x\": [3], \"xaxis\": \"x\", \"y\": [10], \"yaxis\": \"y\"}, {\"hoverlabel\": {\"namelength\": 0}, \"hovertemplate\": \"<b>%{hovertext}</b><br><br>Academic Department=LING<br>Total courses=%{x}<br>Total students=%{marker.size}\", \"hovertext\": [\"LING\"], \"legendgroup\": \"Academic Department=LING\", \"marker\": {\"color\": \"#636efa\", \"size\": [54], \"sizemode\": \"area\", \"sizeref\": 0.9677777777777777, \"symbol\": \"circle\"}, \"mode\": \"markers\", \"name\": \"Academic Department=LING\", \"showlegend\": true, \"type\": \"scatter\", \"x\": [3], \"xaxis\": \"x\", \"y\": [54], \"yaxis\": \"y\"}, {\"hoverlabel\": {\"namelength\": 0}, \"hovertemplate\": \"<b>%{hovertext}</b><br><br>Academic Department=LAT<br>Total courses=%{x}<br>Total students=%{marker.size}\", \"hovertext\": [\"LAT\"], \"legendgroup\": \"Academic Department=LAT\", \"marker\": {\"color\": \"#EF553B\", \"size\": [33], \"sizemode\": \"area\", \"sizeref\": 0.9677777777777777, \"symbol\": \"circle\"}, \"mode\": \"markers\", \"name\": \"Academic Department=LAT\", \"showlegend\": true, \"type\": \"scatter\", \"x\": [3], \"xaxis\": \"x\", \"y\": [33], \"yaxis\": \"y\"}, {\"hoverlabel\": {\"namelength\": 0}, \"hovertemplate\": \"<b>%{hovertext}</b><br><br>Academic Department=GRK<br>Total courses=%{x}<br>Total students=%{marker.size}\", \"hovertext\": [\"GRK\"], \"legendgroup\": \"Academic Department=GRK\", \"marker\": {\"color\": \"#00cc96\", \"size\": [16], \"sizemode\": \"area\", \"sizeref\": 0.9677777777777777, \"symbol\": \"circle\"}, \"mode\": \"markers\", \"name\": \"Academic Department=GRK\", \"showlegend\": true, \"type\": \"scatter\", \"x\": [3], \"xaxis\": \"x\", \"y\": [16], \"yaxis\": \"y\"}, {\"hoverlabel\": {\"namelength\": 0}, \"hovertemplate\": \"<b>%{hovertext}</b><br><br>Academic Department=LAST<br>Total courses=%{x}<br>Total students=%{marker.size}\", \"hovertext\": [\"LAST\"], \"legendgroup\": \"Academic Department=LAST\", \"marker\": {\"color\": \"#ab63fa\", \"size\": [38], \"sizemode\": \"area\", \"sizeref\": 0.9677777777777777, \"symbol\": \"circle\"}, \"mode\": \"markers\", \"name\": \"Academic Department=LAST\", \"showlegend\": true, \"type\": \"scatter\", \"x\": [2], \"xaxis\": \"x\", \"y\": [38], \"yaxis\": \"y\"}, {\"hoverlabel\": {\"namelength\": 0}, \"hovertemplate\": \"<b>%{hovertext}</b><br><br>Academic Department=PORT<br>Total courses=%{x}<br>Total students=%{marker.size}\", \"hovertext\": [\"PORT\"], \"legendgroup\": \"Academic Department=PORT\", \"marker\": {\"color\": \"#FFA15A\", \"size\": [21], \"sizemode\": \"area\", \"sizeref\": 0.9677777777777777, \"symbol\": \"circle\"}, \"mode\": \"markers\", \"name\": \"Academic Department=PORT\", \"showlegend\": true, \"type\": \"scatter\", \"x\": [2], \"xaxis\": \"x\", \"y\": [21], \"yaxis\": \"y\"}, {\"hoverlabel\": {\"namelength\": 0}, \"hovertemplate\": \"<b>%{hovertext}</b><br><br>Academic Department=EALC<br>Total courses=%{x}<br>Total students=%{marker.size}\", \"hovertext\": [\"EALC\"], \"legendgroup\": \"Academic Department=EALC\", \"marker\": {\"color\": \"#19d3f3\", \"size\": [11], \"sizemode\": \"area\", \"sizeref\": 0.9677777777777777, \"symbol\": \"circle\"}, \"mode\": \"markers\", \"name\": \"Academic Department=EALC\", \"showlegend\": true, \"type\": \"scatter\", \"x\": [2], \"xaxis\": \"x\", \"y\": [11], \"yaxis\": \"y\"}, {\"hoverlabel\": {\"namelength\": 0}, \"hovertemplate\": \"<b>%{hovertext}</b><br><br>Academic Department=HNUR<br>Total courses=%{x}<br>Total students=%{marker.size}\", \"hovertext\": [\"HNUR\"], \"legendgroup\": \"Academic Department=HNUR\", \"marker\": {\"color\": \"#FF6692\", \"size\": [12], \"sizemode\": \"area\", \"sizeref\": 0.9677777777777777, \"symbol\": \"circle\"}, \"mode\": \"markers\", \"name\": \"Academic Department=HNUR\", \"showlegend\": true, \"type\": \"scatter\", \"x\": [2], \"xaxis\": \"x\", \"y\": [12], \"yaxis\": \"y\"}, {\"hoverlabel\": {\"namelength\": 0}, \"hovertemplate\": \"<b>%{hovertext}</b><br><br>Academic Department=POL<br>Total courses=%{x}<br>Total students=%{marker.size}\", \"hovertext\": [\"POL\"], \"legendgroup\": \"Academic Department=POL\", \"marker\": {\"color\": \"#B6E880\", \"size\": [25], \"sizemode\": \"area\", \"sizeref\": 0.9677777777777777, \"symbol\": \"circle\"}, \"mode\": \"markers\", \"name\": \"Academic Department=POL\", \"showlegend\": true, \"type\": \"scatter\", \"x\": [2], \"xaxis\": \"x\", \"y\": [25], \"yaxis\": \"y\"}, {\"hoverlabel\": {\"namelength\": 0}, \"hovertemplate\": \"<b>%{hovertext}</b><br><br>Academic Department=ENGR<br>Total courses=%{x}<br>Total students=%{marker.size}\", \"hovertext\": [\"ENGR\"], \"legendgroup\": \"Academic Department=ENGR\", \"marker\": {\"color\": \"#FF97FF\", \"size\": [29], \"sizemode\": \"area\", \"sizeref\": 0.9677777777777777, \"symbol\": \"circle\"}, \"mode\": \"markers\", \"name\": \"Academic Department=ENGR\", \"showlegend\": true, \"type\": \"scatter\", \"x\": [2], \"xaxis\": \"x\", \"y\": [29], \"yaxis\": \"y\"}, {\"hoverlabel\": {\"namelength\": 0}, \"hovertemplate\": \"<b>%{hovertext}</b><br><br>Academic Department=SWA<br>Total courses=%{x}<br>Total students=%{marker.size}\", \"hovertext\": [\"SWA\"], \"legendgroup\": \"Academic Department=SWA\", \"marker\": {\"color\": \"#FECB52\", \"size\": [11], \"sizemode\": \"area\", \"sizeref\": 0.9677777777777777, \"symbol\": \"circle\"}, \"mode\": \"markers\", \"name\": \"Academic Department=SWA\", \"showlegend\": true, \"type\": \"scatter\", \"x\": [2], \"xaxis\": \"x\", \"y\": [11], \"yaxis\": \"y\"}, {\"hoverlabel\": {\"namelength\": 0}, \"hovertemplate\": \"<b>%{hovertext}</b><br><br>Academic Department=EXTD<br>Total courses=%{x}<br>Total students=%{marker.size}\", \"hovertext\": [\"EXTD\"], \"legendgroup\": \"Academic Department=EXTD\", \"marker\": {\"color\": \"#636efa\", \"size\": [2], \"sizemode\": \"area\", \"sizeref\": 0.9677777777777777, \"symbol\": \"circle\"}, \"mode\": \"markers\", \"name\": \"Academic Department=EXTD\", \"showlegend\": true, \"type\": \"scatter\", \"x\": [1], \"xaxis\": \"x\", \"y\": [2], \"yaxis\": \"y\"}, {\"hoverlabel\": {\"namelength\": 0}, \"hovertemplate\": \"<b>%{hovertext}</b><br><br>Academic Department=SAS<br>Total courses=%{x}<br>Total students=%{marker.size}\", \"hovertext\": [\"SAS\"], \"legendgroup\": \"Academic Department=SAS\", \"marker\": {\"color\": \"#EF553B\", \"size\": [11], \"sizemode\": \"area\", \"sizeref\": 0.9677777777777777, \"symbol\": \"circle\"}, \"mode\": \"markers\", \"name\": \"Academic Department=SAS\", \"showlegend\": true, \"type\": \"scatter\", \"x\": [1], \"xaxis\": \"x\", \"y\": [11], \"yaxis\": \"y\"}, {\"hoverlabel\": {\"namelength\": 0}, \"hovertemplate\": \"<b>%{hovertext}</b><br><br>Academic Department=CLSC<br>Total courses=%{x}<br>Total students=%{marker.size}\", \"hovertext\": [\"CLSC\"], \"legendgroup\": \"Academic Department=CLSC\", \"marker\": {\"color\": \"#00cc96\", \"size\": [16], \"sizemode\": \"area\", \"sizeref\": 0.9677777777777777, \"symbol\": \"circle\"}, \"mode\": \"markers\", \"name\": \"Academic Department=CLSC\", \"showlegend\": true, \"type\": \"scatter\", \"x\": [1], \"xaxis\": \"x\", \"y\": [16], \"yaxis\": \"y\"}, {\"hoverlabel\": {\"namelength\": 0}, \"hovertemplate\": \"<b>%{hovertext}</b><br><br>Academic Department=SUST<br>Total courses=%{x}<br>Total students=%{marker.size}\", \"hovertext\": [\"SUST\"], \"legendgroup\": \"Academic Department=SUST\", \"marker\": {\"color\": \"#ab63fa\", \"size\": [14], \"sizemode\": \"area\", \"sizeref\": 0.9677777777777777, \"symbol\": \"circle\"}, \"mode\": \"markers\", \"name\": \"Academic Department=SUST\", \"showlegend\": true, \"type\": \"scatter\", \"x\": [1], \"xaxis\": \"x\", \"y\": [14], \"yaxis\": \"y\"}],\n",
       "                        {\"height\": 600, \"legend\": {\"itemsizing\": \"constant\", \"tracegroupgap\": 0}, \"margin\": {\"t\": 60}, \"template\": {\"data\": {\"bar\": [{\"error_x\": {\"color\": \"#2a3f5f\"}, \"error_y\": {\"color\": \"#2a3f5f\"}, \"marker\": {\"line\": {\"color\": \"#E5ECF6\", \"width\": 0.5}}, \"type\": \"bar\"}], \"barpolar\": [{\"marker\": {\"line\": {\"color\": \"#E5ECF6\", \"width\": 0.5}}, \"type\": \"barpolar\"}], \"carpet\": [{\"aaxis\": {\"endlinecolor\": \"#2a3f5f\", \"gridcolor\": \"white\", \"linecolor\": \"white\", \"minorgridcolor\": \"white\", \"startlinecolor\": \"#2a3f5f\"}, \"baxis\": {\"endlinecolor\": \"#2a3f5f\", \"gridcolor\": \"white\", \"linecolor\": \"white\", \"minorgridcolor\": \"white\", \"startlinecolor\": \"#2a3f5f\"}, \"type\": \"carpet\"}], \"choropleth\": [{\"colorbar\": {\"outlinewidth\": 0, \"ticks\": \"\"}, \"type\": \"choropleth\"}], \"contour\": [{\"colorbar\": {\"outlinewidth\": 0, \"ticks\": \"\"}, \"colorscale\": [[0.0, \"#0d0887\"], [0.1111111111111111, \"#46039f\"], [0.2222222222222222, \"#7201a8\"], [0.3333333333333333, \"#9c179e\"], [0.4444444444444444, \"#bd3786\"], [0.5555555555555556, \"#d8576b\"], [0.6666666666666666, \"#ed7953\"], [0.7777777777777778, \"#fb9f3a\"], [0.8888888888888888, \"#fdca26\"], [1.0, \"#f0f921\"]], \"type\": \"contour\"}], \"contourcarpet\": [{\"colorbar\": {\"outlinewidth\": 0, \"ticks\": \"\"}, \"type\": \"contourcarpet\"}], \"heatmap\": [{\"colorbar\": {\"outlinewidth\": 0, \"ticks\": \"\"}, \"colorscale\": [[0.0, \"#0d0887\"], [0.1111111111111111, \"#46039f\"], [0.2222222222222222, \"#7201a8\"], [0.3333333333333333, \"#9c179e\"], [0.4444444444444444, \"#bd3786\"], [0.5555555555555556, \"#d8576b\"], [0.6666666666666666, \"#ed7953\"], [0.7777777777777778, \"#fb9f3a\"], [0.8888888888888888, \"#fdca26\"], [1.0, \"#f0f921\"]], \"type\": \"heatmap\"}], \"heatmapgl\": [{\"colorbar\": {\"outlinewidth\": 0, \"ticks\": \"\"}, \"colorscale\": [[0.0, \"#0d0887\"], [0.1111111111111111, \"#46039f\"], [0.2222222222222222, \"#7201a8\"], [0.3333333333333333, \"#9c179e\"], [0.4444444444444444, \"#bd3786\"], [0.5555555555555556, \"#d8576b\"], [0.6666666666666666, \"#ed7953\"], [0.7777777777777778, \"#fb9f3a\"], [0.8888888888888888, \"#fdca26\"], [1.0, \"#f0f921\"]], \"type\": \"heatmapgl\"}], \"histogram\": [{\"marker\": {\"colorbar\": {\"outlinewidth\": 0, \"ticks\": \"\"}}, \"type\": \"histogram\"}], \"histogram2d\": [{\"colorbar\": {\"outlinewidth\": 0, \"ticks\": \"\"}, \"colorscale\": [[0.0, \"#0d0887\"], [0.1111111111111111, \"#46039f\"], [0.2222222222222222, \"#7201a8\"], [0.3333333333333333, \"#9c179e\"], [0.4444444444444444, \"#bd3786\"], [0.5555555555555556, \"#d8576b\"], [0.6666666666666666, \"#ed7953\"], [0.7777777777777778, \"#fb9f3a\"], [0.8888888888888888, \"#fdca26\"], [1.0, \"#f0f921\"]], \"type\": \"histogram2d\"}], \"histogram2dcontour\": [{\"colorbar\": {\"outlinewidth\": 0, \"ticks\": \"\"}, \"colorscale\": [[0.0, \"#0d0887\"], [0.1111111111111111, \"#46039f\"], [0.2222222222222222, \"#7201a8\"], [0.3333333333333333, \"#9c179e\"], [0.4444444444444444, \"#bd3786\"], [0.5555555555555556, \"#d8576b\"], [0.6666666666666666, \"#ed7953\"], [0.7777777777777778, \"#fb9f3a\"], [0.8888888888888888, \"#fdca26\"], [1.0, \"#f0f921\"]], \"type\": \"histogram2dcontour\"}], \"mesh3d\": [{\"colorbar\": {\"outlinewidth\": 0, \"ticks\": \"\"}, \"type\": \"mesh3d\"}], \"parcoords\": [{\"line\": {\"colorbar\": {\"outlinewidth\": 0, \"ticks\": \"\"}}, \"type\": \"parcoords\"}], \"scatter\": [{\"marker\": {\"colorbar\": {\"outlinewidth\": 0, \"ticks\": \"\"}}, \"type\": \"scatter\"}], \"scatter3d\": [{\"line\": {\"colorbar\": {\"outlinewidth\": 0, \"ticks\": \"\"}}, \"marker\": {\"colorbar\": {\"outlinewidth\": 0, \"ticks\": \"\"}}, \"type\": \"scatter3d\"}], \"scattercarpet\": [{\"marker\": {\"colorbar\": {\"outlinewidth\": 0, \"ticks\": \"\"}}, \"type\": \"scattercarpet\"}], \"scattergeo\": [{\"marker\": {\"colorbar\": {\"outlinewidth\": 0, \"ticks\": \"\"}}, \"type\": \"scattergeo\"}], \"scattergl\": [{\"marker\": {\"colorbar\": {\"outlinewidth\": 0, \"ticks\": \"\"}}, \"type\": \"scattergl\"}], \"scattermapbox\": [{\"marker\": {\"colorbar\": {\"outlinewidth\": 0, \"ticks\": \"\"}}, \"type\": \"scattermapbox\"}], \"scatterpolar\": [{\"marker\": {\"colorbar\": {\"outlinewidth\": 0, \"ticks\": \"\"}}, \"type\": \"scatterpolar\"}], \"scatterpolargl\": [{\"marker\": {\"colorbar\": {\"outlinewidth\": 0, \"ticks\": \"\"}}, \"type\": \"scatterpolargl\"}], \"scatterternary\": [{\"marker\": {\"colorbar\": {\"outlinewidth\": 0, \"ticks\": \"\"}}, \"type\": \"scatterternary\"}], \"surface\": [{\"colorbar\": {\"outlinewidth\": 0, \"ticks\": \"\"}, \"colorscale\": [[0.0, \"#0d0887\"], [0.1111111111111111, \"#46039f\"], [0.2222222222222222, \"#7201a8\"], [0.3333333333333333, \"#9c179e\"], [0.4444444444444444, \"#bd3786\"], [0.5555555555555556, \"#d8576b\"], [0.6666666666666666, \"#ed7953\"], [0.7777777777777778, \"#fb9f3a\"], [0.8888888888888888, \"#fdca26\"], [1.0, \"#f0f921\"]], \"type\": \"surface\"}], \"table\": [{\"cells\": {\"fill\": {\"color\": \"#EBF0F8\"}, \"line\": {\"color\": \"white\"}}, \"header\": {\"fill\": {\"color\": \"#C8D4E3\"}, \"line\": {\"color\": \"white\"}}, \"type\": \"table\"}]}, \"layout\": {\"annotationdefaults\": {\"arrowcolor\": \"#2a3f5f\", \"arrowhead\": 0, \"arrowwidth\": 1}, \"colorscale\": {\"diverging\": [[0, \"#8e0152\"], [0.1, \"#c51b7d\"], [0.2, \"#de77ae\"], [0.3, \"#f1b6da\"], [0.4, \"#fde0ef\"], [0.5, \"#f7f7f7\"], [0.6, \"#e6f5d0\"], [0.7, \"#b8e186\"], [0.8, \"#7fbc41\"], [0.9, \"#4d9221\"], [1, \"#276419\"]], \"sequential\": [[0.0, \"#0d0887\"], [0.1111111111111111, \"#46039f\"], [0.2222222222222222, \"#7201a8\"], [0.3333333333333333, \"#9c179e\"], [0.4444444444444444, \"#bd3786\"], [0.5555555555555556, \"#d8576b\"], [0.6666666666666666, \"#ed7953\"], [0.7777777777777778, \"#fb9f3a\"], [0.8888888888888888, \"#fdca26\"], [1.0, \"#f0f921\"]], \"sequentialminus\": [[0.0, \"#0d0887\"], [0.1111111111111111, \"#46039f\"], [0.2222222222222222, \"#7201a8\"], [0.3333333333333333, \"#9c179e\"], [0.4444444444444444, \"#bd3786\"], [0.5555555555555556, \"#d8576b\"], [0.6666666666666666, \"#ed7953\"], [0.7777777777777778, \"#fb9f3a\"], [0.8888888888888888, \"#fdca26\"], [1.0, \"#f0f921\"]]}, \"colorway\": [\"#636efa\", \"#EF553B\", \"#00cc96\", \"#ab63fa\", \"#FFA15A\", \"#19d3f3\", \"#FF6692\", \"#B6E880\", \"#FF97FF\", \"#FECB52\"], \"font\": {\"color\": \"#2a3f5f\"}, \"geo\": {\"bgcolor\": \"white\", \"lakecolor\": \"white\", \"landcolor\": \"#E5ECF6\", \"showlakes\": true, \"showland\": true, \"subunitcolor\": \"white\"}, \"hoverlabel\": {\"align\": \"left\"}, \"hovermode\": \"closest\", \"mapbox\": {\"style\": \"light\"}, \"paper_bgcolor\": \"white\", \"plot_bgcolor\": \"#E5ECF6\", \"polar\": {\"angularaxis\": {\"gridcolor\": \"white\", \"linecolor\": \"white\", \"ticks\": \"\"}, \"bgcolor\": \"#E5ECF6\", \"radialaxis\": {\"gridcolor\": \"white\", \"linecolor\": \"white\", \"ticks\": \"\"}}, \"scene\": {\"xaxis\": {\"backgroundcolor\": \"#E5ECF6\", \"gridcolor\": \"white\", \"gridwidth\": 2, \"linecolor\": \"white\", \"showbackground\": true, \"ticks\": \"\", \"zerolinecolor\": \"white\"}, \"yaxis\": {\"backgroundcolor\": \"#E5ECF6\", \"gridcolor\": \"white\", \"gridwidth\": 2, \"linecolor\": \"white\", \"showbackground\": true, \"ticks\": \"\", \"zerolinecolor\": \"white\"}, \"zaxis\": {\"backgroundcolor\": \"#E5ECF6\", \"gridcolor\": \"white\", \"gridwidth\": 2, \"linecolor\": \"white\", \"showbackground\": true, \"ticks\": \"\", \"zerolinecolor\": \"white\"}}, \"shapedefaults\": {\"line\": {\"color\": \"#2a3f5f\"}}, \"ternary\": {\"aaxis\": {\"gridcolor\": \"white\", \"linecolor\": \"white\", \"ticks\": \"\"}, \"baxis\": {\"gridcolor\": \"white\", \"linecolor\": \"white\", \"ticks\": \"\"}, \"bgcolor\": \"#E5ECF6\", \"caxis\": {\"gridcolor\": \"white\", \"linecolor\": \"white\", \"ticks\": \"\"}}, \"title\": {\"x\": 0.05}, \"xaxis\": {\"automargin\": true, \"gridcolor\": \"white\", \"linecolor\": \"white\", \"ticks\": \"\", \"zerolinecolor\": \"white\", \"zerolinewidth\": 2}, \"yaxis\": {\"automargin\": true, \"gridcolor\": \"white\", \"linecolor\": \"white\", \"ticks\": \"\", \"zerolinecolor\": \"white\", \"zerolinewidth\": 2}}}, \"xaxis\": {\"anchor\": \"y\", \"domain\": [0.0, 0.98], \"title\": {\"text\": \"Total courses\"}}, \"yaxis\": {\"anchor\": \"x\", \"domain\": [0.0, 1.0], \"title\": {\"text\": \"Total students\"}}},\n",
       "                        {\"responsive\": true}\n",
       "                    ).then(function(){\n",
       "                            \n",
       "var gd = document.getElementById('8f344378-0dc4-48c2-be76-e7d633ef5df3');\n",
       "var x = new MutationObserver(function (mutations, observer) {{\n",
       "        var display = window.getComputedStyle(gd).display;\n",
       "        if (!display || display === 'none') {{\n",
       "            console.log([gd, 'removed!']);\n",
       "            Plotly.purge(gd);\n",
       "            observer.disconnect();\n",
       "        }}\n",
       "}});\n",
       "\n",
       "// Listen for the removal of the full notebook cells\n",
       "var notebookContainer = gd.closest('#notebook-container');\n",
       "if (notebookContainer) {{\n",
       "    x.observe(notebookContainer, {childList: true});\n",
       "}}\n",
       "\n",
       "// Listen for the clearing of the current output cell\n",
       "var outputEl = gd.closest('.output');\n",
       "if (outputEl) {{\n",
       "    x.observe(outputEl, {childList: true});\n",
       "}}\n",
       "\n",
       "                        })\n",
       "                };\n",
       "                });\n",
       "            </script>\n",
       "        </div>"
      ]
     },
     "metadata": {},
     "output_type": "display_data"
    }
   ],
   "source": [
    "fig = px.scatter(dfNew, x=\"nr_courses\", y=\"nr_students\", size=\"nr_students\",labels={'dept':'Academic Department','nr_courses':'Total courses','nr_students':'Total students'},\n",
    "           color=\"dept\", hover_name=\"dept\", log_x=False, size_max=30)\n",
    "fig.show()"
   ]
  },
  {
   "cell_type": "markdown",
   "metadata": {},
   "source": [
    "## Department vs. Enrollment"
   ]
  },
  {
   "cell_type": "code",
   "execution_count": 85,
   "metadata": {},
   "outputs": [
    {
     "data": {
      "text/plain": [
       "[(-5, 60)]"
      ]
     },
     "execution_count": 85,
     "metadata": {},
     "output_type": "execute_result"
    },
    {
     "data": {
      "image/png": "[encoded data removed]",
      "text/plain": [
       "<Figure size 1224x1152 with 1 Axes>"
      ]
     },
     "metadata": {},
     "output_type": "display_data"
    }
   ],
   "source": [
    "f, ax = plt.subplots(figsize=(17, 16))\n",
    "p = sns.boxplot(data=df,\n",
    "                y = 'dept',\n",
    "                x = 'enrollment',\n",
    "                order = sorted(df.dept.unique()),\n",
    "                orient=\"h\",showfliers=False,palette=\"vlag\")\n",
    "ax.set(xlim=(-5, 60))\n"
   ]
  },
  {
   "cell_type": "markdown",
   "metadata": {},
   "source": [
    "## Department vs. Enrollment (Top 10 Departments)"
   ]
  },
  {
   "cell_type": "code",
   "execution_count": 110,
   "metadata": {},
   "outputs": [
    {
     "data": {
      "text/plain": [
       "<matplotlib.axes._subplots.AxesSubplot at 0x113518208>"
      ]
     },
     "execution_count": 110,
     "metadata": {},
     "output_type": "execute_result"
    },
    {
     "data": {
      "image/png": "[encoded data removed]",
      "text/plain": [
       "<Figure size 1224x1152 with 1 Axes>"
      ]
     },
     "metadata": {},
     "output_type": "display_data"
    }
   ],
   "source": [
    "f, ax = plt.subplots(figsize=(17, 16))\n",
    "\n",
    "dfStudSorted = dfDept.sort_values('nr_students',ascending=False)[0:10]\n",
    "deptList = list(dfStudSorted['dept'])\n",
    "deptList\n",
    "sortDept = df['dept'].isin(deptList)\n",
    "dfTop = df[sortDept]\n",
    "p = sns.boxplot(data=dfTop,\n",
    "                y = 'dept',\n",
    "                x = 'enrollment',\n",
    "                whis = 'range',\n",
    "                palette=\"vlag\")\n",
    "sns.swarmplot(x=\"enrollment\", y=\"dept\", data=dfTop,\n",
    "              size=2, color=\".3\", linewidth=0)"
   ]
  },
  {
   "cell_type": "code",
   "execution_count": null,
   "metadata": {},
   "outputs": [],
   "source": []
  }
 ],
 "metadata": {
  "kernelspec": {
   "display_name": "Python 3",
   "language": "python",
   "name": "python3"
  },
  "language_info": {
   "codemirror_mode": {
    "name": "ipython",
    "version": 3
   },
   "file_extension": ".py",
   "mimetype": "text/x-python",
   "name": "python",
   "nbconvert_exporter": "python",
   "pygments_lexer": "ipython3",
   "version": "3.6.5"
  }
 },
 "nbformat": 4,
 "nbformat_minor": 2
}
