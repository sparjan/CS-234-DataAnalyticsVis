{
 "cells": [
  {
   "cell_type": "markdown",
   "metadata": {},
   "source": [
    "# Assignment 5: OCR, RegEx, Time Series\n",
    "# Part 1: OCR and RegEx\n",
    "\n",
    "Author: Shreya Parjan\n",
    "\n",
    "24 Oct 2019\n",
    "\n",
    "This part of A5 examines the quality of different OCR tools and find out which works best. Using \"Maintenance of a Lobby to Influence Legislation, 1913\" as our reference, we follow a tutorial by Dr. Meredith Parker from the University of Oxford to remove the unnecessary lines and find the names at the beginning of the lines. We expand the code to keep track of the different people, so that we can compare the results to the “ground truth,\" a verified spreadsheet of the actual counts of occurrences of the different names in the text."
   ]
  },
  {
   "cell_type": "markdown",
   "metadata": {},
   "source": [
    "## Table of contents\n",
    "1. [Step 1: \"Ground Truth\" spreadsheet](#s0)\n",
    "2. [Step 2: I reviewed the RegEx notebook from class](#s1)\n",
    "3. [Step 3: Tutorial Code](#s2)\n",
    "4. [Step 4: Names Analysis/Patterns](#s3)\n",
    "5. [Step 5: CounterDicts & JSON Files](#s4)\n",
    "6. [Step 6: Compare to Ground Truth](#s5)\n",
    "    - [Read in, Clean Google sheet](#s6)\n",
    "    - [readTruth function to create CounterDict](#s7)\n",
    "    - [getCloseMatches](#s8)\n",
    "    - [Compare the “ground truth” results with the OCR result](#s9)\n",
    "7. [Interpretation](#s10)"
   ]
  },
  {
   "cell_type": "markdown",
   "metadata": {},
   "source": [
    "## Step 1: \"ground truth\" spreadsheet has been created\n",
    "<a id=\"s0\"></a>\n",
    "\n",
    "## Step 2: I reviewed the RegEx notebook from class\n",
    "<a id=\"s1\"></a>\n",
    "\n",
    "## Step 3: Tutorial Code\n",
    "<a id=\"s2\"></a>\n",
    "Python code from the tutorial (see above). Made minor improvements to simplify it and make it more concise.\n",
    "\n",
    "Main improvements:\n",
    "- (1): made code segments into functions that can be called for different input files\n",
    "- (2): created list of errors and removed repetitive if statements/cases so that possible errors are only checked against the list\n",
    "- (3): deleted analysis of text outside of names of people because it isn't relevant to our project"
   ]
  },
  {
   "cell_type": "code",
   "execution_count": 68,
   "metadata": {},
   "outputs": [],
   "source": [
    "import re\n",
    "\n",
    "# Initialize list for edited text\n",
    "v_edited = []\n",
    "\n",
    "#editFile takes in a filename, reads it, and checks lines against our list of known errors\n",
    "def editFile(filename):\n",
    "    errors = [\"Generated\",\"Public\",\"MAINTENANCE\",\"Original\",\"NEW\",\"Digitized\"]\n",
    "        # Open file and read in line by line\n",
    "    with open(filename, \"r\", encoding = 'utf-8') as f:\n",
    "        file_text = f.read()\n",
    "        lines = file_text.split('\\n')\n",
    "\n",
    "        # If line has a word that is an OCR error, do not include line\n",
    "        for line in lines: \n",
    "            split = line.split()\n",
    "            try:\n",
    "                if split[0] in errors:\n",
    "                    continue\n",
    "            except:\n",
    "                    pass\n",
    "            try: \n",
    "                if split[1] == \"MAINTENANCE\":\n",
    "                    continue\n",
    "            except:\n",
    "                pass\n",
    "            v_edited.append(line)\n",
    "        return v_edited"
   ]
  },
  {
   "cell_type": "markdown",
   "metadata": {},
   "source": [
    "## Step 4: Names Analysis/Patterns\n",
    "<a id=\"s3\"></a>\n",
    "Following from the tutorial, we generate patterns to catch errors in the spellings of the various names. We also provide a function, handleNames, that takes in the edited string from editFile and returns the post-analysis output and the list of names it picked up from the file it read."
   ]
  },
  {
   "cell_type": "code",
   "execution_count": 69,
   "metadata": {},
   "outputs": [],
   "source": [
    "# Compile regular expressions to match patterns found in the text that indicate a new speaker\n",
    "\n",
    "# This matches patterns line \"Mr. Robinson.\" or \"Mr Smith.\"\n",
    "# '\\.*' indicates an optional period after \"Mr\"\n",
    "# ' *' indicates an option space between \"Mr\" and the name\n",
    "# '[A-za-z]+' allows words with capital or lowercase letters of any length\n",
    "# '\\.' requires a period after the name, which is used in the text to indicate the end of name\n",
    "\n",
    "re1 = re.compile('Mr\\.* *[A-Za-z]+\\.')\n",
    "\n",
    "# This matches patterns like \"Senator Gallinger.\" paralleling the above\n",
    "re2 = re.compile('Senator *[A-Za-z]+\\.')\n",
    "\n",
    "# This matches \"The Chairman.\" allowing the whole word to also be capitalized\n",
    "re3 = re.compile('The *Chairman\\.', re.IGNORECASE)\n"
   ]
  },
  {
   "cell_type": "code",
   "execution_count": 70,
   "metadata": {},
   "outputs": [],
   "source": [
    "\"handleNames takes in our edited string and cycles through it to analyze the names of the people in the text\"\n",
    "def handleNames(v_edited):\n",
    "    namelist = []\n",
    "# Cycle through and split on speaker names\n",
    "    output = \"\"\n",
    "    for line in v_edited:\n",
    "        mr = re1.match(line)\n",
    "        senator = re2.match(line)\n",
    "        chairman = re3.match(line)\n",
    "\n",
    "        # If a line matches one of the regexs, add the match to the output string\n",
    "        if mr:\n",
    "            output += \"\\n\"\n",
    "            split = line.split(mr.group(), 1)\n",
    "            name = mr.group().rstrip('.')\n",
    "            output += name\n",
    "            output += \"# \"\n",
    "            output += split[1]\n",
    "            namelist.append(name)\n",
    "        elif senator:\n",
    "            output += \"\\n\"\n",
    "            split = line.split(senator.group(), 1)\n",
    "            name = senator.group().rstrip('.')\n",
    "            output += name\n",
    "            output += \"# \"\n",
    "            output += split[1]\n",
    "            namelist.append(name)\n",
    "        elif chairman:\n",
    "            output += \"\\n\"\n",
    "            split = line.split(chairman.group(), 1)\n",
    "            name = chairman.group().rstrip('.')\n",
    "            output += name\n",
    "            output += \"#\"\n",
    "            output += split[1]\n",
    "            namelist.append(name)\n",
    "        # If a line doesn't match, it's part of the comment of the above speaker.\n",
    "        # So just add it to the output\n",
    "        else:\n",
    "            output += line\n",
    "    return output, namelist"
   ]
  },
  {
   "cell_type": "markdown",
   "metadata": {},
   "source": [
    "Below, I call the relevant functions I created above for each of the files (analyzed by different technologies) that I'm interested in."
   ]
  },
  {
   "cell_type": "code",
   "execution_count": 71,
   "metadata": {},
   "outputs": [],
   "source": [
    "v_edited1 = editFile(\"V1.txt\")\n",
    "outputV1, namelistV1 = handleNames(v_edited1)\n",
    "\n",
    "v_editedT = editFile(\"tesseract.txt\")\n",
    "outputT, namelistT = handleNames(v_editedT)\n",
    "\n",
    "v_editedG = editFile(\"google-cloud.txt\")\n",
    "outputG, namelistG = handleNames(v_editedG)"
   ]
  },
  {
   "cell_type": "markdown",
   "metadata": {},
   "source": [
    "## Step 5: Counter dicts and JSON files\n",
    "<a id=\"s4\"></a>\n",
    "Now, we create a Counter dict that has all names and counts for each of them. We’ll save this file as a JSON file."
   ]
  },
  {
   "cell_type": "code",
   "execution_count": 72,
   "metadata": {},
   "outputs": [],
   "source": [
    "from collections import Counter\n",
    "import json"
   ]
  },
  {
   "cell_type": "code",
   "execution_count": 73,
   "metadata": {},
   "outputs": [
    {
     "name": "stdout",
     "output_type": "stream",
     "text": [
      "Counter({'Mr. EMERY': 78, 'Senator REED': 50, 'The CHAIRMAN': 15, 'Mr. McCARTER': 15, 'Senator NELSON': 6, 'Senator WALSH': 6, 'Mr. MULHALL': 5, 'Senator  REED': 3, 'Mr.  EMERY': 3, 'Senator ClrnMINS': 1, 'Mr. EiomY': 1, 'Senator  REEU': 1, 'Mr. EKEBY': 1, 'Mr. fcCARTER': 1, 'Senator wALSH': 1, 'Mr. MERY': 1, 'Mr.  McCARTER': 1, 'Mr. McCABTER': 1})\n"
     ]
    }
   ],
   "source": [
    "\"this is the counterDict for our version1 file\"\n",
    "\n",
    "counterDictV1 = Counter(namelistV1)\n",
    "print(counterDictV1)\n",
    "\n",
    "with open('namesV1JSON','w') as outfile:\n",
    "    json.dump(counterDictV1, outfile)"
   ]
  },
  {
   "cell_type": "code",
   "execution_count": 74,
   "metadata": {},
   "outputs": [
    {
     "name": "stdout",
     "output_type": "stream",
     "text": [
      "Counter({'Mr. Emery': 170, 'Senator Reep': 94, 'Mr. EMERY': 78, 'Senator REED': 58, 'Mr. McCarter': 44, 'The CHAIRMAN': 16, 'Senator Watsu': 16, 'Mr. McCARTER': 15, 'Senator Netson': 7, 'Senator NELSON': 6, 'Senator WALSH': 6, 'Senator ReEp': 6, 'Mr. MULHALL': 5, 'Senator Cummins': 4, 'Senator ReEep': 4, 'Senator ReeEp': 4, 'Senator WatsH': 4, 'Senator  REED': 3, 'Mr.  EMERY': 3, 'Senator REEp': 3, 'Senator Rreep': 3, 'Mr. Mutua': 3, 'Senator Watsn': 3, 'Senator Waxsu': 3, 'Senator Nerson': 2, 'Senator REEep': 2, 'Mr. McCarrer': 2, 'Mr. Exery': 2, 'Senator ClrnMINS': 1, 'Mr. EiomY': 1, 'Senator  REEU': 1, 'Mr. EKEBY': 1, 'Mr. fcCARTER': 1, 'Senator wALSH': 1, 'Mr. MERY': 1, 'Mr.  McCARTER': 1, 'Mr. McCABTER': 1, 'Mr. Teer': 1, 'Senator Nezson': 1, 'Senator NEtson': 1, 'Mr. MuLHALL': 1, 'Mr. Muiwa': 1, 'Mr. Mutwatt': 1, 'Mr. Mutttau': 1, 'Mr. McCarTer': 1, 'Senator Rexp': 1, 'Senator Resp': 1, 'Senator Wars': 1, 'Mr. Ttieny': 1, 'Mr. Esrery': 1, 'Senator REeep': 1, 'Senator REeEp': 1, 'The CHairMAN': 1, 'Senator Regp': 1, 'Senator Rerp': 1, 'Mr. Mutwatv': 1, 'Mr. Mornay': 1, 'Mr. MuHa': 1, 'Senator Reev': 1, 'Mr. Mutnact': 1, 'Mr. McCarrTer': 1, 'Mr. Muuatt': 1, 'Mr. Mutaaty': 1, 'Senator Watsy': 1, 'Senator Wausu': 1, 'Senator Rezp': 1, 'Senator Waxsn': 1, 'Senator REep': 1, 'Mr Emery': 1, 'Senator REE': 1})\n"
     ]
    }
   ],
   "source": [
    "\"this is the counterDict for our Tesseract file\"\n",
    "\n",
    "import difflib\n",
    "\n",
    "counterDictT = Counter(namelistT)\n",
    "print(counterDictT)\n",
    "\n",
    "with open('namesTJSON','w') as outfile:\n",
    "    json.dump(counterDictT, outfile)"
   ]
  },
  {
   "cell_type": "code",
   "execution_count": 95,
   "metadata": {},
   "outputs": [
    {
     "name": "stdout",
     "output_type": "stream",
     "text": [
      "dict_keys(['Senator REED', 'Senator ClrnMINS', 'The CHAIRMAN', 'Mr. EMERY', 'Senator NELSON', 'Mr. McCARTER', 'Mr. EiomY', 'Senator  REEU', 'Mr. MULHALL', 'Mr. EKEBY', 'Senator  REED', 'Mr. fcCARTER', 'Senator wALSH', 'Senator WALSH', 'Mr.  EMERY', 'Mr. MERY', 'Mr.  McCARTER', 'Mr. McCABTER', 'Mr. McCarter', 'Senator Reep', 'Senator Cummins', 'Mr. Emery', 'Senator Nerson', 'Mr. Teer', 'Senator REEep', 'Senator Netson', 'Senator ReEep', 'Senator REEp', 'Senator Nezson', 'Senator NEtson', 'Mr. MuLHALL', 'Mr. Muiwa', 'Mr. Mutwatt', 'Mr. Mutttau', 'Mr. McCarTer', 'Senator Rexp', 'Senator Rreep', 'Senator ReEp', 'Mr. McCarrer', 'Senator Resp', 'Senator Watsu', 'Senator Wars', 'Mr. Ttieny', 'Senator ReeEp', 'Mr. Esrery', 'Senator REeep', 'Senator REeEp', 'Mr. Exery', 'The CHairMAN', 'Senator Regp', 'Mr. Mutua', 'Senator Rerp', 'Mr. Mutwatv', 'Mr. Mornay', 'Mr. MuHa', 'Senator Watsn', 'Senator WatsH', 'Senator Waxsu', 'Senator Reev', 'Mr. Mutnact', 'Mr. McCarrTer', 'Mr. Muuatt', 'Mr. Mutaaty', 'Senator Watsy', 'Senator Wausu', 'Senator Rezp', 'Senator Waxsn', 'Senator REep', 'Mr Emery', 'Senator REE', 'Senator CUMMINS', 'Mr. MCCARTER', 'Mr. MOCARTER', 'Senator Nelson', 'Senator Reed', 'Mr. Every', 'Senator Walsh', 'Senator Rerd', 'Senator Nelsox', 'Mr. EVERY', 'Mr. MULAALL', 'Mr. Mulhall', 'Mr EMERY', 'Mr. EyEry'])\n"
     ]
    }
   ],
   "source": [
    "\"this is the counterDict for our Google Cloud Vision file\"\n",
    "\n",
    "counterDictG = Counter(namelistG)\n",
    "print(counterDictG.keys())\n",
    "with open('namesGJSON','w') as outfile:\n",
    "    json.dump(counterDictG, outfile)"
   ]
  },
  {
   "cell_type": "markdown",
   "metadata": {},
   "source": [
    "## Step 6: Compare to Ground Truth\n",
    "<a id=\"s5\"></a>\n",
    "Now that we have all of our CounterDicts for each of the different technologies used to analyze the text, we'll compare the accuracy of each to our correct analysis of the text. This will tell us which software is best."
   ]
  },
  {
   "cell_type": "markdown",
   "metadata": {},
   "source": [
    "### Read in, Clean Google spreadsheet\n",
    "<a id=\"s6\"></a>"
   ]
  },
  {
   "cell_type": "code",
   "execution_count": 76,
   "metadata": {},
   "outputs": [
    {
     "data": {
      "text/html": [
       "<div>\n",
       "<style scoped>\n",
       "    .dataframe tbody tr th:only-of-type {\n",
       "        vertical-align: middle;\n",
       "    }\n",
       "\n",
       "    .dataframe tbody tr th {\n",
       "        vertical-align: top;\n",
       "    }\n",
       "\n",
       "    .dataframe thead th {\n",
       "        text-align: right;\n",
       "    }\n",
       "</style>\n",
       "<table border=\"1\" class=\"dataframe\">\n",
       "  <thead>\n",
       "    <tr style=\"text-align: right;\">\n",
       "      <th></th>\n",
       "      <th>Page #</th>\n",
       "      <th>Student</th>\n",
       "      <th>Name1</th>\n",
       "      <th>Count1</th>\n",
       "      <th>Name2</th>\n",
       "      <th>Count2</th>\n",
       "      <th>Name3</th>\n",
       "      <th>Count3</th>\n",
       "      <th>Name4</th>\n",
       "      <th>Count4</th>\n",
       "      <th>Name5</th>\n",
       "      <th>Count5</th>\n",
       "      <th>Name6</th>\n",
       "      <th>Count6</th>\n",
       "    </tr>\n",
       "  </thead>\n",
       "  <tbody>\n",
       "    <tr>\n",
       "      <th>0</th>\n",
       "      <td>1</td>\n",
       "      <td>Eni</td>\n",
       "      <td>Mr. McCARTER</td>\n",
       "      <td>3</td>\n",
       "      <td>Senator REED</td>\n",
       "      <td>3</td>\n",
       "      <td>NaN</td>\n",
       "      <td>NaN</td>\n",
       "      <td>NaN</td>\n",
       "      <td>NaN</td>\n",
       "      <td>NaN</td>\n",
       "      <td>NaN</td>\n",
       "      <td>NaN</td>\n",
       "      <td>NaN</td>\n",
       "    </tr>\n",
       "    <tr>\n",
       "      <th>1</th>\n",
       "      <td>2</td>\n",
       "      <td>Elaney</td>\n",
       "      <td>Senator CUMMINS</td>\n",
       "      <td>3</td>\n",
       "      <td>Mr. McCARTER</td>\n",
       "      <td>5</td>\n",
       "      <td>Senator REED</td>\n",
       "      <td>4.0</td>\n",
       "      <td>The CHAIRMAN</td>\n",
       "      <td>4.0</td>\n",
       "      <td>Mr. EMERY</td>\n",
       "      <td>6.0</td>\n",
       "      <td>Senator NELSON</td>\n",
       "      <td>1.0</td>\n",
       "    </tr>\n",
       "    <tr>\n",
       "      <th>2</th>\n",
       "      <td>3</td>\n",
       "      <td>Izzy</td>\n",
       "      <td>Mr. McCARTER</td>\n",
       "      <td>3</td>\n",
       "      <td>Mr. EMERY</td>\n",
       "      <td>6</td>\n",
       "      <td>Senator REED</td>\n",
       "      <td>2.0</td>\n",
       "      <td>Senator NELSON</td>\n",
       "      <td>1.0</td>\n",
       "      <td>NaN</td>\n",
       "      <td>NaN</td>\n",
       "      <td>NaN</td>\n",
       "      <td>NaN</td>\n",
       "    </tr>\n",
       "    <tr>\n",
       "      <th>3</th>\n",
       "      <td>4</td>\n",
       "      <td>Avery</td>\n",
       "      <td>Mr. Emery</td>\n",
       "      <td>4</td>\n",
       "      <td>Mr. McCarter</td>\n",
       "      <td>5</td>\n",
       "      <td>Senator REED</td>\n",
       "      <td>6.0</td>\n",
       "      <td>Senator Cummins</td>\n",
       "      <td>1.0</td>\n",
       "      <td>The Chairman</td>\n",
       "      <td>2.0</td>\n",
       "      <td>Senator Nelson</td>\n",
       "      <td>5.0</td>\n",
       "    </tr>\n",
       "    <tr>\n",
       "      <th>4</th>\n",
       "      <td>5</td>\n",
       "      <td>Yige</td>\n",
       "      <td>The CHAIRMAN</td>\n",
       "      <td>1</td>\n",
       "      <td>Mr. McCarter</td>\n",
       "      <td>7</td>\n",
       "      <td>Mr. MULHALL</td>\n",
       "      <td>5.0</td>\n",
       "      <td>Mr. EMERY</td>\n",
       "      <td>5.0</td>\n",
       "      <td>Senator REED</td>\n",
       "      <td>3.0</td>\n",
       "      <td>Senator Nelson</td>\n",
       "      <td>1.0</td>\n",
       "    </tr>\n",
       "  </tbody>\n",
       "</table>\n",
       "</div>"
      ],
      "text/plain": [
       "   Page # Student            Name1  Count1         Name2  Count2  \\\n",
       "0       1     Eni     Mr. McCARTER       3  Senator REED       3   \n",
       "1       2  Elaney  Senator CUMMINS       3  Mr. McCARTER       5   \n",
       "2       3    Izzy     Mr. McCARTER       3     Mr. EMERY       6   \n",
       "3       4   Avery        Mr. Emery       4  Mr. McCarter       5   \n",
       "4       5    Yige     The CHAIRMAN       1  Mr. McCarter       7   \n",
       "\n",
       "          Name3  Count3            Name4  Count4         Name5  Count5  \\\n",
       "0           NaN     NaN              NaN     NaN           NaN     NaN   \n",
       "1  Senator REED     4.0     The CHAIRMAN     4.0     Mr. EMERY     6.0   \n",
       "2  Senator REED     2.0   Senator NELSON     1.0           NaN     NaN   \n",
       "3  Senator REED     6.0  Senator Cummins     1.0  The Chairman     2.0   \n",
       "4   Mr. MULHALL     5.0        Mr. EMERY     5.0  Senator REED     3.0   \n",
       "\n",
       "            Name6  Count6  \n",
       "0             NaN     NaN  \n",
       "1  Senator NELSON     1.0  \n",
       "2             NaN     NaN  \n",
       "3  Senator Nelson     5.0  \n",
       "4  Senator Nelson     1.0  "
      ]
     },
     "execution_count": 76,
     "metadata": {},
     "output_type": "execute_result"
    }
   ],
   "source": [
    "import pandas as pd\n",
    "from collections import Counter\n",
    "\n",
    "df = pd.read_csv('results.csv')\n",
    "df.head()"
   ]
  },
  {
   "cell_type": "code",
   "execution_count": 77,
   "metadata": {},
   "outputs": [
    {
     "data": {
      "text/html": [
       "<div>\n",
       "<style scoped>\n",
       "    .dataframe tbody tr th:only-of-type {\n",
       "        vertical-align: middle;\n",
       "    }\n",
       "\n",
       "    .dataframe tbody tr th {\n",
       "        vertical-align: top;\n",
       "    }\n",
       "\n",
       "    .dataframe thead th {\n",
       "        text-align: right;\n",
       "    }\n",
       "</style>\n",
       "<table border=\"1\" class=\"dataframe\">\n",
       "  <thead>\n",
       "    <tr style=\"text-align: right;\">\n",
       "      <th></th>\n",
       "      <th>Name1</th>\n",
       "      <th>Count1</th>\n",
       "      <th>Name2</th>\n",
       "      <th>Count2</th>\n",
       "      <th>Name3</th>\n",
       "      <th>Count3</th>\n",
       "      <th>Name4</th>\n",
       "      <th>Count4</th>\n",
       "      <th>Name5</th>\n",
       "      <th>Count5</th>\n",
       "      <th>Name6</th>\n",
       "      <th>Count6</th>\n",
       "    </tr>\n",
       "  </thead>\n",
       "  <tbody>\n",
       "    <tr>\n",
       "      <th>0</th>\n",
       "      <td>Mr. McCARTER</td>\n",
       "      <td>3</td>\n",
       "      <td>Senator REED</td>\n",
       "      <td>3</td>\n",
       "      <td>NaN</td>\n",
       "      <td>NaN</td>\n",
       "      <td>NaN</td>\n",
       "      <td>NaN</td>\n",
       "      <td>NaN</td>\n",
       "      <td>NaN</td>\n",
       "      <td>NaN</td>\n",
       "      <td>NaN</td>\n",
       "    </tr>\n",
       "    <tr>\n",
       "      <th>1</th>\n",
       "      <td>Senator CUMMINS</td>\n",
       "      <td>3</td>\n",
       "      <td>Mr. McCARTER</td>\n",
       "      <td>5</td>\n",
       "      <td>Senator REED</td>\n",
       "      <td>4.0</td>\n",
       "      <td>The CHAIRMAN</td>\n",
       "      <td>4.0</td>\n",
       "      <td>Mr. EMERY</td>\n",
       "      <td>6.0</td>\n",
       "      <td>Senator NELSON</td>\n",
       "      <td>1.0</td>\n",
       "    </tr>\n",
       "    <tr>\n",
       "      <th>2</th>\n",
       "      <td>Mr. McCARTER</td>\n",
       "      <td>3</td>\n",
       "      <td>Mr. EMERY</td>\n",
       "      <td>6</td>\n",
       "      <td>Senator REED</td>\n",
       "      <td>2.0</td>\n",
       "      <td>Senator NELSON</td>\n",
       "      <td>1.0</td>\n",
       "      <td>NaN</td>\n",
       "      <td>NaN</td>\n",
       "      <td>NaN</td>\n",
       "      <td>NaN</td>\n",
       "    </tr>\n",
       "    <tr>\n",
       "      <th>3</th>\n",
       "      <td>Mr. Emery</td>\n",
       "      <td>4</td>\n",
       "      <td>Mr. McCarter</td>\n",
       "      <td>5</td>\n",
       "      <td>Senator REED</td>\n",
       "      <td>6.0</td>\n",
       "      <td>Senator Cummins</td>\n",
       "      <td>1.0</td>\n",
       "      <td>The Chairman</td>\n",
       "      <td>2.0</td>\n",
       "      <td>Senator Nelson</td>\n",
       "      <td>5.0</td>\n",
       "    </tr>\n",
       "    <tr>\n",
       "      <th>4</th>\n",
       "      <td>The CHAIRMAN</td>\n",
       "      <td>1</td>\n",
       "      <td>Mr. McCarter</td>\n",
       "      <td>7</td>\n",
       "      <td>Mr. MULHALL</td>\n",
       "      <td>5.0</td>\n",
       "      <td>Mr. EMERY</td>\n",
       "      <td>5.0</td>\n",
       "      <td>Senator REED</td>\n",
       "      <td>3.0</td>\n",
       "      <td>Senator Nelson</td>\n",
       "      <td>1.0</td>\n",
       "    </tr>\n",
       "  </tbody>\n",
       "</table>\n",
       "</div>"
      ],
      "text/plain": [
       "             Name1  Count1         Name2  Count2         Name3  Count3  \\\n",
       "0     Mr. McCARTER       3  Senator REED       3           NaN     NaN   \n",
       "1  Senator CUMMINS       3  Mr. McCARTER       5  Senator REED     4.0   \n",
       "2     Mr. McCARTER       3     Mr. EMERY       6  Senator REED     2.0   \n",
       "3        Mr. Emery       4  Mr. McCarter       5  Senator REED     6.0   \n",
       "4     The CHAIRMAN       1  Mr. McCarter       7   Mr. MULHALL     5.0   \n",
       "\n",
       "             Name4  Count4         Name5  Count5           Name6  Count6  \n",
       "0              NaN     NaN           NaN     NaN             NaN     NaN  \n",
       "1     The CHAIRMAN     4.0     Mr. EMERY     6.0  Senator NELSON     1.0  \n",
       "2   Senator NELSON     1.0           NaN     NaN             NaN     NaN  \n",
       "3  Senator Cummins     1.0  The Chairman     2.0  Senator Nelson     5.0  \n",
       "4        Mr. EMERY     5.0  Senator REED     3.0  Senator Nelson     1.0  "
      ]
     },
     "execution_count": 77,
     "metadata": {},
     "output_type": "execute_result"
    }
   ],
   "source": [
    "# remove columns we don't need\n",
    "df.drop(['Page #', 'Student'], axis=1, inplace=True)\n",
    "df.head()"
   ]
  },
  {
   "cell_type": "code",
   "execution_count": 78,
   "metadata": {},
   "outputs": [
    {
     "data": {
      "text/html": [
       "<div>\n",
       "<style scoped>\n",
       "    .dataframe tbody tr th:only-of-type {\n",
       "        vertical-align: middle;\n",
       "    }\n",
       "\n",
       "    .dataframe tbody tr th {\n",
       "        vertical-align: top;\n",
       "    }\n",
       "\n",
       "    .dataframe thead th {\n",
       "        text-align: right;\n",
       "    }\n",
       "</style>\n",
       "<table border=\"1\" class=\"dataframe\">\n",
       "  <thead>\n",
       "    <tr style=\"text-align: right;\">\n",
       "      <th></th>\n",
       "      <th>Name1</th>\n",
       "      <th>Count1</th>\n",
       "      <th>Name2</th>\n",
       "      <th>Count2</th>\n",
       "      <th>Name3</th>\n",
       "      <th>Count3</th>\n",
       "      <th>Name4</th>\n",
       "      <th>Count4</th>\n",
       "      <th>Name5</th>\n",
       "      <th>Count5</th>\n",
       "      <th>Name6</th>\n",
       "      <th>Count6</th>\n",
       "    </tr>\n",
       "  </thead>\n",
       "  <tbody>\n",
       "    <tr>\n",
       "      <th>0</th>\n",
       "      <td>Mr. McCARTER</td>\n",
       "      <td>3</td>\n",
       "      <td>Senator REED</td>\n",
       "      <td>3</td>\n",
       "      <td>0</td>\n",
       "      <td>0.0</td>\n",
       "      <td>0</td>\n",
       "      <td>0.0</td>\n",
       "      <td>0</td>\n",
       "      <td>0.0</td>\n",
       "      <td>0</td>\n",
       "      <td>0.0</td>\n",
       "    </tr>\n",
       "    <tr>\n",
       "      <th>1</th>\n",
       "      <td>Senator CUMMINS</td>\n",
       "      <td>3</td>\n",
       "      <td>Mr. McCARTER</td>\n",
       "      <td>5</td>\n",
       "      <td>Senator REED</td>\n",
       "      <td>4.0</td>\n",
       "      <td>The CHAIRMAN</td>\n",
       "      <td>4.0</td>\n",
       "      <td>Mr. EMERY</td>\n",
       "      <td>6.0</td>\n",
       "      <td>Senator NELSON</td>\n",
       "      <td>1.0</td>\n",
       "    </tr>\n",
       "    <tr>\n",
       "      <th>2</th>\n",
       "      <td>Mr. McCARTER</td>\n",
       "      <td>3</td>\n",
       "      <td>Mr. EMERY</td>\n",
       "      <td>6</td>\n",
       "      <td>Senator REED</td>\n",
       "      <td>2.0</td>\n",
       "      <td>Senator NELSON</td>\n",
       "      <td>1.0</td>\n",
       "      <td>0</td>\n",
       "      <td>0.0</td>\n",
       "      <td>0</td>\n",
       "      <td>0.0</td>\n",
       "    </tr>\n",
       "    <tr>\n",
       "      <th>3</th>\n",
       "      <td>Mr. Emery</td>\n",
       "      <td>4</td>\n",
       "      <td>Mr. McCarter</td>\n",
       "      <td>5</td>\n",
       "      <td>Senator REED</td>\n",
       "      <td>6.0</td>\n",
       "      <td>Senator Cummins</td>\n",
       "      <td>1.0</td>\n",
       "      <td>The Chairman</td>\n",
       "      <td>2.0</td>\n",
       "      <td>Senator Nelson</td>\n",
       "      <td>5.0</td>\n",
       "    </tr>\n",
       "    <tr>\n",
       "      <th>4</th>\n",
       "      <td>The CHAIRMAN</td>\n",
       "      <td>1</td>\n",
       "      <td>Mr. McCarter</td>\n",
       "      <td>7</td>\n",
       "      <td>Mr. MULHALL</td>\n",
       "      <td>5.0</td>\n",
       "      <td>Mr. EMERY</td>\n",
       "      <td>5.0</td>\n",
       "      <td>Senator REED</td>\n",
       "      <td>3.0</td>\n",
       "      <td>Senator Nelson</td>\n",
       "      <td>1.0</td>\n",
       "    </tr>\n",
       "  </tbody>\n",
       "</table>\n",
       "</div>"
      ],
      "text/plain": [
       "             Name1  Count1         Name2  Count2         Name3  Count3  \\\n",
       "0     Mr. McCARTER       3  Senator REED       3             0     0.0   \n",
       "1  Senator CUMMINS       3  Mr. McCARTER       5  Senator REED     4.0   \n",
       "2     Mr. McCARTER       3     Mr. EMERY       6  Senator REED     2.0   \n",
       "3        Mr. Emery       4  Mr. McCarter       5  Senator REED     6.0   \n",
       "4     The CHAIRMAN       1  Mr. McCarter       7   Mr. MULHALL     5.0   \n",
       "\n",
       "             Name4  Count4         Name5  Count5           Name6  Count6  \n",
       "0                0     0.0             0     0.0               0     0.0  \n",
       "1     The CHAIRMAN     4.0     Mr. EMERY     6.0  Senator NELSON     1.0  \n",
       "2   Senator NELSON     1.0             0     0.0               0     0.0  \n",
       "3  Senator Cummins     1.0  The Chairman     2.0  Senator Nelson     5.0  \n",
       "4        Mr. EMERY     5.0  Senator REED     3.0  Senator Nelson     1.0  "
      ]
     },
     "execution_count": 78,
     "metadata": {},
     "output_type": "execute_result"
    }
   ],
   "source": [
    "# replace NaNs with zeros\n",
    "df = df.fillna(0)\n",
    "df.head()"
   ]
  },
  {
   "cell_type": "markdown",
   "metadata": {},
   "source": [
    "### readTruth function to create CounterDict\n",
    "<a id=\"s7\"></a>"
   ]
  },
  {
   "cell_type": "code",
   "execution_count": 79,
   "metadata": {},
   "outputs": [],
   "source": [
    "def readTruth(df):\n",
    "    \"\"\"copies pairs of columns (i.e., Name2 and Count2) into temp df\"\"\"\n",
    "    counter = Counter()\n",
    "    for i in range(0, len(df.columns), 2):\n",
    "        df_temp = df.iloc[:,i:i+2]\n",
    "        # iterates through temp df and stores counts\n",
    "        for index, row in df_temp.iterrows():\n",
    "            vals = row.values.tolist()\n",
    "            vals[1] = float(vals[1])\n",
    "            try:\n",
    "                counter[vals[0]] += vals[1] # updates the Counter dictionary\n",
    "            except:\n",
    "                pass\n",
    "    return counter"
   ]
  },
  {
   "cell_type": "markdown",
   "metadata": {},
   "source": [
    "### getCloseMatches\n",
    "<a id=\"s8\"></a>"
   ]
  },
  {
   "cell_type": "code",
   "execution_count": 89,
   "metadata": {},
   "outputs": [
    {
     "data": {
      "text/plain": [
       "{'Mr. McCARTER': 17,\n",
       " 'Senator CUMMINS': 1,\n",
       " 'Mr. Emery': 173,\n",
       " 'The CHAIRMAN': 16,\n",
       " 'Senator REED': 62,\n",
       " 'Mr. EMERY': 82,\n",
       " 'Senator WALSH': 7,\n",
       " 'Mr. McCarter': 47,\n",
       " 'Mr EMERY': 82,\n",
       " 'Mr. MULHALL': 6,\n",
       " 'Mr McCARTER': 17,\n",
       " 'Senator NELSON': 6,\n",
       " 'Senator Cummins': 4,\n",
       " 'Senator Walsh': 5,\n",
       " 'Senator Nelson': 10}"
      ]
     },
     "execution_count": 89,
     "metadata": {},
     "output_type": "execute_result"
    }
   ],
   "source": [
    "\"\"\"our counterdict outputs the true counts for each name\"\"\"\n",
    "\n",
    "counter = readTruth(df)\n",
    "\n",
    "def closeMatch(dicto):\n",
    "    names = list(counter.keys())\n",
    "    names.remove(0)\n",
    "    \n",
    "    newDict = {}\n",
    "    for n in names:\n",
    "        matches = difflib.get_close_matches(n, dicto.keys(),cutoff=0.8)\n",
    "        for match in matches:\n",
    "            if n in newDict.keys():\n",
    "                newDict[n] += dicto[match]\n",
    "            else:\n",
    "                newDict[n] = dicto[match]\n",
    "    return newDict\n",
    "\n",
    "countDictG = (closeMatch(counterDictG))\n",
    "countDictV1 = (closeMatch(counterDictV1))\n",
    "countDictT = (closeMatch(counterDictT))\n",
    "\n",
    "countDictT"
   ]
  },
  {
   "cell_type": "markdown",
   "metadata": {},
   "source": [
    "### Compare the “ground truth” results with the OCR result\n",
    "<a id=\"s9\"></a>"
   ]
  },
  {
   "cell_type": "code",
   "execution_count": 90,
   "metadata": {},
   "outputs": [
    {
     "data": {
      "text/plain": [
       "Counter({'Mr. McCARTER': 39.0,\n",
       "         'Senator CUMMINS': 3.0,\n",
       "         'Mr. Emery': 16.0,\n",
       "         'The CHAIRMAN': 28.0,\n",
       "         'Senator REED': 133.0,\n",
       "         'Mr. EMERY': 139.0,\n",
       "         'Senator WALSH': 21.0,\n",
       "         'Mr. McCarter': 17.0,\n",
       "         'Mr EMERY': 33.0,\n",
       "         'Mr. Hughes': 4.0,\n",
       "         0: 0.0,\n",
       "         'Mr. MULHALL': 12.0,\n",
       "         'THE CLERK OF THE COMMITTEE': 2.0,\n",
       "         'Mr McCARTER': 2.0,\n",
       "         'Senator NELSON': 8.0,\n",
       "         'Senator Cummins': 1.0,\n",
       "         'Senator Walsh': 2.0,\n",
       "         'The Chairman': 9.0,\n",
       "         'Mr. Stafford': 1.0,\n",
       "         'Senator Nelson': 6.0})"
      ]
     },
     "execution_count": 90,
     "metadata": {},
     "output_type": "execute_result"
    }
   ],
   "source": [
    "counter"
   ]
  },
  {
   "cell_type": "code",
   "execution_count": 98,
   "metadata": {},
   "outputs": [],
   "source": [
    "def compare(c,gt):\n",
    "    p = 0\n",
    "    for i in c:\n",
    "        if i in gt:\n",
    "            p+=c[i]/gt[i]\n",
    "    return p/len(gt)\n",
    "\n",
    "g = compare(countDictG,counter)\n",
    "t = compare(countDictT,counter)\n",
    "v = compare(countDictV1,counter)"
   ]
  },
  {
   "cell_type": "markdown",
   "metadata": {},
   "source": [
    "#### Comparision Score for version 1 file, tesseract file, and google"
   ]
  },
  {
   "cell_type": "code",
   "execution_count": 102,
   "metadata": {},
   "outputs": [
    {
     "data": {
      "text/plain": [
       "0.7392868317470741"
      ]
     },
     "execution_count": 102,
     "metadata": {},
     "output_type": "execute_result"
    }
   ],
   "source": [
    "v"
   ]
  },
  {
   "cell_type": "code",
   "execution_count": 103,
   "metadata": {},
   "outputs": [
    {
     "data": {
      "text/plain": [
       "1.8354403589474277"
      ]
     },
     "execution_count": 103,
     "metadata": {},
     "output_type": "execute_result"
    }
   ],
   "source": [
    "t"
   ]
  },
  {
   "cell_type": "code",
   "execution_count": 104,
   "metadata": {},
   "outputs": [
    {
     "data": {
      "text/plain": [
       "3.818061203534829"
      ]
     },
     "execution_count": 104,
     "metadata": {},
     "output_type": "execute_result"
    }
   ],
   "source": [
    "g"
   ]
  },
  {
   "cell_type": "markdown",
   "metadata": {},
   "source": [
    "## Interpretation\n",
    "<a id=\"s10\"></a>"
   ]
  },
  {
   "cell_type": "markdown",
   "metadata": {},
   "source": [
    "- Version1 (v): The version 1 OCR had the lowest accuracy since its comparison score post processing was the lowest. This means that it mis-interpreted the most names of the people in the text.\n",
    "- Tesseract (t): Tesseract captured more correctly than V1 but less than Google Cloud.\n",
    "- Google Cloud (g): Note that Google Cloud actually classified more words in the text as names in the ground truth spreadsheet than there actually are. This suggests that it might overcorrect in its interpretation of text. Furthermore, we know that ***Google Cloud software would be the best choice for an OCR project.***"
   ]
  },
  {
   "cell_type": "code",
   "execution_count": null,
   "metadata": {},
   "outputs": [],
   "source": []
  }
 ],
 "metadata": {
  "kernelspec": {
   "display_name": "Python 3",
   "language": "python",
   "name": "python3"
  },
  "language_info": {
   "codemirror_mode": {
    "name": "ipython",
    "version": 3
   },
   "file_extension": ".py",
   "mimetype": "text/x-python",
   "name": "python",
   "nbconvert_exporter": "python",
   "pygments_lexer": "ipython3",
   "version": "3.6.5"
  }
 },
 "nbformat": 4,
 "nbformat_minor": 2
}
