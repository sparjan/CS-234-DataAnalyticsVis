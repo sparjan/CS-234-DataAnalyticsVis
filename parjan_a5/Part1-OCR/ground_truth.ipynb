{
 "cells": [
  {
   "cell_type": "markdown",
   "metadata": {},
   "source": [
    "<h1>Assignment 5: Ground Truth Spreadsheet Reader</h1>\n",
    "<br></br>\n",
    "\n",
    "This notebook reads the [OCR results spreadsheet](https://docs.google.com/spreadsheets/d/1SzoM9PkAnUyaXuTQb-l-6DXCSH3hsI33x-i8v3ir-3I/edit#gid=0) and generates a Counter dictionary."
   ]
  },
  {
   "cell_type": "markdown",
   "metadata": {},
   "source": [
    "Table of contents:\n",
    "* [Read from CSV](#csv)\n",
    "* [Read from Google Sheets](#sheets)"
   ]
  },
  {
   "cell_type": "markdown",
   "metadata": {},
   "source": [
    "## Read from CSV\n",
    "\n",
    "Download the [OCR results spreadsheet](https://docs.google.com/spreadsheets/d/1SzoM9PkAnUyaXuTQb-l-6DXCSH3hsI33x-i8v3ir-3I/edit#gid=0) as a CSV in the Google Sheets interface and make sure it's in the same directory as your part 1 notebook. Copy and paste the following code in your part 1 notebook to get the counter."
   ]
  },
  {
   "cell_type": "code",
   "execution_count": null,
   "metadata": {},
   "outputs": [],
   "source": [
    "import pandas as pd\n",
    "from collections import Counter\n",
    "\n",
    "df = pd.read_csv('results.csv')\n",
    "df.head()"
   ]
  },
  {
   "cell_type": "code",
   "execution_count": null,
   "metadata": {},
   "outputs": [],
   "source": [
    "# remove columns we don't need\n",
    "df.drop(['Page #', 'Student'], axis=1, inplace=True)\n",
    "df.head()"
   ]
  },
  {
   "cell_type": "code",
   "execution_count": null,
   "metadata": {},
   "outputs": [],
   "source": [
    "# replace NaNs with zeros\n",
    "df = df.fillna(0)\n",
    "df.head()"
   ]
  },
  {
   "cell_type": "code",
   "execution_count": null,
   "metadata": {},
   "outputs": [],
   "source": [
    "def readTruth(df):\n",
    "    \"\"\"copies pairs of columns (i.e., Name2 and Count2) into temp df\"\"\"\n",
    "    counter = Counter()\n",
    "    for i in range(0, len(df.columns), 2):\n",
    "        df_temp = df.iloc[:,i:i+2]\n",
    "        # iterates through temp df and stores counts\n",
    "        for index, row in df_temp.iterrows():\n",
    "            vals = row.values.tolist()\n",
    "            vals[1] = float(vals[1])\n",
    "            try:\n",
    "                counter[vals[0].lower()] += vals[1] # updates the Counter dictionary\n",
    "            except:\n",
    "                pass\n",
    "    return counter"
   ]
  },
  {
   "cell_type": "code",
   "execution_count": null,
   "metadata": {},
   "outputs": [],
   "source": [
    "counter = readTruth(df)\n",
    "counter"
   ]
  },
  {
   "cell_type": "markdown",
   "metadata": {},
   "source": [
    "You can stop here if you just want to get the counter from the CSV––if you want to learn how to read dynamically from Google Sheets, keep reading."
   ]
  },
  {
   "cell_type": "markdown",
   "metadata": {},
   "source": [
    "## Read from Google Sheets<a class=\"anchor\" id=\"sheets\"></a>"
   ]
  },
  {
   "cell_type": "markdown",
   "metadata": {},
   "source": [
    "The Sheets API allows your code to copy over everything from the live Google Spreadsheet. This is useful if the data changes over time; in our case, maybe some students haven't added their counts yet. Instead of downloading a new CSV every time there's an update, we can ues the Sheets API to grab everything from our spreadsheet just by running a cell."
   ]
  },
  {
   "cell_type": "markdown",
   "metadata": {},
   "source": [
    "### Setting Up"
   ]
  },
  {
   "cell_type": "markdown",
   "metadata": {},
   "source": [
    "Using the Sheets API requires a little bit of set-up.\n",
    "\n",
    "Kevin McLaughlin wrote [a good tutorial](https://socraticowl.com/post/integrate-google-sheets-and-jupyter-notebooks/) for using the Google Sheets API in a Jupyter Notebook. However, it's a little bit outdated and includes a rather long extra step––if you're following his instructions, you'll need to enable the <b>Google Sheets API</b>, not the Google Drive API. You can skip the step 'Create credentials to use the Google Drive API' and go right to 'Create Service Account credentials,' where you'll be instructed to create a Service Account.\n",
    "\n",
    "Here's a summary of the steps:\n",
    "* Create your Google Developer Credentials\n",
    "    * Create a Google Developer Project in the [Google Developer Console](https://console.developers.google.com/project)\n",
    "    * Enable the Google Sheets API in your new project\n",
    "    * Create a service account to use the Google Sheets API\n",
    "    * Download the credentials json and store with the notebook file\n",
    "* Install the gspread wrapper for Python\n",
    "    * `pip install gspread oauth2client sf2gspread`\n",
    "    * [gspread docs](https://gspread.readthedocs.io/en/latest/)\n",
    "* Share the Google sheet with your service account's `client_email` from your json file\n",
    "* Read Google sheet data into Jupyter notebook\n",
    "    * Import libraries\n",
    "    * Connect to your service account\n",
    "    * Import the data\n",
    "    * Convert the data into a pandas dataframe\n",
    "* Write to the Google Sheet"
   ]
  },
  {
   "cell_type": "markdown",
   "metadata": {},
   "source": [
    "### Import gspread and Authorize Access"
   ]
  },
  {
   "cell_type": "code",
   "execution_count": null,
   "metadata": {},
   "outputs": [],
   "source": [
    "import gspread\n",
    "from oauth2client.service_account import ServiceAccountCredentials\n",
    "\n",
    "scope = ['https://spreadsheets.google.com/feeds']\n",
    "credentials = ServiceAccountCredentials.from_json_keyfile_name('./credentials.json', scope)\n",
    "gc = gspread.authorize(credentials)"
   ]
  },
  {
   "cell_type": "markdown",
   "metadata": {},
   "source": [
    "### 'Open' the Spreadsheet and Read Data"
   ]
  },
  {
   "cell_type": "code",
   "execution_count": null,
   "metadata": {},
   "outputs": [],
   "source": [
    "# the spreadsheet key comes from the URL of our spreadsheet\n",
    "spreadsheet_key = '1SzoM9PkAnUyaXuTQb-l-6DXCSH3hsI33x-i8v3ir-3I'\n",
    "\n",
    "book = gc.open_by_key(spreadsheet_key)\n",
    "worksheet = book.worksheet(\"Sheet1\")\n",
    "table = worksheet.get_all_values()\n",
    "\n",
    "# each row becomes a list, even the column headers\n",
    "table[0:2]"
   ]
  },
  {
   "cell_type": "markdown",
   "metadata": {},
   "source": [
    "### Convert Table to a DataFrame"
   ]
  },
  {
   "cell_type": "code",
   "execution_count": null,
   "metadata": {},
   "outputs": [],
   "source": [
    "dfs = pd.DataFrame(table[1:], columns=table[0])\n",
    "\n",
    "# remove the cols we don't need\n",
    "dfs.drop(['Page #', 'Student'], axis=1, inplace=True)\n",
    "\n",
    "# replace blanks with zeros\n",
    "dfs.replace(r'^\\s*$', 0, regex=True, inplace=True)\n",
    "\n",
    "dfs.head()"
   ]
  },
  {
   "cell_type": "markdown",
   "metadata": {},
   "source": [
    "### Use the Function From Earlier to Generate a Counter"
   ]
  },
  {
   "cell_type": "code",
   "execution_count": null,
   "metadata": {},
   "outputs": [],
   "source": [
    "sheet_counter = readTruth(dfs)\n",
    "sheet_counter"
   ]
  },
  {
   "cell_type": "markdown",
   "metadata": {},
   "source": [
    "### Write the Totals Back to Our Sheet (in a new worksheet called 'Totals')"
   ]
  },
  {
   "cell_type": "markdown",
   "metadata": {},
   "source": [
    "If we want to write this counter information to our Google Sheet, we can start by making a new DataFrame from our counter."
   ]
  },
  {
   "cell_type": "code",
   "execution_count": null,
   "metadata": {},
   "outputs": [],
   "source": [
    "df_totals = pd.DataFrame.from_dict(sheet_counter, orient='index')\n",
    "df_totals.rename(columns={0: 'count'}, inplace=True)\n",
    "\n",
    "df_totals"
   ]
  },
  {
   "cell_type": "markdown",
   "metadata": {},
   "source": [
    "We set our worksheet name to 'Totals' and use another gspread package, df2gspread, which helps us upload a DataFrame to a spreadsheet."
   ]
  },
  {
   "cell_type": "code",
   "execution_count": null,
   "metadata": {},
   "outputs": [],
   "source": [
    "from df2gspread import df2gspread as d2g\n",
    "\n",
    "wks_name = 'Totals'\n",
    "d2g.upload(df_totals, spreadsheet_key, wks_name, credentials=credentials, row_names=True)"
   ]
  }
 ],
 "metadata": {
  "kernelspec": {
   "display_name": "Python 3",
   "language": "python",
   "name": "python3"
  },
  "language_info": {
   "codemirror_mode": {
    "name": "ipython",
    "version": 3
   },
   "file_extension": ".py",
   "mimetype": "text/x-python",
   "name": "python",
   "nbconvert_exporter": "python",
   "pygments_lexer": "ipython3",
   "version": "3.6.5"
  }
 },
 "nbformat": 4,
 "nbformat_minor": 2
}
