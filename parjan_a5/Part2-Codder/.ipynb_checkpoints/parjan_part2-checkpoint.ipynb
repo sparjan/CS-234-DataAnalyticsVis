{
 "cells": [
  {
   "cell_type": "markdown",
   "metadata": {},
   "source": [
    "# Assignment 5\n",
    "# Part 2: Time Series w CS 111 Codder Software Data\n",
    "\n",
    "Author: Shreya Parjan\n",
    "\n",
    "24 Oct 2019\n",
    "\n",
    "This is an open-ended problem that will help the CS 111 staff. Our goal is to upload the provided CSV into Pandas, create an index that is a DateTimeIndex, perform various kinds of resampling and generate various insights from the data.\n",
    "\n",
    "The CS111 staff is eager to learn as much as possible from the data and will use our work for pedagogical interventions.\n",
    "\n",
    "**Codder** is a web-based service where CS111 students submit their code and it tells them whether they got it correctly or not. Thus, every row in the dataframe is one submission that a particular student has done to Codder for one of their tasks in a particular pset. Students have often multiple successive submissions, while they fix their errors with Codder’s help."
   ]
  },
  {
   "cell_type": "markdown",
   "metadata": {},
   "source": [
    "## Table of contents\n",
    "1. [Read in CSV](#s0)\n",
    "2. [Convert timestamp to datetime Object and make df index](#s1)\n",
    "3. [Data Exploration](#s2)\n",
    "4. [Preliminary Visualization: How do revisions through Codder vary over the semester?](#s3)\n",
    "5. [More Visualizations](#s4)\n",
    "    - [Q2: Which assignments had the most submissions to Codder? How does the distribution of submissions per student vary with each assignment?](#s5)\n",
    "    - [TIMESERIES Q3: On the assignment with the most revisions, how long did the student with the most revisions work between changes?](#s6)"
   ]
  },
  {
   "cell_type": "markdown",
   "metadata": {},
   "source": [
    "## 1. Read In CSV\n",
    "<a id=\"s0\"></a>"
   ]
  },
  {
   "cell_type": "code",
   "execution_count": 133,
   "metadata": {},
   "outputs": [],
   "source": [
    "import pandas as pd\n",
    "import numpy as np"
   ]
  },
  {
   "cell_type": "code",
   "execution_count": 134,
   "metadata": {},
   "outputs": [],
   "source": [
    "# reads in the initial untransformed data from Excel\n",
    "data = pd.read_csv(\"cs111-codder-uploads-s19.csv\")"
   ]
  },
  {
   "cell_type": "code",
   "execution_count": 135,
   "metadata": {},
   "outputs": [
    {
     "data": {
      "text/html": [
       "<div>\n",
       "<style scoped>\n",
       "    .dataframe tbody tr th:only-of-type {\n",
       "        vertical-align: middle;\n",
       "    }\n",
       "\n",
       "    .dataframe tbody tr th {\n",
       "        vertical-align: top;\n",
       "    }\n",
       "\n",
       "    .dataframe thead th {\n",
       "        text-align: right;\n",
       "    }\n",
       "</style>\n",
       "<table border=\"1\" class=\"dataframe\">\n",
       "  <thead>\n",
       "    <tr style=\"text-align: right;\">\n",
       "      <th></th>\n",
       "      <th>psetID</th>\n",
       "      <th>taskID</th>\n",
       "      <th>taskName</th>\n",
       "      <th>student</th>\n",
       "      <th>timestamp</th>\n",
       "    </tr>\n",
       "  </thead>\n",
       "  <tbody>\n",
       "    <tr>\n",
       "      <th>0</th>\n",
       "      <td>ps01</td>\n",
       "      <td>task1</td>\n",
       "      <td>debugNumsFixed</td>\n",
       "      <td>s000</td>\n",
       "      <td>20190204-161323</td>\n",
       "    </tr>\n",
       "    <tr>\n",
       "      <th>1</th>\n",
       "      <td>ps01</td>\n",
       "      <td>task1</td>\n",
       "      <td>debugNumsFixed</td>\n",
       "      <td>s000</td>\n",
       "      <td>20190204-161347</td>\n",
       "    </tr>\n",
       "    <tr>\n",
       "      <th>2</th>\n",
       "      <td>ps01</td>\n",
       "      <td>task1</td>\n",
       "      <td>debugNumsFixed</td>\n",
       "      <td>s000</td>\n",
       "      <td>20190204-180039</td>\n",
       "    </tr>\n",
       "    <tr>\n",
       "      <th>3</th>\n",
       "      <td>ps01</td>\n",
       "      <td>task1</td>\n",
       "      <td>debugNumsFixed</td>\n",
       "      <td>s000</td>\n",
       "      <td>20190205-205818</td>\n",
       "    </tr>\n",
       "    <tr>\n",
       "      <th>4</th>\n",
       "      <td>ps01</td>\n",
       "      <td>task1</td>\n",
       "      <td>debugNumsFixed</td>\n",
       "      <td>s000</td>\n",
       "      <td>20190205-210937</td>\n",
       "    </tr>\n",
       "  </tbody>\n",
       "</table>\n",
       "</div>"
      ],
      "text/plain": [
       "  psetID taskID        taskName student        timestamp\n",
       "0   ps01  task1  debugNumsFixed    s000  20190204-161323\n",
       "1   ps01  task1  debugNumsFixed    s000  20190204-161347\n",
       "2   ps01  task1  debugNumsFixed    s000  20190204-180039\n",
       "3   ps01  task1  debugNumsFixed    s000  20190205-205818\n",
       "4   ps01  task1  debugNumsFixed    s000  20190205-210937"
      ]
     },
     "execution_count": 135,
     "metadata": {},
     "output_type": "execute_result"
    }
   ],
   "source": [
    "data.head()"
   ]
  },
  {
   "cell_type": "markdown",
   "metadata": {},
   "source": [
    "## 2. Convert timestamp to datetime Object and make df index\n",
    "<a id=\"s1\"></a>"
   ]
  },
  {
   "cell_type": "code",
   "execution_count": 136,
   "metadata": {},
   "outputs": [],
   "source": [
    "data['timestamp'] =  pd.to_datetime(data['timestamp'], format='%Y%m%d-%H%M%S',errors='ignore')"
   ]
  },
  {
   "cell_type": "code",
   "execution_count": 137,
   "metadata": {},
   "outputs": [
    {
     "data": {
      "text/html": [
       "<div>\n",
       "<style scoped>\n",
       "    .dataframe tbody tr th:only-of-type {\n",
       "        vertical-align: middle;\n",
       "    }\n",
       "\n",
       "    .dataframe tbody tr th {\n",
       "        vertical-align: top;\n",
       "    }\n",
       "\n",
       "    .dataframe thead th {\n",
       "        text-align: right;\n",
       "    }\n",
       "</style>\n",
       "<table border=\"1\" class=\"dataframe\">\n",
       "  <thead>\n",
       "    <tr style=\"text-align: right;\">\n",
       "      <th></th>\n",
       "      <th>psetID</th>\n",
       "      <th>taskID</th>\n",
       "      <th>taskName</th>\n",
       "      <th>student</th>\n",
       "    </tr>\n",
       "    <tr>\n",
       "      <th>timestamp</th>\n",
       "      <th></th>\n",
       "      <th></th>\n",
       "      <th></th>\n",
       "      <th></th>\n",
       "    </tr>\n",
       "  </thead>\n",
       "  <tbody>\n",
       "    <tr>\n",
       "      <th>2019-02-04 16:13:23</th>\n",
       "      <td>ps01</td>\n",
       "      <td>task1</td>\n",
       "      <td>debugNumsFixed</td>\n",
       "      <td>s000</td>\n",
       "    </tr>\n",
       "    <tr>\n",
       "      <th>2019-02-04 16:13:47</th>\n",
       "      <td>ps01</td>\n",
       "      <td>task1</td>\n",
       "      <td>debugNumsFixed</td>\n",
       "      <td>s000</td>\n",
       "    </tr>\n",
       "    <tr>\n",
       "      <th>2019-02-04 18:00:39</th>\n",
       "      <td>ps01</td>\n",
       "      <td>task1</td>\n",
       "      <td>debugNumsFixed</td>\n",
       "      <td>s000</td>\n",
       "    </tr>\n",
       "    <tr>\n",
       "      <th>2019-02-05 20:58:18</th>\n",
       "      <td>ps01</td>\n",
       "      <td>task1</td>\n",
       "      <td>debugNumsFixed</td>\n",
       "      <td>s000</td>\n",
       "    </tr>\n",
       "    <tr>\n",
       "      <th>2019-02-05 21:09:37</th>\n",
       "      <td>ps01</td>\n",
       "      <td>task1</td>\n",
       "      <td>debugNumsFixed</td>\n",
       "      <td>s000</td>\n",
       "    </tr>\n",
       "  </tbody>\n",
       "</table>\n",
       "</div>"
      ],
      "text/plain": [
       "                    psetID taskID        taskName student\n",
       "timestamp                                                \n",
       "2019-02-04 16:13:23   ps01  task1  debugNumsFixed    s000\n",
       "2019-02-04 16:13:47   ps01  task1  debugNumsFixed    s000\n",
       "2019-02-04 18:00:39   ps01  task1  debugNumsFixed    s000\n",
       "2019-02-05 20:58:18   ps01  task1  debugNumsFixed    s000\n",
       "2019-02-05 21:09:37   ps01  task1  debugNumsFixed    s000"
      ]
     },
     "execution_count": 137,
     "metadata": {},
     "output_type": "execute_result"
    }
   ],
   "source": [
    "df = data.set_index('timestamp')\n",
    "df.head()"
   ]
  },
  {
   "cell_type": "code",
   "execution_count": 138,
   "metadata": {},
   "outputs": [
    {
     "data": {
      "text/plain": [
       "(16378, 4)"
      ]
     },
     "execution_count": 138,
     "metadata": {},
     "output_type": "execute_result"
    }
   ],
   "source": [
    "df.shape"
   ]
  },
  {
   "cell_type": "markdown",
   "metadata": {},
   "source": [
    "## 3. Data Exploration\n",
    "<a id=\"s2\"></a>"
   ]
  },
  {
   "cell_type": "markdown",
   "metadata": {},
   "source": [
    "I wanted to first see how many unique tasks were in the datasets, as well as how many unique students we had. I used the unique() function to find this from our Series dataframe."
   ]
  },
  {
   "cell_type": "code",
   "execution_count": 139,
   "metadata": {},
   "outputs": [
    {
     "name": "stdout",
     "output_type": "stream",
     "text": [
      "['debugNumsFixed' 'timeProfiler' 'debugGraphicsFixed' 'bunnyMoneyMosaic'\n",
      " 'diamonds' 'butterflies' 'rockPaperScissors' 'blobSimulator' 'wordplay'\n",
      " 'circles' 'memDiagram' 'wordsearch' 'sumGame' 'longestVowelSubstrings'\n",
      " 'replaceVowelSequences' 'debugging' 'analyze' 'titanic' 'unjumble'\n",
      " 'distributions' 'hourglass' 'drawLs' 'shrub' 'recursiveSquares']\n",
      "['s000' 's001' 's002' 's003' 's004' 's005' 's006' 's007' 's008' 's009'\n",
      " 's010' 's011' 's012' 's013' 's014' 's015' 's016' 's017' 's018' 's019'\n",
      " 's020' 's021' 's022' 's023' 's024' 's025' 's026' 's028' 's029' 's030'\n",
      " 's033' 's034' 's035' 's036' 's037' 's038' 's039' 's040' 's041' 's042'\n",
      " 's043' 's044' 's045' 's046' 's047' 's048' 's049' 's050' 's051' 's052'\n",
      " 's053' 's054' 's055' 's056' 's057' 's058' 's059' 's060' 's061' 's062'\n",
      " 's063' 's064' 's065' 's066' 's067' 's068' 's069' 's070' 's071' 's072'\n",
      " 's073' 's074' 's075' 's077' 's078' 's079' 's080' 's081' 's082' 's083'\n",
      " 's084' 's085' 's086' 's087' 's088' 's089' 's090' 's091' 's092' 's093'\n",
      " 's094' 's096' 's097' 's098' 's099' 's100' 's101' 's102' 's103' 's104'\n",
      " 's105' 's106' 's107' 's108' 's109' 's110' 's111' 's027' 's032' 's076'\n",
      " 's095']\n"
     ]
    }
   ],
   "source": [
    "tasks = pd.Series(df['taskName']).unique()\n",
    "students = pd.Series(df['student']).unique()\n",
    "print(tasks)\n",
    "print(students)"
   ]
  },
  {
   "cell_type": "markdown",
   "metadata": {},
   "source": [
    "I also wanted to see how I could extract the information on a particular student from the dataframe. "
   ]
  },
  {
   "cell_type": "code",
   "execution_count": 140,
   "metadata": {},
   "outputs": [
    {
     "data": {
      "text/html": [
       "<div>\n",
       "<style scoped>\n",
       "    .dataframe tbody tr th:only-of-type {\n",
       "        vertical-align: middle;\n",
       "    }\n",
       "\n",
       "    .dataframe tbody tr th {\n",
       "        vertical-align: top;\n",
       "    }\n",
       "\n",
       "    .dataframe thead th {\n",
       "        text-align: right;\n",
       "    }\n",
       "</style>\n",
       "<table border=\"1\" class=\"dataframe\">\n",
       "  <thead>\n",
       "    <tr style=\"text-align: right;\">\n",
       "      <th></th>\n",
       "      <th>psetID</th>\n",
       "      <th>taskID</th>\n",
       "      <th>taskName</th>\n",
       "      <th>student</th>\n",
       "    </tr>\n",
       "    <tr>\n",
       "      <th>timestamp</th>\n",
       "      <th></th>\n",
       "      <th></th>\n",
       "      <th></th>\n",
       "      <th></th>\n",
       "    </tr>\n",
       "  </thead>\n",
       "  <tbody>\n",
       "    <tr>\n",
       "      <th>2019-02-04 20:50:59</th>\n",
       "      <td>ps01</td>\n",
       "      <td>task1</td>\n",
       "      <td>debugNumsFixed</td>\n",
       "      <td>s069</td>\n",
       "    </tr>\n",
       "    <tr>\n",
       "      <th>2019-02-04 20:55:40</th>\n",
       "      <td>ps01</td>\n",
       "      <td>task1</td>\n",
       "      <td>debugNumsFixed</td>\n",
       "      <td>s069</td>\n",
       "    </tr>\n",
       "    <tr>\n",
       "      <th>2019-02-04 21:00:40</th>\n",
       "      <td>ps01</td>\n",
       "      <td>task1</td>\n",
       "      <td>debugNumsFixed</td>\n",
       "      <td>s069</td>\n",
       "    </tr>\n",
       "    <tr>\n",
       "      <th>2019-02-04 21:01:39</th>\n",
       "      <td>ps01</td>\n",
       "      <td>task1</td>\n",
       "      <td>debugNumsFixed</td>\n",
       "      <td>s069</td>\n",
       "    </tr>\n",
       "    <tr>\n",
       "      <th>2019-02-04 21:02:52</th>\n",
       "      <td>ps01</td>\n",
       "      <td>task2</td>\n",
       "      <td>timeProfiler</td>\n",
       "      <td>s069</td>\n",
       "    </tr>\n",
       "  </tbody>\n",
       "</table>\n",
       "</div>"
      ],
      "text/plain": [
       "                    psetID taskID        taskName student\n",
       "timestamp                                                \n",
       "2019-02-04 20:50:59   ps01  task1  debugNumsFixed    s069\n",
       "2019-02-04 20:55:40   ps01  task1  debugNumsFixed    s069\n",
       "2019-02-04 21:00:40   ps01  task1  debugNumsFixed    s069\n",
       "2019-02-04 21:01:39   ps01  task1  debugNumsFixed    s069\n",
       "2019-02-04 21:02:52   ps01  task2    timeProfiler    s069"
      ]
     },
     "execution_count": 140,
     "metadata": {},
     "output_type": "execute_result"
    }
   ],
   "source": [
    "s0 = df[df['student']=='s069']\n",
    "s0.head()"
   ]
  },
  {
   "cell_type": "markdown",
   "metadata": {},
   "source": [
    "## 4. Preliminary Visualization: How do revisions through Codder vary over the semester?\n",
    "<a id=\"s3\"></a>\n",
    "At first, I was interested in tracking the revisions over time. I thought this would be helpful for the CS 111 staff to see if students might become more autonomous and less dependent on Codder over time. However, I realized that filtering by month (the most effective allowed in the status quo data) still didn't provide us with a great deal of insight:"
   ]
  },
  {
   "cell_type": "code",
   "execution_count": 141,
   "metadata": {},
   "outputs": [
    {
     "data": {
      "text/plain": [
       "<matplotlib.axes._subplots.AxesSubplot at 0x11cea7780>"
      ]
     },
     "execution_count": 141,
     "metadata": {},
     "output_type": "execute_result"
    },
    {
     "data": {
      "image/png": "[encoded data removed]",
      "text/plain": [
       "<Figure size 576x360 with 1 Axes>"
      ]
     },
     "metadata": {},
     "output_type": "display_data"
    }
   ],
   "source": [
    "revByWeek = df.resample('M').count()\n",
    "revByWeek.plot(figsize=(8,5), title=\"Number of revisions by month\",legend=False)"
   ]
  },
  {
   "cell_type": "markdown",
   "metadata": {},
   "source": [
    "**Figure 1. Revisions per month across all tasks**: This line graph shows that revisions and resubmissions to Codder peak early in the course as students start working on projects in the class and fluctuates only a little before decreasing steeply as the class comes to an end. \n",
    "\n",
    "Figure 1 didn't end up giving me a lot of insight that I thought the course staff would find helpful, since it just says that students use Codder while working on assignments and then their use peters out as the class ends.\n",
    "\n",
    "Going forward, I decided to refine my questions:"
   ]
  },
  {
   "cell_type": "markdown",
   "metadata": {},
   "source": [
    "## 5. More Visualizations\n",
    "<a id=\"s4\"></a>"
   ]
  },
  {
   "cell_type": "markdown",
   "metadata": {},
   "source": [
    "## Q2: Which assignments had the most submissions to Codder? How does the distribution of submissions per student vary with each assignment?\n",
    "<a id=\"s5\"></a>\n",
    "This might be useful to staff in determining which assignments students struggle the most with and adjusting the content/support available to them accordingly."
   ]
  },
  {
   "cell_type": "markdown",
   "metadata": {},
   "source": [
    "First, let's get the count of which assignment has the most revisions:"
   ]
  },
  {
   "cell_type": "code",
   "execution_count": 142,
   "metadata": {},
   "outputs": [
    {
     "data": {
      "text/plain": [
       "distributions        1583\n",
       "unjumble             1325\n",
       "analyze              1208\n",
       "circles              1175\n",
       "timeProfiler         1142\n",
       "rockPaperScissors    1011\n",
       "wordsearch            858\n",
       "sumGame               847\n",
       "blobSimulator         746\n",
       "wordplay              736\n",
       "Name: taskName, dtype: int64"
      ]
     },
     "execution_count": 142,
     "metadata": {},
     "output_type": "execute_result"
    }
   ],
   "source": [
    "# two ways of doing this: either take the mode or use value_counts() and read off the highest one\n",
    "df.taskName.mode()\n",
    "df['taskName'].value_counts()[:10]"
   ]
  },
  {
   "cell_type": "markdown",
   "metadata": {},
   "source": [
    "\"distributions\" has the most revisions (1583)\n",
    "\n",
    "More generally, what's the distribution of revisions across all assignments? We find this out by extracting the counts from each assignment, putting them into a list, and making a boxplot of our results."
   ]
  },
  {
   "cell_type": "code",
   "execution_count": 143,
   "metadata": {},
   "outputs": [
    {
     "data": {
      "text/plain": [
       "array([1583., 1325., 1208., 1175., 1142., 1011.,  858.,  847.,  746.,\n",
       "        736.,  621.,  615.,  567.,  566.,  562.,  539.,  458.,  432.,\n",
       "        366.,  289.,  276.,  247.,  116.,   93.])"
      ]
     },
     "execution_count": 143,
     "metadata": {},
     "output_type": "execute_result"
    }
   ],
   "source": [
    "df['taskName'].value_counts()\n",
    "i = 0\n",
    "arr1 = np.zeros(len(df['taskName'].value_counts()))\n",
    "while i<len(df['taskName'].value_counts()):\n",
    "    arr1[i] = df['taskName'].value_counts()[i]\n",
    "    i+=1\n",
    "arr1"
   ]
  },
  {
   "cell_type": "code",
   "execution_count": 144,
   "metadata": {},
   "outputs": [
    {
     "data": {
      "text/plain": [
       "Text(0.5,1,'Distribution of revisions across all assignments')"
      ]
     },
     "execution_count": 144,
     "metadata": {},
     "output_type": "execute_result"
    },
    {
     "data": {
      "image/png": "[encoded data removed]",
      "text/plain": [
       "<Figure size 432x288 with 1 Axes>"
      ]
     },
     "metadata": {},
     "output_type": "display_data"
    }
   ],
   "source": [
    "import matplotlib.pyplot as plt \n",
    "bp = plt.boxplot(arr1)\n",
    "plt.ylabel('Revisions')\n",
    "plt.title('Distribution of revisions across all assignments')"
   ]
  },
  {
   "cell_type": "markdown",
   "metadata": {},
   "source": [
    "**Figure 2. Distribution of revisions across all tasks**: This box plot shows that assignments have an average of 600 submissions total. However, a limitation of this is that we can't see the distribution of students' submissions for individual assignments. I'm interested in this because it can reveal 1) what assignments students broadly find more challenging and 2) help a professor identify if there are a few students who are submitting a very high number of revisions and may need more help.\n",
    "\n",
    "\n",
    "\n",
    "I decided to explore this a little more by first exploring the distribution of individual students' revisions for the assignment we found had the most revisiosn: \"distributions\":"
   ]
  },
  {
   "cell_type": "code",
   "execution_count": 145,
   "metadata": {},
   "outputs": [],
   "source": [
    "dfDistributions = df.loc[df['taskName'] == \"distributions\"]"
   ]
  },
  {
   "cell_type": "markdown",
   "metadata": {},
   "source": [
    "student 103 made the most revisions:"
   ]
  },
  {
   "cell_type": "code",
   "execution_count": 146,
   "metadata": {},
   "outputs": [
    {
     "data": {
      "text/plain": [
       "s103    219\n",
       "s054     72\n",
       "s102     68\n",
       "s014     40\n",
       "s098     39\n",
       "s076     39\n",
       "s081     38\n",
       "s086     35\n",
       "s055     33\n",
       "s001     30\n",
       "Name: student, dtype: int64"
      ]
     },
     "execution_count": 146,
     "metadata": {},
     "output_type": "execute_result"
    }
   ],
   "source": [
    "dfDistributions['student'].value_counts()[:10]"
   ]
  },
  {
   "cell_type": "code",
   "execution_count": 147,
   "metadata": {},
   "outputs": [
    {
     "data": {
      "text/plain": [
       "array([219.,  72.,  68.,  40.,  39.,  39.,  38.,  35.,  33.,  30.,  29.,\n",
       "        29.,  29.,  28.,  28.,  27.,  25.,  25.,  24.,  24.,  24.,  23.,\n",
       "        21.,  20.,  20.,  18.,  18.,  18.,  17.,  17.,  16.,  16.,  16.,\n",
       "        15.,  15.,  15.,  15.,  15.,  15.,  14.,  14.,  13.,  13.,  13.,\n",
       "        13.,  13.,  13.,  12.,  12.,  11.,  11.,  11.,  11.,  11.,  10.,\n",
       "        10.,  10.,  10.,  10.,   9.,   9.,   8.,   8.,   8.,   7.,   7.,\n",
       "         7.,   7.,   7.,   6.,   6.,   5.,   4.,   4.,   4.,   3.,   3.,\n",
       "         3.,   3.,   2.,   2.,   2.,   1.,   1.,   1.,   1.,   1.,   1.,\n",
       "         1.,   1.,   1.])"
      ]
     },
     "execution_count": 147,
     "metadata": {},
     "output_type": "execute_result"
    }
   ],
   "source": [
    "dfDistributions['student'].value_counts()\n",
    "i = 0\n",
    "arr2 = np.zeros(len(dfDistributions['student'].value_counts()))\n",
    "while i<len(dfDistributions['student'].value_counts()):\n",
    "    arr2[i] = dfDistributions['student'].value_counts()[i]\n",
    "    i+=1\n",
    "arr2"
   ]
  },
  {
   "cell_type": "code",
   "execution_count": 148,
   "metadata": {},
   "outputs": [
    {
     "data": {
      "text/plain": [
       "Text(0.5,1,\"Distribution of revisions for 'distributions' project\")"
      ]
     },
     "execution_count": 148,
     "metadata": {},
     "output_type": "execute_result"
    },
    {
     "data": {
      "image/png": "[encoded data removed]",
      "text/plain": [
       "<Figure size 432x288 with 1 Axes>"
      ]
     },
     "metadata": {},
     "output_type": "display_data"
    }
   ],
   "source": [
    "bp = plt.boxplot(arr2)\n",
    "plt.ylabel('Revisions')\n",
    "plt.title(\"Distribution of revisions for 'distributions' project\")"
   ]
  },
  {
   "cell_type": "markdown",
   "metadata": {},
   "source": [
    "**Figure 3. Distribution of revisions for \"distributions\" project**: This box plot shows the distribution of submissions for students who turned in the distributions project. It tells us that there is one extreme outlier who submitted over 200 revisions whereas the average student made ~20 revisions only. This tells us that either a student is abusing Codder or was seriously struggling with the assignment and would possibly benefit from extra support. "
   ]
  },
  {
   "cell_type": "markdown",
   "metadata": {},
   "source": [
    "Finally, to answer the question I posed above, I decided to replicate my analysis of revisions within a given project for the CS 111 projects with the most submissions. To do so, I looped through a list of assignments and made a dataframe for each of them. For this dataframe, I extracted the unique values corresponding to each student and the number of revisions each of these students made for that assignment. I saved these temp arrays to a larger matrix and made a boxplot from the data it contains."
   ]
  },
  {
   "cell_type": "code",
   "execution_count": 149,
   "metadata": {},
   "outputs": [
    {
     "data": {
      "image/png": "[encoded data removed]",
      "text/plain": [
       "<Figure size 432x288 with 1 Axes>"
      ]
     },
     "metadata": {},
     "output_type": "display_data"
    }
   ],
   "source": [
    "taskArr = []\n",
    "topTasks = ['distributions','unjumble','analyze','circles','timeProfiler','rockPaperScissors','wordsearch','sumGame','blobSimulator','wordplay']\n",
    "i = 0\n",
    "while i < len(topTasks):\n",
    "    dfSpecific = df.loc[df['taskName'] == topTasks[i]]\n",
    "    j = 0\n",
    "    arr3 = np.zeros(len(dfSpecific['student'].value_counts()))\n",
    "    while j<len(dfSpecific['student'].value_counts()):\n",
    "        arr3[j] = dfSpecific['student'].value_counts()[j]\n",
    "        j+=1\n",
    "    taskArr.append(arr3)\n",
    "    i+=1\n",
    "bp = plt.boxplot(taskArr, labels = topTasks,vert=False)\n",
    "plt.xticks(rotation=90)\n",
    "plt.xlabel('Revisions')\n",
    "plt.ylabel('Assignment')\n",
    "plt.title('Distribution of revisions for each assignment')\n",
    "plt.show()\n"
   ]
  },
  {
   "cell_type": "markdown",
   "metadata": {},
   "source": [
    "**Figure 4. Distribution of revisions for each assignment**: This set of box plots shows the distribution of student revisions for all projects. It tells us that the bulk of students submit between 10-20 revisions for each project, but we have outliers for every project. The outlier mentioned previously from 'distributions' remains interesting because this student submitted the most revisions of all students out of every assignment."
   ]
  },
  {
   "cell_type": "markdown",
   "metadata": {},
   "source": [
    "## TIMESERIES Q3: On the assignment with the most revisions, how long did the student with the most revisions work between changes?\n",
    "<a id=\"s6\"></a>\n",
    "I was interested in this slightly complicated question because I thought it was odd that one student had so many more revisions than the rest of the class. I wanted to know whether this student worked on the project for a long time in between submitting, suggesting a need for more support overall with the project, or if they just submitted a lot in a short burst of time, suggesting more desperation on their part. For the CS 111 staff, we can treat this like a small case study on how students who might need more help interact with Codder."
   ]
  },
  {
   "cell_type": "code",
   "execution_count": 150,
   "metadata": {},
   "outputs": [
    {
     "data": {
      "text/html": [
       "<div>\n",
       "<style scoped>\n",
       "    .dataframe tbody tr th:only-of-type {\n",
       "        vertical-align: middle;\n",
       "    }\n",
       "\n",
       "    .dataframe tbody tr th {\n",
       "        vertical-align: top;\n",
       "    }\n",
       "\n",
       "    .dataframe thead th {\n",
       "        text-align: right;\n",
       "    }\n",
       "</style>\n",
       "<table border=\"1\" class=\"dataframe\">\n",
       "  <thead>\n",
       "    <tr style=\"text-align: right;\">\n",
       "      <th></th>\n",
       "      <th>psetID</th>\n",
       "      <th>taskID</th>\n",
       "      <th>taskName</th>\n",
       "      <th>student</th>\n",
       "    </tr>\n",
       "    <tr>\n",
       "      <th>timestamp</th>\n",
       "      <th></th>\n",
       "      <th></th>\n",
       "      <th></th>\n",
       "      <th></th>\n",
       "    </tr>\n",
       "  </thead>\n",
       "  <tbody>\n",
       "    <tr>\n",
       "      <th>2019-04-20 02:43:41</th>\n",
       "      <td>ps09</td>\n",
       "      <td>task2</td>\n",
       "      <td>distributions</td>\n",
       "      <td>s103</td>\n",
       "    </tr>\n",
       "    <tr>\n",
       "      <th>2019-04-20 02:46:43</th>\n",
       "      <td>ps09</td>\n",
       "      <td>task2</td>\n",
       "      <td>distributions</td>\n",
       "      <td>s103</td>\n",
       "    </tr>\n",
       "    <tr>\n",
       "      <th>2019-04-20 02:48:13</th>\n",
       "      <td>ps09</td>\n",
       "      <td>task2</td>\n",
       "      <td>distributions</td>\n",
       "      <td>s103</td>\n",
       "    </tr>\n",
       "    <tr>\n",
       "      <th>2019-04-20 02:48:55</th>\n",
       "      <td>ps09</td>\n",
       "      <td>task2</td>\n",
       "      <td>distributions</td>\n",
       "      <td>s103</td>\n",
       "    </tr>\n",
       "    <tr>\n",
       "      <th>2019-04-20 02:50:52</th>\n",
       "      <td>ps09</td>\n",
       "      <td>task2</td>\n",
       "      <td>distributions</td>\n",
       "      <td>s103</td>\n",
       "    </tr>\n",
       "  </tbody>\n",
       "</table>\n",
       "</div>"
      ],
      "text/plain": [
       "                    psetID taskID       taskName student\n",
       "timestamp                                               \n",
       "2019-04-20 02:43:41   ps09  task2  distributions    s103\n",
       "2019-04-20 02:46:43   ps09  task2  distributions    s103\n",
       "2019-04-20 02:48:13   ps09  task2  distributions    s103\n",
       "2019-04-20 02:48:55   ps09  task2  distributions    s103\n",
       "2019-04-20 02:50:52   ps09  task2  distributions    s103"
      ]
     },
     "execution_count": 150,
     "metadata": {},
     "output_type": "execute_result"
    }
   ],
   "source": [
    "\"\"\"we saw above that student 103 had the most submissions,\n",
    "    now they get their own dataframe to explore\"\"\"\n",
    "df103 = dfDistributions[dfDistributions['student']=='s103'] # select from the frame the rows that fulfill the query\n",
    "df103.head()"
   ]
  },
  {
   "cell_type": "code",
   "execution_count": 151,
   "metadata": {},
   "outputs": [],
   "source": [
    "\"\"\"reset index so I could work with the timestamp like a normal column\"\"\"\n",
    "df103 = df103.reset_index()"
   ]
  },
  {
   "cell_type": "markdown",
   "metadata": {},
   "source": [
    "I computed the difference between successive timestamps to see how much time passed between the student's many submissions and saved these delta T's to a new dataframe."
   ]
  },
  {
   "cell_type": "code",
   "execution_count": 152,
   "metadata": {},
   "outputs": [
    {
     "data": {
      "text/html": [
       "<div>\n",
       "<style scoped>\n",
       "    .dataframe tbody tr th:only-of-type {\n",
       "        vertical-align: middle;\n",
       "    }\n",
       "\n",
       "    .dataframe tbody tr th {\n",
       "        vertical-align: top;\n",
       "    }\n",
       "\n",
       "    .dataframe thead th {\n",
       "        text-align: right;\n",
       "    }\n",
       "</style>\n",
       "<table border=\"1\" class=\"dataframe\">\n",
       "  <thead>\n",
       "    <tr style=\"text-align: right;\">\n",
       "      <th></th>\n",
       "      <th>0</th>\n",
       "    </tr>\n",
       "  </thead>\n",
       "  <tbody>\n",
       "    <tr>\n",
       "      <th>0</th>\n",
       "      <td>00:03:02</td>\n",
       "    </tr>\n",
       "    <tr>\n",
       "      <th>1</th>\n",
       "      <td>00:01:30</td>\n",
       "    </tr>\n",
       "    <tr>\n",
       "      <th>2</th>\n",
       "      <td>00:00:42</td>\n",
       "    </tr>\n",
       "    <tr>\n",
       "      <th>3</th>\n",
       "      <td>00:01:57</td>\n",
       "    </tr>\n",
       "    <tr>\n",
       "      <th>4</th>\n",
       "      <td>00:07:17</td>\n",
       "    </tr>\n",
       "  </tbody>\n",
       "</table>\n",
       "</div>"
      ],
      "text/plain": [
       "         0\n",
       "0 00:03:02\n",
       "1 00:01:30\n",
       "2 00:00:42\n",
       "3 00:01:57\n",
       "4 00:07:17"
      ]
     },
     "execution_count": 152,
     "metadata": {},
     "output_type": "execute_result"
    }
   ],
   "source": [
    "arr = []\n",
    "for i in range(len(df103)-2):\n",
    "    arr.append(df103['timestamp'][i+1]-df103['timestamp'][i].to_pydatetime())\n",
    "    \n",
    "deltas = pd.DataFrame(arr)\n",
    "deltas.head()"
   ]
  },
  {
   "cell_type": "markdown",
   "metadata": {},
   "source": [
    "Since I took the difference between these timestamps, they became timedelta objects which I had to adapt while plotting."
   ]
  },
  {
   "cell_type": "code",
   "execution_count": 153,
   "metadata": {},
   "outputs": [
    {
     "data": {
      "text/plain": [
       "Text(0.5,1,'Time between submissions for student 103')"
      ]
     },
     "execution_count": 153,
     "metadata": {},
     "output_type": "execute_result"
    },
    {
     "data": {
      "image/png": "[encoded data removed]",
      "text/plain": [
       "<Figure size 432x288 with 1 Axes>"
      ]
     },
     "metadata": {},
     "output_type": "display_data"
    }
   ],
   "source": [
    "deltas.astype('timedelta64[s]').plot()\n",
    "plt.xlabel('Submissions')\n",
    "plt.ylabel('Time (seconds)')\n",
    "plt.title('Time between submissions for student 103')"
   ]
  },
  {
   "cell_type": "markdown",
   "metadata": {},
   "source": [
    "**Figure 5. Time between submissions for student 103**: This line chart tells us that although there were a couple spikes of a day or so between revisions, most of student 103's 213 revisions were made minutes apart from each other. This suggests that the student might have used Codder as they made even very small changes, but nonetheless, that they might have struggled with the project and with their confidence as a programmer, something the 111 staff should be aware of."
   ]
  },
  {
   "cell_type": "code",
   "execution_count": null,
   "metadata": {},
   "outputs": [],
   "source": []
  }
 ],
 "metadata": {
  "kernelspec": {
   "display_name": "Python 3",
   "language": "python",
   "name": "python3"
  },
  "language_info": {
   "codemirror_mode": {
    "name": "ipython",
    "version": 3
   },
   "file_extension": ".py",
   "mimetype": "text/x-python",
   "name": "python",
   "nbconvert_exporter": "python",
   "pygments_lexer": "ipython3",
   "version": "3.6.5"
  }
 },
 "nbformat": 4,
 "nbformat_minor": 2
}
