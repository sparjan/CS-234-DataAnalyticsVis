{
 "cells": [
  {
   "cell_type": "markdown",
   "metadata": {},
   "source": [
    "# Project 3: Milestone 3\n",
    "\n",
    "Shreya Parjan\n",
    "\n",
    "**Note:** Initially completed the week of 12/1. Updated 12/8.\n",
    "\n",
    "By the completion of this milestone, I will have started collecting tweets directed at the accounts. I will also have explored one of the libraries we have access to, TextBlob.\n",
    "\n",
    "**Table of Contents**\n",
    "1. [Configure environment w/ tweepy/access keys](#s1)\n",
    "2. [Define relevant helper functions](#s2)\n",
    "3. [Package replies, mentions into dataframe and output to CSV](#s3)\n",
    "\n",
    "    [Library Exploration: Does TextBlob speak Spanish?](#s4)"
   ]
  },
  {
   "cell_type": "code",
   "execution_count": 384,
   "metadata": {},
   "outputs": [
    {
     "name": "stdout",
     "output_type": "stream",
     "text": [
      "Requirement already satisfied: tweepy in /anaconda3/lib/python3.6/site-packages (3.8.0)\n",
      "Requirement already satisfied: requests-oauthlib>=0.7.0 in /anaconda3/lib/python3.6/site-packages (from tweepy) (1.3.0)\n",
      "Requirement already satisfied: PySocks>=1.5.7 in /anaconda3/lib/python3.6/site-packages (from tweepy) (1.6.8)\n",
      "Requirement already satisfied: six>=1.10.0 in /anaconda3/lib/python3.6/site-packages (from tweepy) (1.11.0)\n",
      "Requirement already satisfied: requests>=2.11.1 in /anaconda3/lib/python3.6/site-packages (from tweepy) (2.18.4)\n",
      "Requirement already satisfied: oauthlib>=3.0.0 in /anaconda3/lib/python3.6/site-packages (from requests-oauthlib>=0.7.0->tweepy) (3.1.0)\n",
      "Requirement already satisfied: chardet<3.1.0,>=3.0.2 in /anaconda3/lib/python3.6/site-packages (from requests>=2.11.1->tweepy) (3.0.4)\n",
      "Requirement already satisfied: idna<2.7,>=2.5 in /anaconda3/lib/python3.6/site-packages (from requests>=2.11.1->tweepy) (2.6)\n",
      "Requirement already satisfied: urllib3<1.23,>=1.21.1 in /anaconda3/lib/python3.6/site-packages (from requests>=2.11.1->tweepy) (1.22)\n",
      "Requirement already satisfied: certifi>=2017.4.17 in /anaconda3/lib/python3.6/site-packages (from requests>=2.11.1->tweepy) (2018.4.16)\n",
      "\u001b[33mYou are using pip version 18.0, however version 19.3.1 is available.\n",
      "You should consider upgrading via the 'pip install --upgrade pip' command.\u001b[0m\n"
     ]
    }
   ],
   "source": [
    "!pip3 install tweepy"
   ]
  },
  {
   "cell_type": "markdown",
   "metadata": {},
   "source": [
    "## 1) Configure environment with tweepy/access keys\n",
    "<a id=\"s1\"></a>"
   ]
  },
  {
   "cell_type": "code",
   "execution_count": 350,
   "metadata": {},
   "outputs": [],
   "source": [
    "import tweepy"
   ]
  },
  {
   "cell_type": "code",
   "execution_count": 351,
   "metadata": {},
   "outputs": [],
   "source": [
    "consumer_key = 'i4aC355Yg88iuO5er7x8iWIz8'\n",
    "consumer_secret = '5blIodguUoOz1nNI3vCu39xcDxxMr68kufymf1CuggBnKgnVUl'\n",
    "access_key = '1196078327842430978-aIOT6vOorIpi1gkISxQimu4q9S4BbU'\n",
    "access_secret = 'HcHDrOm5kfPgXcoNDNHfLW6gEi087bwlQzvq8TlNNAvle'\n",
    "\n",
    "name = 'Pa__tty'\n",
    "acctList = ['ClaudiaDides','Pa__tty','ValdebenitoNata','tv_monica','KarolCariola','gabrielboric','BeaSanchezYTu','LorenaPizarroS','GiorgioJackson',\n",
    "           'camila_vallejo','Claudia_Mix','JorgeSharp','carmen_hertz','redolesoficial',\n",
    "           'manugarpez','nanostern','jcoulon','labeasanchez','FelipeParadaM',\n",
    "           'AlbertoMayol','PamJiles','DMatamala','CristobalYessen','danieljadue',\n",
    "           'sarmiento510','IraciHassler','nataliacuevasg','mriesco','MauroMura11',\n",
    "           'juan_urra','tomashirsch','monlaferte','emiliatijoux','MarianaLaActriz',\n",
    "           'Jaime_Bassa','KenaLorenziniL','mirnaschindler','ale_injoque','mauricio_weibel','JParadaHoyl']\n",
    "\n",
    "\n",
    "\"\"\"get_tweets configures the twitter environment to help collect tweets\"\"\"\n",
    "def get_tweets(username): \n",
    "        auth = tweepy.OAuthHandler(consumer_key, consumer_secret) \n",
    "        auth.set_access_token(access_key, access_secret) \n",
    "  \n",
    "        api = tweepy.API(auth) \n",
    "  \n",
    "        tweets = api.user_timeline(screen_name=username) \n",
    "  \n",
    "        tmp=[]  \n",
    "        tweets_for_csv = [tweet.text for tweet in tweets]\n",
    "        for j in tweets_for_csv: \n",
    "            tmp.append(j)\n",
    "        print(len(tmp))\n",
    "        return tmp"
   ]
  },
  {
   "cell_type": "code",
   "execution_count": 352,
   "metadata": {},
   "outputs": [
    {
     "name": "stdout",
     "output_type": "stream",
     "text": [
      "20\n"
     ]
    },
    {
     "data": {
      "text/plain": [
       "['RT @karla_soto_m: @Pa__tty Ayer un joven de 16 años, recibió un impacto de bomba lacrimógena lanzada por carabineros provocándole una fract…',\n",
       " 'RT @cnashr: Difundir y proteger este video. Hay  quienes  no  quieren  que  lo  veamos  en  Chile  y se difunda en el mundo 👇🏼@CIDH https:/…',\n",
       " 'RT @CristobalYessen: Agradezco al @PJudicialChile quien en su informe referente a visitas a residencias sename, acoge mis preocupaciones Pá…',\n",
       " 'RT @nytimes: Sexual predators have found an easy way into the lives of children and teens — meeting them online through multiplayer video g…',\n",
       " 'RT @alefloresqui: Este viernes 13, en el bello Campus Isla Teja de la @UAustraldeChile en #ValdiviaCL, tendremos el foro “Chile hacia una n…',\n",
       " 'RT @elmundoes: Merkel visita Auschwitz: \"Hablar hoy ante ustedes como canciller alemana me resulta todo menos sencillo. Siento una profunda…',\n",
       " 'RT @PabloMarshall8: Hablabdo sobre #NuevaConstitucion y #ProcesoConstituyente en @UAustraldeChile este viernes 13 \\n#Valdivia \\n\\nCon @claudia…',\n",
       " '😍#todossomosdefensores #nuevopactosocialconNNA #MiVozCuenta https://t.co/VfTntk8t7s',\n",
       " '@jacquen81 Escriban directamente a @supereduc_cl pues ellos deben velar porque no ocurran cosas así, en su web tien… https://t.co/aFTOqCohG5',\n",
       " 'RT @CNNChile: Reuters destaca las mejores fotos tras 50 días de movilizaciones en Chile https://t.co/HC5mzjzaci https://t.co/rwSeDF8YP7',\n",
       " '@Eveliciosa @FalabellaAyuda Estaa son las campañas actuales en la web https://t.co/2AMg9CFjvE así que  deben ser antiguas y esto un fake...',\n",
       " '@vagoilustrado Pero no es actual, mira https://t.co/2AMg9CFjvE',\n",
       " 'Respecto del tema de @FalabellaAyuda y unas fotos que exhiben a niños y jóvenes cubriéndose un ojo y sonrientes, es… https://t.co/sXfc1BfBHH',\n",
       " '@JaviviOrabela @FalabellaAyuda Si, acabo de chequear y en el link no se aprecian catálogos con esas fotos, ojo aquí… https://t.co/Cxl8osc6hM',\n",
       " '@dianelasottorf1 @FalabellaAyuda Las fotos y la publicación???',\n",
       " 'A mi me parece una falta de respeto mas que oportunismo, mas si se hace con niños y jóvenes a los que, además, se l… https://t.co/qEhbrD3BsR',\n",
       " 'RT @PauloAbrao: CIDH condena el uso excesivo de la fuerza en el contexto de las protestas sociales en #Chile, expresa su grave preocupación…',\n",
       " '🚨🛑💪primó legalidad y se acoge amparo q presentamos como @defensorianinez @FelipeTllez contra @Carabdechile y Direct… https://t.co/m1dUmaDRjO',\n",
       " 'RT @AndreaAristegui: CIDH condena el uso excesivo de la fuerza en el contexto de las protestas sociales en Chile, expresa su grave preocupa…',\n",
       " 'RT @AChMChile: Cómo será la consulta ciudadana de las municipalidades el próximo 15 de diciembre https://t.co/T5lFIHzCwl']"
      ]
     },
     "execution_count": 352,
     "metadata": {},
     "output_type": "execute_result"
    }
   ],
   "source": [
    "get_tweets('@'+name)"
   ]
  },
  {
   "cell_type": "markdown",
   "metadata": {},
   "source": [
    "## 2) Define relevant helper functions\n",
    "<a id=\"s2\"></a>"
   ]
  },
  {
   "cell_type": "code",
   "execution_count": 354,
   "metadata": {},
   "outputs": [
    {
     "name": "stdout",
     "output_type": "stream",
     "text": [
      "File 'about_Pa__tty.json' has 70 tweets.\n",
      "{\n",
      "    \"contributors\": null,\n",
      "    \"coordinates\": null,\n",
      "    \"created_at\": \"Sat Dec 07 11:24:49 +0000 2019\",\n",
      "    \"display_text_range\": [\n",
      "        35,\n",
      "        42\n",
      "    ],\n",
      "    \"entities\": {\n",
      "        \"hashtags\": [],\n",
      "        \"symbols\": [],\n",
      "        \"urls\": [],\n",
      "        \"user_mentions\": [\n",
      "            {\n",
      "                \"id\": 39584466,\n",
      "                \"id_str\": \"39584466\",\n",
      "                \"indices\": [\n",
      "                    0,\n",
      "                    15\n",
      "                ],\n",
      "                \"name\": \"Camilo Cayuqueo\",\n",
      "                \"screen_name\": \"camilocayuqueo\"\n",
      "            },\n",
      "            {\n",
      "                \"id\": 132925941,\n",
      "                \"id_str\": \"132925941\",\n",
      "                \"indices\": [\n",
      "                    16,\n",
      "                    25\n",
      "                ],\n",
      "                \"name\": \"Mar\\u00eda Teresa Soza\",\n",
      "                \"screen_name\": \"pelusoza\"\n",
      "            },\n",
      "            {\n",
      "                \"id\": 57955465,\n",
      "                \"id_str\": \"57955465\",\n",
      "                \"indices\": [\n",
      "                    26,\n",
      "                    34\n",
      "                ],\n",
      "                \"name\": \"Patty Mu\\u00f1oz Garc\\u00eda\",\n",
      "                \"screen_name\": \"Pa__tty\"\n",
      "            }\n",
      "        ]\n",
      "    },\n",
      "    \"favorite_count\": 0,\n",
      "    \"favorited\": false,\n",
      "    \"full_text\": \"@camilocayuqueo @pelusoza @Pa__tty Es FAKE\",\n",
      "    \"geo\": null,\n",
      "    \"id\": 1203274156151848960,\n",
      "    \"id_str\": \"1203274156151848960\",\n",
      "    \"in_reply_to_screen_name\": \"camilocayuqueo\",\n",
      "    \"in_reply_to_status_id\": 1203155073431457792,\n",
      "    \"in_reply_to_status_id_str\": \"1203155073431457792\",\n",
      "    \"in_reply_to_user_id\": 39584466,\n",
      "    \"in_reply_to_user_id_str\": \"39584466\",\n",
      "    \"is_quote_status\": false,\n",
      "    \"lang\": \"en\",\n",
      "    \"metadata\": {\n",
      "        \"iso_language_code\": \"en\",\n",
      "        \"result_type\": \"recent\"\n",
      "    },\n",
      "    \"place\": null,\n",
      "    \"retweet_count\": 0,\n",
      "    \"retweeted\": false,\n",
      "    \"source\": \"<a href=\\\"http://twitter.com/download/iphone\\\" rel=\\\"nofollow\\\">Twitter for iPhone</a>\",\n",
      "    \"truncated\": false,\n",
      "    \"user\": {\n",
      "        \"contributors_enabled\": false,\n",
      "        \"created_at\": \"Sun Dec 02 18:25:02 +0000 2012\",\n",
      "        \"default_profile\": true,\n",
      "        \"default_profile_image\": false,\n",
      "        \"description\": \"Children's Literature Writer, Translater, PreSchool teacher PUC & MA curriculum and instruction. StoryTelling and Shadow Puppets!!!\",\n",
      "        \"entities\": {\n",
      "            \"description\": {\n",
      "                \"urls\": []\n",
      "            }\n",
      "        },\n",
      "        \"favourites_count\": 8796,\n",
      "        \"follow_request_sent\": false,\n",
      "        \"followers_count\": 245,\n",
      "        \"following\": false,\n",
      "        \"friends_count\": 381,\n",
      "        \"geo_enabled\": true,\n",
      "        \"has_extended_profile\": false,\n",
      "        \"id\": 985136678,\n",
      "        \"id_str\": \"985136678\",\n",
      "        \"is_translation_enabled\": false,\n",
      "        \"is_translator\": false,\n",
      "        \"lang\": null,\n",
      "        \"listed_count\": 1,\n",
      "        \"location\": \"CHILE\",\n",
      "        \"name\": \"Valerie Moir\",\n",
      "        \"notifications\": false,\n",
      "        \"profile_background_color\": \"C0DEED\",\n",
      "        \"profile_background_image_url\": \"http://abs.twimg.com/images/themes/theme1/bg.png\",\n",
      "        \"profile_background_image_url_https\": \"https://abs.twimg.com/images/themes/theme1/bg.png\",\n",
      "        \"profile_background_tile\": false,\n",
      "        \"profile_banner_url\": \"https://pbs.twimg.com/profile_banners/985136678/1484389525\",\n",
      "        \"profile_image_url\": \"http://pbs.twimg.com/profile_images/838086233096060929/wS9PUR3O_normal.jpg\",\n",
      "        \"profile_image_url_https\": \"https://pbs.twimg.com/profile_images/838086233096060929/wS9PUR3O_normal.jpg\",\n",
      "        \"profile_link_color\": \"1DA1F2\",\n",
      "        \"profile_sidebar_border_color\": \"C0DEED\",\n",
      "        \"profile_sidebar_fill_color\": \"DDEEF6\",\n",
      "        \"profile_text_color\": \"333333\",\n",
      "        \"profile_use_background_image\": true,\n",
      "        \"protected\": false,\n",
      "        \"screen_name\": \"ValerieMoir\",\n",
      "        \"statuses_count\": 14930,\n",
      "        \"time_zone\": null,\n",
      "        \"translator_type\": \"none\",\n",
      "        \"url\": null,\n",
      "        \"utc_offset\": null,\n",
      "        \"verified\": false\n",
      "    }\n",
      "}\n"
     ]
    }
   ],
   "source": [
    "import json\n",
    "\n",
    "\"\"\"Returns tweets from JSON file.\"\"\"\n",
    "def read_tweets(filePath):\n",
    "    with open(filePath, 'r') as inFile:\n",
    "        tweets = json.load(inFile)\n",
    "        print(\"File '{}' has {} tweets.\".format(filePath, len(tweets)))\n",
    "        return tweets\n",
    "\n",
    "repliesmain = read_tweets(\"about_\"+name+\".json\")\n",
    "tweet = repliesmain[3]\n",
    "\n",
    "print(json.dumps(tweet, indent=4, sort_keys=True))"
   ]
  },
  {
   "cell_type": "code",
   "execution_count": 412,
   "metadata": {},
   "outputs": [
    {
     "data": {
      "text/plain": [
       "OrderedDict([('screen_name', 'ValerieMoir'),\n",
       "             ('name', 'Valerie Moir'),\n",
       "             ('verified', False),\n",
       "             ('followers_count', 245),\n",
       "             ('description',\n",
       "              \"Children's Literature Writer, Translater, PreSchool teacher PUC & MA curriculum and instruction. StoryTelling and Shadow Puppets!!!\"),\n",
       "             ('created_at', 'Sun Dec 02 18:25:02 +0000 2012')])"
      ]
     },
     "execution_count": 412,
     "metadata": {},
     "output_type": "execute_result"
    }
   ],
   "source": [
    "features = [\"screen_name\", \"name\", \"verified\", \n",
    "            \"followers_count\", \"description\",\"created_at\"]\n",
    "from collections import OrderedDict\n",
    "\n",
    "\"\"\"Given a tweet return a dictionary containing info about the user.\"\"\"\n",
    "def get_features(tweet, featuresLst):\n",
    "    user = tweet['user']\n",
    "    return OrderedDict({key: user[key] for key in featuresLst})\n",
    "\n",
    "get_features(tweet, features)"
   ]
  },
  {
   "cell_type": "code",
   "execution_count": 413,
   "metadata": {},
   "outputs": [
    {
     "name": "stdout",
     "output_type": "stream",
     "text": [
      "Number of replies: 26\n"
     ]
    }
   ],
   "source": [
    "\"\"\"Given a tweet and user return a list containing replies.\"\"\"\n",
    "def find_replies(tweets, username):\n",
    "    replies = []\n",
    "    mentions = []\n",
    "    for tweet in tweets:\n",
    "        if tweet[\"in_reply_to_screen_name\"] == username:\n",
    "            replies.append(tweet)\n",
    "        else:\n",
    "            mentions.append(tweet)\n",
    "    return replies\n",
    "\n",
    "replies = find_replies(repliesmain, name)\n",
    "\n",
    "print(\"Number of replies: \" + str(len(replies)))"
   ]
  },
  {
   "cell_type": "code",
   "execution_count": 357,
   "metadata": {},
   "outputs": [
    {
     "name": "stdout",
     "output_type": "stream",
     "text": [
      "Number of mentions: 44\n"
     ]
    }
   ],
   "source": [
    "\"\"\"Given a tweet and user return a list containing mentions.\"\"\"\n",
    "def find_mentions(tweets, username):\n",
    "    \n",
    "    mentions = []\n",
    "    for tweet in tweets:\n",
    "        if tweet[\"in_reply_to_screen_name\"] != username:\n",
    "            \n",
    "            mentions.append(tweet)\n",
    "            \n",
    "    return mentions\n",
    "\n",
    "mentions = find_mentions(repliesmain, name)\n",
    "\n",
    "print(\"Number of mentions: \" + str(len(mentions)))"
   ]
  },
  {
   "cell_type": "code",
   "execution_count": 358,
   "metadata": {},
   "outputs": [
    {
     "data": {
      "text/plain": [
       "'ERROR'"
      ]
     },
     "execution_count": 358,
     "metadata": {},
     "output_type": "execute_result"
    }
   ],
   "source": [
    "import tweepy, json\n",
    "\n",
    "consumer_key = 'i4aC355Yg88iuO5er7x8iWIz8'\n",
    "consumer_secret = '5blIodguUoOz1nNI3vCu39xcDxxMr68kufymf1CuggBnKgnVUl'\n",
    "access_key = '1196078327842430978-aIOT6vOorIpi1gkISxQimu4q9S4BbU'\n",
    "access_secret = 'HcHDrOm5kfPgXcoNDNHfLW6gEi087bwlQzvq8TlNNAvle'\n",
    "\n",
    "auth = tweepy.OAuthHandler(consumer_key, consumer_secret)\n",
    "auth.set_access_token(access_key, access_secret)\n",
    "api = tweepy.API(auth)\n",
    "\n",
    "\n",
    "\"\"\"Based on replies to tweets, find originals and return a list\n",
    "of these original tweets.\"\"\"\n",
    "def find_original(r):\n",
    "    results = []\n",
    "    for tweet in r:\n",
    "        original = tweet[\"in_reply_to_status_id\"]\n",
    "        try:\n",
    "            return api.get_status(value).text\n",
    "        except:\n",
    "            return \"ERROR\"\n",
    "        fullTweet = api.get_status(id=original)\n",
    "        results.append(fullTweet._json['text'])\n",
    "        \n",
    "    return results\n",
    "\n",
    "find_original(replies)"
   ]
  },
  {
   "cell_type": "markdown",
   "metadata": {},
   "source": [
    "## 3) Package replies, mentions into dataframe and output to CSV\n",
    "<a id=\"s3\"></a>"
   ]
  },
  {
   "cell_type": "code",
   "execution_count": 359,
   "metadata": {},
   "outputs": [
    {
     "name": "stdout",
     "output_type": "stream",
     "text": [
      "File 'about_Pa__tty.json' has 70 tweets.\n",
      "['ERROR', ['@Pa__tty @FalabellaAyuda Fakeeee', '@Pa__tty @defensorianinez @FelipeTllez @Carabdechile @PJudicialChile Seca!', '@Pa__tty @AOC The violator are you @GobiernodeChile', '@Pa__tty Seca!!!!!', '@Pa__tty Genial!!!', '@Pa__tty Lake... Cuelga 😁', '@Pa__tty Seca..', '@Pa__tty Plop!!!', '@Pa__tty @psjrntrnst We stan', '@Pa__tty @jorge_canals Yeah!!!!!\\n😍😍😍', '@Pa__tty @fresiasoltof Grande @fresiasoltof...', '@Pa__tty En el play station', '@Pa__tty @mjcastrorojas @sebastianpinera @mcubillossigall @SubEducParv @JUNJI_Chile @Mineduc @raimundolarrain @KarlaEnAccion @segegob @presidencia_cl Mal empate patty 👎', '@Pa__tty Los muppets', '@Pa__tty Gargamel...', '@Pa__tty @veronikarf All day long', '@Pa__tty @mcubillossigall @defensorianinez Grande @Pa__tty https://t.co/u38WCIqgub', '@Pa__tty seca!!! ♥️ https://t.co/ihMKtRHYeE', '@Pa__tty \"(...) One son died, his spirit is revisitin\\' us\\nTruant livin\\' livin\\' in us, resistance is us\\nThat\\'s why Rosa sat on the bus\\nThat\\'s why we walk through Ferguson with our hands up (...)\" we love Rosa 😍😍', '@Pa__tty Idem', '@Pa__tty Me too', '@Pa__tty @valenzuelagabi Seca', '@Pa__tty Recomendable!!', '@Pa__tty @elchascas Not surprised', '@Pa__tty Terrible', '@Pa__tty Patty eres seca... #eso'], ['vichoaguilera1', 'jorgebarahona', 'onlirocio', 'Gfranaf', 'PapelDecoyTijer', 'LeChichon2', 'carlosalamirocl', 'rgarougier', 'martinlegues', 'guatonpunisher', 'CanalesMalva', 'JMLAZO', 'manealbornoz', 'Vitivitorino', 'ropalacios67', 'santalucida', 'NonnyLand', 'pauli_obreque', 'FelipePadillaA', 'trigorosa', 'rosannamarchesi', '6piscolas', 'SusanaCisternaH', 'twoseokrin', 'Cristin24907692', 'PRETORCHILE']]\n",
      "['ERROR', ['@KellyannePolls Trading  manufacturing Harley’s in PA for Louis Vuitton hand bangs in TX is the very definition or sh*tty job creation.\\n\\n... let me guess:\\n\\nYou will not rest until we all work for you #BananaRepublicans for free and Trump is King 🤴. https://t.co/Q26AHr8hwx', 'Today at Millennium Park, Chicago\\n\\n#LasTesis @AOC @Pa__tty @DAurenque @Fdapinilla @anatijoux @Leila_Nash @_MariaJoseGG https://t.co/yCIUiK7mKf', '@camilocayuqueo @pelusoza @Pa__tty Es FAKE', '@arojo @Pa__tty Ok Boomer', '@CIDH @Pa__tty Canada tiene que condenar las violaciones a los DDHH\\nsystematic violations of human rights happening in Chile. help bring this to the attention of the Canadian government. \\nCanada must take a stand. \\n\\nhttps://t.co/6ZAj0Dj3OE\\n#chile #ChileResiste #ChileProtests #ChileDespertó', '@RedArbolUrbano @VamosFueguinos @SCAC_Chile @CCCTDF @LandeckH @belamoralesf @AStipicic @paloma_avila @Catalina_valpo @Pa__tty @paquinta Broma??!!!', '@JorgeFe36717047 @Pa__tty Hello', '@infopfm @defensorianinez @Pa__tty @mcubillossigall Canada tiene que condenar las violaciones a los DDHH\\nsystematic violations of human rights happening in Chile. help bring this to the attention of the Canadian government. \\nCanada must take a stand. \\n\\nhttps://t.co/6ZAj0Dj3OE\\n#chile #ChileResiste #ChileProtests #ChileDespertó', '@BertRiff007 @Pa__tty favor atender', '@Jessymtj @Pa__tty @Diego_Schalper sacoweas identified.', '@Qwerty53619254 @Pa__tty Bot ql weta', '@PatoFdez Heavy!', '@ka0265 @Pa__tty @Evalenzuelamaga @FiscaliadeChile Evidentemente.', '@catala_style Always poh!!', '@lesliona @Pa__tty Ok Boomer. Lol', '@JamesHamiltonCL @Pa__tty Grandes👏👏👏👏👏👏👏', '@fresi_a @CarolAlvo Real', '@lesliona Heavy!!', '@UnicefChile @Pa__tty Canada debe condenar las violaciones a los DDHH en chile\\nsystematic violations of human rights happening in Chile. help bring this to the attention of the Canadian government. \\nCanada must take a stand.\\n\\nhttps://t.co/6ZAj0Dj3OE\\n#chile #ChileResiste #ChileProtests #ChileDespierta', '@ramirez82_j @conivaldesc @Pa__tty Reweon...', '@ramirez82_j @conivaldesc @Pa__tty Weon...', '@ZURD0FER @Pa__tty @defensorianinez 🤣🤣🤣🤣🤣 los weones imbeciles.... 🤣🤣🤣🤣🤣🤣🤣🤣🤣', '@CNNChile @Pa__tty Rock Star!!!', '@MiguelPantojaZ @tomashirsch @min_interior @GobiernodeChile @defensorianinez @Pa__tty @inddhh @obsDDHHcl @Carabdechile Sacowea.... https://t.co/YNOzxQsS9T', '@JorgeFe36717047 @Pa__tty Super Dick y Destructor of Peace', '@MiguelPantojaZ @tomashirsch @min_interior @GobiernodeChile @defensorianinez @Pa__tty @inddhh @obsDDHHcl @Carabdechile Calla bot', 'Seca @Pa__tty 💗 https://t.co/OYbRHnP5dj', '@cseebach @MonitoDeTrapo @CarolaSchmidtZ @Pa__tty ?nose', '@defensorianinez @Pa__tty @CamaraDiputados Grande Patty', '@vagoilustrado @Pa__tty S E C A !!!!', '@vagoilustrado @Pa__tty Secaaaa', '@vagoilustrado @Pa__tty Seca 👏👏👏', 'Team @Pa__tty 😍#AcusacionConstitucionalAPiñera https://t.co/HXauhLpqx6', '@vagoilustrado @Pa__tty seca !!', '@PamJiles @Pa__tty seca https://t.co/hYL1zJ6fiU', '@commondreams @RebelDiaz Dear publisher, please do not show the faces especially of minors due to possible repression. FYI @Pa__tty', '@aamardon @Pa__tty @LuciaDammert @Jaime_Bassa @Pa__tty @cgajardop @CharlesAranguiz Jose Maza', '@manueldario1976 @nonaossandon @Pa__tty Next', '@rofaundezg @MattyLL OHhhh feliz cumple!!🤗🤗🤗', '@DepereiraV @Pa__tty grande! 🤗', '@catalina212121 @Pa__tty *imponer', \"@jwbartlett92 @Pa__tty Im not sure it is only about the violence against women. #LasTesis are going deeply criticising the falocratic violence of a neoliberalism state. Don't forget the context where this appears.\", '@Alma_Negra_30 @humbergg2 @ElAntimatinal @PiensaPrensa @Sedebecompartir @AfmauLealyFiel @an0nscl @anon00806240 @AnonColectivo @AnonsOps_CL @AnonsOpsNews @anonym0usChile @AnonymousTango_ @AzraelAnon1 @IberoAnon @ArchivandoChile @amnesty @ONU_fr @afpfr #afp @lemondefr @libe @BFMTV @guardian @NewYorker\\n@BBCWorld @thetimes @ValdebenitoNata @Pa__tty @PamJiles @Contraloriacl @FiscaliadeChile \\nChilean policeman initiates fire in private sector then walks away. Chile is a terrorist state.', '👏🏻👏🏻👏🏻👏🏻 Grande @Pa__tty https://t.co/dttEyOf4zw'], ['edusanchez19us', 'SolidaridadChi', 'ValerieMoir', 'Mamushk37873910', 'RodrigoBravo9', 'paomolinave', 'HenryCh72491609', 'RodrigoBravo9', 'Coquiangelica', 'Constructor1988', 'MauArancibia', 'Pa__tty', 'PRETORCHILE', 'Pa__tty', 'fj_newman', 'Kennedy84242948', 'Pa__tty', 'Pa__tty', 'RodrigoBravo9', 'CarlosEVR6', 'CarlosEVR6', 'CarlosC82849666', 'ANITAFROMCHILE', 'FloOsvAiz', 'raulfcarbone', 'El__Pello', 'mfernandasali', 'AuroraL33734777', 'ingidsch', 'EvelynEvialba', 'MaraLor04789082', 'gettoget', 'scastrotobolka', 'Nihil7Overcome', 'msanchezbarraza', 'seschbra', 'ivanppss', 'Sunny55642204', 'Pa__tty', 'AndreaConcha69', 'AntuArte_Sana', 'JxavierAntu', 'JaffreRaphaele', 'segonzalezg']]\n"
     ]
    }
   ],
   "source": [
    "def replyTable(account):\n",
    "    main = read_tweets(\"about_\"+name+\".json\")\n",
    "    replies = find_replies(main, account)\n",
    "    mentions = find_mentions(main, account)\n",
    "\n",
    "    fullListr = []\n",
    "    fullListm = []\n",
    "    reptext = [] #repeats\n",
    "    rephandle = []\n",
    "    mentext = [] #mentions\n",
    "    menhandle = []\n",
    "    \n",
    "    for i in replies:\n",
    "        reptext.append(i['full_text'])\n",
    "        rephandle.append(i['user']['screen_name'])\n",
    "    fullListr.append(find_original(replies))\n",
    "    fullListr.append(reptext)\n",
    "    fullListr.append(rephandle)\n",
    "    \n",
    "    for i in mentions:\n",
    "        mentext.append(i['full_text'])\n",
    "        menhandle.append(i['user']['screen_name'])\n",
    "    fullListm.append(find_original(mentions))\n",
    "    fullListm.append(mentext)\n",
    "    fullListm.append(menhandle)\n",
    "    return fullListr, fullListm\n",
    "\n",
    "predfr,predfm = replyTable(name)\n",
    "\n",
    "print(predfr)\n",
    "print(predfm)\n",
    "acctList = ['ClaudiaDides','Pa__tty','ValdebenitoNata','tv_monica','KarolCariola','gabrielboric','BeaSanchezYTu','LorenaPizarroS','GiorgioJackson',\n",
    "           'camila_vallejo','Claudia_Mix','JorgeSharp','carmen_hertz','redolesoficial',\n",
    "           'manugarpez','nanostern','jcoulon','labeasanchez','FelipeParadaM',\n",
    "           'AlbertoMayol','PamJiles','DMatamala','CristobalYessen','danieljadue',\n",
    "           'sarmiento510','IraciHassler','nataliacuevasg','mriesco','MauroMura11',\n",
    "           'juan_urra','tomashirsch','monlaferte','emiliatijoux','MarianaLaActriz',\n",
    "           'Jaime_Bassa','KenaLorenziniL','mirnaschindler','ale_injoque','mauricio_weibel','JParadaHoyl']"
   ]
  },
  {
   "cell_type": "code",
   "execution_count": 360,
   "metadata": {},
   "outputs": [],
   "source": [
    "dr = {'original':predfr[0],'reply':predfr[1],'replier':predfr[2]}\n",
    "dm = {'original':predfr[0],'mention':predfr[1],'mentioner':predfr[2]}"
   ]
  },
  {
   "cell_type": "code",
   "execution_count": 361,
   "metadata": {},
   "outputs": [],
   "source": [
    "import pandas as pd\n",
    "dfr = pd.DataFrame(data=dr)\n",
    "dfm = pd.DataFrame(data=dm)"
   ]
  },
  {
   "cell_type": "code",
   "execution_count": 362,
   "metadata": {},
   "outputs": [
    {
     "data": {
      "text/html": [
       "<div>\n",
       "<style scoped>\n",
       "    .dataframe tbody tr th:only-of-type {\n",
       "        vertical-align: middle;\n",
       "    }\n",
       "\n",
       "    .dataframe tbody tr th {\n",
       "        vertical-align: top;\n",
       "    }\n",
       "\n",
       "    .dataframe thead th {\n",
       "        text-align: right;\n",
       "    }\n",
       "</style>\n",
       "<table border=\"1\" class=\"dataframe\">\n",
       "  <thead>\n",
       "    <tr style=\"text-align: right;\">\n",
       "      <th></th>\n",
       "      <th>original</th>\n",
       "      <th>reply</th>\n",
       "      <th>replier</th>\n",
       "    </tr>\n",
       "  </thead>\n",
       "  <tbody>\n",
       "    <tr>\n",
       "      <th>0</th>\n",
       "      <td>ERROR</td>\n",
       "      <td>@Pa__tty @FalabellaAyuda Fakeeee</td>\n",
       "      <td>vichoaguilera1</td>\n",
       "    </tr>\n",
       "    <tr>\n",
       "      <th>1</th>\n",
       "      <td>ERROR</td>\n",
       "      <td>@Pa__tty @defensorianinez @FelipeTllez @Carabd...</td>\n",
       "      <td>jorgebarahona</td>\n",
       "    </tr>\n",
       "    <tr>\n",
       "      <th>2</th>\n",
       "      <td>ERROR</td>\n",
       "      <td>@Pa__tty @AOC The violator are you @Gobiernode...</td>\n",
       "      <td>onlirocio</td>\n",
       "    </tr>\n",
       "    <tr>\n",
       "      <th>3</th>\n",
       "      <td>ERROR</td>\n",
       "      <td>@Pa__tty Seca!!!!!</td>\n",
       "      <td>Gfranaf</td>\n",
       "    </tr>\n",
       "    <tr>\n",
       "      <th>4</th>\n",
       "      <td>ERROR</td>\n",
       "      <td>@Pa__tty Genial!!!</td>\n",
       "      <td>PapelDecoyTijer</td>\n",
       "    </tr>\n",
       "  </tbody>\n",
       "</table>\n",
       "</div>"
      ],
      "text/plain": [
       "  original                                              reply          replier\n",
       "0    ERROR                   @Pa__tty @FalabellaAyuda Fakeeee   vichoaguilera1\n",
       "1    ERROR  @Pa__tty @defensorianinez @FelipeTllez @Carabd...    jorgebarahona\n",
       "2    ERROR  @Pa__tty @AOC The violator are you @Gobiernode...        onlirocio\n",
       "3    ERROR                                 @Pa__tty Seca!!!!!          Gfranaf\n",
       "4    ERROR                                 @Pa__tty Genial!!!  PapelDecoyTijer"
      ]
     },
     "execution_count": 362,
     "metadata": {},
     "output_type": "execute_result"
    }
   ],
   "source": [
    "dfr.head()"
   ]
  },
  {
   "cell_type": "markdown",
   "metadata": {},
   "source": [
    "Note that these errors for the original message actually seem to suggest that the original might have been deleted, according to what I was able to find from Twitter developer FAQ. This might be interesting to investigate since it seems like the most engaged with content was from this 'deleted' tweet."
   ]
  },
  {
   "cell_type": "code",
   "execution_count": 363,
   "metadata": {},
   "outputs": [
    {
     "data": {
      "text/html": [
       "<div>\n",
       "<style scoped>\n",
       "    .dataframe tbody tr th:only-of-type {\n",
       "        vertical-align: middle;\n",
       "    }\n",
       "\n",
       "    .dataframe tbody tr th {\n",
       "        vertical-align: top;\n",
       "    }\n",
       "\n",
       "    .dataframe thead th {\n",
       "        text-align: right;\n",
       "    }\n",
       "</style>\n",
       "<table border=\"1\" class=\"dataframe\">\n",
       "  <thead>\n",
       "    <tr style=\"text-align: right;\">\n",
       "      <th></th>\n",
       "      <th>original</th>\n",
       "      <th>mention</th>\n",
       "      <th>mentioner</th>\n",
       "    </tr>\n",
       "  </thead>\n",
       "  <tbody>\n",
       "    <tr>\n",
       "      <th>0</th>\n",
       "      <td>ERROR</td>\n",
       "      <td>@Pa__tty @FalabellaAyuda Fakeeee</td>\n",
       "      <td>vichoaguilera1</td>\n",
       "    </tr>\n",
       "    <tr>\n",
       "      <th>1</th>\n",
       "      <td>ERROR</td>\n",
       "      <td>@Pa__tty @defensorianinez @FelipeTllez @Carabd...</td>\n",
       "      <td>jorgebarahona</td>\n",
       "    </tr>\n",
       "    <tr>\n",
       "      <th>2</th>\n",
       "      <td>ERROR</td>\n",
       "      <td>@Pa__tty @AOC The violator are you @Gobiernode...</td>\n",
       "      <td>onlirocio</td>\n",
       "    </tr>\n",
       "    <tr>\n",
       "      <th>3</th>\n",
       "      <td>ERROR</td>\n",
       "      <td>@Pa__tty Seca!!!!!</td>\n",
       "      <td>Gfranaf</td>\n",
       "    </tr>\n",
       "    <tr>\n",
       "      <th>4</th>\n",
       "      <td>ERROR</td>\n",
       "      <td>@Pa__tty Genial!!!</td>\n",
       "      <td>PapelDecoyTijer</td>\n",
       "    </tr>\n",
       "  </tbody>\n",
       "</table>\n",
       "</div>"
      ],
      "text/plain": [
       "  original                                            mention        mentioner\n",
       "0    ERROR                   @Pa__tty @FalabellaAyuda Fakeeee   vichoaguilera1\n",
       "1    ERROR  @Pa__tty @defensorianinez @FelipeTllez @Carabd...    jorgebarahona\n",
       "2    ERROR  @Pa__tty @AOC The violator are you @Gobiernode...        onlirocio\n",
       "3    ERROR                                 @Pa__tty Seca!!!!!          Gfranaf\n",
       "4    ERROR                                 @Pa__tty Genial!!!  PapelDecoyTijer"
      ]
     },
     "execution_count": 363,
     "metadata": {},
     "output_type": "execute_result"
    }
   ],
   "source": [
    "dfm.head()"
   ]
  },
  {
   "cell_type": "code",
   "execution_count": 364,
   "metadata": {},
   "outputs": [
    {
     "data": {
      "text/plain": [
       "(26, 3)"
      ]
     },
     "execution_count": 364,
     "metadata": {},
     "output_type": "execute_result"
    }
   ],
   "source": [
    "dfr.shape"
   ]
  },
  {
   "cell_type": "code",
   "execution_count": 365,
   "metadata": {},
   "outputs": [
    {
     "data": {
      "text/plain": [
       "(26, 3)"
      ]
     },
     "execution_count": 365,
     "metadata": {},
     "output_type": "execute_result"
    }
   ],
   "source": [
    "dfm.shape"
   ]
  },
  {
   "cell_type": "code",
   "execution_count": 366,
   "metadata": {},
   "outputs": [],
   "source": [
    "dfr.to_csv('replies.csv', mode='w', header=False)"
   ]
  },
  {
   "cell_type": "code",
   "execution_count": 367,
   "metadata": {},
   "outputs": [],
   "source": [
    "dfm.to_csv('mentions.csv', mode='w', header=False)"
   ]
  },
  {
   "cell_type": "markdown",
   "metadata": {},
   "source": [
    "# Library Exploration: Does TextBlob speak Spanish?\n",
    "<a id=\"s4\"></a>"
   ]
  },
  {
   "cell_type": "markdown",
   "metadata": {},
   "source": [
    "First, we compile all of the text from tweets by a given person into a single list that's easier for textblob to parse"
   ]
  },
  {
   "cell_type": "code",
   "execution_count": 370,
   "metadata": {},
   "outputs": [
    {
     "name": "stdout",
     "output_type": "stream",
     "text": [
      "20\n"
     ]
    }
   ],
   "source": [
    "tweetlist = get_tweets('@'+name)\n",
    "text = ''\n",
    "for i in tweetlist:\n",
    "    text+=i"
   ]
  },
  {
   "cell_type": "code",
   "execution_count": 371,
   "metadata": {},
   "outputs": [
    {
     "data": {
      "text/plain": [
       "'RT @karla_soto_m: @Pa__tty Ayer un joven de 16 años, recibió un impacto de bomba lacrimógena lanzada por carabineros provocándole una fract…RT @cnashr: Difundir y proteger este video. Hay  quienes  no  quieren  que  lo  veamos  en  Chile  y se difunda en el mundo 👇🏼@CIDH https:/…RT @CristobalYessen: Agradezco al @PJudicialChile quien en su informe referente a visitas a residencias sename, acoge mis preocupaciones Pá…RT @nytimes: Sexual predators have found an easy way into the lives of children and teens — meeting them online through multiplayer video g…RT @alefloresqui: Este viernes 13, en el bello Campus Isla Teja de la @UAustraldeChile en #ValdiviaCL, tendremos el foro “Chile hacia una n…RT @elmundoes: Merkel visita Auschwitz: \"Hablar hoy ante ustedes como canciller alemana me resulta todo menos sencillo. Siento una profunda…RT @PabloMarshall8: Hablabdo sobre #NuevaConstitucion y #ProcesoConstituyente en @UAustraldeChile este viernes 13 \\n#Valdivia \\n\\nCon @claudia…😍#todossomosdefensores #nuevopactosocialconNNA #MiVozCuenta https://t.co/VfTntk8t7s@jacquen81 Escriban directamente a @supereduc_cl pues ellos deben velar porque no ocurran cosas así, en su web tien… https://t.co/aFTOqCohG5RT @CNNChile: Reuters destaca las mejores fotos tras 50 días de movilizaciones en Chile https://t.co/HC5mzjzaci https://t.co/rwSeDF8YP7@Eveliciosa @FalabellaAyuda Estaa son las campañas actuales en la web https://t.co/2AMg9CFjvE así que  deben ser antiguas y esto un fake...@vagoilustrado Pero no es actual, mira https://t.co/2AMg9CFjvERespecto del tema de @FalabellaAyuda y unas fotos que exhiben a niños y jóvenes cubriéndose un ojo y sonrientes, es… https://t.co/sXfc1BfBHH@JaviviOrabela @FalabellaAyuda Si, acabo de chequear y en el link no se aprecian catálogos con esas fotos, ojo aquí… https://t.co/Cxl8osc6hM@dianelasottorf1 @FalabellaAyuda Las fotos y la publicación???A mi me parece una falta de respeto mas que oportunismo, mas si se hace con niños y jóvenes a los que, además, se l… https://t.co/qEhbrD3BsRRT @PauloAbrao: CIDH condena el uso excesivo de la fuerza en el contexto de las protestas sociales en #Chile, expresa su grave preocupación…🚨🛑💪primó legalidad y se acoge amparo q presentamos como @defensorianinez @FelipeTllez contra @Carabdechile y Direct… https://t.co/m1dUmaDRjORT @AndreaAristegui: CIDH condena el uso excesivo de la fuerza en el contexto de las protestas sociales en Chile, expresa su grave preocupa…RT @AChMChile: Cómo será la consulta ciudadana de las municipalidades el próximo 15 de diciembre https://t.co/T5lFIHzCwl'"
      ]
     },
     "execution_count": 371,
     "metadata": {},
     "output_type": "execute_result"
    }
   ],
   "source": [
    "text"
   ]
  },
  {
   "cell_type": "code",
   "execution_count": 382,
   "metadata": {},
   "outputs": [
    {
     "name": "stdout",
     "output_type": "stream",
     "text": [
      "Collecting textblob\n",
      "  Using cached https://files.pythonhosted.org/packages/60/f0/1d9bfcc8ee6b83472ec571406bd0dd51c0e6330ff1a51b2d29861d389e85/textblob-0.15.3-py2.py3-none-any.whl\n",
      "Requirement already satisfied, skipping upgrade: nltk>=3.1 in /anaconda3/lib/python3.6/site-packages (from textblob) (3.3)\n",
      "Requirement already satisfied, skipping upgrade: six in /anaconda3/lib/python3.6/site-packages (from nltk>=3.1->textblob) (1.11.0)\n",
      "Installing collected packages: textblob\n",
      "Successfully installed textblob-0.15.3\n",
      "\u001b[33mYou are using pip version 18.0, however version 19.3.1 is available.\n",
      "You should consider upgrading via the 'pip install --upgrade pip' command.\u001b[0m\n"
     ]
    }
   ],
   "source": [
    "!pip3 install -U textblob"
   ]
  },
  {
   "cell_type": "code",
   "execution_count": 390,
   "metadata": {},
   "outputs": [
    {
     "data": {
      "text/plain": [
       "TextBlob(\"RT @karla_soto_m: @Pa__tty Ayer un joven de 16 años, recibió un impacto de bomba lacrimógena lanzada por carabineros provocándole una fract…RT @cnashr: Difundir y proteger este video. Hay  quienes  no  quieren  que  lo  veamos  en  Chile  y se difunda en el mundo 👇🏼@CIDH https:/…RT @CristobalYessen: Agradezco al @PJudicialChile quien en su informe referente a visitas a residencias sename, acoge mis preocupaciones Pá…RT @nytimes: Sexual predators have found an easy way into the lives of children and teens — meeting them online through multiplayer video g…RT @alefloresqui: Este viernes 13, en el bello Campus Isla Teja de la @UAustraldeChile en #ValdiviaCL, tendremos el foro “Chile hacia una n…RT @elmundoes: Merkel visita Auschwitz: \"Hablar hoy ante ustedes como canciller alemana me resulta todo menos sencillo. Siento una profunda…RT @PabloMarshall8: Hablabdo sobre #NuevaConstitucion y #ProcesoConstituyente en @UAustraldeChile este viernes 13 \n",
       "#Valdivia \n",
       "\n",
       "Con @claudia…😍#todossomosdefensores #nuevopactosocialconNNA #MiVozCuenta https://t.co/VfTntk8t7s@jacquen81 Escriban directamente a @supereduc_cl pues ellos deben velar porque no ocurran cosas así, en su web tien… https://t.co/aFTOqCohG5RT @CNNChile: Reuters destaca las mejores fotos tras 50 días de movilizaciones en Chile https://t.co/HC5mzjzaci https://t.co/rwSeDF8YP7@Eveliciosa @FalabellaAyuda Estaa son las campañas actuales en la web https://t.co/2AMg9CFjvE así que  deben ser antiguas y esto un fake...@vagoilustrado Pero no es actual, mira https://t.co/2AMg9CFjvERespecto del tema de @FalabellaAyuda y unas fotos que exhiben a niños y jóvenes cubriéndose un ojo y sonrientes, es… https://t.co/sXfc1BfBHH@JaviviOrabela @FalabellaAyuda Si, acabo de chequear y en el link no se aprecian catálogos con esas fotos, ojo aquí… https://t.co/Cxl8osc6hM@dianelasottorf1 @FalabellaAyuda Las fotos y la publicación???A mi me parece una falta de respeto mas que oportunismo, mas si se hace con niños y jóvenes a los que, además, se l… https://t.co/qEhbrD3BsRRT @PauloAbrao: CIDH condena el uso excesivo de la fuerza en el contexto de las protestas sociales en #Chile, expresa su grave preocupación…🚨🛑💪primó legalidad y se acoge amparo q presentamos como @defensorianinez @FelipeTllez contra @Carabdechile y Direct… https://t.co/m1dUmaDRjORT @AndreaAristegui: CIDH condena el uso excesivo de la fuerza en el contexto de las protestas sociales en Chile, expresa su grave preocupa…RT @AChMChile: Cómo será la consulta ciudadana de las municipalidades el próximo 15 de diciembre https://t.co/T5lFIHzCwl\")"
      ]
     },
     "execution_count": 390,
     "metadata": {},
     "output_type": "execute_result"
    }
   ],
   "source": [
    "from textblob import TextBlob\n",
    "\n",
    "blob = TextBlob(text)\n",
    "blob"
   ]
  },
  {
   "cell_type": "code",
   "execution_count": 393,
   "metadata": {},
   "outputs": [
    {
     "name": "stdout",
     "output_type": "stream",
     "text": [
      "[nltk_data] Downloading package punkt to /Users/sparjan/nltk_data...\n",
      "[nltk_data]   Package punkt is already up-to-date!\n",
      "[nltk_data] Downloading package averaged_perceptron_tagger to\n",
      "[nltk_data]     /Users/sparjan/nltk_data...\n",
      "[nltk_data]   Unzipping taggers/averaged_perceptron_tagger.zip.\n"
     ]
    },
    {
     "data": {
      "text/plain": [
       "True"
      ]
     },
     "execution_count": 393,
     "metadata": {},
     "output_type": "execute_result"
    }
   ],
   "source": [
    "import nltk\n",
    "nltk.download('punkt')\n",
    "nltk.download('averaged_perceptron_tagger')"
   ]
  },
  {
   "cell_type": "code",
   "execution_count": 395,
   "metadata": {},
   "outputs": [
    {
     "data": {
      "text/plain": [
       "Sentiment(polarity=0.3111111111111111, subjectivity=0.5888888888888889)"
      ]
     },
     "execution_count": 395,
     "metadata": {},
     "output_type": "execute_result"
    }
   ],
   "source": [
    "blob.sentiment"
   ]
  },
  {
   "cell_type": "markdown",
   "metadata": {},
   "source": [
    "At first, this sentiment calculation seemed alright, especially given the severity of some of the subjects discussed, assuming that the system was understanding spanish. However, upon the investigation below, I discovered that only 2 of the individual messages had a non-zero sentiment calculation. I had trouble believing that they were all classified the exact same on the scale from 0-1, so I kept looking at how the facility interacted with it."
   ]
  },
  {
   "cell_type": "code",
   "execution_count": 408,
   "metadata": {},
   "outputs": [
    {
     "name": "stdout",
     "output_type": "stream",
     "text": [
      "RT @nytimes: Sexual predators have found an easy way into the lives of children and teens — meeting them online through multiplayer video g… Sentiment(polarity=0.4666666666666667, subjectivity=0.8333333333333334)\n",
      "@Eveliciosa @FalabellaAyuda Estaa son las campañas actuales en la web https://t.co/2AMg9CFjvE así que  deben ser antiguas y esto un fake... Sentiment(polarity=-0.5, subjectivity=1.0)\n"
     ]
    }
   ],
   "source": [
    "for i in tweetlist:\n",
    "    if TextBlob(i).sentiment[0] !=0:\n",
    "        print(TextBlob(i),TextBlob(i).sentiment)"
   ]
  },
  {
   "cell_type": "code",
   "execution_count": 401,
   "metadata": {},
   "outputs": [
    {
     "name": "stdout",
     "output_type": "stream",
     "text": [
      "@vagoilustrado Pero no es actual, mira https://t.co/2AMg9CFjvE\n"
     ]
    }
   ],
   "source": [
    "print(tweetlist[11])"
   ]
  },
  {
   "cell_type": "markdown",
   "metadata": {},
   "source": [
    "Ultimately, even with the support of things like clustering by noun phrase, my suspicions were confirmed (see erroneous groupings/excluded groupings below). However, I do think investingating NLP in a foreign language context and see how applications like TextBlob adapt."
   ]
  },
  {
   "cell_type": "code",
   "execution_count": 410,
   "metadata": {},
   "outputs": [
    {
     "name": "stdout",
     "output_type": "stream",
     "text": [
      "[nltk_data] Downloading package brown to /Users/sparjan/nltk_data...\n",
      "[nltk_data]   Unzipping corpora/brown.zip.\n"
     ]
    },
    {
     "data": {
      "text/plain": [
       "WordList(['rt', 'achmchile', 'cómo', 'consulta ciudadana', 'las municipalidades el próximo', 'diciembre https'])"
      ]
     },
     "execution_count": 410,
     "metadata": {},
     "output_type": "execute_result"
    }
   ],
   "source": [
    "nltk.download('brown')\n",
    "blob.noun_phrases"
   ]
  },
  {
   "cell_type": "code",
   "execution_count": null,
   "metadata": {},
   "outputs": [],
   "source": []
  }
 ],
 "metadata": {
  "kernelspec": {
   "display_name": "Python 3",
   "language": "python",
   "name": "python3"
  },
  "language_info": {
   "codemirror_mode": {
    "name": "ipython",
    "version": 3
   },
   "file_extension": ".py",
   "mimetype": "text/x-python",
   "name": "python",
   "nbconvert_exporter": "python",
   "pygments_lexer": "ipython3",
   "version": "3.6.5"
  }
 },
 "nbformat": 4,
 "nbformat_minor": 2
}
