{
 "cells": [
  {
   "cell_type": "markdown",
   "metadata": {},
   "source": [
    "# Project 3, Milestone 5:\n",
    "# Twitter Analysis & Identification of Salient Topics During the Fall 2019 Protests in Chile\n",
    "\n",
    "Shreya Parjan\n",
    "\n",
    "12/20/19\n",
    "\n",
    "This upper-level project was completed for Professor Eni Mustafaraj's Fall 2019 CS 234: Data, Analytics, and Visualization course at Wellesley College. The objective of the project is to examine tweets from the accounts of leftist politicians, artists, activists, academics, and journalists in Chile over the course of the 2019 Chilean protests in response to growing inequality and corruption in the country. Through this analysis, we'll better understand what groups among these leftist users are most active, what key hashtags have been used over time to support conversation about the uprisings, and how users' tweets can identify key topics in the protests.\n",
    "\n",
    "**Key Question**: What topics are relevant to liberals during the protests in Chile? (How) have these topics evolved?\n",
    "\n",
    "\n",
    "The following table of contents directly corresponds with requirements for A-level work on this project:\n",
    "\n",
    "**Table of Contents**\n",
    "0. [Data Pre-processing](#sec0)\n",
    "1. [Featurization](#sec1)\n",
    "    - [Visualization 1: Frequency of tweets over time](#sec1-1)\n",
    "    - [Visualization 2: Identification of most active community members](#sec1-2)\n",
    "    - [Visualization 3: Hashtag trends over time](#sec1-3)\n",
    "2. [Hypothesis Test: Gender & Sentiment Analysis](#sec2)\n",
    "3. [Modeling: LDA Topic Modeling](#sec3)\n",
    "    - [Visualization 4: Topic Analysis Heatmap](#sec3-1)\n",
    "    - [Visualization 5: Topic Analysis](#sec3-2)\n",
    "4. [Reflection](#sec4)"
   ]
  },
  {
   "cell_type": "markdown",
   "metadata": {},
   "source": [
    "## 0) Data Pre-Processing\n",
    "<a id=\"sec0\"></a>"
   ]
  },
  {
   "cell_type": "markdown",
   "metadata": {},
   "source": [
    "Since I had worked extensively with JSON files in the earlier milestones and because I wanted to collect more tweets to span the entirety of the crisis thus far, I thought now would be a good time to use the GetOldTweets library.\n",
    "\n",
    "**NOTE:** This code takes a long time to run because it involved 40 calls to \"GetOldTweets\". You are recommended to skip directly to Step 1 which works with the CSV that this step outputs to."
   ]
  },
  {
   "cell_type": "code",
   "execution_count": 2,
   "metadata": {},
   "outputs": [],
   "source": [
    "import json\n",
    "import pandas as pd\n",
    "import GetOldTweets3 as got"
   ]
  },
  {
   "cell_type": "code",
   "execution_count": null,
   "metadata": {},
   "outputs": [],
   "source": [
    "acctList = ['ClaudiaDides','Pa__tty','ValdebenitoNata','tv_monica','KarolCariola','gabrielboric','BeaSanchezYTu','LorenaPizarroS','GiorgioJackson',\n",
    "           'camila_vallejo','Claudia_Mix','JorgeSharp','carmen_hertz','redolesoficial',\n",
    "           'manugarpez','nanostern','jcoulon','labeasanchez','FelipeParadaM',\n",
    "           'AlbertoMayol','PamJiles','DMatamala','CristobalYessen','danieljadue',\n",
    "           'sarmiento510','IraciHassler','nataliacuevasg','mriesco','MauroMura11',\n",
    "           'juan_urra','tomashirsch','monlaferte','emiliatijoux','MarianaLaActriz',\n",
    "           'Jaime_Bassa','KenaLorenziniL','mirnaschindler','ale_injoque','mauricio_weibel','JParadaHoyl']\n"
   ]
  },
  {
   "cell_type": "markdown",
   "metadata": {},
   "source": [
    "I chose to extract tweets from October 14-December 10 2019: when the government first started recognizing the impact of the protests and closing train stations in response up to the date I started working on this project."
   ]
  },
  {
   "cell_type": "code",
   "execution_count": null,
   "metadata": {},
   "outputs": [],
   "source": [
    "\"\"\"getTweets returns all tweets from the user accounts\"\"\"\n",
    "def getTweets(users):\n",
    "    usertweets = []\n",
    "    for i in users:\n",
    "        tweetCriteria = got.manager.TweetCriteria().setUsername(i)\\\n",
    "                                                   .setSince(\"2019-10-14\")\\\n",
    "                                                   .setUntil(\"2019-12-10\") #this date range captures the start of the protests to present day\n",
    "        tweet = got.manager.TweetManager.getTweets(tweetCriteria)\n",
    "        usertweets.append(tweet)\n",
    "    return usertweets"
   ]
  },
  {
   "cell_type": "code",
   "execution_count": null,
   "metadata": {},
   "outputs": [],
   "source": [
    "usertweets = getTweets(acctList)"
   ]
  },
  {
   "cell_type": "code",
   "execution_count": null,
   "metadata": {},
   "outputs": [],
   "source": [
    "len(usertweets)"
   ]
  },
  {
   "cell_type": "markdown",
   "metadata": {},
   "source": [
    "Now, I can directly access features of interest and create a dataframe that contains all of them."
   ]
  },
  {
   "cell_type": "code",
   "execution_count": null,
   "metadata": {},
   "outputs": [],
   "source": [
    "usernames = []\n",
    "dates = []\n",
    "texts = []\n",
    "hashtagss = []\n",
    "tos = []\n",
    "repliess = []\n",
    "retweetss = []\n",
    "favoritess = []\n",
    "mentionss = []\n",
    "\n",
    "\"\"\"get old tweets is really well organized, so now all I have to do is access the feature of desire from the data\"\"\"\n",
    "for i in range(len(usertweets)):\n",
    "    for j in range(len(usertweets[i])):\n",
    "        usernames.append(usertweets[i][j].username)\n",
    "        dates.append(usertweets[i][j].date)\n",
    "        tos.append(usertweets[i][j].to)\n",
    "        repliess.append(usertweets[i][j].replies)\n",
    "        retweetss.append(usertweets[i][j].retweets)\n",
    "        favoritess.append(usertweets[i][j].favorites)\n",
    "        texts.append(usertweets[i][j].text)\n",
    "        mentionss.append(usertweets[i][j].mentions)\n",
    "        hashtagss.append(usertweets[i][j].hashtags)"
   ]
  },
  {
   "cell_type": "code",
   "execution_count": null,
   "metadata": {},
   "outputs": [],
   "source": [
    "df = pd.DataFrame({'username': usernames,'date':dates, 'text':texts,\n",
    "                   'hashtags':hashtagss,'to':tos,'replies':repliess,\n",
    "                  'retweets':retweetss,'favorites':favoritess,'mentions':mentionss}) #this dataframe compiles all the features of interest across uers\n"
   ]
  },
  {
   "cell_type": "code",
   "execution_count": null,
   "metadata": {},
   "outputs": [],
   "source": [
    "df.head()"
   ]
  },
  {
   "cell_type": "markdown",
   "metadata": {},
   "source": [
    "If rerunning this code, skip this step to save time. We load the CSV generated below in step 1."
   ]
  },
  {
   "cell_type": "code",
   "execution_count": null,
   "metadata": {},
   "outputs": [],
   "source": [
    "\"\"\"converting the dataframe to csv prevents me from having to rerun the above code\"\"\"\n",
    "df.to_csv(\"tweetbase.csv\")"
   ]
  },
  {
   "cell_type": "markdown",
   "metadata": {},
   "source": [
    "## 1) Featurization\n",
    "<a id=\"sec1\"></a>"
   ]
  },
  {
   "cell_type": "code",
   "execution_count": 56,
   "metadata": {},
   "outputs": [],
   "source": [
    "df = pd.read_csv(\"tweetbase.csv\") \n",
    "df= df.drop(columns=['Unnamed: 0'])"
   ]
  },
  {
   "cell_type": "markdown",
   "metadata": {},
   "source": [
    "Out of curiosity/to take a quick look at engagements across all forms of interacting with tweets, I created a totalEngagement feature that combines replies, retweets, and favorites."
   ]
  },
  {
   "cell_type": "code",
   "execution_count": 57,
   "metadata": {},
   "outputs": [],
   "source": [
    "df['totalEngagement'] = df['replies']+df['retweets']+df['favorites']"
   ]
  },
  {
   "cell_type": "code",
   "execution_count": 58,
   "metadata": {},
   "outputs": [
    {
     "data": {
      "text/html": [
       "<div>\n",
       "<style scoped>\n",
       "    .dataframe tbody tr th:only-of-type {\n",
       "        vertical-align: middle;\n",
       "    }\n",
       "\n",
       "    .dataframe tbody tr th {\n",
       "        vertical-align: top;\n",
       "    }\n",
       "\n",
       "    .dataframe thead th {\n",
       "        text-align: right;\n",
       "    }\n",
       "</style>\n",
       "<table border=\"1\" class=\"dataframe\">\n",
       "  <thead>\n",
       "    <tr style=\"text-align: right;\">\n",
       "      <th></th>\n",
       "      <th>username</th>\n",
       "      <th>date</th>\n",
       "      <th>text</th>\n",
       "      <th>hashtags</th>\n",
       "      <th>to</th>\n",
       "      <th>replies</th>\n",
       "      <th>retweets</th>\n",
       "      <th>favorites</th>\n",
       "      <th>mentions</th>\n",
       "      <th>totalEngagement</th>\n",
       "    </tr>\n",
       "  </thead>\n",
       "  <tbody>\n",
       "    <tr>\n",
       "      <th>0</th>\n",
       "      <td>ClaudiaDides</td>\n",
       "      <td>2019-12-09 23:32:47+00:00</td>\n",
       "      <td>Ahora en el campamento de la dignidad por una ...</td>\n",
       "      <td>#AsambleaConstituyente</td>\n",
       "      <td>NaN</td>\n",
       "      <td>6</td>\n",
       "      <td>31</td>\n",
       "      <td>119</td>\n",
       "      <td>NaN</td>\n",
       "      <td>156</td>\n",
       "    </tr>\n",
       "    <tr>\n",
       "      <th>1</th>\n",
       "      <td>ClaudiaDides</td>\n",
       "      <td>2019-12-09 17:16:29+00:00</td>\n",
       "      <td>Muy enredada, nadie sabe donde ir a votar @ACh...</td>\n",
       "      <td>NaN</td>\n",
       "      <td>CristobalRec</td>\n",
       "      <td>0</td>\n",
       "      <td>1</td>\n",
       "      <td>1</td>\n",
       "      <td>@AChMChile</td>\n",
       "      <td>2</td>\n",
       "    </tr>\n",
       "    <tr>\n",
       "      <th>2</th>\n",
       "      <td>ClaudiaDides</td>\n",
       "      <td>2019-12-09 13:11:11+00:00</td>\n",
       "      <td>Este fin de semana es la Cobsulta Municipal, q...</td>\n",
       "      <td>#AsambleaConstituyente #NuevaConstituci</td>\n",
       "      <td>NaN</td>\n",
       "      <td>2</td>\n",
       "      <td>22</td>\n",
       "      <td>20</td>\n",
       "      <td>NaN</td>\n",
       "      <td>44</td>\n",
       "    </tr>\n",
       "    <tr>\n",
       "      <th>3</th>\n",
       "      <td>ClaudiaDides</td>\n",
       "      <td>2019-12-09 12:41:38+00:00</td>\n",
       "      <td>Para las feministas nuestro enemigo es el orde...</td>\n",
       "      <td>NaN</td>\n",
       "      <td>SylviaEyzaguirr</td>\n",
       "      <td>1</td>\n",
       "      <td>4</td>\n",
       "      <td>17</td>\n",
       "      <td>NaN</td>\n",
       "      <td>22</td>\n",
       "    </tr>\n",
       "    <tr>\n",
       "      <th>4</th>\n",
       "      <td>ClaudiaDides</td>\n",
       "      <td>2019-12-09 05:11:34+00:00</td>\n",
       "      <td></td>\n",
       "      <td>NaN</td>\n",
       "      <td>marcelamaliki</td>\n",
       "      <td>0</td>\n",
       "      <td>0</td>\n",
       "      <td>3</td>\n",
       "      <td>NaN</td>\n",
       "      <td>3</td>\n",
       "    </tr>\n",
       "  </tbody>\n",
       "</table>\n",
       "</div>"
      ],
      "text/plain": [
       "       username                       date  \\\n",
       "0  ClaudiaDides  2019-12-09 23:32:47+00:00   \n",
       "1  ClaudiaDides  2019-12-09 17:16:29+00:00   \n",
       "2  ClaudiaDides  2019-12-09 13:11:11+00:00   \n",
       "3  ClaudiaDides  2019-12-09 12:41:38+00:00   \n",
       "4  ClaudiaDides  2019-12-09 05:11:34+00:00   \n",
       "\n",
       "                                                text  \\\n",
       "0  Ahora en el campamento de la dignidad por una ...   \n",
       "1  Muy enredada, nadie sabe donde ir a votar @ACh...   \n",
       "2  Este fin de semana es la Cobsulta Municipal, q...   \n",
       "3  Para las feministas nuestro enemigo es el orde...   \n",
       "4                                                      \n",
       "\n",
       "                                  hashtags               to  replies  \\\n",
       "0                   #AsambleaConstituyente              NaN        6   \n",
       "1                                      NaN     CristobalRec        0   \n",
       "2  #AsambleaConstituyente #NuevaConstituci              NaN        2   \n",
       "3                                      NaN  SylviaEyzaguirr        1   \n",
       "4                                      NaN    marcelamaliki        0   \n",
       "\n",
       "   retweets  favorites    mentions  totalEngagement  \n",
       "0        31        119         NaN              156  \n",
       "1         1          1  @AChMChile                2  \n",
       "2        22         20         NaN               44  \n",
       "3         4         17         NaN               22  \n",
       "4         0          3         NaN                3  "
      ]
     },
     "execution_count": 58,
     "metadata": {},
     "output_type": "execute_result"
    }
   ],
   "source": [
    "df.head()"
   ]
  },
  {
   "cell_type": "markdown",
   "metadata": {},
   "source": [
    "After identifying the genders of all my profiles, I decided it would be helpful for potential gender related analyses to make a new feature for it."
   ]
  },
  {
   "cell_type": "code",
   "execution_count": 59,
   "metadata": {},
   "outputs": [],
   "source": [
    "femlist = ['ClaudiaDides','Pa__tty','ValdebenitoNata','tv_monica',\n",
    "           'KarolCariola','BeaSanchezYTu','LorenaPizarroS','camila_vallejo',\n",
    "           'Claudia_Mix','carmen_hertz','','labeasanchez','PamJiles',\n",
    "           'IraciHassler','nataliacuevasg','monlaferte','emiliatijoux',\n",
    "           'MarianaLaActriz','KenaLorenziniL','mirnaschindler','ale_injoque']\n",
    "           \n",
    "malelist = ['gabrielboric','JorgeSharp','GiorgioJackson','redolesoficial',\n",
    "            'manugarpez','nanostern','jcoulon','FelipeParadaM',\n",
    "            'AlbertoMayol','DMatamala','CristobalYessen','danieljadue',\n",
    "            'sarmiento510','mriesco','MauroMura11','juan_urra',\n",
    "            'tomashirsch','Jaime_Bassa','mauricio_weibel','JParadaHoyl']\n",
    "\n",
    "genlist = []         \n",
    "for i in range(len(df)):\n",
    "    if df['username'][i] in femlist:\n",
    "        genlist.append('f')\n",
    "    if df['username'][i] in malelist:\n",
    "        genlist.append('m')"
   ]
  },
  {
   "cell_type": "code",
   "execution_count": 60,
   "metadata": {},
   "outputs": [],
   "source": [
    "df['gender'] = genlist"
   ]
  },
  {
   "cell_type": "code",
   "execution_count": 61,
   "metadata": {},
   "outputs": [
    {
     "data": {
      "text/html": [
       "<div>\n",
       "<style scoped>\n",
       "    .dataframe tbody tr th:only-of-type {\n",
       "        vertical-align: middle;\n",
       "    }\n",
       "\n",
       "    .dataframe tbody tr th {\n",
       "        vertical-align: top;\n",
       "    }\n",
       "\n",
       "    .dataframe thead th {\n",
       "        text-align: right;\n",
       "    }\n",
       "</style>\n",
       "<table border=\"1\" class=\"dataframe\">\n",
       "  <thead>\n",
       "    <tr style=\"text-align: right;\">\n",
       "      <th></th>\n",
       "      <th>username</th>\n",
       "      <th>date</th>\n",
       "      <th>text</th>\n",
       "      <th>hashtags</th>\n",
       "      <th>to</th>\n",
       "      <th>replies</th>\n",
       "      <th>retweets</th>\n",
       "      <th>favorites</th>\n",
       "      <th>mentions</th>\n",
       "      <th>totalEngagement</th>\n",
       "      <th>gender</th>\n",
       "    </tr>\n",
       "  </thead>\n",
       "  <tbody>\n",
       "    <tr>\n",
       "      <th>0</th>\n",
       "      <td>ClaudiaDides</td>\n",
       "      <td>2019-12-09 23:32:47+00:00</td>\n",
       "      <td>Ahora en el campamento de la dignidad por una ...</td>\n",
       "      <td>#AsambleaConstituyente</td>\n",
       "      <td>NaN</td>\n",
       "      <td>6</td>\n",
       "      <td>31</td>\n",
       "      <td>119</td>\n",
       "      <td>NaN</td>\n",
       "      <td>156</td>\n",
       "      <td>f</td>\n",
       "    </tr>\n",
       "    <tr>\n",
       "      <th>1</th>\n",
       "      <td>ClaudiaDides</td>\n",
       "      <td>2019-12-09 17:16:29+00:00</td>\n",
       "      <td>Muy enredada, nadie sabe donde ir a votar @ACh...</td>\n",
       "      <td>NaN</td>\n",
       "      <td>CristobalRec</td>\n",
       "      <td>0</td>\n",
       "      <td>1</td>\n",
       "      <td>1</td>\n",
       "      <td>@AChMChile</td>\n",
       "      <td>2</td>\n",
       "      <td>f</td>\n",
       "    </tr>\n",
       "    <tr>\n",
       "      <th>2</th>\n",
       "      <td>ClaudiaDides</td>\n",
       "      <td>2019-12-09 13:11:11+00:00</td>\n",
       "      <td>Este fin de semana es la Cobsulta Municipal, q...</td>\n",
       "      <td>#AsambleaConstituyente #NuevaConstituci</td>\n",
       "      <td>NaN</td>\n",
       "      <td>2</td>\n",
       "      <td>22</td>\n",
       "      <td>20</td>\n",
       "      <td>NaN</td>\n",
       "      <td>44</td>\n",
       "      <td>f</td>\n",
       "    </tr>\n",
       "    <tr>\n",
       "      <th>3</th>\n",
       "      <td>ClaudiaDides</td>\n",
       "      <td>2019-12-09 12:41:38+00:00</td>\n",
       "      <td>Para las feministas nuestro enemigo es el orde...</td>\n",
       "      <td>NaN</td>\n",
       "      <td>SylviaEyzaguirr</td>\n",
       "      <td>1</td>\n",
       "      <td>4</td>\n",
       "      <td>17</td>\n",
       "      <td>NaN</td>\n",
       "      <td>22</td>\n",
       "      <td>f</td>\n",
       "    </tr>\n",
       "    <tr>\n",
       "      <th>4</th>\n",
       "      <td>ClaudiaDides</td>\n",
       "      <td>2019-12-09 05:11:34+00:00</td>\n",
       "      <td></td>\n",
       "      <td>NaN</td>\n",
       "      <td>marcelamaliki</td>\n",
       "      <td>0</td>\n",
       "      <td>0</td>\n",
       "      <td>3</td>\n",
       "      <td>NaN</td>\n",
       "      <td>3</td>\n",
       "      <td>f</td>\n",
       "    </tr>\n",
       "  </tbody>\n",
       "</table>\n",
       "</div>"
      ],
      "text/plain": [
       "       username                       date  \\\n",
       "0  ClaudiaDides  2019-12-09 23:32:47+00:00   \n",
       "1  ClaudiaDides  2019-12-09 17:16:29+00:00   \n",
       "2  ClaudiaDides  2019-12-09 13:11:11+00:00   \n",
       "3  ClaudiaDides  2019-12-09 12:41:38+00:00   \n",
       "4  ClaudiaDides  2019-12-09 05:11:34+00:00   \n",
       "\n",
       "                                                text  \\\n",
       "0  Ahora en el campamento de la dignidad por una ...   \n",
       "1  Muy enredada, nadie sabe donde ir a votar @ACh...   \n",
       "2  Este fin de semana es la Cobsulta Municipal, q...   \n",
       "3  Para las feministas nuestro enemigo es el orde...   \n",
       "4                                                      \n",
       "\n",
       "                                  hashtags               to  replies  \\\n",
       "0                   #AsambleaConstituyente              NaN        6   \n",
       "1                                      NaN     CristobalRec        0   \n",
       "2  #AsambleaConstituyente #NuevaConstituci              NaN        2   \n",
       "3                                      NaN  SylviaEyzaguirr        1   \n",
       "4                                      NaN    marcelamaliki        0   \n",
       "\n",
       "   retweets  favorites    mentions  totalEngagement gender  \n",
       "0        31        119         NaN              156      f  \n",
       "1         1          1  @AChMChile                2      f  \n",
       "2        22         20         NaN               44      f  \n",
       "3         4         17         NaN               22      f  \n",
       "4         0          3         NaN                3      f  "
      ]
     },
     "execution_count": 61,
     "metadata": {},
     "output_type": "execute_result"
    }
   ],
   "source": [
    "df.head()"
   ]
  },
  {
   "cell_type": "code",
   "execution_count": 62,
   "metadata": {},
   "outputs": [],
   "source": [
    "dfdate = df.groupby('date') "
   ]
  },
  {
   "cell_type": "code",
   "execution_count": 63,
   "metadata": {},
   "outputs": [],
   "source": [
    "dfd = dfdate.first()"
   ]
  },
  {
   "cell_type": "code",
   "execution_count": 64,
   "metadata": {},
   "outputs": [
    {
     "data": {
      "text/html": [
       "<div>\n",
       "<style scoped>\n",
       "    .dataframe tbody tr th:only-of-type {\n",
       "        vertical-align: middle;\n",
       "    }\n",
       "\n",
       "    .dataframe tbody tr th {\n",
       "        vertical-align: top;\n",
       "    }\n",
       "\n",
       "    .dataframe thead th {\n",
       "        text-align: right;\n",
       "    }\n",
       "</style>\n",
       "<table border=\"1\" class=\"dataframe\">\n",
       "  <thead>\n",
       "    <tr style=\"text-align: right;\">\n",
       "      <th></th>\n",
       "      <th>username</th>\n",
       "      <th>text</th>\n",
       "      <th>hashtags</th>\n",
       "      <th>to</th>\n",
       "      <th>replies</th>\n",
       "      <th>retweets</th>\n",
       "      <th>favorites</th>\n",
       "      <th>mentions</th>\n",
       "      <th>totalEngagement</th>\n",
       "      <th>gender</th>\n",
       "    </tr>\n",
       "    <tr>\n",
       "      <th>date</th>\n",
       "      <th></th>\n",
       "      <th></th>\n",
       "      <th></th>\n",
       "      <th></th>\n",
       "      <th></th>\n",
       "      <th></th>\n",
       "      <th></th>\n",
       "      <th></th>\n",
       "      <th></th>\n",
       "      <th></th>\n",
       "    </tr>\n",
       "  </thead>\n",
       "  <tbody>\n",
       "    <tr>\n",
       "      <th>2019-10-14 00:01:01+00:00</th>\n",
       "      <td>KenaLorenziniL</td>\n",
       "      <td>así es....</td>\n",
       "      <td>NaN</td>\n",
       "      <td>absurdidez</td>\n",
       "      <td>0</td>\n",
       "      <td>0</td>\n",
       "      <td>0</td>\n",
       "      <td>NaN</td>\n",
       "      <td>0</td>\n",
       "      <td>f</td>\n",
       "    </tr>\n",
       "    <tr>\n",
       "      <th>2019-10-14 00:06:53+00:00</th>\n",
       "      <td>labeasanchez</td>\n",
       "      <td>#RodrigoMundaca es un incansable luchador del ...</td>\n",
       "      <td>#RodrigoMundaca #MundacaNoEst</td>\n",
       "      <td>NaN</td>\n",
       "      <td>11</td>\n",
       "      <td>127</td>\n",
       "      <td>269</td>\n",
       "      <td>@SColectivos</td>\n",
       "      <td>407</td>\n",
       "      <td>f</td>\n",
       "    </tr>\n",
       "    <tr>\n",
       "      <th>2019-10-14 00:06:57+00:00</th>\n",
       "      <td>KenaLorenziniL</td>\n",
       "      <td>Dale Curicana!!</td>\n",
       "      <td>NaN</td>\n",
       "      <td>EveFitCL</td>\n",
       "      <td>0</td>\n",
       "      <td>0</td>\n",
       "      <td>3</td>\n",
       "      <td>NaN</td>\n",
       "      <td>3</td>\n",
       "      <td>f</td>\n",
       "    </tr>\n",
       "    <tr>\n",
       "      <th>2019-10-14 00:07:47+00:00</th>\n",
       "      <td>KenaLorenziniL</td>\n",
       "      <td>y tú eres lesbiana?...qué asco</td>\n",
       "      <td>NaN</td>\n",
       "      <td>ErikaMontecinos</td>\n",
       "      <td>1</td>\n",
       "      <td>0</td>\n",
       "      <td>2</td>\n",
       "      <td>NaN</td>\n",
       "      <td>3</td>\n",
       "      <td>f</td>\n",
       "    </tr>\n",
       "    <tr>\n",
       "      <th>2019-10-14 00:12:09+00:00</th>\n",
       "      <td>KenaLorenziniL</td>\n",
       "      <td>LISTOCO TELLIER CERRÓ LA PUERTA AL ÚNICO ESPAC...</td>\n",
       "      <td>NaN</td>\n",
       "      <td>ElMercurio_cl</td>\n",
       "      <td>24</td>\n",
       "      <td>6</td>\n",
       "      <td>19</td>\n",
       "      <td>NaN</td>\n",
       "      <td>49</td>\n",
       "      <td>f</td>\n",
       "    </tr>\n",
       "  </tbody>\n",
       "</table>\n",
       "</div>"
      ],
      "text/plain": [
       "                                 username  \\\n",
       "date                                        \n",
       "2019-10-14 00:01:01+00:00  KenaLorenziniL   \n",
       "2019-10-14 00:06:53+00:00    labeasanchez   \n",
       "2019-10-14 00:06:57+00:00  KenaLorenziniL   \n",
       "2019-10-14 00:07:47+00:00  KenaLorenziniL   \n",
       "2019-10-14 00:12:09+00:00  KenaLorenziniL   \n",
       "\n",
       "                                                                        text  \\\n",
       "date                                                                           \n",
       "2019-10-14 00:01:01+00:00                                         así es....   \n",
       "2019-10-14 00:06:53+00:00  #RodrigoMundaca es un incansable luchador del ...   \n",
       "2019-10-14 00:06:57+00:00                                    Dale Curicana!!   \n",
       "2019-10-14 00:07:47+00:00                     y tú eres lesbiana?...qué asco   \n",
       "2019-10-14 00:12:09+00:00  LISTOCO TELLIER CERRÓ LA PUERTA AL ÚNICO ESPAC...   \n",
       "\n",
       "                                                hashtags               to  \\\n",
       "date                                                                        \n",
       "2019-10-14 00:01:01+00:00                            NaN       absurdidez   \n",
       "2019-10-14 00:06:53+00:00  #RodrigoMundaca #MundacaNoEst              NaN   \n",
       "2019-10-14 00:06:57+00:00                            NaN         EveFitCL   \n",
       "2019-10-14 00:07:47+00:00                            NaN  ErikaMontecinos   \n",
       "2019-10-14 00:12:09+00:00                            NaN    ElMercurio_cl   \n",
       "\n",
       "                           replies  retweets  favorites      mentions  \\\n",
       "date                                                                    \n",
       "2019-10-14 00:01:01+00:00        0         0          0           NaN   \n",
       "2019-10-14 00:06:53+00:00       11       127        269  @SColectivos   \n",
       "2019-10-14 00:06:57+00:00        0         0          3           NaN   \n",
       "2019-10-14 00:07:47+00:00        1         0          2           NaN   \n",
       "2019-10-14 00:12:09+00:00       24         6         19           NaN   \n",
       "\n",
       "                           totalEngagement gender  \n",
       "date                                               \n",
       "2019-10-14 00:01:01+00:00                0      f  \n",
       "2019-10-14 00:06:53+00:00              407      f  \n",
       "2019-10-14 00:06:57+00:00                3      f  \n",
       "2019-10-14 00:07:47+00:00                3      f  \n",
       "2019-10-14 00:12:09+00:00               49      f  "
      ]
     },
     "execution_count": 64,
     "metadata": {},
     "output_type": "execute_result"
    }
   ],
   "source": [
    "dfd.head()"
   ]
  },
  {
   "cell_type": "code",
   "execution_count": 65,
   "metadata": {},
   "outputs": [],
   "source": [
    "dfdatesort = dfd.reset_index()"
   ]
  },
  {
   "cell_type": "markdown",
   "metadata": {},
   "source": [
    "dfdatesort has all the tweets sorted by date they were posted"
   ]
  },
  {
   "cell_type": "code",
   "execution_count": 66,
   "metadata": {},
   "outputs": [
    {
     "data": {
      "text/html": [
       "<div>\n",
       "<style scoped>\n",
       "    .dataframe tbody tr th:only-of-type {\n",
       "        vertical-align: middle;\n",
       "    }\n",
       "\n",
       "    .dataframe tbody tr th {\n",
       "        vertical-align: top;\n",
       "    }\n",
       "\n",
       "    .dataframe thead th {\n",
       "        text-align: right;\n",
       "    }\n",
       "</style>\n",
       "<table border=\"1\" class=\"dataframe\">\n",
       "  <thead>\n",
       "    <tr style=\"text-align: right;\">\n",
       "      <th></th>\n",
       "      <th>date</th>\n",
       "      <th>username</th>\n",
       "      <th>text</th>\n",
       "      <th>hashtags</th>\n",
       "      <th>to</th>\n",
       "      <th>replies</th>\n",
       "      <th>retweets</th>\n",
       "      <th>favorites</th>\n",
       "      <th>mentions</th>\n",
       "      <th>totalEngagement</th>\n",
       "      <th>gender</th>\n",
       "    </tr>\n",
       "  </thead>\n",
       "  <tbody>\n",
       "    <tr>\n",
       "      <th>0</th>\n",
       "      <td>2019-10-14 00:01:01+00:00</td>\n",
       "      <td>KenaLorenziniL</td>\n",
       "      <td>así es....</td>\n",
       "      <td>NaN</td>\n",
       "      <td>absurdidez</td>\n",
       "      <td>0</td>\n",
       "      <td>0</td>\n",
       "      <td>0</td>\n",
       "      <td>NaN</td>\n",
       "      <td>0</td>\n",
       "      <td>f</td>\n",
       "    </tr>\n",
       "    <tr>\n",
       "      <th>1</th>\n",
       "      <td>2019-10-14 00:06:53+00:00</td>\n",
       "      <td>labeasanchez</td>\n",
       "      <td>#RodrigoMundaca es un incansable luchador del ...</td>\n",
       "      <td>#RodrigoMundaca #MundacaNoEst</td>\n",
       "      <td>NaN</td>\n",
       "      <td>11</td>\n",
       "      <td>127</td>\n",
       "      <td>269</td>\n",
       "      <td>@SColectivos</td>\n",
       "      <td>407</td>\n",
       "      <td>f</td>\n",
       "    </tr>\n",
       "    <tr>\n",
       "      <th>2</th>\n",
       "      <td>2019-10-14 00:06:57+00:00</td>\n",
       "      <td>KenaLorenziniL</td>\n",
       "      <td>Dale Curicana!!</td>\n",
       "      <td>NaN</td>\n",
       "      <td>EveFitCL</td>\n",
       "      <td>0</td>\n",
       "      <td>0</td>\n",
       "      <td>3</td>\n",
       "      <td>NaN</td>\n",
       "      <td>3</td>\n",
       "      <td>f</td>\n",
       "    </tr>\n",
       "    <tr>\n",
       "      <th>3</th>\n",
       "      <td>2019-10-14 00:07:47+00:00</td>\n",
       "      <td>KenaLorenziniL</td>\n",
       "      <td>y tú eres lesbiana?...qué asco</td>\n",
       "      <td>NaN</td>\n",
       "      <td>ErikaMontecinos</td>\n",
       "      <td>1</td>\n",
       "      <td>0</td>\n",
       "      <td>2</td>\n",
       "      <td>NaN</td>\n",
       "      <td>3</td>\n",
       "      <td>f</td>\n",
       "    </tr>\n",
       "    <tr>\n",
       "      <th>4</th>\n",
       "      <td>2019-10-14 00:12:09+00:00</td>\n",
       "      <td>KenaLorenziniL</td>\n",
       "      <td>LISTOCO TELLIER CERRÓ LA PUERTA AL ÚNICO ESPAC...</td>\n",
       "      <td>NaN</td>\n",
       "      <td>ElMercurio_cl</td>\n",
       "      <td>24</td>\n",
       "      <td>6</td>\n",
       "      <td>19</td>\n",
       "      <td>NaN</td>\n",
       "      <td>49</td>\n",
       "      <td>f</td>\n",
       "    </tr>\n",
       "  </tbody>\n",
       "</table>\n",
       "</div>"
      ],
      "text/plain": [
       "                        date        username  \\\n",
       "0  2019-10-14 00:01:01+00:00  KenaLorenziniL   \n",
       "1  2019-10-14 00:06:53+00:00    labeasanchez   \n",
       "2  2019-10-14 00:06:57+00:00  KenaLorenziniL   \n",
       "3  2019-10-14 00:07:47+00:00  KenaLorenziniL   \n",
       "4  2019-10-14 00:12:09+00:00  KenaLorenziniL   \n",
       "\n",
       "                                                text  \\\n",
       "0                                         así es....   \n",
       "1  #RodrigoMundaca es un incansable luchador del ...   \n",
       "2                                    Dale Curicana!!   \n",
       "3                     y tú eres lesbiana?...qué asco   \n",
       "4  LISTOCO TELLIER CERRÓ LA PUERTA AL ÚNICO ESPAC...   \n",
       "\n",
       "                        hashtags               to  replies  retweets  \\\n",
       "0                            NaN       absurdidez        0         0   \n",
       "1  #RodrigoMundaca #MundacaNoEst              NaN       11       127   \n",
       "2                            NaN         EveFitCL        0         0   \n",
       "3                            NaN  ErikaMontecinos        1         0   \n",
       "4                            NaN    ElMercurio_cl       24         6   \n",
       "\n",
       "   favorites      mentions  totalEngagement gender  \n",
       "0          0           NaN                0      f  \n",
       "1        269  @SColectivos              407      f  \n",
       "2          3           NaN                3      f  \n",
       "3          2           NaN                3      f  \n",
       "4         19           NaN               49      f  "
      ]
     },
     "execution_count": 66,
     "metadata": {},
     "output_type": "execute_result"
    }
   ],
   "source": [
    "dfdatesort.head()"
   ]
  },
  {
   "cell_type": "markdown",
   "metadata": {},
   "source": [
    "### Exploratory Visualization 1: Frequency of tweets over time\n",
    "<a id=\"sec1-1\"></a>\n",
    "The objective of this visualization step is to take a big picture look at how often my leftist accounts used Twitter over the course of the crisis thus far."
   ]
  },
  {
   "cell_type": "code",
   "execution_count": 67,
   "metadata": {},
   "outputs": [],
   "source": [
    "uniquedates = []\n",
    "for d in dfdatesort['date']:\n",
    "    if d[0:10] not in uniquedates:\n",
    "        uniquedates.append(d[0:10])"
   ]
  },
  {
   "cell_type": "code",
   "execution_count": 68,
   "metadata": {},
   "outputs": [],
   "source": [
    "uniquedatect = [0]*len(uniquedates)\n",
    "for date in range(len(uniquedates)):\n",
    "    for d in dfdatesort['date']:\n",
    "        if d[0:10] == uniquedates[date]:\n",
    "            uniquedatect[date]+=1"
   ]
  },
  {
   "cell_type": "code",
   "execution_count": 69,
   "metadata": {},
   "outputs": [],
   "source": [
    "import plotly.express as px"
   ]
  },
  {
   "cell_type": "code",
   "execution_count": 70,
   "metadata": {},
   "outputs": [],
   "source": [
    "dfdate = pd.DataFrame({'date': uniquedates,'count':uniquedatect})"
   ]
  },
  {
   "cell_type": "code",
   "execution_count": 163,
   "metadata": {},
   "outputs": [
    {
     "data": {
      "application/vnd.plotly.v1+json": {
       "config": {
        "plotlyServerURL": "https://plot.ly"
       },
       "data": [
        {
         "hoverlabel": {
          "namelength": 0
         },
         "hovertemplate": "date=%{x}<br>count=%{y}",
         "legendgroup": "",
         "line": {
          "color": "#636efa",
          "dash": "solid"
         },
         "mode": "lines",
         "name": "",
         "showlegend": false,
         "type": "scatter",
         "x": [
          "2019-10-14",
          "2019-10-15",
          "2019-10-16",
          "2019-10-17",
          "2019-10-18",
          "2019-10-19",
          "2019-10-20",
          "2019-10-21",
          "2019-10-22",
          "2019-10-23",
          "2019-10-24",
          "2019-10-25",
          "2019-10-26",
          "2019-10-27",
          "2019-10-28",
          "2019-10-29",
          "2019-10-30",
          "2019-10-31",
          "2019-11-01",
          "2019-11-02",
          "2019-11-03",
          "2019-11-04",
          "2019-11-05",
          "2019-11-06",
          "2019-11-07",
          "2019-11-08",
          "2019-11-09",
          "2019-11-10",
          "2019-11-11",
          "2019-11-12",
          "2019-11-13",
          "2019-11-14",
          "2019-11-15",
          "2019-11-16",
          "2019-11-17",
          "2019-11-18",
          "2019-11-19",
          "2019-11-20",
          "2019-11-21",
          "2019-11-22",
          "2019-11-23",
          "2019-11-24",
          "2019-11-25",
          "2019-11-26",
          "2019-11-27",
          "2019-11-28",
          "2019-11-29",
          "2019-11-30",
          "2019-12-01",
          "2019-12-02",
          "2019-12-03",
          "2019-12-04",
          "2019-12-05",
          "2019-12-06",
          "2019-12-07",
          "2019-12-08",
          "2019-12-09"
         ],
         "xaxis": "x",
         "y": [
          235,
          264,
          277,
          232,
          409,
          722,
          675,
          647,
          580,
          675,
          670,
          522,
          748,
          571,
          562,
          462,
          434,
          356,
          327,
          226,
          323,
          259,
          477,
          407,
          445,
          332,
          414,
          420,
          379,
          406,
          469,
          493,
          666,
          539,
          453,
          468,
          394,
          428,
          393,
          387,
          302,
          312,
          294,
          365,
          320,
          375,
          324,
          273,
          323,
          335,
          359,
          307,
          431,
          266,
          291,
          255,
          461
         ],
         "yaxis": "y"
        }
       ],
       "layout": {
        "height": 600,
        "legend": {
         "tracegroupgap": 0
        },
        "margin": {
         "t": 60
        },
        "template": {
         "data": {
          "bar": [
           {
            "error_x": {
             "color": "#2a3f5f"
            },
            "error_y": {
             "color": "#2a3f5f"
            },
            "marker": {
             "line": {
              "color": "#E5ECF6",
              "width": 0.5
             }
            },
            "type": "bar"
           }
          ],
          "barpolar": [
           {
            "marker": {
             "line": {
              "color": "#E5ECF6",
              "width": 0.5
             }
            },
            "type": "barpolar"
           }
          ],
          "carpet": [
           {
            "aaxis": {
             "endlinecolor": "#2a3f5f",
             "gridcolor": "white",
             "linecolor": "white",
             "minorgridcolor": "white",
             "startlinecolor": "#2a3f5f"
            },
            "baxis": {
             "endlinecolor": "#2a3f5f",
             "gridcolor": "white",
             "linecolor": "white",
             "minorgridcolor": "white",
             "startlinecolor": "#2a3f5f"
            },
            "type": "carpet"
           }
          ],
          "choropleth": [
           {
            "colorbar": {
             "outlinewidth": 0,
             "ticks": ""
            },
            "type": "choropleth"
           }
          ],
          "contour": [
           {
            "colorbar": {
             "outlinewidth": 0,
             "ticks": ""
            },
            "colorscale": [
             [
              0,
              "#0d0887"
             ],
             [
              0.1111111111111111,
              "#46039f"
             ],
             [
              0.2222222222222222,
              "#7201a8"
             ],
             [
              0.3333333333333333,
              "#9c179e"
             ],
             [
              0.4444444444444444,
              "#bd3786"
             ],
             [
              0.5555555555555556,
              "#d8576b"
             ],
             [
              0.6666666666666666,
              "#ed7953"
             ],
             [
              0.7777777777777778,
              "#fb9f3a"
             ],
             [
              0.8888888888888888,
              "#fdca26"
             ],
             [
              1,
              "#f0f921"
             ]
            ],
            "type": "contour"
           }
          ],
          "contourcarpet": [
           {
            "colorbar": {
             "outlinewidth": 0,
             "ticks": ""
            },
            "type": "contourcarpet"
           }
          ],
          "heatmap": [
           {
            "colorbar": {
             "outlinewidth": 0,
             "ticks": ""
            },
            "colorscale": [
             [
              0,
              "#0d0887"
             ],
             [
              0.1111111111111111,
              "#46039f"
             ],
             [
              0.2222222222222222,
              "#7201a8"
             ],
             [
              0.3333333333333333,
              "#9c179e"
             ],
             [
              0.4444444444444444,
              "#bd3786"
             ],
             [
              0.5555555555555556,
              "#d8576b"
             ],
             [
              0.6666666666666666,
              "#ed7953"
             ],
             [
              0.7777777777777778,
              "#fb9f3a"
             ],
             [
              0.8888888888888888,
              "#fdca26"
             ],
             [
              1,
              "#f0f921"
             ]
            ],
            "type": "heatmap"
           }
          ],
          "heatmapgl": [
           {
            "colorbar": {
             "outlinewidth": 0,
             "ticks": ""
            },
            "colorscale": [
             [
              0,
              "#0d0887"
             ],
             [
              0.1111111111111111,
              "#46039f"
             ],
             [
              0.2222222222222222,
              "#7201a8"
             ],
             [
              0.3333333333333333,
              "#9c179e"
             ],
             [
              0.4444444444444444,
              "#bd3786"
             ],
             [
              0.5555555555555556,
              "#d8576b"
             ],
             [
              0.6666666666666666,
              "#ed7953"
             ],
             [
              0.7777777777777778,
              "#fb9f3a"
             ],
             [
              0.8888888888888888,
              "#fdca26"
             ],
             [
              1,
              "#f0f921"
             ]
            ],
            "type": "heatmapgl"
           }
          ],
          "histogram": [
           {
            "marker": {
             "colorbar": {
              "outlinewidth": 0,
              "ticks": ""
             }
            },
            "type": "histogram"
           }
          ],
          "histogram2d": [
           {
            "colorbar": {
             "outlinewidth": 0,
             "ticks": ""
            },
            "colorscale": [
             [
              0,
              "#0d0887"
             ],
             [
              0.1111111111111111,
              "#46039f"
             ],
             [
              0.2222222222222222,
              "#7201a8"
             ],
             [
              0.3333333333333333,
              "#9c179e"
             ],
             [
              0.4444444444444444,
              "#bd3786"
             ],
             [
              0.5555555555555556,
              "#d8576b"
             ],
             [
              0.6666666666666666,
              "#ed7953"
             ],
             [
              0.7777777777777778,
              "#fb9f3a"
             ],
             [
              0.8888888888888888,
              "#fdca26"
             ],
             [
              1,
              "#f0f921"
             ]
            ],
            "type": "histogram2d"
           }
          ],
          "histogram2dcontour": [
           {
            "colorbar": {
             "outlinewidth": 0,
             "ticks": ""
            },
            "colorscale": [
             [
              0,
              "#0d0887"
             ],
             [
              0.1111111111111111,
              "#46039f"
             ],
             [
              0.2222222222222222,
              "#7201a8"
             ],
             [
              0.3333333333333333,
              "#9c179e"
             ],
             [
              0.4444444444444444,
              "#bd3786"
             ],
             [
              0.5555555555555556,
              "#d8576b"
             ],
             [
              0.6666666666666666,
              "#ed7953"
             ],
             [
              0.7777777777777778,
              "#fb9f3a"
             ],
             [
              0.8888888888888888,
              "#fdca26"
             ],
             [
              1,
              "#f0f921"
             ]
            ],
            "type": "histogram2dcontour"
           }
          ],
          "mesh3d": [
           {
            "colorbar": {
             "outlinewidth": 0,
             "ticks": ""
            },
            "type": "mesh3d"
           }
          ],
          "parcoords": [
           {
            "line": {
             "colorbar": {
              "outlinewidth": 0,
              "ticks": ""
             }
            },
            "type": "parcoords"
           }
          ],
          "scatter": [
           {
            "marker": {
             "colorbar": {
              "outlinewidth": 0,
              "ticks": ""
             }
            },
            "type": "scatter"
           }
          ],
          "scatter3d": [
           {
            "line": {
             "colorbar": {
              "outlinewidth": 0,
              "ticks": ""
             }
            },
            "marker": {
             "colorbar": {
              "outlinewidth": 0,
              "ticks": ""
             }
            },
            "type": "scatter3d"
           }
          ],
          "scattercarpet": [
           {
            "marker": {
             "colorbar": {
              "outlinewidth": 0,
              "ticks": ""
             }
            },
            "type": "scattercarpet"
           }
          ],
          "scattergeo": [
           {
            "marker": {
             "colorbar": {
              "outlinewidth": 0,
              "ticks": ""
             }
            },
            "type": "scattergeo"
           }
          ],
          "scattergl": [
           {
            "marker": {
             "colorbar": {
              "outlinewidth": 0,
              "ticks": ""
             }
            },
            "type": "scattergl"
           }
          ],
          "scattermapbox": [
           {
            "marker": {
             "colorbar": {
              "outlinewidth": 0,
              "ticks": ""
             }
            },
            "type": "scattermapbox"
           }
          ],
          "scatterpolar": [
           {
            "marker": {
             "colorbar": {
              "outlinewidth": 0,
              "ticks": ""
             }
            },
            "type": "scatterpolar"
           }
          ],
          "scatterpolargl": [
           {
            "marker": {
             "colorbar": {
              "outlinewidth": 0,
              "ticks": ""
             }
            },
            "type": "scatterpolargl"
           }
          ],
          "scatterternary": [
           {
            "marker": {
             "colorbar": {
              "outlinewidth": 0,
              "ticks": ""
             }
            },
            "type": "scatterternary"
           }
          ],
          "surface": [
           {
            "colorbar": {
             "outlinewidth": 0,
             "ticks": ""
            },
            "colorscale": [
             [
              0,
              "#0d0887"
             ],
             [
              0.1111111111111111,
              "#46039f"
             ],
             [
              0.2222222222222222,
              "#7201a8"
             ],
             [
              0.3333333333333333,
              "#9c179e"
             ],
             [
              0.4444444444444444,
              "#bd3786"
             ],
             [
              0.5555555555555556,
              "#d8576b"
             ],
             [
              0.6666666666666666,
              "#ed7953"
             ],
             [
              0.7777777777777778,
              "#fb9f3a"
             ],
             [
              0.8888888888888888,
              "#fdca26"
             ],
             [
              1,
              "#f0f921"
             ]
            ],
            "type": "surface"
           }
          ],
          "table": [
           {
            "cells": {
             "fill": {
              "color": "#EBF0F8"
             },
             "line": {
              "color": "white"
             }
            },
            "header": {
             "fill": {
              "color": "#C8D4E3"
             },
             "line": {
              "color": "white"
             }
            },
            "type": "table"
           }
          ]
         },
         "layout": {
          "annotationdefaults": {
           "arrowcolor": "#2a3f5f",
           "arrowhead": 0,
           "arrowwidth": 1
          },
          "colorscale": {
           "diverging": [
            [
             0,
             "#8e0152"
            ],
            [
             0.1,
             "#c51b7d"
            ],
            [
             0.2,
             "#de77ae"
            ],
            [
             0.3,
             "#f1b6da"
            ],
            [
             0.4,
             "#fde0ef"
            ],
            [
             0.5,
             "#f7f7f7"
            ],
            [
             0.6,
             "#e6f5d0"
            ],
            [
             0.7,
             "#b8e186"
            ],
            [
             0.8,
             "#7fbc41"
            ],
            [
             0.9,
             "#4d9221"
            ],
            [
             1,
             "#276419"
            ]
           ],
           "sequential": [
            [
             0,
             "#0d0887"
            ],
            [
             0.1111111111111111,
             "#46039f"
            ],
            [
             0.2222222222222222,
             "#7201a8"
            ],
            [
             0.3333333333333333,
             "#9c179e"
            ],
            [
             0.4444444444444444,
             "#bd3786"
            ],
            [
             0.5555555555555556,
             "#d8576b"
            ],
            [
             0.6666666666666666,
             "#ed7953"
            ],
            [
             0.7777777777777778,
             "#fb9f3a"
            ],
            [
             0.8888888888888888,
             "#fdca26"
            ],
            [
             1,
             "#f0f921"
            ]
           ],
           "sequentialminus": [
            [
             0,
             "#0d0887"
            ],
            [
             0.1111111111111111,
             "#46039f"
            ],
            [
             0.2222222222222222,
             "#7201a8"
            ],
            [
             0.3333333333333333,
             "#9c179e"
            ],
            [
             0.4444444444444444,
             "#bd3786"
            ],
            [
             0.5555555555555556,
             "#d8576b"
            ],
            [
             0.6666666666666666,
             "#ed7953"
            ],
            [
             0.7777777777777778,
             "#fb9f3a"
            ],
            [
             0.8888888888888888,
             "#fdca26"
            ],
            [
             1,
             "#f0f921"
            ]
           ]
          },
          "colorway": [
           "#636efa",
           "#EF553B",
           "#00cc96",
           "#ab63fa",
           "#FFA15A",
           "#19d3f3",
           "#FF6692",
           "#B6E880",
           "#FF97FF",
           "#FECB52"
          ],
          "font": {
           "color": "#2a3f5f"
          },
          "geo": {
           "bgcolor": "white",
           "lakecolor": "white",
           "landcolor": "#E5ECF6",
           "showlakes": true,
           "showland": true,
           "subunitcolor": "white"
          },
          "hoverlabel": {
           "align": "left"
          },
          "hovermode": "closest",
          "mapbox": {
           "style": "light"
          },
          "paper_bgcolor": "white",
          "plot_bgcolor": "#E5ECF6",
          "polar": {
           "angularaxis": {
            "gridcolor": "white",
            "linecolor": "white",
            "ticks": ""
           },
           "bgcolor": "#E5ECF6",
           "radialaxis": {
            "gridcolor": "white",
            "linecolor": "white",
            "ticks": ""
           }
          },
          "scene": {
           "xaxis": {
            "backgroundcolor": "#E5ECF6",
            "gridcolor": "white",
            "gridwidth": 2,
            "linecolor": "white",
            "showbackground": true,
            "ticks": "",
            "zerolinecolor": "white"
           },
           "yaxis": {
            "backgroundcolor": "#E5ECF6",
            "gridcolor": "white",
            "gridwidth": 2,
            "linecolor": "white",
            "showbackground": true,
            "ticks": "",
            "zerolinecolor": "white"
           },
           "zaxis": {
            "backgroundcolor": "#E5ECF6",
            "gridcolor": "white",
            "gridwidth": 2,
            "linecolor": "white",
            "showbackground": true,
            "ticks": "",
            "zerolinecolor": "white"
           }
          },
          "shapedefaults": {
           "line": {
            "color": "#2a3f5f"
           }
          },
          "ternary": {
           "aaxis": {
            "gridcolor": "white",
            "linecolor": "white",
            "ticks": ""
           },
           "baxis": {
            "gridcolor": "white",
            "linecolor": "white",
            "ticks": ""
           },
           "bgcolor": "#E5ECF6",
           "caxis": {
            "gridcolor": "white",
            "linecolor": "white",
            "ticks": ""
           }
          },
          "title": {
           "x": 0.05
          },
          "xaxis": {
           "automargin": true,
           "gridcolor": "white",
           "linecolor": "white",
           "ticks": "",
           "zerolinecolor": "white",
           "zerolinewidth": 2
          },
          "yaxis": {
           "automargin": true,
           "gridcolor": "white",
           "linecolor": "white",
           "ticks": "",
           "zerolinecolor": "white",
           "zerolinewidth": 2
          }
         }
        },
        "title": {
         "text": "Tweet Count over Time",
         "x": 0.48,
         "xanchor": "center",
         "y": 0.9,
         "yanchor": "top"
        },
        "xaxis": {
         "anchor": "y",
         "domain": [
          0,
          0.98
         ],
         "title": {
          "text": "date"
         }
        },
        "yaxis": {
         "anchor": "x",
         "domain": [
          0,
          1
         ],
         "title": {
          "text": "count"
         }
        }
       }
      },
      "text/html": [
       "<div>\n",
       "        \n",
       "        \n",
       "            <div id=\"c717024e-854e-4dc1-9b5c-9e57e30fc0ec\" class=\"plotly-graph-div\" style=\"height:600px; width:100%;\"></div>\n",
       "            <script type=\"text/javascript\">\n",
       "                require([\"plotly\"], function(Plotly) {\n",
       "                    window.PLOTLYENV=window.PLOTLYENV || {};\n",
       "                    \n",
       "                if (document.getElementById(\"c717024e-854e-4dc1-9b5c-9e57e30fc0ec\")) {\n",
       "                    Plotly.newPlot(\n",
       "                        'c717024e-854e-4dc1-9b5c-9e57e30fc0ec',\n",
       "                        [{\"hoverlabel\": {\"namelength\": 0}, \"hovertemplate\": \"date=%{x}<br>count=%{y}\", \"legendgroup\": \"\", \"line\": {\"color\": \"#636efa\", \"dash\": \"solid\"}, \"mode\": \"lines\", \"name\": \"\", \"showlegend\": false, \"type\": \"scatter\", \"x\": [\"2019-10-14\", \"2019-10-15\", \"2019-10-16\", \"2019-10-17\", \"2019-10-18\", \"2019-10-19\", \"2019-10-20\", \"2019-10-21\", \"2019-10-22\", \"2019-10-23\", \"2019-10-24\", \"2019-10-25\", \"2019-10-26\", \"2019-10-27\", \"2019-10-28\", \"2019-10-29\", \"2019-10-30\", \"2019-10-31\", \"2019-11-01\", \"2019-11-02\", \"2019-11-03\", \"2019-11-04\", \"2019-11-05\", \"2019-11-06\", \"2019-11-07\", \"2019-11-08\", \"2019-11-09\", \"2019-11-10\", \"2019-11-11\", \"2019-11-12\", \"2019-11-13\", \"2019-11-14\", \"2019-11-15\", \"2019-11-16\", \"2019-11-17\", \"2019-11-18\", \"2019-11-19\", \"2019-11-20\", \"2019-11-21\", \"2019-11-22\", \"2019-11-23\", \"2019-11-24\", \"2019-11-25\", \"2019-11-26\", \"2019-11-27\", \"2019-11-28\", \"2019-11-29\", \"2019-11-30\", \"2019-12-01\", \"2019-12-02\", \"2019-12-03\", \"2019-12-04\", \"2019-12-05\", \"2019-12-06\", \"2019-12-07\", \"2019-12-08\", \"2019-12-09\"], \"xaxis\": \"x\", \"y\": [235, 264, 277, 232, 409, 722, 675, 647, 580, 675, 670, 522, 748, 571, 562, 462, 434, 356, 327, 226, 323, 259, 477, 407, 445, 332, 414, 420, 379, 406, 469, 493, 666, 539, 453, 468, 394, 428, 393, 387, 302, 312, 294, 365, 320, 375, 324, 273, 323, 335, 359, 307, 431, 266, 291, 255, 461], \"yaxis\": \"y\"}],\n",
       "                        {\"height\": 600, \"legend\": {\"tracegroupgap\": 0}, \"margin\": {\"t\": 60}, \"template\": {\"data\": {\"bar\": [{\"error_x\": {\"color\": \"#2a3f5f\"}, \"error_y\": {\"color\": \"#2a3f5f\"}, \"marker\": {\"line\": {\"color\": \"#E5ECF6\", \"width\": 0.5}}, \"type\": \"bar\"}], \"barpolar\": [{\"marker\": {\"line\": {\"color\": \"#E5ECF6\", \"width\": 0.5}}, \"type\": \"barpolar\"}], \"carpet\": [{\"aaxis\": {\"endlinecolor\": \"#2a3f5f\", \"gridcolor\": \"white\", \"linecolor\": \"white\", \"minorgridcolor\": \"white\", \"startlinecolor\": \"#2a3f5f\"}, \"baxis\": {\"endlinecolor\": \"#2a3f5f\", \"gridcolor\": \"white\", \"linecolor\": \"white\", \"minorgridcolor\": \"white\", \"startlinecolor\": \"#2a3f5f\"}, \"type\": \"carpet\"}], \"choropleth\": [{\"colorbar\": {\"outlinewidth\": 0, \"ticks\": \"\"}, \"type\": \"choropleth\"}], \"contour\": [{\"colorbar\": {\"outlinewidth\": 0, \"ticks\": \"\"}, \"colorscale\": [[0.0, \"#0d0887\"], [0.1111111111111111, \"#46039f\"], [0.2222222222222222, \"#7201a8\"], [0.3333333333333333, \"#9c179e\"], [0.4444444444444444, \"#bd3786\"], [0.5555555555555556, \"#d8576b\"], [0.6666666666666666, \"#ed7953\"], [0.7777777777777778, \"#fb9f3a\"], [0.8888888888888888, \"#fdca26\"], [1.0, \"#f0f921\"]], \"type\": \"contour\"}], \"contourcarpet\": [{\"colorbar\": {\"outlinewidth\": 0, \"ticks\": \"\"}, \"type\": \"contourcarpet\"}], \"heatmap\": [{\"colorbar\": {\"outlinewidth\": 0, \"ticks\": \"\"}, \"colorscale\": [[0.0, \"#0d0887\"], [0.1111111111111111, \"#46039f\"], [0.2222222222222222, \"#7201a8\"], [0.3333333333333333, \"#9c179e\"], [0.4444444444444444, \"#bd3786\"], [0.5555555555555556, \"#d8576b\"], [0.6666666666666666, \"#ed7953\"], [0.7777777777777778, \"#fb9f3a\"], [0.8888888888888888, \"#fdca26\"], [1.0, \"#f0f921\"]], \"type\": \"heatmap\"}], \"heatmapgl\": [{\"colorbar\": {\"outlinewidth\": 0, \"ticks\": \"\"}, \"colorscale\": [[0.0, \"#0d0887\"], [0.1111111111111111, \"#46039f\"], [0.2222222222222222, \"#7201a8\"], [0.3333333333333333, \"#9c179e\"], [0.4444444444444444, \"#bd3786\"], [0.5555555555555556, \"#d8576b\"], [0.6666666666666666, \"#ed7953\"], [0.7777777777777778, \"#fb9f3a\"], [0.8888888888888888, \"#fdca26\"], [1.0, \"#f0f921\"]], \"type\": \"heatmapgl\"}], \"histogram\": [{\"marker\": {\"colorbar\": {\"outlinewidth\": 0, \"ticks\": \"\"}}, \"type\": \"histogram\"}], \"histogram2d\": [{\"colorbar\": {\"outlinewidth\": 0, \"ticks\": \"\"}, \"colorscale\": [[0.0, \"#0d0887\"], [0.1111111111111111, \"#46039f\"], [0.2222222222222222, \"#7201a8\"], [0.3333333333333333, \"#9c179e\"], [0.4444444444444444, \"#bd3786\"], [0.5555555555555556, \"#d8576b\"], [0.6666666666666666, \"#ed7953\"], [0.7777777777777778, \"#fb9f3a\"], [0.8888888888888888, \"#fdca26\"], [1.0, \"#f0f921\"]], \"type\": \"histogram2d\"}], \"histogram2dcontour\": [{\"colorbar\": {\"outlinewidth\": 0, \"ticks\": \"\"}, \"colorscale\": [[0.0, \"#0d0887\"], [0.1111111111111111, \"#46039f\"], [0.2222222222222222, \"#7201a8\"], [0.3333333333333333, \"#9c179e\"], [0.4444444444444444, \"#bd3786\"], [0.5555555555555556, \"#d8576b\"], [0.6666666666666666, \"#ed7953\"], [0.7777777777777778, \"#fb9f3a\"], [0.8888888888888888, \"#fdca26\"], [1.0, \"#f0f921\"]], \"type\": \"histogram2dcontour\"}], \"mesh3d\": [{\"colorbar\": {\"outlinewidth\": 0, \"ticks\": \"\"}, \"type\": \"mesh3d\"}], \"parcoords\": [{\"line\": {\"colorbar\": {\"outlinewidth\": 0, \"ticks\": \"\"}}, \"type\": \"parcoords\"}], \"scatter\": [{\"marker\": {\"colorbar\": {\"outlinewidth\": 0, \"ticks\": \"\"}}, \"type\": \"scatter\"}], \"scatter3d\": [{\"line\": {\"colorbar\": {\"outlinewidth\": 0, \"ticks\": \"\"}}, \"marker\": {\"colorbar\": {\"outlinewidth\": 0, \"ticks\": \"\"}}, \"type\": \"scatter3d\"}], \"scattercarpet\": [{\"marker\": {\"colorbar\": {\"outlinewidth\": 0, \"ticks\": \"\"}}, \"type\": \"scattercarpet\"}], \"scattergeo\": [{\"marker\": {\"colorbar\": {\"outlinewidth\": 0, \"ticks\": \"\"}}, \"type\": \"scattergeo\"}], \"scattergl\": [{\"marker\": {\"colorbar\": {\"outlinewidth\": 0, \"ticks\": \"\"}}, \"type\": \"scattergl\"}], \"scattermapbox\": [{\"marker\": {\"colorbar\": {\"outlinewidth\": 0, \"ticks\": \"\"}}, \"type\": \"scattermapbox\"}], \"scatterpolar\": [{\"marker\": {\"colorbar\": {\"outlinewidth\": 0, \"ticks\": \"\"}}, \"type\": \"scatterpolar\"}], \"scatterpolargl\": [{\"marker\": {\"colorbar\": {\"outlinewidth\": 0, \"ticks\": \"\"}}, \"type\": \"scatterpolargl\"}], \"scatterternary\": [{\"marker\": {\"colorbar\": {\"outlinewidth\": 0, \"ticks\": \"\"}}, \"type\": \"scatterternary\"}], \"surface\": [{\"colorbar\": {\"outlinewidth\": 0, \"ticks\": \"\"}, \"colorscale\": [[0.0, \"#0d0887\"], [0.1111111111111111, \"#46039f\"], [0.2222222222222222, \"#7201a8\"], [0.3333333333333333, \"#9c179e\"], [0.4444444444444444, \"#bd3786\"], [0.5555555555555556, \"#d8576b\"], [0.6666666666666666, \"#ed7953\"], [0.7777777777777778, \"#fb9f3a\"], [0.8888888888888888, \"#fdca26\"], [1.0, \"#f0f921\"]], \"type\": \"surface\"}], \"table\": [{\"cells\": {\"fill\": {\"color\": \"#EBF0F8\"}, \"line\": {\"color\": \"white\"}}, \"header\": {\"fill\": {\"color\": \"#C8D4E3\"}, \"line\": {\"color\": \"white\"}}, \"type\": \"table\"}]}, \"layout\": {\"annotationdefaults\": {\"arrowcolor\": \"#2a3f5f\", \"arrowhead\": 0, \"arrowwidth\": 1}, \"colorscale\": {\"diverging\": [[0, \"#8e0152\"], [0.1, \"#c51b7d\"], [0.2, \"#de77ae\"], [0.3, \"#f1b6da\"], [0.4, \"#fde0ef\"], [0.5, \"#f7f7f7\"], [0.6, \"#e6f5d0\"], [0.7, \"#b8e186\"], [0.8, \"#7fbc41\"], [0.9, \"#4d9221\"], [1, \"#276419\"]], \"sequential\": [[0.0, \"#0d0887\"], [0.1111111111111111, \"#46039f\"], [0.2222222222222222, \"#7201a8\"], [0.3333333333333333, \"#9c179e\"], [0.4444444444444444, \"#bd3786\"], [0.5555555555555556, \"#d8576b\"], [0.6666666666666666, \"#ed7953\"], [0.7777777777777778, \"#fb9f3a\"], [0.8888888888888888, \"#fdca26\"], [1.0, \"#f0f921\"]], \"sequentialminus\": [[0.0, \"#0d0887\"], [0.1111111111111111, \"#46039f\"], [0.2222222222222222, \"#7201a8\"], [0.3333333333333333, \"#9c179e\"], [0.4444444444444444, \"#bd3786\"], [0.5555555555555556, \"#d8576b\"], [0.6666666666666666, \"#ed7953\"], [0.7777777777777778, \"#fb9f3a\"], [0.8888888888888888, \"#fdca26\"], [1.0, \"#f0f921\"]]}, \"colorway\": [\"#636efa\", \"#EF553B\", \"#00cc96\", \"#ab63fa\", \"#FFA15A\", \"#19d3f3\", \"#FF6692\", \"#B6E880\", \"#FF97FF\", \"#FECB52\"], \"font\": {\"color\": \"#2a3f5f\"}, \"geo\": {\"bgcolor\": \"white\", \"lakecolor\": \"white\", \"landcolor\": \"#E5ECF6\", \"showlakes\": true, \"showland\": true, \"subunitcolor\": \"white\"}, \"hoverlabel\": {\"align\": \"left\"}, \"hovermode\": \"closest\", \"mapbox\": {\"style\": \"light\"}, \"paper_bgcolor\": \"white\", \"plot_bgcolor\": \"#E5ECF6\", \"polar\": {\"angularaxis\": {\"gridcolor\": \"white\", \"linecolor\": \"white\", \"ticks\": \"\"}, \"bgcolor\": \"#E5ECF6\", \"radialaxis\": {\"gridcolor\": \"white\", \"linecolor\": \"white\", \"ticks\": \"\"}}, \"scene\": {\"xaxis\": {\"backgroundcolor\": \"#E5ECF6\", \"gridcolor\": \"white\", \"gridwidth\": 2, \"linecolor\": \"white\", \"showbackground\": true, \"ticks\": \"\", \"zerolinecolor\": \"white\"}, \"yaxis\": {\"backgroundcolor\": \"#E5ECF6\", \"gridcolor\": \"white\", \"gridwidth\": 2, \"linecolor\": \"white\", \"showbackground\": true, \"ticks\": \"\", \"zerolinecolor\": \"white\"}, \"zaxis\": {\"backgroundcolor\": \"#E5ECF6\", \"gridcolor\": \"white\", \"gridwidth\": 2, \"linecolor\": \"white\", \"showbackground\": true, \"ticks\": \"\", \"zerolinecolor\": \"white\"}}, \"shapedefaults\": {\"line\": {\"color\": \"#2a3f5f\"}}, \"ternary\": {\"aaxis\": {\"gridcolor\": \"white\", \"linecolor\": \"white\", \"ticks\": \"\"}, \"baxis\": {\"gridcolor\": \"white\", \"linecolor\": \"white\", \"ticks\": \"\"}, \"bgcolor\": \"#E5ECF6\", \"caxis\": {\"gridcolor\": \"white\", \"linecolor\": \"white\", \"ticks\": \"\"}}, \"title\": {\"x\": 0.05}, \"xaxis\": {\"automargin\": true, \"gridcolor\": \"white\", \"linecolor\": \"white\", \"ticks\": \"\", \"zerolinecolor\": \"white\", \"zerolinewidth\": 2}, \"yaxis\": {\"automargin\": true, \"gridcolor\": \"white\", \"linecolor\": \"white\", \"ticks\": \"\", \"zerolinecolor\": \"white\", \"zerolinewidth\": 2}}}, \"title\": {\"text\": \"Tweet Count over Time\", \"x\": 0.48, \"xanchor\": \"center\", \"y\": 0.9, \"yanchor\": \"top\"}, \"xaxis\": {\"anchor\": \"y\", \"domain\": [0.0, 0.98], \"title\": {\"text\": \"date\"}}, \"yaxis\": {\"anchor\": \"x\", \"domain\": [0.0, 1.0], \"title\": {\"text\": \"count\"}}},\n",
       "                        {\"responsive\": true}\n",
       "                    ).then(function(){\n",
       "                            \n",
       "var gd = document.getElementById('c717024e-854e-4dc1-9b5c-9e57e30fc0ec');\n",
       "var x = new MutationObserver(function (mutations, observer) {{\n",
       "        var display = window.getComputedStyle(gd).display;\n",
       "        if (!display || display === 'none') {{\n",
       "            console.log([gd, 'removed!']);\n",
       "            Plotly.purge(gd);\n",
       "            observer.disconnect();\n",
       "        }}\n",
       "}});\n",
       "\n",
       "// Listen for the removal of the full notebook cells\n",
       "var notebookContainer = gd.closest('#notebook-container');\n",
       "if (notebookContainer) {{\n",
       "    x.observe(notebookContainer, {childList: true});\n",
       "}}\n",
       "\n",
       "// Listen for the clearing of the current output cell\n",
       "var outputEl = gd.closest('.output');\n",
       "if (outputEl) {{\n",
       "    x.observe(outputEl, {childList: true});\n",
       "}}\n",
       "\n",
       "                        })\n",
       "                };\n",
       "                });\n",
       "            </script>\n",
       "        </div>"
      ]
     },
     "metadata": {},
     "output_type": "display_data"
    }
   ],
   "source": [
    "fig = px.line(dfdate, x='date', y='count')\n",
    "fig.update_layout(\n",
    "    title={\n",
    "        'text': \"Tweet Count over Time\",\n",
    "        'y':0.9,\n",
    "        'x':0.48,\n",
    "        'xanchor': 'center',\n",
    "        'yanchor': 'top'})\n",
    "fig.show()"
   ]
  },
  {
   "cell_type": "markdown",
   "metadata": {},
   "source": [
    "**Figure 1. Tweet Count over Time:** This plot shows how many tweets were made over all accounts over the entire window of collected data. As corroborated by news articles/updates on the situation, the window from October 20-27 coincides with a rise of protests while November 15 follows an announcement that the government will reform the constitution."
   ]
  },
  {
   "cell_type": "markdown",
   "metadata": {},
   "source": [
    "### Exploratory Visualization 2: Identification of most active community members\n",
    "<a id=\"sec1-2\"></a>\n",
    "Next, I thought it'd be interesting to trace degree of activity across all types of accounts that I was following"
   ]
  },
  {
   "cell_type": "code",
   "execution_count": 72,
   "metadata": {},
   "outputs": [],
   "source": [
    "\"\"\"i had preclassified each account\"\"\"\n",
    "glist = ['JParadaHoyl','tomashirsch','sarmiento510','danieljadue','PamJiles','labeasanchez','JorgeSharp','Claudia_Mix','camila_vallejo','GiorgioJackson','BeaSanchezYTu','gabrielboric','KarolCariola','carmen_hertz']\n",
    "alist = ['Pa__tty','ale_injoque','KenaLorenziniL','juan_urra','nataliacuevasg','IraciHassler','CristobalYessen','AlbertoMayol','FelipeParadaM','LorenaPizarroS']\n",
    "jlist = ['mauricio_weibel','mirnaschindler','DMatamala','tv_monica']\n",
    "plist = ['Jaime_Bassa','ClaudiaDides','emiliatijoux','MauroMura11','mriesco']\n",
    "tlist = ['MarianaLaActriz','monlaferte','jcoulon','nanostern','manugarpez','redolesoficial','ValdebenitoNata']\n",
    "\n",
    "joblist = []\n",
    "for i in range(len(dfdatesort)):\n",
    "    if dfdatesort['username'][i] in glist:\n",
    "        joblist.append('politician')\n",
    "    elif dfdatesort['username'][i] in alist:\n",
    "        joblist.append('activist')\n",
    "    elif dfdatesort['username'][i] in jlist:\n",
    "        joblist.append('journalist')\n",
    "    elif dfdatesort['username'][i] in plist:\n",
    "        joblist.append('academic')\n",
    "    elif dfdatesort['username'][i] in tlist:\n",
    "        joblist.append('artist')\n",
    "        \n",
    "dfdatesort['profession'] = joblist"
   ]
  },
  {
   "cell_type": "code",
   "execution_count": 73,
   "metadata": {},
   "outputs": [
    {
     "data": {
      "text/html": [
       "<div>\n",
       "<style scoped>\n",
       "    .dataframe tbody tr th:only-of-type {\n",
       "        vertical-align: middle;\n",
       "    }\n",
       "\n",
       "    .dataframe tbody tr th {\n",
       "        vertical-align: top;\n",
       "    }\n",
       "\n",
       "    .dataframe thead th {\n",
       "        text-align: right;\n",
       "    }\n",
       "</style>\n",
       "<table border=\"1\" class=\"dataframe\">\n",
       "  <thead>\n",
       "    <tr style=\"text-align: right;\">\n",
       "      <th></th>\n",
       "      <th>date</th>\n",
       "      <th>username</th>\n",
       "      <th>text</th>\n",
       "      <th>hashtags</th>\n",
       "      <th>to</th>\n",
       "      <th>replies</th>\n",
       "      <th>retweets</th>\n",
       "      <th>favorites</th>\n",
       "      <th>mentions</th>\n",
       "      <th>totalEngagement</th>\n",
       "      <th>gender</th>\n",
       "      <th>profession</th>\n",
       "    </tr>\n",
       "  </thead>\n",
       "  <tbody>\n",
       "    <tr>\n",
       "      <th>0</th>\n",
       "      <td>2019-10-14 00:01:01+00:00</td>\n",
       "      <td>KenaLorenziniL</td>\n",
       "      <td>así es....</td>\n",
       "      <td>NaN</td>\n",
       "      <td>absurdidez</td>\n",
       "      <td>0</td>\n",
       "      <td>0</td>\n",
       "      <td>0</td>\n",
       "      <td>NaN</td>\n",
       "      <td>0</td>\n",
       "      <td>f</td>\n",
       "      <td>activist</td>\n",
       "    </tr>\n",
       "    <tr>\n",
       "      <th>1</th>\n",
       "      <td>2019-10-14 00:06:53+00:00</td>\n",
       "      <td>labeasanchez</td>\n",
       "      <td>#RodrigoMundaca es un incansable luchador del ...</td>\n",
       "      <td>#RodrigoMundaca #MundacaNoEst</td>\n",
       "      <td>NaN</td>\n",
       "      <td>11</td>\n",
       "      <td>127</td>\n",
       "      <td>269</td>\n",
       "      <td>@SColectivos</td>\n",
       "      <td>407</td>\n",
       "      <td>f</td>\n",
       "      <td>politician</td>\n",
       "    </tr>\n",
       "    <tr>\n",
       "      <th>2</th>\n",
       "      <td>2019-10-14 00:06:57+00:00</td>\n",
       "      <td>KenaLorenziniL</td>\n",
       "      <td>Dale Curicana!!</td>\n",
       "      <td>NaN</td>\n",
       "      <td>EveFitCL</td>\n",
       "      <td>0</td>\n",
       "      <td>0</td>\n",
       "      <td>3</td>\n",
       "      <td>NaN</td>\n",
       "      <td>3</td>\n",
       "      <td>f</td>\n",
       "      <td>activist</td>\n",
       "    </tr>\n",
       "    <tr>\n",
       "      <th>3</th>\n",
       "      <td>2019-10-14 00:07:47+00:00</td>\n",
       "      <td>KenaLorenziniL</td>\n",
       "      <td>y tú eres lesbiana?...qué asco</td>\n",
       "      <td>NaN</td>\n",
       "      <td>ErikaMontecinos</td>\n",
       "      <td>1</td>\n",
       "      <td>0</td>\n",
       "      <td>2</td>\n",
       "      <td>NaN</td>\n",
       "      <td>3</td>\n",
       "      <td>f</td>\n",
       "      <td>activist</td>\n",
       "    </tr>\n",
       "    <tr>\n",
       "      <th>4</th>\n",
       "      <td>2019-10-14 00:12:09+00:00</td>\n",
       "      <td>KenaLorenziniL</td>\n",
       "      <td>LISTOCO TELLIER CERRÓ LA PUERTA AL ÚNICO ESPAC...</td>\n",
       "      <td>NaN</td>\n",
       "      <td>ElMercurio_cl</td>\n",
       "      <td>24</td>\n",
       "      <td>6</td>\n",
       "      <td>19</td>\n",
       "      <td>NaN</td>\n",
       "      <td>49</td>\n",
       "      <td>f</td>\n",
       "      <td>activist</td>\n",
       "    </tr>\n",
       "  </tbody>\n",
       "</table>\n",
       "</div>"
      ],
      "text/plain": [
       "                        date        username  \\\n",
       "0  2019-10-14 00:01:01+00:00  KenaLorenziniL   \n",
       "1  2019-10-14 00:06:53+00:00    labeasanchez   \n",
       "2  2019-10-14 00:06:57+00:00  KenaLorenziniL   \n",
       "3  2019-10-14 00:07:47+00:00  KenaLorenziniL   \n",
       "4  2019-10-14 00:12:09+00:00  KenaLorenziniL   \n",
       "\n",
       "                                                text  \\\n",
       "0                                         así es....   \n",
       "1  #RodrigoMundaca es un incansable luchador del ...   \n",
       "2                                    Dale Curicana!!   \n",
       "3                     y tú eres lesbiana?...qué asco   \n",
       "4  LISTOCO TELLIER CERRÓ LA PUERTA AL ÚNICO ESPAC...   \n",
       "\n",
       "                        hashtags               to  replies  retweets  \\\n",
       "0                            NaN       absurdidez        0         0   \n",
       "1  #RodrigoMundaca #MundacaNoEst              NaN       11       127   \n",
       "2                            NaN         EveFitCL        0         0   \n",
       "3                            NaN  ErikaMontecinos        1         0   \n",
       "4                            NaN    ElMercurio_cl       24         6   \n",
       "\n",
       "   favorites      mentions  totalEngagement gender  profession  \n",
       "0          0           NaN                0      f    activist  \n",
       "1        269  @SColectivos              407      f  politician  \n",
       "2          3           NaN                3      f    activist  \n",
       "3          2           NaN                3      f    activist  \n",
       "4         19           NaN               49      f    activist  "
      ]
     },
     "execution_count": 73,
     "metadata": {},
     "output_type": "execute_result"
    }
   ],
   "source": [
    "dfdatesort.head()"
   ]
  },
  {
   "cell_type": "code",
   "execution_count": 74,
   "metadata": {},
   "outputs": [],
   "source": [
    "uniqueprofs = ['politician','activist','journalist','academic','artist']\n",
    "oprofct = [0]*len(uniqueprofs)\n",
    "nprofct = [0]*len(uniqueprofs)\n",
    "dprofct = [0]*len(uniqueprofs)\n",
    "for row in range(len(dfdatesort)):\n",
    "    if dfdatesort['date'][row][:7] == \"2019-10\":\n",
    "        profstr = dfdatesort['profession'][row]\n",
    "        oprofct[uniqueprofs.index(profstr)]+=1\n",
    "    if dfdatesort['date'][row][:7] == \"2019-11\":\n",
    "        profstr = dfdatesort['profession'][row]\n",
    "        nprofct[uniqueprofs.index(profstr)]+=1\n",
    "    if dfdatesort['date'][row][:7] == \"2019-12\":\n",
    "        profstr = dfdatesort['profession'][row]\n",
    "        dprofct[uniqueprofs.index(profstr)]+=1"
   ]
  },
  {
   "cell_type": "code",
   "execution_count": 75,
   "metadata": {},
   "outputs": [
    {
     "data": {
      "text/html": [
       "<div>\n",
       "<style scoped>\n",
       "    .dataframe tbody tr th:only-of-type {\n",
       "        vertical-align: middle;\n",
       "    }\n",
       "\n",
       "    .dataframe tbody tr th {\n",
       "        vertical-align: top;\n",
       "    }\n",
       "\n",
       "    .dataframe thead th {\n",
       "        text-align: right;\n",
       "    }\n",
       "</style>\n",
       "<table border=\"1\" class=\"dataframe\">\n",
       "  <thead>\n",
       "    <tr style=\"text-align: right;\">\n",
       "      <th></th>\n",
       "      <th>profession</th>\n",
       "      <th>october</th>\n",
       "      <th>november</th>\n",
       "      <th>december</th>\n",
       "    </tr>\n",
       "  </thead>\n",
       "  <tbody>\n",
       "    <tr>\n",
       "      <th>0</th>\n",
       "      <td>politician</td>\n",
       "      <td>1540</td>\n",
       "      <td>1976</td>\n",
       "      <td>397</td>\n",
       "    </tr>\n",
       "    <tr>\n",
       "      <th>1</th>\n",
       "      <td>activist</td>\n",
       "      <td>2887</td>\n",
       "      <td>4589</td>\n",
       "      <td>1309</td>\n",
       "    </tr>\n",
       "    <tr>\n",
       "      <th>2</th>\n",
       "      <td>journalist</td>\n",
       "      <td>974</td>\n",
       "      <td>793</td>\n",
       "      <td>156</td>\n",
       "    </tr>\n",
       "    <tr>\n",
       "      <th>3</th>\n",
       "      <td>academic</td>\n",
       "      <td>1075</td>\n",
       "      <td>2408</td>\n",
       "      <td>772</td>\n",
       "    </tr>\n",
       "    <tr>\n",
       "      <th>4</th>\n",
       "      <td>artist</td>\n",
       "      <td>2565</td>\n",
       "      <td>1904</td>\n",
       "      <td>394</td>\n",
       "    </tr>\n",
       "  </tbody>\n",
       "</table>\n",
       "</div>"
      ],
      "text/plain": [
       "   profession  october  november  december\n",
       "0  politician     1540      1976       397\n",
       "1    activist     2887      4589      1309\n",
       "2  journalist      974       793       156\n",
       "3    academic     1075      2408       772\n",
       "4      artist     2565      1904       394"
      ]
     },
     "execution_count": 75,
     "metadata": {},
     "output_type": "execute_result"
    }
   ],
   "source": [
    "dfvis2 = pd.DataFrame({'profession': uniqueprofs,'october':oprofct, 'november':nprofct,'december':dprofct})\n",
    "dfvis2"
   ]
  },
  {
   "cell_type": "code",
   "execution_count": 165,
   "metadata": {},
   "outputs": [
    {
     "data": {
      "application/vnd.plotly.v1+json": {
       "config": {
        "plotlyServerURL": "https://plot.ly"
       },
       "data": [
        {
         "name": "October",
         "type": "bar",
         "x": [
          "politician",
          "activist",
          "journalist",
          "academic",
          "artist"
         ],
         "y": [
          1540,
          2887,
          974,
          1075,
          2565
         ]
        },
        {
         "name": "November",
         "type": "bar",
         "x": [
          "politician",
          "activist",
          "journalist",
          "academic",
          "artist"
         ],
         "y": [
          1976,
          4589,
          793,
          2408,
          1904
         ]
        },
        {
         "name": "December",
         "type": "bar",
         "x": [
          "politician",
          "activist",
          "journalist",
          "academic",
          "artist"
         ],
         "y": [
          397,
          1309,
          156,
          772,
          394
         ]
        }
       ],
       "layout": {
        "barmode": "stack",
        "template": {
         "data": {
          "bar": [
           {
            "error_x": {
             "color": "#2a3f5f"
            },
            "error_y": {
             "color": "#2a3f5f"
            },
            "marker": {
             "line": {
              "color": "#E5ECF6",
              "width": 0.5
             }
            },
            "type": "bar"
           }
          ],
          "barpolar": [
           {
            "marker": {
             "line": {
              "color": "#E5ECF6",
              "width": 0.5
             }
            },
            "type": "barpolar"
           }
          ],
          "carpet": [
           {
            "aaxis": {
             "endlinecolor": "#2a3f5f",
             "gridcolor": "white",
             "linecolor": "white",
             "minorgridcolor": "white",
             "startlinecolor": "#2a3f5f"
            },
            "baxis": {
             "endlinecolor": "#2a3f5f",
             "gridcolor": "white",
             "linecolor": "white",
             "minorgridcolor": "white",
             "startlinecolor": "#2a3f5f"
            },
            "type": "carpet"
           }
          ],
          "choropleth": [
           {
            "colorbar": {
             "outlinewidth": 0,
             "ticks": ""
            },
            "type": "choropleth"
           }
          ],
          "contour": [
           {
            "colorbar": {
             "outlinewidth": 0,
             "ticks": ""
            },
            "colorscale": [
             [
              0,
              "#0d0887"
             ],
             [
              0.1111111111111111,
              "#46039f"
             ],
             [
              0.2222222222222222,
              "#7201a8"
             ],
             [
              0.3333333333333333,
              "#9c179e"
             ],
             [
              0.4444444444444444,
              "#bd3786"
             ],
             [
              0.5555555555555556,
              "#d8576b"
             ],
             [
              0.6666666666666666,
              "#ed7953"
             ],
             [
              0.7777777777777778,
              "#fb9f3a"
             ],
             [
              0.8888888888888888,
              "#fdca26"
             ],
             [
              1,
              "#f0f921"
             ]
            ],
            "type": "contour"
           }
          ],
          "contourcarpet": [
           {
            "colorbar": {
             "outlinewidth": 0,
             "ticks": ""
            },
            "type": "contourcarpet"
           }
          ],
          "heatmap": [
           {
            "colorbar": {
             "outlinewidth": 0,
             "ticks": ""
            },
            "colorscale": [
             [
              0,
              "#0d0887"
             ],
             [
              0.1111111111111111,
              "#46039f"
             ],
             [
              0.2222222222222222,
              "#7201a8"
             ],
             [
              0.3333333333333333,
              "#9c179e"
             ],
             [
              0.4444444444444444,
              "#bd3786"
             ],
             [
              0.5555555555555556,
              "#d8576b"
             ],
             [
              0.6666666666666666,
              "#ed7953"
             ],
             [
              0.7777777777777778,
              "#fb9f3a"
             ],
             [
              0.8888888888888888,
              "#fdca26"
             ],
             [
              1,
              "#f0f921"
             ]
            ],
            "type": "heatmap"
           }
          ],
          "heatmapgl": [
           {
            "colorbar": {
             "outlinewidth": 0,
             "ticks": ""
            },
            "colorscale": [
             [
              0,
              "#0d0887"
             ],
             [
              0.1111111111111111,
              "#46039f"
             ],
             [
              0.2222222222222222,
              "#7201a8"
             ],
             [
              0.3333333333333333,
              "#9c179e"
             ],
             [
              0.4444444444444444,
              "#bd3786"
             ],
             [
              0.5555555555555556,
              "#d8576b"
             ],
             [
              0.6666666666666666,
              "#ed7953"
             ],
             [
              0.7777777777777778,
              "#fb9f3a"
             ],
             [
              0.8888888888888888,
              "#fdca26"
             ],
             [
              1,
              "#f0f921"
             ]
            ],
            "type": "heatmapgl"
           }
          ],
          "histogram": [
           {
            "marker": {
             "colorbar": {
              "outlinewidth": 0,
              "ticks": ""
             }
            },
            "type": "histogram"
           }
          ],
          "histogram2d": [
           {
            "colorbar": {
             "outlinewidth": 0,
             "ticks": ""
            },
            "colorscale": [
             [
              0,
              "#0d0887"
             ],
             [
              0.1111111111111111,
              "#46039f"
             ],
             [
              0.2222222222222222,
              "#7201a8"
             ],
             [
              0.3333333333333333,
              "#9c179e"
             ],
             [
              0.4444444444444444,
              "#bd3786"
             ],
             [
              0.5555555555555556,
              "#d8576b"
             ],
             [
              0.6666666666666666,
              "#ed7953"
             ],
             [
              0.7777777777777778,
              "#fb9f3a"
             ],
             [
              0.8888888888888888,
              "#fdca26"
             ],
             [
              1,
              "#f0f921"
             ]
            ],
            "type": "histogram2d"
           }
          ],
          "histogram2dcontour": [
           {
            "colorbar": {
             "outlinewidth": 0,
             "ticks": ""
            },
            "colorscale": [
             [
              0,
              "#0d0887"
             ],
             [
              0.1111111111111111,
              "#46039f"
             ],
             [
              0.2222222222222222,
              "#7201a8"
             ],
             [
              0.3333333333333333,
              "#9c179e"
             ],
             [
              0.4444444444444444,
              "#bd3786"
             ],
             [
              0.5555555555555556,
              "#d8576b"
             ],
             [
              0.6666666666666666,
              "#ed7953"
             ],
             [
              0.7777777777777778,
              "#fb9f3a"
             ],
             [
              0.8888888888888888,
              "#fdca26"
             ],
             [
              1,
              "#f0f921"
             ]
            ],
            "type": "histogram2dcontour"
           }
          ],
          "mesh3d": [
           {
            "colorbar": {
             "outlinewidth": 0,
             "ticks": ""
            },
            "type": "mesh3d"
           }
          ],
          "parcoords": [
           {
            "line": {
             "colorbar": {
              "outlinewidth": 0,
              "ticks": ""
             }
            },
            "type": "parcoords"
           }
          ],
          "scatter": [
           {
            "marker": {
             "colorbar": {
              "outlinewidth": 0,
              "ticks": ""
             }
            },
            "type": "scatter"
           }
          ],
          "scatter3d": [
           {
            "line": {
             "colorbar": {
              "outlinewidth": 0,
              "ticks": ""
             }
            },
            "marker": {
             "colorbar": {
              "outlinewidth": 0,
              "ticks": ""
             }
            },
            "type": "scatter3d"
           }
          ],
          "scattercarpet": [
           {
            "marker": {
             "colorbar": {
              "outlinewidth": 0,
              "ticks": ""
             }
            },
            "type": "scattercarpet"
           }
          ],
          "scattergeo": [
           {
            "marker": {
             "colorbar": {
              "outlinewidth": 0,
              "ticks": ""
             }
            },
            "type": "scattergeo"
           }
          ],
          "scattergl": [
           {
            "marker": {
             "colorbar": {
              "outlinewidth": 0,
              "ticks": ""
             }
            },
            "type": "scattergl"
           }
          ],
          "scattermapbox": [
           {
            "marker": {
             "colorbar": {
              "outlinewidth": 0,
              "ticks": ""
             }
            },
            "type": "scattermapbox"
           }
          ],
          "scatterpolar": [
           {
            "marker": {
             "colorbar": {
              "outlinewidth": 0,
              "ticks": ""
             }
            },
            "type": "scatterpolar"
           }
          ],
          "scatterpolargl": [
           {
            "marker": {
             "colorbar": {
              "outlinewidth": 0,
              "ticks": ""
             }
            },
            "type": "scatterpolargl"
           }
          ],
          "scatterternary": [
           {
            "marker": {
             "colorbar": {
              "outlinewidth": 0,
              "ticks": ""
             }
            },
            "type": "scatterternary"
           }
          ],
          "surface": [
           {
            "colorbar": {
             "outlinewidth": 0,
             "ticks": ""
            },
            "colorscale": [
             [
              0,
              "#0d0887"
             ],
             [
              0.1111111111111111,
              "#46039f"
             ],
             [
              0.2222222222222222,
              "#7201a8"
             ],
             [
              0.3333333333333333,
              "#9c179e"
             ],
             [
              0.4444444444444444,
              "#bd3786"
             ],
             [
              0.5555555555555556,
              "#d8576b"
             ],
             [
              0.6666666666666666,
              "#ed7953"
             ],
             [
              0.7777777777777778,
              "#fb9f3a"
             ],
             [
              0.8888888888888888,
              "#fdca26"
             ],
             [
              1,
              "#f0f921"
             ]
            ],
            "type": "surface"
           }
          ],
          "table": [
           {
            "cells": {
             "fill": {
              "color": "#EBF0F8"
             },
             "line": {
              "color": "white"
             }
            },
            "header": {
             "fill": {
              "color": "#C8D4E3"
             },
             "line": {
              "color": "white"
             }
            },
            "type": "table"
           }
          ]
         },
         "layout": {
          "annotationdefaults": {
           "arrowcolor": "#2a3f5f",
           "arrowhead": 0,
           "arrowwidth": 1
          },
          "colorscale": {
           "diverging": [
            [
             0,
             "#8e0152"
            ],
            [
             0.1,
             "#c51b7d"
            ],
            [
             0.2,
             "#de77ae"
            ],
            [
             0.3,
             "#f1b6da"
            ],
            [
             0.4,
             "#fde0ef"
            ],
            [
             0.5,
             "#f7f7f7"
            ],
            [
             0.6,
             "#e6f5d0"
            ],
            [
             0.7,
             "#b8e186"
            ],
            [
             0.8,
             "#7fbc41"
            ],
            [
             0.9,
             "#4d9221"
            ],
            [
             1,
             "#276419"
            ]
           ],
           "sequential": [
            [
             0,
             "#0d0887"
            ],
            [
             0.1111111111111111,
             "#46039f"
            ],
            [
             0.2222222222222222,
             "#7201a8"
            ],
            [
             0.3333333333333333,
             "#9c179e"
            ],
            [
             0.4444444444444444,
             "#bd3786"
            ],
            [
             0.5555555555555556,
             "#d8576b"
            ],
            [
             0.6666666666666666,
             "#ed7953"
            ],
            [
             0.7777777777777778,
             "#fb9f3a"
            ],
            [
             0.8888888888888888,
             "#fdca26"
            ],
            [
             1,
             "#f0f921"
            ]
           ],
           "sequentialminus": [
            [
             0,
             "#0d0887"
            ],
            [
             0.1111111111111111,
             "#46039f"
            ],
            [
             0.2222222222222222,
             "#7201a8"
            ],
            [
             0.3333333333333333,
             "#9c179e"
            ],
            [
             0.4444444444444444,
             "#bd3786"
            ],
            [
             0.5555555555555556,
             "#d8576b"
            ],
            [
             0.6666666666666666,
             "#ed7953"
            ],
            [
             0.7777777777777778,
             "#fb9f3a"
            ],
            [
             0.8888888888888888,
             "#fdca26"
            ],
            [
             1,
             "#f0f921"
            ]
           ]
          },
          "colorway": [
           "#636efa",
           "#EF553B",
           "#00cc96",
           "#ab63fa",
           "#FFA15A",
           "#19d3f3",
           "#FF6692",
           "#B6E880",
           "#FF97FF",
           "#FECB52"
          ],
          "font": {
           "color": "#2a3f5f"
          },
          "geo": {
           "bgcolor": "white",
           "lakecolor": "white",
           "landcolor": "#E5ECF6",
           "showlakes": true,
           "showland": true,
           "subunitcolor": "white"
          },
          "hoverlabel": {
           "align": "left"
          },
          "hovermode": "closest",
          "mapbox": {
           "style": "light"
          },
          "paper_bgcolor": "white",
          "plot_bgcolor": "#E5ECF6",
          "polar": {
           "angularaxis": {
            "gridcolor": "white",
            "linecolor": "white",
            "ticks": ""
           },
           "bgcolor": "#E5ECF6",
           "radialaxis": {
            "gridcolor": "white",
            "linecolor": "white",
            "ticks": ""
           }
          },
          "scene": {
           "xaxis": {
            "backgroundcolor": "#E5ECF6",
            "gridcolor": "white",
            "gridwidth": 2,
            "linecolor": "white",
            "showbackground": true,
            "ticks": "",
            "zerolinecolor": "white"
           },
           "yaxis": {
            "backgroundcolor": "#E5ECF6",
            "gridcolor": "white",
            "gridwidth": 2,
            "linecolor": "white",
            "showbackground": true,
            "ticks": "",
            "zerolinecolor": "white"
           },
           "zaxis": {
            "backgroundcolor": "#E5ECF6",
            "gridcolor": "white",
            "gridwidth": 2,
            "linecolor": "white",
            "showbackground": true,
            "ticks": "",
            "zerolinecolor": "white"
           }
          },
          "shapedefaults": {
           "line": {
            "color": "#2a3f5f"
           }
          },
          "ternary": {
           "aaxis": {
            "gridcolor": "white",
            "linecolor": "white",
            "ticks": ""
           },
           "baxis": {
            "gridcolor": "white",
            "linecolor": "white",
            "ticks": ""
           },
           "bgcolor": "#E5ECF6",
           "caxis": {
            "gridcolor": "white",
            "linecolor": "white",
            "ticks": ""
           }
          },
          "title": {
           "x": 0.05
          },
          "xaxis": {
           "automargin": true,
           "gridcolor": "white",
           "linecolor": "white",
           "ticks": "",
           "zerolinecolor": "white",
           "zerolinewidth": 2
          },
          "yaxis": {
           "automargin": true,
           "gridcolor": "white",
           "linecolor": "white",
           "ticks": "",
           "zerolinecolor": "white",
           "zerolinewidth": 2
          }
         }
        },
        "title": {
         "text": "Twitter Activity by Profession",
         "x": 0.48,
         "xanchor": "center",
         "y": 0.9,
         "yanchor": "top"
        }
       }
      },
      "text/html": [
       "<div>\n",
       "        \n",
       "        \n",
       "            <div id=\"60392d9f-95f5-4881-bae9-95ab8c78bb2f\" class=\"plotly-graph-div\" style=\"height:525px; width:100%;\"></div>\n",
       "            <script type=\"text/javascript\">\n",
       "                require([\"plotly\"], function(Plotly) {\n",
       "                    window.PLOTLYENV=window.PLOTLYENV || {};\n",
       "                    \n",
       "                if (document.getElementById(\"60392d9f-95f5-4881-bae9-95ab8c78bb2f\")) {\n",
       "                    Plotly.newPlot(\n",
       "                        '60392d9f-95f5-4881-bae9-95ab8c78bb2f',\n",
       "                        [{\"name\": \"October\", \"type\": \"bar\", \"x\": [\"politician\", \"activist\", \"journalist\", \"academic\", \"artist\"], \"y\": [1540, 2887, 974, 1075, 2565]}, {\"name\": \"November\", \"type\": \"bar\", \"x\": [\"politician\", \"activist\", \"journalist\", \"academic\", \"artist\"], \"y\": [1976, 4589, 793, 2408, 1904]}, {\"name\": \"December\", \"type\": \"bar\", \"x\": [\"politician\", \"activist\", \"journalist\", \"academic\", \"artist\"], \"y\": [397, 1309, 156, 772, 394]}],\n",
       "                        {\"barmode\": \"stack\", \"template\": {\"data\": {\"bar\": [{\"error_x\": {\"color\": \"#2a3f5f\"}, \"error_y\": {\"color\": \"#2a3f5f\"}, \"marker\": {\"line\": {\"color\": \"#E5ECF6\", \"width\": 0.5}}, \"type\": \"bar\"}], \"barpolar\": [{\"marker\": {\"line\": {\"color\": \"#E5ECF6\", \"width\": 0.5}}, \"type\": \"barpolar\"}], \"carpet\": [{\"aaxis\": {\"endlinecolor\": \"#2a3f5f\", \"gridcolor\": \"white\", \"linecolor\": \"white\", \"minorgridcolor\": \"white\", \"startlinecolor\": \"#2a3f5f\"}, \"baxis\": {\"endlinecolor\": \"#2a3f5f\", \"gridcolor\": \"white\", \"linecolor\": \"white\", \"minorgridcolor\": \"white\", \"startlinecolor\": \"#2a3f5f\"}, \"type\": \"carpet\"}], \"choropleth\": [{\"colorbar\": {\"outlinewidth\": 0, \"ticks\": \"\"}, \"type\": \"choropleth\"}], \"contour\": [{\"colorbar\": {\"outlinewidth\": 0, \"ticks\": \"\"}, \"colorscale\": [[0.0, \"#0d0887\"], [0.1111111111111111, \"#46039f\"], [0.2222222222222222, \"#7201a8\"], [0.3333333333333333, \"#9c179e\"], [0.4444444444444444, \"#bd3786\"], [0.5555555555555556, \"#d8576b\"], [0.6666666666666666, \"#ed7953\"], [0.7777777777777778, \"#fb9f3a\"], [0.8888888888888888, \"#fdca26\"], [1.0, \"#f0f921\"]], \"type\": \"contour\"}], \"contourcarpet\": [{\"colorbar\": {\"outlinewidth\": 0, \"ticks\": \"\"}, \"type\": \"contourcarpet\"}], \"heatmap\": [{\"colorbar\": {\"outlinewidth\": 0, \"ticks\": \"\"}, \"colorscale\": [[0.0, \"#0d0887\"], [0.1111111111111111, \"#46039f\"], [0.2222222222222222, \"#7201a8\"], [0.3333333333333333, \"#9c179e\"], [0.4444444444444444, \"#bd3786\"], [0.5555555555555556, \"#d8576b\"], [0.6666666666666666, \"#ed7953\"], [0.7777777777777778, \"#fb9f3a\"], [0.8888888888888888, \"#fdca26\"], [1.0, \"#f0f921\"]], \"type\": \"heatmap\"}], \"heatmapgl\": [{\"colorbar\": {\"outlinewidth\": 0, \"ticks\": \"\"}, \"colorscale\": [[0.0, \"#0d0887\"], [0.1111111111111111, \"#46039f\"], [0.2222222222222222, \"#7201a8\"], [0.3333333333333333, \"#9c179e\"], [0.4444444444444444, \"#bd3786\"], [0.5555555555555556, \"#d8576b\"], [0.6666666666666666, \"#ed7953\"], [0.7777777777777778, \"#fb9f3a\"], [0.8888888888888888, \"#fdca26\"], [1.0, \"#f0f921\"]], \"type\": \"heatmapgl\"}], \"histogram\": [{\"marker\": {\"colorbar\": {\"outlinewidth\": 0, \"ticks\": \"\"}}, \"type\": \"histogram\"}], \"histogram2d\": [{\"colorbar\": {\"outlinewidth\": 0, \"ticks\": \"\"}, \"colorscale\": [[0.0, \"#0d0887\"], [0.1111111111111111, \"#46039f\"], [0.2222222222222222, \"#7201a8\"], [0.3333333333333333, \"#9c179e\"], [0.4444444444444444, \"#bd3786\"], [0.5555555555555556, \"#d8576b\"], [0.6666666666666666, \"#ed7953\"], [0.7777777777777778, \"#fb9f3a\"], [0.8888888888888888, \"#fdca26\"], [1.0, \"#f0f921\"]], \"type\": \"histogram2d\"}], \"histogram2dcontour\": [{\"colorbar\": {\"outlinewidth\": 0, \"ticks\": \"\"}, \"colorscale\": [[0.0, \"#0d0887\"], [0.1111111111111111, \"#46039f\"], [0.2222222222222222, \"#7201a8\"], [0.3333333333333333, \"#9c179e\"], [0.4444444444444444, \"#bd3786\"], [0.5555555555555556, \"#d8576b\"], [0.6666666666666666, \"#ed7953\"], [0.7777777777777778, \"#fb9f3a\"], [0.8888888888888888, \"#fdca26\"], [1.0, \"#f0f921\"]], \"type\": \"histogram2dcontour\"}], \"mesh3d\": [{\"colorbar\": {\"outlinewidth\": 0, \"ticks\": \"\"}, \"type\": \"mesh3d\"}], \"parcoords\": [{\"line\": {\"colorbar\": {\"outlinewidth\": 0, \"ticks\": \"\"}}, \"type\": \"parcoords\"}], \"scatter\": [{\"marker\": {\"colorbar\": {\"outlinewidth\": 0, \"ticks\": \"\"}}, \"type\": \"scatter\"}], \"scatter3d\": [{\"line\": {\"colorbar\": {\"outlinewidth\": 0, \"ticks\": \"\"}}, \"marker\": {\"colorbar\": {\"outlinewidth\": 0, \"ticks\": \"\"}}, \"type\": \"scatter3d\"}], \"scattercarpet\": [{\"marker\": {\"colorbar\": {\"outlinewidth\": 0, \"ticks\": \"\"}}, \"type\": \"scattercarpet\"}], \"scattergeo\": [{\"marker\": {\"colorbar\": {\"outlinewidth\": 0, \"ticks\": \"\"}}, \"type\": \"scattergeo\"}], \"scattergl\": [{\"marker\": {\"colorbar\": {\"outlinewidth\": 0, \"ticks\": \"\"}}, \"type\": \"scattergl\"}], \"scattermapbox\": [{\"marker\": {\"colorbar\": {\"outlinewidth\": 0, \"ticks\": \"\"}}, \"type\": \"scattermapbox\"}], \"scatterpolar\": [{\"marker\": {\"colorbar\": {\"outlinewidth\": 0, \"ticks\": \"\"}}, \"type\": \"scatterpolar\"}], \"scatterpolargl\": [{\"marker\": {\"colorbar\": {\"outlinewidth\": 0, \"ticks\": \"\"}}, \"type\": \"scatterpolargl\"}], \"scatterternary\": [{\"marker\": {\"colorbar\": {\"outlinewidth\": 0, \"ticks\": \"\"}}, \"type\": \"scatterternary\"}], \"surface\": [{\"colorbar\": {\"outlinewidth\": 0, \"ticks\": \"\"}, \"colorscale\": [[0.0, \"#0d0887\"], [0.1111111111111111, \"#46039f\"], [0.2222222222222222, \"#7201a8\"], [0.3333333333333333, \"#9c179e\"], [0.4444444444444444, \"#bd3786\"], [0.5555555555555556, \"#d8576b\"], [0.6666666666666666, \"#ed7953\"], [0.7777777777777778, \"#fb9f3a\"], [0.8888888888888888, \"#fdca26\"], [1.0, \"#f0f921\"]], \"type\": \"surface\"}], \"table\": [{\"cells\": {\"fill\": {\"color\": \"#EBF0F8\"}, \"line\": {\"color\": \"white\"}}, \"header\": {\"fill\": {\"color\": \"#C8D4E3\"}, \"line\": {\"color\": \"white\"}}, \"type\": \"table\"}]}, \"layout\": {\"annotationdefaults\": {\"arrowcolor\": \"#2a3f5f\", \"arrowhead\": 0, \"arrowwidth\": 1}, \"colorscale\": {\"diverging\": [[0, \"#8e0152\"], [0.1, \"#c51b7d\"], [0.2, \"#de77ae\"], [0.3, \"#f1b6da\"], [0.4, \"#fde0ef\"], [0.5, \"#f7f7f7\"], [0.6, \"#e6f5d0\"], [0.7, \"#b8e186\"], [0.8, \"#7fbc41\"], [0.9, \"#4d9221\"], [1, \"#276419\"]], \"sequential\": [[0.0, \"#0d0887\"], [0.1111111111111111, \"#46039f\"], [0.2222222222222222, \"#7201a8\"], [0.3333333333333333, \"#9c179e\"], [0.4444444444444444, \"#bd3786\"], [0.5555555555555556, \"#d8576b\"], [0.6666666666666666, \"#ed7953\"], [0.7777777777777778, \"#fb9f3a\"], [0.8888888888888888, \"#fdca26\"], [1.0, \"#f0f921\"]], \"sequentialminus\": [[0.0, \"#0d0887\"], [0.1111111111111111, \"#46039f\"], [0.2222222222222222, \"#7201a8\"], [0.3333333333333333, \"#9c179e\"], [0.4444444444444444, \"#bd3786\"], [0.5555555555555556, \"#d8576b\"], [0.6666666666666666, \"#ed7953\"], [0.7777777777777778, \"#fb9f3a\"], [0.8888888888888888, \"#fdca26\"], [1.0, \"#f0f921\"]]}, \"colorway\": [\"#636efa\", \"#EF553B\", \"#00cc96\", \"#ab63fa\", \"#FFA15A\", \"#19d3f3\", \"#FF6692\", \"#B6E880\", \"#FF97FF\", \"#FECB52\"], \"font\": {\"color\": \"#2a3f5f\"}, \"geo\": {\"bgcolor\": \"white\", \"lakecolor\": \"white\", \"landcolor\": \"#E5ECF6\", \"showlakes\": true, \"showland\": true, \"subunitcolor\": \"white\"}, \"hoverlabel\": {\"align\": \"left\"}, \"hovermode\": \"closest\", \"mapbox\": {\"style\": \"light\"}, \"paper_bgcolor\": \"white\", \"plot_bgcolor\": \"#E5ECF6\", \"polar\": {\"angularaxis\": {\"gridcolor\": \"white\", \"linecolor\": \"white\", \"ticks\": \"\"}, \"bgcolor\": \"#E5ECF6\", \"radialaxis\": {\"gridcolor\": \"white\", \"linecolor\": \"white\", \"ticks\": \"\"}}, \"scene\": {\"xaxis\": {\"backgroundcolor\": \"#E5ECF6\", \"gridcolor\": \"white\", \"gridwidth\": 2, \"linecolor\": \"white\", \"showbackground\": true, \"ticks\": \"\", \"zerolinecolor\": \"white\"}, \"yaxis\": {\"backgroundcolor\": \"#E5ECF6\", \"gridcolor\": \"white\", \"gridwidth\": 2, \"linecolor\": \"white\", \"showbackground\": true, \"ticks\": \"\", \"zerolinecolor\": \"white\"}, \"zaxis\": {\"backgroundcolor\": \"#E5ECF6\", \"gridcolor\": \"white\", \"gridwidth\": 2, \"linecolor\": \"white\", \"showbackground\": true, \"ticks\": \"\", \"zerolinecolor\": \"white\"}}, \"shapedefaults\": {\"line\": {\"color\": \"#2a3f5f\"}}, \"ternary\": {\"aaxis\": {\"gridcolor\": \"white\", \"linecolor\": \"white\", \"ticks\": \"\"}, \"baxis\": {\"gridcolor\": \"white\", \"linecolor\": \"white\", \"ticks\": \"\"}, \"bgcolor\": \"#E5ECF6\", \"caxis\": {\"gridcolor\": \"white\", \"linecolor\": \"white\", \"ticks\": \"\"}}, \"title\": {\"x\": 0.05}, \"xaxis\": {\"automargin\": true, \"gridcolor\": \"white\", \"linecolor\": \"white\", \"ticks\": \"\", \"zerolinecolor\": \"white\", \"zerolinewidth\": 2}, \"yaxis\": {\"automargin\": true, \"gridcolor\": \"white\", \"linecolor\": \"white\", \"ticks\": \"\", \"zerolinecolor\": \"white\", \"zerolinewidth\": 2}}}, \"title\": {\"text\": \"Twitter Activity by Profession\", \"x\": 0.48, \"xanchor\": \"center\", \"y\": 0.9, \"yanchor\": \"top\"}},\n",
       "                        {\"responsive\": true}\n",
       "                    ).then(function(){\n",
       "                            \n",
       "var gd = document.getElementById('60392d9f-95f5-4881-bae9-95ab8c78bb2f');\n",
       "var x = new MutationObserver(function (mutations, observer) {{\n",
       "        var display = window.getComputedStyle(gd).display;\n",
       "        if (!display || display === 'none') {{\n",
       "            console.log([gd, 'removed!']);\n",
       "            Plotly.purge(gd);\n",
       "            observer.disconnect();\n",
       "        }}\n",
       "}});\n",
       "\n",
       "// Listen for the removal of the full notebook cells\n",
       "var notebookContainer = gd.closest('#notebook-container');\n",
       "if (notebookContainer) {{\n",
       "    x.observe(notebookContainer, {childList: true});\n",
       "}}\n",
       "\n",
       "// Listen for the clearing of the current output cell\n",
       "var outputEl = gd.closest('.output');\n",
       "if (outputEl) {{\n",
       "    x.observe(outputEl, {childList: true});\n",
       "}}\n",
       "\n",
       "                        })\n",
       "                };\n",
       "                });\n",
       "            </script>\n",
       "        </div>"
      ]
     },
     "metadata": {},
     "output_type": "display_data"
    }
   ],
   "source": [
    "import plotly.express as px\n",
    "import plotly.graph_objs as go\n",
    "\n",
    "fig = go.Figure(data=[go.Bar(x=uniqueprofs,y=oprofct,name='October'),\n",
    "                      go.Bar(x=uniqueprofs,y=nprofct,name='November'),\n",
    "                      go.Bar(x=uniqueprofs,y=dprofct,name='December')])\n",
    "# Change the bar mode\n",
    "fig.update_layout(barmode='stack')\n",
    "fig.update_layout(\n",
    "    title={\n",
    "        'text': \"Twitter Activity by Profession\",\n",
    "        'y':0.9,\n",
    "        'x':0.48,\n",
    "        'xanchor': 'center',\n",
    "        'yanchor': 'top'})\n",
    "fig.show()"
   ]
  },
  {
   "cell_type": "markdown",
   "metadata": {},
   "source": [
    "**Figure 2. Tweet Activity by Profession:** This plot shows the distribution of tweets made by each account by each month. As expected, the leftist activists are the most vocal on the platform. It's important to point out that my choice of accounts relied heavily on following people recommended to me by Twitter, so the distribution of each profession isn't entirely even. However, I'm following teh most politicians so it's interesting that they aren't leading the charge on Twitter and even though I'm following close to the same number of artists and journalists, artists have more clearly engaged with the platform."
   ]
  },
  {
   "cell_type": "markdown",
   "metadata": {},
   "source": [
    "### Exploratory Visualization 3: Hashtag trends over time\n",
    "<a id=\"sec1-3\"></a>\n",
    "This component is focused on creating a tool that can be used to output a graph of hashtag use over time for any hashtag of interest with this data."
   ]
  },
  {
   "cell_type": "code",
   "execution_count": 77,
   "metadata": {},
   "outputs": [],
   "source": [
    "from collections import Counter"
   ]
  },
  {
   "cell_type": "markdown",
   "metadata": {},
   "source": [
    "Extracting all hashtags in the data (repeats allowed)"
   ]
  },
  {
   "cell_type": "code",
   "execution_count": 78,
   "metadata": {},
   "outputs": [],
   "source": [
    "alltags = []\n",
    "for row in range(len(dfdatesort)):\n",
    "    if type(dfdatesort['hashtags'][row]) == str:\n",
    "        for i in dfdatesort['hashtags'][row].split(\" \"):\n",
    "            alltags.append(i.lower())"
   ]
  },
  {
   "cell_type": "markdown",
   "metadata": {},
   "source": [
    "From alltags, creating a counter dictionary to identify the most popular tags"
   ]
  },
  {
   "cell_type": "code",
   "execution_count": 79,
   "metadata": {},
   "outputs": [],
   "source": [
    "uniquetags = Counter()\n",
    "for tag in alltags:\n",
    "    uniquetags[tag] += 1\n",
    "toplist = uniquetags.most_common()[0:10]"
   ]
  },
  {
   "cell_type": "code",
   "execution_count": 80,
   "metadata": {},
   "outputs": [
    {
     "data": {
      "text/plain": [
       "[('#chile', 284),\n",
       " ('#pi', 170),\n",
       " ('#acusacionconstitucionalapi', 125),\n",
       " ('#asambleaconstituyente', 123),\n",
       " ('#estopasaenchile', 113),\n",
       " ('#estonohaterminado', 96),\n",
       " ('#chiledesperto', 95),\n",
       " ('#nuevaconstitucion', 94),\n",
       " ('#chiledespert', 89),\n",
       " ('#renunciapi', 87)]"
      ]
     },
     "execution_count": 80,
     "metadata": {},
     "output_type": "execute_result"
    }
   ],
   "source": [
    "toplist"
   ]
  },
  {
   "cell_type": "code",
   "execution_count": 81,
   "metadata": {},
   "outputs": [
    {
     "data": {
      "text/html": [
       "<div>\n",
       "<style scoped>\n",
       "    .dataframe tbody tr th:only-of-type {\n",
       "        vertical-align: middle;\n",
       "    }\n",
       "\n",
       "    .dataframe tbody tr th {\n",
       "        vertical-align: top;\n",
       "    }\n",
       "\n",
       "    .dataframe thead th {\n",
       "        text-align: right;\n",
       "    }\n",
       "</style>\n",
       "<table border=\"1\" class=\"dataframe\">\n",
       "  <thead>\n",
       "    <tr style=\"text-align: right;\">\n",
       "      <th></th>\n",
       "      <th>date</th>\n",
       "      <th>username</th>\n",
       "      <th>text</th>\n",
       "      <th>hashtags</th>\n",
       "      <th>to</th>\n",
       "      <th>replies</th>\n",
       "      <th>retweets</th>\n",
       "      <th>favorites</th>\n",
       "      <th>mentions</th>\n",
       "      <th>totalEngagement</th>\n",
       "      <th>gender</th>\n",
       "      <th>profession</th>\n",
       "    </tr>\n",
       "  </thead>\n",
       "  <tbody>\n",
       "    <tr>\n",
       "      <th>0</th>\n",
       "      <td>2019-10-14 00:01:01+00:00</td>\n",
       "      <td>KenaLorenziniL</td>\n",
       "      <td>así es....</td>\n",
       "      <td>NaN</td>\n",
       "      <td>absurdidez</td>\n",
       "      <td>0</td>\n",
       "      <td>0</td>\n",
       "      <td>0</td>\n",
       "      <td>NaN</td>\n",
       "      <td>0</td>\n",
       "      <td>f</td>\n",
       "      <td>activist</td>\n",
       "    </tr>\n",
       "    <tr>\n",
       "      <th>1</th>\n",
       "      <td>2019-10-14 00:06:53+00:00</td>\n",
       "      <td>labeasanchez</td>\n",
       "      <td>#RodrigoMundaca es un incansable luchador del ...</td>\n",
       "      <td>#RodrigoMundaca #MundacaNoEst</td>\n",
       "      <td>NaN</td>\n",
       "      <td>11</td>\n",
       "      <td>127</td>\n",
       "      <td>269</td>\n",
       "      <td>@SColectivos</td>\n",
       "      <td>407</td>\n",
       "      <td>f</td>\n",
       "      <td>politician</td>\n",
       "    </tr>\n",
       "    <tr>\n",
       "      <th>2</th>\n",
       "      <td>2019-10-14 00:06:57+00:00</td>\n",
       "      <td>KenaLorenziniL</td>\n",
       "      <td>Dale Curicana!!</td>\n",
       "      <td>NaN</td>\n",
       "      <td>EveFitCL</td>\n",
       "      <td>0</td>\n",
       "      <td>0</td>\n",
       "      <td>3</td>\n",
       "      <td>NaN</td>\n",
       "      <td>3</td>\n",
       "      <td>f</td>\n",
       "      <td>activist</td>\n",
       "    </tr>\n",
       "    <tr>\n",
       "      <th>3</th>\n",
       "      <td>2019-10-14 00:07:47+00:00</td>\n",
       "      <td>KenaLorenziniL</td>\n",
       "      <td>y tú eres lesbiana?...qué asco</td>\n",
       "      <td>NaN</td>\n",
       "      <td>ErikaMontecinos</td>\n",
       "      <td>1</td>\n",
       "      <td>0</td>\n",
       "      <td>2</td>\n",
       "      <td>NaN</td>\n",
       "      <td>3</td>\n",
       "      <td>f</td>\n",
       "      <td>activist</td>\n",
       "    </tr>\n",
       "    <tr>\n",
       "      <th>4</th>\n",
       "      <td>2019-10-14 00:12:09+00:00</td>\n",
       "      <td>KenaLorenziniL</td>\n",
       "      <td>LISTOCO TELLIER CERRÓ LA PUERTA AL ÚNICO ESPAC...</td>\n",
       "      <td>NaN</td>\n",
       "      <td>ElMercurio_cl</td>\n",
       "      <td>24</td>\n",
       "      <td>6</td>\n",
       "      <td>19</td>\n",
       "      <td>NaN</td>\n",
       "      <td>49</td>\n",
       "      <td>f</td>\n",
       "      <td>activist</td>\n",
       "    </tr>\n",
       "  </tbody>\n",
       "</table>\n",
       "</div>"
      ],
      "text/plain": [
       "                        date        username  \\\n",
       "0  2019-10-14 00:01:01+00:00  KenaLorenziniL   \n",
       "1  2019-10-14 00:06:53+00:00    labeasanchez   \n",
       "2  2019-10-14 00:06:57+00:00  KenaLorenziniL   \n",
       "3  2019-10-14 00:07:47+00:00  KenaLorenziniL   \n",
       "4  2019-10-14 00:12:09+00:00  KenaLorenziniL   \n",
       "\n",
       "                                                text  \\\n",
       "0                                         así es....   \n",
       "1  #RodrigoMundaca es un incansable luchador del ...   \n",
       "2                                    Dale Curicana!!   \n",
       "3                     y tú eres lesbiana?...qué asco   \n",
       "4  LISTOCO TELLIER CERRÓ LA PUERTA AL ÚNICO ESPAC...   \n",
       "\n",
       "                        hashtags               to  replies  retweets  \\\n",
       "0                            NaN       absurdidez        0         0   \n",
       "1  #RodrigoMundaca #MundacaNoEst              NaN       11       127   \n",
       "2                            NaN         EveFitCL        0         0   \n",
       "3                            NaN  ErikaMontecinos        1         0   \n",
       "4                            NaN    ElMercurio_cl       24         6   \n",
       "\n",
       "   favorites      mentions  totalEngagement gender  profession  \n",
       "0          0           NaN                0      f    activist  \n",
       "1        269  @SColectivos              407      f  politician  \n",
       "2          3           NaN                3      f    activist  \n",
       "3          2           NaN                3      f    activist  \n",
       "4         19           NaN               49      f    activist  "
      ]
     },
     "execution_count": 81,
     "metadata": {},
     "output_type": "execute_result"
    }
   ],
   "source": [
    "dfdatesort.head()"
   ]
  },
  {
   "cell_type": "markdown",
   "metadata": {},
   "source": [
    "This was a difficult function to write because it involved a lot of thinking about how components of the dataframe interact with each other. Ultimately, tagdistrib takes in a hashtag of interest and outputs a dataframe of the frequency of that tag on each of the unique dates in dfdatesort"
   ]
  },
  {
   "cell_type": "code",
   "execution_count": 82,
   "metadata": {},
   "outputs": [],
   "source": [
    "def tagdistrib(tag):\n",
    "    tagdates = [0]*len(uniquedates) #count list same length as number of unique dates\n",
    "    for d in range(len(uniquedates)):\n",
    "        for index,row in dfdatesort.iterrows():\n",
    "            if row['date'][0:10] == uniquedates[d]: #take substring to ignore additional granularity like time on a given day\n",
    "                if type(row['hashtags']) == str:\n",
    "                    taglist = row['hashtags'].split(\" \") #access the hashtags for non-nan values\n",
    "                    for i in taglist:\n",
    "                        if tag == i.lower(): #lowercase to avoid duplicates\n",
    "                            tagdates[uniquedates.index(uniquedates[d])]+=1\n",
    "    df = pd.DataFrame({'date': uniquedates,'frequency':tagdates})\n",
    "    return df"
   ]
  },
  {
   "cell_type": "code",
   "execution_count": 167,
   "metadata": {},
   "outputs": [
    {
     "data": {
      "application/vnd.plotly.v1+json": {
       "config": {
        "plotlyServerURL": "https://plot.ly"
       },
       "data": [
        {
         "hoverlabel": {
          "namelength": 0
         },
         "hovertemplate": "date=%{x}<br>frequency=%{y}",
         "legendgroup": "",
         "line": {
          "color": "#636efa",
          "dash": "solid"
         },
         "mode": "lines",
         "name": "",
         "showlegend": false,
         "type": "scatter",
         "x": [
          "2019-10-14",
          "2019-10-15",
          "2019-10-16",
          "2019-10-17",
          "2019-10-18",
          "2019-10-19",
          "2019-10-20",
          "2019-10-21",
          "2019-10-22",
          "2019-10-23",
          "2019-10-24",
          "2019-10-25",
          "2019-10-26",
          "2019-10-27",
          "2019-10-28",
          "2019-10-29",
          "2019-10-30",
          "2019-10-31",
          "2019-11-01",
          "2019-11-02",
          "2019-11-03",
          "2019-11-04",
          "2019-11-05",
          "2019-11-06",
          "2019-11-07",
          "2019-11-08",
          "2019-11-09",
          "2019-11-10",
          "2019-11-11",
          "2019-11-12",
          "2019-11-13",
          "2019-11-14",
          "2019-11-15",
          "2019-11-16",
          "2019-11-17",
          "2019-11-18",
          "2019-11-19",
          "2019-11-20",
          "2019-11-21",
          "2019-11-22",
          "2019-11-23",
          "2019-11-24",
          "2019-11-25",
          "2019-11-26",
          "2019-11-27",
          "2019-11-28",
          "2019-11-29",
          "2019-11-30",
          "2019-12-01",
          "2019-12-02",
          "2019-12-03",
          "2019-12-04",
          "2019-12-05",
          "2019-12-06",
          "2019-12-07",
          "2019-12-08",
          "2019-12-09"
         ],
         "xaxis": "x",
         "y": [
          1,
          4,
          0,
          6,
          12,
          17,
          8,
          2,
          9,
          6,
          4,
          9,
          13,
          4,
          5,
          2,
          17,
          1,
          5,
          4,
          6,
          5,
          4,
          13,
          7,
          10,
          2,
          8,
          1,
          4,
          2,
          2,
          2,
          3,
          0,
          4,
          2,
          4,
          7,
          6,
          7,
          1,
          6,
          4,
          4,
          4,
          6,
          8,
          1,
          6,
          2,
          0,
          6,
          4,
          2,
          1,
          1
         ],
         "yaxis": "y"
        }
       ],
       "layout": {
        "height": 600,
        "legend": {
         "tracegroupgap": 0
        },
        "margin": {
         "t": 60
        },
        "template": {
         "data": {
          "bar": [
           {
            "error_x": {
             "color": "#2a3f5f"
            },
            "error_y": {
             "color": "#2a3f5f"
            },
            "marker": {
             "line": {
              "color": "#E5ECF6",
              "width": 0.5
             }
            },
            "type": "bar"
           }
          ],
          "barpolar": [
           {
            "marker": {
             "line": {
              "color": "#E5ECF6",
              "width": 0.5
             }
            },
            "type": "barpolar"
           }
          ],
          "carpet": [
           {
            "aaxis": {
             "endlinecolor": "#2a3f5f",
             "gridcolor": "white",
             "linecolor": "white",
             "minorgridcolor": "white",
             "startlinecolor": "#2a3f5f"
            },
            "baxis": {
             "endlinecolor": "#2a3f5f",
             "gridcolor": "white",
             "linecolor": "white",
             "minorgridcolor": "white",
             "startlinecolor": "#2a3f5f"
            },
            "type": "carpet"
           }
          ],
          "choropleth": [
           {
            "colorbar": {
             "outlinewidth": 0,
             "ticks": ""
            },
            "type": "choropleth"
           }
          ],
          "contour": [
           {
            "colorbar": {
             "outlinewidth": 0,
             "ticks": ""
            },
            "colorscale": [
             [
              0,
              "#0d0887"
             ],
             [
              0.1111111111111111,
              "#46039f"
             ],
             [
              0.2222222222222222,
              "#7201a8"
             ],
             [
              0.3333333333333333,
              "#9c179e"
             ],
             [
              0.4444444444444444,
              "#bd3786"
             ],
             [
              0.5555555555555556,
              "#d8576b"
             ],
             [
              0.6666666666666666,
              "#ed7953"
             ],
             [
              0.7777777777777778,
              "#fb9f3a"
             ],
             [
              0.8888888888888888,
              "#fdca26"
             ],
             [
              1,
              "#f0f921"
             ]
            ],
            "type": "contour"
           }
          ],
          "contourcarpet": [
           {
            "colorbar": {
             "outlinewidth": 0,
             "ticks": ""
            },
            "type": "contourcarpet"
           }
          ],
          "heatmap": [
           {
            "colorbar": {
             "outlinewidth": 0,
             "ticks": ""
            },
            "colorscale": [
             [
              0,
              "#0d0887"
             ],
             [
              0.1111111111111111,
              "#46039f"
             ],
             [
              0.2222222222222222,
              "#7201a8"
             ],
             [
              0.3333333333333333,
              "#9c179e"
             ],
             [
              0.4444444444444444,
              "#bd3786"
             ],
             [
              0.5555555555555556,
              "#d8576b"
             ],
             [
              0.6666666666666666,
              "#ed7953"
             ],
             [
              0.7777777777777778,
              "#fb9f3a"
             ],
             [
              0.8888888888888888,
              "#fdca26"
             ],
             [
              1,
              "#f0f921"
             ]
            ],
            "type": "heatmap"
           }
          ],
          "heatmapgl": [
           {
            "colorbar": {
             "outlinewidth": 0,
             "ticks": ""
            },
            "colorscale": [
             [
              0,
              "#0d0887"
             ],
             [
              0.1111111111111111,
              "#46039f"
             ],
             [
              0.2222222222222222,
              "#7201a8"
             ],
             [
              0.3333333333333333,
              "#9c179e"
             ],
             [
              0.4444444444444444,
              "#bd3786"
             ],
             [
              0.5555555555555556,
              "#d8576b"
             ],
             [
              0.6666666666666666,
              "#ed7953"
             ],
             [
              0.7777777777777778,
              "#fb9f3a"
             ],
             [
              0.8888888888888888,
              "#fdca26"
             ],
             [
              1,
              "#f0f921"
             ]
            ],
            "type": "heatmapgl"
           }
          ],
          "histogram": [
           {
            "marker": {
             "colorbar": {
              "outlinewidth": 0,
              "ticks": ""
             }
            },
            "type": "histogram"
           }
          ],
          "histogram2d": [
           {
            "colorbar": {
             "outlinewidth": 0,
             "ticks": ""
            },
            "colorscale": [
             [
              0,
              "#0d0887"
             ],
             [
              0.1111111111111111,
              "#46039f"
             ],
             [
              0.2222222222222222,
              "#7201a8"
             ],
             [
              0.3333333333333333,
              "#9c179e"
             ],
             [
              0.4444444444444444,
              "#bd3786"
             ],
             [
              0.5555555555555556,
              "#d8576b"
             ],
             [
              0.6666666666666666,
              "#ed7953"
             ],
             [
              0.7777777777777778,
              "#fb9f3a"
             ],
             [
              0.8888888888888888,
              "#fdca26"
             ],
             [
              1,
              "#f0f921"
             ]
            ],
            "type": "histogram2d"
           }
          ],
          "histogram2dcontour": [
           {
            "colorbar": {
             "outlinewidth": 0,
             "ticks": ""
            },
            "colorscale": [
             [
              0,
              "#0d0887"
             ],
             [
              0.1111111111111111,
              "#46039f"
             ],
             [
              0.2222222222222222,
              "#7201a8"
             ],
             [
              0.3333333333333333,
              "#9c179e"
             ],
             [
              0.4444444444444444,
              "#bd3786"
             ],
             [
              0.5555555555555556,
              "#d8576b"
             ],
             [
              0.6666666666666666,
              "#ed7953"
             ],
             [
              0.7777777777777778,
              "#fb9f3a"
             ],
             [
              0.8888888888888888,
              "#fdca26"
             ],
             [
              1,
              "#f0f921"
             ]
            ],
            "type": "histogram2dcontour"
           }
          ],
          "mesh3d": [
           {
            "colorbar": {
             "outlinewidth": 0,
             "ticks": ""
            },
            "type": "mesh3d"
           }
          ],
          "parcoords": [
           {
            "line": {
             "colorbar": {
              "outlinewidth": 0,
              "ticks": ""
             }
            },
            "type": "parcoords"
           }
          ],
          "scatter": [
           {
            "marker": {
             "colorbar": {
              "outlinewidth": 0,
              "ticks": ""
             }
            },
            "type": "scatter"
           }
          ],
          "scatter3d": [
           {
            "line": {
             "colorbar": {
              "outlinewidth": 0,
              "ticks": ""
             }
            },
            "marker": {
             "colorbar": {
              "outlinewidth": 0,
              "ticks": ""
             }
            },
            "type": "scatter3d"
           }
          ],
          "scattercarpet": [
           {
            "marker": {
             "colorbar": {
              "outlinewidth": 0,
              "ticks": ""
             }
            },
            "type": "scattercarpet"
           }
          ],
          "scattergeo": [
           {
            "marker": {
             "colorbar": {
              "outlinewidth": 0,
              "ticks": ""
             }
            },
            "type": "scattergeo"
           }
          ],
          "scattergl": [
           {
            "marker": {
             "colorbar": {
              "outlinewidth": 0,
              "ticks": ""
             }
            },
            "type": "scattergl"
           }
          ],
          "scattermapbox": [
           {
            "marker": {
             "colorbar": {
              "outlinewidth": 0,
              "ticks": ""
             }
            },
            "type": "scattermapbox"
           }
          ],
          "scatterpolar": [
           {
            "marker": {
             "colorbar": {
              "outlinewidth": 0,
              "ticks": ""
             }
            },
            "type": "scatterpolar"
           }
          ],
          "scatterpolargl": [
           {
            "marker": {
             "colorbar": {
              "outlinewidth": 0,
              "ticks": ""
             }
            },
            "type": "scatterpolargl"
           }
          ],
          "scatterternary": [
           {
            "marker": {
             "colorbar": {
              "outlinewidth": 0,
              "ticks": ""
             }
            },
            "type": "scatterternary"
           }
          ],
          "surface": [
           {
            "colorbar": {
             "outlinewidth": 0,
             "ticks": ""
            },
            "colorscale": [
             [
              0,
              "#0d0887"
             ],
             [
              0.1111111111111111,
              "#46039f"
             ],
             [
              0.2222222222222222,
              "#7201a8"
             ],
             [
              0.3333333333333333,
              "#9c179e"
             ],
             [
              0.4444444444444444,
              "#bd3786"
             ],
             [
              0.5555555555555556,
              "#d8576b"
             ],
             [
              0.6666666666666666,
              "#ed7953"
             ],
             [
              0.7777777777777778,
              "#fb9f3a"
             ],
             [
              0.8888888888888888,
              "#fdca26"
             ],
             [
              1,
              "#f0f921"
             ]
            ],
            "type": "surface"
           }
          ],
          "table": [
           {
            "cells": {
             "fill": {
              "color": "#EBF0F8"
             },
             "line": {
              "color": "white"
             }
            },
            "header": {
             "fill": {
              "color": "#C8D4E3"
             },
             "line": {
              "color": "white"
             }
            },
            "type": "table"
           }
          ]
         },
         "layout": {
          "annotationdefaults": {
           "arrowcolor": "#2a3f5f",
           "arrowhead": 0,
           "arrowwidth": 1
          },
          "colorscale": {
           "diverging": [
            [
             0,
             "#8e0152"
            ],
            [
             0.1,
             "#c51b7d"
            ],
            [
             0.2,
             "#de77ae"
            ],
            [
             0.3,
             "#f1b6da"
            ],
            [
             0.4,
             "#fde0ef"
            ],
            [
             0.5,
             "#f7f7f7"
            ],
            [
             0.6,
             "#e6f5d0"
            ],
            [
             0.7,
             "#b8e186"
            ],
            [
             0.8,
             "#7fbc41"
            ],
            [
             0.9,
             "#4d9221"
            ],
            [
             1,
             "#276419"
            ]
           ],
           "sequential": [
            [
             0,
             "#0d0887"
            ],
            [
             0.1111111111111111,
             "#46039f"
            ],
            [
             0.2222222222222222,
             "#7201a8"
            ],
            [
             0.3333333333333333,
             "#9c179e"
            ],
            [
             0.4444444444444444,
             "#bd3786"
            ],
            [
             0.5555555555555556,
             "#d8576b"
            ],
            [
             0.6666666666666666,
             "#ed7953"
            ],
            [
             0.7777777777777778,
             "#fb9f3a"
            ],
            [
             0.8888888888888888,
             "#fdca26"
            ],
            [
             1,
             "#f0f921"
            ]
           ],
           "sequentialminus": [
            [
             0,
             "#0d0887"
            ],
            [
             0.1111111111111111,
             "#46039f"
            ],
            [
             0.2222222222222222,
             "#7201a8"
            ],
            [
             0.3333333333333333,
             "#9c179e"
            ],
            [
             0.4444444444444444,
             "#bd3786"
            ],
            [
             0.5555555555555556,
             "#d8576b"
            ],
            [
             0.6666666666666666,
             "#ed7953"
            ],
            [
             0.7777777777777778,
             "#fb9f3a"
            ],
            [
             0.8888888888888888,
             "#fdca26"
            ],
            [
             1,
             "#f0f921"
            ]
           ]
          },
          "colorway": [
           "#636efa",
           "#EF553B",
           "#00cc96",
           "#ab63fa",
           "#FFA15A",
           "#19d3f3",
           "#FF6692",
           "#B6E880",
           "#FF97FF",
           "#FECB52"
          ],
          "font": {
           "color": "#2a3f5f"
          },
          "geo": {
           "bgcolor": "white",
           "lakecolor": "white",
           "landcolor": "#E5ECF6",
           "showlakes": true,
           "showland": true,
           "subunitcolor": "white"
          },
          "hoverlabel": {
           "align": "left"
          },
          "hovermode": "closest",
          "mapbox": {
           "style": "light"
          },
          "paper_bgcolor": "white",
          "plot_bgcolor": "#E5ECF6",
          "polar": {
           "angularaxis": {
            "gridcolor": "white",
            "linecolor": "white",
            "ticks": ""
           },
           "bgcolor": "#E5ECF6",
           "radialaxis": {
            "gridcolor": "white",
            "linecolor": "white",
            "ticks": ""
           }
          },
          "scene": {
           "xaxis": {
            "backgroundcolor": "#E5ECF6",
            "gridcolor": "white",
            "gridwidth": 2,
            "linecolor": "white",
            "showbackground": true,
            "ticks": "",
            "zerolinecolor": "white"
           },
           "yaxis": {
            "backgroundcolor": "#E5ECF6",
            "gridcolor": "white",
            "gridwidth": 2,
            "linecolor": "white",
            "showbackground": true,
            "ticks": "",
            "zerolinecolor": "white"
           },
           "zaxis": {
            "backgroundcolor": "#E5ECF6",
            "gridcolor": "white",
            "gridwidth": 2,
            "linecolor": "white",
            "showbackground": true,
            "ticks": "",
            "zerolinecolor": "white"
           }
          },
          "shapedefaults": {
           "line": {
            "color": "#2a3f5f"
           }
          },
          "ternary": {
           "aaxis": {
            "gridcolor": "white",
            "linecolor": "white",
            "ticks": ""
           },
           "baxis": {
            "gridcolor": "white",
            "linecolor": "white",
            "ticks": ""
           },
           "bgcolor": "#E5ECF6",
           "caxis": {
            "gridcolor": "white",
            "linecolor": "white",
            "ticks": ""
           }
          },
          "title": {
           "x": 0.05
          },
          "xaxis": {
           "automargin": true,
           "gridcolor": "white",
           "linecolor": "white",
           "ticks": "",
           "zerolinecolor": "white",
           "zerolinewidth": 2
          },
          "yaxis": {
           "automargin": true,
           "gridcolor": "white",
           "linecolor": "white",
           "ticks": "",
           "zerolinecolor": "white",
           "zerolinewidth": 2
          }
         }
        },
        "title": {
         "text": "Frequency of '#chile' over dataset",
         "x": 0.48,
         "xanchor": "center",
         "y": 0.9,
         "yanchor": "top"
        },
        "xaxis": {
         "anchor": "y",
         "domain": [
          0,
          0.98
         ],
         "title": {
          "text": "date"
         }
        },
        "yaxis": {
         "anchor": "x",
         "domain": [
          0,
          1
         ],
         "title": {
          "text": "frequency"
         }
        }
       }
      },
      "text/html": [
       "<div>\n",
       "        \n",
       "        \n",
       "            <div id=\"324ebd04-bffc-40d7-84a9-7a9b28403fff\" class=\"plotly-graph-div\" style=\"height:600px; width:100%;\"></div>\n",
       "            <script type=\"text/javascript\">\n",
       "                require([\"plotly\"], function(Plotly) {\n",
       "                    window.PLOTLYENV=window.PLOTLYENV || {};\n",
       "                    \n",
       "                if (document.getElementById(\"324ebd04-bffc-40d7-84a9-7a9b28403fff\")) {\n",
       "                    Plotly.newPlot(\n",
       "                        '324ebd04-bffc-40d7-84a9-7a9b28403fff',\n",
       "                        [{\"hoverlabel\": {\"namelength\": 0}, \"hovertemplate\": \"date=%{x}<br>frequency=%{y}\", \"legendgroup\": \"\", \"line\": {\"color\": \"#636efa\", \"dash\": \"solid\"}, \"mode\": \"lines\", \"name\": \"\", \"showlegend\": false, \"type\": \"scatter\", \"x\": [\"2019-10-14\", \"2019-10-15\", \"2019-10-16\", \"2019-10-17\", \"2019-10-18\", \"2019-10-19\", \"2019-10-20\", \"2019-10-21\", \"2019-10-22\", \"2019-10-23\", \"2019-10-24\", \"2019-10-25\", \"2019-10-26\", \"2019-10-27\", \"2019-10-28\", \"2019-10-29\", \"2019-10-30\", \"2019-10-31\", \"2019-11-01\", \"2019-11-02\", \"2019-11-03\", \"2019-11-04\", \"2019-11-05\", \"2019-11-06\", \"2019-11-07\", \"2019-11-08\", \"2019-11-09\", \"2019-11-10\", \"2019-11-11\", \"2019-11-12\", \"2019-11-13\", \"2019-11-14\", \"2019-11-15\", \"2019-11-16\", \"2019-11-17\", \"2019-11-18\", \"2019-11-19\", \"2019-11-20\", \"2019-11-21\", \"2019-11-22\", \"2019-11-23\", \"2019-11-24\", \"2019-11-25\", \"2019-11-26\", \"2019-11-27\", \"2019-11-28\", \"2019-11-29\", \"2019-11-30\", \"2019-12-01\", \"2019-12-02\", \"2019-12-03\", \"2019-12-04\", \"2019-12-05\", \"2019-12-06\", \"2019-12-07\", \"2019-12-08\", \"2019-12-09\"], \"xaxis\": \"x\", \"y\": [1, 4, 0, 6, 12, 17, 8, 2, 9, 6, 4, 9, 13, 4, 5, 2, 17, 1, 5, 4, 6, 5, 4, 13, 7, 10, 2, 8, 1, 4, 2, 2, 2, 3, 0, 4, 2, 4, 7, 6, 7, 1, 6, 4, 4, 4, 6, 8, 1, 6, 2, 0, 6, 4, 2, 1, 1], \"yaxis\": \"y\"}],\n",
       "                        {\"height\": 600, \"legend\": {\"tracegroupgap\": 0}, \"margin\": {\"t\": 60}, \"template\": {\"data\": {\"bar\": [{\"error_x\": {\"color\": \"#2a3f5f\"}, \"error_y\": {\"color\": \"#2a3f5f\"}, \"marker\": {\"line\": {\"color\": \"#E5ECF6\", \"width\": 0.5}}, \"type\": \"bar\"}], \"barpolar\": [{\"marker\": {\"line\": {\"color\": \"#E5ECF6\", \"width\": 0.5}}, \"type\": \"barpolar\"}], \"carpet\": [{\"aaxis\": {\"endlinecolor\": \"#2a3f5f\", \"gridcolor\": \"white\", \"linecolor\": \"white\", \"minorgridcolor\": \"white\", \"startlinecolor\": \"#2a3f5f\"}, \"baxis\": {\"endlinecolor\": \"#2a3f5f\", \"gridcolor\": \"white\", \"linecolor\": \"white\", \"minorgridcolor\": \"white\", \"startlinecolor\": \"#2a3f5f\"}, \"type\": \"carpet\"}], \"choropleth\": [{\"colorbar\": {\"outlinewidth\": 0, \"ticks\": \"\"}, \"type\": \"choropleth\"}], \"contour\": [{\"colorbar\": {\"outlinewidth\": 0, \"ticks\": \"\"}, \"colorscale\": [[0.0, \"#0d0887\"], [0.1111111111111111, \"#46039f\"], [0.2222222222222222, \"#7201a8\"], [0.3333333333333333, \"#9c179e\"], [0.4444444444444444, \"#bd3786\"], [0.5555555555555556, \"#d8576b\"], [0.6666666666666666, \"#ed7953\"], [0.7777777777777778, \"#fb9f3a\"], [0.8888888888888888, \"#fdca26\"], [1.0, \"#f0f921\"]], \"type\": \"contour\"}], \"contourcarpet\": [{\"colorbar\": {\"outlinewidth\": 0, \"ticks\": \"\"}, \"type\": \"contourcarpet\"}], \"heatmap\": [{\"colorbar\": {\"outlinewidth\": 0, \"ticks\": \"\"}, \"colorscale\": [[0.0, \"#0d0887\"], [0.1111111111111111, \"#46039f\"], [0.2222222222222222, \"#7201a8\"], [0.3333333333333333, \"#9c179e\"], [0.4444444444444444, \"#bd3786\"], [0.5555555555555556, \"#d8576b\"], [0.6666666666666666, \"#ed7953\"], [0.7777777777777778, \"#fb9f3a\"], [0.8888888888888888, \"#fdca26\"], [1.0, \"#f0f921\"]], \"type\": \"heatmap\"}], \"heatmapgl\": [{\"colorbar\": {\"outlinewidth\": 0, \"ticks\": \"\"}, \"colorscale\": [[0.0, \"#0d0887\"], [0.1111111111111111, \"#46039f\"], [0.2222222222222222, \"#7201a8\"], [0.3333333333333333, \"#9c179e\"], [0.4444444444444444, \"#bd3786\"], [0.5555555555555556, \"#d8576b\"], [0.6666666666666666, \"#ed7953\"], [0.7777777777777778, \"#fb9f3a\"], [0.8888888888888888, \"#fdca26\"], [1.0, \"#f0f921\"]], \"type\": \"heatmapgl\"}], \"histogram\": [{\"marker\": {\"colorbar\": {\"outlinewidth\": 0, \"ticks\": \"\"}}, \"type\": \"histogram\"}], \"histogram2d\": [{\"colorbar\": {\"outlinewidth\": 0, \"ticks\": \"\"}, \"colorscale\": [[0.0, \"#0d0887\"], [0.1111111111111111, \"#46039f\"], [0.2222222222222222, \"#7201a8\"], [0.3333333333333333, \"#9c179e\"], [0.4444444444444444, \"#bd3786\"], [0.5555555555555556, \"#d8576b\"], [0.6666666666666666, \"#ed7953\"], [0.7777777777777778, \"#fb9f3a\"], [0.8888888888888888, \"#fdca26\"], [1.0, \"#f0f921\"]], \"type\": \"histogram2d\"}], \"histogram2dcontour\": [{\"colorbar\": {\"outlinewidth\": 0, \"ticks\": \"\"}, \"colorscale\": [[0.0, \"#0d0887\"], [0.1111111111111111, \"#46039f\"], [0.2222222222222222, \"#7201a8\"], [0.3333333333333333, \"#9c179e\"], [0.4444444444444444, \"#bd3786\"], [0.5555555555555556, \"#d8576b\"], [0.6666666666666666, \"#ed7953\"], [0.7777777777777778, \"#fb9f3a\"], [0.8888888888888888, \"#fdca26\"], [1.0, \"#f0f921\"]], \"type\": \"histogram2dcontour\"}], \"mesh3d\": [{\"colorbar\": {\"outlinewidth\": 0, \"ticks\": \"\"}, \"type\": \"mesh3d\"}], \"parcoords\": [{\"line\": {\"colorbar\": {\"outlinewidth\": 0, \"ticks\": \"\"}}, \"type\": \"parcoords\"}], \"scatter\": [{\"marker\": {\"colorbar\": {\"outlinewidth\": 0, \"ticks\": \"\"}}, \"type\": \"scatter\"}], \"scatter3d\": [{\"line\": {\"colorbar\": {\"outlinewidth\": 0, \"ticks\": \"\"}}, \"marker\": {\"colorbar\": {\"outlinewidth\": 0, \"ticks\": \"\"}}, \"type\": \"scatter3d\"}], \"scattercarpet\": [{\"marker\": {\"colorbar\": {\"outlinewidth\": 0, \"ticks\": \"\"}}, \"type\": \"scattercarpet\"}], \"scattergeo\": [{\"marker\": {\"colorbar\": {\"outlinewidth\": 0, \"ticks\": \"\"}}, \"type\": \"scattergeo\"}], \"scattergl\": [{\"marker\": {\"colorbar\": {\"outlinewidth\": 0, \"ticks\": \"\"}}, \"type\": \"scattergl\"}], \"scattermapbox\": [{\"marker\": {\"colorbar\": {\"outlinewidth\": 0, \"ticks\": \"\"}}, \"type\": \"scattermapbox\"}], \"scatterpolar\": [{\"marker\": {\"colorbar\": {\"outlinewidth\": 0, \"ticks\": \"\"}}, \"type\": \"scatterpolar\"}], \"scatterpolargl\": [{\"marker\": {\"colorbar\": {\"outlinewidth\": 0, \"ticks\": \"\"}}, \"type\": \"scatterpolargl\"}], \"scatterternary\": [{\"marker\": {\"colorbar\": {\"outlinewidth\": 0, \"ticks\": \"\"}}, \"type\": \"scatterternary\"}], \"surface\": [{\"colorbar\": {\"outlinewidth\": 0, \"ticks\": \"\"}, \"colorscale\": [[0.0, \"#0d0887\"], [0.1111111111111111, \"#46039f\"], [0.2222222222222222, \"#7201a8\"], [0.3333333333333333, \"#9c179e\"], [0.4444444444444444, \"#bd3786\"], [0.5555555555555556, \"#d8576b\"], [0.6666666666666666, \"#ed7953\"], [0.7777777777777778, \"#fb9f3a\"], [0.8888888888888888, \"#fdca26\"], [1.0, \"#f0f921\"]], \"type\": \"surface\"}], \"table\": [{\"cells\": {\"fill\": {\"color\": \"#EBF0F8\"}, \"line\": {\"color\": \"white\"}}, \"header\": {\"fill\": {\"color\": \"#C8D4E3\"}, \"line\": {\"color\": \"white\"}}, \"type\": \"table\"}]}, \"layout\": {\"annotationdefaults\": {\"arrowcolor\": \"#2a3f5f\", \"arrowhead\": 0, \"arrowwidth\": 1}, \"colorscale\": {\"diverging\": [[0, \"#8e0152\"], [0.1, \"#c51b7d\"], [0.2, \"#de77ae\"], [0.3, \"#f1b6da\"], [0.4, \"#fde0ef\"], [0.5, \"#f7f7f7\"], [0.6, \"#e6f5d0\"], [0.7, \"#b8e186\"], [0.8, \"#7fbc41\"], [0.9, \"#4d9221\"], [1, \"#276419\"]], \"sequential\": [[0.0, \"#0d0887\"], [0.1111111111111111, \"#46039f\"], [0.2222222222222222, \"#7201a8\"], [0.3333333333333333, \"#9c179e\"], [0.4444444444444444, \"#bd3786\"], [0.5555555555555556, \"#d8576b\"], [0.6666666666666666, \"#ed7953\"], [0.7777777777777778, \"#fb9f3a\"], [0.8888888888888888, \"#fdca26\"], [1.0, \"#f0f921\"]], \"sequentialminus\": [[0.0, \"#0d0887\"], [0.1111111111111111, \"#46039f\"], [0.2222222222222222, \"#7201a8\"], [0.3333333333333333, \"#9c179e\"], [0.4444444444444444, \"#bd3786\"], [0.5555555555555556, \"#d8576b\"], [0.6666666666666666, \"#ed7953\"], [0.7777777777777778, \"#fb9f3a\"], [0.8888888888888888, \"#fdca26\"], [1.0, \"#f0f921\"]]}, \"colorway\": [\"#636efa\", \"#EF553B\", \"#00cc96\", \"#ab63fa\", \"#FFA15A\", \"#19d3f3\", \"#FF6692\", \"#B6E880\", \"#FF97FF\", \"#FECB52\"], \"font\": {\"color\": \"#2a3f5f\"}, \"geo\": {\"bgcolor\": \"white\", \"lakecolor\": \"white\", \"landcolor\": \"#E5ECF6\", \"showlakes\": true, \"showland\": true, \"subunitcolor\": \"white\"}, \"hoverlabel\": {\"align\": \"left\"}, \"hovermode\": \"closest\", \"mapbox\": {\"style\": \"light\"}, \"paper_bgcolor\": \"white\", \"plot_bgcolor\": \"#E5ECF6\", \"polar\": {\"angularaxis\": {\"gridcolor\": \"white\", \"linecolor\": \"white\", \"ticks\": \"\"}, \"bgcolor\": \"#E5ECF6\", \"radialaxis\": {\"gridcolor\": \"white\", \"linecolor\": \"white\", \"ticks\": \"\"}}, \"scene\": {\"xaxis\": {\"backgroundcolor\": \"#E5ECF6\", \"gridcolor\": \"white\", \"gridwidth\": 2, \"linecolor\": \"white\", \"showbackground\": true, \"ticks\": \"\", \"zerolinecolor\": \"white\"}, \"yaxis\": {\"backgroundcolor\": \"#E5ECF6\", \"gridcolor\": \"white\", \"gridwidth\": 2, \"linecolor\": \"white\", \"showbackground\": true, \"ticks\": \"\", \"zerolinecolor\": \"white\"}, \"zaxis\": {\"backgroundcolor\": \"#E5ECF6\", \"gridcolor\": \"white\", \"gridwidth\": 2, \"linecolor\": \"white\", \"showbackground\": true, \"ticks\": \"\", \"zerolinecolor\": \"white\"}}, \"shapedefaults\": {\"line\": {\"color\": \"#2a3f5f\"}}, \"ternary\": {\"aaxis\": {\"gridcolor\": \"white\", \"linecolor\": \"white\", \"ticks\": \"\"}, \"baxis\": {\"gridcolor\": \"white\", \"linecolor\": \"white\", \"ticks\": \"\"}, \"bgcolor\": \"#E5ECF6\", \"caxis\": {\"gridcolor\": \"white\", \"linecolor\": \"white\", \"ticks\": \"\"}}, \"title\": {\"x\": 0.05}, \"xaxis\": {\"automargin\": true, \"gridcolor\": \"white\", \"linecolor\": \"white\", \"ticks\": \"\", \"zerolinecolor\": \"white\", \"zerolinewidth\": 2}, \"yaxis\": {\"automargin\": true, \"gridcolor\": \"white\", \"linecolor\": \"white\", \"ticks\": \"\", \"zerolinecolor\": \"white\", \"zerolinewidth\": 2}}}, \"title\": {\"text\": \"Frequency of '#chile' over dataset\", \"x\": 0.48, \"xanchor\": \"center\", \"y\": 0.9, \"yanchor\": \"top\"}, \"xaxis\": {\"anchor\": \"y\", \"domain\": [0.0, 0.98], \"title\": {\"text\": \"date\"}}, \"yaxis\": {\"anchor\": \"x\", \"domain\": [0.0, 1.0], \"title\": {\"text\": \"frequency\"}}},\n",
       "                        {\"responsive\": true}\n",
       "                    ).then(function(){\n",
       "                            \n",
       "var gd = document.getElementById('324ebd04-bffc-40d7-84a9-7a9b28403fff');\n",
       "var x = new MutationObserver(function (mutations, observer) {{\n",
       "        var display = window.getComputedStyle(gd).display;\n",
       "        if (!display || display === 'none') {{\n",
       "            console.log([gd, 'removed!']);\n",
       "            Plotly.purge(gd);\n",
       "            observer.disconnect();\n",
       "        }}\n",
       "}});\n",
       "\n",
       "// Listen for the removal of the full notebook cells\n",
       "var notebookContainer = gd.closest('#notebook-container');\n",
       "if (notebookContainer) {{\n",
       "    x.observe(notebookContainer, {childList: true});\n",
       "}}\n",
       "\n",
       "// Listen for the clearing of the current output cell\n",
       "var outputEl = gd.closest('.output');\n",
       "if (outputEl) {{\n",
       "    x.observe(outputEl, {childList: true});\n",
       "}}\n",
       "\n",
       "                        })\n",
       "                };\n",
       "                });\n",
       "            </script>\n",
       "        </div>"
      ]
     },
     "metadata": {},
     "output_type": "display_data"
    }
   ],
   "source": [
    "fig = px.line(tagdistrib('#chile'), x='date', y='frequency')\n",
    "fig.update_layout(\n",
    "    title={\n",
    "        'text': \"Frequency of '#chile' over dataset\",\n",
    "        'y':0.9,\n",
    "        'x':0.48,\n",
    "        'xanchor': 'center',\n",
    "        'yanchor': 'top'})\n",
    "fig.show()"
   ]
  },
  {
   "cell_type": "markdown",
   "metadata": {},
   "source": [
    "**Figure 3a. Frequency of '#chile' over dataset** Across the window of time spanned by the dataset, this tracks the popularity of #chile among my users. As expected, it's relatively popular over the entire window since all of the users are Chilean."
   ]
  },
  {
   "cell_type": "code",
   "execution_count": 169,
   "metadata": {},
   "outputs": [],
   "source": [
    "fig1 = px.line(tagdistrib('#chiledesperto'), x='date', y='frequency')"
   ]
  },
  {
   "cell_type": "code",
   "execution_count": 171,
   "metadata": {},
   "outputs": [
    {
     "data": {
      "application/vnd.plotly.v1+json": {
       "config": {
        "plotlyServerURL": "https://plot.ly"
       },
       "data": [
        {
         "hoverlabel": {
          "namelength": 0
         },
         "hovertemplate": "date=%{x}<br>frequency=%{y}",
         "legendgroup": "",
         "line": {
          "color": "#636efa",
          "dash": "solid"
         },
         "mode": "lines",
         "name": "",
         "showlegend": false,
         "type": "scatter",
         "x": [
          "2019-10-14",
          "2019-10-15",
          "2019-10-16",
          "2019-10-17",
          "2019-10-18",
          "2019-10-19",
          "2019-10-20",
          "2019-10-21",
          "2019-10-22",
          "2019-10-23",
          "2019-10-24",
          "2019-10-25",
          "2019-10-26",
          "2019-10-27",
          "2019-10-28",
          "2019-10-29",
          "2019-10-30",
          "2019-10-31",
          "2019-11-01",
          "2019-11-02",
          "2019-11-03",
          "2019-11-04",
          "2019-11-05",
          "2019-11-06",
          "2019-11-07",
          "2019-11-08",
          "2019-11-09",
          "2019-11-10",
          "2019-11-11",
          "2019-11-12",
          "2019-11-13",
          "2019-11-14",
          "2019-11-15",
          "2019-11-16",
          "2019-11-17",
          "2019-11-18",
          "2019-11-19",
          "2019-11-20",
          "2019-11-21",
          "2019-11-22",
          "2019-11-23",
          "2019-11-24",
          "2019-11-25",
          "2019-11-26",
          "2019-11-27",
          "2019-11-28",
          "2019-11-29",
          "2019-11-30",
          "2019-12-01",
          "2019-12-02",
          "2019-12-03",
          "2019-12-04",
          "2019-12-05",
          "2019-12-06",
          "2019-12-07",
          "2019-12-08",
          "2019-12-09"
         ],
         "xaxis": "x",
         "y": [
          0,
          0,
          0,
          0,
          0,
          11,
          5,
          6,
          6,
          0,
          0,
          4,
          6,
          2,
          0,
          1,
          3,
          1,
          0,
          1,
          2,
          0,
          4,
          0,
          2,
          6,
          0,
          1,
          0,
          0,
          0,
          4,
          6,
          1,
          0,
          5,
          0,
          1,
          1,
          3,
          3,
          2,
          1,
          2,
          0,
          1,
          1,
          0,
          0,
          0,
          0,
          0,
          0,
          1,
          0,
          1,
          1
         ],
         "yaxis": "y"
        }
       ],
       "layout": {
        "height": 600,
        "legend": {
         "tracegroupgap": 0
        },
        "margin": {
         "t": 60
        },
        "template": {
         "data": {
          "bar": [
           {
            "error_x": {
             "color": "#2a3f5f"
            },
            "error_y": {
             "color": "#2a3f5f"
            },
            "marker": {
             "line": {
              "color": "#E5ECF6",
              "width": 0.5
             }
            },
            "type": "bar"
           }
          ],
          "barpolar": [
           {
            "marker": {
             "line": {
              "color": "#E5ECF6",
              "width": 0.5
             }
            },
            "type": "barpolar"
           }
          ],
          "carpet": [
           {
            "aaxis": {
             "endlinecolor": "#2a3f5f",
             "gridcolor": "white",
             "linecolor": "white",
             "minorgridcolor": "white",
             "startlinecolor": "#2a3f5f"
            },
            "baxis": {
             "endlinecolor": "#2a3f5f",
             "gridcolor": "white",
             "linecolor": "white",
             "minorgridcolor": "white",
             "startlinecolor": "#2a3f5f"
            },
            "type": "carpet"
           }
          ],
          "choropleth": [
           {
            "colorbar": {
             "outlinewidth": 0,
             "ticks": ""
            },
            "type": "choropleth"
           }
          ],
          "contour": [
           {
            "colorbar": {
             "outlinewidth": 0,
             "ticks": ""
            },
            "colorscale": [
             [
              0,
              "#0d0887"
             ],
             [
              0.1111111111111111,
              "#46039f"
             ],
             [
              0.2222222222222222,
              "#7201a8"
             ],
             [
              0.3333333333333333,
              "#9c179e"
             ],
             [
              0.4444444444444444,
              "#bd3786"
             ],
             [
              0.5555555555555556,
              "#d8576b"
             ],
             [
              0.6666666666666666,
              "#ed7953"
             ],
             [
              0.7777777777777778,
              "#fb9f3a"
             ],
             [
              0.8888888888888888,
              "#fdca26"
             ],
             [
              1,
              "#f0f921"
             ]
            ],
            "type": "contour"
           }
          ],
          "contourcarpet": [
           {
            "colorbar": {
             "outlinewidth": 0,
             "ticks": ""
            },
            "type": "contourcarpet"
           }
          ],
          "heatmap": [
           {
            "colorbar": {
             "outlinewidth": 0,
             "ticks": ""
            },
            "colorscale": [
             [
              0,
              "#0d0887"
             ],
             [
              0.1111111111111111,
              "#46039f"
             ],
             [
              0.2222222222222222,
              "#7201a8"
             ],
             [
              0.3333333333333333,
              "#9c179e"
             ],
             [
              0.4444444444444444,
              "#bd3786"
             ],
             [
              0.5555555555555556,
              "#d8576b"
             ],
             [
              0.6666666666666666,
              "#ed7953"
             ],
             [
              0.7777777777777778,
              "#fb9f3a"
             ],
             [
              0.8888888888888888,
              "#fdca26"
             ],
             [
              1,
              "#f0f921"
             ]
            ],
            "type": "heatmap"
           }
          ],
          "heatmapgl": [
           {
            "colorbar": {
             "outlinewidth": 0,
             "ticks": ""
            },
            "colorscale": [
             [
              0,
              "#0d0887"
             ],
             [
              0.1111111111111111,
              "#46039f"
             ],
             [
              0.2222222222222222,
              "#7201a8"
             ],
             [
              0.3333333333333333,
              "#9c179e"
             ],
             [
              0.4444444444444444,
              "#bd3786"
             ],
             [
              0.5555555555555556,
              "#d8576b"
             ],
             [
              0.6666666666666666,
              "#ed7953"
             ],
             [
              0.7777777777777778,
              "#fb9f3a"
             ],
             [
              0.8888888888888888,
              "#fdca26"
             ],
             [
              1,
              "#f0f921"
             ]
            ],
            "type": "heatmapgl"
           }
          ],
          "histogram": [
           {
            "marker": {
             "colorbar": {
              "outlinewidth": 0,
              "ticks": ""
             }
            },
            "type": "histogram"
           }
          ],
          "histogram2d": [
           {
            "colorbar": {
             "outlinewidth": 0,
             "ticks": ""
            },
            "colorscale": [
             [
              0,
              "#0d0887"
             ],
             [
              0.1111111111111111,
              "#46039f"
             ],
             [
              0.2222222222222222,
              "#7201a8"
             ],
             [
              0.3333333333333333,
              "#9c179e"
             ],
             [
              0.4444444444444444,
              "#bd3786"
             ],
             [
              0.5555555555555556,
              "#d8576b"
             ],
             [
              0.6666666666666666,
              "#ed7953"
             ],
             [
              0.7777777777777778,
              "#fb9f3a"
             ],
             [
              0.8888888888888888,
              "#fdca26"
             ],
             [
              1,
              "#f0f921"
             ]
            ],
            "type": "histogram2d"
           }
          ],
          "histogram2dcontour": [
           {
            "colorbar": {
             "outlinewidth": 0,
             "ticks": ""
            },
            "colorscale": [
             [
              0,
              "#0d0887"
             ],
             [
              0.1111111111111111,
              "#46039f"
             ],
             [
              0.2222222222222222,
              "#7201a8"
             ],
             [
              0.3333333333333333,
              "#9c179e"
             ],
             [
              0.4444444444444444,
              "#bd3786"
             ],
             [
              0.5555555555555556,
              "#d8576b"
             ],
             [
              0.6666666666666666,
              "#ed7953"
             ],
             [
              0.7777777777777778,
              "#fb9f3a"
             ],
             [
              0.8888888888888888,
              "#fdca26"
             ],
             [
              1,
              "#f0f921"
             ]
            ],
            "type": "histogram2dcontour"
           }
          ],
          "mesh3d": [
           {
            "colorbar": {
             "outlinewidth": 0,
             "ticks": ""
            },
            "type": "mesh3d"
           }
          ],
          "parcoords": [
           {
            "line": {
             "colorbar": {
              "outlinewidth": 0,
              "ticks": ""
             }
            },
            "type": "parcoords"
           }
          ],
          "scatter": [
           {
            "marker": {
             "colorbar": {
              "outlinewidth": 0,
              "ticks": ""
             }
            },
            "type": "scatter"
           }
          ],
          "scatter3d": [
           {
            "line": {
             "colorbar": {
              "outlinewidth": 0,
              "ticks": ""
             }
            },
            "marker": {
             "colorbar": {
              "outlinewidth": 0,
              "ticks": ""
             }
            },
            "type": "scatter3d"
           }
          ],
          "scattercarpet": [
           {
            "marker": {
             "colorbar": {
              "outlinewidth": 0,
              "ticks": ""
             }
            },
            "type": "scattercarpet"
           }
          ],
          "scattergeo": [
           {
            "marker": {
             "colorbar": {
              "outlinewidth": 0,
              "ticks": ""
             }
            },
            "type": "scattergeo"
           }
          ],
          "scattergl": [
           {
            "marker": {
             "colorbar": {
              "outlinewidth": 0,
              "ticks": ""
             }
            },
            "type": "scattergl"
           }
          ],
          "scattermapbox": [
           {
            "marker": {
             "colorbar": {
              "outlinewidth": 0,
              "ticks": ""
             }
            },
            "type": "scattermapbox"
           }
          ],
          "scatterpolar": [
           {
            "marker": {
             "colorbar": {
              "outlinewidth": 0,
              "ticks": ""
             }
            },
            "type": "scatterpolar"
           }
          ],
          "scatterpolargl": [
           {
            "marker": {
             "colorbar": {
              "outlinewidth": 0,
              "ticks": ""
             }
            },
            "type": "scatterpolargl"
           }
          ],
          "scatterternary": [
           {
            "marker": {
             "colorbar": {
              "outlinewidth": 0,
              "ticks": ""
             }
            },
            "type": "scatterternary"
           }
          ],
          "surface": [
           {
            "colorbar": {
             "outlinewidth": 0,
             "ticks": ""
            },
            "colorscale": [
             [
              0,
              "#0d0887"
             ],
             [
              0.1111111111111111,
              "#46039f"
             ],
             [
              0.2222222222222222,
              "#7201a8"
             ],
             [
              0.3333333333333333,
              "#9c179e"
             ],
             [
              0.4444444444444444,
              "#bd3786"
             ],
             [
              0.5555555555555556,
              "#d8576b"
             ],
             [
              0.6666666666666666,
              "#ed7953"
             ],
             [
              0.7777777777777778,
              "#fb9f3a"
             ],
             [
              0.8888888888888888,
              "#fdca26"
             ],
             [
              1,
              "#f0f921"
             ]
            ],
            "type": "surface"
           }
          ],
          "table": [
           {
            "cells": {
             "fill": {
              "color": "#EBF0F8"
             },
             "line": {
              "color": "white"
             }
            },
            "header": {
             "fill": {
              "color": "#C8D4E3"
             },
             "line": {
              "color": "white"
             }
            },
            "type": "table"
           }
          ]
         },
         "layout": {
          "annotationdefaults": {
           "arrowcolor": "#2a3f5f",
           "arrowhead": 0,
           "arrowwidth": 1
          },
          "colorscale": {
           "diverging": [
            [
             0,
             "#8e0152"
            ],
            [
             0.1,
             "#c51b7d"
            ],
            [
             0.2,
             "#de77ae"
            ],
            [
             0.3,
             "#f1b6da"
            ],
            [
             0.4,
             "#fde0ef"
            ],
            [
             0.5,
             "#f7f7f7"
            ],
            [
             0.6,
             "#e6f5d0"
            ],
            [
             0.7,
             "#b8e186"
            ],
            [
             0.8,
             "#7fbc41"
            ],
            [
             0.9,
             "#4d9221"
            ],
            [
             1,
             "#276419"
            ]
           ],
           "sequential": [
            [
             0,
             "#0d0887"
            ],
            [
             0.1111111111111111,
             "#46039f"
            ],
            [
             0.2222222222222222,
             "#7201a8"
            ],
            [
             0.3333333333333333,
             "#9c179e"
            ],
            [
             0.4444444444444444,
             "#bd3786"
            ],
            [
             0.5555555555555556,
             "#d8576b"
            ],
            [
             0.6666666666666666,
             "#ed7953"
            ],
            [
             0.7777777777777778,
             "#fb9f3a"
            ],
            [
             0.8888888888888888,
             "#fdca26"
            ],
            [
             1,
             "#f0f921"
            ]
           ],
           "sequentialminus": [
            [
             0,
             "#0d0887"
            ],
            [
             0.1111111111111111,
             "#46039f"
            ],
            [
             0.2222222222222222,
             "#7201a8"
            ],
            [
             0.3333333333333333,
             "#9c179e"
            ],
            [
             0.4444444444444444,
             "#bd3786"
            ],
            [
             0.5555555555555556,
             "#d8576b"
            ],
            [
             0.6666666666666666,
             "#ed7953"
            ],
            [
             0.7777777777777778,
             "#fb9f3a"
            ],
            [
             0.8888888888888888,
             "#fdca26"
            ],
            [
             1,
             "#f0f921"
            ]
           ]
          },
          "colorway": [
           "#636efa",
           "#EF553B",
           "#00cc96",
           "#ab63fa",
           "#FFA15A",
           "#19d3f3",
           "#FF6692",
           "#B6E880",
           "#FF97FF",
           "#FECB52"
          ],
          "font": {
           "color": "#2a3f5f"
          },
          "geo": {
           "bgcolor": "white",
           "lakecolor": "white",
           "landcolor": "#E5ECF6",
           "showlakes": true,
           "showland": true,
           "subunitcolor": "white"
          },
          "hoverlabel": {
           "align": "left"
          },
          "hovermode": "closest",
          "mapbox": {
           "style": "light"
          },
          "paper_bgcolor": "white",
          "plot_bgcolor": "#E5ECF6",
          "polar": {
           "angularaxis": {
            "gridcolor": "white",
            "linecolor": "white",
            "ticks": ""
           },
           "bgcolor": "#E5ECF6",
           "radialaxis": {
            "gridcolor": "white",
            "linecolor": "white",
            "ticks": ""
           }
          },
          "scene": {
           "xaxis": {
            "backgroundcolor": "#E5ECF6",
            "gridcolor": "white",
            "gridwidth": 2,
            "linecolor": "white",
            "showbackground": true,
            "ticks": "",
            "zerolinecolor": "white"
           },
           "yaxis": {
            "backgroundcolor": "#E5ECF6",
            "gridcolor": "white",
            "gridwidth": 2,
            "linecolor": "white",
            "showbackground": true,
            "ticks": "",
            "zerolinecolor": "white"
           },
           "zaxis": {
            "backgroundcolor": "#E5ECF6",
            "gridcolor": "white",
            "gridwidth": 2,
            "linecolor": "white",
            "showbackground": true,
            "ticks": "",
            "zerolinecolor": "white"
           }
          },
          "shapedefaults": {
           "line": {
            "color": "#2a3f5f"
           }
          },
          "ternary": {
           "aaxis": {
            "gridcolor": "white",
            "linecolor": "white",
            "ticks": ""
           },
           "baxis": {
            "gridcolor": "white",
            "linecolor": "white",
            "ticks": ""
           },
           "bgcolor": "#E5ECF6",
           "caxis": {
            "gridcolor": "white",
            "linecolor": "white",
            "ticks": ""
           }
          },
          "title": {
           "x": 0.05
          },
          "xaxis": {
           "automargin": true,
           "gridcolor": "white",
           "linecolor": "white",
           "ticks": "",
           "zerolinecolor": "white",
           "zerolinewidth": 2
          },
          "yaxis": {
           "automargin": true,
           "gridcolor": "white",
           "linecolor": "white",
           "ticks": "",
           "zerolinecolor": "white",
           "zerolinewidth": 2
          }
         }
        },
        "title": {
         "text": "Frequency of '#chiledesperto' over dataset",
         "x": 0.48,
         "xanchor": "center",
         "y": 0.9,
         "yanchor": "top"
        },
        "xaxis": {
         "anchor": "y",
         "domain": [
          0,
          0.98
         ],
         "title": {
          "text": "date"
         }
        },
        "yaxis": {
         "anchor": "x",
         "domain": [
          0,
          1
         ],
         "title": {
          "text": "frequency"
         }
        }
       }
      },
      "text/html": [
       "<div>\n",
       "        \n",
       "        \n",
       "            <div id=\"4c92f70c-531c-427d-9390-f3ee99a2fb8b\" class=\"plotly-graph-div\" style=\"height:600px; width:100%;\"></div>\n",
       "            <script type=\"text/javascript\">\n",
       "                require([\"plotly\"], function(Plotly) {\n",
       "                    window.PLOTLYENV=window.PLOTLYENV || {};\n",
       "                    \n",
       "                if (document.getElementById(\"4c92f70c-531c-427d-9390-f3ee99a2fb8b\")) {\n",
       "                    Plotly.newPlot(\n",
       "                        '4c92f70c-531c-427d-9390-f3ee99a2fb8b',\n",
       "                        [{\"hoverlabel\": {\"namelength\": 0}, \"hovertemplate\": \"date=%{x}<br>frequency=%{y}\", \"legendgroup\": \"\", \"line\": {\"color\": \"#636efa\", \"dash\": \"solid\"}, \"mode\": \"lines\", \"name\": \"\", \"showlegend\": false, \"type\": \"scatter\", \"x\": [\"2019-10-14\", \"2019-10-15\", \"2019-10-16\", \"2019-10-17\", \"2019-10-18\", \"2019-10-19\", \"2019-10-20\", \"2019-10-21\", \"2019-10-22\", \"2019-10-23\", \"2019-10-24\", \"2019-10-25\", \"2019-10-26\", \"2019-10-27\", \"2019-10-28\", \"2019-10-29\", \"2019-10-30\", \"2019-10-31\", \"2019-11-01\", \"2019-11-02\", \"2019-11-03\", \"2019-11-04\", \"2019-11-05\", \"2019-11-06\", \"2019-11-07\", \"2019-11-08\", \"2019-11-09\", \"2019-11-10\", \"2019-11-11\", \"2019-11-12\", \"2019-11-13\", \"2019-11-14\", \"2019-11-15\", \"2019-11-16\", \"2019-11-17\", \"2019-11-18\", \"2019-11-19\", \"2019-11-20\", \"2019-11-21\", \"2019-11-22\", \"2019-11-23\", \"2019-11-24\", \"2019-11-25\", \"2019-11-26\", \"2019-11-27\", \"2019-11-28\", \"2019-11-29\", \"2019-11-30\", \"2019-12-01\", \"2019-12-02\", \"2019-12-03\", \"2019-12-04\", \"2019-12-05\", \"2019-12-06\", \"2019-12-07\", \"2019-12-08\", \"2019-12-09\"], \"xaxis\": \"x\", \"y\": [0, 0, 0, 0, 0, 11, 5, 6, 6, 0, 0, 4, 6, 2, 0, 1, 3, 1, 0, 1, 2, 0, 4, 0, 2, 6, 0, 1, 0, 0, 0, 4, 6, 1, 0, 5, 0, 1, 1, 3, 3, 2, 1, 2, 0, 1, 1, 0, 0, 0, 0, 0, 0, 1, 0, 1, 1], \"yaxis\": \"y\"}],\n",
       "                        {\"height\": 600, \"legend\": {\"tracegroupgap\": 0}, \"margin\": {\"t\": 60}, \"template\": {\"data\": {\"bar\": [{\"error_x\": {\"color\": \"#2a3f5f\"}, \"error_y\": {\"color\": \"#2a3f5f\"}, \"marker\": {\"line\": {\"color\": \"#E5ECF6\", \"width\": 0.5}}, \"type\": \"bar\"}], \"barpolar\": [{\"marker\": {\"line\": {\"color\": \"#E5ECF6\", \"width\": 0.5}}, \"type\": \"barpolar\"}], \"carpet\": [{\"aaxis\": {\"endlinecolor\": \"#2a3f5f\", \"gridcolor\": \"white\", \"linecolor\": \"white\", \"minorgridcolor\": \"white\", \"startlinecolor\": \"#2a3f5f\"}, \"baxis\": {\"endlinecolor\": \"#2a3f5f\", \"gridcolor\": \"white\", \"linecolor\": \"white\", \"minorgridcolor\": \"white\", \"startlinecolor\": \"#2a3f5f\"}, \"type\": \"carpet\"}], \"choropleth\": [{\"colorbar\": {\"outlinewidth\": 0, \"ticks\": \"\"}, \"type\": \"choropleth\"}], \"contour\": [{\"colorbar\": {\"outlinewidth\": 0, \"ticks\": \"\"}, \"colorscale\": [[0.0, \"#0d0887\"], [0.1111111111111111, \"#46039f\"], [0.2222222222222222, \"#7201a8\"], [0.3333333333333333, \"#9c179e\"], [0.4444444444444444, \"#bd3786\"], [0.5555555555555556, \"#d8576b\"], [0.6666666666666666, \"#ed7953\"], [0.7777777777777778, \"#fb9f3a\"], [0.8888888888888888, \"#fdca26\"], [1.0, \"#f0f921\"]], \"type\": \"contour\"}], \"contourcarpet\": [{\"colorbar\": {\"outlinewidth\": 0, \"ticks\": \"\"}, \"type\": \"contourcarpet\"}], \"heatmap\": [{\"colorbar\": {\"outlinewidth\": 0, \"ticks\": \"\"}, \"colorscale\": [[0.0, \"#0d0887\"], [0.1111111111111111, \"#46039f\"], [0.2222222222222222, \"#7201a8\"], [0.3333333333333333, \"#9c179e\"], [0.4444444444444444, \"#bd3786\"], [0.5555555555555556, \"#d8576b\"], [0.6666666666666666, \"#ed7953\"], [0.7777777777777778, \"#fb9f3a\"], [0.8888888888888888, \"#fdca26\"], [1.0, \"#f0f921\"]], \"type\": \"heatmap\"}], \"heatmapgl\": [{\"colorbar\": {\"outlinewidth\": 0, \"ticks\": \"\"}, \"colorscale\": [[0.0, \"#0d0887\"], [0.1111111111111111, \"#46039f\"], [0.2222222222222222, \"#7201a8\"], [0.3333333333333333, \"#9c179e\"], [0.4444444444444444, \"#bd3786\"], [0.5555555555555556, \"#d8576b\"], [0.6666666666666666, \"#ed7953\"], [0.7777777777777778, \"#fb9f3a\"], [0.8888888888888888, \"#fdca26\"], [1.0, \"#f0f921\"]], \"type\": \"heatmapgl\"}], \"histogram\": [{\"marker\": {\"colorbar\": {\"outlinewidth\": 0, \"ticks\": \"\"}}, \"type\": \"histogram\"}], \"histogram2d\": [{\"colorbar\": {\"outlinewidth\": 0, \"ticks\": \"\"}, \"colorscale\": [[0.0, \"#0d0887\"], [0.1111111111111111, \"#46039f\"], [0.2222222222222222, \"#7201a8\"], [0.3333333333333333, \"#9c179e\"], [0.4444444444444444, \"#bd3786\"], [0.5555555555555556, \"#d8576b\"], [0.6666666666666666, \"#ed7953\"], [0.7777777777777778, \"#fb9f3a\"], [0.8888888888888888, \"#fdca26\"], [1.0, \"#f0f921\"]], \"type\": \"histogram2d\"}], \"histogram2dcontour\": [{\"colorbar\": {\"outlinewidth\": 0, \"ticks\": \"\"}, \"colorscale\": [[0.0, \"#0d0887\"], [0.1111111111111111, \"#46039f\"], [0.2222222222222222, \"#7201a8\"], [0.3333333333333333, \"#9c179e\"], [0.4444444444444444, \"#bd3786\"], [0.5555555555555556, \"#d8576b\"], [0.6666666666666666, \"#ed7953\"], [0.7777777777777778, \"#fb9f3a\"], [0.8888888888888888, \"#fdca26\"], [1.0, \"#f0f921\"]], \"type\": \"histogram2dcontour\"}], \"mesh3d\": [{\"colorbar\": {\"outlinewidth\": 0, \"ticks\": \"\"}, \"type\": \"mesh3d\"}], \"parcoords\": [{\"line\": {\"colorbar\": {\"outlinewidth\": 0, \"ticks\": \"\"}}, \"type\": \"parcoords\"}], \"scatter\": [{\"marker\": {\"colorbar\": {\"outlinewidth\": 0, \"ticks\": \"\"}}, \"type\": \"scatter\"}], \"scatter3d\": [{\"line\": {\"colorbar\": {\"outlinewidth\": 0, \"ticks\": \"\"}}, \"marker\": {\"colorbar\": {\"outlinewidth\": 0, \"ticks\": \"\"}}, \"type\": \"scatter3d\"}], \"scattercarpet\": [{\"marker\": {\"colorbar\": {\"outlinewidth\": 0, \"ticks\": \"\"}}, \"type\": \"scattercarpet\"}], \"scattergeo\": [{\"marker\": {\"colorbar\": {\"outlinewidth\": 0, \"ticks\": \"\"}}, \"type\": \"scattergeo\"}], \"scattergl\": [{\"marker\": {\"colorbar\": {\"outlinewidth\": 0, \"ticks\": \"\"}}, \"type\": \"scattergl\"}], \"scattermapbox\": [{\"marker\": {\"colorbar\": {\"outlinewidth\": 0, \"ticks\": \"\"}}, \"type\": \"scattermapbox\"}], \"scatterpolar\": [{\"marker\": {\"colorbar\": {\"outlinewidth\": 0, \"ticks\": \"\"}}, \"type\": \"scatterpolar\"}], \"scatterpolargl\": [{\"marker\": {\"colorbar\": {\"outlinewidth\": 0, \"ticks\": \"\"}}, \"type\": \"scatterpolargl\"}], \"scatterternary\": [{\"marker\": {\"colorbar\": {\"outlinewidth\": 0, \"ticks\": \"\"}}, \"type\": \"scatterternary\"}], \"surface\": [{\"colorbar\": {\"outlinewidth\": 0, \"ticks\": \"\"}, \"colorscale\": [[0.0, \"#0d0887\"], [0.1111111111111111, \"#46039f\"], [0.2222222222222222, \"#7201a8\"], [0.3333333333333333, \"#9c179e\"], [0.4444444444444444, \"#bd3786\"], [0.5555555555555556, \"#d8576b\"], [0.6666666666666666, \"#ed7953\"], [0.7777777777777778, \"#fb9f3a\"], [0.8888888888888888, \"#fdca26\"], [1.0, \"#f0f921\"]], \"type\": \"surface\"}], \"table\": [{\"cells\": {\"fill\": {\"color\": \"#EBF0F8\"}, \"line\": {\"color\": \"white\"}}, \"header\": {\"fill\": {\"color\": \"#C8D4E3\"}, \"line\": {\"color\": \"white\"}}, \"type\": \"table\"}]}, \"layout\": {\"annotationdefaults\": {\"arrowcolor\": \"#2a3f5f\", \"arrowhead\": 0, \"arrowwidth\": 1}, \"colorscale\": {\"diverging\": [[0, \"#8e0152\"], [0.1, \"#c51b7d\"], [0.2, \"#de77ae\"], [0.3, \"#f1b6da\"], [0.4, \"#fde0ef\"], [0.5, \"#f7f7f7\"], [0.6, \"#e6f5d0\"], [0.7, \"#b8e186\"], [0.8, \"#7fbc41\"], [0.9, \"#4d9221\"], [1, \"#276419\"]], \"sequential\": [[0.0, \"#0d0887\"], [0.1111111111111111, \"#46039f\"], [0.2222222222222222, \"#7201a8\"], [0.3333333333333333, \"#9c179e\"], [0.4444444444444444, \"#bd3786\"], [0.5555555555555556, \"#d8576b\"], [0.6666666666666666, \"#ed7953\"], [0.7777777777777778, \"#fb9f3a\"], [0.8888888888888888, \"#fdca26\"], [1.0, \"#f0f921\"]], \"sequentialminus\": [[0.0, \"#0d0887\"], [0.1111111111111111, \"#46039f\"], [0.2222222222222222, \"#7201a8\"], [0.3333333333333333, \"#9c179e\"], [0.4444444444444444, \"#bd3786\"], [0.5555555555555556, \"#d8576b\"], [0.6666666666666666, \"#ed7953\"], [0.7777777777777778, \"#fb9f3a\"], [0.8888888888888888, \"#fdca26\"], [1.0, \"#f0f921\"]]}, \"colorway\": [\"#636efa\", \"#EF553B\", \"#00cc96\", \"#ab63fa\", \"#FFA15A\", \"#19d3f3\", \"#FF6692\", \"#B6E880\", \"#FF97FF\", \"#FECB52\"], \"font\": {\"color\": \"#2a3f5f\"}, \"geo\": {\"bgcolor\": \"white\", \"lakecolor\": \"white\", \"landcolor\": \"#E5ECF6\", \"showlakes\": true, \"showland\": true, \"subunitcolor\": \"white\"}, \"hoverlabel\": {\"align\": \"left\"}, \"hovermode\": \"closest\", \"mapbox\": {\"style\": \"light\"}, \"paper_bgcolor\": \"white\", \"plot_bgcolor\": \"#E5ECF6\", \"polar\": {\"angularaxis\": {\"gridcolor\": \"white\", \"linecolor\": \"white\", \"ticks\": \"\"}, \"bgcolor\": \"#E5ECF6\", \"radialaxis\": {\"gridcolor\": \"white\", \"linecolor\": \"white\", \"ticks\": \"\"}}, \"scene\": {\"xaxis\": {\"backgroundcolor\": \"#E5ECF6\", \"gridcolor\": \"white\", \"gridwidth\": 2, \"linecolor\": \"white\", \"showbackground\": true, \"ticks\": \"\", \"zerolinecolor\": \"white\"}, \"yaxis\": {\"backgroundcolor\": \"#E5ECF6\", \"gridcolor\": \"white\", \"gridwidth\": 2, \"linecolor\": \"white\", \"showbackground\": true, \"ticks\": \"\", \"zerolinecolor\": \"white\"}, \"zaxis\": {\"backgroundcolor\": \"#E5ECF6\", \"gridcolor\": \"white\", \"gridwidth\": 2, \"linecolor\": \"white\", \"showbackground\": true, \"ticks\": \"\", \"zerolinecolor\": \"white\"}}, \"shapedefaults\": {\"line\": {\"color\": \"#2a3f5f\"}}, \"ternary\": {\"aaxis\": {\"gridcolor\": \"white\", \"linecolor\": \"white\", \"ticks\": \"\"}, \"baxis\": {\"gridcolor\": \"white\", \"linecolor\": \"white\", \"ticks\": \"\"}, \"bgcolor\": \"#E5ECF6\", \"caxis\": {\"gridcolor\": \"white\", \"linecolor\": \"white\", \"ticks\": \"\"}}, \"title\": {\"x\": 0.05}, \"xaxis\": {\"automargin\": true, \"gridcolor\": \"white\", \"linecolor\": \"white\", \"ticks\": \"\", \"zerolinecolor\": \"white\", \"zerolinewidth\": 2}, \"yaxis\": {\"automargin\": true, \"gridcolor\": \"white\", \"linecolor\": \"white\", \"ticks\": \"\", \"zerolinecolor\": \"white\", \"zerolinewidth\": 2}}}, \"title\": {\"text\": \"Frequency of '#chiledesperto' over dataset\", \"x\": 0.48, \"xanchor\": \"center\", \"y\": 0.9, \"yanchor\": \"top\"}, \"xaxis\": {\"anchor\": \"y\", \"domain\": [0.0, 0.98], \"title\": {\"text\": \"date\"}}, \"yaxis\": {\"anchor\": \"x\", \"domain\": [0.0, 1.0], \"title\": {\"text\": \"frequency\"}}},\n",
       "                        {\"responsive\": true}\n",
       "                    ).then(function(){\n",
       "                            \n",
       "var gd = document.getElementById('4c92f70c-531c-427d-9390-f3ee99a2fb8b');\n",
       "var x = new MutationObserver(function (mutations, observer) {{\n",
       "        var display = window.getComputedStyle(gd).display;\n",
       "        if (!display || display === 'none') {{\n",
       "            console.log([gd, 'removed!']);\n",
       "            Plotly.purge(gd);\n",
       "            observer.disconnect();\n",
       "        }}\n",
       "}});\n",
       "\n",
       "// Listen for the removal of the full notebook cells\n",
       "var notebookContainer = gd.closest('#notebook-container');\n",
       "if (notebookContainer) {{\n",
       "    x.observe(notebookContainer, {childList: true});\n",
       "}}\n",
       "\n",
       "// Listen for the clearing of the current output cell\n",
       "var outputEl = gd.closest('.output');\n",
       "if (outputEl) {{\n",
       "    x.observe(outputEl, {childList: true});\n",
       "}}\n",
       "\n",
       "                        })\n",
       "                };\n",
       "                });\n",
       "            </script>\n",
       "        </div>"
      ]
     },
     "metadata": {},
     "output_type": "display_data"
    }
   ],
   "source": [
    "fig1.update_layout(\n",
    "    title={\n",
    "        'text': \"Frequency of '#chiledesperto' over dataset\",\n",
    "        'y':0.9,\n",
    "        'x':0.48,\n",
    "        'xanchor': 'center',\n",
    "        'yanchor': 'top'})\n",
    "fig1.show()"
   ]
  },
  {
   "cell_type": "markdown",
   "metadata": {},
   "source": [
    "**Figure 3b. Frequency of '#chiledesperto' over dataset** This hashtag means \"awaken Chile\" in English. It's a call to action that as we can see was more popular among my accounts at the beginning of the protests."
   ]
  },
  {
   "cell_type": "code",
   "execution_count": 172,
   "metadata": {},
   "outputs": [
    {
     "data": {
      "application/vnd.plotly.v1+json": {
       "config": {
        "plotlyServerURL": "https://plot.ly"
       },
       "data": [
        {
         "hoverlabel": {
          "namelength": 0
         },
         "hovertemplate": "date=%{x}<br>frequency=%{y}",
         "legendgroup": "",
         "line": {
          "color": "#636efa",
          "dash": "solid"
         },
         "mode": "lines",
         "name": "",
         "showlegend": false,
         "type": "scatter",
         "x": [
          "2019-10-14",
          "2019-10-15",
          "2019-10-16",
          "2019-10-17",
          "2019-10-18",
          "2019-10-19",
          "2019-10-20",
          "2019-10-21",
          "2019-10-22",
          "2019-10-23",
          "2019-10-24",
          "2019-10-25",
          "2019-10-26",
          "2019-10-27",
          "2019-10-28",
          "2019-10-29",
          "2019-10-30",
          "2019-10-31",
          "2019-11-01",
          "2019-11-02",
          "2019-11-03",
          "2019-11-04",
          "2019-11-05",
          "2019-11-06",
          "2019-11-07",
          "2019-11-08",
          "2019-11-09",
          "2019-11-10",
          "2019-11-11",
          "2019-11-12",
          "2019-11-13",
          "2019-11-14",
          "2019-11-15",
          "2019-11-16",
          "2019-11-17",
          "2019-11-18",
          "2019-11-19",
          "2019-11-20",
          "2019-11-21",
          "2019-11-22",
          "2019-11-23",
          "2019-11-24",
          "2019-11-25",
          "2019-11-26",
          "2019-11-27",
          "2019-11-28",
          "2019-11-29",
          "2019-11-30",
          "2019-12-01",
          "2019-12-02",
          "2019-12-03",
          "2019-12-04",
          "2019-12-05",
          "2019-12-06",
          "2019-12-07",
          "2019-12-08",
          "2019-12-09"
         ],
         "xaxis": "x",
         "y": [
          0,
          0,
          0,
          0,
          6,
          1,
          1,
          15,
          4,
          15,
          3,
          3,
          5,
          1,
          1,
          2,
          1,
          2,
          1,
          4,
          1,
          0,
          4,
          2,
          3,
          1,
          4,
          1,
          0,
          1,
          2,
          0,
          0,
          0,
          0,
          1,
          0,
          0,
          0,
          0,
          0,
          0,
          0,
          0,
          0,
          2,
          0,
          0,
          0,
          0,
          0,
          0,
          0,
          0,
          0,
          0,
          0
         ],
         "yaxis": "y"
        }
       ],
       "layout": {
        "height": 600,
        "legend": {
         "tracegroupgap": 0
        },
        "margin": {
         "t": 60
        },
        "template": {
         "data": {
          "bar": [
           {
            "error_x": {
             "color": "#2a3f5f"
            },
            "error_y": {
             "color": "#2a3f5f"
            },
            "marker": {
             "line": {
              "color": "#E5ECF6",
              "width": 0.5
             }
            },
            "type": "bar"
           }
          ],
          "barpolar": [
           {
            "marker": {
             "line": {
              "color": "#E5ECF6",
              "width": 0.5
             }
            },
            "type": "barpolar"
           }
          ],
          "carpet": [
           {
            "aaxis": {
             "endlinecolor": "#2a3f5f",
             "gridcolor": "white",
             "linecolor": "white",
             "minorgridcolor": "white",
             "startlinecolor": "#2a3f5f"
            },
            "baxis": {
             "endlinecolor": "#2a3f5f",
             "gridcolor": "white",
             "linecolor": "white",
             "minorgridcolor": "white",
             "startlinecolor": "#2a3f5f"
            },
            "type": "carpet"
           }
          ],
          "choropleth": [
           {
            "colorbar": {
             "outlinewidth": 0,
             "ticks": ""
            },
            "type": "choropleth"
           }
          ],
          "contour": [
           {
            "colorbar": {
             "outlinewidth": 0,
             "ticks": ""
            },
            "colorscale": [
             [
              0,
              "#0d0887"
             ],
             [
              0.1111111111111111,
              "#46039f"
             ],
             [
              0.2222222222222222,
              "#7201a8"
             ],
             [
              0.3333333333333333,
              "#9c179e"
             ],
             [
              0.4444444444444444,
              "#bd3786"
             ],
             [
              0.5555555555555556,
              "#d8576b"
             ],
             [
              0.6666666666666666,
              "#ed7953"
             ],
             [
              0.7777777777777778,
              "#fb9f3a"
             ],
             [
              0.8888888888888888,
              "#fdca26"
             ],
             [
              1,
              "#f0f921"
             ]
            ],
            "type": "contour"
           }
          ],
          "contourcarpet": [
           {
            "colorbar": {
             "outlinewidth": 0,
             "ticks": ""
            },
            "type": "contourcarpet"
           }
          ],
          "heatmap": [
           {
            "colorbar": {
             "outlinewidth": 0,
             "ticks": ""
            },
            "colorscale": [
             [
              0,
              "#0d0887"
             ],
             [
              0.1111111111111111,
              "#46039f"
             ],
             [
              0.2222222222222222,
              "#7201a8"
             ],
             [
              0.3333333333333333,
              "#9c179e"
             ],
             [
              0.4444444444444444,
              "#bd3786"
             ],
             [
              0.5555555555555556,
              "#d8576b"
             ],
             [
              0.6666666666666666,
              "#ed7953"
             ],
             [
              0.7777777777777778,
              "#fb9f3a"
             ],
             [
              0.8888888888888888,
              "#fdca26"
             ],
             [
              1,
              "#f0f921"
             ]
            ],
            "type": "heatmap"
           }
          ],
          "heatmapgl": [
           {
            "colorbar": {
             "outlinewidth": 0,
             "ticks": ""
            },
            "colorscale": [
             [
              0,
              "#0d0887"
             ],
             [
              0.1111111111111111,
              "#46039f"
             ],
             [
              0.2222222222222222,
              "#7201a8"
             ],
             [
              0.3333333333333333,
              "#9c179e"
             ],
             [
              0.4444444444444444,
              "#bd3786"
             ],
             [
              0.5555555555555556,
              "#d8576b"
             ],
             [
              0.6666666666666666,
              "#ed7953"
             ],
             [
              0.7777777777777778,
              "#fb9f3a"
             ],
             [
              0.8888888888888888,
              "#fdca26"
             ],
             [
              1,
              "#f0f921"
             ]
            ],
            "type": "heatmapgl"
           }
          ],
          "histogram": [
           {
            "marker": {
             "colorbar": {
              "outlinewidth": 0,
              "ticks": ""
             }
            },
            "type": "histogram"
           }
          ],
          "histogram2d": [
           {
            "colorbar": {
             "outlinewidth": 0,
             "ticks": ""
            },
            "colorscale": [
             [
              0,
              "#0d0887"
             ],
             [
              0.1111111111111111,
              "#46039f"
             ],
             [
              0.2222222222222222,
              "#7201a8"
             ],
             [
              0.3333333333333333,
              "#9c179e"
             ],
             [
              0.4444444444444444,
              "#bd3786"
             ],
             [
              0.5555555555555556,
              "#d8576b"
             ],
             [
              0.6666666666666666,
              "#ed7953"
             ],
             [
              0.7777777777777778,
              "#fb9f3a"
             ],
             [
              0.8888888888888888,
              "#fdca26"
             ],
             [
              1,
              "#f0f921"
             ]
            ],
            "type": "histogram2d"
           }
          ],
          "histogram2dcontour": [
           {
            "colorbar": {
             "outlinewidth": 0,
             "ticks": ""
            },
            "colorscale": [
             [
              0,
              "#0d0887"
             ],
             [
              0.1111111111111111,
              "#46039f"
             ],
             [
              0.2222222222222222,
              "#7201a8"
             ],
             [
              0.3333333333333333,
              "#9c179e"
             ],
             [
              0.4444444444444444,
              "#bd3786"
             ],
             [
              0.5555555555555556,
              "#d8576b"
             ],
             [
              0.6666666666666666,
              "#ed7953"
             ],
             [
              0.7777777777777778,
              "#fb9f3a"
             ],
             [
              0.8888888888888888,
              "#fdca26"
             ],
             [
              1,
              "#f0f921"
             ]
            ],
            "type": "histogram2dcontour"
           }
          ],
          "mesh3d": [
           {
            "colorbar": {
             "outlinewidth": 0,
             "ticks": ""
            },
            "type": "mesh3d"
           }
          ],
          "parcoords": [
           {
            "line": {
             "colorbar": {
              "outlinewidth": 0,
              "ticks": ""
             }
            },
            "type": "parcoords"
           }
          ],
          "scatter": [
           {
            "marker": {
             "colorbar": {
              "outlinewidth": 0,
              "ticks": ""
             }
            },
            "type": "scatter"
           }
          ],
          "scatter3d": [
           {
            "line": {
             "colorbar": {
              "outlinewidth": 0,
              "ticks": ""
             }
            },
            "marker": {
             "colorbar": {
              "outlinewidth": 0,
              "ticks": ""
             }
            },
            "type": "scatter3d"
           }
          ],
          "scattercarpet": [
           {
            "marker": {
             "colorbar": {
              "outlinewidth": 0,
              "ticks": ""
             }
            },
            "type": "scattercarpet"
           }
          ],
          "scattergeo": [
           {
            "marker": {
             "colorbar": {
              "outlinewidth": 0,
              "ticks": ""
             }
            },
            "type": "scattergeo"
           }
          ],
          "scattergl": [
           {
            "marker": {
             "colorbar": {
              "outlinewidth": 0,
              "ticks": ""
             }
            },
            "type": "scattergl"
           }
          ],
          "scattermapbox": [
           {
            "marker": {
             "colorbar": {
              "outlinewidth": 0,
              "ticks": ""
             }
            },
            "type": "scattermapbox"
           }
          ],
          "scatterpolar": [
           {
            "marker": {
             "colorbar": {
              "outlinewidth": 0,
              "ticks": ""
             }
            },
            "type": "scatterpolar"
           }
          ],
          "scatterpolargl": [
           {
            "marker": {
             "colorbar": {
              "outlinewidth": 0,
              "ticks": ""
             }
            },
            "type": "scatterpolargl"
           }
          ],
          "scatterternary": [
           {
            "marker": {
             "colorbar": {
              "outlinewidth": 0,
              "ticks": ""
             }
            },
            "type": "scatterternary"
           }
          ],
          "surface": [
           {
            "colorbar": {
             "outlinewidth": 0,
             "ticks": ""
            },
            "colorscale": [
             [
              0,
              "#0d0887"
             ],
             [
              0.1111111111111111,
              "#46039f"
             ],
             [
              0.2222222222222222,
              "#7201a8"
             ],
             [
              0.3333333333333333,
              "#9c179e"
             ],
             [
              0.4444444444444444,
              "#bd3786"
             ],
             [
              0.5555555555555556,
              "#d8576b"
             ],
             [
              0.6666666666666666,
              "#ed7953"
             ],
             [
              0.7777777777777778,
              "#fb9f3a"
             ],
             [
              0.8888888888888888,
              "#fdca26"
             ],
             [
              1,
              "#f0f921"
             ]
            ],
            "type": "surface"
           }
          ],
          "table": [
           {
            "cells": {
             "fill": {
              "color": "#EBF0F8"
             },
             "line": {
              "color": "white"
             }
            },
            "header": {
             "fill": {
              "color": "#C8D4E3"
             },
             "line": {
              "color": "white"
             }
            },
            "type": "table"
           }
          ]
         },
         "layout": {
          "annotationdefaults": {
           "arrowcolor": "#2a3f5f",
           "arrowhead": 0,
           "arrowwidth": 1
          },
          "colorscale": {
           "diverging": [
            [
             0,
             "#8e0152"
            ],
            [
             0.1,
             "#c51b7d"
            ],
            [
             0.2,
             "#de77ae"
            ],
            [
             0.3,
             "#f1b6da"
            ],
            [
             0.4,
             "#fde0ef"
            ],
            [
             0.5,
             "#f7f7f7"
            ],
            [
             0.6,
             "#e6f5d0"
            ],
            [
             0.7,
             "#b8e186"
            ],
            [
             0.8,
             "#7fbc41"
            ],
            [
             0.9,
             "#4d9221"
            ],
            [
             1,
             "#276419"
            ]
           ],
           "sequential": [
            [
             0,
             "#0d0887"
            ],
            [
             0.1111111111111111,
             "#46039f"
            ],
            [
             0.2222222222222222,
             "#7201a8"
            ],
            [
             0.3333333333333333,
             "#9c179e"
            ],
            [
             0.4444444444444444,
             "#bd3786"
            ],
            [
             0.5555555555555556,
             "#d8576b"
            ],
            [
             0.6666666666666666,
             "#ed7953"
            ],
            [
             0.7777777777777778,
             "#fb9f3a"
            ],
            [
             0.8888888888888888,
             "#fdca26"
            ],
            [
             1,
             "#f0f921"
            ]
           ],
           "sequentialminus": [
            [
             0,
             "#0d0887"
            ],
            [
             0.1111111111111111,
             "#46039f"
            ],
            [
             0.2222222222222222,
             "#7201a8"
            ],
            [
             0.3333333333333333,
             "#9c179e"
            ],
            [
             0.4444444444444444,
             "#bd3786"
            ],
            [
             0.5555555555555556,
             "#d8576b"
            ],
            [
             0.6666666666666666,
             "#ed7953"
            ],
            [
             0.7777777777777778,
             "#fb9f3a"
            ],
            [
             0.8888888888888888,
             "#fdca26"
            ],
            [
             1,
             "#f0f921"
            ]
           ]
          },
          "colorway": [
           "#636efa",
           "#EF553B",
           "#00cc96",
           "#ab63fa",
           "#FFA15A",
           "#19d3f3",
           "#FF6692",
           "#B6E880",
           "#FF97FF",
           "#FECB52"
          ],
          "font": {
           "color": "#2a3f5f"
          },
          "geo": {
           "bgcolor": "white",
           "lakecolor": "white",
           "landcolor": "#E5ECF6",
           "showlakes": true,
           "showland": true,
           "subunitcolor": "white"
          },
          "hoverlabel": {
           "align": "left"
          },
          "hovermode": "closest",
          "mapbox": {
           "style": "light"
          },
          "paper_bgcolor": "white",
          "plot_bgcolor": "#E5ECF6",
          "polar": {
           "angularaxis": {
            "gridcolor": "white",
            "linecolor": "white",
            "ticks": ""
           },
           "bgcolor": "#E5ECF6",
           "radialaxis": {
            "gridcolor": "white",
            "linecolor": "white",
            "ticks": ""
           }
          },
          "scene": {
           "xaxis": {
            "backgroundcolor": "#E5ECF6",
            "gridcolor": "white",
            "gridwidth": 2,
            "linecolor": "white",
            "showbackground": true,
            "ticks": "",
            "zerolinecolor": "white"
           },
           "yaxis": {
            "backgroundcolor": "#E5ECF6",
            "gridcolor": "white",
            "gridwidth": 2,
            "linecolor": "white",
            "showbackground": true,
            "ticks": "",
            "zerolinecolor": "white"
           },
           "zaxis": {
            "backgroundcolor": "#E5ECF6",
            "gridcolor": "white",
            "gridwidth": 2,
            "linecolor": "white",
            "showbackground": true,
            "ticks": "",
            "zerolinecolor": "white"
           }
          },
          "shapedefaults": {
           "line": {
            "color": "#2a3f5f"
           }
          },
          "ternary": {
           "aaxis": {
            "gridcolor": "white",
            "linecolor": "white",
            "ticks": ""
           },
           "baxis": {
            "gridcolor": "white",
            "linecolor": "white",
            "ticks": ""
           },
           "bgcolor": "#E5ECF6",
           "caxis": {
            "gridcolor": "white",
            "linecolor": "white",
            "ticks": ""
           }
          },
          "title": {
           "x": 0.05
          },
          "xaxis": {
           "automargin": true,
           "gridcolor": "white",
           "linecolor": "white",
           "ticks": "",
           "zerolinecolor": "white",
           "zerolinewidth": 2
          },
          "yaxis": {
           "automargin": true,
           "gridcolor": "white",
           "linecolor": "white",
           "ticks": "",
           "zerolinecolor": "white",
           "zerolinewidth": 2
          }
         }
        },
        "title": {
         "text": "Frequency of '#renunciapi' over dataset",
         "x": 0.48,
         "xanchor": "center",
         "y": 0.9,
         "yanchor": "top"
        },
        "xaxis": {
         "anchor": "y",
         "domain": [
          0,
          0.98
         ],
         "title": {
          "text": "date"
         }
        },
        "yaxis": {
         "anchor": "x",
         "domain": [
          0,
          1
         ],
         "title": {
          "text": "frequency"
         }
        }
       }
      },
      "text/html": [
       "<div>\n",
       "        \n",
       "        \n",
       "            <div id=\"d811edf3-ef86-401f-9c45-06da80c3aa50\" class=\"plotly-graph-div\" style=\"height:600px; width:100%;\"></div>\n",
       "            <script type=\"text/javascript\">\n",
       "                require([\"plotly\"], function(Plotly) {\n",
       "                    window.PLOTLYENV=window.PLOTLYENV || {};\n",
       "                    \n",
       "                if (document.getElementById(\"d811edf3-ef86-401f-9c45-06da80c3aa50\")) {\n",
       "                    Plotly.newPlot(\n",
       "                        'd811edf3-ef86-401f-9c45-06da80c3aa50',\n",
       "                        [{\"hoverlabel\": {\"namelength\": 0}, \"hovertemplate\": \"date=%{x}<br>frequency=%{y}\", \"legendgroup\": \"\", \"line\": {\"color\": \"#636efa\", \"dash\": \"solid\"}, \"mode\": \"lines\", \"name\": \"\", \"showlegend\": false, \"type\": \"scatter\", \"x\": [\"2019-10-14\", \"2019-10-15\", \"2019-10-16\", \"2019-10-17\", \"2019-10-18\", \"2019-10-19\", \"2019-10-20\", \"2019-10-21\", \"2019-10-22\", \"2019-10-23\", \"2019-10-24\", \"2019-10-25\", \"2019-10-26\", \"2019-10-27\", \"2019-10-28\", \"2019-10-29\", \"2019-10-30\", \"2019-10-31\", \"2019-11-01\", \"2019-11-02\", \"2019-11-03\", \"2019-11-04\", \"2019-11-05\", \"2019-11-06\", \"2019-11-07\", \"2019-11-08\", \"2019-11-09\", \"2019-11-10\", \"2019-11-11\", \"2019-11-12\", \"2019-11-13\", \"2019-11-14\", \"2019-11-15\", \"2019-11-16\", \"2019-11-17\", \"2019-11-18\", \"2019-11-19\", \"2019-11-20\", \"2019-11-21\", \"2019-11-22\", \"2019-11-23\", \"2019-11-24\", \"2019-11-25\", \"2019-11-26\", \"2019-11-27\", \"2019-11-28\", \"2019-11-29\", \"2019-11-30\", \"2019-12-01\", \"2019-12-02\", \"2019-12-03\", \"2019-12-04\", \"2019-12-05\", \"2019-12-06\", \"2019-12-07\", \"2019-12-08\", \"2019-12-09\"], \"xaxis\": \"x\", \"y\": [0, 0, 0, 0, 6, 1, 1, 15, 4, 15, 3, 3, 5, 1, 1, 2, 1, 2, 1, 4, 1, 0, 4, 2, 3, 1, 4, 1, 0, 1, 2, 0, 0, 0, 0, 1, 0, 0, 0, 0, 0, 0, 0, 0, 0, 2, 0, 0, 0, 0, 0, 0, 0, 0, 0, 0, 0], \"yaxis\": \"y\"}],\n",
       "                        {\"height\": 600, \"legend\": {\"tracegroupgap\": 0}, \"margin\": {\"t\": 60}, \"template\": {\"data\": {\"bar\": [{\"error_x\": {\"color\": \"#2a3f5f\"}, \"error_y\": {\"color\": \"#2a3f5f\"}, \"marker\": {\"line\": {\"color\": \"#E5ECF6\", \"width\": 0.5}}, \"type\": \"bar\"}], \"barpolar\": [{\"marker\": {\"line\": {\"color\": \"#E5ECF6\", \"width\": 0.5}}, \"type\": \"barpolar\"}], \"carpet\": [{\"aaxis\": {\"endlinecolor\": \"#2a3f5f\", \"gridcolor\": \"white\", \"linecolor\": \"white\", \"minorgridcolor\": \"white\", \"startlinecolor\": \"#2a3f5f\"}, \"baxis\": {\"endlinecolor\": \"#2a3f5f\", \"gridcolor\": \"white\", \"linecolor\": \"white\", \"minorgridcolor\": \"white\", \"startlinecolor\": \"#2a3f5f\"}, \"type\": \"carpet\"}], \"choropleth\": [{\"colorbar\": {\"outlinewidth\": 0, \"ticks\": \"\"}, \"type\": \"choropleth\"}], \"contour\": [{\"colorbar\": {\"outlinewidth\": 0, \"ticks\": \"\"}, \"colorscale\": [[0.0, \"#0d0887\"], [0.1111111111111111, \"#46039f\"], [0.2222222222222222, \"#7201a8\"], [0.3333333333333333, \"#9c179e\"], [0.4444444444444444, \"#bd3786\"], [0.5555555555555556, \"#d8576b\"], [0.6666666666666666, \"#ed7953\"], [0.7777777777777778, \"#fb9f3a\"], [0.8888888888888888, \"#fdca26\"], [1.0, \"#f0f921\"]], \"type\": \"contour\"}], \"contourcarpet\": [{\"colorbar\": {\"outlinewidth\": 0, \"ticks\": \"\"}, \"type\": \"contourcarpet\"}], \"heatmap\": [{\"colorbar\": {\"outlinewidth\": 0, \"ticks\": \"\"}, \"colorscale\": [[0.0, \"#0d0887\"], [0.1111111111111111, \"#46039f\"], [0.2222222222222222, \"#7201a8\"], [0.3333333333333333, \"#9c179e\"], [0.4444444444444444, \"#bd3786\"], [0.5555555555555556, \"#d8576b\"], [0.6666666666666666, \"#ed7953\"], [0.7777777777777778, \"#fb9f3a\"], [0.8888888888888888, \"#fdca26\"], [1.0, \"#f0f921\"]], \"type\": \"heatmap\"}], \"heatmapgl\": [{\"colorbar\": {\"outlinewidth\": 0, \"ticks\": \"\"}, \"colorscale\": [[0.0, \"#0d0887\"], [0.1111111111111111, \"#46039f\"], [0.2222222222222222, \"#7201a8\"], [0.3333333333333333, \"#9c179e\"], [0.4444444444444444, \"#bd3786\"], [0.5555555555555556, \"#d8576b\"], [0.6666666666666666, \"#ed7953\"], [0.7777777777777778, \"#fb9f3a\"], [0.8888888888888888, \"#fdca26\"], [1.0, \"#f0f921\"]], \"type\": \"heatmapgl\"}], \"histogram\": [{\"marker\": {\"colorbar\": {\"outlinewidth\": 0, \"ticks\": \"\"}}, \"type\": \"histogram\"}], \"histogram2d\": [{\"colorbar\": {\"outlinewidth\": 0, \"ticks\": \"\"}, \"colorscale\": [[0.0, \"#0d0887\"], [0.1111111111111111, \"#46039f\"], [0.2222222222222222, \"#7201a8\"], [0.3333333333333333, \"#9c179e\"], [0.4444444444444444, \"#bd3786\"], [0.5555555555555556, \"#d8576b\"], [0.6666666666666666, \"#ed7953\"], [0.7777777777777778, \"#fb9f3a\"], [0.8888888888888888, \"#fdca26\"], [1.0, \"#f0f921\"]], \"type\": \"histogram2d\"}], \"histogram2dcontour\": [{\"colorbar\": {\"outlinewidth\": 0, \"ticks\": \"\"}, \"colorscale\": [[0.0, \"#0d0887\"], [0.1111111111111111, \"#46039f\"], [0.2222222222222222, \"#7201a8\"], [0.3333333333333333, \"#9c179e\"], [0.4444444444444444, \"#bd3786\"], [0.5555555555555556, \"#d8576b\"], [0.6666666666666666, \"#ed7953\"], [0.7777777777777778, \"#fb9f3a\"], [0.8888888888888888, \"#fdca26\"], [1.0, \"#f0f921\"]], \"type\": \"histogram2dcontour\"}], \"mesh3d\": [{\"colorbar\": {\"outlinewidth\": 0, \"ticks\": \"\"}, \"type\": \"mesh3d\"}], \"parcoords\": [{\"line\": {\"colorbar\": {\"outlinewidth\": 0, \"ticks\": \"\"}}, \"type\": \"parcoords\"}], \"scatter\": [{\"marker\": {\"colorbar\": {\"outlinewidth\": 0, \"ticks\": \"\"}}, \"type\": \"scatter\"}], \"scatter3d\": [{\"line\": {\"colorbar\": {\"outlinewidth\": 0, \"ticks\": \"\"}}, \"marker\": {\"colorbar\": {\"outlinewidth\": 0, \"ticks\": \"\"}}, \"type\": \"scatter3d\"}], \"scattercarpet\": [{\"marker\": {\"colorbar\": {\"outlinewidth\": 0, \"ticks\": \"\"}}, \"type\": \"scattercarpet\"}], \"scattergeo\": [{\"marker\": {\"colorbar\": {\"outlinewidth\": 0, \"ticks\": \"\"}}, \"type\": \"scattergeo\"}], \"scattergl\": [{\"marker\": {\"colorbar\": {\"outlinewidth\": 0, \"ticks\": \"\"}}, \"type\": \"scattergl\"}], \"scattermapbox\": [{\"marker\": {\"colorbar\": {\"outlinewidth\": 0, \"ticks\": \"\"}}, \"type\": \"scattermapbox\"}], \"scatterpolar\": [{\"marker\": {\"colorbar\": {\"outlinewidth\": 0, \"ticks\": \"\"}}, \"type\": \"scatterpolar\"}], \"scatterpolargl\": [{\"marker\": {\"colorbar\": {\"outlinewidth\": 0, \"ticks\": \"\"}}, \"type\": \"scatterpolargl\"}], \"scatterternary\": [{\"marker\": {\"colorbar\": {\"outlinewidth\": 0, \"ticks\": \"\"}}, \"type\": \"scatterternary\"}], \"surface\": [{\"colorbar\": {\"outlinewidth\": 0, \"ticks\": \"\"}, \"colorscale\": [[0.0, \"#0d0887\"], [0.1111111111111111, \"#46039f\"], [0.2222222222222222, \"#7201a8\"], [0.3333333333333333, \"#9c179e\"], [0.4444444444444444, \"#bd3786\"], [0.5555555555555556, \"#d8576b\"], [0.6666666666666666, \"#ed7953\"], [0.7777777777777778, \"#fb9f3a\"], [0.8888888888888888, \"#fdca26\"], [1.0, \"#f0f921\"]], \"type\": \"surface\"}], \"table\": [{\"cells\": {\"fill\": {\"color\": \"#EBF0F8\"}, \"line\": {\"color\": \"white\"}}, \"header\": {\"fill\": {\"color\": \"#C8D4E3\"}, \"line\": {\"color\": \"white\"}}, \"type\": \"table\"}]}, \"layout\": {\"annotationdefaults\": {\"arrowcolor\": \"#2a3f5f\", \"arrowhead\": 0, \"arrowwidth\": 1}, \"colorscale\": {\"diverging\": [[0, \"#8e0152\"], [0.1, \"#c51b7d\"], [0.2, \"#de77ae\"], [0.3, \"#f1b6da\"], [0.4, \"#fde0ef\"], [0.5, \"#f7f7f7\"], [0.6, \"#e6f5d0\"], [0.7, \"#b8e186\"], [0.8, \"#7fbc41\"], [0.9, \"#4d9221\"], [1, \"#276419\"]], \"sequential\": [[0.0, \"#0d0887\"], [0.1111111111111111, \"#46039f\"], [0.2222222222222222, \"#7201a8\"], [0.3333333333333333, \"#9c179e\"], [0.4444444444444444, \"#bd3786\"], [0.5555555555555556, \"#d8576b\"], [0.6666666666666666, \"#ed7953\"], [0.7777777777777778, \"#fb9f3a\"], [0.8888888888888888, \"#fdca26\"], [1.0, \"#f0f921\"]], \"sequentialminus\": [[0.0, \"#0d0887\"], [0.1111111111111111, \"#46039f\"], [0.2222222222222222, \"#7201a8\"], [0.3333333333333333, \"#9c179e\"], [0.4444444444444444, \"#bd3786\"], [0.5555555555555556, \"#d8576b\"], [0.6666666666666666, \"#ed7953\"], [0.7777777777777778, \"#fb9f3a\"], [0.8888888888888888, \"#fdca26\"], [1.0, \"#f0f921\"]]}, \"colorway\": [\"#636efa\", \"#EF553B\", \"#00cc96\", \"#ab63fa\", \"#FFA15A\", \"#19d3f3\", \"#FF6692\", \"#B6E880\", \"#FF97FF\", \"#FECB52\"], \"font\": {\"color\": \"#2a3f5f\"}, \"geo\": {\"bgcolor\": \"white\", \"lakecolor\": \"white\", \"landcolor\": \"#E5ECF6\", \"showlakes\": true, \"showland\": true, \"subunitcolor\": \"white\"}, \"hoverlabel\": {\"align\": \"left\"}, \"hovermode\": \"closest\", \"mapbox\": {\"style\": \"light\"}, \"paper_bgcolor\": \"white\", \"plot_bgcolor\": \"#E5ECF6\", \"polar\": {\"angularaxis\": {\"gridcolor\": \"white\", \"linecolor\": \"white\", \"ticks\": \"\"}, \"bgcolor\": \"#E5ECF6\", \"radialaxis\": {\"gridcolor\": \"white\", \"linecolor\": \"white\", \"ticks\": \"\"}}, \"scene\": {\"xaxis\": {\"backgroundcolor\": \"#E5ECF6\", \"gridcolor\": \"white\", \"gridwidth\": 2, \"linecolor\": \"white\", \"showbackground\": true, \"ticks\": \"\", \"zerolinecolor\": \"white\"}, \"yaxis\": {\"backgroundcolor\": \"#E5ECF6\", \"gridcolor\": \"white\", \"gridwidth\": 2, \"linecolor\": \"white\", \"showbackground\": true, \"ticks\": \"\", \"zerolinecolor\": \"white\"}, \"zaxis\": {\"backgroundcolor\": \"#E5ECF6\", \"gridcolor\": \"white\", \"gridwidth\": 2, \"linecolor\": \"white\", \"showbackground\": true, \"ticks\": \"\", \"zerolinecolor\": \"white\"}}, \"shapedefaults\": {\"line\": {\"color\": \"#2a3f5f\"}}, \"ternary\": {\"aaxis\": {\"gridcolor\": \"white\", \"linecolor\": \"white\", \"ticks\": \"\"}, \"baxis\": {\"gridcolor\": \"white\", \"linecolor\": \"white\", \"ticks\": \"\"}, \"bgcolor\": \"#E5ECF6\", \"caxis\": {\"gridcolor\": \"white\", \"linecolor\": \"white\", \"ticks\": \"\"}}, \"title\": {\"x\": 0.05}, \"xaxis\": {\"automargin\": true, \"gridcolor\": \"white\", \"linecolor\": \"white\", \"ticks\": \"\", \"zerolinecolor\": \"white\", \"zerolinewidth\": 2}, \"yaxis\": {\"automargin\": true, \"gridcolor\": \"white\", \"linecolor\": \"white\", \"ticks\": \"\", \"zerolinecolor\": \"white\", \"zerolinewidth\": 2}}}, \"title\": {\"text\": \"Frequency of '#renunciapi' over dataset\", \"x\": 0.48, \"xanchor\": \"center\", \"y\": 0.9, \"yanchor\": \"top\"}, \"xaxis\": {\"anchor\": \"y\", \"domain\": [0.0, 0.98], \"title\": {\"text\": \"date\"}}, \"yaxis\": {\"anchor\": \"x\", \"domain\": [0.0, 1.0], \"title\": {\"text\": \"frequency\"}}},\n",
       "                        {\"responsive\": true}\n",
       "                    ).then(function(){\n",
       "                            \n",
       "var gd = document.getElementById('d811edf3-ef86-401f-9c45-06da80c3aa50');\n",
       "var x = new MutationObserver(function (mutations, observer) {{\n",
       "        var display = window.getComputedStyle(gd).display;\n",
       "        if (!display || display === 'none') {{\n",
       "            console.log([gd, 'removed!']);\n",
       "            Plotly.purge(gd);\n",
       "            observer.disconnect();\n",
       "        }}\n",
       "}});\n",
       "\n",
       "// Listen for the removal of the full notebook cells\n",
       "var notebookContainer = gd.closest('#notebook-container');\n",
       "if (notebookContainer) {{\n",
       "    x.observe(notebookContainer, {childList: true});\n",
       "}}\n",
       "\n",
       "// Listen for the clearing of the current output cell\n",
       "var outputEl = gd.closest('.output');\n",
       "if (outputEl) {{\n",
       "    x.observe(outputEl, {childList: true});\n",
       "}}\n",
       "\n",
       "                        })\n",
       "                };\n",
       "                });\n",
       "            </script>\n",
       "        </div>"
      ]
     },
     "metadata": {},
     "output_type": "display_data"
    }
   ],
   "source": [
    "fig2 = px.line(tagdistrib('#renunciapi'), x='date', y='frequency')\n",
    "fig2.update_layout(\n",
    "    title={\n",
    "        'text': \"Frequency of '#renunciapi' over dataset\",\n",
    "        'y':0.9,\n",
    "        'x':0.48,\n",
    "        'xanchor': 'center',\n",
    "        'yanchor': 'top'})\n",
    "fig2.show()"
   ]
  },
  {
   "cell_type": "markdown",
   "metadata": {},
   "source": [
    "**Figure 3c. Frequency of '#renunciapi' over dataset** This hashtag is a call to renounce the current Chlean president, Sebastián Piñera. The drop off for this hashtag is especially intense and makes me wonder if there are any external users suppressing expression of anti-government views or if this really does suggest a transition in the movement away from attacks on the president."
   ]
  },
  {
   "cell_type": "markdown",
   "metadata": {},
   "source": [
    "## 2) Hypothesis Test: Gender & Sentiment Analysis\n",
    "<a id=\"sec2\"></a>"
   ]
  },
  {
   "cell_type": "markdown",
   "metadata": {},
   "source": [
    "**Hypothesis:** Women's tweets are more positive than Men's. Our null hypothesis is that there is no difference in sentiment between women's and men's tweets. I tried several packages before implementing the classifier senti-py https://github.com/aylliote/senti-py."
   ]
  },
  {
   "cell_type": "code",
   "execution_count": 86,
   "metadata": {},
   "outputs": [],
   "source": [
    "from classifier import *\n",
    "clf = SentimentClassifier()"
   ]
  },
  {
   "cell_type": "markdown",
   "metadata": {},
   "source": [
    "Create the body of all tweets and separate into male or female based on earlier gender classification."
   ]
  },
  {
   "cell_type": "code",
   "execution_count": 87,
   "metadata": {},
   "outputs": [],
   "source": [
    "corpus=[]\n",
    "a=[]\n",
    "for i in range(len(dfdatesort['text'])):\n",
    "        a=dfdatesort['text'][i]\n",
    "        corpus.append(a)"
   ]
  },
  {
   "cell_type": "code",
   "execution_count": 88,
   "metadata": {},
   "outputs": [],
   "source": [
    "femtweets = []\n",
    "maltweets = []\n",
    "for row in range(len(dfdatesort)):\n",
    "    if dfdatesort['gender'][row] == 'f':\n",
    "        femtweets.append(dfdatesort['text'][row])\n",
    "    else:\n",
    "        maltweets.append(dfdatesort['text'][row])"
   ]
  },
  {
   "cell_type": "code",
   "execution_count": 107,
   "metadata": {},
   "outputs": [],
   "source": [
    "import random\n",
    "from random import sample "
   ]
  },
  {
   "cell_type": "markdown",
   "metadata": {},
   "source": [
    "**Two-step t test**\n",
    "\n",
    "We begin with a sample a bit larger than 10% of the data. I attempted to seed it so we could have replicable results when investigating whether men or women have more negative tweets. The steps beneath follow from work like that in A7."
   ]
  },
  {
   "cell_type": "code",
   "execution_count": 148,
   "metadata": {},
   "outputs": [],
   "source": [
    "random.seed()\n",
    "femsample = sample(femtweets,2000)\n",
    "malsample = sample(maltweets,2000)"
   ]
  },
  {
   "cell_type": "code",
   "execution_count": 149,
   "metadata": {},
   "outputs": [],
   "source": [
    "femsent = []\n",
    "malsent = []\n",
    "for i in range(len(femsample)):\n",
    "    femsent.append(clf.predict(str(femsample[i])))\n",
    "    malsent.append(clf.predict(str(malsample[i])))"
   ]
  },
  {
   "cell_type": "code",
   "execution_count": 150,
   "metadata": {},
   "outputs": [
    {
     "data": {
      "text/plain": [
       "count    2000.000000\n",
       "mean        0.307374\n",
       "std         0.265827\n",
       "min         0.000109\n",
       "25%         0.058531\n",
       "50%         0.241604\n",
       "75%         0.541333\n",
       "max         0.995198\n",
       "dtype: float64"
      ]
     },
     "execution_count": 150,
     "metadata": {},
     "output_type": "execute_result"
    }
   ],
   "source": [
    "from pandas import Series\n",
    "\n",
    "femseries = Series(femsent)\n",
    "femseries.describe()"
   ]
  },
  {
   "cell_type": "code",
   "execution_count": 151,
   "metadata": {},
   "outputs": [
    {
     "data": {
      "text/plain": [
       "count    2000.000000\n",
       "mean        0.266438\n",
       "std         0.265557\n",
       "min         0.000025\n",
       "25%         0.030785\n",
       "50%         0.167606\n",
       "75%         0.489547\n",
       "max         0.997203\n",
       "dtype: float64"
      ]
     },
     "execution_count": 151,
     "metadata": {},
     "output_type": "execute_result"
    }
   ],
   "source": [
    "malseries = Series(malsent)\n",
    "malseries.describe()"
   ]
  },
  {
   "cell_type": "code",
   "execution_count": 152,
   "metadata": {},
   "outputs": [],
   "source": [
    "%matplotlib inline\n",
    "import matplotlib.pyplot as plt"
   ]
  },
  {
   "cell_type": "code",
   "execution_count": 153,
   "metadata": {},
   "outputs": [
    {
     "data": {
      "text/plain": [
       "(array([651., 256., 195., 152., 130., 331., 112.,  63.,  54.,  56.]),\n",
       " array([1.08842050e-04, 9.96177840e-02, 1.99126726e-01, 2.98635668e-01,\n",
       "        3.98144610e-01, 4.97653552e-01, 5.97162494e-01, 6.96671435e-01,\n",
       "        7.96180377e-01, 8.95689319e-01, 9.95198261e-01]),\n",
       " <a list of 10 Patch objects>)"
      ]
     },
     "execution_count": 153,
     "metadata": {},
     "output_type": "execute_result"
    },
    {
     "data": {
      "image/png": "[encoded data removed]",
      "text/plain": [
       "<Figure size 432x288 with 1 Axes>"
      ]
     },
     "metadata": {},
     "output_type": "display_data"
    }
   ],
   "source": [
    "plt.hist(femseries)"
   ]
  },
  {
   "cell_type": "code",
   "execution_count": 154,
   "metadata": {},
   "outputs": [
    {
     "data": {
      "text/plain": [
       "(array([833., 229., 183., 132., 141., 219., 104.,  64.,  53.,  42.]),\n",
       " array([2.52384997e-05, 9.97429836e-02, 1.99460729e-01, 2.99178474e-01,\n",
       "        3.98896219e-01, 4.98613964e-01, 5.98331709e-01, 6.98049454e-01,\n",
       "        7.97767199e-01, 8.97484945e-01, 9.97202690e-01]),\n",
       " <a list of 10 Patch objects>)"
      ]
     },
     "execution_count": 154,
     "metadata": {},
     "output_type": "execute_result"
    },
    {
     "data": {
      "image/png": "[encoded data removed]",
      "text/plain": [
       "<Figure size 432x288 with 1 Axes>"
      ]
     },
     "metadata": {},
     "output_type": "display_data"
    }
   ],
   "source": [
    "plt.hist(malseries)"
   ]
  },
  {
   "cell_type": "code",
   "execution_count": 155,
   "metadata": {},
   "outputs": [
    {
     "data": {
      "text/plain": [
       "<matplotlib.axes._subplots.AxesSubplot at 0x1c3a3c8be0>"
      ]
     },
     "execution_count": 155,
     "metadata": {},
     "output_type": "execute_result"
    },
    {
     "data": {
      "image/png": "[encoded data removed]",
      "text/plain": [
       "<Figure size 432x288 with 1 Axes>"
      ]
     },
     "metadata": {},
     "output_type": "display_data"
    }
   ],
   "source": [
    "import seaborn as sns\n",
    "\n",
    "sns.distplot(femseries, hist=False, rug=True, label='female')\n",
    "sns.distplot(malseries, hist=False, rug=True, label='male')"
   ]
  },
  {
   "cell_type": "markdown",
   "metadata": {},
   "source": [
    "This chart suggests that both men and women have bimodal distributions of whether their tweets are more positive or negative. But ultimately, more of the data for men is clustered in the negative sentiment area than that for women."
   ]
  },
  {
   "cell_type": "code",
   "execution_count": 156,
   "metadata": {},
   "outputs": [],
   "source": [
    "import scipy.stats as stats"
   ]
  },
  {
   "cell_type": "code",
   "execution_count": 157,
   "metadata": {},
   "outputs": [
    {
     "data": {
      "text/plain": [
       "Ttest_indResult(statistic=4.872226811345032, pvalue=1.1462268380464232e-06)"
      ]
     },
     "execution_count": 157,
     "metadata": {},
     "output_type": "execute_result"
    }
   ],
   "source": [
    "twoSampleTest = stats.ttest_ind(femseries, malseries, \n",
    "                equal_var=False) # don't assume that variance is the same\n",
    "\n",
    "twoSampleTest"
   ]
  },
  {
   "cell_type": "code",
   "execution_count": 158,
   "metadata": {},
   "outputs": [
    {
     "data": {
      "application/vnd.plotly.v1+json": {
       "config": {
        "plotlyServerURL": "https://plot.ly"
       },
       "data": [
        {
         "colorscale": [
          [
           0,
           "#00083e"
          ],
          [
           0.5,
           "#ededee"
          ],
          [
           1,
           "#ffffff"
          ]
         ],
         "hoverinfo": "none",
         "opacity": 0.75,
         "showscale": false,
         "type": "heatmap",
         "z": [
          [
           0,
           0,
           0
          ],
          [
           0,
           0.5,
           0.5
          ]
         ]
        }
       ],
       "layout": {
        "annotations": [
         {
          "align": "left",
          "font": {
           "color": "#ffffff"
          },
          "showarrow": false,
          "text": "<b></b>",
          "x": -0.45,
          "xanchor": "left",
          "xref": "x",
          "y": 0,
          "yref": "y"
         },
         {
          "align": "left",
          "font": {
           "color": "#ffffff"
          },
          "showarrow": false,
          "text": "<b>Test Statistic</b>",
          "x": 0.55,
          "xanchor": "left",
          "xref": "x",
          "y": 0,
          "yref": "y"
         },
         {
          "align": "left",
          "font": {
           "color": "#ffffff"
          },
          "showarrow": false,
          "text": "<b>p-value</b>",
          "x": 1.55,
          "xanchor": "left",
          "xref": "x",
          "y": 0,
          "yref": "y"
         },
         {
          "align": "left",
          "font": {
           "color": "#ffffff"
          },
          "showarrow": false,
          "text": "<b>Sample Data</b>",
          "x": -0.45,
          "xanchor": "left",
          "xref": "x",
          "y": 1,
          "yref": "y"
         },
         {
          "align": "left",
          "font": {
           "color": "#000000"
          },
          "showarrow": false,
          "text": "4.872226811345032",
          "x": 0.55,
          "xanchor": "left",
          "xref": "x",
          "y": 1,
          "yref": "y"
         },
         {
          "align": "left",
          "font": {
           "color": "#000000"
          },
          "showarrow": false,
          "text": "5.731134190232116e-07",
          "x": 1.55,
          "xanchor": "left",
          "xref": "x",
          "y": 1,
          "yref": "y"
         }
        ],
        "height": 110,
        "margin": {
         "b": 0,
         "l": 0,
         "r": 0,
         "t": 0
        },
        "template": {
         "data": {
          "bar": [
           {
            "error_x": {
             "color": "#2a3f5f"
            },
            "error_y": {
             "color": "#2a3f5f"
            },
            "marker": {
             "line": {
              "color": "#E5ECF6",
              "width": 0.5
             }
            },
            "type": "bar"
           }
          ],
          "barpolar": [
           {
            "marker": {
             "line": {
              "color": "#E5ECF6",
              "width": 0.5
             }
            },
            "type": "barpolar"
           }
          ],
          "carpet": [
           {
            "aaxis": {
             "endlinecolor": "#2a3f5f",
             "gridcolor": "white",
             "linecolor": "white",
             "minorgridcolor": "white",
             "startlinecolor": "#2a3f5f"
            },
            "baxis": {
             "endlinecolor": "#2a3f5f",
             "gridcolor": "white",
             "linecolor": "white",
             "minorgridcolor": "white",
             "startlinecolor": "#2a3f5f"
            },
            "type": "carpet"
           }
          ],
          "choropleth": [
           {
            "colorbar": {
             "outlinewidth": 0,
             "ticks": ""
            },
            "type": "choropleth"
           }
          ],
          "contour": [
           {
            "colorbar": {
             "outlinewidth": 0,
             "ticks": ""
            },
            "colorscale": [
             [
              0,
              "#0d0887"
             ],
             [
              0.1111111111111111,
              "#46039f"
             ],
             [
              0.2222222222222222,
              "#7201a8"
             ],
             [
              0.3333333333333333,
              "#9c179e"
             ],
             [
              0.4444444444444444,
              "#bd3786"
             ],
             [
              0.5555555555555556,
              "#d8576b"
             ],
             [
              0.6666666666666666,
              "#ed7953"
             ],
             [
              0.7777777777777778,
              "#fb9f3a"
             ],
             [
              0.8888888888888888,
              "#fdca26"
             ],
             [
              1,
              "#f0f921"
             ]
            ],
            "type": "contour"
           }
          ],
          "contourcarpet": [
           {
            "colorbar": {
             "outlinewidth": 0,
             "ticks": ""
            },
            "type": "contourcarpet"
           }
          ],
          "heatmap": [
           {
            "colorbar": {
             "outlinewidth": 0,
             "ticks": ""
            },
            "colorscale": [
             [
              0,
              "#0d0887"
             ],
             [
              0.1111111111111111,
              "#46039f"
             ],
             [
              0.2222222222222222,
              "#7201a8"
             ],
             [
              0.3333333333333333,
              "#9c179e"
             ],
             [
              0.4444444444444444,
              "#bd3786"
             ],
             [
              0.5555555555555556,
              "#d8576b"
             ],
             [
              0.6666666666666666,
              "#ed7953"
             ],
             [
              0.7777777777777778,
              "#fb9f3a"
             ],
             [
              0.8888888888888888,
              "#fdca26"
             ],
             [
              1,
              "#f0f921"
             ]
            ],
            "type": "heatmap"
           }
          ],
          "heatmapgl": [
           {
            "colorbar": {
             "outlinewidth": 0,
             "ticks": ""
            },
            "colorscale": [
             [
              0,
              "#0d0887"
             ],
             [
              0.1111111111111111,
              "#46039f"
             ],
             [
              0.2222222222222222,
              "#7201a8"
             ],
             [
              0.3333333333333333,
              "#9c179e"
             ],
             [
              0.4444444444444444,
              "#bd3786"
             ],
             [
              0.5555555555555556,
              "#d8576b"
             ],
             [
              0.6666666666666666,
              "#ed7953"
             ],
             [
              0.7777777777777778,
              "#fb9f3a"
             ],
             [
              0.8888888888888888,
              "#fdca26"
             ],
             [
              1,
              "#f0f921"
             ]
            ],
            "type": "heatmapgl"
           }
          ],
          "histogram": [
           {
            "marker": {
             "colorbar": {
              "outlinewidth": 0,
              "ticks": ""
             }
            },
            "type": "histogram"
           }
          ],
          "histogram2d": [
           {
            "colorbar": {
             "outlinewidth": 0,
             "ticks": ""
            },
            "colorscale": [
             [
              0,
              "#0d0887"
             ],
             [
              0.1111111111111111,
              "#46039f"
             ],
             [
              0.2222222222222222,
              "#7201a8"
             ],
             [
              0.3333333333333333,
              "#9c179e"
             ],
             [
              0.4444444444444444,
              "#bd3786"
             ],
             [
              0.5555555555555556,
              "#d8576b"
             ],
             [
              0.6666666666666666,
              "#ed7953"
             ],
             [
              0.7777777777777778,
              "#fb9f3a"
             ],
             [
              0.8888888888888888,
              "#fdca26"
             ],
             [
              1,
              "#f0f921"
             ]
            ],
            "type": "histogram2d"
           }
          ],
          "histogram2dcontour": [
           {
            "colorbar": {
             "outlinewidth": 0,
             "ticks": ""
            },
            "colorscale": [
             [
              0,
              "#0d0887"
             ],
             [
              0.1111111111111111,
              "#46039f"
             ],
             [
              0.2222222222222222,
              "#7201a8"
             ],
             [
              0.3333333333333333,
              "#9c179e"
             ],
             [
              0.4444444444444444,
              "#bd3786"
             ],
             [
              0.5555555555555556,
              "#d8576b"
             ],
             [
              0.6666666666666666,
              "#ed7953"
             ],
             [
              0.7777777777777778,
              "#fb9f3a"
             ],
             [
              0.8888888888888888,
              "#fdca26"
             ],
             [
              1,
              "#f0f921"
             ]
            ],
            "type": "histogram2dcontour"
           }
          ],
          "mesh3d": [
           {
            "colorbar": {
             "outlinewidth": 0,
             "ticks": ""
            },
            "type": "mesh3d"
           }
          ],
          "parcoords": [
           {
            "line": {
             "colorbar": {
              "outlinewidth": 0,
              "ticks": ""
             }
            },
            "type": "parcoords"
           }
          ],
          "scatter": [
           {
            "marker": {
             "colorbar": {
              "outlinewidth": 0,
              "ticks": ""
             }
            },
            "type": "scatter"
           }
          ],
          "scatter3d": [
           {
            "line": {
             "colorbar": {
              "outlinewidth": 0,
              "ticks": ""
             }
            },
            "marker": {
             "colorbar": {
              "outlinewidth": 0,
              "ticks": ""
             }
            },
            "type": "scatter3d"
           }
          ],
          "scattercarpet": [
           {
            "marker": {
             "colorbar": {
              "outlinewidth": 0,
              "ticks": ""
             }
            },
            "type": "scattercarpet"
           }
          ],
          "scattergeo": [
           {
            "marker": {
             "colorbar": {
              "outlinewidth": 0,
              "ticks": ""
             }
            },
            "type": "scattergeo"
           }
          ],
          "scattergl": [
           {
            "marker": {
             "colorbar": {
              "outlinewidth": 0,
              "ticks": ""
             }
            },
            "type": "scattergl"
           }
          ],
          "scattermapbox": [
           {
            "marker": {
             "colorbar": {
              "outlinewidth": 0,
              "ticks": ""
             }
            },
            "type": "scattermapbox"
           }
          ],
          "scatterpolar": [
           {
            "marker": {
             "colorbar": {
              "outlinewidth": 0,
              "ticks": ""
             }
            },
            "type": "scatterpolar"
           }
          ],
          "scatterpolargl": [
           {
            "marker": {
             "colorbar": {
              "outlinewidth": 0,
              "ticks": ""
             }
            },
            "type": "scatterpolargl"
           }
          ],
          "scatterternary": [
           {
            "marker": {
             "colorbar": {
              "outlinewidth": 0,
              "ticks": ""
             }
            },
            "type": "scatterternary"
           }
          ],
          "surface": [
           {
            "colorbar": {
             "outlinewidth": 0,
             "ticks": ""
            },
            "colorscale": [
             [
              0,
              "#0d0887"
             ],
             [
              0.1111111111111111,
              "#46039f"
             ],
             [
              0.2222222222222222,
              "#7201a8"
             ],
             [
              0.3333333333333333,
              "#9c179e"
             ],
             [
              0.4444444444444444,
              "#bd3786"
             ],
             [
              0.5555555555555556,
              "#d8576b"
             ],
             [
              0.6666666666666666,
              "#ed7953"
             ],
             [
              0.7777777777777778,
              "#fb9f3a"
             ],
             [
              0.8888888888888888,
              "#fdca26"
             ],
             [
              1,
              "#f0f921"
             ]
            ],
            "type": "surface"
           }
          ],
          "table": [
           {
            "cells": {
             "fill": {
              "color": "#EBF0F8"
             },
             "line": {
              "color": "white"
             }
            },
            "header": {
             "fill": {
              "color": "#C8D4E3"
             },
             "line": {
              "color": "white"
             }
            },
            "type": "table"
           }
          ]
         },
         "layout": {
          "annotationdefaults": {
           "arrowcolor": "#2a3f5f",
           "arrowhead": 0,
           "arrowwidth": 1
          },
          "colorscale": {
           "diverging": [
            [
             0,
             "#8e0152"
            ],
            [
             0.1,
             "#c51b7d"
            ],
            [
             0.2,
             "#de77ae"
            ],
            [
             0.3,
             "#f1b6da"
            ],
            [
             0.4,
             "#fde0ef"
            ],
            [
             0.5,
             "#f7f7f7"
            ],
            [
             0.6,
             "#e6f5d0"
            ],
            [
             0.7,
             "#b8e186"
            ],
            [
             0.8,
             "#7fbc41"
            ],
            [
             0.9,
             "#4d9221"
            ],
            [
             1,
             "#276419"
            ]
           ],
           "sequential": [
            [
             0,
             "#0d0887"
            ],
            [
             0.1111111111111111,
             "#46039f"
            ],
            [
             0.2222222222222222,
             "#7201a8"
            ],
            [
             0.3333333333333333,
             "#9c179e"
            ],
            [
             0.4444444444444444,
             "#bd3786"
            ],
            [
             0.5555555555555556,
             "#d8576b"
            ],
            [
             0.6666666666666666,
             "#ed7953"
            ],
            [
             0.7777777777777778,
             "#fb9f3a"
            ],
            [
             0.8888888888888888,
             "#fdca26"
            ],
            [
             1,
             "#f0f921"
            ]
           ],
           "sequentialminus": [
            [
             0,
             "#0d0887"
            ],
            [
             0.1111111111111111,
             "#46039f"
            ],
            [
             0.2222222222222222,
             "#7201a8"
            ],
            [
             0.3333333333333333,
             "#9c179e"
            ],
            [
             0.4444444444444444,
             "#bd3786"
            ],
            [
             0.5555555555555556,
             "#d8576b"
            ],
            [
             0.6666666666666666,
             "#ed7953"
            ],
            [
             0.7777777777777778,
             "#fb9f3a"
            ],
            [
             0.8888888888888888,
             "#fdca26"
            ],
            [
             1,
             "#f0f921"
            ]
           ]
          },
          "colorway": [
           "#636efa",
           "#EF553B",
           "#00cc96",
           "#ab63fa",
           "#FFA15A",
           "#19d3f3",
           "#FF6692",
           "#B6E880",
           "#FF97FF",
           "#FECB52"
          ],
          "font": {
           "color": "#2a3f5f"
          },
          "geo": {
           "bgcolor": "white",
           "lakecolor": "white",
           "landcolor": "#E5ECF6",
           "showlakes": true,
           "showland": true,
           "subunitcolor": "white"
          },
          "hoverlabel": {
           "align": "left"
          },
          "hovermode": "closest",
          "mapbox": {
           "style": "light"
          },
          "paper_bgcolor": "white",
          "plot_bgcolor": "#E5ECF6",
          "polar": {
           "angularaxis": {
            "gridcolor": "white",
            "linecolor": "white",
            "ticks": ""
           },
           "bgcolor": "#E5ECF6",
           "radialaxis": {
            "gridcolor": "white",
            "linecolor": "white",
            "ticks": ""
           }
          },
          "scene": {
           "xaxis": {
            "backgroundcolor": "#E5ECF6",
            "gridcolor": "white",
            "gridwidth": 2,
            "linecolor": "white",
            "showbackground": true,
            "ticks": "",
            "zerolinecolor": "white"
           },
           "yaxis": {
            "backgroundcolor": "#E5ECF6",
            "gridcolor": "white",
            "gridwidth": 2,
            "linecolor": "white",
            "showbackground": true,
            "ticks": "",
            "zerolinecolor": "white"
           },
           "zaxis": {
            "backgroundcolor": "#E5ECF6",
            "gridcolor": "white",
            "gridwidth": 2,
            "linecolor": "white",
            "showbackground": true,
            "ticks": "",
            "zerolinecolor": "white"
           }
          },
          "shapedefaults": {
           "line": {
            "color": "#2a3f5f"
           }
          },
          "ternary": {
           "aaxis": {
            "gridcolor": "white",
            "linecolor": "white",
            "ticks": ""
           },
           "baxis": {
            "gridcolor": "white",
            "linecolor": "white",
            "ticks": ""
           },
           "bgcolor": "#E5ECF6",
           "caxis": {
            "gridcolor": "white",
            "linecolor": "white",
            "ticks": ""
           }
          },
          "title": {
           "x": 0.05
          },
          "xaxis": {
           "automargin": true,
           "gridcolor": "white",
           "linecolor": "white",
           "ticks": "",
           "zerolinecolor": "white",
           "zerolinewidth": 2
          },
          "yaxis": {
           "automargin": true,
           "gridcolor": "white",
           "linecolor": "white",
           "ticks": "",
           "zerolinecolor": "white",
           "zerolinewidth": 2
          }
         }
        },
        "xaxis": {
         "dtick": 1,
         "gridwidth": 2,
         "showticklabels": false,
         "tick0": -0.5,
         "ticks": "",
         "zeroline": false
        },
        "yaxis": {
         "autorange": "reversed",
         "dtick": 1,
         "gridwidth": 2,
         "showticklabels": false,
         "tick0": 0.5,
         "ticks": "",
         "zeroline": false
        }
       }
      },
      "text/html": [
       "<div>\n",
       "        \n",
       "        \n",
       "            <div id=\"6e46f1b2-4133-4e26-bbb3-ce68a9ec147d\" class=\"plotly-graph-div\" style=\"height:110px; width:100%;\"></div>\n",
       "            <script type=\"text/javascript\">\n",
       "                require([\"plotly\"], function(Plotly) {\n",
       "                    window.PLOTLYENV=window.PLOTLYENV || {};\n",
       "                    \n",
       "                if (document.getElementById(\"6e46f1b2-4133-4e26-bbb3-ce68a9ec147d\")) {\n",
       "                    Plotly.newPlot(\n",
       "                        '6e46f1b2-4133-4e26-bbb3-ce68a9ec147d',\n",
       "                        [{\"colorscale\": [[0, \"#00083e\"], [0.5, \"#ededee\"], [1, \"#ffffff\"]], \"hoverinfo\": \"none\", \"opacity\": 0.75, \"showscale\": false, \"type\": \"heatmap\", \"z\": [[0, 0, 0], [0, 0.5, 0.5]]}],\n",
       "                        {\"annotations\": [{\"align\": \"left\", \"font\": {\"color\": \"#ffffff\"}, \"showarrow\": false, \"text\": \"<b></b>\", \"x\": -0.45, \"xanchor\": \"left\", \"xref\": \"x\", \"y\": 0, \"yref\": \"y\"}, {\"align\": \"left\", \"font\": {\"color\": \"#ffffff\"}, \"showarrow\": false, \"text\": \"<b>Test Statistic</b>\", \"x\": 0.55, \"xanchor\": \"left\", \"xref\": \"x\", \"y\": 0, \"yref\": \"y\"}, {\"align\": \"left\", \"font\": {\"color\": \"#ffffff\"}, \"showarrow\": false, \"text\": \"<b>p-value</b>\", \"x\": 1.55, \"xanchor\": \"left\", \"xref\": \"x\", \"y\": 0, \"yref\": \"y\"}, {\"align\": \"left\", \"font\": {\"color\": \"#ffffff\"}, \"showarrow\": false, \"text\": \"<b>Sample Data</b>\", \"x\": -0.45, \"xanchor\": \"left\", \"xref\": \"x\", \"y\": 1, \"yref\": \"y\"}, {\"align\": \"left\", \"font\": {\"color\": \"#000000\"}, \"showarrow\": false, \"text\": \"4.872226811345032\", \"x\": 0.55, \"xanchor\": \"left\", \"xref\": \"x\", \"y\": 1, \"yref\": \"y\"}, {\"align\": \"left\", \"font\": {\"color\": \"#000000\"}, \"showarrow\": false, \"text\": \"5.731134190232116e-07\", \"x\": 1.55, \"xanchor\": \"left\", \"xref\": \"x\", \"y\": 1, \"yref\": \"y\"}], \"height\": 110, \"margin\": {\"b\": 0, \"l\": 0, \"r\": 0, \"t\": 0}, \"template\": {\"data\": {\"bar\": [{\"error_x\": {\"color\": \"#2a3f5f\"}, \"error_y\": {\"color\": \"#2a3f5f\"}, \"marker\": {\"line\": {\"color\": \"#E5ECF6\", \"width\": 0.5}}, \"type\": \"bar\"}], \"barpolar\": [{\"marker\": {\"line\": {\"color\": \"#E5ECF6\", \"width\": 0.5}}, \"type\": \"barpolar\"}], \"carpet\": [{\"aaxis\": {\"endlinecolor\": \"#2a3f5f\", \"gridcolor\": \"white\", \"linecolor\": \"white\", \"minorgridcolor\": \"white\", \"startlinecolor\": \"#2a3f5f\"}, \"baxis\": {\"endlinecolor\": \"#2a3f5f\", \"gridcolor\": \"white\", \"linecolor\": \"white\", \"minorgridcolor\": \"white\", \"startlinecolor\": \"#2a3f5f\"}, \"type\": \"carpet\"}], \"choropleth\": [{\"colorbar\": {\"outlinewidth\": 0, \"ticks\": \"\"}, \"type\": \"choropleth\"}], \"contour\": [{\"colorbar\": {\"outlinewidth\": 0, \"ticks\": \"\"}, \"colorscale\": [[0.0, \"#0d0887\"], [0.1111111111111111, \"#46039f\"], [0.2222222222222222, \"#7201a8\"], [0.3333333333333333, \"#9c179e\"], [0.4444444444444444, \"#bd3786\"], [0.5555555555555556, \"#d8576b\"], [0.6666666666666666, \"#ed7953\"], [0.7777777777777778, \"#fb9f3a\"], [0.8888888888888888, \"#fdca26\"], [1.0, \"#f0f921\"]], \"type\": \"contour\"}], \"contourcarpet\": [{\"colorbar\": {\"outlinewidth\": 0, \"ticks\": \"\"}, \"type\": \"contourcarpet\"}], \"heatmap\": [{\"colorbar\": {\"outlinewidth\": 0, \"ticks\": \"\"}, \"colorscale\": [[0.0, \"#0d0887\"], [0.1111111111111111, \"#46039f\"], [0.2222222222222222, \"#7201a8\"], [0.3333333333333333, \"#9c179e\"], [0.4444444444444444, \"#bd3786\"], [0.5555555555555556, \"#d8576b\"], [0.6666666666666666, \"#ed7953\"], [0.7777777777777778, \"#fb9f3a\"], [0.8888888888888888, \"#fdca26\"], [1.0, \"#f0f921\"]], \"type\": \"heatmap\"}], \"heatmapgl\": [{\"colorbar\": {\"outlinewidth\": 0, \"ticks\": \"\"}, \"colorscale\": [[0.0, \"#0d0887\"], [0.1111111111111111, \"#46039f\"], [0.2222222222222222, \"#7201a8\"], [0.3333333333333333, \"#9c179e\"], [0.4444444444444444, \"#bd3786\"], [0.5555555555555556, \"#d8576b\"], [0.6666666666666666, \"#ed7953\"], [0.7777777777777778, \"#fb9f3a\"], [0.8888888888888888, \"#fdca26\"], [1.0, \"#f0f921\"]], \"type\": \"heatmapgl\"}], \"histogram\": [{\"marker\": {\"colorbar\": {\"outlinewidth\": 0, \"ticks\": \"\"}}, \"type\": \"histogram\"}], \"histogram2d\": [{\"colorbar\": {\"outlinewidth\": 0, \"ticks\": \"\"}, \"colorscale\": [[0.0, \"#0d0887\"], [0.1111111111111111, \"#46039f\"], [0.2222222222222222, \"#7201a8\"], [0.3333333333333333, \"#9c179e\"], [0.4444444444444444, \"#bd3786\"], [0.5555555555555556, \"#d8576b\"], [0.6666666666666666, \"#ed7953\"], [0.7777777777777778, \"#fb9f3a\"], [0.8888888888888888, \"#fdca26\"], [1.0, \"#f0f921\"]], \"type\": \"histogram2d\"}], \"histogram2dcontour\": [{\"colorbar\": {\"outlinewidth\": 0, \"ticks\": \"\"}, \"colorscale\": [[0.0, \"#0d0887\"], [0.1111111111111111, \"#46039f\"], [0.2222222222222222, \"#7201a8\"], [0.3333333333333333, \"#9c179e\"], [0.4444444444444444, \"#bd3786\"], [0.5555555555555556, \"#d8576b\"], [0.6666666666666666, \"#ed7953\"], [0.7777777777777778, \"#fb9f3a\"], [0.8888888888888888, \"#fdca26\"], [1.0, \"#f0f921\"]], \"type\": \"histogram2dcontour\"}], \"mesh3d\": [{\"colorbar\": {\"outlinewidth\": 0, \"ticks\": \"\"}, \"type\": \"mesh3d\"}], \"parcoords\": [{\"line\": {\"colorbar\": {\"outlinewidth\": 0, \"ticks\": \"\"}}, \"type\": \"parcoords\"}], \"scatter\": [{\"marker\": {\"colorbar\": {\"outlinewidth\": 0, \"ticks\": \"\"}}, \"type\": \"scatter\"}], \"scatter3d\": [{\"line\": {\"colorbar\": {\"outlinewidth\": 0, \"ticks\": \"\"}}, \"marker\": {\"colorbar\": {\"outlinewidth\": 0, \"ticks\": \"\"}}, \"type\": \"scatter3d\"}], \"scattercarpet\": [{\"marker\": {\"colorbar\": {\"outlinewidth\": 0, \"ticks\": \"\"}}, \"type\": \"scattercarpet\"}], \"scattergeo\": [{\"marker\": {\"colorbar\": {\"outlinewidth\": 0, \"ticks\": \"\"}}, \"type\": \"scattergeo\"}], \"scattergl\": [{\"marker\": {\"colorbar\": {\"outlinewidth\": 0, \"ticks\": \"\"}}, \"type\": \"scattergl\"}], \"scattermapbox\": [{\"marker\": {\"colorbar\": {\"outlinewidth\": 0, \"ticks\": \"\"}}, \"type\": \"scattermapbox\"}], \"scatterpolar\": [{\"marker\": {\"colorbar\": {\"outlinewidth\": 0, \"ticks\": \"\"}}, \"type\": \"scatterpolar\"}], \"scatterpolargl\": [{\"marker\": {\"colorbar\": {\"outlinewidth\": 0, \"ticks\": \"\"}}, \"type\": \"scatterpolargl\"}], \"scatterternary\": [{\"marker\": {\"colorbar\": {\"outlinewidth\": 0, \"ticks\": \"\"}}, \"type\": \"scatterternary\"}], \"surface\": [{\"colorbar\": {\"outlinewidth\": 0, \"ticks\": \"\"}, \"colorscale\": [[0.0, \"#0d0887\"], [0.1111111111111111, \"#46039f\"], [0.2222222222222222, \"#7201a8\"], [0.3333333333333333, \"#9c179e\"], [0.4444444444444444, \"#bd3786\"], [0.5555555555555556, \"#d8576b\"], [0.6666666666666666, \"#ed7953\"], [0.7777777777777778, \"#fb9f3a\"], [0.8888888888888888, \"#fdca26\"], [1.0, \"#f0f921\"]], \"type\": \"surface\"}], \"table\": [{\"cells\": {\"fill\": {\"color\": \"#EBF0F8\"}, \"line\": {\"color\": \"white\"}}, \"header\": {\"fill\": {\"color\": \"#C8D4E3\"}, \"line\": {\"color\": \"white\"}}, \"type\": \"table\"}]}, \"layout\": {\"annotationdefaults\": {\"arrowcolor\": \"#2a3f5f\", \"arrowhead\": 0, \"arrowwidth\": 1}, \"colorscale\": {\"diverging\": [[0, \"#8e0152\"], [0.1, \"#c51b7d\"], [0.2, \"#de77ae\"], [0.3, \"#f1b6da\"], [0.4, \"#fde0ef\"], [0.5, \"#f7f7f7\"], [0.6, \"#e6f5d0\"], [0.7, \"#b8e186\"], [0.8, \"#7fbc41\"], [0.9, \"#4d9221\"], [1, \"#276419\"]], \"sequential\": [[0.0, \"#0d0887\"], [0.1111111111111111, \"#46039f\"], [0.2222222222222222, \"#7201a8\"], [0.3333333333333333, \"#9c179e\"], [0.4444444444444444, \"#bd3786\"], [0.5555555555555556, \"#d8576b\"], [0.6666666666666666, \"#ed7953\"], [0.7777777777777778, \"#fb9f3a\"], [0.8888888888888888, \"#fdca26\"], [1.0, \"#f0f921\"]], \"sequentialminus\": [[0.0, \"#0d0887\"], [0.1111111111111111, \"#46039f\"], [0.2222222222222222, \"#7201a8\"], [0.3333333333333333, \"#9c179e\"], [0.4444444444444444, \"#bd3786\"], [0.5555555555555556, \"#d8576b\"], [0.6666666666666666, \"#ed7953\"], [0.7777777777777778, \"#fb9f3a\"], [0.8888888888888888, \"#fdca26\"], [1.0, \"#f0f921\"]]}, \"colorway\": [\"#636efa\", \"#EF553B\", \"#00cc96\", \"#ab63fa\", \"#FFA15A\", \"#19d3f3\", \"#FF6692\", \"#B6E880\", \"#FF97FF\", \"#FECB52\"], \"font\": {\"color\": \"#2a3f5f\"}, \"geo\": {\"bgcolor\": \"white\", \"lakecolor\": \"white\", \"landcolor\": \"#E5ECF6\", \"showlakes\": true, \"showland\": true, \"subunitcolor\": \"white\"}, \"hoverlabel\": {\"align\": \"left\"}, \"hovermode\": \"closest\", \"mapbox\": {\"style\": \"light\"}, \"paper_bgcolor\": \"white\", \"plot_bgcolor\": \"#E5ECF6\", \"polar\": {\"angularaxis\": {\"gridcolor\": \"white\", \"linecolor\": \"white\", \"ticks\": \"\"}, \"bgcolor\": \"#E5ECF6\", \"radialaxis\": {\"gridcolor\": \"white\", \"linecolor\": \"white\", \"ticks\": \"\"}}, \"scene\": {\"xaxis\": {\"backgroundcolor\": \"#E5ECF6\", \"gridcolor\": \"white\", \"gridwidth\": 2, \"linecolor\": \"white\", \"showbackground\": true, \"ticks\": \"\", \"zerolinecolor\": \"white\"}, \"yaxis\": {\"backgroundcolor\": \"#E5ECF6\", \"gridcolor\": \"white\", \"gridwidth\": 2, \"linecolor\": \"white\", \"showbackground\": true, \"ticks\": \"\", \"zerolinecolor\": \"white\"}, \"zaxis\": {\"backgroundcolor\": \"#E5ECF6\", \"gridcolor\": \"white\", \"gridwidth\": 2, \"linecolor\": \"white\", \"showbackground\": true, \"ticks\": \"\", \"zerolinecolor\": \"white\"}}, \"shapedefaults\": {\"line\": {\"color\": \"#2a3f5f\"}}, \"ternary\": {\"aaxis\": {\"gridcolor\": \"white\", \"linecolor\": \"white\", \"ticks\": \"\"}, \"baxis\": {\"gridcolor\": \"white\", \"linecolor\": \"white\", \"ticks\": \"\"}, \"bgcolor\": \"#E5ECF6\", \"caxis\": {\"gridcolor\": \"white\", \"linecolor\": \"white\", \"ticks\": \"\"}}, \"title\": {\"x\": 0.05}, \"xaxis\": {\"automargin\": true, \"gridcolor\": \"white\", \"linecolor\": \"white\", \"ticks\": \"\", \"zerolinecolor\": \"white\", \"zerolinewidth\": 2}, \"yaxis\": {\"automargin\": true, \"gridcolor\": \"white\", \"linecolor\": \"white\", \"ticks\": \"\", \"zerolinecolor\": \"white\", \"zerolinewidth\": 2}}}, \"xaxis\": {\"dtick\": 1, \"gridwidth\": 2, \"showticklabels\": false, \"tick0\": -0.5, \"ticks\": \"\", \"zeroline\": false}, \"yaxis\": {\"autorange\": \"reversed\", \"dtick\": 1, \"gridwidth\": 2, \"showticklabels\": false, \"tick0\": 0.5, \"ticks\": \"\", \"zeroline\": false}},\n",
       "                        {\"responsive\": true}\n",
       "                    ).then(function(){\n",
       "                            \n",
       "var gd = document.getElementById('6e46f1b2-4133-4e26-bbb3-ce68a9ec147d');\n",
       "var x = new MutationObserver(function (mutations, observer) {{\n",
       "        var display = window.getComputedStyle(gd).display;\n",
       "        if (!display || display === 'none') {{\n",
       "            console.log([gd, 'removed!']);\n",
       "            Plotly.purge(gd);\n",
       "            observer.disconnect();\n",
       "        }}\n",
       "}});\n",
       "\n",
       "// Listen for the removal of the full notebook cells\n",
       "var notebookContainer = gd.closest('#notebook-container');\n",
       "if (notebookContainer) {{\n",
       "    x.observe(notebookContainer, {childList: true});\n",
       "}}\n",
       "\n",
       "// Listen for the clearing of the current output cell\n",
       "var outputEl = gd.closest('.output');\n",
       "if (outputEl) {{\n",
       "    x.observe(outputEl, {childList: true});\n",
       "}}\n",
       "\n",
       "                        })\n",
       "                };\n",
       "                });\n",
       "            </script>\n",
       "        </div>"
      ]
     },
     "metadata": {},
     "output_type": "display_data"
    }
   ],
   "source": [
    "from plotly.figure_factory import create_table\n",
    "matrix_twosample = [\n",
    "    ['', 'Test Statistic', 'p-value'],\n",
    "    ['Sample Data', twoSampleTest[0], twoSampleTest[1]/2]\n",
    "]\n",
    "\n",
    "test_table = create_table(matrix_twosample, index=True)\n",
    "test_table.show()"
   ]
  },
  {
   "cell_type": "markdown",
   "metadata": {},
   "source": [
    "Because t > 2 and p < 0.05, we reject H0 and conclude that there is a significant relationship between gender and sentiment of tweets. Our visualizations above further support our alternate hypothesis that women's tweets are less negative than men's."
   ]
  },
  {
   "cell_type": "markdown",
   "metadata": {},
   "source": [
    "## 3) Modeling: LDA Topic Modelling\n",
    "<a id=\"sec3\"></a>\n",
    "\n",
    "Latent Dirichlet Allocation, LDA is yet another transformation from bag-of-words counts into a topic space of lower dimensionality. LDA is a probabilistic extension of LSA (also called multinomial PCA), so LDA’s topics can be interpreted as probability distributions over words. These distributions are, just like with LSA, inferred automatically from a training corpus. Documents are in turn interpreted as a (soft) mixture of these topics (again, just like with LSA).\n",
    "\n",
    "Resource: https://www.kaggle.com/errearanhas/topic-modelling-lda-on-elon-tweets\n",
    "\n",
    "Honestly, the hardest part of all this was just importing all of the necessary packages."
   ]
  },
  {
   "cell_type": "code",
   "execution_count": 31,
   "metadata": {},
   "outputs": [],
   "source": [
    "from plotly.offline import download_plotlyjs, init_notebook_mode, plot, iplot\n",
    "import plotly as py\n",
    "import gensim\n",
    "from gensim import corpora, models, similarities\n",
    "import logging\n",
    "import tempfile\n",
    "from nltk.corpus import stopwords\n",
    "from string import punctuation\n",
    "from collections import OrderedDict\n",
    "import pyLDAvis.gensim"
   ]
  },
  {
   "cell_type": "code",
   "execution_count": 32,
   "metadata": {},
   "outputs": [
    {
     "data": {
      "text/html": [
       "        <script type=\"text/javascript\">\n",
       "        window.PlotlyConfig = {MathJaxConfig: 'local'};\n",
       "        if (window.MathJax) {MathJax.Hub.Config({SVG: {font: \"STIX-Web\"}});}\n",
       "        if (typeof require !== 'undefined') {\n",
       "        require.undef(\"plotly\");\n",
       "        requirejs.config({\n",
       "            paths: {\n",
       "                'plotly': ['https://cdn.plot.ly/plotly-latest.min']\n",
       "            }\n",
       "        });\n",
       "        require(['plotly'], function(Plotly) {\n",
       "            window._Plotly = Plotly;\n",
       "        });\n",
       "        }\n",
       "        </script>\n",
       "        "
      ]
     },
     "metadata": {},
     "output_type": "display_data"
    }
   ],
   "source": [
    "init_notebook_mode(connected=True) #do not miss this line\n",
    "\n",
    "import warnings\n",
    "warnings.filterwarnings(\"ignore\")"
   ]
  },
  {
   "cell_type": "code",
   "execution_count": 33,
   "metadata": {},
   "outputs": [],
   "source": [
    "corpus=[]\n",
    "a=[]\n",
    "for i in range(len(dfdatesort['text'])):\n",
    "        a=dfdatesort['text'][i]\n",
    "        corpus.append(a)"
   ]
  },
  {
   "cell_type": "code",
   "execution_count": 34,
   "metadata": {},
   "outputs": [
    {
     "name": "stdout",
     "output_type": "stream",
     "text": [
      "Folder \"/var/folders/4g/l5vtg9556fs0kxjbmxybn5100000gn/T\" will be used to save temporary dictionary and corpus.\n"
     ]
    }
   ],
   "source": [
    "import os\n",
    "\n",
    "TEMP_FOLDER = tempfile.gettempdir()\n",
    "print('Folder \"{}\" will be used to save temporary dictionary and corpus.'.format(TEMP_FOLDER))\n",
    "\n",
    "logging.basicConfig(format='%(asctime)s : %(levelname)s : %(message)s', level=logging.INFO)"
   ]
  },
  {
   "cell_type": "code",
   "execution_count": 35,
   "metadata": {},
   "outputs": [
    {
     "name": "stdout",
     "output_type": "stream",
     "text": [
      "[nltk_data] Downloading package stopwords to\n",
      "[nltk_data]     /Users/sparjan/nltk_data...\n",
      "[nltk_data]   Package stopwords is already up-to-date!\n"
     ]
    },
    {
     "name": "stderr",
     "output_type": "stream",
     "text": [
      "2019-12-13 18:27:41,311 : INFO : adding document #0 to Dictionary(0 unique tokens: [])\n",
      "2019-12-13 18:27:41,534 : INFO : adding document #10000 to Dictionary(28149 unique tokens: ['así', 'es....', '#mundacanoestásolo', '#rodrigomundaca', '@scolectivos']...)\n",
      "2019-12-13 18:27:41,751 : INFO : adding document #20000 to Dictionary(45335 unique tokens: ['así', 'es....', '#mundacanoestásolo', '#rodrigomundaca', '@scolectivos']...)\n",
      "2019-12-13 18:27:41,827 : INFO : built Dictionary(50717 unique tokens: ['así', 'es....', '#mundacanoestásolo', '#rodrigomundaca', '@scolectivos']...) from 23739 documents (total 238259 corpus positions)\n",
      "2019-12-13 18:27:41,828 : INFO : saving Dictionary object under /var/folders/4g/l5vtg9556fs0kxjbmxybn5100000gn/T/lda.dict, separately None\n",
      "2019-12-13 18:27:41,859 : INFO : saved /var/folders/4g/l5vtg9556fs0kxjbmxybn5100000gn/T/lda.dict\n"
     ]
    }
   ],
   "source": [
    "# removing common words and tokenizing\n",
    "list1 = ['RT','rt']\n",
    "import nltk\n",
    "nltk.download('stopwords')\n",
    "stoplist = stopwords.words('spanish') + list(punctuation) + list1\n",
    "\n",
    "texts = [[word for word in str(document).lower().split() if word not in stoplist] for document in corpus]\n",
    "\n",
    "dictionary = corpora.Dictionary(texts)\n",
    "dictionary.save(os.path.join(TEMP_FOLDER, 'lda.dict'))  # store the dictionary, for future reference"
   ]
  },
  {
   "cell_type": "code",
   "execution_count": 36,
   "metadata": {},
   "outputs": [
    {
     "name": "stderr",
     "output_type": "stream",
     "text": [
      "2019-12-13 18:27:42,121 : INFO : storing corpus in Matrix Market format to /var/folders/4g/l5vtg9556fs0kxjbmxybn5100000gn/T/lda.mm\n",
      "2019-12-13 18:27:42,124 : INFO : saving sparse matrix to /var/folders/4g/l5vtg9556fs0kxjbmxybn5100000gn/T/lda.mm\n",
      "2019-12-13 18:27:42,125 : INFO : PROGRESS: saving document #0\n",
      "2019-12-13 18:27:42,148 : INFO : PROGRESS: saving document #1000\n",
      "2019-12-13 18:27:42,175 : INFO : PROGRESS: saving document #2000\n",
      "2019-12-13 18:27:42,196 : INFO : PROGRESS: saving document #3000\n",
      "2019-12-13 18:27:42,222 : INFO : PROGRESS: saving document #4000\n",
      "2019-12-13 18:27:42,243 : INFO : PROGRESS: saving document #5000\n",
      "2019-12-13 18:27:42,268 : INFO : PROGRESS: saving document #6000\n",
      "2019-12-13 18:27:42,285 : INFO : PROGRESS: saving document #7000\n",
      "2019-12-13 18:27:42,314 : INFO : PROGRESS: saving document #8000\n",
      "2019-12-13 18:27:42,338 : INFO : PROGRESS: saving document #9000\n",
      "2019-12-13 18:27:42,360 : INFO : PROGRESS: saving document #10000\n",
      "2019-12-13 18:27:42,384 : INFO : PROGRESS: saving document #11000\n",
      "2019-12-13 18:27:42,404 : INFO : PROGRESS: saving document #12000\n",
      "2019-12-13 18:27:42,432 : INFO : PROGRESS: saving document #13000\n",
      "2019-12-13 18:27:42,451 : INFO : PROGRESS: saving document #14000\n",
      "2019-12-13 18:27:42,476 : INFO : PROGRESS: saving document #15000\n",
      "2019-12-13 18:27:42,500 : INFO : PROGRESS: saving document #16000\n",
      "2019-12-13 18:27:42,519 : INFO : PROGRESS: saving document #17000\n",
      "2019-12-13 18:27:42,544 : INFO : PROGRESS: saving document #18000\n",
      "2019-12-13 18:27:42,565 : INFO : PROGRESS: saving document #19000\n",
      "2019-12-13 18:27:42,588 : INFO : PROGRESS: saving document #20000\n",
      "2019-12-13 18:27:42,607 : INFO : PROGRESS: saving document #21000\n",
      "2019-12-13 18:27:42,630 : INFO : PROGRESS: saving document #22000\n",
      "2019-12-13 18:27:42,657 : INFO : PROGRESS: saving document #23000\n",
      "2019-12-13 18:27:42,675 : INFO : saved 23739x50717 matrix, density=0.019% (232739/1203970863)\n",
      "2019-12-13 18:27:42,678 : INFO : saving MmCorpus index to /var/folders/4g/l5vtg9556fs0kxjbmxybn5100000gn/T/lda.mm.index\n"
     ]
    }
   ],
   "source": [
    "corpus = [dictionary.doc2bow(text) for text in texts]\n",
    "corpora.MmCorpus.serialize(os.path.join(TEMP_FOLDER, 'lda.mm'), corpus)"
   ]
  },
  {
   "cell_type": "code",
   "execution_count": 37,
   "metadata": {},
   "outputs": [
    {
     "name": "stderr",
     "output_type": "stream",
     "text": [
      "2019-12-13 18:27:43,957 : INFO : collecting document frequencies\n",
      "2019-12-13 18:27:43,959 : INFO : PROGRESS: processing document #0\n",
      "2019-12-13 18:27:43,992 : INFO : PROGRESS: processing document #10000\n",
      "2019-12-13 18:27:44,023 : INFO : PROGRESS: processing document #20000\n",
      "2019-12-13 18:27:44,039 : INFO : calculating IDF weights for 23739 documents and 50717 features (232739 matrix non-zeros)\n"
     ]
    }
   ],
   "source": [
    "tfidf = models.TfidfModel(corpus) #implement model"
   ]
  },
  {
   "cell_type": "code",
   "execution_count": 38,
   "metadata": {},
   "outputs": [],
   "source": [
    "corpus_tfidf = tfidf[corpus]"
   ]
  },
  {
   "cell_type": "code",
   "execution_count": 47,
   "metadata": {},
   "outputs": [],
   "source": [
    "total_topics = 4 #found using some trial and error on different values"
   ]
  },
  {
   "cell_type": "markdown",
   "metadata": {},
   "source": [
    "Oh for sure, we need more sustainable math and statistics classes to un"
   ]
  },
  {
   "cell_type": "code",
   "execution_count": 48,
   "metadata": {},
   "outputs": [
    {
     "name": "stderr",
     "output_type": "stream",
     "text": [
      "2019-12-13 18:30:20,886 : INFO : using symmetric alpha at 0.25\n",
      "2019-12-13 18:30:20,887 : INFO : using symmetric eta at 0.25\n",
      "2019-12-13 18:30:20,896 : INFO : using serial LDA version on this node\n",
      "2019-12-13 18:30:20,917 : INFO : running online (single-pass) LDA training, 4 topics, 1 passes over the supplied corpus of 23739 documents, updating model once every 2000 documents, evaluating perplexity every 20000 documents, iterating 50x with a convergence threshold of 0.001000\n",
      "2019-12-13 18:30:20,921 : INFO : PROGRESS: pass 0, at document #2000/23739\n",
      "2019-12-13 18:30:21,777 : INFO : merging changes from 2000 documents into a model of 23739 documents\n",
      "2019-12-13 18:30:21,786 : INFO : topic #0 (0.250): 0.006*\"así\" + 0.005*\"solo\" + 0.004*\"q\" + 0.003*\"pueblo\" + 0.003*\"gobierno\" + 0.003*\"gracias\" + 0.003*\"violencia\" + 0.003*\"si\" + 0.002*\"#desobedienciacivil\" + 0.002*\"país\"\n",
      "2019-12-13 18:30:21,788 : INFO : topic #1 (0.250): 0.009*\"q\" + 0.006*\"gobierno\" + 0.004*\"si\" + 0.003*\"d\" + 0.002*\"chile\" + 0.002*\"nunca\" + 0.002*\"protesta\" + 0.002*\"ser\" + 0.002*\"militares\" + 0.002*\"hacer\"\n",
      "2019-12-13 18:30:21,789 : INFO : topic #2 (0.250): 0.015*\"q\" + 0.004*\"si\" + 0.003*\"hoy\" + 0.003*\"gobierno\" + 0.003*\"x\" + 0.003*\"metro\" + 0.002*\"años\" + 0.002*\"protesta\" + 0.002*\"calle\" + 0.002*\"menos\"\n",
      "2019-12-13 18:30:21,791 : INFO : topic #3 (0.250): 0.011*\"si\" + 0.007*\"q\" + 0.004*\"d\" + 0.003*\"ser\" + 0.003*\"nan\" + 0.003*\"gobierno\" + 0.003*\"pueblo\" + 0.003*\"personas\" + 0.003*\"así\" + 0.002*\"todas\"\n",
      "2019-12-13 18:30:21,792 : INFO : topic diff=3.902773, rho=1.000000\n",
      "2019-12-13 18:30:21,796 : INFO : PROGRESS: pass 0, at document #4000/23739\n",
      "2019-12-13 18:30:22,412 : INFO : merging changes from 2000 documents into a model of 23739 documents\n",
      "2019-12-13 18:30:22,421 : INFO : topic #0 (0.250): 0.006*\"pueblo\" + 0.005*\"así\" + 0.005*\"solo\" + 0.005*\"presidente\" + 0.004*\"gente\" + 0.004*\"guerra\" + 0.004*\"gracias\" + 0.004*\"piñera\" + 0.004*\"violencia\" + 0.004*\"gobierno\"\n",
      "2019-12-13 18:30:22,422 : INFO : topic #1 (0.250): 0.009*\"q\" + 0.008*\"gobierno\" + 0.005*\"...\" + 0.004*\"si\" + 0.004*\"militares\" + 0.004*\"milicos\" + 0.004*\"chile\" + 0.003*\"piñera\" + 0.003*\"presidente\" + 0.003*\"..!\"\n",
      "2019-12-13 18:30:22,424 : INFO : topic #2 (0.250): 0.016*\"q\" + 0.005*\"hoy\" + 0.004*\"gente\" + 0.004*\"si\" + 0.004*\"gobierno\" + 0.003*\"toque\" + 0.003*\"solo\" + 0.003*\"queda\" + 0.003*\"gracias\" + 0.003*\"menos\"\n",
      "2019-12-13 18:30:22,425 : INFO : topic #3 (0.250): 0.012*\"si\" + 0.007*\"q\" + 0.004*\"nan\" + 0.004*\"militares\" + 0.004*\"pueblo\" + 0.004*\"gobierno\" + 0.004*\"violencia\" + 0.004*\"ser\" + 0.003*\"d\" + 0.003*\"presidente\"\n",
      "2019-12-13 18:30:22,426 : INFO : topic diff=0.500976, rho=0.707107\n",
      "2019-12-13 18:30:22,431 : INFO : PROGRESS: pass 0, at document #6000/23739\n",
      "2019-12-13 18:30:23,103 : INFO : merging changes from 2000 documents into a model of 23739 documents\n",
      "2019-12-13 18:30:23,112 : INFO : topic #0 (0.250): 0.006*\"pueblo\" + 0.005*\"solo\" + 0.005*\"gente\" + 0.004*\"piñera\" + 0.004*\"así\" + 0.004*\"gracias\" + 0.004*\"presidente\" + 0.003*\"...\" + 0.003*\"the\" + 0.003*\"si\"\n",
      "2019-12-13 18:30:23,114 : INFO : topic #1 (0.250): 0.010*\"q\" + 0.006*\"gobierno\" + 0.005*\"si\" + 0.005*\"...\" + 0.004*\"chile\" + 0.004*\"milicos\" + 0.003*\"..!\" + 0.003*\"piñera\" + 0.003*\"nuevo\" + 0.003*\"presidente\"\n",
      "2019-12-13 18:30:23,116 : INFO : topic #2 (0.250): 0.019*\"q\" + 0.005*\"hoy\" + 0.004*\"si\" + 0.004*\"gente\" + 0.004*\"solo\" + 0.003*\"gobierno\" + 0.003*\"parte\" + 0.003*\"queda\" + 0.003*\"x\" + 0.003*\"menos\"\n",
      "2019-12-13 18:30:23,118 : INFO : topic #3 (0.250): 0.014*\"si\" + 0.008*\"q\" + 0.005*\"nan\" + 0.004*\"personas\" + 0.004*\"ser\" + 0.004*\"pueblo\" + 0.004*\"militares\" + 0.003*\"d\" + 0.003*\"...\" + 0.003*\"derechos\"\n",
      "2019-12-13 18:30:23,118 : INFO : topic diff=0.434203, rho=0.577350\n",
      "2019-12-13 18:30:23,127 : INFO : PROGRESS: pass 0, at document #8000/23739\n",
      "2019-12-13 18:30:23,793 : INFO : merging changes from 2000 documents into a model of 23739 documents\n",
      "2019-12-13 18:30:23,803 : INFO : topic #0 (0.250): 0.006*\"gracias\" + 0.005*\"pueblo\" + 0.005*\"solo\" + 0.004*\"gente\" + 0.004*\"piñera\" + 0.004*\"así\" + 0.004*\"presidente\" + 0.003*\"chile\" + 0.003*\"...\" + 0.003*\"si\"\n",
      "2019-12-13 18:30:23,805 : INFO : topic #1 (0.250): 0.009*\"q\" + 0.006*\"gobierno\" + 0.005*\"si\" + 0.005*\"...\" + 0.004*\"chile\" + 0.003*\"nuevo\" + 0.003*\"presidente\" + 0.003*\"milicos\" + 0.003*\"..!\" + 0.003*\"piñera\"\n",
      "2019-12-13 18:30:23,809 : INFO : topic #2 (0.250): 0.019*\"q\" + 0.006*\"hoy\" + 0.004*\"gente\" + 0.004*\"si\" + 0.004*\"solo\" + 0.003*\"parte\" + 0.003*\"marcha\" + 0.003*\"gobierno\" + 0.003*\"ser\" + 0.002*\"queda\"\n",
      "2019-12-13 18:30:23,811 : INFO : topic #3 (0.250): 0.014*\"si\" + 0.006*\"q\" + 0.006*\"nan\" + 0.005*\"personas\" + 0.005*\"derechos\" + 0.004*\"ser\" + 0.004*\"hoy\" + 0.003*\"violencia\" + 0.003*\"...\" + 0.003*\"violaciones\"\n",
      "2019-12-13 18:30:23,814 : INFO : topic diff=0.426160, rho=0.500000\n",
      "2019-12-13 18:30:23,816 : INFO : PROGRESS: pass 0, at document #10000/23739\n",
      "2019-12-13 18:30:24,342 : INFO : merging changes from 2000 documents into a model of 23739 documents\n",
      "2019-12-13 18:30:24,351 : INFO : topic #0 (0.250): 0.007*\"gracias\" + 0.005*\"pueblo\" + 0.004*\"gente\" + 0.004*\"solo\" + 0.004*\"chile\" + 0.004*\"piñera\" + 0.003*\"así\" + 0.003*\"si\" + 0.003*\"no.\" + 0.003*\"gobierno\"\n",
      "2019-12-13 18:30:24,353 : INFO : topic #1 (0.250): 0.007*\"q\" + 0.006*\"gobierno\" + 0.005*\"si\" + 0.004*\"chile\" + 0.004*\"...\" + 0.003*\"piñera\" + 0.003*\"nuevo\" + 0.003*\"presidente\" + 0.003*\"mismo\" + 0.003*\"hoy\"\n",
      "2019-12-13 18:30:24,354 : INFO : topic #2 (0.250): 0.017*\"q\" + 0.005*\"hoy\" + 0.004*\"si\" + 0.004*\"gente\" + 0.003*\"parte\" + 0.003*\"solo\" + 0.002*\"ahora\" + 0.002*\"gobierno\" + 0.002*\"dice\" + 0.002*\"menos\"\n",
      "2019-12-13 18:30:24,355 : INFO : topic #3 (0.250): 0.015*\"si\" + 0.006*\"derechos\" + 0.006*\"nan\" + 0.005*\"q\" + 0.004*\"ser\" + 0.004*\"personas\" + 0.004*\"violaciones\" + 0.004*\"constitución\" + 0.003*\"hoy\" + 0.003*\"humanos\"\n",
      "2019-12-13 18:30:24,356 : INFO : topic diff=0.432075, rho=0.447214\n",
      "2019-12-13 18:30:24,358 : INFO : PROGRESS: pass 0, at document #12000/23739\n",
      "2019-12-13 18:30:24,891 : INFO : merging changes from 2000 documents into a model of 23739 documents\n",
      "2019-12-13 18:30:24,900 : INFO : topic #0 (0.250): 0.007*\"gracias\" + 0.005*\"pueblo\" + 0.004*\"solo\" + 0.004*\"así\" + 0.004*\"piñera\" + 0.004*\"chile\" + 0.003*\"gente\" + 0.003*\"violencia\" + 0.003*\"cómo\" + 0.003*\"...\"\n",
      "2019-12-13 18:30:24,901 : INFO : topic #1 (0.250): 0.007*\"q\" + 0.005*\"gobierno\" + 0.004*\"chile\" + 0.004*\"si\" + 0.004*\"...\" + 0.003*\"piñera\" + 0.003*\"mismo\" + 0.003*\"social\" + 0.003*\"hoy\" + 0.003*\"nuevo\"\n",
      "2019-12-13 18:30:24,903 : INFO : topic #2 (0.250): 0.018*\"q\" + 0.005*\"hoy\" + 0.004*\"@gblumel\" + 0.004*\"si\" + 0.003*\"parte\" + 0.003*\"gente\" + 0.003*\"solo\" + 0.003*\"ahora\" + 0.002*\"x\" + 0.002*\"gobierno\"\n",
      "2019-12-13 18:30:24,904 : INFO : topic #3 (0.250): 0.014*\"si\" + 0.006*\"derechos\" + 0.005*\"q\" + 0.005*\"nan\" + 0.004*\"ser\" + 0.004*\"constitución\" + 0.004*\"violaciones\" + 0.003*\"d\" + 0.003*\"violencia\" + 0.003*\"personas\"\n",
      "2019-12-13 18:30:24,905 : INFO : topic diff=0.448668, rho=0.408248\n",
      "2019-12-13 18:30:24,907 : INFO : PROGRESS: pass 0, at document #14000/23739\n",
      "2019-12-13 18:30:25,419 : INFO : merging changes from 2000 documents into a model of 23739 documents\n",
      "2019-12-13 18:30:25,428 : INFO : topic #0 (0.250): 0.009*\"gracias\" + 0.005*\"pueblo\" + 0.004*\"solo\" + 0.004*\"así\" + 0.004*\"chile\" + 0.004*\"piñera\" + 0.004*\"gente\" + 0.003*\"violencia\" + 0.003*\"dignidad\" + 0.003*\"si\"\n",
      "2019-12-13 18:30:25,430 : INFO : topic #1 (0.250): 0.008*\"q\" + 0.006*\"gobierno\" + 0.004*\"si\" + 0.004*\"chile\" + 0.004*\"plebiscito\" + 0.003*\"...\" + 0.003*\"mismo\" + 0.003*\"hoy\" + 0.003*\"piñera\" + 0.003*\"acuerdo\"\n",
      "2019-12-13 18:30:25,431 : INFO : topic #2 (0.250): 0.023*\"q\" + 0.004*\"hoy\" + 0.004*\"si\" + 0.004*\"@gblumel\" + 0.003*\"solo\" + 0.003*\"gente\" + 0.003*\"parte\" + 0.003*\"x\" + 0.003*\"ser\" + 0.003*\"nueva\"\n",
      "2019-12-13 18:30:25,433 : INFO : topic #3 (0.250): 0.014*\"si\" + 0.006*\"derechos\" + 0.006*\"q\" + 0.006*\"constitución\" + 0.005*\"ser\" + 0.005*\"nan\" + 0.004*\"d\" + 0.004*\"violaciones\" + 0.004*\"debe\" + 0.004*\"personas\"\n",
      "2019-12-13 18:30:25,434 : INFO : topic diff=0.448457, rho=0.377964\n",
      "2019-12-13 18:30:25,437 : INFO : PROGRESS: pass 0, at document #16000/23739\n",
      "2019-12-13 18:30:26,001 : INFO : merging changes from 2000 documents into a model of 23739 documents\n",
      "2019-12-13 18:30:26,010 : INFO : topic #0 (0.250): 0.011*\"gracias\" + 0.006*\"pueblo\" + 0.004*\"solo\" + 0.004*\"así\" + 0.003*\"piñera\" + 0.003*\"chile\" + 0.003*\"gente\" + 0.003*\"paz\" + 0.003*\"dignidad\" + 0.003*\"si\"\n"
     ]
    },
    {
     "name": "stderr",
     "output_type": "stream",
     "text": [
      "2019-12-13 18:30:26,011 : INFO : topic #1 (0.250): 0.009*\"q\" + 0.007*\"acuerdo\" + 0.005*\"gobierno\" + 0.004*\"si\" + 0.004*\"plebiscito\" + 0.003*\"chile\" + 0.003*\"mismo\" + 0.003*\"ser\" + 0.003*\"#asambleaconstituyente\" + 0.002*\"hoy\"\n",
      "2019-12-13 18:30:26,013 : INFO : topic #2 (0.250): 0.026*\"q\" + 0.004*\"x\" + 0.004*\"si\" + 0.004*\"hoy\" + 0.004*\"solo\" + 0.003*\"parte\" + 0.003*\"d\" + 0.003*\"gente\" + 0.003*\"mecanismo\" + 0.003*\"nueva\"\n",
      "2019-12-13 18:30:26,014 : INFO : topic #3 (0.250): 0.014*\"si\" + 0.008*\"constitución\" + 0.006*\"q\" + 0.006*\"derechos\" + 0.005*\"ser\" + 0.004*\"nueva\" + 0.004*\"nan\" + 0.004*\"violaciones\" + 0.004*\"debe\" + 0.004*\"d\"\n",
      "2019-12-13 18:30:26,015 : INFO : topic diff=0.427954, rho=0.353553\n",
      "2019-12-13 18:30:26,017 : INFO : PROGRESS: pass 0, at document #18000/23739\n",
      "2019-12-13 18:30:26,493 : INFO : merging changes from 2000 documents into a model of 23739 documents\n",
      "2019-12-13 18:30:26,502 : INFO : topic #0 (0.250): 0.011*\"gracias\" + 0.005*\"pueblo\" + 0.004*\"así\" + 0.004*\"chile\" + 0.004*\"solo\" + 0.003*\"dignidad\" + 0.003*\"piñera\" + 0.003*\"paz\" + 0.003*\"@cidh\" + 0.003*\"si\"\n",
      "2019-12-13 18:30:26,504 : INFO : topic #1 (0.250): 0.008*\"q\" + 0.008*\"acuerdo\" + 0.004*\"gobierno\" + 0.004*\"si\" + 0.004*\"chile\" + 0.003*\"plebiscito\" + 0.003*\"constitucional\" + 0.003*\"hoy\" + 0.003*\"mismo\" + 0.003*\"comisión\"\n",
      "2019-12-13 18:30:26,505 : INFO : topic #2 (0.250): 0.025*\"q\" + 0.004*\"x\" + 0.004*\"hoy\" + 0.004*\"si\" + 0.004*\"solo\" + 0.003*\"d\" + 0.003*\"parte\" + 0.003*\"ser\" + 0.003*\"@gblumel\" + 0.003*\"queda\"\n",
      "2019-12-13 18:30:26,506 : INFO : topic #3 (0.250): 0.013*\"si\" + 0.008*\"derechos\" + 0.007*\"constitución\" + 0.006*\"ser\" + 0.006*\"q\" + 0.005*\"violaciones\" + 0.005*\"nan\" + 0.005*\"debe\" + 0.004*\"d\" + 0.004*\"nueva\"\n",
      "2019-12-13 18:30:26,508 : INFO : topic diff=0.401287, rho=0.333333\n",
      "2019-12-13 18:30:27,229 : INFO : -10.752 per-word bound, 1724.3 perplexity estimate based on a held-out corpus of 2000 documents with 20608 words\n",
      "2019-12-13 18:30:27,229 : INFO : PROGRESS: pass 0, at document #20000/23739\n",
      "2019-12-13 18:30:27,696 : INFO : merging changes from 2000 documents into a model of 23739 documents\n",
      "2019-12-13 18:30:27,706 : INFO : topic #0 (0.250): 0.010*\"gracias\" + 0.005*\"pueblo\" + 0.004*\"así\" + 0.004*\"solo\" + 0.004*\"dignidad\" + 0.004*\"chile\" + 0.004*\"piñera\" + 0.003*\"@cidh\" + 0.003*\"cómo\" + 0.003*\"gente\"\n",
      "2019-12-13 18:30:27,708 : INFO : topic #1 (0.250): 0.007*\"q\" + 0.007*\"acuerdo\" + 0.004*\"gobierno\" + 0.004*\"si\" + 0.003*\"chile\" + 0.003*\"hoy\" + 0.003*\"comisión\" + 0.003*\"constitucional\" + 0.003*\"piñera\" + 0.003*\"ser\"\n",
      "2019-12-13 18:30:27,709 : INFO : topic #2 (0.250): 0.024*\"q\" + 0.004*\"x\" + 0.004*\"si\" + 0.004*\"hoy\" + 0.004*\"d\" + 0.004*\"solo\" + 0.003*\"parte\" + 0.003*\"ser\" + 0.002*\"puede\" + 0.002*\"hace\"\n",
      "2019-12-13 18:30:27,711 : INFO : topic #3 (0.250): 0.013*\"si\" + 0.008*\"derechos\" + 0.006*\"violaciones\" + 0.006*\"constitución\" + 0.005*\"ser\" + 0.005*\"q\" + 0.005*\"debe\" + 0.004*\"ddhh\" + 0.004*\"nan\" + 0.004*\"d\"\n",
      "2019-12-13 18:30:27,712 : INFO : topic diff=0.407211, rho=0.316228\n",
      "2019-12-13 18:30:27,713 : INFO : PROGRESS: pass 0, at document #22000/23739\n",
      "2019-12-13 18:30:28,172 : INFO : merging changes from 2000 documents into a model of 23739 documents\n",
      "2019-12-13 18:30:28,181 : INFO : topic #0 (0.250): 0.011*\"gracias\" + 0.004*\"pueblo\" + 0.004*\"dignidad\" + 0.004*\"así\" + 0.004*\"piñera\" + 0.003*\"chile\" + 0.003*\"solo\" + 0.003*\"@cidh\" + 0.003*\"cómo\" + 0.002*\"gente\"\n",
      "2019-12-13 18:30:28,182 : INFO : topic #1 (0.250): 0.007*\"q\" + 0.006*\"acuerdo\" + 0.004*\"gobierno\" + 0.004*\"si\" + 0.003*\"chile\" + 0.003*\"hoy\" + 0.003*\"constitucional\" + 0.003*\"mismo\" + 0.003*\"comisión\" + 0.003*\"piñera\"\n",
      "2019-12-13 18:30:28,184 : INFO : topic #2 (0.250): 0.024*\"q\" + 0.004*\"d\" + 0.004*\"x\" + 0.004*\"hoy\" + 0.004*\"si\" + 0.004*\"solo\" + 0.003*\"parte\" + 0.003*\"ser\" + 0.002*\"puede\" + 0.002*\"jajaja\"\n",
      "2019-12-13 18:30:28,185 : INFO : topic #3 (0.250): 0.012*\"si\" + 0.008*\"derechos\" + 0.006*\"violaciones\" + 0.005*\"ser\" + 0.005*\"q\" + 0.005*\"constitución\" + 0.005*\"nan\" + 0.005*\"debe\" + 0.004*\"d\" + 0.004*\"ddhh\"\n",
      "2019-12-13 18:30:28,186 : INFO : topic diff=0.388264, rho=0.301511\n",
      "2019-12-13 18:30:28,643 : INFO : -11.048 per-word bound, 2117.2 perplexity estimate based on a held-out corpus of 1739 documents with 14130 words\n",
      "2019-12-13 18:30:28,643 : INFO : PROGRESS: pass 0, at document #23739/23739\n",
      "2019-12-13 18:30:29,066 : INFO : merging changes from 1739 documents into a model of 23739 documents\n",
      "2019-12-13 18:30:29,077 : INFO : topic #0 (0.250): 0.012*\"gracias\" + 0.004*\"dignidad\" + 0.004*\"así\" + 0.003*\"pueblo\" + 0.003*\"chile\" + 0.003*\"solo\" + 0.003*\"piñera\" + 0.003*\"cómo\" + 0.003*\"@cidh\" + 0.003*\"mujeres\"\n",
      "2019-12-13 18:30:29,080 : INFO : topic #1 (0.250): 0.006*\"q\" + 0.005*\"acuerdo\" + 0.004*\"gobierno\" + 0.003*\"si\" + 0.003*\"hoy\" + 0.003*\"proyecto\" + 0.003*\"comisión\" + 0.003*\"chile\" + 0.003*\"piñera\" + 0.002*\"constitucional\"\n",
      "2019-12-13 18:30:29,082 : INFO : topic #2 (0.250): 0.024*\"q\" + 0.004*\"x\" + 0.004*\"d\" + 0.004*\"hoy\" + 0.004*\"solo\" + 0.004*\"si\" + 0.003*\"parte\" + 0.003*\"jajaja\" + 0.003*\"ser\" + 0.002*\"queda\"\n",
      "2019-12-13 18:30:29,083 : INFO : topic #3 (0.250): 0.011*\"si\" + 0.008*\"derechos\" + 0.006*\"violaciones\" + 0.005*\"ser\" + 0.005*\"q\" + 0.005*\"debe\" + 0.005*\"nan\" + 0.004*\"constitución\" + 0.004*\"humanos\" + 0.004*\"d\"\n",
      "2019-12-13 18:30:29,084 : INFO : topic diff=0.340340, rho=0.288675\n"
     ]
    }
   ],
   "source": [
    "lda = models.LdaModel(corpus, id2word=dictionary, num_topics=total_topics)\n",
    "corpus_lda = lda[corpus_tfidf]"
   ]
  },
  {
   "cell_type": "markdown",
   "metadata": {},
   "source": [
    "We set the ideal number of contents to group data into based on what level of party people usually have."
   ]
  },
  {
   "cell_type": "code",
   "execution_count": 49,
   "metadata": {},
   "outputs": [
    {
     "data": {
      "text/plain": [
       "[(0,\n",
       "  '0.012*\"gracias\" + 0.004*\"dignidad\" + 0.004*\"así\" + 0.003*\"pueblo\" + 0.003*\"chile\"'),\n",
       " (1,\n",
       "  '0.006*\"q\" + 0.005*\"acuerdo\" + 0.004*\"gobierno\" + 0.003*\"si\" + 0.003*\"hoy\"'),\n",
       " (2, '0.024*\"q\" + 0.004*\"x\" + 0.004*\"d\" + 0.004*\"hoy\" + 0.004*\"solo\"'),\n",
       " (3,\n",
       "  '0.011*\"si\" + 0.008*\"derechos\" + 0.006*\"violaciones\" + 0.005*\"ser\" + 0.005*\"q\"')]"
      ]
     },
     "execution_count": 49,
     "metadata": {},
     "output_type": "execute_result"
    }
   ],
   "source": [
    "lda.show_topics(total_topics,5)"
   ]
  },
  {
   "cell_type": "code",
   "execution_count": 50,
   "metadata": {},
   "outputs": [],
   "source": [
    "\n",
    "data_lda = {i: OrderedDict(lda.show_topic(i,25)) for i in range(total_topics)}\n"
   ]
  },
  {
   "cell_type": "code",
   "execution_count": 51,
   "metadata": {},
   "outputs": [
    {
     "name": "stdout",
     "output_type": "stream",
     "text": [
      "(4, 75)\n"
     ]
    }
   ],
   "source": [
    "df_lda = pd.DataFrame(data_lda)\n",
    "df_lda = df_lda.fillna(0).T\n",
    "print(df_lda.shape)"
   ]
  },
  {
   "cell_type": "code",
   "execution_count": 52,
   "metadata": {},
   "outputs": [
    {
     "data": {
      "text/html": [
       "<div>\n",
       "<style scoped>\n",
       "    .dataframe tbody tr th:only-of-type {\n",
       "        vertical-align: middle;\n",
       "    }\n",
       "\n",
       "    .dataframe tbody tr th {\n",
       "        vertical-align: top;\n",
       "    }\n",
       "\n",
       "    .dataframe thead th {\n",
       "        text-align: right;\n",
       "    }\n",
       "</style>\n",
       "<table border=\"1\" class=\"dataframe\">\n",
       "  <thead>\n",
       "    <tr style=\"text-align: right;\">\n",
       "      <th></th>\n",
       "      <th>@cidh</th>\n",
       "      <th>@cooperativa</th>\n",
       "      <th>abrazo</th>\n",
       "      <th>acuerdo</th>\n",
       "      <th>acusación</th>\n",
       "      <th>ahora</th>\n",
       "      <th>así</th>\n",
       "      <th>bot</th>\n",
       "      <th>buena</th>\n",
       "      <th>cada</th>\n",
       "      <th>...</th>\n",
       "      <th>tan</th>\n",
       "      <th>todas</th>\n",
       "      <th>va</th>\n",
       "      <th>vida</th>\n",
       "      <th>violaciones</th>\n",
       "      <th>violador</th>\n",
       "      <th>violencia</th>\n",
       "      <th>voy</th>\n",
       "      <th>vía</th>\n",
       "      <th>x</th>\n",
       "    </tr>\n",
       "  </thead>\n",
       "  <tbody>\n",
       "    <tr>\n",
       "      <th>0</th>\n",
       "      <td>0.00263</td>\n",
       "      <td>0.000000</td>\n",
       "      <td>0.000000</td>\n",
       "      <td>0.000000</td>\n",
       "      <td>0.000000</td>\n",
       "      <td>0.000000</td>\n",
       "      <td>0.003603</td>\n",
       "      <td>0.001806</td>\n",
       "      <td>0.001981</td>\n",
       "      <td>0.001774</td>\n",
       "      <td>...</td>\n",
       "      <td>0.002383</td>\n",
       "      <td>0.000000</td>\n",
       "      <td>0.000000</td>\n",
       "      <td>0.002082</td>\n",
       "      <td>0.000000</td>\n",
       "      <td>0.000000</td>\n",
       "      <td>0.002125</td>\n",
       "      <td>0.00000</td>\n",
       "      <td>0.002163</td>\n",
       "      <td>0.000000</td>\n",
       "    </tr>\n",
       "    <tr>\n",
       "      <th>1</th>\n",
       "      <td>0.00000</td>\n",
       "      <td>0.001735</td>\n",
       "      <td>0.001746</td>\n",
       "      <td>0.005198</td>\n",
       "      <td>0.001968</td>\n",
       "      <td>0.000000</td>\n",
       "      <td>0.000000</td>\n",
       "      <td>0.000000</td>\n",
       "      <td>0.000000</td>\n",
       "      <td>0.000000</td>\n",
       "      <td>...</td>\n",
       "      <td>0.000000</td>\n",
       "      <td>0.000000</td>\n",
       "      <td>0.000000</td>\n",
       "      <td>0.000000</td>\n",
       "      <td>0.000000</td>\n",
       "      <td>0.002289</td>\n",
       "      <td>0.000000</td>\n",
       "      <td>0.00178</td>\n",
       "      <td>0.002099</td>\n",
       "      <td>0.000000</td>\n",
       "    </tr>\n",
       "    <tr>\n",
       "      <th>2</th>\n",
       "      <td>0.00000</td>\n",
       "      <td>0.000000</td>\n",
       "      <td>0.000000</td>\n",
       "      <td>0.000000</td>\n",
       "      <td>0.000000</td>\n",
       "      <td>0.001951</td>\n",
       "      <td>0.000000</td>\n",
       "      <td>0.000000</td>\n",
       "      <td>0.000000</td>\n",
       "      <td>0.000000</td>\n",
       "      <td>...</td>\n",
       "      <td>0.000000</td>\n",
       "      <td>0.000000</td>\n",
       "      <td>0.001784</td>\n",
       "      <td>0.000000</td>\n",
       "      <td>0.000000</td>\n",
       "      <td>0.000000</td>\n",
       "      <td>0.000000</td>\n",
       "      <td>0.00000</td>\n",
       "      <td>0.000000</td>\n",
       "      <td>0.004153</td>\n",
       "    </tr>\n",
       "    <tr>\n",
       "      <th>3</th>\n",
       "      <td>0.00000</td>\n",
       "      <td>0.000000</td>\n",
       "      <td>0.000000</td>\n",
       "      <td>0.000000</td>\n",
       "      <td>0.000000</td>\n",
       "      <td>0.002073</td>\n",
       "      <td>0.000000</td>\n",
       "      <td>0.000000</td>\n",
       "      <td>0.000000</td>\n",
       "      <td>0.000000</td>\n",
       "      <td>...</td>\n",
       "      <td>0.000000</td>\n",
       "      <td>0.002065</td>\n",
       "      <td>0.000000</td>\n",
       "      <td>0.000000</td>\n",
       "      <td>0.005995</td>\n",
       "      <td>0.000000</td>\n",
       "      <td>0.002272</td>\n",
       "      <td>0.00000</td>\n",
       "      <td>0.000000</td>\n",
       "      <td>0.000000</td>\n",
       "    </tr>\n",
       "  </tbody>\n",
       "</table>\n",
       "<p>4 rows × 75 columns</p>\n",
       "</div>"
      ],
      "text/plain": [
       "     @cidh  @cooperativa    abrazo   acuerdo  acusación     ahora       así  \\\n",
       "0  0.00263      0.000000  0.000000  0.000000   0.000000  0.000000  0.003603   \n",
       "1  0.00000      0.001735  0.001746  0.005198   0.001968  0.000000  0.000000   \n",
       "2  0.00000      0.000000  0.000000  0.000000   0.000000  0.001951  0.000000   \n",
       "3  0.00000      0.000000  0.000000  0.000000   0.000000  0.002073  0.000000   \n",
       "\n",
       "        bot     buena      cada    ...          tan     todas        va  \\\n",
       "0  0.001806  0.001981  0.001774    ...     0.002383  0.000000  0.000000   \n",
       "1  0.000000  0.000000  0.000000    ...     0.000000  0.000000  0.000000   \n",
       "2  0.000000  0.000000  0.000000    ...     0.000000  0.000000  0.001784   \n",
       "3  0.000000  0.000000  0.000000    ...     0.000000  0.002065  0.000000   \n",
       "\n",
       "       vida  violaciones  violador  violencia      voy       vía         x  \n",
       "0  0.002082     0.000000  0.000000   0.002125  0.00000  0.002163  0.000000  \n",
       "1  0.000000     0.000000  0.002289   0.000000  0.00178  0.002099  0.000000  \n",
       "2  0.000000     0.000000  0.000000   0.000000  0.00000  0.000000  0.004153  \n",
       "3  0.000000     0.005995  0.000000   0.002272  0.00000  0.000000  0.000000  \n",
       "\n",
       "[4 rows x 75 columns]"
      ]
     },
     "execution_count": 52,
     "metadata": {},
     "output_type": "execute_result"
    }
   ],
   "source": [
    "df_lda"
   ]
  },
  {
   "cell_type": "code",
   "execution_count": 53,
   "metadata": {},
   "outputs": [
    {
     "data": {
      "image/png": "[encoded data removed]",
      "text/plain": [
       "<Figure size 1080x1080 with 4 Axes>"
      ]
     },
     "metadata": {},
     "output_type": "display_data"
    }
   ],
   "source": [
    "g=sns.clustermap(df_lda.corr(), center=0, standard_scale=1, cmap=\"RdBu\", metric='cosine', linewidths=.75, figsize=(15, 15))\n",
    "plt.setp(g.ax_heatmap.yaxis.get_majorticklabels(), rotation=0)\n",
    "plt.show()"
   ]
  },
  {
   "cell_type": "markdown",
   "metadata": {},
   "source": [
    "**Figure 4. Topic Analysis Heatmap** This plot lets us see how clusters in the data were formed by the LDA approach. The colors get darker if there's a strong relationship between items along the two axes.\n",
    "<a id=\"sec3-1\"></a>"
   ]
  },
  {
   "cell_type": "code",
   "execution_count": 54,
   "metadata": {},
   "outputs": [
    {
     "data": {
      "text/html": [
       "\n",
       "<link rel=\"stylesheet\" type=\"text/css\" href=\"https://cdn.rawgit.com/bmabey/pyLDAvis/files/ldavis.v1.0.0.css\">\n",
       "\n",
       "\n",
       "<div id=\"ldavis_el42851122126655924372347333\"></div>\n",
       "<script type=\"text/javascript\">\n",
       "\n",
       "var ldavis_el42851122126655924372347333_data = {\"mdsDat\": {\"x\": [46.45233154296875, 130.57427978515625, 260.6824951171875, 176.5605010986328], \"y\": [-212.462890625, -342.55816650390625, -258.4559020996094, -128.36090087890625], \"topics\": [1, 2, 3, 4], \"cluster\": [1, 1, 1, 1], \"Freq\": [49.57004928588867, 16.9470272064209, 16.874677658081055, 16.608247756958008]}, \"tinfo\": {\"Category\": [\"Default\", \"Default\", \"Default\", \"Default\", \"Default\", \"Default\", \"Default\", \"Default\", \"Default\", \"Default\", \"Default\", \"Default\", \"Default\", \"Default\", \"Default\", \"Default\", \"Default\", \"Default\", \"Default\", \"Default\", \"Default\", \"Default\", \"Default\", \"Default\", \"Default\", \"Default\", \"Default\", \"Default\", \"Default\", \"Default\", \"Topic1\", \"Topic1\", \"Topic1\", \"Topic1\", \"Topic1\", \"Topic1\", \"Topic1\", \"Topic1\", \"Topic1\", \"Topic1\", \"Topic1\", \"Topic1\", \"Topic1\", \"Topic1\", \"Topic1\", \"Topic1\", \"Topic1\", \"Topic1\", \"Topic1\", \"Topic1\", \"Topic1\", \"Topic1\", \"Topic1\", \"Topic1\", \"Topic1\", \"Topic1\", \"Topic1\", \"Topic1\", \"Topic1\", \"Topic1\", \"Topic1\", \"Topic1\", \"Topic1\", \"Topic1\", \"Topic1\", \"Topic1\", \"Topic1\", \"Topic1\", \"Topic1\", \"Topic1\", \"Topic1\", \"Topic1\", \"Topic1\", \"Topic1\", \"Topic1\", \"Topic1\", \"Topic1\", \"Topic1\", \"Topic1\", \"Topic1\", \"Topic1\", \"Topic1\", \"Topic1\", \"Topic1\", \"Topic1\", \"Topic1\", \"Topic1\", \"Topic1\", \"Topic1\", \"Topic1\", \"Topic1\", \"Topic1\", \"Topic1\", \"Topic1\", \"Topic1\", \"Topic1\", \"Topic1\", \"Topic1\", \"Topic1\", \"Topic1\", \"Topic1\", \"Topic1\", \"Topic1\", \"Topic1\", \"Topic1\", \"Topic2\", \"Topic2\", \"Topic2\", \"Topic2\", \"Topic2\", \"Topic2\", \"Topic2\", \"Topic2\", \"Topic2\", \"Topic2\", \"Topic2\", \"Topic2\", \"Topic2\", \"Topic2\", \"Topic2\", \"Topic2\", \"Topic2\", \"Topic2\", \"Topic2\", \"Topic2\", \"Topic2\", \"Topic2\", \"Topic2\", \"Topic2\", \"Topic2\", \"Topic2\", \"Topic2\", \"Topic2\", \"Topic2\", \"Topic2\", \"Topic2\", \"Topic2\", \"Topic2\", \"Topic2\", \"Topic2\", \"Topic2\", \"Topic2\", \"Topic2\", \"Topic2\", \"Topic2\", \"Topic2\", \"Topic2\", \"Topic2\", \"Topic2\", \"Topic2\", \"Topic2\", \"Topic2\", \"Topic2\", \"Topic2\", \"Topic2\", \"Topic2\", \"Topic2\", \"Topic2\", \"Topic2\", \"Topic2\", \"Topic2\", \"Topic2\", \"Topic2\", \"Topic2\", \"Topic2\", \"Topic2\", \"Topic2\", \"Topic2\", \"Topic2\", \"Topic2\", \"Topic2\", \"Topic2\", \"Topic2\", \"Topic2\", \"Topic3\", \"Topic3\", \"Topic3\", \"Topic3\", \"Topic3\", \"Topic3\", \"Topic3\", \"Topic3\", \"Topic3\", \"Topic3\", \"Topic3\", \"Topic3\", \"Topic3\", \"Topic3\", \"Topic3\", \"Topic3\", \"Topic3\", \"Topic3\", \"Topic3\", \"Topic3\", \"Topic3\", \"Topic3\", \"Topic3\", \"Topic3\", \"Topic3\", \"Topic3\", \"Topic3\", \"Topic3\", \"Topic3\", \"Topic3\", \"Topic3\", \"Topic3\", \"Topic3\", \"Topic3\", \"Topic3\", \"Topic3\", \"Topic3\", \"Topic3\", \"Topic3\", \"Topic3\", \"Topic3\", \"Topic3\", \"Topic3\", \"Topic3\", \"Topic3\", \"Topic3\", \"Topic3\", \"Topic3\", \"Topic3\", \"Topic3\", \"Topic3\", \"Topic3\", \"Topic3\", \"Topic3\", \"Topic3\", \"Topic3\", \"Topic3\", \"Topic3\", \"Topic3\", \"Topic3\", \"Topic3\", \"Topic3\", \"Topic3\", \"Topic3\", \"Topic3\", \"Topic3\", \"Topic3\", \"Topic3\", \"Topic3\", \"Topic3\", \"Topic3\", \"Topic3\", \"Topic3\", \"Topic4\", \"Topic4\", \"Topic4\", \"Topic4\", \"Topic4\", \"Topic4\", \"Topic4\", \"Topic4\", \"Topic4\", \"Topic4\", \"Topic4\", \"Topic4\", \"Topic4\", \"Topic4\", \"Topic4\", \"Topic4\", \"Topic4\", \"Topic4\", \"Topic4\", \"Topic4\", \"Topic4\", \"Topic4\", \"Topic4\", \"Topic4\", \"Topic4\", \"Topic4\", \"Topic4\", \"Topic4\", \"Topic4\", \"Topic4\", \"Topic4\", \"Topic4\", \"Topic4\", \"Topic4\", \"Topic4\", \"Topic4\", \"Topic4\", \"Topic4\", \"Topic4\", \"Topic4\", \"Topic4\", \"Topic4\", \"Topic4\", \"Topic4\", \"Topic4\", \"Topic4\", \"Topic4\", \"Topic4\", \"Topic4\", \"Topic4\", \"Topic4\", \"Topic4\", \"Topic4\", \"Topic4\", \"Topic4\", \"Topic4\", \"Topic4\", \"Topic4\", \"Topic4\", \"Topic4\", \"Topic4\", \"Topic4\", \"Topic4\", \"Topic4\", \"Topic4\", \"Topic4\", \"Topic4\", \"Topic4\", \"Topic4\", \"Topic4\", \"Topic4\", \"Topic4\"], \"Freq\": [146.0, 37.0, 97.0, 154.0, 28.0, 17.0, 29.0, 15.0, 22.0, 42.0, 37.0, 26.0, 12.0, 31.0, 11.0, 47.0, 21.0, 62.0, 24.0, 10.0, 25.0, 58.0, 9.0, 15.0, 51.0, 29.0, 24.0, 21.0, 9.0, 12.0, 21.25246810913086, 19.49011993408203, 30.9473819732666, 13.932936668395996, 14.196910858154297, 12.628418922424316, 11.276098251342773, 10.600428581237793, 10.338129997253418, 9.880590438842773, 11.999451637268066, 9.296026229858398, 9.420568466186523, 13.638297080993652, 9.2591552734375, 9.033974647521973, 8.807438850402832, 10.568446159362793, 8.641500473022461, 8.342555046081543, 8.073314666748047, 8.050579071044922, 7.378775119781494, 7.864486217498779, 6.90621280670166, 7.200802803039551, 7.123980522155762, 7.33770227432251, 6.805812358856201, 6.520732402801514, 11.358284950256348, 11.506521224975586, 11.482353210449219, 8.988752365112305, 7.628718376159668, 8.229451179504395, 142.97525024414062, 8.396740913391113, 11.637310981750488, 10.465789794921875, 43.185665130615234, 13.519457817077637, 11.787158012390137, 20.109201431274414, 20.80446434020996, 10.574732780456543, 23.310649871826172, 27.90689468383789, 42.39398193359375, 40.01359176635742, 20.33919906616211, 30.25248908996582, 35.45484161376953, 13.965519905090332, 28.037059783935547, 19.29551124572754, 24.496997833251953, 39.616512298583984, 37.27024459838867, 37.99871063232422, 15.768244743347168, 25.454084396362305, 18.704166412353516, 18.755369186401367, 25.007965087890625, 20.278898239135742, 21.480993270874023, 19.61067008972168, 23.331228256225586, 20.87360954284668, 23.072954177856445, 24.644710540771484, 22.497121810913086, 19.799083709716797, 19.77872085571289, 9.20676040649414, 3.924189567565918, 4.040416240692139, 3.9927334785461426, 3.5007307529449463, 3.775562286376953, 3.411282777786255, 3.2656211853027344, 3.2551217079162598, 3.1555333137512207, 2.944631576538086, 2.9030754566192627, 3.7622787952423096, 2.7503955364227295, 3.491093635559082, 3.8743808269500732, 2.3934829235076904, 2.401508331298828, 2.952554225921631, 3.6857211589813232, 2.4981801509857178, 2.2152230739593506, 2.203897476196289, 5.300506114959717, 2.627654790878296, 2.2197325229644775, 2.9205193519592285, 6.980976581573486, 1.9409313201904297, 2.742814779281616, 9.965813636779785, 3.935274600982666, 3.385348320007324, 5.447214603424072, 8.342841148376465, 4.075697898864746, 3.473884105682373, 3.559152364730835, 20.9132022857666, 7.159753799438477, 5.356905937194824, 11.257463455200195, 4.30387020111084, 9.870657920837402, 10.852574348449707, 7.917200088500977, 6.078758716583252, 15.184042930603027, 24.957984924316406, 6.539728164672852, 5.142990589141846, 4.644952774047852, 6.568012714385986, 7.689510345458984, 6.506058216094971, 11.585319519042969, 7.633312702178955, 13.62341594696045, 10.230854988098145, 10.450128555297852, 7.024075031280518, 8.445277214050293, 6.487201690673828, 9.462728500366211, 7.6328606605529785, 6.537199020385742, 6.127603054046631, 6.294137001037598, 6.1065144538879395, 10.982632637023926, 6.284088611602783, 4.688239574432373, 4.160633087158203, 4.028258323669434, 3.7433550357818604, 3.2275283336639404, 3.199226140975952, 3.9290285110473633, 3.076462984085083, 3.0460031032562256, 2.7888007164001465, 2.682199716567993, 3.1947033405303955, 2.7028074264526367, 2.7597815990448, 2.619269609451294, 2.8228890895843506, 2.879734754562378, 2.3619372844696045, 3.5587868690490723, 2.6839396953582764, 2.2645857334136963, 2.345048189163208, 2.3361175060272217, 4.139069080352783, 2.2601680755615234, 3.171612501144409, 2.2590389251708984, 2.1239616870880127, 7.673770904541016, 2.902688980102539, 6.301060199737549, 6.43359899520874, 5.328673362731934, 2.7880325317382812, 5.484063625335693, 96.51090240478516, 6.521238803863525, 4.987618923187256, 4.204947471618652, 3.6921372413635254, 7.32637357711792, 16.63612174987793, 8.77268123626709, 7.819712162017822, 4.900676250457764, 4.691501140594482, 13.200397491455078, 15.35069751739502, 7.04980993270874, 4.7415571212768555, 4.184053421020508, 8.617368698120117, 15.300169944763184, 14.776884078979492, 7.226242542266846, 5.887617111206055, 14.499813079833984, 7.964231491088867, 7.301764011383057, 10.635068893432617, 5.297012805938721, 6.594809532165527, 8.634804725646973, 7.540659427642822, 7.815276145935059, 8.01708698272705, 7.145593166351318, 7.8386735916137695, 6.633339881896973, 6.925841808319092, 6.442235469818115, 17.795499801635742, 4.482755184173584, 4.010155200958252, 3.524629592895508, 4.468252182006836, 3.5425515174865723, 3.6915066242218018, 3.2693538665771484, 3.2373640537261963, 3.923358201980591, 15.428269386291504, 4.5681352615356445, 3.5348639488220215, 2.486621856689453, 2.7902374267578125, 2.375088691711426, 3.7570860385894775, 5.406099319458008, 3.2639575004577637, 2.3543665409088135, 2.041196823120117, 2.110996723175049, 1.9880765676498413, 1.9557297229766846, 1.9828177690505981, 1.9230091571807861, 1.8952562808990479, 1.8914973735809326, 3.8833940029144287, 1.8295905590057373, 4.335940837860107, 11.947218894958496, 4.3546037673950195, 32.428619384765625, 23.634580612182617, 2.7249786853790283, 5.81011962890625, 3.6142477989196777, 4.903738975524902, 16.709917068481445, 3.5140998363494873, 4.296031475067139, 3.3343796730041504, 45.17438888549805, 7.722016334533691, 7.5145063400268555, 18.510160446166992, 13.801138877868652, 13.11417293548584, 8.635473251342773, 6.4308013916015625, 11.207989692687988, 19.59402084350586, 15.328329086303711, 5.063316822052002, 7.448862552642822, 10.647786140441895, 8.701562881469727, 7.77544641494751, 18.853429794311523, 9.027305603027344, 6.91333532333374, 11.803576469421387, 11.216839790344238, 8.142240524291992, 9.45910358428955, 8.958261489868164, 9.728382110595703, 8.17308235168457, 7.474682331085205, 7.698737621307373, 7.584251403808594], \"Term\": [\"q\", \"derechos\", \"si\", \"gracias\", \"violaciones\", \"nan\", \"acuerdo\", \"humanos\", \"constituci\\u00f3n\", \"d\", \"debe\", \"x\", \"constituyente\", \"@cidh\", \"jajaja\", \"dignidad\", \"comisi\\u00f3n\", \"ser\", \"siempre\", \"constitucional\", \"ddhh\", \"hoy\", \"violador\", \"proyecto\", \"gobierno\", \"parte\", \"nueva\", \"bot\", \"pensiones\", \"queda\", \"bot\", \"grave\", \"@cidh\", \"tremenda\", \"equipo\", \"ayuda\", \"pedir\", \"honor\", \"leer\", \"@thecliniccl\", \"pa\\u00edses\", \"felicitaciones\", \"d\\u00edas.\", \"#nuevaconstitucion\", \"acuerdo.\", \"#nuevaconstituci\\u00f3n\", \"8\", \"u\", \"adelante\", \"perder\", \"radio\", \"inaceptable\", \"frase\", \"regalo\", \"sangre\", \"pega\", \"amigos\", \"ninguno\", \"detenido\", \"valent\\u00eda\", \"querido\", \"graves\", \"manifestaci\\u00f3n\", \"acuerdo,\", \"2019\", \"pedimos\", \"gracias\", \"amiga\", \"amor\", \"hija\", \"dignidad\", \"7\", \"\\u00bfy\", \"lucha\", \"ojo\", \"tremendo\", \"buena\", \"plaza\", \"as\\u00ed\", \"pueblo\", \"paz\", \"mujeres\", \"c\\u00f3mo\", \"no.\", \"tan\", \"historia\", \"vida\", \"chile\", \"pi\\u00f1era\", \"solo\", \"1\", \"v\\u00eda\", \"hecho\", \"trabajo\", \"violencia\", \"d\\u00edas\", \"gran\", \"sigue\", \"gente\", \"cada\", \"hace\", \"si\", \"ser\", \"d\\u00eda\", \"hoy\", \"violador\", \"cotizaciones\", \"siento\", \"perdi\\u00f3\", \"fa\", \"hombres\", \"participar\", \"clave\", \"vista\", \"puntos\", \"dieta\", \"pensi\\u00f3n\", \"error\", \"esto?\", \"adem\\u00e1s,\", \"rebaja\", \"urgencia\", \"jorge\", \"tribunales\", \"aprob\\u00f3\", \"cuatro\", \"ac\", \"pacto\", \"carta\", \"pod\\u00eda\", \"lenguaje\", \"invitado\", \"@cooperativa\", \"elecciones\", \"1.\", \"constitucional\", \"cosas.\", \"rechazamos\", \"votos\", \"pensiones\", \"afp\", \"edad\", \"servicio\", \"acuerdo\", \"voy\", \"m\\u00ednimo\", \"proyecto\", \"#asambleaconstituyente\", \"mismo\", \"comisi\\u00f3n\", \"acusaci\\u00f3n\", \"plebiscito\", \"gobierno\", \"q\", \"da\", \"mil\", \"dm\", \"forma\", \"social\", \"seguir\", \"hoy\", \"poder\", \"si\", \"pi\\u00f1era\", \"chile\", \"abrazo\", \"v\\u00eda\", \"s\\u00f3lo\", \"ser\", \"debe\", \"nunca\", \"presidente\", \"d\", \"ahora\", \"jajaja\", \"ex\", \"mecanismo\", \"internacional\", \"texto\", \"absolutamente\", \"intenci\\u00f3n\", \"es.\", \"pi\\u00f1era.\", \"amo\", \"udi\", \"100%\", \"seguro\", \"cnn\", \"propuestas\", \"contexto\", \"pronto\", \"diciembre\", \"saqueo\", \"implica\", \"mensaje\", \"informes\", \"explicar\", \"ambos\", \"abrazo!\", \"primer\", \"opci\\u00f3n\", \"programa\", \"cerca\", \"lleva\", \"ddhh,\", \"hechos\", \"video\", \"tema\", \"participaci\\u00f3n\", \"aprobamos\", \"10\", \"q\", \"@gblumel\", \"pas\\u00f3\", \"@cnnchile\", \"cu\\u00e1l\", \"sename\", \"x\", \"queda\", \"mas\", \"agenda\", \"@inddhh\", \"parte\", \"d\", \"dice\", \"espacio\", \"grande\", \"ley\", \"hoy\", \"solo\", \"ma\\u00f1ana\", \"nna\", \"si\", \"creo\", \"nunca\", \"ser\", \"si,\", \"ah\\u00ed\", \"puede\", \"menos\", \"ahora\", \"hace\", \"va\", \"gente\", \"a\\u00f1os\", \"gobierno\", \"bien\", \"nan\", \"jajajaja\", \"verdad,\", \"gracias!!\", \"abajo\", \"humanos,\", \"cero\", \"cambios\", \"resto\", \"compromiso\", \"humanos\", \"direcci\\u00f3n\", \"fiscal\", \"volver\", \"subir\", \"totalmente\", \"semanas\", \"gracias!\", \"mes\", \"link\", \"gracias!!!\", \"encuentro\", \"quede\", \"f\\u00e1cil\", \"saca\", \"darle\", \"pidiendo\", \"andr\\u00e9s\", \"#platatat\\u00e1\", \"capaces\", \"salida\", \"constituyente\", \"s\\u00ed,\", \"derechos\", \"violaciones\", \"lograr\", \"humanos.\", \"posibilidad\", \"pueblos\", \"constituci\\u00f3n\", \"cierto\", \"pinochet\", \"convenci\\u00f3n\", \"si\", \"importante\", \"proceso\", \"debe\", \"ddhh\", \"siempre\", \"ni\\u00f1as\", \"sl2\", \"nueva\", \"ser\", \"d\", \"impunidad\", \"tener\", \"carabineros\", \"hacer\", \"ni\\u00f1os\", \"q\", \"personas\", \"sido\", \"hoy\", \"gobierno\", \"todas\", \"puede\", \"violencia\", \"chile\", \"ahora\", \"vez\", \"cada\", \"muchas\"], \"Total\": [146.0, 37.0, 97.0, 154.0, 28.0, 17.0, 29.0, 15.0, 22.0, 42.0, 37.0, 26.0, 12.0, 31.0, 11.0, 47.0, 21.0, 62.0, 24.0, 10.0, 25.0, 58.0, 9.0, 15.0, 51.0, 29.0, 24.0, 21.0, 9.0, 12.0, 21.299102783203125, 19.541444778442383, 31.033527374267578, 13.980981826782227, 14.251652717590332, 12.67783260345459, 11.324888229370117, 10.648238182067871, 10.387014389038086, 9.92824935913086, 12.059267044067383, 9.343060493469238, 9.46861457824707, 13.708915710449219, 9.307214736938477, 9.082048416137695, 8.855490684509277, 10.6273193359375, 8.690327644348145, 8.390661239624023, 8.12173080444336, 8.102326393127441, 7.426943778991699, 7.9170660972595215, 6.953102111816406, 7.249715805053711, 7.172685146331787, 7.389547824859619, 6.854766845703125, 6.567923069000244, 11.4410982131958, 11.595002174377441, 11.5750732421875, 9.06269359588623, 7.684931755065918, 8.29831600189209, 154.02911376953125, 8.475565910339355, 11.891489028930664, 10.653532981872559, 47.31991958618164, 13.997025489807129, 12.122641563415527, 21.48611831665039, 22.701656341552734, 10.877191543579102, 26.581178665161133, 34.114990234375, 55.910736083984375, 52.212799072265625, 23.82709503173828, 39.546268463134766, 48.56291198730469, 15.273497581481934, 37.42698287963867, 23.29694938659668, 32.1630859375, 63.670169830322266, 58.804508209228516, 60.51513671875, 18.20905303955078, 36.651920318603516, 23.511028289794922, 23.873470306396484, 37.96835708618164, 27.77916717529297, 30.6513614654541, 28.361339569091797, 41.25479507446289, 33.378700256347656, 42.07093811035156, 97.94232940673828, 62.18893814086914, 35.69438934326172, 58.46778869628906, 9.345917701721191, 4.008054733276367, 4.126871585845947, 4.08208703994751, 3.5845680236816406, 3.8673152923583984, 3.495954990386963, 3.3517768383026123, 3.34137225151062, 3.241899251937866, 3.0266311168670654, 2.9862308502197266, 3.8722169399261475, 2.8337295055389404, 3.5971829891204834, 4.001158237457275, 2.4763448238372803, 2.4855597019195557, 3.0563554763793945, 3.8169302940368652, 2.5896918773651123, 2.2979962825775146, 2.286259889602661, 5.50607442855835, 2.7310550212860107, 2.308699607849121, 3.0411252975463867, 7.278122901916504, 2.0239970684051514, 2.860684871673584, 10.479830741882324, 4.145242214202881, 3.557356357574463, 5.8177595138549805, 9.181577682495117, 4.334478378295898, 3.713393449783325, 3.816803455352783, 29.162553787231445, 8.545955657958984, 6.130746841430664, 15.65091609954834, 5.187390327453613, 17.31494903564453, 21.489107131958008, 14.305777549743652, 9.859644889831543, 51.8194465637207, 146.51727294921875, 12.256731033325195, 7.858842849731445, 6.416783332824707, 13.019503593444824, 18.34292984008789, 13.101405143737793, 58.46778869628906, 21.602025985717773, 97.94232940673828, 58.804508209228516, 63.670169830322266, 20.97661781311035, 36.651920318603516, 17.097835540771484, 62.18893814086914, 37.04988098144531, 20.054243087768555, 26.349557876586914, 42.001434326171875, 35.99211883544922, 11.123282432556152, 6.382862567901611, 4.775983810424805, 4.246917724609375, 4.1179633140563965, 3.828817367553711, 3.3101625442504883, 3.2847704887390137, 4.040158748626709, 3.165269136428833, 3.1361756324768066, 2.872429132461548, 2.765726089477539, 3.2944986820220947, 2.7879621982574463, 2.851055145263672, 2.7060506343841553, 2.9184558391571045, 2.979748249053955, 2.4475152492523193, 3.6879124641418457, 2.7814159393310547, 2.3477842807769775, 2.431271553039551, 2.4221980571746826, 4.297983169555664, 2.3475327491760254, 3.294570207595825, 2.3476030826568604, 2.20814847946167, 8.007781982421875, 3.020641326904297, 6.719838619232178, 6.9199910163879395, 5.6926679611206055, 2.919019937515259, 6.06696891784668, 146.51727294921875, 7.4811906814575195, 5.548391342163086, 4.612555027008057, 4.030261516571045, 9.442614555358887, 26.42925262451172, 12.171566009521484, 11.325420379638672, 6.2173638343811035, 5.891613960266113, 29.325332641601562, 42.001434326171875, 12.071342468261719, 6.390083312988281, 5.174548625946045, 18.606101989746094, 58.46778869628906, 60.51513671875, 15.020411491394043, 10.135214805603027, 97.94232940673828, 25.067354202270508, 20.054243087768555, 62.18893814086914, 8.577798843383789, 16.36545753479004, 42.026954650878906, 28.24896812438965, 35.99211883544922, 42.07093811035156, 25.967363357543945, 41.25479507446289, 26.36745262145996, 51.8194465637207, 30.703975677490234, 17.883638381958008, 4.568556308746338, 4.099410057067871, 3.6097159385681152, 4.580427646636963, 3.6328656673431396, 3.7867794036865234, 3.3559224605560303, 3.3262526988983154, 4.047726154327393, 15.92023754119873, 4.7289557456970215, 3.6609365940093994, 2.575993776321411, 2.891268014907837, 2.462008237838745, 3.8976285457611084, 5.616433620452881, 3.3965866565704346, 2.4513351917266846, 2.1267645359039307, 2.2005748748779297, 2.0776216983795166, 2.0450565814971924, 2.073687791824341, 2.0132837295532227, 1.9843931198120117, 1.981805443763733, 4.069161891937256, 1.91811203956604, 4.5728068351745605, 12.891423225402832, 4.611246109008789, 37.4920654296875, 28.339723587036133, 2.902214527130127, 6.5257062911987305, 3.9350831508636475, 5.537800312042236, 22.05746078491211, 3.8559672832489014, 4.874975204467773, 3.7046310901641846, 97.94232940673828, 10.609884262084961, 10.323678016662598, 37.04988098144531, 25.946460723876953, 24.55137825012207, 13.575722694396973, 9.183420181274414, 24.093284606933594, 62.18893814086914, 42.001434326171875, 6.667912006378174, 14.728450775146484, 31.691482543945312, 20.993209838867188, 17.098573684692383, 146.51727294921875, 28.22157859802246, 14.691805839538574, 58.46778869628906, 51.8194465637207, 23.88151741027832, 42.026954650878906, 37.96835708618164, 63.670169830322266, 35.99211883544922, 22.80060386657715, 33.378700256347656, 27.983078002929688], \"loglift\": [30.0, 29.0, 28.0, 27.0, 26.0, 25.0, 24.0, 23.0, 22.0, 21.0, 20.0, 19.0, 18.0, 17.0, 16.0, 15.0, 14.0, 13.0, 12.0, 11.0, 10.0, 9.0, 8.0, 7.0, 6.0, 5.0, 4.0, 3.0, 2.0, 1.0, 0.6995999813079834, 0.6991999745368958, 0.6990000009536743, 0.6983000040054321, 0.6978999972343445, 0.6978999972343445, 0.6974999904632568, 0.6973000168800354, 0.6970999836921692, 0.6970000267028809, 0.6967999935150146, 0.6966999769210815, 0.6966999769210815, 0.6966000199317932, 0.6966000199317932, 0.6965000033378601, 0.6963000297546387, 0.6962000131607056, 0.6960999965667725, 0.6959999799728394, 0.6958000063896179, 0.6953999996185303, 0.6952999830245972, 0.6951000094413757, 0.6949999928474426, 0.6949999928474426, 0.6949999928474426, 0.6947000026702881, 0.694599986076355, 0.694599986076355, 0.6945000290870667, 0.694100022315979, 0.6937000155448914, 0.6935999989509583, 0.6944000124931335, 0.6934999823570251, 0.6273000240325928, 0.6923999786376953, 0.6801999807357788, 0.6840000152587891, 0.6104000210762024, 0.6671000123023987, 0.6736999750137329, 0.6355999708175659, 0.6144999861717224, 0.6736000180244446, 0.5705000162124634, 0.5008999705314636, 0.42500001192092896, 0.435699999332428, 0.5435000061988831, 0.43389999866485596, 0.3871999979019165, 0.6122999787330627, 0.41290000081062317, 0.5133000016212463, 0.429500013589859, 0.2273000031709671, 0.24580000340938568, 0.23639999330043793, 0.5579000115394592, 0.33719998598098755, 0.4731000065803528, 0.46050000190734863, 0.2842000126838684, 0.3871000111103058, 0.34630000591278076, 0.3328000009059906, 0.13179999589920044, 0.23240000009536743, 0.10109999775886536, -0.6779999732971191, -0.3149999976158142, 0.11240000277757645, -0.382099986076355, 1.76010000705719, 1.7539000511169434, 1.7539000511169434, 1.7529000043869019, 1.7513999938964844, 1.751099944114685, 1.750599980354309, 1.7489999532699585, 1.748900055885315, 1.7481000423431396, 1.7475999593734741, 1.7467999458312988, 1.7462999820709229, 1.7452000379562378, 1.7451000213623047, 1.742900013923645, 1.7410000562667847, 1.7407000064849854, 1.7404999732971191, 1.7401000261306763, 1.7390999794006348, 1.7383999824523926, 1.7383999824523926, 1.7369999885559082, 1.7365000247955322, 1.73580002784729, 1.7345999479293823, 1.7333999872207642, 1.733199954032898, 1.7330000400543213, 1.7247999906539917, 1.723099946975708, 1.7254999876022339, 1.7093000411987305, 1.6792999505996704, 1.7135000228881836, 1.708400011062622, 1.705199956893921, 1.4426000118255615, 1.598099946975708, 1.6401000022888184, 1.4456000328063965, 1.5884000062942505, 1.2130999565124512, 1.0918999910354614, 1.183500051498413, 1.2913999557495117, 0.5475999712944031, 0.005100000184029341, 1.1469000577926636, 1.351099967956543, 1.4519000053405762, 1.0908000469207764, 0.9057000279426575, 1.0750999450683594, 0.15629999339580536, 0.7347999811172485, -0.19750000536441803, 0.02630000002682209, -0.03200000151991844, 0.6809999942779541, 0.30720001459121704, 0.8059999942779541, -0.10769999772310257, 0.19529999792575836, 0.6541000008583069, 0.3163999915122986, -0.12300000339746475, 0.0010999999940395355, 1.7666000127792358, 1.763800024986267, 1.7608000040054321, 1.7588000297546387, 1.7573000192642212, 1.7568000555038452, 1.75409996509552, 1.753000020980835, 1.7515000104904175, 1.7509000301361084, 1.7502000331878662, 1.7497999668121338, 1.7487000226974487, 1.7486000061035156, 1.7482999563217163, 1.7467999458312988, 1.7467999458312988, 1.7460999488830566, 1.7452000379562378, 1.7438000440597534, 1.7437000274658203, 1.7437000274658203, 1.743299961090088, 1.7431999444961548, 1.7431999444961548, 1.7417000532150269, 1.7414000034332275, 1.7412999868392944, 1.7409000396728516, 1.7404999732971191, 1.736799955368042, 1.7395000457763672, 1.715000033378601, 1.7065000534057617, 1.7132999897003174, 1.7333999872207642, 1.6783000230789185, 1.361899971961975, 1.6419999599456787, 1.6727999448776245, 1.6868000030517578, 1.6916999816894531, 1.5255999565124512, 1.316499948501587, 1.4519000053405762, 1.409000039100647, 1.5413999557495117, 1.5515999794006348, 0.9811999797821045, 0.7728000283241272, 1.2415000200271606, 1.4809999465942383, 1.5669000148773193, 1.009600043296814, 0.43869999051094055, 0.3695000112056732, 1.047700047492981, 1.236199975013733, -0.13089999556541443, 0.6327999830245972, 0.7689999938011169, 0.013299999758601189, 1.2972999811172485, 0.8705000281333923, 0.19679999351501465, 0.4586000144481659, 0.25209999084472656, 0.12160000205039978, 0.48899999260902405, 0.11869999766349792, 0.3993000090122223, -0.23309999704360962, 0.21780000627040863, 1.7903000116348267, 1.7762999534606934, 1.773300051689148, 1.771399974822998, 1.7704999446868896, 1.7700999975204468, 1.7697999477386475, 1.7690999507904053, 1.7682000398635864, 1.7640999555587769, 1.7639000415802002, 1.760699987411499, 1.760200023651123, 1.7599999904632568, 1.7596999406814575, 1.7592999935150146, 1.7584999799728394, 1.757099986076355, 1.7553999423980713, 1.7548999786376953, 1.7541999816894531, 1.7537000179290771, 1.7511999607086182, 1.750599980354309, 1.750499963760376, 1.749400019645691, 1.7493000030517578, 1.7486000061035156, 1.7484999895095825, 1.7480000257492065, 1.7421000003814697, 1.7192000150680542, 1.7380000352859497, 1.6502000093460083, 1.613700032234192, 1.732300043106079, 1.6791000366210938, 1.7101999521255493, 1.673699975013733, 1.5176000595092773, 1.7023999691009521, 1.6687999963760376, 1.690000057220459, 1.021399974822998, 1.4775999784469604, 1.4776999950408936, 1.1013000011444092, 1.1640000343322754, 1.1682000160217285, 1.342900037765503, 1.4390000104904175, 1.0299999713897705, 0.6402999758720398, 0.7872999906539917, 1.5199999809265137, 1.1136000156402588, 0.7045999765396118, 0.9146000146865845, 1.007200002670288, -0.25519999861717224, 0.6553999781608582, 1.0413999557495117, 0.19519999623298645, 0.26489999890327454, 0.7192000150680542, 0.30390000343322754, 0.35109999775886536, -0.08340000361204147, 0.31279999017715454, 0.6800000071525574, 0.32839998602867126, 0.48969998955726624], \"logprob\": [30.0, 29.0, 28.0, 27.0, 26.0, 25.0, 24.0, 23.0, 22.0, 21.0, 20.0, 19.0, 18.0, 17.0, 16.0, 15.0, 14.0, 13.0, 12.0, 11.0, 10.0, 9.0, 8.0, 7.0, 6.0, 5.0, 4.0, 3.0, 2.0, 1.0, -6.3165998458862305, -6.403200149536133, -5.940800189971924, -6.738800048828125, -6.720099925994873, -6.837100028991699, -6.950399875640869, -7.012199878692627, -7.037300109863281, -7.082499980926514, -6.888199806213379, -7.143499851226807, -7.130199909210205, -6.760200023651123, -7.147500038146973, -7.172100067138672, -7.197500228881836, -7.015200138092041, -7.2164998054504395, -7.251699924468994, -7.2845001220703125, -7.287300109863281, -7.374499797821045, -7.310699939727783, -7.440700054168701, -7.398900032043457, -7.409599781036377, -7.380099773406982, -7.4552998542785645, -7.4980998039245605, -6.9430999755859375, -6.930200099945068, -6.932300090789795, -7.17710018157959, -7.34119987487793, -7.265399932861328, -4.410399913787842, -7.245200157165527, -6.918900012969971, -7.025000095367432, -5.607600212097168, -6.769000053405762, -6.906099796295166, -6.3719000816345215, -6.337900161743164, -7.014599800109863, -6.2241997718811035, -6.0441999435424805, -5.626100063323975, -5.683899879455566, -6.360499858856201, -5.963500022888184, -5.804800033569336, -6.736499786376953, -6.039599895477295, -6.4131999015808105, -6.174499988555908, -5.69379997253418, -5.754899978637695, -5.735499858856201, -6.615099906921387, -6.136199951171875, -6.444300174713135, -6.4415998458862305, -6.153900146484375, -6.363500118255615, -6.3059000968933105, -6.396999835968018, -6.223299980163574, -6.33459997177124, -6.234399795532227, -6.168499946594238, -6.259699821472168, -6.387499809265137, -6.388500213623047, -6.079899787902832, -6.932600021362305, -6.90339994430542, -6.915299892425537, -7.046800136566162, -6.971199989318848, -7.072700023651123, -7.116300106048584, -7.11959981918335, -7.150599956512451, -7.219799995422363, -7.234000205993652, -6.974800109863281, -7.288099765777588, -7.049600124359131, -6.945400238037109, -7.427000045776367, -7.423699855804443, -7.217100143432617, -6.995299816131592, -7.384200096130371, -7.50439977645874, -7.5096001625061035, -6.631999969482422, -7.333700180053711, -7.502399921417236, -7.228000164031982, -6.356599807739258, -7.636600017547607, -7.290800094604492, -6.0005998611450195, -6.929800033569336, -7.0802998542785645, -6.604700088500977, -6.178400039672852, -6.894800186157227, -7.054500102996826, -7.030300140380859, -5.259399890899658, -6.331299781799316, -6.621399879455566, -5.878799915313721, -6.8403000831604, -6.010200023651123, -5.91540002822876, -6.230800151824951, -6.494999885559082, -5.579599857330322, -5.082600116729736, -6.421899795532227, -6.662199974060059, -6.763999938964844, -6.417600154876709, -6.259900093078613, -6.42710018157959, -5.850100040435791, -6.267300128936768, -5.688000202178955, -5.974400043487549, -5.953199863433838, -6.350500106811523, -6.166200160980225, -6.429999828338623, -6.0524001121521, -6.267300128936768, -6.422299861907959, -6.486999988555908, -6.46019983291626, -6.4903998374938965, -5.899199962615967, -6.457499980926514, -6.750500202178955, -6.869800090789795, -6.902200222015381, -6.975500106811523, -7.123799800872803, -7.132599830627441, -6.92710018157959, -7.1717000007629395, -7.181700229644775, -7.269899845123291, -7.308899879455566, -7.133999824523926, -7.301199913024902, -7.280399799346924, -7.332600116729736, -7.257800102233887, -7.237800121307373, -7.435999870300293, -7.026100158691406, -7.308199882507324, -7.478099822998047, -7.44320011138916, -7.447000026702881, -6.875, -7.480100154876709, -7.141300201416016, -7.480599880218506, -7.542200088500977, -6.257699966430664, -7.229899883270264, -6.454800128936768, -6.434000015258789, -6.622399806976318, -7.270199775695801, -6.593699932098389, -3.7258999347686768, -6.420499801635742, -6.688600063323975, -6.859300136566162, -6.989299774169922, -6.303999900817871, -5.48390007019043, -6.123899936676025, -6.238900184631348, -6.706099987030029, -6.749800205230713, -5.7153000831604, -5.5644001960754395, -6.34250020980835, -6.739200115203857, -6.864200115203857, -6.14169979095459, -5.567699909210205, -5.602499961853027, -6.317800045013428, -6.52269983291626, -5.621399879455566, -6.220600128173828, -6.307400226593018, -5.931399822235107, -6.628399848937988, -6.409200191497803, -6.139699935913086, -6.275199890136719, -6.2393999099731445, -6.213900089263916, -6.328999996185303, -6.236400127410889, -6.40339994430542, -6.360300064086914, -6.432600021362305, -5.400700092315674, -6.779399871826172, -6.8907999992370605, -7.019800186157227, -6.782599925994873, -7.014800071716309, -6.973599910736084, -7.09499979019165, -7.104800224304199, -6.912700176239014, -5.543399810791016, -6.760499954223633, -7.016900062561035, -7.36870002746582, -7.253499984741211, -7.414599895477295, -6.955999851226807, -6.592100143432617, -7.096700191497803, -7.423299789428711, -7.566100120544434, -7.532400131225586, -7.592400074005127, -7.608799934387207, -7.595099925994873, -7.625699996948242, -7.640200138092041, -7.642199993133545, -6.922900199890137, -7.67549991607666, -6.812699794769287, -5.799099922180176, -6.8084001541137695, -4.800600051879883, -5.1168999671936035, -7.277100086212158, -6.519999980926514, -6.994699954986572, -6.689599990844727, -5.463600158691406, -7.022799968719482, -6.821899890899658, -7.075300216674805, -4.469099998474121, -6.235499858856201, -6.262800216674805, -5.361299991607666, -5.654900074005127, -5.705900192260742, -6.123700141906738, -6.418499946594238, -5.86299991607666, -5.3043999671936035, -5.549900054931641, -6.657599925994873, -6.271500110626221, -5.914299964904785, -6.116099834442139, -6.228600025177002, -5.342899799346924, -6.0792999267578125, -6.346199989318848, -5.811200141906738, -5.862199783325195, -6.182499885559082, -6.032599925994873, -6.086999893188477, -6.0046000480651855, -6.178800106048584, -6.268099784851074, -6.238500118255615, -6.253499984741211]}, \"token.table\": {\"Topic\": [2, 3, 1, 1, 4, 1, 2, 2, 3, 3, 1, 1, 1, 1, 3, 2, 2, 3, 3, 4, 1, 4, 1, 2, 3, 3, 3, 2, 1, 2, 3, 4, 1, 1, 1, 2, 3, 4, 1, 2, 2, 3, 4, 1, 2, 3, 4, 1, 2, 3, 4, 3, 1, 1, 3, 1, 4, 3, 2, 1, 2, 3, 4, 1, 1, 2, 3, 4, 1, 2, 3, 4, 1, 1, 2, 3, 4, 1, 2, 3, 4, 4, 4, 1, 3, 4, 2, 3, 4, 1, 2, 3, 4, 4, 2, 3, 1, 2, 4, 2, 3, 4, 1, 4, 3, 4, 2, 2, 1, 2, 3, 4, 2, 3, 1, 2, 3, 4, 1, 2, 3, 4, 1, 2, 3, 4, 4, 1, 2, 3, 4, 3, 1, 2, 3, 4, 1, 4, 1, 1, 2, 3, 4, 3, 2, 1, 4, 4, 2, 4, 1, 2, 3, 4, 1, 2, 3, 4, 1, 2, 2, 4, 1, 2, 3, 1, 2, 3, 2, 3, 3, 2, 1, 4, 1, 2, 3, 4, 1, 4, 1, 2, 3, 4, 1, 2, 3, 4, 1, 3, 4, 4, 4, 4, 1, 2, 3, 4, 3, 4, 1, 1, 1, 2, 3, 4, 1, 2, 3, 4, 1, 2, 3, 4, 3, 1, 1, 2, 3, 4, 2, 1, 1, 2, 3, 4, 4, 4, 1, 4, 3, 2, 3, 4, 2, 3, 4, 1, 3, 3, 3, 2, 3, 4, 2, 1, 2, 1, 2, 3, 4, 4, 3, 4, 1, 3, 4, 1, 1, 2, 3, 1, 2, 3, 4, 3, 1, 2, 3, 4, 3, 4, 2, 4, 1, 2, 3, 4, 1, 3, 4, 1, 2, 3, 4, 2, 4, 4, 1, 1, 3, 4, 1, 3, 4, 1, 3, 4, 1, 3, 4, 1, 2, 3, 4, 1, 2, 3, 4, 1, 3, 3, 2, 1, 2, 3, 4, 3, 2, 3, 1, 3, 4, 1, 1, 1, 1, 2, 2, 1, 2, 1, 2, 3, 4, 4, 4, 1, 2, 3, 4, 3, 1, 4, 2, 3, 4, 1, 2, 4, 2, 4, 1, 2, 3, 4, 3, 2, 4, 3, 3, 3, 1, 2, 3, 4, 1, 2, 3, 4, 3, 4, 1, 2, 3, 4, 2, 1, 2, 3, 4, 1, 2, 3, 4, 1, 1, 2, 2, 1, 4, 4, 4, 1, 3, 1, 2, 3, 4, 3, 4, 1, 3, 4, 1, 2, 3, 4, 2, 1, 2, 3, 4, 1, 2, 3, 1, 3, 4, 1, 2, 3, 4, 2, 1, 2, 3, 4, 3, 4, 1, 2, 3, 4, 1, 2, 3, 4, 4, 4, 1, 2, 3, 4, 1, 2, 3, 4, 3, 1, 2, 3, 4, 3, 1, 2, 3, 4, 4, 1, 3, 4, 1, 1, 2, 1, 3, 2, 1, 2, 3, 4, 1, 4, 1, 2, 3, 4, 1, 2, 3, 4, 3, 2, 3, 4, 2, 1, 2, 3, 4, 2, 4, 2, 1, 2, 4, 1, 2, 3, 4, 1, 2, 3, 4, 1], \"Freq\": [0.771100640296936, 0.192775160074234, 1.0212332010269165, 0.9909658432006836, 0.9830033779144287, 0.8786838054656982, 0.10983547568321228, 1.048699975013733, 0.8241347670555115, 1.0444121360778809, 1.0409982204437256, 1.000212550163269, 1.0163185596466064, 0.998919665813446, 0.8671983480453491, 0.9617864489555359, 0.13366855680942535, 0.9356799125671387, 0.848663866519928, 0.16973277926445007, 1.0072269439697266, 0.8732808828353882, 0.6197376847267151, 0.3337048888206482, 0.047672126442193985, 0.8256962895393372, 1.0447089672088623, 0.8703234195709229, 0.03429054841399193, 0.720101535320282, 0.20574329793453217, 0.06858109682798386, 0.9930822253227234, 0.9669917821884155, 0.20970548689365387, 0.5592146515846252, 0.1398036628961563, 0.1398036628961563, 1.035634160041809, 0.8339859247207642, 0.9228330850601196, 0.8041993379592896, 0.16083987057209015, 0.38897404074668884, 0.16670316457748413, 0.2222708761692047, 0.2222708761692047, 0.3666258752346039, 0.06110430881381035, 0.42773017287254333, 0.18331293761730194, 0.8226147890090942, 0.9438897967338562, 0.9759246110916138, 0.9477866888046265, 1.0091251134872437, 1.0091807842254639, 1.0277422666549683, 1.0479625463485718, 0.7511973977088928, 0.01788565330207348, 0.10731391608715057, 0.10731391608715057, 1.02541184425354, 0.4551065266132355, 0.1517021805047989, 0.26547881960868835, 0.1517021805047989, 0.5536742210388184, 0.09770721942186356, 0.1954144388437271, 0.13027629256248474, 0.9859570264816284, 0.8652738928794861, 0.037620604038238525, 0.037620604038238525, 0.037620604038238525, 0.6291437149047852, 0.0898776724934578, 0.05991845205426216, 0.23967380821704865, 0.8939419984817505, 1.042691946029663, 0.5048674941062927, 0.12621687352657318, 0.34709641337394714, 0.908087968826294, 0.8519327640533447, 1.0563066005706787, 0.6282376646995544, 0.1570594161748886, 0.06282376497983932, 0.1570594161748886, 1.0373531579971313, 0.895047664642334, 0.9106089472770691, 0.46535205841064453, 0.51188725233078, 0.9882091283798218, 0.9542138576507568, 0.2266806662082672, 0.770714282989502, 0.07757095247507095, 0.9308514595031738, 1.0522420406341553, 0.8097972273826599, 0.9649617075920105, 0.9979903697967529, 0.47871026396751404, 0.11967756599187851, 0.3191401958465576, 0.11967756599187851, 0.7722926735877991, 0.9924914240837097, 0.7207146286964417, 0.06177553907036781, 0.12355107814073563, 0.08236738294363022, 0.11904355138540268, 0.14285226166248322, 0.35713064670562744, 0.35713064670562744, 0.16317564249038696, 0.5711147785186768, 0.16317564249038696, 0.08158782124519348, 0.9934019446372986, 0.19270451366901398, 0.11562270671129227, 0.15416361391544342, 0.5395726561546326, 0.999028205871582, 0.18893447518348694, 0.21592512726783752, 0.10796256363391876, 0.512822151184082, 0.1333615481853485, 0.8535139560699463, 1.02118718624115, 0.1656816601753235, 0.08284083008766174, 0.5798857808113098, 0.1656816601753235, 1.0279408693313599, 0.9912010431289673, 0.9087082147598267, 0.08453099429607391, 1.0573158264160156, 0.7792066335678101, 0.31168264150619507, 0.5603121519088745, 0.14007803797721863, 0.14007803797721863, 0.16809365153312683, 0.7199639678001404, 0.07199639827013016, 0.07199639827013016, 0.14399279654026031, 0.9505086541175842, 0.8078863620758057, 0.9881437420845032, 0.9088534116744995, 0.9823421835899353, 1.0329999923706055, 0.9133058190345764, 0.15649248659610748, 0.15649248659610748, 0.7824624180793762, 1.0586755275726318, 0.9400171041488647, 0.8518670201301575, 1.1158945560455322, 0.9632818102836609, 1.0926165580749512, 0.23042352497577667, 0.5376549363136292, 0.23042352497577667, 0.07680784165859222, 0.942514181137085, 0.9779680371284485, 0.5575109720230103, 0.07271882146596909, 0.19391685724258423, 0.1696772426366806, 0.34735995531082153, 0.28946661949157715, 0.13508442044258118, 0.21227551996707916, 0.9283959269523621, 0.03246139734983444, 0.03246139734983444, 0.8902446627616882, 1.1081204414367676, 0.9403955936431885, 0.6851245164871216, 0.09787493199110031, 0.1304999142885208, 0.0652499571442604, 0.7730143070220947, 0.19325357675552368, 0.9722924828529358, 1.0349286794662476, 0.5466956496238708, 0.0950775071978569, 0.1901550143957138, 0.16638563573360443, 0.19053779542446136, 0.19053779542446136, 0.19053779542446136, 0.42871004343032837, 0.8081313967704773, 0.08506646007299423, 0.08506646007299423, 0.08506646007299423, 0.9931665658950806, 0.9386557340621948, 0.8155574202537537, 0.042924076318740845, 0.08584815263748169, 0.042924076318740845, 1.0343092679977417, 1.0330348014831543, 0.34206870198249817, 0.20524121820926666, 0.25655150413513184, 0.20524121820926666, 0.9421970248222351, 1.1010591983795166, 0.1532401144504547, 0.9194406867027283, 0.8171553015708923, 0.09425173699855804, 0.09425173699855804, 0.7540138959884644, 0.14997199177742004, 0.14997199177742004, 0.7498599290847778, 0.9873707294464111, 1.078587293624878, 0.906299889087677, 0.9418595433235168, 0.9864769577980042, 0.9889166951179504, 0.8755500912666321, 0.8046477437019348, 0.9627405405044556, 0.8662885427474976, 0.161237433552742, 0.2149832397699356, 0.4837122857570648, 0.2149832397699356, 0.8158819079399109, 0.9057362079620361, 1.0336934328079224, 0.9308335781097412, 0.04654167965054512, 0.04654167965054512, 0.9503179788589478, 0.17659388482570648, 0.08829694241285324, 0.7063755393028259, 0.19972822070121765, 0.13315214216709137, 0.4660325050354004, 0.19972822070121765, 1.0469046831130981, 0.4955933094024658, 0.14159809052944183, 0.28319618105888367, 0.10619857162237167, 1.0846244096755981, 0.8832396268844604, 0.6362259984016418, 0.2544904053211212, 0.17326068878173828, 0.5775356292724609, 0.057753562927246094, 0.23101425170898438, 0.6789817810058594, 0.07147176563739777, 0.28588706254959106, 0.7586050629615784, 0.12643417716026306, 0.025286836549639702, 0.10114734619855881, 0.8155612945556641, 0.16311226785182953, 1.0065065622329712, 0.947283923625946, 0.14732180535793304, 0.22098271548748016, 0.6629481315612793, 0.2924220561981201, 0.23393763601779938, 0.46787527203559875, 0.09866589307785034, 0.591995358467102, 0.295997679233551, 0.9166204333305359, 0.06547288596630096, 0.06547288596630096, 0.12451602518558502, 0.16602136194705963, 0.24903205037117004, 0.4565587639808655, 0.0498647578060627, 0.3490533232688904, 0.3490533232688904, 0.2991885542869568, 0.9250426292419434, 0.04404965043067932, 0.8519582748413086, 0.8747912049293518, 0.2387014627456665, 0.2046012580394745, 0.443302720785141, 0.13640083372592926, 0.8783227801322937, 0.8581346273422241, 0.9011620879173279, 0.8393805623054504, 0.04196902737021446, 0.1259070783853531, 0.9950853586196899, 0.9640510082244873, 0.9713119864463806, 0.9655550718307495, 0.8713099360466003, 1.0046108961105347, 0.9534409642219543, 0.9798909425735474, 0.4960743188858032, 0.10630163550376892, 0.07086775451898575, 0.31890490651130676, 1.0078648328781128, 0.8205170035362244, 0.6292034387588501, 0.17005498707294464, 0.0680219978094101, 0.11903849244117737, 0.9900600910186768, 0.8207535743713379, 0.17587576806545258, 0.6085411906242371, 0.20284706354141235, 0.20284706354141235, 0.3703356385231018, 0.3703356385231018, 0.27775171399116516, 1.098476529121399, 1.0164968967437744, 0.531318187713623, 0.22770780324935913, 0.07590260356664658, 0.18975649774074554, 0.9306690692901611, 0.29059410095214844, 0.7749176025390625, 0.9105891585350037, 1.1086267232894897, 1.0760548114776611, 0.19168207049369812, 0.7028342485427856, 0.06389402598142624, 0.06389402598142624, 0.7660956978797913, 0.057457175105810165, 0.038304783403873444, 0.13406674563884735, 0.1805771142244339, 0.9028855562210083, 0.4282965660095215, 0.14276552200317383, 0.21414828300476074, 0.21414828300476074, 0.925383448600769, 0.04095080494880676, 0.17062833905220032, 0.6620379686355591, 0.12967754900455475, 0.16431739926338196, 0.08215869963169098, 0.7394282817840576, 0.9626391530036926, 0.9614461660385132, 0.9850116968154907, 0.9997105002403259, 0.8433228731155396, 1.0104752779006958, 0.9019158482551575, 0.964465320110321, 0.8747362494468689, 1.0067448616027832, 1.0067964792251587, 0.15265537798404694, 0.5342938303947449, 0.15265537798404694, 0.15265537798404694, 1.0847060680389404, 1.026265025138855, 0.10590287297964096, 0.7413201332092285, 0.10590287297964096, 0.35376065969467163, 0.14472027122974396, 0.17688032984733582, 0.32160061597824097, 1.0479973554611206, 0.25525224208831787, 0.14294126629829407, 0.14294126629829407, 0.4594540596008301, 0.23316004872322083, 0.11658002436161041, 0.5829001069068909, 0.13613030314445496, 0.3403257727622986, 0.47645607590675354, 0.36657819151878357, 0.04073091223835945, 0.04073091223835945, 0.5295018553733826, 0.9692571759223938, 0.7051852941513062, 0.1057777926325798, 0.1057777926325798, 0.07051853090524673, 0.326675683259964, 0.653351366519928, 0.10903383791446686, 0.43613535165786743, 0.3271014988422394, 0.10903383791446686, 0.6279420852661133, 0.033049583435058594, 0.24787187576293945, 0.09914875030517578, 1.0376070737838745, 0.8674444556236267, 0.2339477390050888, 0.3509216010570526, 0.1169738695025444, 0.2924346625804901, 0.7481233477592468, 0.053437381982803345, 0.08015607297420502, 0.10687476396560669, 0.8670531511306763, 0.1357915997505188, 0.2036874145269394, 0.1357915997505188, 0.4752706289291382, 0.9713539481163025, 0.46060726046562195, 0.1674935519695282, 0.04187338799238205, 0.3349871039390564, 0.8123449683189392, 0.7958624958992004, 0.04188749939203262, 0.12566250562667847, 1.001360297203064, 1.011290431022644, 0.9815612435340881, 1.035068154335022, 0.9565790891647339, 0.8076419830322266, 0.3465889096260071, 0.231059268116951, 0.26956915855407715, 0.15403951704502106, 1.0657858848571777, 0.9757501482963562, 0.4385848641395569, 0.0877169743180275, 0.175433948636055, 0.30700939893722534, 0.7461970448493958, 0.062183089554309845, 0.062183089554309845, 0.12436617910861969, 0.8928785920143127, 0.10585847496986389, 0.07057231664657593, 0.8468677997589111, 0.9629873037338257, 0.658443033695221, 0.0790131613612175, 0.026337720453739166, 0.2370394915342331, 0.8978347182273865, 0.7763993740081787, 0.8594374060630798, 0.11701441556215286, 0.8191009163856506, 0.11701441556215286, 0.6820924878120422, 0.21826960146427155, 0.054567400366067886, 0.027283700183033943, 0.03783686086535454, 0.11351058632135391, 0.643226683139801, 0.22702117264270782, 0.9898832440376282], \"Term\": [\"#asambleaconstituyente\", \"#asambleaconstituyente\", \"#nuevaconstitucion\", \"#nuevaconstituci\\u00f3n\", \"#platatat\\u00e1\", \"1\", \"1\", \"1.\", \"10\", \"100%\", \"2019\", \"7\", \"8\", \"@cidh\", \"@cnnchile\", \"@cooperativa\", \"@gblumel\", \"@gblumel\", \"@inddhh\", \"@inddhh\", \"@thecliniccl\", \"abajo\", \"abrazo\", \"abrazo\", \"abrazo\", \"abrazo!\", \"absolutamente\", \"ac\", \"acuerdo\", \"acuerdo\", \"acuerdo\", \"acuerdo\", \"acuerdo,\", \"acuerdo.\", \"acusaci\\u00f3n\", \"acusaci\\u00f3n\", \"acusaci\\u00f3n\", \"acusaci\\u00f3n\", \"adelante\", \"adem\\u00e1s,\", \"afp\", \"agenda\", \"agenda\", \"ahora\", \"ahora\", \"ahora\", \"ahora\", \"ah\\u00ed\", \"ah\\u00ed\", \"ah\\u00ed\", \"ah\\u00ed\", \"ambos\", \"amiga\", \"amigos\", \"amo\", \"amor\", \"andr\\u00e9s\", \"aprobamos\", \"aprob\\u00f3\", \"as\\u00ed\", \"as\\u00ed\", \"as\\u00ed\", \"as\\u00ed\", \"ayuda\", \"a\\u00f1os\", \"a\\u00f1os\", \"a\\u00f1os\", \"a\\u00f1os\", \"bien\", \"bien\", \"bien\", \"bien\", \"bot\", \"buena\", \"buena\", \"buena\", \"buena\", \"cada\", \"cada\", \"cada\", \"cada\", \"cambios\", \"capaces\", \"carabineros\", \"carabineros\", \"carabineros\", \"carta\", \"cerca\", \"cero\", \"chile\", \"chile\", \"chile\", \"chile\", \"cierto\", \"clave\", \"cnn\", \"comisi\\u00f3n\", \"comisi\\u00f3n\", \"compromiso\", \"constitucional\", \"constituci\\u00f3n\", \"constituci\\u00f3n\", \"constituyente\", \"constituyente\", \"contexto\", \"convenci\\u00f3n\", \"cosas.\", \"cotizaciones\", \"creo\", \"creo\", \"creo\", \"creo\", \"cuatro\", \"cu\\u00e1l\", \"c\\u00f3mo\", \"c\\u00f3mo\", \"c\\u00f3mo\", \"c\\u00f3mo\", \"d\", \"d\", \"d\", \"d\", \"da\", \"da\", \"da\", \"da\", \"darle\", \"ddhh\", \"ddhh\", \"ddhh\", \"ddhh\", \"ddhh,\", \"debe\", \"debe\", \"debe\", \"debe\", \"derechos\", \"derechos\", \"detenido\", \"dice\", \"dice\", \"dice\", \"dice\", \"diciembre\", \"dieta\", \"dignidad\", \"dignidad\", \"direcci\\u00f3n\", \"dm\", \"dm\", \"d\\u00eda\", \"d\\u00eda\", \"d\\u00eda\", \"d\\u00eda\", \"d\\u00edas\", \"d\\u00edas\", \"d\\u00edas\", \"d\\u00edas\", \"d\\u00edas.\", \"edad\", \"elecciones\", \"encuentro\", \"equipo\", \"error\", \"es.\", \"espacio\", \"espacio\", \"espacio\", \"esto?\", \"ex\", \"explicar\", \"fa\", \"felicitaciones\", \"fiscal\", \"forma\", \"forma\", \"forma\", \"forma\", \"frase\", \"f\\u00e1cil\", \"gente\", \"gente\", \"gente\", \"gente\", \"gobierno\", \"gobierno\", \"gobierno\", \"gobierno\", \"gracias\", \"gracias\", \"gracias\", \"gracias!\", \"gracias!!\", \"gracias!!!\", \"gran\", \"gran\", \"gran\", \"gran\", \"grande\", \"grande\", \"grave\", \"graves\", \"hace\", \"hace\", \"hace\", \"hace\", \"hacer\", \"hacer\", \"hacer\", \"hacer\", \"hecho\", \"hecho\", \"hecho\", \"hecho\", \"hechos\", \"hija\", \"historia\", \"historia\", \"historia\", \"historia\", \"hombres\", \"honor\", \"hoy\", \"hoy\", \"hoy\", \"hoy\", \"humanos\", \"humanos,\", \"humanos.\", \"humanos.\", \"implica\", \"importante\", \"importante\", \"importante\", \"impunidad\", \"impunidad\", \"impunidad\", \"inaceptable\", \"informes\", \"intenci\\u00f3n\", \"internacional\", \"invitado\", \"jajaja\", \"jajajaja\", \"jorge\", \"leer\", \"lenguaje\", \"ley\", \"ley\", \"ley\", \"ley\", \"link\", \"lleva\", \"lograr\", \"lucha\", \"lucha\", \"lucha\", \"manifestaci\\u00f3n\", \"mas\", \"mas\", \"mas\", \"ma\\u00f1ana\", \"ma\\u00f1ana\", \"ma\\u00f1ana\", \"ma\\u00f1ana\", \"mecanismo\", \"menos\", \"menos\", \"menos\", \"menos\", \"mensaje\", \"mes\", \"mil\", \"mil\", \"mismo\", \"mismo\", \"mismo\", \"mismo\", \"muchas\", \"muchas\", \"muchas\", \"mujeres\", \"mujeres\", \"mujeres\", \"mujeres\", \"m\\u00ednimo\", \"m\\u00ednimo\", \"nan\", \"ninguno\", \"ni\\u00f1as\", \"ni\\u00f1as\", \"ni\\u00f1as\", \"ni\\u00f1os\", \"ni\\u00f1os\", \"ni\\u00f1os\", \"nna\", \"nna\", \"nna\", \"no.\", \"no.\", \"no.\", \"nueva\", \"nueva\", \"nueva\", \"nueva\", \"nunca\", \"nunca\", \"nunca\", \"nunca\", \"ojo\", \"ojo\", \"opci\\u00f3n\", \"pacto\", \"parte\", \"parte\", \"parte\", \"parte\", \"participaci\\u00f3n\", \"participar\", \"pas\\u00f3\", \"paz\", \"paz\", \"paz\", \"pa\\u00edses\", \"pedimos\", \"pedir\", \"pega\", \"pensiones\", \"pensi\\u00f3n\", \"perder\", \"perdi\\u00f3\", \"personas\", \"personas\", \"personas\", \"personas\", \"pidiendo\", \"pinochet\", \"pi\\u00f1era\", \"pi\\u00f1era\", \"pi\\u00f1era\", \"pi\\u00f1era\", \"pi\\u00f1era.\", \"plaza\", \"plaza\", \"plebiscito\", \"plebiscito\", \"plebiscito\", \"poder\", \"poder\", \"poder\", \"pod\\u00eda\", \"posibilidad\", \"presidente\", \"presidente\", \"presidente\", \"presidente\", \"primer\", \"proceso\", \"proceso\", \"programa\", \"pronto\", \"propuestas\", \"proyecto\", \"proyecto\", \"proyecto\", \"proyecto\", \"pueblo\", \"pueblo\", \"pueblo\", \"pueblo\", \"pueblos\", \"pueblos\", \"puede\", \"puede\", \"puede\", \"puede\", \"puntos\", \"q\", \"q\", \"q\", \"q\", \"queda\", \"queda\", \"queda\", \"quede\", \"querido\", \"radio\", \"rebaja\", \"rechazamos\", \"regalo\", \"resto\", \"saca\", \"salida\", \"sangre\", \"saqueo\", \"seguir\", \"seguir\", \"seguir\", \"seguir\", \"seguro\", \"semanas\", \"sename\", \"sename\", \"sename\", \"ser\", \"ser\", \"ser\", \"ser\", \"servicio\", \"si\", \"si\", \"si\", \"si\", \"si,\", \"si,\", \"si,\", \"sido\", \"sido\", \"sido\", \"siempre\", \"siempre\", \"siempre\", \"siempre\", \"siento\", \"sigue\", \"sigue\", \"sigue\", \"sigue\", \"sl2\", \"sl2\", \"social\", \"social\", \"social\", \"social\", \"solo\", \"solo\", \"solo\", \"solo\", \"subir\", \"s\\u00ed,\", \"s\\u00f3lo\", \"s\\u00f3lo\", \"s\\u00f3lo\", \"s\\u00f3lo\", \"tan\", \"tan\", \"tan\", \"tan\", \"tema\", \"tener\", \"tener\", \"tener\", \"tener\", \"texto\", \"todas\", \"todas\", \"todas\", \"todas\", \"totalmente\", \"trabajo\", \"trabajo\", \"trabajo\", \"tremenda\", \"tremendo\", \"tribunales\", \"u\", \"udi\", \"urgencia\", \"va\", \"va\", \"va\", \"va\", \"valent\\u00eda\", \"verdad,\", \"vez\", \"vez\", \"vez\", \"vez\", \"vida\", \"vida\", \"vida\", \"vida\", \"video\", \"violaciones\", \"violaciones\", \"violaciones\", \"violador\", \"violencia\", \"violencia\", \"violencia\", \"violencia\", \"vista\", \"volver\", \"votos\", \"voy\", \"voy\", \"voy\", \"v\\u00eda\", \"v\\u00eda\", \"v\\u00eda\", \"v\\u00eda\", \"x\", \"x\", \"x\", \"x\", \"\\u00bfy\"]}, \"R\": 30, \"lambda.step\": 0.01, \"plot.opts\": {\"xlab\": \"PC1\", \"ylab\": \"PC2\"}, \"topic.order\": [1, 2, 3, 4]};\n",
       "\n",
       "function LDAvis_load_lib(url, callback){\n",
       "  var s = document.createElement('script');\n",
       "  s.src = url;\n",
       "  s.async = true;\n",
       "  s.onreadystatechange = s.onload = callback;\n",
       "  s.onerror = function(){console.warn(\"failed to load library \" + url);};\n",
       "  document.getElementsByTagName(\"head\")[0].appendChild(s);\n",
       "}\n",
       "\n",
       "if(typeof(LDAvis) !== \"undefined\"){\n",
       "   // already loaded: just create the visualization\n",
       "   !function(LDAvis){\n",
       "       new LDAvis(\"#\" + \"ldavis_el42851122126655924372347333\", ldavis_el42851122126655924372347333_data);\n",
       "   }(LDAvis);\n",
       "}else if(typeof define === \"function\" && define.amd){\n",
       "   // require.js is available: use it to load d3/LDAvis\n",
       "   require.config({paths: {d3: \"https://cdnjs.cloudflare.com/ajax/libs/d3/3.5.5/d3.min\"}});\n",
       "   require([\"d3\"], function(d3){\n",
       "      window.d3 = d3;\n",
       "      LDAvis_load_lib(\"https://cdn.rawgit.com/bmabey/pyLDAvis/files/ldavis.v1.0.0.js\", function(){\n",
       "        new LDAvis(\"#\" + \"ldavis_el42851122126655924372347333\", ldavis_el42851122126655924372347333_data);\n",
       "      });\n",
       "    });\n",
       "}else{\n",
       "    // require.js not available: dynamically load d3 & LDAvis\n",
       "    LDAvis_load_lib(\"https://cdnjs.cloudflare.com/ajax/libs/d3/3.5.5/d3.min.js\", function(){\n",
       "         LDAvis_load_lib(\"https://cdn.rawgit.com/bmabey/pyLDAvis/files/ldavis.v1.0.0.js\", function(){\n",
       "                 new LDAvis(\"#\" + \"ldavis_el42851122126655924372347333\", ldavis_el42851122126655924372347333_data);\n",
       "            })\n",
       "         });\n",
       "}\n",
       "</script>"
      ],
      "text/plain": [
       "PreparedData(topic_coordinates=                x           y  topics  cluster       Freq\n",
       "topic                                                    \n",
       "0       46.452332 -212.462891       1        1  49.570049\n",
       "1      130.574280 -342.558167       2        1  16.947027\n",
       "2      260.682495 -258.455902       3        1  16.874678\n",
       "3      176.560501 -128.360901       4        1  16.608248, topic_info=      Category        Freq            Term       Total  loglift  logprob\n",
       "term                                                                    \n",
       "199    Default  146.000000               q  146.000000  30.0000  30.0000\n",
       "806    Default   37.000000        derechos   37.000000  29.0000  29.0000\n",
       "202    Default   97.000000              si   97.000000  28.0000  28.0000\n",
       "532    Default  154.000000         gracias  154.000000  27.0000  27.0000\n",
       "9363   Default   28.000000     violaciones   28.000000  26.0000  26.0000\n",
       "1102   Default   17.000000             nan   17.000000  25.0000  25.0000\n",
       "1205   Default   29.000000         acuerdo   29.000000  24.0000  24.0000\n",
       "862    Default   15.000000         humanos   15.000000  23.0000  23.0000\n",
       "5457   Default   22.000000    constitución   22.000000  22.0000  22.0000\n",
       "445    Default   42.000000               d   42.000000  21.0000  21.0000\n",
       "472    Default   37.000000            debe   37.000000  20.0000  20.0000\n",
       "225    Default   26.000000               x   26.000000  19.0000  19.0000\n",
       "7190   Default   12.000000   constituyente   12.000000  18.0000  18.0000\n",
       "7351   Default   31.000000           @cidh   31.000000  17.0000  17.0000\n",
       "684    Default   11.000000          jajaja   11.000000  16.0000  16.0000\n",
       "5443   Default   47.000000        dignidad   47.000000  15.0000  15.0000\n",
       "1659   Default   21.000000        comisión   21.000000  14.0000  14.0000\n",
       "606    Default   62.000000             ser   62.000000  13.0000  13.0000\n",
       "941    Default   24.000000         siempre   24.000000  12.0000  12.0000\n",
       "2648   Default   10.000000  constitucional   10.000000  11.0000  11.0000\n",
       "1709   Default   25.000000            ddhh   25.000000  10.0000  10.0000\n",
       "172    Default   58.000000             hoy   58.000000   9.0000   9.0000\n",
       "17783  Default    9.000000        violador    9.000000   8.0000   8.0000\n",
       "1025   Default   15.000000        proyecto   15.000000   7.0000   7.0000\n",
       "431    Default   51.000000        gobierno   51.000000   6.0000   6.0000\n",
       "501    Default   29.000000           parte   29.000000   5.0000   5.0000\n",
       "736    Default   24.000000           nueva   24.000000   4.0000   4.0000\n",
       "9213   Default   21.000000             bot   21.000000   3.0000   3.0000\n",
       "841    Default    9.000000       pensiones    9.000000   2.0000   2.0000\n",
       "3374   Default   12.000000           queda   12.000000   1.0000   1.0000\n",
       "...        ...         ...             ...         ...      ...      ...\n",
       "2331    Topic4    3.334380      convención    3.704631   1.6900  -7.0753\n",
       "202     Topic4   45.174389              si   97.942329   1.0214  -4.4691\n",
       "1057    Topic4    7.722016      importante   10.609884   1.4776  -6.2355\n",
       "2365    Topic4    7.514506         proceso   10.323678   1.4777  -6.2628\n",
       "472     Topic4   18.510160            debe   37.049881   1.1013  -5.3613\n",
       "1709    Topic4   13.801139            ddhh   25.946461   1.1640  -5.6549\n",
       "941     Topic4   13.114173         siempre   24.551378   1.1682  -5.7059\n",
       "864     Topic4    8.635473           niñas   13.575723   1.3429  -6.1237\n",
       "1203    Topic4    6.430801             sl2    9.183420   1.4390  -6.4185\n",
       "736     Topic4   11.207990           nueva   24.093285   1.0300  -5.8630\n",
       "606     Topic4   19.594021             ser   62.188938   0.6403  -5.3044\n",
       "445     Topic4   15.328329               d   42.001434   0.7873  -5.5499\n",
       "3510    Topic4    5.063317       impunidad    6.667912   1.5200  -6.6576\n",
       "681     Topic4    7.448863           tener   14.728451   1.1136  -6.2715\n",
       "2380    Topic4   10.647786     carabineros   31.691483   0.7046  -5.9143\n",
       "62      Topic4    8.701563           hacer   20.993210   0.9146  -6.1161\n",
       "480     Topic4    7.775446           niños   17.098574   1.0072  -6.2286\n",
       "199     Topic4   18.853430               q  146.517273  -0.2552  -5.3429\n",
       "375     Topic4    9.027306        personas   28.221579   0.6554  -6.0793\n",
       "590     Topic4    6.913335            sido   14.691806   1.0414  -6.3462\n",
       "172     Topic4   11.803576             hoy   58.467789   0.1952  -5.8112\n",
       "431     Topic4   11.216840        gobierno   51.819447   0.2649  -5.8622\n",
       "382     Topic4    8.142241           todas   23.881517   0.7192  -6.1825\n",
       "198     Topic4    9.459104           puede   42.026955   0.3039  -6.0326\n",
       "526     Topic4    8.958261       violencia   37.968357   0.3511  -6.0870\n",
       "188     Topic4    9.728382           chile   63.670170  -0.0834  -6.0046\n",
       "59      Topic4    8.173082           ahora   35.992119   0.3128  -6.1788\n",
       "164     Topic4    7.474682             vez   22.800604   0.6800  -6.2681\n",
       "154     Topic4    7.698738            cada   33.378700   0.3284  -6.2385\n",
       "800     Topic4    7.584251          muchas   27.983078   0.4897  -6.2535\n",
       "\n",
       "[319 rows x 6 columns], token_table=       Topic      Freq                    Term\n",
       "term                                          \n",
       "11384      2  0.771101  #asambleaconstituyente\n",
       "11384      3  0.192775  #asambleaconstituyente\n",
       "15114      1  1.021233      #nuevaconstitucion\n",
       "6390       1  0.990966      #nuevaconstitución\n",
       "41576      4  0.983003              #platatatá\n",
       "1204       1  0.878684                       1\n",
       "1204       2  0.109835                       1\n",
       "1669       2  1.048700                      1.\n",
       "5015       3  0.824135                      10\n",
       "3303       3  1.044412                    100%\n",
       "2208       1  1.040998                    2019\n",
       "2696       1  1.000213                       7\n",
       "2617       1  1.016319                       8\n",
       "7351       1  0.998920                   @cidh\n",
       "6211       3  0.867198               @cnnchile\n",
       "1700       2  0.961786            @cooperativa\n",
       "6668       2  0.133669                @gblumel\n",
       "6668       3  0.935680                @gblumel\n",
       "3163       3  0.848664                 @inddhh\n",
       "3163       4  0.169733                 @inddhh\n",
       "7200       1  1.007227            @thecliniccl\n",
       "6607       4  0.873281                   abajo\n",
       "406        1  0.619738                  abrazo\n",
       "406        2  0.333705                  abrazo\n",
       "406        3  0.047672                  abrazo\n",
       "4602       3  0.825696                 abrazo!\n",
       "9332       3  1.044709           absolutamente\n",
       "17550      2  0.870323                      ac\n",
       "1205       1  0.034291                 acuerdo\n",
       "1205       2  0.720102                 acuerdo\n",
       "...      ...       ...                     ...\n",
       "164        3  0.175434                     vez\n",
       "164        4  0.307009                     vez\n",
       "282        1  0.746197                    vida\n",
       "282        2  0.062183                    vida\n",
       "282        3  0.062183                    vida\n",
       "282        4  0.124366                    vida\n",
       "5596       3  0.892879                   video\n",
       "9363       2  0.105858             violaciones\n",
       "9363       3  0.070572             violaciones\n",
       "9363       4  0.846868             violaciones\n",
       "17783      2  0.962987                violador\n",
       "526        1  0.658443               violencia\n",
       "526        2  0.079013               violencia\n",
       "526        3  0.026338               violencia\n",
       "526        4  0.237039               violencia\n",
       "3459       2  0.897835                   vista\n",
       "9018       4  0.776399                  volver\n",
       "4101       2  0.859437                   votos\n",
       "129        1  0.117014                     voy\n",
       "129        2  0.819101                     voy\n",
       "129        4  0.117014                     voy\n",
       "995        1  0.682092                     vía\n",
       "995        2  0.218270                     vía\n",
       "995        3  0.054567                     vía\n",
       "995        4  0.027284                     vía\n",
       "225        1  0.037837                       x\n",
       "225        2  0.113511                       x\n",
       "225        3  0.643227                       x\n",
       "225        4  0.227021                       x\n",
       "165        1  0.989883                      ¿y\n",
       "\n",
       "[506 rows x 3 columns], R=30, lambda_step=0.01, plot_opts={'xlab': 'PC1', 'ylab': 'PC2'}, topic_order=[1, 2, 3, 4])"
      ]
     },
     "execution_count": 54,
     "metadata": {},
     "output_type": "execute_result"
    }
   ],
   "source": [
    "pyLDAvis.enable_notebook()\n",
    "panel = pyLDAvis.gensim.prepare(lda, corpus_lda, dictionary, mds='tsne')\n",
    "panel"
   ]
  },
  {
   "cell_type": "markdown",
   "metadata": {},
   "source": [
    "**Figure 5. Topic Analysis** This plot involves two subplots. On the left, we have our different topic clusters from above and a measure of how similar they are to one another (ie: how close). On the right, we have a plot that highlights the role of each term in any of the 4 clusters if you mouse over it. Together, they tell us about how clusters interact (ie: patterns like how they clearly took different points on the axes to tell us that the algorithm identified mostly distrinct clusters but also the most salient terms in each topic. Cluster 1) talks about a lot of 'nicer' words than the other 3 but is still quite mixed, 2) talks about the government and president, 3) focuses on less signficant supporting words, and 4) discusses human rights/violence/children.\n",
    "\n",
    "<a id=\"sec3-2\"></a>"
   ]
  },
  {
   "cell_type": "markdown",
   "metadata": {},
   "source": [
    "## 4) Reflection\n",
    "<a id=\"sec4\"></a>\n",
    "Overall, I enjoyed this project even though sometimes it was a little hard to understand all of the moving parts I'd have to put forward. I think the most challenging things for me were importing all the necessary packages related to the harder modeling that I wanted to do and finding a good way to access a sentiment analysis package that supports the spanish language. I also found it challenging to create some specific features like the hashtag distribution over days because it required some serious transformation of the data.\n",
    "\n",
    "My steps were the following:\n",
    "    1. Process the data and make a dataframe with relevant new variables\n",
    "    2. Create exploratory visualizations to understand new things about the data\n",
    "    3. Conduct a hypothesis test based on sentiment analysis of tweets by gender to see whether men or women tweet more positive content. \n",
    "       Answer: women\n",
    "    4. Implement LDA topic modeling to examine natural clusters of topics in the data.\n",
    "    \n",
    "    \n",
    "My analysis told me that topics that matter to these Chileans during the protests are the president, violence against children/women, human rights, and constitucional issues. Through my early visualization of hashtag popularity over time, you can see that they do indeed shift in popularity over time, perhaps as more and more conversations are taking place outside of Twitter or possibly in the event that there are some outside forces meddling in their communication. It would be interesting to do some investigation of this and of how both sides of the spectrum interact with each other going forward."
   ]
  },
  {
   "cell_type": "code",
   "execution_count": null,
   "metadata": {},
   "outputs": [],
   "source": []
  }
 ],
 "metadata": {
  "kernelspec": {
   "display_name": "Python 3",
   "language": "python",
   "name": "python3"
  },
  "language_info": {
   "codemirror_mode": {
    "name": "ipython",
    "version": 3
   },
   "file_extension": ".py",
   "mimetype": "text/x-python",
   "name": "python",
   "nbconvert_exporter": "python",
   "pygments_lexer": "ipython3",
   "version": "3.6.5"
  }
 },
 "nbformat": 4,
 "nbformat_minor": 2
}
